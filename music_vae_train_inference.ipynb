{
 "cells": [
  {
   "cell_type": "markdown",
   "id": "512428bb-72dd-4b0c-8d57-189fd635289e",
   "metadata": {},
   "source": [
    "# Music VAE\n",
    "\n",
    "Recurrent VAE + Novel Hierarchical Decoder\n",
    "\n",
    "VAE : Input $x$ 를 잘 설명하는 Feature 를 추출하여 Latent Vector(Representation) $z$ 에 담은 뒤, 이 Latent Vector $z$ 를 통해 $x$ 와 유사하지만 새로운 데이터를 생성하는 것을 목표로 하는 AutoEncoder 의 변형\n",
    "\n",
    "Recurrent VAE : VAE 의 Encoder 와 Decoder 로 RNN 을 적용 -> long-term dependencies 문제로 LSTM 으로 교체\n",
    "\n",
    "Music VAE : 여전한 Long sequence 에 대한 성능 저하를 Novel Hierarchical Decoder 구조를 사용하여 해결할 수 있는 Network"
   ]
  },
  {
   "cell_type": "markdown",
   "id": "a71c3a28-b1f9-4e3b-b736-b6daa6ed924f",
   "metadata": {
    "tags": []
   },
   "source": [
    "# Dependencies\n",
    "\n",
    "- python3.8\n",
    "- pip==21.1.3\n",
    "- setuptools==57.4.0\n",
    "- magenta==2.1.0"
   ]
  },
  {
   "cell_type": "code",
   "execution_count": 19,
   "id": "4ed0f521-69a6-4723-9e61-5a9683aa1438",
   "metadata": {
    "scrolled": true,
    "tags": []
   },
   "outputs": [
    {
     "name": "stdout",
     "output_type": "stream",
     "text": [
      "Collecting magenta==2.1.0\n",
      "  Using cached magenta-2.1.0-py3-none-any.whl (1.4 MB)\n",
      "Collecting pygtrie>=2.3\n",
      "  Using cached pygtrie-2.5.0-py3-none-any.whl (25 kB)\n",
      "Requirement already satisfied: numba<0.50 in ./venv/lib/python3.8/site-packages (from magenta==2.1.0) (0.49.1)\n",
      "Requirement already satisfied: six>=1.12.0 in ./venv/lib/python3.8/site-packages (from magenta==2.1.0) (1.16.0)\n",
      "Requirement already satisfied: wheel in ./venv/lib/python3.8/site-packages (from magenta==2.1.0) (0.38.4)\n",
      "Requirement already satisfied: tensor2tensor in ./venv/lib/python3.8/site-packages (from magenta==2.1.0) (1.15.7)\n",
      "Collecting python-rtmidi<1.2,>=1.1\n",
      "  Using cached python-rtmidi-1.1.2.tar.gz (204 kB)\n",
      "Requirement already satisfied: Pillow>=3.4.2 in ./venv/lib/python3.8/site-packages (from magenta==2.1.0) (9.3.0)\n",
      "Requirement already satisfied: absl-py in ./venv/lib/python3.8/site-packages (from magenta==2.1.0) (1.3.0)\n",
      "Requirement already satisfied: tensorflow in ./venv/lib/python3.8/site-packages (from magenta==2.1.0) (2.11.0)\n",
      "Requirement already satisfied: tensorflow-datasets in ./venv/lib/python3.8/site-packages (from magenta==2.1.0) (4.7.0)\n",
      "Requirement already satisfied: tensorflow-probability in ./venv/lib/python3.8/site-packages (from magenta==2.1.0) (0.7.0)\n",
      "Requirement already satisfied: mido==1.2.6 in ./venv/lib/python3.8/site-packages (from magenta==2.1.0) (1.2.6)\n",
      "Collecting mir-eval>=0.4\n",
      "  Using cached mir_eval-0.7-py3-none-any.whl\n",
      "Requirement already satisfied: tf-slim in ./venv/lib/python3.8/site-packages (from magenta==2.1.0) (1.1.0)\n",
      "Requirement already satisfied: numpy in ./venv/lib/python3.8/site-packages (from magenta==2.1.0) (1.22.4)\n",
      "Collecting dm-sonnet\n",
      "  Using cached dm_sonnet-2.0.0-py3-none-any.whl (254 kB)\n",
      "Requirement already satisfied: sk-video in ./venv/lib/python3.8/site-packages (from magenta==2.1.0) (1.1.10)\n",
      "Requirement already satisfied: pretty-midi>=0.2.6 in ./venv/lib/python3.8/site-packages (from magenta==2.1.0) (0.2.9)\n",
      "Requirement already satisfied: scipy>=0.18.1 in ./venv/lib/python3.8/site-packages (from magenta==2.1.0) (1.9.3)\n",
      "Requirement already satisfied: librosa>=0.6.2 in ./venv/lib/python3.8/site-packages (from magenta==2.1.0) (0.9.2)\n",
      "Requirement already satisfied: apache-beam[gcp]>=2.14.0 in ./venv/lib/python3.8/site-packages (from magenta==2.1.0) (2.43.0)\n",
      "Requirement already satisfied: sox>=1.3.7 in ./venv/lib/python3.8/site-packages (from magenta==2.1.0) (1.4.1)\n",
      "Collecting imageio\n",
      "  Using cached imageio-2.22.4-py3-none-any.whl (3.4 MB)\n",
      "Requirement already satisfied: matplotlib>=1.5.3 in ./venv/lib/python3.8/site-packages (from magenta==2.1.0) (3.6.2)\n",
      "Collecting note-seq\n",
      "  Using cached note_seq-0.0.5-py3-none-any.whl (209 kB)\n",
      "Requirement already satisfied: proto-plus<2,>=1.7.1 in ./venv/lib/python3.8/site-packages (from apache-beam[gcp]>=2.14.0->magenta==2.1.0) (1.22.1)\n",
      "Requirement already satisfied: cloudpickle~=2.2.0 in ./venv/lib/python3.8/site-packages (from apache-beam[gcp]>=2.14.0->magenta==2.1.0) (2.2.0)\n",
      "Requirement already satisfied: grpcio!=1.48.0,<2,>=1.33.1 in ./venv/lib/python3.8/site-packages (from apache-beam[gcp]>=2.14.0->magenta==2.1.0) (1.51.1)\n",
      "Requirement already satisfied: fastavro<2,>=0.23.6 in ./venv/lib/python3.8/site-packages (from apache-beam[gcp]>=2.14.0->magenta==2.1.0) (1.7.0)\n",
      "Requirement already satisfied: zstandard<1,>=0.18.0 in ./venv/lib/python3.8/site-packages (from apache-beam[gcp]>=2.14.0->magenta==2.1.0) (0.19.0)\n",
      "Requirement already satisfied: orjson<4.0 in ./venv/lib/python3.8/site-packages (from apache-beam[gcp]>=2.14.0->magenta==2.1.0) (3.8.3)\n",
      "Requirement already satisfied: requests<3.0.0,>=2.24.0 in ./venv/lib/python3.8/site-packages (from apache-beam[gcp]>=2.14.0->magenta==2.1.0) (2.28.1)\n",
      "Requirement already satisfied: pyarrow<10.0.0,>=0.15.1 in ./venv/lib/python3.8/site-packages (from apache-beam[gcp]>=2.14.0->magenta==2.1.0) (9.0.0)\n",
      "Requirement already satisfied: protobuf<4,>3.12.2 in ./venv/lib/python3.8/site-packages (from apache-beam[gcp]>=2.14.0->magenta==2.1.0) (3.19.6)\n",
      "Requirement already satisfied: dill<0.3.2,>=0.3.1.1 in ./venv/lib/python3.8/site-packages (from apache-beam[gcp]>=2.14.0->magenta==2.1.0) (0.3.1.1)\n",
      "Requirement already satisfied: crcmod<2.0,>=1.7 in ./venv/lib/python3.8/site-packages (from apache-beam[gcp]>=2.14.0->magenta==2.1.0) (1.7)\n",
      "Requirement already satisfied: python-dateutil<3,>=2.8.0 in ./venv/lib/python3.8/site-packages (from apache-beam[gcp]>=2.14.0->magenta==2.1.0) (2.8.2)\n",
      "Requirement already satisfied: pymongo<4.0.0,>=3.8.0 in ./venv/lib/python3.8/site-packages (from apache-beam[gcp]>=2.14.0->magenta==2.1.0) (3.13.0)\n",
      "Requirement already satisfied: objsize<0.6.0,>=0.5.2 in ./venv/lib/python3.8/site-packages (from apache-beam[gcp]>=2.14.0->magenta==2.1.0) (0.5.2)\n",
      "Requirement already satisfied: pydot<2,>=1.2.0 in ./venv/lib/python3.8/site-packages (from apache-beam[gcp]>=2.14.0->magenta==2.1.0) (1.4.2)\n",
      "Requirement already satisfied: fasteners<1.0,>=0.3 in ./venv/lib/python3.8/site-packages (from apache-beam[gcp]>=2.14.0->magenta==2.1.0) (0.18)\n",
      "Requirement already satisfied: hdfs<3.0.0,>=2.1.0 in ./venv/lib/python3.8/site-packages (from apache-beam[gcp]>=2.14.0->magenta==2.1.0) (2.7.0)\n",
      "Requirement already satisfied: pytz>=2018.3 in ./venv/lib/python3.8/site-packages (from apache-beam[gcp]>=2.14.0->magenta==2.1.0) (2022.6)\n",
      "Requirement already satisfied: regex>=2020.6.8 in ./venv/lib/python3.8/site-packages (from apache-beam[gcp]>=2.14.0->magenta==2.1.0) (2022.10.31)\n",
      "Requirement already satisfied: typing-extensions>=3.7.0 in ./venv/lib/python3.8/site-packages (from apache-beam[gcp]>=2.14.0->magenta==2.1.0) (4.4.0)\n",
      "Requirement already satisfied: httplib2<0.21.0,>=0.8 in ./venv/lib/python3.8/site-packages (from apache-beam[gcp]>=2.14.0->magenta==2.1.0) (0.20.4)\n",
      "Requirement already satisfied: google-cloud-language<2,>=1.3.0 in ./venv/lib/python3.8/site-packages (from apache-beam[gcp]>=2.14.0->magenta==2.1.0) (1.3.2)\n",
      "Requirement already satisfied: google-cloud-bigquery<4,>=1.6.0 in ./venv/lib/python3.8/site-packages (from apache-beam[gcp]>=2.14.0->magenta==2.1.0) (3.4.0)\n",
      "Requirement already satisfied: cachetools<5,>=3.1.0 in ./venv/lib/python3.8/site-packages (from apache-beam[gcp]>=2.14.0->magenta==2.1.0) (4.2.4)\n",
      "Requirement already satisfied: google-cloud-bigquery-storage<2.14,>=2.6.3 in ./venv/lib/python3.8/site-packages (from apache-beam[gcp]>=2.14.0->magenta==2.1.0) (2.13.2)\n",
      "Requirement already satisfied: google-cloud-vision<2,>=0.38.0 in ./venv/lib/python3.8/site-packages (from apache-beam[gcp]>=2.14.0->magenta==2.1.0) (1.0.2)\n",
      "Requirement already satisfied: google-cloud-pubsublite<2,>=1.2.0 in ./venv/lib/python3.8/site-packages (from apache-beam[gcp]>=2.14.0->magenta==2.1.0) (1.6.0)\n",
      "Requirement already satisfied: google-cloud-dlp<4,>=3.0.0 in ./venv/lib/python3.8/site-packages (from apache-beam[gcp]>=2.14.0->magenta==2.1.0) (3.9.2)\n",
      "Requirement already satisfied: google-auth<3,>=1.18.0 in ./venv/lib/python3.8/site-packages (from apache-beam[gcp]>=2.14.0->magenta==2.1.0) (2.15.0)\n",
      "Requirement already satisfied: google-cloud-datastore<2,>=1.8.0 in ./venv/lib/python3.8/site-packages (from apache-beam[gcp]>=2.14.0->magenta==2.1.0) (1.15.5)\n",
      "Requirement already satisfied: google-auth-httplib2<0.2.0,>=0.1.0 in ./venv/lib/python3.8/site-packages (from apache-beam[gcp]>=2.14.0->magenta==2.1.0) (0.1.0)\n",
      "Requirement already satisfied: google-cloud-spanner<4,>=3.0.0 in ./venv/lib/python3.8/site-packages (from apache-beam[gcp]>=2.14.0->magenta==2.1.0) (3.24.0)\n",
      "Requirement already satisfied: google-cloud-pubsub<3,>=2.1.0 in ./venv/lib/python3.8/site-packages (from apache-beam[gcp]>=2.14.0->magenta==2.1.0) (2.13.11)\n",
      "Requirement already satisfied: google-cloud-videointelligence<2,>=1.8.0 in ./venv/lib/python3.8/site-packages (from apache-beam[gcp]>=2.14.0->magenta==2.1.0) (1.16.3)\n",
      "Requirement already satisfied: google-apitools<0.5.32,>=0.5.31 in ./venv/lib/python3.8/site-packages (from apache-beam[gcp]>=2.14.0->magenta==2.1.0) (0.5.31)\n",
      "Requirement already satisfied: google-cloud-bigtable<2,>=0.31.1 in ./venv/lib/python3.8/site-packages (from apache-beam[gcp]>=2.14.0->magenta==2.1.0) (1.7.3)\n",
      "Requirement already satisfied: google-cloud-recommendations-ai<0.8.0,>=0.1.0 in ./venv/lib/python3.8/site-packages (from apache-beam[gcp]>=2.14.0->magenta==2.1.0) (0.7.1)\n",
      "Requirement already satisfied: google-cloud-core<3,>=0.28.1 in ./venv/lib/python3.8/site-packages (from apache-beam[gcp]>=2.14.0->magenta==2.1.0) (2.3.2)\n",
      "Requirement already satisfied: oauth2client>=1.4.12 in ./venv/lib/python3.8/site-packages (from google-apitools<0.5.32,>=0.5.31->apache-beam[gcp]>=2.14.0->magenta==2.1.0) (4.1.3)\n",
      "Requirement already satisfied: rsa<5,>=3.1.4 in ./venv/lib/python3.8/site-packages (from google-auth<3,>=1.18.0->apache-beam[gcp]>=2.14.0->magenta==2.1.0) (4.9)\n",
      "Requirement already satisfied: pyasn1-modules>=0.2.1 in ./venv/lib/python3.8/site-packages (from google-auth<3,>=1.18.0->apache-beam[gcp]>=2.14.0->magenta==2.1.0) (0.2.8)\n",
      "Requirement already satisfied: google-resumable-media<3.0dev,>=0.6.0 in ./venv/lib/python3.8/site-packages (from google-cloud-bigquery<4,>=1.6.0->apache-beam[gcp]>=2.14.0->magenta==2.1.0) (2.4.0)\n",
      "Requirement already satisfied: google-api-core[grpc]!=2.0.*,!=2.1.*,!=2.2.*,!=2.3.0,<3.0.0dev,>=1.31.5 in ./venv/lib/python3.8/site-packages (from google-cloud-bigquery<4,>=1.6.0->apache-beam[gcp]>=2.14.0->magenta==2.1.0) (2.11.0)\n",
      "Requirement already satisfied: packaging<22.0.0dev,>=14.3 in ./venv/lib/python3.8/site-packages (from google-cloud-bigquery<4,>=1.6.0->apache-beam[gcp]>=2.14.0->magenta==2.1.0) (21.3)\n",
      "Requirement already satisfied: googleapis-common-protos<2.0dev,>=1.56.2 in ./venv/lib/python3.8/site-packages (from google-api-core[grpc]!=2.0.*,!=2.1.*,!=2.2.*,!=2.3.0,<3.0.0dev,>=1.31.5->google-cloud-bigquery<4,>=1.6.0->apache-beam[gcp]>=2.14.0->magenta==2.1.0) (1.57.0)\n",
      "Requirement already satisfied: grpcio-status<2.0dev,>=1.33.2 in ./venv/lib/python3.8/site-packages (from google-api-core[grpc]!=2.0.*,!=2.1.*,!=2.2.*,!=2.3.0,<3.0.0dev,>=1.31.5->google-cloud-bigquery<4,>=1.6.0->apache-beam[gcp]>=2.14.0->magenta==2.1.0) (1.48.2)\n",
      "Requirement already satisfied: grpc-google-iam-v1<0.13dev,>=0.12.3 in ./venv/lib/python3.8/site-packages (from google-cloud-bigtable<2,>=0.31.1->apache-beam[gcp]>=2.14.0->magenta==2.1.0) (0.12.4)\n",
      "Requirement already satisfied: overrides<7.0.0,>=6.0.1 in ./venv/lib/python3.8/site-packages (from google-cloud-pubsublite<2,>=1.2.0->apache-beam[gcp]>=2.14.0->magenta==2.1.0) (6.5.0)\n",
      "Requirement already satisfied: sqlparse>=0.3.0 in ./venv/lib/python3.8/site-packages (from google-cloud-spanner<4,>=3.0.0->apache-beam[gcp]>=2.14.0->magenta==2.1.0) (0.4.3)\n",
      "Requirement already satisfied: google-crc32c<2.0dev,>=1.0 in ./venv/lib/python3.8/site-packages (from google-resumable-media<3.0dev,>=0.6.0->google-cloud-bigquery<4,>=1.6.0->apache-beam[gcp]>=2.14.0->magenta==2.1.0) (1.5.0)\n",
      "Requirement already satisfied: docopt in ./venv/lib/python3.8/site-packages (from hdfs<3.0.0,>=2.1.0->apache-beam[gcp]>=2.14.0->magenta==2.1.0) (0.6.2)\n",
      "Requirement already satisfied: pyparsing!=3.0.0,!=3.0.1,!=3.0.2,!=3.0.3,<4,>=2.4.2 in ./venv/lib/python3.8/site-packages (from httplib2<0.21.0,>=0.8->apache-beam[gcp]>=2.14.0->magenta==2.1.0) (3.0.9)\n",
      "Requirement already satisfied: scikit-learn>=0.19.1 in ./venv/lib/python3.8/site-packages (from librosa>=0.6.2->magenta==2.1.0) (1.2.0)\n",
      "Requirement already satisfied: joblib>=0.14 in ./venv/lib/python3.8/site-packages (from librosa>=0.6.2->magenta==2.1.0) (1.2.0)\n",
      "Requirement already satisfied: audioread>=2.1.9 in ./venv/lib/python3.8/site-packages (from librosa>=0.6.2->magenta==2.1.0) (3.0.0)\n",
      "Requirement already satisfied: decorator>=4.0.10 in ./venv/lib/python3.8/site-packages (from librosa>=0.6.2->magenta==2.1.0) (5.1.1)\n",
      "Requirement already satisfied: soundfile>=0.10.2 in ./venv/lib/python3.8/site-packages (from librosa>=0.6.2->magenta==2.1.0) (0.11.0)\n",
      "Requirement already satisfied: resampy>=0.2.2 in ./venv/lib/python3.8/site-packages (from librosa>=0.6.2->magenta==2.1.0) (0.3.1)\n",
      "Requirement already satisfied: pooch>=1.0 in ./venv/lib/python3.8/site-packages (from librosa>=0.6.2->magenta==2.1.0) (1.6.0)\n",
      "Requirement already satisfied: kiwisolver>=1.0.1 in ./venv/lib/python3.8/site-packages (from matplotlib>=1.5.3->magenta==2.1.0) (1.4.4)\n",
      "Requirement already satisfied: cycler>=0.10 in ./venv/lib/python3.8/site-packages (from matplotlib>=1.5.3->magenta==2.1.0) (0.11.0)\n",
      "Requirement already satisfied: fonttools>=4.22.0 in ./venv/lib/python3.8/site-packages (from matplotlib>=1.5.3->magenta==2.1.0) (4.38.0)\n",
      "Requirement already satisfied: contourpy>=1.0.1 in ./venv/lib/python3.8/site-packages (from matplotlib>=1.5.3->magenta==2.1.0) (1.0.6)\n",
      "Requirement already satisfied: future in ./venv/lib/python3.8/site-packages (from mir-eval>=0.4->magenta==2.1.0) (0.18.2)\n",
      "Requirement already satisfied: llvmlite<=0.33.0.dev0,>=0.31.0.dev0 in ./venv/lib/python3.8/site-packages (from numba<0.50->magenta==2.1.0) (0.32.1)\n",
      "Requirement already satisfied: setuptools in ./venv/lib/python3.8/site-packages (from numba<0.50->magenta==2.1.0) (57.4.0)\n",
      "Requirement already satisfied: pyasn1>=0.1.7 in ./venv/lib/python3.8/site-packages (from oauth2client>=1.4.12->google-apitools<0.5.32,>=0.5.31->apache-beam[gcp]>=2.14.0->magenta==2.1.0) (0.4.8)\n",
      "Requirement already satisfied: appdirs>=1.3.0 in ./venv/lib/python3.8/site-packages (from pooch>=1.0->librosa>=0.6.2->magenta==2.1.0) (1.4.4)\n",
      "Requirement already satisfied: idna<4,>=2.5 in ./venv/lib/python3.8/site-packages (from requests<3.0.0,>=2.24.0->apache-beam[gcp]>=2.14.0->magenta==2.1.0) (3.4)\n",
      "Requirement already satisfied: urllib3<1.27,>=1.21.1 in ./venv/lib/python3.8/site-packages (from requests<3.0.0,>=2.24.0->apache-beam[gcp]>=2.14.0->magenta==2.1.0) (1.26.13)\n",
      "Requirement already satisfied: certifi>=2017.4.17 in ./venv/lib/python3.8/site-packages (from requests<3.0.0,>=2.24.0->apache-beam[gcp]>=2.14.0->magenta==2.1.0) (2022.12.7)\n",
      "Requirement already satisfied: charset-normalizer<3,>=2 in ./venv/lib/python3.8/site-packages (from requests<3.0.0,>=2.24.0->apache-beam[gcp]>=2.14.0->magenta==2.1.0) (2.1.1)\n",
      "Requirement already satisfied: threadpoolctl>=2.0.0 in ./venv/lib/python3.8/site-packages (from scikit-learn>=0.19.1->librosa>=0.6.2->magenta==2.1.0) (3.1.0)\n",
      "Requirement already satisfied: cffi>=1.0 in ./venv/lib/python3.8/site-packages (from soundfile>=0.10.2->librosa>=0.6.2->magenta==2.1.0) (1.15.1)\n",
      "Requirement already satisfied: pycparser in ./venv/lib/python3.8/site-packages (from cffi>=1.0->soundfile>=0.10.2->librosa>=0.6.2->magenta==2.1.0) (2.21)\n",
      "Requirement already satisfied: wrapt>=1.11.1 in ./venv/lib/python3.8/site-packages (from dm-sonnet->magenta==2.1.0) (1.14.1)\n",
      "Requirement already satisfied: dm-tree>=0.1.1 in ./venv/lib/python3.8/site-packages (from dm-sonnet->magenta==2.1.0) (0.1.7)\n",
      "Requirement already satisfied: tabulate>=0.7.5 in ./venv/lib/python3.8/site-packages (from dm-sonnet->magenta==2.1.0) (0.9.0)\n",
      "Requirement already satisfied: bokeh>=0.12.0 in ./venv/lib/python3.8/site-packages (from note-seq->magenta==2.1.0) (3.0.3)\n",
      "Requirement already satisfied: intervaltree>=2.1.0 in ./venv/lib/python3.8/site-packages (from note-seq->magenta==2.1.0) (3.1.0)\n",
      "  Using cached note_seq-0.0.4-py3-none-any.whl (205 kB)\n",
      "  Using cached note_seq-0.0.3-py3-none-any.whl (210 kB)\n",
      "Requirement already satisfied: pandas>=0.18.1 in ./venv/lib/python3.8/site-packages (from note-seq->magenta==2.1.0) (1.5.2)\n",
      "Requirement already satisfied: IPython in ./venv/lib/python3.8/site-packages (from note-seq->magenta==2.1.0) (8.7.0)\n",
      "Requirement already satisfied: pydub in ./venv/lib/python3.8/site-packages (from note-seq->magenta==2.1.0) (0.25.1)\n",
      "Requirement already satisfied: attrs in ./venv/lib/python3.8/site-packages (from note-seq->magenta==2.1.0) (22.1.0)\n",
      "Requirement already satisfied: PyYAML>=3.10 in ./venv/lib/python3.8/site-packages (from bokeh>=0.12.0->note-seq->magenta==2.1.0) (6.0)\n",
      "Requirement already satisfied: xyzservices>=2021.09.1 in ./venv/lib/python3.8/site-packages (from bokeh>=0.12.0->note-seq->magenta==2.1.0) (2022.9.0)\n",
      "Requirement already satisfied: Jinja2>=2.9 in ./venv/lib/python3.8/site-packages (from bokeh>=0.12.0->note-seq->magenta==2.1.0) (3.1.2)\n",
      "Requirement already satisfied: tornado>=5.1 in ./venv/lib/python3.8/site-packages (from bokeh>=0.12.0->note-seq->magenta==2.1.0) (6.2)\n",
      "Requirement already satisfied: sortedcontainers<3.0,>=2.0 in ./venv/lib/python3.8/site-packages (from intervaltree>=2.1.0->note-seq->magenta==2.1.0) (2.4.0)\n",
      "Requirement already satisfied: MarkupSafe>=2.0 in ./venv/lib/python3.8/site-packages (from Jinja2>=2.9->bokeh>=0.12.0->note-seq->magenta==2.1.0) (2.1.1)\n",
      "Requirement already satisfied: matplotlib-inline in ./venv/lib/python3.8/site-packages (from IPython->note-seq->magenta==2.1.0) (0.1.6)\n",
      "Requirement already satisfied: pexpect>4.3 in ./venv/lib/python3.8/site-packages (from IPython->note-seq->magenta==2.1.0) (4.8.0)\n",
      "Requirement already satisfied: backcall in ./venv/lib/python3.8/site-packages (from IPython->note-seq->magenta==2.1.0) (0.2.0)\n",
      "Requirement already satisfied: stack-data in ./venv/lib/python3.8/site-packages (from IPython->note-seq->magenta==2.1.0) (0.6.2)\n",
      "Requirement already satisfied: pickleshare in ./venv/lib/python3.8/site-packages (from IPython->note-seq->magenta==2.1.0) (0.7.5)\n",
      "Requirement already satisfied: pygments>=2.4.0 in ./venv/lib/python3.8/site-packages (from IPython->note-seq->magenta==2.1.0) (2.13.0)\n",
      "Requirement already satisfied: jedi>=0.16 in ./venv/lib/python3.8/site-packages (from IPython->note-seq->magenta==2.1.0) (0.18.2)\n",
      "Requirement already satisfied: traitlets>=5 in ./venv/lib/python3.8/site-packages (from IPython->note-seq->magenta==2.1.0) (5.7.0)\n",
      "Requirement already satisfied: prompt-toolkit<3.1.0,>=3.0.11 in ./venv/lib/python3.8/site-packages (from IPython->note-seq->magenta==2.1.0) (3.0.36)\n",
      "Requirement already satisfied: parso<0.9.0,>=0.8.0 in ./venv/lib/python3.8/site-packages (from jedi>=0.16->IPython->note-seq->magenta==2.1.0) (0.8.3)\n",
      "Requirement already satisfied: ptyprocess>=0.5 in ./venv/lib/python3.8/site-packages (from pexpect>4.3->IPython->note-seq->magenta==2.1.0) (0.7.0)\n",
      "Requirement already satisfied: wcwidth in ./venv/lib/python3.8/site-packages (from prompt-toolkit<3.1.0,>=3.0.11->IPython->note-seq->magenta==2.1.0) (0.2.5)\n",
      "Requirement already satisfied: asttokens>=2.1.0 in ./venv/lib/python3.8/site-packages (from stack-data->IPython->note-seq->magenta==2.1.0) (2.2.1)\n",
      "Requirement already satisfied: executing>=1.2.0 in ./venv/lib/python3.8/site-packages (from stack-data->IPython->note-seq->magenta==2.1.0) (1.2.0)\n",
      "Requirement already satisfied: pure-eval in ./venv/lib/python3.8/site-packages (from stack-data->IPython->note-seq->magenta==2.1.0) (0.2.2)\n",
      "Requirement already satisfied: google-api-python-client in ./venv/lib/python3.8/site-packages (from tensor2tensor->magenta==2.1.0) (2.69.0)\n",
      "Requirement already satisfied: mesh-tensorflow in ./venv/lib/python3.8/site-packages (from tensor2tensor->magenta==2.1.0) (0.1.21)\n",
      "Requirement already satisfied: dopamine-rl in ./venv/lib/python3.8/site-packages (from tensor2tensor->magenta==2.1.0) (3.2.1)\n",
      "Requirement already satisfied: pypng in ./venv/lib/python3.8/site-packages (from tensor2tensor->magenta==2.1.0) (0.20220715.0)\n",
      "Requirement already satisfied: tensorflow-addons in ./venv/lib/python3.8/site-packages (from tensor2tensor->magenta==2.1.0) (0.19.0)\n",
      "Requirement already satisfied: gin-config in ./venv/lib/python3.8/site-packages (from tensor2tensor->magenta==2.1.0) (0.5.0)\n",
      "Requirement already satisfied: opencv-python in ./venv/lib/python3.8/site-packages (from tensor2tensor->magenta==2.1.0) (4.6.0.66)\n",
      "Requirement already satisfied: gevent in ./venv/lib/python3.8/site-packages (from tensor2tensor->magenta==2.1.0) (22.10.2)\n",
      "Requirement already satisfied: tqdm in ./venv/lib/python3.8/site-packages (from tensor2tensor->magenta==2.1.0) (4.64.1)\n",
      "Requirement already satisfied: gunicorn in ./venv/lib/python3.8/site-packages (from tensor2tensor->magenta==2.1.0) (20.1.0)\n",
      "Requirement already satisfied: gym in ./venv/lib/python3.8/site-packages (from tensor2tensor->magenta==2.1.0) (0.26.2)\n",
      "Requirement already satisfied: flask in ./venv/lib/python3.8/site-packages (from tensor2tensor->magenta==2.1.0) (2.2.2)\n",
      "Requirement already satisfied: tensorflow-gan in ./venv/lib/python3.8/site-packages (from tensor2tensor->magenta==2.1.0) (2.1.0)\n",
      "Requirement already satisfied: sympy in ./venv/lib/python3.8/site-packages (from tensor2tensor->magenta==2.1.0) (1.11.1)\n",
      "Requirement already satisfied: kfac in ./venv/lib/python3.8/site-packages (from tensor2tensor->magenta==2.1.0) (0.2.0)\n",
      "Requirement already satisfied: h5py in ./venv/lib/python3.8/site-packages (from tensor2tensor->magenta==2.1.0) (3.7.0)\n",
      "Requirement already satisfied: bz2file in ./venv/lib/python3.8/site-packages (from tensor2tensor->magenta==2.1.0) (0.98)\n",
      "Requirement already satisfied: flax>=0.2.0 in ./venv/lib/python3.8/site-packages (from dopamine-rl->tensor2tensor->magenta==2.1.0) (0.6.3)\n",
      "Requirement already satisfied: pygame>=1.9.2 in ./venv/lib/python3.8/site-packages (from dopamine-rl->tensor2tensor->magenta==2.1.0) (2.1.2)\n",
      "Requirement already satisfied: jax>=0.1.72 in ./venv/lib/python3.8/site-packages (from dopamine-rl->tensor2tensor->magenta==2.1.0) (0.3.25)\n",
      "Requirement already satisfied: jaxlib>=0.1.51 in ./venv/lib/python3.8/site-packages (from dopamine-rl->tensor2tensor->magenta==2.1.0) (0.3.25)\n",
      "Requirement already satisfied: msgpack in ./venv/lib/python3.8/site-packages (from flax>=0.2.0->dopamine-rl->tensor2tensor->magenta==2.1.0) (1.0.4)\n",
      "Requirement already satisfied: optax in ./venv/lib/python3.8/site-packages (from flax>=0.2.0->dopamine-rl->tensor2tensor->magenta==2.1.0) (0.1.4)\n",
      "Requirement already satisfied: rich>=11.1 in ./venv/lib/python3.8/site-packages (from flax>=0.2.0->dopamine-rl->tensor2tensor->magenta==2.1.0) (12.6.0)\n",
      "Requirement already satisfied: tensorstore in ./venv/lib/python3.8/site-packages (from flax>=0.2.0->dopamine-rl->tensor2tensor->magenta==2.1.0) (0.1.28)\n",
      "Requirement already satisfied: orbax in ./venv/lib/python3.8/site-packages (from flax>=0.2.0->dopamine-rl->tensor2tensor->magenta==2.1.0) (0.0.23)\n",
      "Requirement already satisfied: gym-notices>=0.0.4 in ./venv/lib/python3.8/site-packages (from gym->tensor2tensor->magenta==2.1.0) (0.0.8)\n",
      "Requirement already satisfied: importlib-metadata>=4.8.0 in ./venv/lib/python3.8/site-packages (from gym->tensor2tensor->magenta==2.1.0) (5.1.0)\n",
      "Requirement already satisfied: ale-py~=0.8.0 in ./venv/lib/python3.8/site-packages (from gym->tensor2tensor->magenta==2.1.0) (0.8.0)\n",
      "Requirement already satisfied: importlib-resources in ./venv/lib/python3.8/site-packages (from ale-py~=0.8.0->gym->tensor2tensor->magenta==2.1.0) (5.10.1)\n",
      "Requirement already satisfied: zipp>=0.5 in ./venv/lib/python3.8/site-packages (from importlib-metadata>=4.8.0->gym->tensor2tensor->magenta==2.1.0) (3.11.0)\n",
      "Requirement already satisfied: opt_einsum in ./venv/lib/python3.8/site-packages (from jax>=0.1.72->dopamine-rl->tensor2tensor->magenta==2.1.0) (3.3.0)\n",
      "Requirement already satisfied: commonmark<0.10.0,>=0.9.0 in ./venv/lib/python3.8/site-packages (from rich>=11.1->flax>=0.2.0->dopamine-rl->tensor2tensor->magenta==2.1.0) (0.9.1)\n",
      "Requirement already satisfied: flatbuffers>=2.0 in ./venv/lib/python3.8/site-packages (from tensorflow->magenta==2.1.0) (22.12.6)\n",
      "Requirement already satisfied: tensorflow-estimator<2.12,>=2.11.0 in ./venv/lib/python3.8/site-packages (from tensorflow->magenta==2.1.0) (2.11.0)\n",
      "Requirement already satisfied: astunparse>=1.6.0 in ./venv/lib/python3.8/site-packages (from tensorflow->magenta==2.1.0) (1.6.3)\n",
      "Requirement already satisfied: keras<2.12,>=2.11.0 in ./venv/lib/python3.8/site-packages (from tensorflow->magenta==2.1.0) (2.11.0)\n",
      "Requirement already satisfied: libclang>=13.0.0 in ./venv/lib/python3.8/site-packages (from tensorflow->magenta==2.1.0) (14.0.6)\n",
      "Requirement already satisfied: gast<=0.4.0,>=0.2.1 in ./venv/lib/python3.8/site-packages (from tensorflow->magenta==2.1.0) (0.4.0)\n",
      "Requirement already satisfied: tensorflow-io-gcs-filesystem>=0.23.1 in ./venv/lib/python3.8/site-packages (from tensorflow->magenta==2.1.0) (0.28.0)\n",
      "Requirement already satisfied: tensorboard<2.12,>=2.11 in ./venv/lib/python3.8/site-packages (from tensorflow->magenta==2.1.0) (2.11.0)\n",
      "Requirement already satisfied: google-pasta>=0.1.1 in ./venv/lib/python3.8/site-packages (from tensorflow->magenta==2.1.0) (0.2.0)\n",
      "Requirement already satisfied: termcolor>=1.1.0 in ./venv/lib/python3.8/site-packages (from tensorflow->magenta==2.1.0) (2.1.1)\n",
      "Requirement already satisfied: markdown>=2.6.8 in ./venv/lib/python3.8/site-packages (from tensorboard<2.12,>=2.11->tensorflow->magenta==2.1.0) (3.4.1)\n",
      "Requirement already satisfied: google-auth-oauthlib<0.5,>=0.4.1 in ./venv/lib/python3.8/site-packages (from tensorboard<2.12,>=2.11->tensorflow->magenta==2.1.0) (0.4.6)\n",
      "Requirement already satisfied: tensorboard-plugin-wit>=1.6.0 in ./venv/lib/python3.8/site-packages (from tensorboard<2.12,>=2.11->tensorflow->magenta==2.1.0) (1.8.1)\n",
      "Requirement already satisfied: tensorboard-data-server<0.7.0,>=0.6.0 in ./venv/lib/python3.8/site-packages (from tensorboard<2.12,>=2.11->tensorflow->magenta==2.1.0) (0.6.1)\n",
      "Requirement already satisfied: werkzeug>=1.0.1 in ./venv/lib/python3.8/site-packages (from tensorboard<2.12,>=2.11->tensorflow->magenta==2.1.0) (2.2.2)\n",
      "Requirement already satisfied: requests-oauthlib>=0.7.0 in ./venv/lib/python3.8/site-packages (from google-auth-oauthlib<0.5,>=0.4.1->tensorboard<2.12,>=2.11->tensorflow->magenta==2.1.0) (1.3.1)\n",
      "Requirement already satisfied: oauthlib>=3.0.0 in ./venv/lib/python3.8/site-packages (from requests-oauthlib>=0.7.0->google-auth-oauthlib<0.5,>=0.4.1->tensorboard<2.12,>=2.11->tensorflow->magenta==2.1.0) (3.2.2)\n",
      "Requirement already satisfied: click>=8.0 in ./venv/lib/python3.8/site-packages (from flask->tensor2tensor->magenta==2.1.0) (8.1.3)\n",
      "Requirement already satisfied: itsdangerous>=2.0 in ./venv/lib/python3.8/site-packages (from flask->tensor2tensor->magenta==2.1.0) (2.1.2)\n",
      "Requirement already satisfied: greenlet>=2.0.0 in ./venv/lib/python3.8/site-packages (from gevent->tensor2tensor->magenta==2.1.0) (2.0.1)\n",
      "Requirement already satisfied: zope.event in ./venv/lib/python3.8/site-packages (from gevent->tensor2tensor->magenta==2.1.0) (4.5.0)\n",
      "Requirement already satisfied: zope.interface in ./venv/lib/python3.8/site-packages (from gevent->tensor2tensor->magenta==2.1.0) (5.5.2)\n",
      "Requirement already satisfied: uritemplate<5,>=3.0.1 in ./venv/lib/python3.8/site-packages (from google-api-python-client->tensor2tensor->magenta==2.1.0) (4.1.1)\n",
      "Requirement already satisfied: chex>=0.1.5 in ./venv/lib/python3.8/site-packages (from optax->flax>=0.2.0->dopamine-rl->tensor2tensor->magenta==2.1.0) (0.1.5)\n",
      "Requirement already satisfied: toolz>=0.9.0 in ./venv/lib/python3.8/site-packages (from chex>=0.1.5->optax->flax>=0.2.0->dopamine-rl->tensor2tensor->magenta==2.1.0) (0.12.0)\n",
      "Requirement already satisfied: etils in ./venv/lib/python3.8/site-packages (from orbax->flax>=0.2.0->dopamine-rl->tensor2tensor->magenta==2.1.0) (0.9.0)\n",
      "Requirement already satisfied: cached_property in ./venv/lib/python3.8/site-packages (from orbax->flax>=0.2.0->dopamine-rl->tensor2tensor->magenta==2.1.0) (1.5.2)\n",
      "Requirement already satisfied: pytest in ./venv/lib/python3.8/site-packages (from orbax->flax>=0.2.0->dopamine-rl->tensor2tensor->magenta==2.1.0) (7.2.0)\n",
      "Requirement already satisfied: exceptiongroup>=1.0.0rc8 in ./venv/lib/python3.8/site-packages (from pytest->orbax->flax>=0.2.0->dopamine-rl->tensor2tensor->magenta==2.1.0) (1.0.4)\n",
      "Requirement already satisfied: iniconfig in ./venv/lib/python3.8/site-packages (from pytest->orbax->flax>=0.2.0->dopamine-rl->tensor2tensor->magenta==2.1.0) (1.1.1)\n",
      "Requirement already satisfied: tomli>=1.0.0 in ./venv/lib/python3.8/site-packages (from pytest->orbax->flax>=0.2.0->dopamine-rl->tensor2tensor->magenta==2.1.0) (2.0.1)\n",
      "Requirement already satisfied: pluggy<2.0,>=0.12 in ./venv/lib/python3.8/site-packages (from pytest->orbax->flax>=0.2.0->dopamine-rl->tensor2tensor->magenta==2.1.0) (1.0.0)\n",
      "Requirement already satisfied: mpmath>=0.19 in ./venv/lib/python3.8/site-packages (from sympy->tensor2tensor->magenta==2.1.0) (1.2.1)\n",
      "Requirement already satisfied: typeguard>=2.7 in ./venv/lib/python3.8/site-packages (from tensorflow-addons->tensor2tensor->magenta==2.1.0) (2.13.3)\n",
      "Requirement already satisfied: promise in ./venv/lib/python3.8/site-packages (from tensorflow-datasets->magenta==2.1.0) (2.3)\n",
      "Requirement already satisfied: tensorflow-metadata in ./venv/lib/python3.8/site-packages (from tensorflow-datasets->magenta==2.1.0) (1.12.0)\n",
      "Requirement already satisfied: toml in ./venv/lib/python3.8/site-packages (from tensorflow-datasets->magenta==2.1.0) (0.10.2)\n",
      "Requirement already satisfied: tensorflow-hub>=0.2 in ./venv/lib/python3.8/site-packages (from tensorflow-gan->tensor2tensor->magenta==2.1.0) (0.12.0)\n",
      "Building wheels for collected packages: python-rtmidi\n",
      "  Building wheel for python-rtmidi (setup.py) ... \u001b[?25ldone\n",
      "\u001b[?25h  Created wheel for python-rtmidi: filename=python_rtmidi-1.1.2-cp38-cp38-linux_x86_64.whl size=422310 sha256=fd34760822157cfb084c079543e743021ad1083b823bb9058cae8e19db40fd3c\n",
      "  Stored in directory: /home/heerak/.cache/pip/wheels/23/93/e9/7d805b982c4cb5c6cec3e77e1fc6e7417a193beca2230cea52\n",
      "Successfully built python-rtmidi\n",
      "Installing collected packages: python-rtmidi, pygtrie, note-seq, mir-eval, imageio, dm-sonnet, magenta\n",
      "Successfully installed dm-sonnet-2.0.0 imageio-2.22.4 magenta-2.1.0 mir-eval-0.7 note-seq-0.0.3 pygtrie-2.5.0 python-rtmidi-1.1.2\n",
      "\u001b[33mWARNING: You are using pip version 21.1.3; however, version 22.3.1 is available.\n",
      "You should consider upgrading via the '/data/heerak/music_vae/venv/bin/python -m pip install --upgrade pip' command.\u001b[0m\n"
     ]
    }
   ],
   "source": [
    "!venv/bin/pip install magenta==2.1.0\n",
    "!venv/bin/pip install tensorflow-gpu"
   ]
  },
  {
   "cell_type": "markdown",
   "id": "7f963d77-7c8c-4c24-b2df-f42d6b49a4a5",
   "metadata": {},
   "source": [
    "# Import"
   ]
  },
  {
   "cell_type": "code",
   "execution_count": 11,
   "id": "1db2df5e-612f-4779-91ee-c0683f65534c",
   "metadata": {},
   "outputs": [],
   "source": [
    "import os\n",
    "import numpy as np\n",
    "import collections\n",
    "\n",
    "import tensorflow.compat.v1 as tf\n",
    "import tf_slim\n",
    "import note_seq\n",
    "\n",
    "from magenta.common import merge_hparams\n",
    "from magenta.contrib import training as contrib_training\n",
    "from magenta.models.music_vae import MusicVAE, lstm_models, data, configs\n",
    "from magenta.scripts.convert_dir_to_note_sequences import convert_directory\n",
    "from magenta.models.music_vae.trained_model import TrainedModel"
   ]
  },
  {
   "cell_type": "markdown",
   "id": "497c8db7-c414-4d3f-8896-54feddda0f0d",
   "metadata": {
    "tags": []
   },
   "source": [
    "# 전처리 진행하기 위한 과정\n",
    "\n",
    "- https://storage.googleapis.com/magentadata/datasets/groove/groove-v1.0.0-midionly.zip 다운로드\n",
    "- zip 파일 압축해제\n",
    "- MIDI 데이터를 NoteSequences 로 변환하고 TFRecord 파일로 변환해주는 <br>\n",
    "  magenta 의 scripts/convert_dir_to_note_sequences.py 에 있는 convert_directory function 이용해 Directory 채로 전처리 진행"
   ]
  },
  {
   "cell_type": "markdown",
   "id": "b74899df-a18e-4784-bf4b-812d48287eae",
   "metadata": {},
   "source": [
    "## zip 파일 다운로드"
   ]
  },
  {
   "cell_type": "code",
   "execution_count": 2,
   "id": "72972ab7-fa8f-483e-9807-48386437a160",
   "metadata": {},
   "outputs": [],
   "source": [
    "root_path = os.getcwd()"
   ]
  },
  {
   "cell_type": "code",
   "execution_count": 30,
   "id": "7b5ee555-54b6-47d1-b3eb-cc2cb1add89f",
   "metadata": {},
   "outputs": [
    {
     "name": "stdout",
     "output_type": "stream",
     "text": [
      "Downloading data from https://storage.googleapis.com/magentadata/datasets/groove/groove-v1.0.0-midionly.zip\n",
      "3260318/3260318 [==============================] - 0s 0us/step\n"
     ]
    },
    {
     "data": {
      "text/plain": [
       "'/data/heerak/music_vae/data.zip'"
      ]
     },
     "execution_count": 30,
     "metadata": {},
     "output_type": "execute_result"
    }
   ],
   "source": [
    "url = \"https://storage.googleapis.com/magentadata/datasets/groove/groove-v1.0.0-midionly.zip\"\n",
    "# 파일 다운로드\n",
    "tf.keras.utils.get_file(origin=url,\n",
    "                        fname=os.path.join(root_path, 'data.zip'),\n",
    "                        extract=True)"
   ]
  },
  {
   "cell_type": "markdown",
   "id": "c91767ac-ed96-4c9b-813d-bc7da73437dc",
   "metadata": {},
   "source": [
    "## zip 파일 압축해제"
   ]
  },
  {
   "cell_type": "code",
   "execution_count": 31,
   "id": "6ac203df-85f8-4ae5-8fa5-168a056cde8c",
   "metadata": {
    "scrolled": true,
    "tags": []
   },
   "outputs": [
    {
     "name": "stdout",
     "output_type": "stream",
     "text": [
      "Archive:  data.zip\n",
      "   creating: groove/\n",
      "   creating: groove/drummer8/\n",
      "   creating: groove/drummer8/session2/\n",
      "  inflating: groove/drummer8/session2/12_funk_81_beat_4-4.mid  \n",
      "  inflating: groove/drummer8/session2/25_latin_84_beat_4-4.mid  \n",
      "  inflating: groove/drummer8/session2/2_funk_92_beat_4-4.mid  \n",
      "  inflating: groove/drummer8/session2/41_highlife_126_beat_4-4.mid  \n",
      "  inflating: groove/drummer8/session2/40_rock-indie_104_beat_4-4.mid  \n",
      "  inflating: groove/drummer8/session2/33_rock_117_beat_4-4.mid  \n",
      "  inflating: groove/drummer8/session2/30_afrobeat_98_beat_4-4.mid  \n",
      "  inflating: groove/drummer8/session2/39_rock-indie_104_beat_4-4.mid  \n",
      "  inflating: groove/drummer8/session2/14_afrobeat_103_beat_4-4.mid  \n",
      "  inflating: groove/drummer8/session2/17_afrobeat_85_beat_4-4.mid  \n",
      "  inflating: groove/drummer8/session2/31_afrobeat_98_beat_4-4.mid  \n",
      "  inflating: groove/drummer8/session2/38_rock_112_beat_4-4.mid  \n",
      "  inflating: groove/drummer8/session2/5_funk_91_beat_4-4.mid  \n",
      "  inflating: groove/drummer8/session2/26_dance-disco_137_beat_4-4.mid  \n",
      "  inflating: groove/drummer8/session2/35_latin-brazilian-songo_120_beat_4-4.mid  \n",
      "  inflating: groove/drummer8/session2/36_latin_118_beat_4-4.mid  \n",
      "  inflating: groove/drummer8/session2/19_neworleans-funk_90_beat_4-4.mid  \n",
      "  inflating: groove/drummer8/session2/7_latin_95_beat_4-4.mid  \n",
      "  inflating: groove/drummer8/session2/13_afrobeat_103_beat_4-4.mid  \n",
      "  inflating: groove/drummer8/session2/16_funk_95_beat_4-4.mid  \n",
      "  inflating: groove/drummer8/session2/27_dance-disco_137_beat_4-4.mid  \n",
      "  inflating: groove/drummer8/session2/34_latin-brazilian-songo_120_beat_4-4.mid  \n",
      "  inflating: groove/drummer8/session2/15_funk_95_beat_4-4.mid  \n",
      "  inflating: groove/drummer8/session2/32_rock_117_beat_4-4.mid  \n",
      "  inflating: groove/drummer8/session2/8_latin_95_beat_4-4.mid  \n",
      "  inflating: groove/drummer8/session2/28_latin-bounce_106_beat_4-4.mid  \n",
      "  inflating: groove/drummer8/session2/6_funk_91_beat_4-4.mid  \n",
      "  inflating: groove/drummer8/session2/24_latin_84_beat_4-4.mid  \n",
      "  inflating: groove/drummer8/session2/37_rock_112_beat_4-4.mid  \n",
      "  inflating: groove/drummer8/session2/42_highlife_126_beat_4-4.mid  \n",
      "  inflating: groove/drummer8/session2/21_afrobeat_110_beat_4-4.mid  \n",
      "  inflating: groove/drummer8/session2/23_rock_96_beat_4-4.mid  \n",
      "  inflating: groove/drummer8/session2/10_hiphop_86_beat_4-4.mid  \n",
      "  inflating: groove/drummer8/session2/29_latin-bounce_106_beat_4-4.mid  \n",
      "  inflating: groove/drummer8/session2/3_afrobeat_114_beat_4-4.mid  \n",
      "  inflating: groove/drummer8/session2/22_rock_96_beat_4-4.mid  \n",
      "  inflating: groove/drummer8/session2/18_afrobeat_85_beat_4-4.mid  \n",
      "  inflating: groove/drummer8/session2/9_hiphop_86_beat_4-4.mid  \n",
      "  inflating: groove/drummer8/session2/4_afrobeat_114_beat_4-4.mid  \n",
      "  inflating: groove/drummer8/session2/20_neworleans-funk_90_beat_4-4.mid  \n",
      "  inflating: groove/drummer8/session2/1_funk_92_beat_4-4.mid  \n",
      "  inflating: groove/drummer8/session2/11_funk_81_beat_4-4.mid  \n",
      "   creating: groove/drummer8/eval_session/\n",
      "  inflating: groove/drummer8/eval_session/6_hiphop-groove6_87_beat_4-4.mid  \n",
      "  inflating: groove/drummer8/eval_session/3_soul-groove3_86_beat_4-4.mid  \n",
      "  inflating: groove/drummer8/eval_session/7_pop-groove7_138_beat_4-4.mid  \n",
      "  inflating: groove/drummer8/eval_session/5_funk-groove5_84_beat_4-4.mid  \n",
      "  inflating: groove/drummer8/eval_session/9_soul-groove9_105_beat_4-4.mid  \n",
      "  inflating: groove/drummer8/eval_session/1_funk-groove1_138_beat_4-4.mid  \n",
      "  inflating: groove/drummer8/eval_session/10_soul-groove10_102_beat_4-4.mid  \n",
      "  inflating: groove/drummer8/eval_session/4_soul-groove4_80_beat_4-4.mid  \n",
      "  inflating: groove/drummer8/eval_session/2_funk-groove2_105_beat_4-4.mid  \n",
      "  inflating: groove/drummer8/eval_session/8_rock-groove8_65_beat_4-4.mid  \n",
      "   creating: groove/drummer8/session1/\n",
      "  inflating: groove/drummer8/session1/2_funk_95_beat_4-4.mid  \n",
      "  inflating: groove/drummer8/session1/7_funk_80_beat_4-4.mid  \n",
      "  inflating: groove/drummer8/session1/24_funk-latin_100_beat_4-4.mid  \n",
      "  inflating: groove/drummer8/session1/3_hiphop_90_beat_4-4.mid  \n",
      "  inflating: groove/drummer8/session1/16_afrobeat_90_beat_4-4.mid  \n",
      "  inflating: groove/drummer8/session1/4_hiphop_90_beat_4-4.mid  \n",
      "  inflating: groove/drummer8/session1/23_hiphop_70_beat_4-4.mid  \n",
      "  inflating: groove/drummer8/session1/17_afrobeat_90_beat_4-4.mid  \n",
      "  inflating: groove/drummer8/session1/25_funk-latin_100_beat_4-4.mid  \n",
      "  inflating: groove/drummer8/session1/5_hiphop_90_beat_4-4.mid  \n",
      "  inflating: groove/drummer8/session1/26_afrobeat_94_beat_4-4.mid  \n",
      "  inflating: groove/drummer8/session1/6_funk_80_beat_4-4.mid  \n",
      "  inflating: groove/drummer8/session1/11_neworleans-funk_82_beat_4-4.mid  \n",
      "  inflating: groove/drummer8/session1/18_funk_108_beat_4-4.mid  \n",
      "  inflating: groove/drummer8/session1/10_neworleans-funk_82_beat_4-4.mid  \n",
      "  inflating: groove/drummer8/session1/9_funk_96_beat_4-4.mid  \n",
      "  inflating: groove/drummer8/session1/20_rock-shuffle_112_beat_4-4.mid  \n",
      "  inflating: groove/drummer8/session1/15_hiphop_94_beat_4-4.mid  \n",
      "  inflating: groove/drummer8/session1/12_latin_118_beat_4-4.mid  \n",
      "  inflating: groove/drummer8/session1/28_rock_102_beat_4-4.mid  \n",
      "  inflating: groove/drummer8/session1/21_rock-shuffle_112_beat_4-4.mid  \n",
      "  inflating: groove/drummer8/session1/8_funk_96_beat_4-4.mid  \n",
      "  inflating: groove/drummer8/session1/14_hiphop_94_beat_4-4.mid  \n",
      "  inflating: groove/drummer8/session1/13_latin_118_beat_4-4.mid  \n",
      "  inflating: groove/drummer8/session1/19_funk_108_beat_4-4.mid  \n",
      "  inflating: groove/drummer8/session1/1_funk_95_beat_4-4.mid  \n",
      "  inflating: groove/drummer8/session1/22_funk_115_beat_4-4.mid  \n",
      "  inflating: groove/drummer8/session1/27_latin_122_beat_4-4.mid  \n",
      "   creating: groove/drummer6/\n",
      "   creating: groove/drummer6/session3/\n",
      "  inflating: groove/drummer6/session3/3_rock_100_beat_4-4.mid  \n",
      "  inflating: groove/drummer6/session3/7_rock_88_beat_4-4.mid  \n",
      "  inflating: groove/drummer6/session3/4_rock_127_beat_4-4.mid  \n",
      "  inflating: groove/drummer6/session3/6_rock_88_beat_4-4.mid  \n",
      "  inflating: groove/drummer6/session3/2_rock_100_beat_4-4.mid  \n",
      "  inflating: groove/drummer6/session3/1_rock_90_beat_4-4.mid  \n",
      "  inflating: groove/drummer6/session3/5_rock_180_beat_4-4.mid  \n",
      "   creating: groove/drummer6/session2/\n",
      "  inflating: groove/drummer6/session2/1_rock_95_beat_4-4.mid  \n",
      "  inflating: groove/drummer6/session2/3_rock_88_beat_4-4.mid  \n",
      "  inflating: groove/drummer6/session2/2_rock_95_beat_4-4.mid  \n",
      "   creating: groove/drummer6/session1/\n",
      "  inflating: groove/drummer6/session1/3_rock_80_beat_6-8.mid  \n",
      "  inflating: groove/drummer6/session1/1_rock_70_beat_6-8.mid  \n",
      "  inflating: groove/drummer6/session1/5_rock_60_beat_6-8.mid  \n",
      "  inflating: groove/drummer6/session1/4_rock_80_beat_6-8.mid  \n",
      "  inflating: groove/drummer6/session1/2_rock_70_beat_6-8.mid  \n",
      "   creating: groove/drummer1/\n",
      "   creating: groove/drummer1/session3/\n",
      "  inflating: groove/drummer1/session3/2_jazz-swing_185_beat_4-4.mid  \n",
      "  inflating: groove/drummer1/session3/1_rock-prog_125_beat_4-4.mid  \n",
      "  inflating: groove/drummer1/session3/14_rock_94_beat_4-4.mid  \n",
      "  inflating: groove/drummer1/session3/6_dance-disco_120_beat_4-4.mid  \n",
      "  inflating: groove/drummer1/session3/18_rock_128_beat_4-4.mid  \n",
      "  inflating: groove/drummer1/session3/3_rock-rockabilly_200_beat_4-4.mid  \n",
      "  inflating: groove/drummer1/session3/11_afrobeat_94_beat_4-4.mid  \n",
      "  inflating: groove/drummer1/session3/8_rock_135_beat_4-4.mid  \n",
      "  inflating: groove/drummer1/session3/10_rock-folk_90_beat_4-4.mid  \n",
      "  inflating: groove/drummer1/session3/4_jazz-linear_182_beat_4-4.mid  \n",
      "  inflating: groove/drummer1/session3/16_funk_117_beat_4-4.mid  \n",
      "  inflating: groove/drummer1/session3/5_jazz-linear_128_beat_4-4.mid  \n",
      "  inflating: groove/drummer1/session3/7_dance-disco_120_beat_4-4.mid  \n",
      "  inflating: groove/drummer1/session3/13_rock_115_beat_4-4.mid  \n",
      "  inflating: groove/drummer1/session3/15_funk_117_beat_4-4.mid  \n",
      "  inflating: groove/drummer1/session3/12_latin-bomba_96_beat_4-4.mid  \n",
      "  inflating: groove/drummer1/session3/17_afrocuban-calypso_108_beat_4-4.mid  \n",
      "  inflating: groove/drummer1/session3/9_rock_135_beat_4-4.mid  \n",
      "   creating: groove/drummer1/session2/\n",
      "  inflating: groove/drummer1/session2/78_punk_144_fill_4-4.mid  \n",
      "  inflating: groove/drummer1/session2/160_gospel_120_fill_4-4.mid  \n",
      "  inflating: groove/drummer1/session2/100_funk-rock_92_fill_4-4.mid  \n",
      "  inflating: groove/drummer1/session2/128_afrocuban-bembe_122_fill_4-4.mid  \n",
      "  inflating: groove/drummer1/session2/151_gospel_120_fill_4-4.mid  \n",
      "  inflating: groove/drummer1/session2/137_afrocuban-bembe_122_fill_4-4.mid  \n",
      "  inflating: groove/drummer1/session2/108_funk-rock_92_fill_4-4.mid  \n",
      "  inflating: groove/drummer1/session2/29_country_114_fill_4-4.mid  \n",
      "  inflating: groove/drummer1/session2/5_jazz_200_beat_3-4.mid  \n",
      "  inflating: groove/drummer1/session2/133_afrocuban-bembe_122_fill_4-4.mid  \n",
      "  inflating: groove/drummer1/session2/70_punk_144_fill_4-4.mid  \n",
      "  inflating: groove/drummer1/session2/66_punk_144_fill_4-4.mid  \n",
      "  inflating: groove/drummer1/session2/4_jazz_120_beat_3-4.mid  \n",
      "  inflating: groove/drummer1/session2/25_country_114_fill_4-4.mid  \n",
      "  inflating: groove/drummer1/session2/12_country_114_fill_4-4.mid  \n",
      "  inflating: groove/drummer1/session2/93_funk-rock_92_fill_4-4.mid  \n",
      "  inflating: groove/drummer1/session2/192_rock_115_fill_4-4.mid  \n",
      "  inflating: groove/drummer1/session2/55_punk_128_fill_4-4.mid  \n",
      "  inflating: groove/drummer1/session2/16_country_114_fill_4-4.mid  \n",
      "  inflating: groove/drummer1/session2/21_country_114_fill_4-4.mid  \n",
      "  inflating: groove/drummer1/session2/43_punk_128_fill_4-4.mid  \n",
      "  inflating: groove/drummer1/session2/84_punk_144_fill_4-4.mid  \n",
      "  inflating: groove/drummer1/session2/35_punk_128_beat_4-4.mid  \n",
      "  inflating: groove/drummer1/session2/171_afrocuban-rhumba_110_fill_4-4.mid  \n",
      "  inflating: groove/drummer1/session2/184_rock_115_fill_4-4.mid  \n",
      "  inflating: groove/drummer1/session2/49_punk_128_fill_4-4.mid  \n",
      "  inflating: groove/drummer1/session2/155_gospel_120_fill_4-4.mid  \n",
      "  inflating: groove/drummer1/session2/173_afrocuban-rhumba_110_fill_4-4.mid  \n",
      "  inflating: groove/drummer1/session2/7_jazz-march_88_beat_4-4.mid  \n",
      "  inflating: groove/drummer1/session2/198_rock_115_fill_4-4.mid  \n",
      "  inflating: groove/drummer1/session2/162_afrocuban-rhumba_110_fill_4-4.mid  \n",
      "  inflating: groove/drummer1/session2/94_funk-rock_92_fill_4-4.mid  \n",
      "  inflating: groove/drummer1/session2/110_rock-prog_190_beat_4-4.mid  \n",
      "  inflating: groove/drummer1/session2/62_punk_144_beat_4-4.mid  \n",
      "  inflating: groove/drummer1/session2/113_afrocuban-bembe_122_fill_4-4.mid  \n",
      "  inflating: groove/drummer1/session2/124_afrocuban-bembe_122_fill_4-4.mid  \n",
      "  inflating: groove/drummer1/session2/117_afrocuban-bembe_122_fill_4-4.mid  \n",
      "  inflating: groove/drummer1/session2/190_rock_115_fill_4-4.mid  \n",
      "  inflating: groove/drummer1/session2/149_gospel_120_fill_4-4.mid  \n",
      "  inflating: groove/drummer1/session2/39_punk_128_fill_4-4.mid  \n",
      "  inflating: groove/drummer1/session2/57_punk_128_fill_4-4.mid  \n",
      "  inflating: groove/drummer1/session2/120_afrocuban-bembe_122_fill_4-4.mid  \n",
      "  inflating: groove/drummer1/session2/37_punk_128_beat_4-4.mid  \n",
      "  inflating: groove/drummer1/session2/86_punk_144_fill_4-4.mid  \n",
      "  inflating: groove/drummer1/session2/41_punk_128_fill_4-4.mid  \n",
      "  inflating: groove/drummer1/session2/161_afrocuban-rhumba_110_beat_4-4.mid  \n",
      "  inflating: groove/drummer1/session2/186_rock_115_fill_4-4.mid  \n",
      "  inflating: groove/drummer1/session2/72_punk_144_fill_4-4.mid  \n",
      "  inflating: groove/drummer1/session2/107_funk-rock_92_fill_4-4.mid  \n",
      "  inflating: groove/drummer1/session2/64_punk_144_fill_4-4.mid  \n",
      "  inflating: groove/drummer1/session2/146_gospel_120_fill_4-4.mid  \n",
      "  inflating: groove/drummer1/session2/74_punk_144_fill_4-4.mid  \n",
      "  inflating: groove/drummer1/session2/102_funk-rock_92_fill_4-4.mid  \n",
      "  inflating: groove/drummer1/session2/51_punk_128_fill_4-4.mid  \n",
      "  inflating: groove/drummer1/session2/196_rock_115_fill_4-4.mid  \n",
      "  inflating: groove/drummer1/session2/127_afrocuban-bembe_122_fill_4-4.mid  \n",
      "  inflating: groove/drummer1/session2/6_rock_102_beat_3-4.mid  \n",
      "  inflating: groove/drummer1/session2/145_gospel_120_fill_4-4.mid  \n",
      "  inflating: groove/drummer1/session2/80_punk_144_fill_4-4.mid  \n",
      "  inflating: groove/drummer1/session2/138_afrocuban-bembe_122_fill_4-4.mid  \n",
      "  inflating: groove/drummer1/session2/47_punk_128_fill_4-4.mid  \n",
      "  inflating: groove/drummer1/session2/99_funk-rock_92_fill_4-4.mid  \n",
      "  inflating: groove/drummer1/session2/156_gospel_120_fill_4-4.mid  \n",
      "  inflating: groove/drummer1/session2/180_rock_50_beat_4-4.mid  \n",
      "  inflating: groove/drummer1/session2/114_afrocuban-bembe_122_fill_4-4.mid  \n",
      "  inflating: groove/drummer1/session2/123_afrocuban-bembe_122_fill_4-4.mid  \n",
      "  inflating: groove/drummer1/session2/170_afrocuban-rhumba_110_fill_4-4.mid  \n",
      "  inflating: groove/drummer1/session2/3_latin-chacarera_118_beat_4-4.mid  \n",
      "  inflating: groove/drummer1/session2/88_punk_144_fill_4-4.mid  \n",
      "  inflating: groove/drummer1/session2/188_rock_115_fill_4-4.mid  \n",
      "  inflating: groove/drummer1/session2/91_funk-rock_92_fill_4-4.mid  \n",
      "  inflating: groove/drummer1/session2/159_gospel_120_fill_4-4.mid  \n",
      "  inflating: groove/drummer1/session2/59_punk_128_fill_4-4.mid  \n",
      "  inflating: groove/drummer1/session2/28_country_114_fill_4-4.mid  \n",
      "  inflating: groove/drummer1/session2/163_afrocuban-rhumba_110_fill_4-4.mid  \n",
      "  inflating: groove/drummer1/session2/53_punk_128_fill_4-4.mid  \n",
      "  inflating: groove/drummer1/session2/194_rock_115_fill_4-4.mid  \n",
      "  inflating: groove/drummer1/session2/182_rock_115_fill_4-4.mid  \n",
      "  inflating: groove/drummer1/session2/172_afrocuban-rhumba_110_fill_4-4.mid  \n",
      "  inflating: groove/drummer1/session2/96_funk-rock_92_fill_4-4.mid  \n",
      "  inflating: groove/drummer1/session2/45_punk_128_fill_4-4.mid  \n",
      "  inflating: groove/drummer1/session2/33_punk_128_beat_4-4.mid  \n",
      "  inflating: groove/drummer1/session2/82_punk_144_fill_4-4.mid  \n",
      "  inflating: groove/drummer1/session2/134_afrocuban-bembe_122_fill_4-4.mid  \n",
      "  inflating: groove/drummer1/session2/8_jazz-march_176_beat_4-4.mid  \n",
      "  inflating: groove/drummer1/session2/76_punk_144_fill_4-4.mid  \n",
      "  inflating: groove/drummer1/session2/1_latin-chacarera_157_beat_3-4.mid  \n",
      "  inflating: groove/drummer1/session2/17_country_114_fill_4-4.mid  \n",
      "  inflating: groove/drummer1/session2/20_country_114_fill_4-4.mid  \n",
      "  inflating: groove/drummer1/session2/118_afrocuban-bembe_122_fill_4-4.mid  \n",
      "  inflating: groove/drummer1/session2/130_afrocuban-bembe_122_fill_4-4.mid  \n",
      "  inflating: groove/drummer1/session2/141_afrocuban-bembe_122_fill_4-4.mid  \n",
      "  inflating: groove/drummer1/session2/68_punk_144_fill_4-4.mid  \n",
      "  inflating: groove/drummer1/session2/105_funk-rock_92_fill_4-4.mid  \n",
      "  inflating: groove/drummer1/session2/152_gospel_120_fill_4-4.mid  \n",
      "  inflating: groove/drummer1/session2/24_country_114_fill_4-4.mid  \n",
      "  inflating: groove/drummer1/session2/13_country_114_fill_4-4.mid  \n",
      "  inflating: groove/drummer1/session2/61_punk_128_fill_4-4.mid  \n",
      "  inflating: groove/drummer1/session2/142_gospel_120_beat_4-4.mid  \n",
      "  inflating: groove/drummer1/session2/104_funk-rock_92_fill_4-4.mid  \n",
      "  inflating: groove/drummer1/session2/67_punk_144_fill_4-4.mid  \n",
      "  inflating: groove/drummer1/session2/121_afrocuban-bembe_122_fill_4-4.mid  \n",
      "  inflating: groove/drummer1/session2/147_gospel_120_fill_4-4.mid  \n",
      "  inflating: groove/drummer1/session2/116_afrocuban-bembe_122_fill_4-4.mid  \n",
      "  inflating: groove/drummer1/session2/71_punk_144_fill_4-4.mid  \n",
      "  inflating: groove/drummer1/session2/42_punk_128_fill_4-4.mid  \n",
      "  inflating: groove/drummer1/session2/179_afrocuban-rhumba_110_fill_4-4.mid  \n",
      "  inflating: groove/drummer1/session2/34_punk_128_beat_4-4.mid  \n",
      "  inflating: groove/drummer1/session2/85_punk_144_fill_4-4.mid  \n",
      "  inflating: groove/drummer1/session2/185_rock_115_fill_4-4.mid  \n",
      "  inflating: groove/drummer1/session2/30_country_114_fill_4-4.mid  \n",
      "  inflating: groove/drummer1/session2/168_afrocuban-rhumba_110_fill_4-4.mid  \n",
      "  inflating: groove/drummer1/session2/193_rock_115_fill_4-4.mid  \n",
      "  inflating: groove/drummer1/session2/148_gospel_120_fill_4-4.mid  \n",
      "  inflating: groove/drummer1/session2/54_punk_128_fill_4-4.mid  \n",
      "  inflating: groove/drummer1/session2/79_punk_144_fill_4-4.mid  \n",
      "  inflating: groove/drummer1/session2/174_afrocuban-rhumba_110_fill_4-4.mid  \n",
      "  inflating: groove/drummer1/session2/165_afrocuban-rhumba_110_fill_4-4.mid  \n",
      "  inflating: groove/drummer1/session2/97_funk-rock_92_fill_4-4.mid  \n",
      "  inflating: groove/drummer1/session2/154_gospel_120_fill_4-4.mid  \n",
      "  inflating: groove/drummer1/session2/125_afrocuban-bembe_122_fill_4-4.mid  \n",
      "  inflating: groove/drummer1/session2/87_punk_144_fill_4-4.mid  \n",
      "  inflating: groove/drummer1/session2/36_punk_128_beat_4-4.mid  \n",
      "  inflating: groove/drummer1/session2/40_punk_128_fill_4-4.mid  \n",
      "  inflating: groove/drummer1/session2/10_country_114_beat_4-4.mid  \n",
      "  inflating: groove/drummer1/session2/132_afrocuban-bembe_122_fill_4-4.mid  \n",
      "  inflating: groove/drummer1/session2/187_rock_115_fill_4-4.mid  \n",
      "  inflating: groove/drummer1/session2/191_rock_115_fill_4-4.mid  \n",
      "  inflating: groove/drummer1/session2/56_punk_128_fill_4-4.mid  \n",
      "  inflating: groove/drummer1/session2/38_punk_128_fill_4-4.mid  \n",
      "  inflating: groove/drummer1/session2/26_country_114_fill_4-4.mid  \n",
      "  inflating: groove/drummer1/session2/11_country_114_fill_4-4.mid  \n",
      "  inflating: groove/drummer1/session2/65_punk_144_fill_4-4.mid  \n",
      "  inflating: groove/drummer1/session2/98_funk-rock_92_fill_4-4.mid  \n",
      "  inflating: groove/drummer1/session2/167_afrocuban-rhumba_110_fill_4-4.mid  \n",
      "  inflating: groove/drummer1/session2/143_gospel_120_fill_4-4.mid  \n",
      "  inflating: groove/drummer1/session2/176_afrocuban-rhumba_110_fill_4-4.mid  \n",
      "  inflating: groove/drummer1/session2/15_country_114_fill_4-4.mid  \n",
      "  inflating: groove/drummer1/session2/73_punk_144_fill_4-4.mid  \n",
      "  inflating: groove/drummer1/session2/22_country_114_fill_4-4.mid  \n",
      "  inflating: groove/drummer1/session2/181_rock_115_beat_4-4.mid  \n",
      "  inflating: groove/drummer1/session2/19_country_114_fill_4-4.mid  \n",
      "  inflating: groove/drummer1/session2/48_punk_128_fill_4-4.mid  \n",
      "  inflating: groove/drummer1/session2/150_gospel_120_fill_4-4.mid  \n",
      "  inflating: groove/drummer1/session2/32_punk_140_beat_4-4.mid  \n",
      "  inflating: groove/drummer1/session2/129_afrocuban-bembe_122_fill_4-4.mid  \n",
      "  inflating: groove/drummer1/session2/111_rock-prog_110_beat_5-4.mid  \n",
      "  inflating: groove/drummer1/session2/136_afrocuban-bembe_122_fill_4-4.mid  \n",
      "  inflating: groove/drummer1/session2/103_funk-rock_92_fill_4-4.mid  \n",
      "  inflating: groove/drummer1/session2/14_country_114_fill_4-4.mid  \n",
      "  inflating: groove/drummer1/session2/23_country_114_fill_4-4.mid  \n",
      "  inflating: groove/drummer1/session2/119_afrocuban-bembe_122_fill_4-4.mid  \n",
      "  inflating: groove/drummer1/session2/106_funk-rock_92_fill_4-4.mid  \n",
      "  inflating: groove/drummer1/session2/153_gospel_120_fill_4-4.mid  \n",
      "  inflating: groove/drummer1/session2/140_afrocuban-bembe_122_fill_4-4.mid  \n",
      "  inflating: groove/drummer1/session2/131_afrocuban-bembe_122_fill_4-4.mid  \n",
      "  inflating: groove/drummer1/session2/90_funk-rock_92_beat_4-4.mid  \n",
      "  inflating: groove/drummer1/session2/27_country_114_fill_4-4.mid  \n",
      "  inflating: groove/drummer1/session2/169_afrocuban-rhumba_110_fill_4-4.mid  \n",
      "  inflating: groove/drummer1/session2/58_punk_128_fill_4-4.mid  \n",
      "  inflating: groove/drummer1/session2/89_punk_144_fill_4-4.mid  \n",
      "  inflating: groove/drummer1/session2/178_afrocuban-rhumba_110_fill_4-4.mid  \n",
      "  inflating: groove/drummer1/session2/189_rock_115_fill_4-4.mid  \n",
      "  inflating: groove/drummer1/session2/164_afrocuban-rhumba_110_fill_4-4.mid  \n",
      "  inflating: groove/drummer1/session2/63_punk_144_fill_4-4.mid  \n",
      "  inflating: groove/drummer1/session2/75_punk_144_fill_4-4.mid  \n",
      "  inflating: groove/drummer1/session2/175_afrocuban-rhumba_110_fill_4-4.mid  \n",
      "  inflating: groove/drummer1/session2/18_country_114_fill_4-4.mid  \n",
      "  inflating: groove/drummer1/session2/81_punk_144_fill_4-4.mid  \n",
      "  inflating: groove/drummer1/session2/135_afrocuban-bembe_122_fill_4-4.mid  \n",
      "  inflating: groove/drummer1/session2/46_punk_128_fill_4-4.mid  \n",
      "  inflating: groove/drummer1/session2/50_punk_128_fill_4-4.mid  \n",
      "  inflating: groove/drummer1/session2/197_rock_115_fill_4-4.mid  \n",
      "  inflating: groove/drummer1/session2/95_funk-rock_92_fill_4-4.mid  \n",
      "  inflating: groove/drummer1/session2/92_funk-rock_92_fill_4-4.mid  \n",
      "  inflating: groove/drummer1/session2/158_gospel_120_fill_4-4.mid  \n",
      "  inflating: groove/drummer1/session2/31_country_114_fill_4-4.mid  \n",
      "  inflating: groove/drummer1/session2/122_afrocuban-bembe_122_fill_4-4.mid  \n",
      "  inflating: groove/drummer1/session2/115_afrocuban-bembe_122_fill_4-4.mid  \n",
      "  inflating: groove/drummer1/session2/177_afrocuban-rhumba_110_fill_4-4.mid  \n",
      "  inflating: groove/drummer1/session2/60_punk_128_fill_4-4.mid  \n",
      "  inflating: groove/drummer1/session2/2_latin-chacarera_118_beat_4-4.mid  \n",
      "  inflating: groove/drummer1/session2/166_afrocuban-rhumba_110_fill_4-4.mid  \n",
      "  inflating: groove/drummer1/session2/69_punk_144_fill_4-4.mid  \n",
      "  inflating: groove/drummer1/session2/157_gospel_120_fill_4-4.mid  \n",
      "  inflating: groove/drummer1/session2/183_rock_115_fill_4-4.mid  \n",
      "  inflating: groove/drummer1/session2/144_gospel_120_fill_4-4.mid  \n",
      "  inflating: groove/drummer1/session2/44_punk_128_fill_4-4.mid  \n",
      "  inflating: groove/drummer1/session2/83_punk_144_fill_4-4.mid  \n",
      "  inflating: groove/drummer1/session2/9_jazz-march_120_beat_4-4.mid  \n",
      "  inflating: groove/drummer1/session2/52_punk_128_fill_4-4.mid  \n",
      "  inflating: groove/drummer1/session2/112_afrocuban-bembe_122_beat_4-4.mid  \n",
      "  inflating: groove/drummer1/session2/109_funk-rock_92_fill_4-4.mid  \n",
      "  inflating: groove/drummer1/session2/195_rock_115_fill_4-4.mid  \n",
      "  inflating: groove/drummer1/session2/126_afrocuban-bembe_122_fill_4-4.mid  \n",
      "  inflating: groove/drummer1/session2/101_funk-rock_92_fill_4-4.mid  \n",
      "  inflating: groove/drummer1/session2/77_punk_144_fill_4-4.mid  \n",
      "  inflating: groove/drummer1/session2/139_afrocuban-bembe_122_fill_4-4.mid  \n",
      "   creating: groove/drummer1/eval_session/\n",
      "  inflating: groove/drummer1/eval_session/6_hiphop-groove6_87_beat_4-4.mid  \n",
      "  inflating: groove/drummer1/eval_session/3_soul-groove3_86_beat_4-4.mid  \n",
      "  inflating: groove/drummer1/eval_session/7_pop-groove7_138_beat_4-4.mid  \n",
      "  inflating: groove/drummer1/eval_session/5_funk-groove5_84_beat_4-4.mid  \n",
      "  inflating: groove/drummer1/eval_session/9_soul-groove9_105_beat_4-4.mid  \n",
      "  inflating: groove/drummer1/eval_session/1_funk-groove1_138_beat_4-4.mid  \n",
      "  inflating: groove/drummer1/eval_session/10_soul-groove10_102_beat_4-4.mid  \n",
      "  inflating: groove/drummer1/eval_session/4_soul-groove4_80_beat_4-4.mid  \n",
      "  inflating: groove/drummer1/eval_session/2_funk-groove2_105_beat_4-4.mid  \n",
      "  inflating: groove/drummer1/eval_session/8_rock-groove8_65_beat_4-4.mid  \n",
      "   creating: groove/drummer1/session1/\n",
      "  inflating: groove/drummer1/session1/33_latin-samba_116_fill_4-4.mid  \n",
      "  inflating: groove/drummer1/session1/99_neworleans-funk_84_fill_4-4.mid  \n",
      "  inflating: groove/drummer1/session1/259_funk-purdieshuffle_130_fill_4-4.mid  \n",
      "  inflating: groove/drummer1/session1/213_rock-halftime_140_fill_4-4.mid  \n",
      "  inflating: groove/drummer1/session1/129_funk-fast_125_fill_4-4.mid  \n",
      "  inflating: groove/drummer1/session1/123_funk_95_fill_4-4.mid  \n",
      "  inflating: groove/drummer1/session1/2_funk_80_beat_4-4.mid  \n",
      "  inflating: groove/drummer1/session1/133_funk-fast_125_fill_4-4.mid  \n",
      "  inflating: groove/drummer1/session1/215_rock-halftime_140_fill_4-4.mid  \n",
      "  inflating: groove/drummer1/session1/60_jazz_125_fill_4-4.mid  \n",
      "  inflating: groove/drummer1/session1/206_rock-halftime_140_fill_4-4.mid  \n",
      "  inflating: groove/drummer1/session1/12_jazz-funk_116_fill_4-4.mid  \n",
      "  inflating: groove/drummer1/session1/40_latin-samba_116_fill_4-4.mid  \n",
      "  inflating: groove/drummer1/session1/102_funk_95_beat_4-4.mid  \n",
      "  inflating: groove/drummer1/session1/79_latin-reggaeton_90_beat_4-4.mid  \n",
      "  inflating: groove/drummer1/session1/111_funk_95_fill_4-4.mid  \n",
      "  inflating: groove/drummer1/session1/140_funk-fast_125_fill_4-4.mid  \n",
      "  inflating: groove/drummer1/session1/27_jazz-funk_116_fill_4-4.mid  \n",
      "  inflating: groove/drummer1/session1/5_jazz-funk_116_beat_4-4.mid  \n",
      "  inflating: groove/drummer1/session1/187_reggae_78_fill_4-4.mid  \n",
      "  inflating: groove/drummer1/session1/245_funk-purdieshuffle_130_fill_4-4.mid  \n",
      "  inflating: groove/drummer1/session1/8_jazz-funk_116_fill_4-4.mid  \n",
      "  inflating: groove/drummer1/session1/68_jazz_125_fill_4-4.mid  \n",
      "  inflating: groove/drummer1/session1/261_funk-purdieshuffle_130_fill_4-4.mid  \n",
      "  inflating: groove/drummer1/session1/219_rock-halftime_140_fill_4-4.mid  \n",
      "  inflating: groove/drummer1/session1/47_jazz_102_beat_4-4.mid  \n",
      "  inflating: groove/drummer1/session1/256_funk-purdieshuffle_130_fill_4-4.mid  \n",
      "  inflating: groove/drummer1/session1/114_funk_95_fill_4-4.mid  \n",
      "  inflating: groove/drummer1/session1/74_jazz_125_fill_4-4.mid  \n",
      "  inflating: groove/drummer1/session1/224_rock-halftime_140_fill_4-4.mid  \n",
      "  inflating: groove/drummer1/session1/62_jazz_125_fill_4-4.mid  \n",
      "  inflating: groove/drummer1/session1/77_jazz-mediumfast_180_beat_4-4.mid  \n",
      "  inflating: groove/drummer1/session1/106_funk_95_fill_4-4.mid  \n",
      "  inflating: groove/drummer1/session1/91_neworleans-funk_84_fill_4-4.mid  \n",
      "  inflating: groove/drummer1/session1/43_latin-samba_116_fill_4-4.mid  \n",
      "  inflating: groove/drummer1/session1/237_rock-halftime_140_fill_4-4.mid  \n",
      "  inflating: groove/drummer1/session1/83_neworleans-funk_84_fill_4-4.mid  \n",
      "  inflating: groove/drummer1/session1/20_jazz-funk_116_fill_4-4.mid  \n",
      "  inflating: groove/drummer1/session1/231_rock-halftime_140_fill_4-4.mid  \n",
      "  inflating: groove/drummer1/session1/58_jazz_125_fill_4-4.mid  \n",
      "  inflating: groove/drummer1/session1/15_jazz-funk_116_fill_4-4.mid  \n",
      "  inflating: groove/drummer1/session1/103_funk_95_fill_4-4.mid  \n",
      "  inflating: groove/drummer1/session1/249_funk-purdieshuffle_130_fill_4-4.mid  \n",
      "  inflating: groove/drummer1/session1/222_rock-halftime_140_fill_4-4.mid  \n",
      "  inflating: groove/drummer1/session1/19_jazz-funk_116_fill_4-4.mid  \n",
      "  inflating: groove/drummer1/session1/134_funk-fast_125_fill_4-4.mid  \n",
      "  inflating: groove/drummer1/session1/48_jazz_93_beat_4-4.mid  \n",
      "  inflating: groove/drummer1/session1/38_latin-samba_116_beat_4-4.mid  \n",
      "  inflating: groove/drummer1/session1/228_rock-halftime_140_fill_4-4.mid  \n",
      "  inflating: groove/drummer1/session1/138_funk-fast_125_fill_4-4.mid  \n",
      "  inflating: groove/drummer1/session1/94_neworleans-funk_84_fill_4-4.mid  \n",
      "  inflating: groove/drummer1/session1/246_funk-purdieshuffle_130_fill_4-4.mid  \n",
      "  inflating: groove/drummer1/session1/30_latin-samba_116_fill_4-4.mid  \n",
      "  inflating: groove/drummer1/session1/189_reggae_78_fill_4-4.mid  \n",
      "  inflating: groove/drummer1/session1/262_funk-purdieshuffle_130_fill_4-4.mid  \n",
      "  inflating: groove/drummer1/session1/148_latin-brazilian-baiao_95_fill_4-4.mid  \n",
      "  inflating: groove/drummer1/session1/109_funk_95_fill_4-4.mid  \n",
      "  inflating: groove/drummer1/session1/181_afrocuban_105_fill_4-4.mid  \n",
      "  inflating: groove/drummer1/session1/149_latin-brazilian-baiao_95_fill_4-4.mid  \n",
      "  inflating: groove/drummer1/session1/201_reggae-slow_64_beat_4-4.mid  \n",
      "  inflating: groove/drummer1/session1/255_funk-purdieshuffle_130_fill_4-4.mid  \n",
      "  inflating: groove/drummer1/session1/86_neworleans-funk_84_fill_4-4.mid  \n",
      "  inflating: groove/drummer1/session1/155_latin-brazilian-baiao_95_fill_4-4.mid  \n",
      "  inflating: groove/drummer1/session1/239_funk-purdieshuffle_130_beat_4-4.mid  \n",
      "  inflating: groove/drummer1/session1/56_jazz_125_fill_4-4.mid  \n",
      "  inflating: groove/drummer1/session1/162_latin-brazilian-baiao_95_fill_4-4.mid  \n",
      "  inflating: groove/drummer1/session1/81_dance-breakbeat_170_beat_4-4.mid  \n",
      "  inflating: groove/drummer1/session1/110_funk_95_fill_4-4.mid  \n",
      "  inflating: groove/drummer1/session1/92_neworleans-funk_84_fill_4-4.mid  \n",
      "  inflating: groove/drummer1/session1/207_rock-halftime_140_fill_4-4.mid  \n",
      "  inflating: groove/drummer1/session1/154_latin-brazilian-baiao_95_fill_4-4.mid  \n",
      "  inflating: groove/drummer1/session1/268_funk-purdieshuffle_130_fill_4-4.mid  \n",
      "  inflating: groove/drummer1/session1/78_jazz-fast_290_beat_4-4.mid  \n",
      "  inflating: groove/drummer1/session1/214_rock-halftime_140_fill_4-4.mid  \n",
      "  inflating: groove/drummer1/session1/163_latin-brazilian-baiao_95_fill_4-4.mid  \n",
      "  inflating: groove/drummer1/session1/115_funk_95_fill_4-4.mid  \n",
      "  inflating: groove/drummer1/session1/14_jazz-funk_116_fill_4-4.mid  \n",
      "  inflating: groove/drummer1/session1/160_latin-brazilian-baiao_95_fill_4-4.mid  \n",
      "  inflating: groove/drummer1/session1/45_latin-samba_116_fill_4-4.mid  \n",
      "  inflating: groove/drummer1/session1/18_jazz-funk_116_fill_4-4.mid  \n",
      "  inflating: groove/drummer1/session1/157_latin-brazilian-baiao_95_fill_4-4.mid  \n",
      "  inflating: groove/drummer1/session1/184_reggae_78_beat_4-4.mid  \n",
      "  inflating: groove/drummer1/session1/188_reggae_78_fill_4-4.mid  \n",
      "  inflating: groove/drummer1/session1/212_rock-halftime_140_fill_4-4.mid  \n",
      "  inflating: groove/drummer1/session1/161_latin-brazilian-baiao_95_fill_4-4.mid  \n",
      "  inflating: groove/drummer1/session1/156_latin-brazilian-baiao_95_fill_4-4.mid  \n",
      "  inflating: groove/drummer1/session1/21_jazz-funk_116_fill_4-4.mid  \n",
      "  inflating: groove/drummer1/session1/50_jazz_125_beat_4-4.mid  \n",
      "  inflating: groove/drummer1/session1/97_neworleans-funk_84_fill_4-4.mid  \n",
      "  inflating: groove/drummer1/session1/122_funk_95_fill_4-4.mid  \n",
      "  inflating: groove/drummer1/session1/3_funk_80_beat_4-4.mid  \n",
      "  inflating: groove/drummer1/session1/167_latin-brazilian-baiao_95_fill_4-4.mid  \n",
      "  inflating: groove/drummer1/session1/218_rock-halftime_140_fill_4-4.mid  \n",
      "  inflating: groove/drummer1/session1/150_latin-brazilian-baiao_95_fill_4-4.mid  \n",
      "  inflating: groove/drummer1/session1/243_funk-purdieshuffle_130_fill_4-4.mid  \n",
      "  inflating: groove/drummer1/session1/166_latin-brazilian-baiao_95_fill_4-4.mid  \n",
      "  inflating: groove/drummer1/session1/135_funk-fast_125_fill_4-4.mid  \n",
      "  inflating: groove/drummer1/session1/139_funk-fast_125_fill_4-4.mid  \n",
      "  inflating: groove/drummer1/session1/151_latin-brazilian-baiao_95_fill_4-4.mid  \n",
      "  inflating: groove/drummer1/session1/176_afrocuban_105_beat_4-4.mid  \n",
      "  inflating: groove/drummer1/session1/152_latin-brazilian-baiao_95_fill_4-4.mid  \n",
      "  inflating: groove/drummer1/session1/36_latin-samba_116_fill_4-4.mid  \n",
      "  inflating: groove/drummer1/session1/177_afrocuban_105_fill_4-4.mid  \n",
      "  inflating: groove/drummer1/session1/72_jazz_125_fill_4-4.mid  \n",
      "  inflating: groove/drummer1/session1/165_latin-brazilian-baiao_95_fill_4-4.mid  \n",
      "  inflating: groove/drummer1/session1/250_funk-purdieshuffle_130_fill_4-4.mid  \n",
      "  inflating: groove/drummer1/session1/153_latin-brazilian-baiao_95_fill_4-4.mid  \n",
      "  inflating: groove/drummer1/session1/185_reggae_78_fill_4-4.mid  \n",
      "  inflating: groove/drummer1/session1/85_neworleans-funk_84_fill_4-4.mid  \n",
      "  inflating: groove/drummer1/session1/64_jazz_125_fill_4-4.mid  \n",
      "  inflating: groove/drummer1/session1/267_funk-purdieshuffle_130_fill_4-4.mid  \n",
      "  inflating: groove/drummer1/session1/180_afrocuban_105_fill_4-4.mid  \n",
      "  inflating: groove/drummer1/session1/164_latin-brazilian-baiao_95_fill_4-4.mid  \n",
      "  inflating: groove/drummer1/session1/128_funk-fast_125_fill_4-4.mid  \n",
      "  inflating: groove/drummer1/session1/223_rock-halftime_140_fill_4-4.mid  \n",
      "  inflating: groove/drummer1/session1/230_rock-halftime_140_fill_4-4.mid  \n",
      "  inflating: groove/drummer1/session1/132_funk-fast_125_fill_4-4.mid  \n",
      "  inflating: groove/drummer1/session1/54_jazz_125_fill_4-4.mid  \n",
      "  inflating: groove/drummer1/session1/186_reggae_78_fill_4-4.mid  \n",
      "  inflating: groove/drummer1/session1/236_rock-halftime_140_fill_4-4.mid  \n",
      "  inflating: groove/drummer1/session1/88_neworleans-funk_84_fill_4-4.mid  \n",
      "  inflating: groove/drummer1/session1/35_latin-samba_116_fill_4-4.mid  \n",
      "  inflating: groove/drummer1/session1/28_latin-samba_116_beat_4-4.mid  \n",
      "  inflating: groove/drummer1/session1/108_funk_95_fill_4-4.mid  \n",
      "  inflating: groove/drummer1/session1/225_rock-halftime_140_fill_4-4.mid  \n",
      "  inflating: groove/drummer1/session1/70_jazz_125_fill_4-4.mid  \n",
      "  inflating: groove/drummer1/session1/240_funk-purdieshuffle_130_fill_4-4.mid  \n",
      "  inflating: groove/drummer1/session1/141_funk-fast_125_fill_4-4.mid  \n",
      " extracting: groove/drummer1/session1/26_jazz-funk_116_fill_4-4.mid  \n",
      "  inflating: groove/drummer1/session1/4_jazz-funk_116_beat_4-4.mid  \n",
      "  inflating: groove/drummer1/session1/107_funk_95_fill_4-4.mid  \n",
      "  inflating: groove/drummer1/session1/13_jazz-funk_116_fill_4-4.mid  \n",
      "  inflating: groove/drummer1/session1/66_jazz_125_fill_4-4.mid  \n",
      "  inflating: groove/drummer1/session1/253_funk-purdieshuffle_130_fill_4-4.mid  \n",
      "  inflating: groove/drummer1/session1/52_jazz_125_beat_4-4.mid  \n",
      "  inflating: groove/drummer1/session1/229_rock-halftime_140_fill_4-4.mid  \n",
      "  inflating: groove/drummer1/session1/264_funk-purdieshuffle_130_fill_4-4.mid  \n",
      "  inflating: groove/drummer1/session1/46_latin-samba_116_fill_4-4.mid  \n",
      "  inflating: groove/drummer1/session1/9_jazz-funk_116_fill_4-4.mid  \n",
      "  inflating: groove/drummer1/session1/16_jazz-funk_116_fill_4-4.mid  \n",
      "  inflating: groove/drummer1/session1/84_neworleans-funk_84_fill_4-4.mid  \n",
      "  inflating: groove/drummer1/session1/34_latin-samba_116_fill_4-4.mid  \n",
      "  inflating: groove/drummer1/session1/144_funk-fast_125_fill_4-4.mid  \n",
      "  inflating: groove/drummer1/session1/53_jazz_125_fill_4-4.mid  \n",
      "  inflating: groove/drummer1/session1/23_jazz-funk_116_fill_4-4.mid  \n",
      "  inflating: groove/drummer1/session1/101_dance-disco_120_beat_4-4.mid  \n",
      "  inflating: groove/drummer1/session1/199_reggae_78_fill_4-4.mid  \n",
      "  inflating: groove/drummer1/session1/258_funk-purdieshuffle_130_fill_4-4.mid  \n",
      "  inflating: groove/drummer1/session1/104_funk_95_fill_4-4.mid  \n",
      "  inflating: groove/drummer1/session1/193_reggae_78_fill_4-4.mid  \n",
      "  inflating: groove/drummer1/session1/69_jazz_125_fill_4-4.mid  \n",
      "  inflating: groove/drummer1/session1/96_neworleans-funk_84_fill_4-4.mid  \n",
      "  inflating: groove/drummer1/session1/208_rock-halftime_140_fill_4-4.mid  \n",
      "  inflating: groove/drummer1/session1/211_rock-halftime_140_fill_4-4.mid  \n",
      "  inflating: groove/drummer1/session1/257_funk-purdieshuffle_130_fill_4-4.mid  \n",
      "  inflating: groove/drummer1/session1/179_afrocuban_105_fill_4-4.mid  \n",
      "  inflating: groove/drummer1/session1/260_funk-purdieshuffle_130_fill_4-4.mid  \n",
      "  inflating: groove/drummer1/session1/182_afrocuban_105_fill_4-4.mid  \n",
      "  inflating: groove/drummer1/session1/76_jazz-mediumfast_180_beat_4-4.mid  \n",
      "  inflating: groove/drummer1/session1/204_rock-halftime_140_fill_4-4.mid  \n",
      "  inflating: groove/drummer1/session1/183_afrocuban_105_beat_4-4.mid  \n",
      "  inflating: groove/drummer1/session1/244_funk-purdieshuffle_130_fill_4-4.mid  \n",
      "  inflating: groove/drummer1/session1/61_jazz_125_fill_4-4.mid  \n",
      "  inflating: groove/drummer1/session1/217_rock-halftime_140_fill_4-4.mid  \n",
      "  inflating: groove/drummer1/session1/93_neworleans-funk_84_fill_4-4.mid  \n",
      "  inflating: groove/drummer1/session1/82_neworleans-funk_84_beat_4-4.mid  \n",
      "  inflating: groove/drummer1/session1/137_funk-fast_125_fill_4-4.mid  \n",
      "  inflating: groove/drummer1/session1/194_reggae_78_fill_4-4.mid  \n",
      "  inflating: groove/drummer1/session1/248_funk-purdieshuffle_130_fill_4-4.mid  \n",
      "  inflating: groove/drummer1/session1/130_funk-fast_125_fill_4-4.mid  \n",
      "  inflating: groove/drummer1/session1/51_rock-shuffle_125_beat_4-4.mid  \n",
      "  inflating: groove/drummer1/session1/124_funk_95_fill_4-4.mid  \n",
      "  inflating: groove/drummer1/session1/44_latin-samba_116_fill_4-4.mid  \n",
      "  inflating: groove/drummer1/session1/197_reggae_78_fill_4-4.mid  \n",
      "  inflating: groove/drummer1/session1/174_latin-brazilian-baiao_95_fill_4-4.mid  \n",
      "  inflating: groove/drummer1/session1/121_funk_95_fill_4-4.mid  \n",
      "  inflating: groove/drummer1/session1/175_latin-brazilian-baiao_95_fill_4-4.mid  \n",
      "  inflating: groove/drummer1/session1/119_funk_95_fill_4-4.mid  \n",
      "  inflating: groove/drummer1/session1/49_jazz_125_beat_4-4.mid  \n",
      "  inflating: groove/drummer1/session1/63_jazz_125_fill_4-4.mid  \n",
      "  inflating: groove/drummer1/session1/89_neworleans-funk_84_fill_4-4.mid  \n",
      "  inflating: groove/drummer1/session1/116_funk_95_fill_4-4.mid  \n",
      "  inflating: groove/drummer1/session1/173_latin-brazilian-baiao_95_fill_4-4.mid  \n",
      "  inflating: groove/drummer1/session1/235_rock-halftime_140_fill_4-4.mid  \n",
      "  inflating: groove/drummer1/session1/226_rock-halftime_140_fill_4-4.mid  \n",
      "  inflating: groove/drummer1/session1/254_funk-purdieshuffle_130_fill_4-4.mid  \n",
      "  inflating: groove/drummer1/session1/39_latin-samba_116_fill_4-4.mid  \n",
      "  inflating: groove/drummer1/session1/172_latin-brazilian-baiao_95_fill_4-4.mid  \n",
      "  inflating: groove/drummer1/session1/100_neworleans-secondline_94_beat_4-4.mid  \n",
      "  inflating: groove/drummer1/session1/37_latin-samba_116_fill_4-4.mid  \n",
      "  inflating: groove/drummer1/session1/7_jazz-funk_116_fill_4-4.mid  \n",
      "  inflating: groove/drummer1/session1/263_funk-purdieshuffle_130_fill_4-4.mid  \n",
      "  inflating: groove/drummer1/session1/59_jazz_125_fill_4-4.mid  \n",
      "  inflating: groove/drummer1/session1/190_reggae_78_fill_4-4.mid  \n",
      "  inflating: groove/drummer1/session1/220_rock-halftime_140_fill_4-4.mid  \n",
      "  inflating: groove/drummer1/session1/143_funk-fast_125_fill_4-4.mid  \n",
      "  inflating: groove/drummer1/session1/233_rock-halftime_140_fill_4-4.mid  \n",
      "  inflating: groove/drummer1/session1/24_jazz-funk_116_fill_4-4.mid  \n",
      "  inflating: groove/drummer1/session1/171_latin-brazilian-baiao_95_fill_4-4.mid  \n",
      "  inflating: groove/drummer1/session1/113_funk_95_fill_4-4.mid  \n",
      "  inflating: groove/drummer1/session1/247_funk-purdieshuffle_130_fill_4-4.mid  \n",
      "  inflating: groove/drummer1/session1/11_jazz-funk_116_fill_4-4.mid  \n",
      "  inflating: groove/drummer1/session1/147_latin-brazilian-baiao_95_fill_4-4.mid  \n",
      "  inflating: groove/drummer1/session1/170_latin-brazilian-baiao_95_fill_4-4.mid  \n",
      "  inflating: groove/drummer1/session1/126_funk-fast_125_beat_4-4.mid  \n",
      "  inflating: groove/drummer1/session1/209_rock-halftime_140_fill_4-4.mid  \n",
      "  inflating: groove/drummer1/session1/131_funk-fast_125_fill_4-4.mid  \n",
      "  inflating: groove/drummer1/session1/191_reggae_78_fill_4-4.mid  \n",
      "  inflating: groove/drummer1/session1/159_latin-brazilian-baiao_95_fill_4-4.mid  \n",
      "  inflating: groove/drummer1/session1/65_jazz_125_fill_4-4.mid  \n",
      "  inflating: groove/drummer1/session1/42_latin-samba_116_fill_4-4.mid  \n",
      "  inflating: groove/drummer1/session1/127_funk-fast_125_fill_4-4.mid  \n",
      "  inflating: groove/drummer1/session1/73_jazz_125_fill_4-4.mid  \n",
      "  inflating: groove/drummer1/session1/158_latin-brazilian-baiao_95_fill_4-4.mid  \n",
      "  inflating: groove/drummer1/session1/266_funk-purdieshuffle_130_fill_4-4.mid  \n",
      "  inflating: groove/drummer1/session1/169_latin-brazilian-baiao_95_fill_4-4.mid  \n",
      "  inflating: groove/drummer1/session1/216_rock-halftime_140_fill_4-4.mid  \n",
      "  inflating: groove/drummer1/session1/6_jazz-funk_116_fill_4-4.mid  \n",
      "  inflating: groove/drummer1/session1/205_rock-halftime_140_fill_4-4.mid  \n",
      "  inflating: groove/drummer1/session1/146_latin-brazilian-baiao_95_beat_4-4.mid  \n",
      "  inflating: groove/drummer1/session1/196_reggae_78_fill_4-4.mid  \n",
      "  inflating: groove/drummer1/session1/57_jazz_125_fill_4-4.mid  \n",
      "  inflating: groove/drummer1/session1/251_funk-purdieshuffle_130_fill_4-4.mid  \n",
      "  inflating: groove/drummer1/session1/168_latin-brazilian-baiao_95_fill_4-4.mid  \n",
      "  inflating: groove/drummer1/session1/31_latin-samba_116_fill_4-4.mid  \n",
      "  inflating: groove/drummer1/session1/10_jazz-funk_116_fill_4-4.mid  \n",
      "  inflating: groove/drummer1/session1/203_rock-halftime_140_fill_4-4.mid  \n",
      "  inflating: groove/drummer1/session1/210_rock-halftime_140_fill_4-4.mid  \n",
      "  inflating: groove/drummer1/session1/75_jazz_125_beat_4-4.mid  \n",
      "  inflating: groove/drummer1/session1/105_funk_95_fill_4-4.mid  \n",
      "  inflating: groove/drummer1/session1/142_funk-fast_125_fill_4-4.mid  \n",
      "  inflating: groove/drummer1/session1/242_funk-purdieshuffle_130_fill_4-4.mid  \n",
      "  inflating: groove/drummer1/session1/145_latin-brazilian-baiao_95_beat_4-4.mid  \n",
      "  inflating: groove/drummer1/session1/98_neworleans-funk_84_fill_4-4.mid  \n",
      "  inflating: groove/drummer1/session1/25_jazz-funk_116_fill_4-4.mid  \n",
      "  inflating: groove/drummer1/session1/67_jazz_125_fill_4-4.mid  \n",
      "  inflating: groove/drummer1/session1/87_neworleans-funk_84_fill_4-4.mid  \n",
      "  inflating: groove/drummer1/session1/195_reggae_78_fill_4-4.mid  \n",
      "  inflating: groove/drummer1/session1/200_reggae_78_fill_4-4.mid  \n",
      "  inflating: groove/drummer1/session1/22_jazz-funk_116_fill_4-4.mid  \n",
      "  inflating: groove/drummer1/session1/17_jazz-funk_116_fill_4-4.mid  \n",
      "  inflating: groove/drummer1/session1/71_jazz_125_fill_4-4.mid  \n",
      "  inflating: groove/drummer1/session1/117_funk_95_fill_4-4.mid  \n",
      "  inflating: groove/drummer1/session1/29_latin-samba_116_fill_4-4.mid  \n",
      "  inflating: groove/drummer1/session1/238_rock-halftime_140_fill_4-4.mid  \n",
      "  inflating: groove/drummer1/session1/112_funk_95_fill_4-4.mid  \n",
      "  inflating: groove/drummer1/session1/95_neworleans-funk_84_fill_4-4.mid  \n",
      "  inflating: groove/drummer1/session1/32_latin-samba_116_fill_4-4.mid  \n",
      "  inflating: groove/drummer1/session1/80_dance-breakbeat_170_beat_4-4.mid  \n",
      "  inflating: groove/drummer1/session1/232_rock-halftime_140_fill_4-4.mid  \n",
      "  inflating: groove/drummer1/session1/265_funk-purdieshuffle_130_fill_4-4.mid  \n",
      "  inflating: groove/drummer1/session1/221_rock-halftime_140_fill_4-4.mid  \n",
      "  inflating: groove/drummer1/session1/192_reggae_78_fill_4-4.mid  \n",
      "  inflating: groove/drummer1/session1/198_reggae_78_fill_4-4.mid  \n",
      "  inflating: groove/drummer1/session1/125_funk_95_fill_4-4.mid  \n",
      "  inflating: groove/drummer1/session1/178_afrocuban_105_fill_4-4.mid  \n",
      "  inflating: groove/drummer1/session1/252_funk-purdieshuffle_130_fill_4-4.mid  \n",
      "  inflating: groove/drummer1/session1/227_rock-halftime_140_fill_4-4.mid  \n",
      "  inflating: groove/drummer1/session1/202_rock-halftime_140_beat_4-4.mid  \n",
      "  inflating: groove/drummer1/session1/136_funk-fast_125_fill_4-4.mid  \n",
      "  inflating: groove/drummer1/session1/90_neworleans-funk_84_fill_4-4.mid  \n",
      "  inflating: groove/drummer1/session1/118_funk_95_fill_4-4.mid  \n",
      "  inflating: groove/drummer1/session1/234_rock-halftime_140_fill_4-4.mid  \n",
      "  inflating: groove/drummer1/session1/55_jazz_125_fill_4-4.mid  \n",
      "  inflating: groove/drummer1/session1/41_latin-samba_116_fill_4-4.mid  \n",
      "  inflating: groove/drummer1/session1/120_funk_95_fill_4-4.mid  \n",
      "  inflating: groove/drummer1/session1/1_funk_80_beat_4-4.mid  \n",
      "  inflating: groove/drummer1/session1/241_funk-purdieshuffle_130_fill_4-4.mid  \n",
      "   creating: groove/drummer7/\n",
      "   creating: groove/drummer7/session3/\n",
      "  inflating: groove/drummer7/session3/33_hiphop_67_fill_4-4.mid  \n",
      "  inflating: groove/drummer7/session3/116_rock_95_fill_4-4.mid  \n",
      "  inflating: groove/drummer7/session3/103_hiphop_70_fill_4-4.mid  \n",
      "  inflating: groove/drummer7/session3/5_rock_60_fill_4-4.mid  \n",
      "  inflating: groove/drummer7/session3/61_funk_112_fill_4-4.mid  \n",
      "  inflating: groove/drummer7/session3/113_rock_95_fill_4-4.mid  \n",
      "  inflating: groove/drummer7/session3/120_rock_93_beat_4-4.mid  \n",
      "  inflating: groove/drummer7/session3/44_rock-indie_63_fill_4-4.mid  \n",
      "  inflating: groove/drummer7/session3/98_hiphop_70_fill_4-4.mid  \n",
      "  inflating: groove/drummer7/session3/137_soul_105_fill_4-4.mid  \n",
      "  inflating: groove/drummer7/session3/87_neworleans-funk_93_fill_4-4.mid  \n",
      "  inflating: groove/drummer7/session3/38_hiphop_67_beat_4-4.mid  \n",
      "  inflating: groove/drummer7/session3/34_hiphop_67_fill_4-4.mid  \n",
      "  inflating: groove/drummer7/session3/159_soul_98_beat_4-4.mid  \n",
      "  inflating: groove/drummer7/session3/17_pop-soft_83_fill_4-4.mid  \n",
      "  inflating: groove/drummer7/session3/90_neworleans-funk_93_fill_4-4.mid  \n",
      "  inflating: groove/drummer7/session3/53_funk_112_fill_4-4.mid  \n",
      "  inflating: groove/drummer7/session3/20_pop-soft_83_fill_4-4.mid  \n",
      "  inflating: groove/drummer7/session3/104_hiphop_70_fill_4-4.mid  \n",
      "  inflating: groove/drummer7/session3/95_hiphop_70_fill_4-4.mid  \n",
      "  inflating: groove/drummer7/session3/82_neworleans-funk_93_fill_4-4.mid  \n",
      "  inflating: groove/drummer7/session3/131_soul_105_beat_4-4.mid  \n",
      "  inflating: groove/drummer7/session3/13_pop-soft_83_fill_4-4.mid  \n",
      "  inflating: groove/drummer7/session3/147_soul_105_fill_4-4.mid  \n",
      "  inflating: groove/drummer7/session3/79_neworleans-funk_93_fill_4-4.mid  \n",
      "  inflating: groove/drummer7/session3/107_hiphop_70_fill_4-4.mid  \n",
      "  inflating: groove/drummer7/session3/63_funk_112_fill_4-4.mid  \n",
      "  inflating: groove/drummer7/session3/135_soul_105_fill_4-4.mid  \n",
      "  inflating: groove/drummer7/session3/37_hiphop_67_fill_4-4.mid  \n",
      "  inflating: groove/drummer7/session3/59_funk_112_fill_4-4.mid  \n",
      "  inflating: groove/drummer7/session3/96_hiphop_70_fill_4-4.mid  \n",
      "  inflating: groove/drummer7/session3/158_soul_98_fill_4-4.mid  \n",
      "  inflating: groove/drummer7/session3/74_neworleans-funk_93_fill_4-4.mid  \n",
      "  inflating: groove/drummer7/session3/121_rock_93_fill_4-4.mid  \n",
      "  inflating: groove/drummer7/session3/43_rock-indie_63_fill_4-4.mid  \n",
      "  inflating: groove/drummer7/session3/100_hiphop_70_fill_4-4.mid  \n",
      "  inflating: groove/drummer7/session3/65_funk_112_beat_4-4.mid  \n",
      "  inflating: groove/drummer7/session3/157_soul_98_fill_4-4.mid  \n",
      "  inflating: groove/drummer7/session3/145_soul_105_fill_4-4.mid  \n",
      "  inflating: groove/drummer7/session3/133_soul_105_beat_4-4.mid  \n",
      "  inflating: groove/drummer7/session3/30_hiphop_67_fill_4-4.mid  \n",
      "  inflating: groove/drummer7/session3/106_hiphop_70_beat_4-4.mid  \n",
      "  inflating: groove/drummer7/session3/152_soul_98_fill_4-4.mid  \n",
      "  inflating: groove/drummer7/session3/71_neworleans-funk_93_fill_4-4.mid  \n",
      "  inflating: groove/drummer7/session3/124_rock_93_fill_4-4.mid  \n",
      "  inflating: groove/drummer7/session3/51_funk_112_fill_4-4.mid  \n",
      "  inflating: groove/drummer7/session3/117_rock_95_beat_4-4.mid  \n",
      "  inflating: groove/drummer7/session3/49_funk_112_beat_4-4.mid  \n",
      "  inflating: groove/drummer7/session3/1_rock_60_beat_4-4.mid  \n",
      "  inflating: groove/drummer7/session3/57_funk_112_fill_4-4.mid  \n",
      "  inflating: groove/drummer7/session3/10_rock_60_beat_4-4.mid  \n",
      "  inflating: groove/drummer7/session3/118_rock_95_fill_4-4.mid  \n",
      "  inflating: groove/drummer7/session3/31_hiphop_67_fill_4-4.mid  \n",
      "  inflating: groove/drummer7/session3/77_neworleans-funk_93_fill_4-4.mid  \n",
      "  inflating: groove/drummer7/session3/101_hiphop_70_fill_4-4.mid  \n",
      "  inflating: groove/drummer7/session3/143_soul_105_fill_4-4.mid  \n",
      "  inflating: groove/drummer7/session3/47_funk_112_beat_4-4.mid  \n",
      "  inflating: groove/drummer7/session3/97_hiphop_70_fill_4-4.mid  \n",
      "  inflating: groove/drummer7/session3/42_rock-indie_63_fill_4-4.mid  \n",
      "  inflating: groove/drummer7/session3/72_neworleans-funk_93_fill_4-4.mid  \n",
      "  inflating: groove/drummer7/session3/36_hiphop_67_fill_4-4.mid  \n",
      "  inflating: groove/drummer7/session3/89_neworleans-funk_93_fill_4-4.mid  \n",
      "  inflating: groove/drummer7/session3/112_rock_95_fill_4-4.mid  \n",
      "  inflating: groove/drummer7/session3/4_rock_60_fill_4-4.mid  \n",
      "  inflating: groove/drummer7/session3/139_soul_105_fill_4-4.mid  \n",
      "  inflating: groove/drummer7/session3/92_hiphop_70_beat_4-4.mid  \n",
      "  inflating: groove/drummer7/session3/156_soul_98_fill_4-4.mid  \n",
      "  inflating: groove/drummer7/session3/94_hiphop_70_fill_4-4.mid  \n",
      "  inflating: groove/drummer7/session3/141_soul_105_fill_4-4.mid  \n",
      "  inflating: groove/drummer7/session3/45_rock-indie_63_fill_4-4.mid  \n",
      "  inflating: groove/drummer7/session3/105_hiphop_70_fill_4-4.mid  \n",
      "  inflating: groove/drummer7/session3/125_rock_93_fill_4-4.mid  \n",
      "  inflating: groove/drummer7/session3/84_neworleans-funk_93_fill_4-4.mid  \n",
      "  inflating: groove/drummer7/session3/35_hiphop_67_fill_4-4.mid  \n",
      "  inflating: groove/drummer7/session3/153_soul_98_fill_4-4.mid  \n",
      "  inflating: groove/drummer7/session3/55_funk_112_fill_4-4.mid  \n",
      "  inflating: groove/drummer7/session3/149_soul_105_fill_4-4.mid  \n",
      "  inflating: groove/drummer7/session3/99_hiphop_70_fill_4-4.mid  \n",
      "  inflating: groove/drummer7/session3/68_neworleans-funk_93_fill_4-4.mid  \n",
      "  inflating: groove/drummer7/session3/12_pop-soft_83_fill_4-4.mid  \n",
      "  inflating: groove/drummer7/session3/93_hiphop_70_fill_4-4.mid  \n",
      "  inflating: groove/drummer7/session3/119_rock_95_beat_4-4.mid  \n",
      "  inflating: groove/drummer7/session3/81_neworleans-funk_93_fill_4-4.mid  \n",
      "  inflating: groove/drummer7/session3/102_hiphop_70_fill_4-4.mid  \n",
      "  inflating: groove/drummer7/session3/16_pop-soft_83_fill_4-4.mid  \n",
      "  inflating: groove/drummer7/session3/21_pop-soft_83_fill_4-4.mid  \n",
      "  inflating: groove/drummer7/session3/32_hiphop_67_fill_4-4.mid  \n",
      "  inflating: groove/drummer7/session3/52_funk_112_fill_4-4.mid  \n",
      "  inflating: groove/drummer7/session3/88_neworleans-funk_93_fill_4-4.mid  \n",
      "  inflating: groove/drummer7/session3/73_neworleans-funk_93_fill_4-4.mid  \n",
      "  inflating: groove/drummer7/session3/130_soul_105_beat_4-4.mid  \n",
      "  inflating: groove/drummer7/session3/146_soul_105_fill_4-4.mid  \n",
      "  inflating: groove/drummer7/session3/76_neworleans-funk_93_fill_4-4.mid  \n",
      "  inflating: groove/drummer7/session3/67_neworleans-funk_93_beat_4-4.mid  \n",
      "  inflating: groove/drummer7/session3/126_rock_93_fill_4-4.mid  \n",
      "  inflating: groove/drummer7/session3/27_hiphop_67_fill_4-4.mid  \n",
      "  inflating: groove/drummer7/session3/136_soul_105_fill_4-4.mid  \n",
      "  inflating: groove/drummer7/session3/155_soul_98_fill_4-4.mid  \n",
      "  inflating: groove/drummer7/session3/40_rock-indie_63_fill_4-4.mid  \n",
      "  inflating: groove/drummer7/session3/60_funk_112_fill_4-4.mid  \n",
      "  inflating: groove/drummer7/session3/123_rock_93_fill_4-4.mid  \n",
      "  inflating: groove/drummer7/session3/91_neworleans-funk_93_beat_4-4.mid  \n",
      "  inflating: groove/drummer7/session3/144_soul_105_fill_4-4.mid  \n",
      "  inflating: groove/drummer7/session3/132_soul_105_beat_4-4.mid  \n",
      "  inflating: groove/drummer7/session3/22_pop-soft_83_beat_4-4.mid  \n",
      "  inflating: groove/drummer7/session3/111_rock_95_fill_4-4.mid  \n",
      "  inflating: groove/drummer7/session3/80_neworleans-funk_93_fill_4-4.mid  \n",
      "  inflating: groove/drummer7/session3/64_funk_112_beat_4-4.mid  \n",
      "  inflating: groove/drummer7/session3/14_pop-soft_83_fill_4-4.mid  \n",
      "  inflating: groove/drummer7/session3/7_rock_60_fill_4-4.mid  \n",
      "  inflating: groove/drummer7/session3/50_funk_112_fill_4-4.mid  \n",
      "  inflating: groove/drummer7/session3/48_funk_112_beat_4-4.mid  \n",
      "  inflating: groove/drummer7/session3/11_pop-soft_83_beat_4-4.mid  \n",
      "  inflating: groove/drummer7/session3/151_soul_98_beat_4-4.mid  \n",
      "  inflating: groove/drummer7/session3/2_rock_60_fill_4-4.mid  \n",
      "  inflating: groove/drummer7/session3/69_neworleans-funk_93_fill_4-4.mid  \n",
      "  inflating: groove/drummer7/session3/46_rock-indie_63_beat_4-4.mid  \n",
      "  inflating: groove/drummer7/session3/114_rock_95_fill_4-4.mid  \n",
      "  inflating: groove/drummer7/session3/134_soul_105_fill_4-4.mid  \n",
      "  inflating: groove/drummer7/session3/85_neworleans-funk_93_fill_4-4.mid  \n",
      "  inflating: groove/drummer7/session3/108_rock_95_beat_4-4.mid  \n",
      "  inflating: groove/drummer7/session3/39_rock-indie_63_beat_4-4.mid  \n",
      "  inflating: groove/drummer7/session3/62_funk_112_fill_4-4.mid  \n",
      "  inflating: groove/drummer7/session3/29_hiphop_67_fill_4-4.mid  \n",
      "  inflating: groove/drummer7/session3/8_rock_60_fill_4-4.mid  \n",
      "  inflating: groove/drummer7/session3/18_pop-soft_83_fill_4-4.mid  \n",
      "  inflating: groove/drummer7/session3/58_funk_112_fill_4-4.mid  \n",
      "  inflating: groove/drummer7/session3/78_neworleans-funk_93_fill_4-4.mid  \n",
      "  inflating: groove/drummer7/session3/127_rock_93_fill_4-4.mid  \n",
      "  inflating: groove/drummer7/session3/24_hiphop_67_beat_4-4.mid  \n",
      "  inflating: groove/drummer7/session3/28_hiphop_67_fill_4-4.mid  \n",
      "  inflating: groove/drummer7/session3/83_neworleans-funk_93_fill_4-4.mid  \n",
      "  inflating: groove/drummer7/session3/15_pop-soft_83_fill_4-4.mid  \n",
      "  inflating: groove/drummer7/session3/122_rock_93_fill_4-4.mid  \n",
      "  inflating: groove/drummer7/session3/154_soul_98_fill_4-4.mid  \n",
      "  inflating: groove/drummer7/session3/23_pop-soft_83_beat_4-4.mid  \n",
      "  inflating: groove/drummer7/session3/86_neworleans-funk_93_fill_4-4.mid  \n",
      "  inflating: groove/drummer7/session3/56_funk_112_fill_4-4.mid  \n",
      "  inflating: groove/drummer7/session3/25_hiphop_67_fill_4-4.mid  \n",
      "  inflating: groove/drummer7/session3/19_pop-soft_83_fill_4-4.mid  \n",
      "  inflating: groove/drummer7/session3/142_soul_105_fill_4-4.mid  \n",
      "  inflating: groove/drummer7/session3/128_rock_93_fill_4-4.mid  \n",
      "  inflating: groove/drummer7/session3/109_rock_95_beat_4-4.mid  \n",
      "  inflating: groove/drummer7/session3/129_rock_93_beat_4-4.mid  \n",
      "  inflating: groove/drummer7/session3/66_funk_112_fill_4-4.mid  \n",
      "  inflating: groove/drummer7/session3/148_soul_105_fill_4-4.mid  \n",
      "  inflating: groove/drummer7/session3/150_soul_105_beat_4-4.mid  \n",
      "  inflating: groove/drummer7/session3/70_neworleans-funk_93_fill_4-4.mid  \n",
      "  inflating: groove/drummer7/session3/26_hiphop_67_fill_4-4.mid  \n",
      "  inflating: groove/drummer7/session3/9_rock_60_fill_4-4.mid  \n",
      "  inflating: groove/drummer7/session3/6_rock_60_fill_4-4.mid  \n",
      "  inflating: groove/drummer7/session3/75_neworleans-funk_93_fill_4-4.mid  \n",
      "  inflating: groove/drummer7/session3/110_rock_95_fill_4-4.mid  \n",
      "  inflating: groove/drummer7/session3/140_soul_105_fill_4-4.mid  \n",
      "  inflating: groove/drummer7/session3/138_soul_105_fill_4-4.mid  \n",
      "  inflating: groove/drummer7/session3/115_rock_95_fill_4-4.mid  \n",
      "  inflating: groove/drummer7/session3/41_rock-indie_63_fill_4-4.mid  \n",
      "  inflating: groove/drummer7/session3/3_rock_60_fill_4-4.mid  \n",
      "  inflating: groove/drummer7/session3/54_funk_112_fill_4-4.mid  \n",
      "   creating: groove/drummer7/session2/\n",
      "  inflating: groove/drummer7/session2/83_country_78_fill_4-4.mid  \n",
      "  inflating: groove/drummer7/session2/11_rock_95_fill_4-4.mid  \n",
      "  inflating: groove/drummer7/session2/79_funk_100_beat_4-4.mid  \n",
      "  inflating: groove/drummer7/session2/112_jazz-fusion_96_beat_4-4.mid  \n",
      "  inflating: groove/drummer7/session2/35_rock_75_fill_4-4.mid  \n",
      "  inflating: groove/drummer7/session2/6_rock_120_beat_4-4.mid  \n",
      "  inflating: groove/drummer7/session2/18_rock_118_fill_4-4.mid  \n",
      "  inflating: groove/drummer7/session2/49_rock_135_beat_4-4.mid  \n",
      "  inflating: groove/drummer7/session2/51_rock_135_fill_4-4.mid  \n",
      "  inflating: groove/drummer7/session2/47_rock_135_fill_4-4.mid  \n",
      "  inflating: groove/drummer7/session2/69_rock_145_fill_4-4.mid  \n",
      "  inflating: groove/drummer7/session2/24_rock_118_beat_4-4.mid  \n",
      "  inflating: groove/drummer7/session2/127_hiphop_140_fill_4-4.mid  \n",
      "  inflating: groove/drummer7/session2/119_jazz-fusion_96_fill_4-4.mid  \n",
      "  inflating: groove/drummer7/session2/42_rock_112_fill_4-4.mid  \n",
      "  inflating: groove/drummer7/session2/80_country_78_beat_4-4.mid  \n",
      "  inflating: groove/drummer7/session2/105_pop_132_beat_4-4.mid  \n",
      "  inflating: groove/drummer7/session2/128_hiphop_140_fill_4-4.mid  \n",
      "  inflating: groove/drummer7/session2/54_soul-motown_148_beat_4-4.mid  \n",
      "  inflating: groove/drummer7/session2/29_rock_75_beat_4-4.mid  \n",
      "  inflating: groove/drummer7/session2/130_hiphop_140_fill_4-4.mid  \n",
      "  inflating: groove/drummer7/session2/28_rock_75_fill_4-4.mid  \n",
      "  inflating: groove/drummer7/session2/60_soul-motown_148_fill_4-4.mid  \n",
      "  inflating: groove/drummer7/session2/100_pop_142_beat_4-4.mid  \n",
      "  inflating: groove/drummer7/session2/20_rock_118_fill_4-4.mid  \n",
      "  inflating: groove/drummer7/session2/89_hiphop_75_fill_4-4.mid  \n",
      "  inflating: groove/drummer7/session2/75_funk_100_fill_4-4.mid  \n",
      "  inflating: groove/drummer7/session2/4_rock_120_beat_4-4.mid  \n",
      "  inflating: groove/drummer7/session2/116_jazz-fusion_96_fill_4-4.mid  \n",
      "  inflating: groove/drummer7/session2/106_soul-motown_104_beat_4-4.mid  \n",
      "  inflating: groove/drummer7/session2/108_soul-motown_104_beat_4-4.mid  \n",
      "  inflating: groove/drummer7/session2/38_rock_112_fill_4-4.mid  \n",
      "  inflating: groove/drummer7/session2/26_rock_118_beat_4-4.mid  \n",
      "  inflating: groove/drummer7/session2/40_rock_112_fill_4-4.mid  \n",
      "  inflating: groove/drummer7/session2/57_soul-motown_148_fill_4-4.mid  \n",
      "  inflating: groove/drummer7/session2/59_soul-motown_148_fill_4-4.mid  \n",
      "  inflating: groove/drummer7/session2/118_jazz-fusion_96_fill_4-4.mid  \n",
      "  inflating: groove/drummer7/session2/53_rock_135_beat_4-4.mid  \n",
      "  inflating: groove/drummer7/session2/104_pop_132_beat_4-4.mid  \n",
      "  inflating: groove/drummer7/session2/45_rock_135_beat_4-4.mid  \n",
      "  inflating: groove/drummer7/session2/133_hiphop_140_fill_4-4.mid  \n",
      "  inflating: groove/drummer7/session2/113_jazz-fusion_96_beat_4-4.mid  \n",
      "  inflating: groove/drummer7/session2/34_rock_75_fill_4-4.mid  \n",
      "  inflating: groove/drummer7/session2/123_hiphop_140_beat_4-4.mid  \n",
      "  inflating: groove/drummer7/session2/2_rock_120_beat_4-4.mid  \n",
      "  inflating: groove/drummer7/session2/27_rock_75_beat_4-4.mid  \n",
      "  inflating: groove/drummer7/session2/65_rock_145_fill_4-4.mid  \n",
      "  inflating: groove/drummer7/session2/10_rock_95_fill_4-4.mid  \n",
      "  inflating: groove/drummer7/session2/88_hiphop_75_fill_4-4.mid  \n",
      "  inflating: groove/drummer7/session2/73_funk_100_fill_4-4.mid  \n",
      "  inflating: groove/drummer7/session2/31_rock_75_fill_4-4.mid  \n",
      "  inflating: groove/drummer7/session2/84_country_78_fill_4-4.mid  \n",
      "  inflating: groove/drummer7/session2/122_jazz-fusion_96_fill_4-4.mid  \n",
      "  inflating: groove/drummer7/session2/87_hiphop_75_beat_4-4.mid  \n",
      "  inflating: groove/drummer7/session2/14_rock_95_beat_4-4.mid  \n",
      "  inflating: groove/drummer7/session2/30_rock_75_beat_4-4.mid  \n",
      "  inflating: groove/drummer7/session2/124_hiphop_140_fill_4-4.mid  \n",
      "  inflating: groove/drummer7/session2/16_rock_118_fill_4-4.mid  \n",
      "  inflating: groove/drummer7/session2/110_soul-motown_104_fill_4-4.mid  \n",
      "  inflating: groove/drummer7/session2/22_rock_118_beat_4-4.mid  \n",
      "  inflating: groove/drummer7/session2/44_rock_112_fill_4-4.mid  \n",
      "  inflating: groove/drummer7/session2/77_funk_100_beat_4-4.mid  \n",
      "  inflating: groove/drummer7/session2/71_rock_145_fill_4-4.mid  \n",
      "  inflating: groove/drummer7/session2/63_soul-motown_148_beat_4-4.mid  \n",
      "  inflating: groove/drummer7/session2/117_jazz-fusion_96_fill_4-4.mid  \n",
      "  inflating: groove/drummer7/session2/101_pop_142_beat_4-4.mid  \n",
      "  inflating: groove/drummer7/session2/67_rock_145_fill_4-4.mid  \n",
      "  inflating: groove/drummer7/session2/43_rock_112_fill_4-4.mid  \n",
      "  inflating: groove/drummer7/session2/94_hiphop_75_fill_4-4.mid  \n",
      "  inflating: groove/drummer7/session2/92_hiphop_75_beat_4-4.mid  \n",
      "  inflating: groove/drummer7/session2/111_soul-motown_104_fill_4-4.mid  \n",
      "  inflating: groove/drummer7/session2/68_rock_145_fill_4-4.mid  \n",
      "  inflating: groove/drummer7/session2/99_pop_142_fill_4-4.mid  \n",
      "  inflating: groove/drummer7/session2/7_rock_120_beat_4-4.mid  \n",
      "  inflating: groove/drummer7/session2/12_rock_95_beat_4-4.mid  \n",
      "  inflating: groove/drummer7/session2/86_country_78_fill_4-4.mid  \n",
      "  inflating: groove/drummer7/session2/78_funk_100_beat_4-4.mid  \n",
      "  inflating: groove/drummer7/session2/23_rock_118_fill_4-4.mid  \n",
      "  inflating: groove/drummer7/session2/9_rock_95_fill_4-4.mid  \n",
      "  inflating: groove/drummer7/session2/55_soul-motown_148_fill_4-4.mid  \n",
      "  inflating: groove/drummer7/session2/131_hiphop_140_fill_4-4.mid  \n",
      "  inflating: groove/drummer7/session2/33_rock_75_beat_4-4.mid  \n",
      "  inflating: groove/drummer7/session2/19_rock_118_fill_4-4.mid  \n",
      "  inflating: groove/drummer7/session2/50_rock_135_fill_4-4.mid  \n",
      "  inflating: groove/drummer7/session2/32_rock_75_fill_4-4.mid  \n",
      "  inflating: groove/drummer7/session2/90_hiphop_75_fill_4-4.mid  \n",
      "  inflating: groove/drummer7/session2/129_hiphop_140_fill_4-4.mid  \n",
      "  inflating: groove/drummer7/session2/72_funk_100_beat_4-4.mid  \n",
      "  inflating: groove/drummer7/session2/37_rock_112_beat_4-4.mid  \n",
      "  inflating: groove/drummer7/session2/64_rock_145_beat_4-4.mid  \n",
      "  inflating: groove/drummer7/session2/41_rock_112_fill_4-4.mid  \n",
      "  inflating: groove/drummer7/session2/126_hiphop_140_fill_4-4.mid  \n",
      "  inflating: groove/drummer7/session2/97_pop_142_beat_4-4.mid  \n",
      "  inflating: groove/drummer7/session2/8_rock_95_beat_4-4.mid  \n",
      "  inflating: groove/drummer7/session2/121_jazz-fusion_96_fill_4-4.mid  \n",
      "  inflating: groove/drummer7/session2/58_soul-motown_148_fill_4-4.mid  \n",
      "  inflating: groove/drummer7/session2/56_soul-motown_148_fill_4-4.mid  \n",
      "  inflating: groove/drummer7/session2/39_rock_112_fill_4-4.mid  \n",
      "  inflating: groove/drummer7/session2/13_rock_95_fill_4-4.mid  \n",
      "  inflating: groove/drummer7/session2/15_rock_118_beat_4-4.mid  \n",
      "  inflating: groove/drummer7/session2/107_soul-motown_104_fill_4-4.mid  \n",
      "  inflating: groove/drummer7/session2/109_soul-motown_104_fill_4-4.mid  \n",
      "  inflating: groove/drummer7/session2/115_jazz-fusion_96_beat_4-4.mid  \n",
      "  inflating: groove/drummer7/session2/52_rock_135_fill_4-4.mid  \n",
      "  inflating: groove/drummer7/session2/74_funk_100_fill_4-4.mid  \n",
      "  inflating: groove/drummer7/session2/5_rock_120_beat_4-4.mid  \n",
      "  inflating: groove/drummer7/session2/82_country_78_fill_4-4.mid  \n",
      "  inflating: groove/drummer7/session2/21_rock_118_fill_4-4.mid  \n",
      "  inflating: groove/drummer7/session2/102_pop_132_beat_4-4.mid  \n",
      "  inflating: groove/drummer7/session2/3_rock_120_beat_4-4.mid  \n",
      "  inflating: groove/drummer7/session2/61_soul-motown_148_fill_4-4.mid  \n",
      "  inflating: groove/drummer7/session2/81_country_78_fill_4-4.mid  \n",
      "  inflating: groove/drummer7/session2/91_hiphop_75_fill_4-4.mid  \n",
      "  inflating: groove/drummer7/session2/125_hiphop_140_fill_4-4.mid  \n",
      "  inflating: groove/drummer7/session2/98_pop_142_fill_4-4.mid  \n",
      "  inflating: groove/drummer7/session2/85_country_78_fill_4-4.mid  \n",
      "  inflating: groove/drummer7/session2/114_jazz-fusion_96_beat_4-4.mid  \n",
      "  inflating: groove/drummer7/session2/1_rock_120_beat_4-4.mid  \n",
      "  inflating: groove/drummer7/session2/103_pop_132_beat_4-4.mid  \n",
      "  inflating: groove/drummer7/session2/66_rock_145_fill_4-4.mid  \n",
      "  inflating: groove/drummer7/session2/25_rock_118_fill_4-4.mid  \n",
      "  inflating: groove/drummer7/session2/70_rock_145_fill_4-4.mid  \n",
      "  inflating: groove/drummer7/session2/132_hiphop_140_fill_4-4.mid  \n",
      "  inflating: groove/drummer7/session2/46_rock_135_beat_4-4.mid  \n",
      "  inflating: groove/drummer7/session2/17_rock_118_fill_4-4.mid  \n",
      "  inflating: groove/drummer7/session2/48_rock_135_fill_4-4.mid  \n",
      "  inflating: groove/drummer7/session2/93_hiphop_75_beat_4-4.mid  \n",
      "  inflating: groove/drummer7/session2/76_funk_100_beat_4-4.mid  \n",
      "  inflating: groove/drummer7/session2/96_pop_142_beat_4-4.mid  \n",
      "  inflating: groove/drummer7/session2/120_jazz-fusion_96_fill_4-4.mid  \n",
      "  inflating: groove/drummer7/session2/36_rock_75_fill_4-4.mid  \n",
      "  inflating: groove/drummer7/session2/95_hiphop_75_fill_4-4.mid  \n",
      "  inflating: groove/drummer7/session2/62_soul-motown_148_fill_4-4.mid  \n",
      "   creating: groove/drummer7/eval_session/\n",
      "  inflating: groove/drummer7/eval_session/6_hiphop-groove6_87_beat_4-4.mid  \n",
      "  inflating: groove/drummer7/eval_session/3_soul-groove3_86_beat_4-4.mid  \n",
      "  inflating: groove/drummer7/eval_session/7_pop-groove7_138_beat_4-4.mid  \n",
      "  inflating: groove/drummer7/eval_session/5_funk-groove5_84_beat_4-4.mid  \n",
      "  inflating: groove/drummer7/eval_session/9_soul-groove9_105_beat_4-4.mid  \n",
      "  inflating: groove/drummer7/eval_session/1_funk-groove1_138_beat_4-4.mid  \n",
      "  inflating: groove/drummer7/eval_session/10_soul-groove10_102_beat_4-4.mid  \n",
      "  inflating: groove/drummer7/eval_session/4_soul-groove4_80_beat_4-4.mid  \n",
      "  inflating: groove/drummer7/eval_session/2_funk-groove2_105_beat_4-4.mid  \n",
      "  inflating: groove/drummer7/eval_session/8_rock-groove8_65_beat_4-4.mid  \n",
      "   creating: groove/drummer7/session1/\n",
      "  inflating: groove/drummer7/session1/35_hiphop_100_fill_4-4.mid  \n",
      "  inflating: groove/drummer7/session1/4_rock_86_fill_4-4.mid  \n",
      "  inflating: groove/drummer7/session1/29_hiphop_100_fill_4-4.mid  \n",
      "  inflating: groove/drummer7/session1/10_rock_93_beat_4-4.mid  \n",
      "  inflating: groove/drummer7/session1/39_hiphop_100_beat_4-4.mid  \n",
      "  inflating: groove/drummer7/session1/26_hiphop_100_fill_4-4.mid  \n",
      "  inflating: groove/drummer7/session1/14_jazz_100_beat_4-4.mid  \n",
      "  inflating: groove/drummer7/session1/12_funk_102_beat_4-4.mid  \n",
      "  inflating: groove/drummer7/session1/31_hiphop_100_fill_4-4.mid  \n",
      "  inflating: groove/drummer7/session1/11_rock_93_beat_4-4.mid  \n",
      "  inflating: groove/drummer7/session1/21_hiphop_100_fill_4-4.mid  \n",
      "  inflating: groove/drummer7/session1/40_hiphop_100_beat_4-4.mid  \n",
      "  inflating: groove/drummer7/session1/5_rock_86_fill_4-4.mid  \n",
      "  inflating: groove/drummer7/session1/32_hiphop_100_fill_4-4.mid  \n",
      "  inflating: groove/drummer7/session1/22_hiphop_100_beat_4-4.mid  \n",
      "  inflating: groove/drummer7/session1/1_rock_86_beat_4-4.mid  \n",
      "  inflating: groove/drummer7/session1/25_hiphop_100_fill_4-4.mid  \n",
      "  inflating: groove/drummer7/session1/36_hiphop_100_fill_4-4.mid  \n",
      "  inflating: groove/drummer7/session1/18_hiphop_100_beat_4-4.mid  \n",
      "  inflating: groove/drummer7/session1/17_hiphop_100_beat_4-4.mid  \n",
      "  inflating: groove/drummer7/session1/15_jazz_112_beat_4-4.mid  \n",
      "  inflating: groove/drummer7/session1/8_rock_93_beat_4-4.mid  \n",
      "  inflating: groove/drummer7/session1/23_hiphop_100_fill_4-4.mid  \n",
      "  inflating: groove/drummer7/session1/30_hiphop_100_fill_4-4.mid  \n",
      "  inflating: groove/drummer7/session1/7_rock_93_beat_4-4.mid  \n",
      "  inflating: groove/drummer7/session1/19_hiphop_100_fill_4-4.mid  \n",
      "  inflating: groove/drummer7/session1/3_rock_86_fill_4-4.mid  \n",
      "  inflating: groove/drummer7/session1/27_hiphop_100_fill_4-4.mid  \n",
      "  inflating: groove/drummer7/session1/38_hiphop_100_beat_4-4.mid  \n",
      "  inflating: groove/drummer7/session1/6_rock_86_fill_4-4.mid  \n",
      "  inflating: groove/drummer7/session1/28_hiphop_100_fill_4-4.mid  \n",
      "  inflating: groove/drummer7/session1/13_funk_102_beat_4-4.mid  \n",
      "  inflating: groove/drummer7/session1/34_hiphop_100_fill_4-4.mid  \n",
      "  inflating: groove/drummer7/session1/16_hiphop_100_beat_4-4.mid  \n",
      "  inflating: groove/drummer7/session1/37_hiphop_100_fill_4-4.mid  \n",
      "  inflating: groove/drummer7/session1/24_hiphop_100_fill_4-4.mid  \n",
      "  inflating: groove/drummer7/session1/9_rock_93_beat_4-4.mid  \n",
      "  inflating: groove/drummer7/session1/33_hiphop_100_fill_4-4.mid  \n",
      "  inflating: groove/drummer7/session1/2_rock_86_fill_4-4.mid  \n",
      "  inflating: groove/drummer7/session1/20_hiphop_100_fill_4-4.mid  \n",
      "   creating: groove/drummer10/\n",
      "   creating: groove/drummer10/session1/\n",
      "  inflating: groove/drummer10/session1/7_jazz-swing_215_beat_4-4.mid  \n",
      "  inflating: groove/drummer10/session1/2_jazz-swing_215_beat_4-4.mid  \n",
      "  inflating: groove/drummer10/session1/8_jazz-swing_215_beat_4-4.mid  \n",
      "  inflating: groove/drummer10/session1/3_jazz-swing_215_beat_4-4.mid  \n",
      "  inflating: groove/drummer10/session1/10_jazz-swing_110_beat_4-4.mid  \n",
      "  inflating: groove/drummer10/session1/6_jazz-swing_215_beat_4-4.mid  \n",
      "  inflating: groove/drummer10/session1/5_jazz-swing_215_beat_4-4.mid  \n",
      "  inflating: groove/drummer10/session1/1_jazz-swing_124_beat_4-4.mid  \n",
      "  inflating: groove/drummer10/session1/9_jazz-swing_110_beat_4-4.mid  \n",
      "  inflating: groove/drummer10/session1/4_jazz-swing_215_beat_4-4.mid  \n",
      "   creating: groove/drummer9/\n",
      "   creating: groove/drummer9/session1/\n",
      "  inflating: groove/drummer9/session1/10_rock_100_beat_4-4.mid  \n",
      "  inflating: groove/drummer9/session1/3_rock_100_beat_4-4.mid  \n",
      "  inflating: groove/drummer9/session1/15_rock_120_beat_4-4.mid  \n",
      "  inflating: groove/drummer9/session1/9_rock_100_beat_4-4.mid  \n",
      "  inflating: groove/drummer9/session1/12_rock_100_beat_4-4.mid  \n",
      "  inflating: groove/drummer9/session1/1_rock_100_beat_4-4.mid  \n",
      "  inflating: groove/drummer9/session1/17_rock_120_beat_4-4.mid  \n",
      "  inflating: groove/drummer9/session1/24_rock_90_beat_4-4.mid  \n",
      "  inflating: groove/drummer9/session1/7_rock_100_beat_4-4.mid  \n",
      "  inflating: groove/drummer9/session1/23_rock_120_beat_4-4.mid  \n",
      "  inflating: groove/drummer9/session1/19_rock_120_beat_4-4.mid  \n",
      "  inflating: groove/drummer9/session1/13_rock_120_beat_4-4.mid  \n",
      "  inflating: groove/drummer9/session1/5_rock_100_beat_4-4.mid  \n",
      "  inflating: groove/drummer9/session1/25_rock_90_beat_4-4.mid  \n",
      "  inflating: groove/drummer9/session1/21_rock_120_beat_4-4.mid  \n",
      "  inflating: groove/drummer9/session1/2_rock_100_beat_4-4.mid  \n",
      "  inflating: groove/drummer9/session1/14_rock_120_beat_4-4.mid  \n",
      "  inflating: groove/drummer9/session1/29_rock_90_beat_4-4.mid  \n",
      "  inflating: groove/drummer9/session1/11_rock_100_beat_4-4.mid  \n",
      "  inflating: groove/drummer9/session1/26_rock_90_beat_4-4.mid  \n",
      "  inflating: groove/drummer9/session1/16_rock_120_beat_4-4.mid  \n",
      "  inflating: groove/drummer9/session1/8_rock_100_beat_4-4.mid  \n",
      "  inflating: groove/drummer9/session1/27_rock_90_beat_4-4.mid  \n",
      "  inflating: groove/drummer9/session1/22_rock_120_beat_4-4.mid  \n",
      "  inflating: groove/drummer9/session1/18_rock_120_beat_4-4.mid  \n",
      "  inflating: groove/drummer9/session1/6_rock_100_beat_4-4.mid  \n",
      "  inflating: groove/drummer9/session1/28_rock_90_beat_4-4.mid  \n",
      "  inflating: groove/drummer9/session1/20_rock_120_beat_4-4.mid  \n",
      "  inflating: groove/drummer9/session1/30_rock_90_beat_4-4.mid  \n",
      "  inflating: groove/drummer9/session1/4_rock_100_beat_4-4.mid  \n",
      "  inflating: groove/LICENSE          \n",
      " extracting: groove/README           \n",
      "   creating: groove/drummer2/\n",
      "   creating: groove/drummer2/session3/\n",
      "  inflating: groove/drummer2/session3/1_rock-shuffle_85_beat_4-4.mid  \n",
      "   creating: groove/drummer2/session2/\n",
      "  inflating: groove/drummer2/session2/1_rock_130_beat_4-4.mid  \n",
      "  inflating: groove/drummer2/session2/9_rock_130_beat_4-4.mid  \n",
      "  inflating: groove/drummer2/session2/12_rock_130_beat_4-4.mid  \n",
      "  inflating: groove/drummer2/session2/3_rock_130_beat_4-4.mid  \n",
      "  inflating: groove/drummer2/session2/10_rock_130_beat_4-4.mid  \n",
      "  inflating: groove/drummer2/session2/5_rock_130_fill_4-4.mid  \n",
      "  inflating: groove/drummer2/session2/14_rock_130_beat_4-4.mid  \n",
      "  inflating: groove/drummer2/session2/7_rock_130_beat_4-4.mid  \n",
      "  inflating: groove/drummer2/session2/8_rock_130_beat_4-4.mid  \n",
      "  inflating: groove/drummer2/session2/13_rock_130_beat_4-4.mid  \n",
      "  inflating: groove/drummer2/session2/11_rock_130_beat_4-4.mid  \n",
      "  inflating: groove/drummer2/session2/2_rock_130_beat_4-4.mid  \n",
      "  inflating: groove/drummer2/session2/4_rock_130_beat_4-4.mid  \n",
      "  inflating: groove/drummer2/session2/6_rock_130_beat_4-4.mid  \n",
      "  inflating: groove/drummer2/session2/15_rock_130_beat_4-4.mid  \n",
      "   creating: groove/drummer2/session1/\n",
      "  inflating: groove/drummer2/session1/2_rock_102_beat_4-4.mid  \n",
      "  inflating: groove/drummer2/session1/1_rock_110_beat_4-4.mid  \n",
      "   creating: groove/drummer5/\n",
      "   creating: groove/drummer5/session2/\n",
      "  inflating: groove/drummer5/session2/19_latin-brazilian-ijexa_108_beat_4-4.mid  \n",
      "  inflating: groove/drummer5/session2/2_latin-brazilian_101_beat_4-4.mid  \n",
      "  inflating: groove/drummer5/session2/23_latin-brazilian-songo_120_beat_4-4.mid  \n",
      "  inflating: groove/drummer5/session2/14_rock_140_beat_4-4.mid  \n",
      "  inflating: groove/drummer5/session2/18_latin-brazilian-samba_93_beat_4-4.mid  \n",
      "  inflating: groove/drummer5/session2/22_latin-brazilian-frevo_133_beat_4-4.mid  \n",
      "  inflating: groove/drummer5/session2/10_neworleans-funk_102_beat_4-4.mid  \n",
      "  inflating: groove/drummer5/session2/20_latin-brazilian-ijexa_108_beat_4-4.mid  \n",
      "  inflating: groove/drummer5/session2/9_neworleans-shuffle_104_beat_4-4.mid  \n",
      "  inflating: groove/drummer5/session2/21_latin-brazilian-ijexa_108_beat_4-4.mid  \n",
      "  inflating: groove/drummer5/session2/5_reggae_126_beat_4-4.mid  \n",
      "  inflating: groove/drummer5/session2/3_latin-brazilian_101_beat_4-4.mid  \n",
      "  inflating: groove/drummer5/session2/6_neworleans-secondline_99_beat_4-4.mid  \n",
      "  inflating: groove/drummer5/session2/24_latin-brazilian-songo_120_beat_4-4.mid  \n",
      "  inflating: groove/drummer5/session2/13_rock_140_beat_4-4.mid  \n",
      "  inflating: groove/drummer5/session2/16_latin-ando_125_beat_3-4.mid  \n",
      "  inflating: groove/drummer5/session2/17_latin-brazilian-samba_110_beat_4-4.mid  \n",
      "  inflating: groove/drummer5/session2/7_neworleans-secondline_124_beat_4-4.mid  \n",
      "  inflating: groove/drummer5/session2/1_latin-venezuelan-sangueo_101_beat_4-4.mid  \n",
      "  inflating: groove/drummer5/session2/12_rock_105_beat_4-4.mid  \n",
      "  inflating: groove/drummer5/session2/8_neworleans-chacha_124_beat_4-4.mid  \n",
      "  inflating: groove/drummer5/session2/15_latin-venezuelan-joropo_80_beat_4-4.mid  \n",
      "  inflating: groove/drummer5/session2/11_soul_96_beat_4-4.mid  \n",
      "  inflating: groove/drummer5/session2/4_reggae_141_beat_4-4.mid  \n",
      "   creating: groove/drummer5/eval_session/\n",
      "  inflating: groove/drummer5/eval_session/6_hiphop-groove6_87_beat_4-4.mid  \n",
      "  inflating: groove/drummer5/eval_session/3_soul-groove3_86_beat_4-4.mid  \n",
      "  inflating: groove/drummer5/eval_session/7_pop-groove7_138_beat_4-4.mid  \n",
      "  inflating: groove/drummer5/eval_session/5_funk-groove5_84_beat_4-4.mid  \n",
      "  inflating: groove/drummer5/eval_session/9_soul-groove9_105_beat_4-4.mid  \n",
      "  inflating: groove/drummer5/eval_session/1_funk-groove1_138_beat_4-4.mid  \n",
      "  inflating: groove/drummer5/eval_session/10_soul-groove10_102_beat_4-4.mid  \n",
      "  inflating: groove/drummer5/eval_session/4_soul-groove4_80_beat_4-4.mid  \n",
      "  inflating: groove/drummer5/eval_session/2_funk-groove2_105_beat_4-4.mid  \n",
      "  inflating: groove/drummer5/eval_session/8_rock-groove8_65_beat_4-4.mid  \n",
      "   creating: groove/drummer5/session1/\n",
      "  inflating: groove/drummer5/session1/19_middleeastern_126_beat_4-4.mid  \n",
      "  inflating: groove/drummer5/session1/15_funk_100_beat_4-4.mid  \n",
      "  inflating: groove/drummer5/session1/10_latin-brazilian-sambareggae_96_beat_4-4.mid  \n",
      "  inflating: groove/drummer5/session1/5_latin-brazilian-samba_89_beat_4-4.mid  \n",
      "  inflating: groove/drummer5/session1/7_latin-brazilian-maracatu_96_beat_4-4.mid  \n",
      "  inflating: groove/drummer5/session1/2_latin-brazilian-bossa_127_beat_4-4.mid  \n",
      "  inflating: groove/drummer5/session1/16_rock_136_beat_4-4.mid  \n",
      "  inflating: groove/drummer5/session1/4_latin-brazilian-samba_89_beat_4-4.mid  \n",
      "  inflating: groove/drummer5/session1/14_latin-brazilian-songo_112_beat_4-4.mid  \n",
      "  inflating: groove/drummer5/session1/17_blues-shuffle_72_beat_4-4.mid  \n",
      "  inflating: groove/drummer5/session1/1_latin-brazilian-bossa_127_beat_4-4.mid  \n",
      "  inflating: groove/drummer5/session1/3_latin-brazilian-samba_89_beat_4-4.mid  \n",
      "  inflating: groove/drummer5/session1/12_latin-brazilian-sambareggae_96_beat_4-4.mid  \n",
      "  inflating: groove/drummer5/session1/18_afrocuban_128_beat_4-4.mid  \n",
      "  inflating: groove/drummer5/session1/9_latin-dominican-merengue_130_beat_4-4.mid  \n",
      "  inflating: groove/drummer5/session1/6_latin-brazilian-maracatu_96_beat_4-4.mid  \n",
      "  inflating: groove/drummer5/session1/20_latin-brazilian-baiao_110_beat_4-4.mid  \n",
      "  inflating: groove/drummer5/session1/13_afrocuban-calypso_124_beat_4-4.mid  \n",
      "  inflating: groove/drummer5/session1/11_latin-brazilian-sambareggae_96_beat_4-4.mid  \n",
      "  inflating: groove/drummer5/session1/8_latin-venezuelan-merengue_162_beat_5-8.mid  \n",
      "   creating: groove/drummer4/\n",
      "   creating: groove/drummer4/session1/\n",
      "  inflating: groove/drummer4/session1/6_blues-shuffle_134_beat_4-4.mid  \n",
      "  inflating: groove/drummer4/session1/9_latin-merengue_158_beat_4-4.mid  \n",
      "  inflating: groove/drummer4/session1/5_latin-brazilian_184_beat_4-4.mid  \n",
      "  inflating: groove/drummer4/session1/1_rock_87_beat_4-4.mid  \n",
      "  inflating: groove/drummer4/session1/7_blues-shuffle_134_beat_4-4.mid  \n",
      "  inflating: groove/drummer4/session1/8_blues-shuffle_112_beat_4-4.mid  \n",
      "  inflating: groove/drummer4/session1/3_jazz-klezmer_152_beat_4-4.mid  \n",
      "  inflating: groove/drummer4/session1/4_latin-brazilian_92_beat_4-4.mid  \n",
      "  inflating: groove/drummer4/session1/2_jazz_158_beat_4-4.mid  \n",
      "   creating: groove/drummer3/\n",
      "   creating: groove/drummer3/session2/\n",
      "  inflating: groove/drummer3/session2/10_rock_100_beat_4-4.mid  \n",
      "  inflating: groove/drummer3/session2/43_rock_110_beat_4-4.mid  \n",
      "  inflating: groove/drummer3/session2/33_hiphop_92_beat_4-4.mid  \n",
      "  inflating: groove/drummer3/session2/18_rock_100_beat_4-4.mid  \n",
      "  inflating: groove/drummer3/session2/41_hiphop_110_beat_4-4.mid  \n",
      "  inflating: groove/drummer3/session2/30_rock_92_beat_4-4.mid  \n",
      "  inflating: groove/drummer3/session2/3_rock_100_beat_4-4.mid  \n",
      "  inflating: groove/drummer3/session2/35_rock_92_beat_4-4.mid  \n",
      "  inflating: groove/drummer3/session2/45_rock_110_fill_4-4.mid  \n",
      "  inflating: groove/drummer3/session2/9_rock_100_beat_4-4.mid  \n",
      "  inflating: groove/drummer3/session2/22_rock_92_beat_4-4.mid  \n",
      "  inflating: groove/drummer3/session2/12_rock_100_beat_4-4.mid  \n",
      "  inflating: groove/drummer3/session2/1_rock_100_beat_4-4.mid  \n",
      "  inflating: groove/drummer3/session2/28_rock_92_beat_4-4.mid  \n",
      "  inflating: groove/drummer3/session2/34_rock_92_beat_4-4.mid  \n",
      "  inflating: groove/drummer3/session2/7_rock_100_beat_4-4.mid  \n",
      "  inflating: groove/drummer3/session2/14_rock_100_beat_4-4.mid  \n",
      "  inflating: groove/drummer3/session2/31_hiphop_92_beat_4-4.mid  \n",
      "  inflating: groove/drummer3/session2/47_rock_110_beat_4-4.mid  \n",
      "  inflating: groove/drummer3/session2/5_rock_100_beat_4-4.mid  \n",
      "  inflating: groove/drummer3/session2/29_rock_92_beat_4-4.mid  \n",
      "  inflating: groove/drummer3/session2/32_hiphop_92_beat_4-4.mid  \n",
      "  inflating: groove/drummer3/session2/23_rock_92_beat_4-4.mid  \n",
      "  inflating: groove/drummer3/session2/27_jazz_92_beat_4-4.mid  \n",
      "  inflating: groove/drummer3/session2/16_rock_100_beat_4-4.mid  \n",
      "  inflating: groove/drummer3/session2/20_rock_92_beat_4-4.mid  \n",
      "  inflating: groove/drummer3/session2/19_rock_100_beat_4-4.mid  \n",
      "  inflating: groove/drummer3/session2/2_rock_100_beat_4-4.mid  \n",
      "  inflating: groove/drummer3/session2/44_rock_110_fill_4-4.mid  \n",
      "  inflating: groove/drummer3/session2/11_rock_100_beat_4-4.mid  \n",
      "  inflating: groove/drummer3/session2/39_rock_92_fill_4-4.mid  \n",
      "  inflating: groove/drummer3/session2/42_rock_110_beat_4-4.mid  \n",
      "  inflating: groove/drummer3/session2/46_rock_110_fill_4-4.mid  \n",
      "  inflating: groove/drummer3/session2/48_rock_110_beat_4-4.mid  \n",
      "  inflating: groove/drummer3/session2/40_hiphop_110_beat_4-4.mid  \n",
      "  inflating: groove/drummer3/session2/38_rock_92_beat_4-4.mid  \n",
      "  inflating: groove/drummer3/session2/37_rock_92_beat_4-4.mid  \n",
      "  inflating: groove/drummer3/session2/8_rock_100_beat_4-4.mid  \n",
      "  inflating: groove/drummer3/session2/13_rock_100_beat_4-4.mid  \n",
      "  inflating: groove/drummer3/session2/15_rock_100_beat_4-4.mid  \n",
      "  inflating: groove/drummer3/session2/25_hiphop_92_beat_4-4.mid  \n",
      "  inflating: groove/drummer3/session2/21_rock_92_beat_4-4.mid  \n",
      "  inflating: groove/drummer3/session2/6_rock_100_beat_4-4.mid  \n",
      "  inflating: groove/drummer3/session2/24_rock_92_beat_4-4.mid  \n",
      "  inflating: groove/drummer3/session2/36_rock_92_beat_4-4.mid  \n",
      "  inflating: groove/drummer3/session2/17_rock_100_beat_4-4.mid  \n",
      "  inflating: groove/drummer3/session2/4_rock_100_beat_4-4.mid  \n",
      "  inflating: groove/drummer3/session2/26_hiphop_92_beat_4-4.mid  \n",
      "   creating: groove/drummer3/session1/\n",
      "  inflating: groove/drummer3/session1/27_rock_120_beat_4-4.mid  \n",
      "  inflating: groove/drummer3/session1/49_rock_120_beat_4-4.mid  \n",
      "  inflating: groove/drummer3/session1/19_jazz_120_beat_4-4.mid  \n",
      "  inflating: groove/drummer3/session1/41_rock_120_beat_4-4.mid  \n",
      "  inflating: groove/drummer3/session1/4_rock_105_beat_4-4.mid  \n",
      "  inflating: groove/drummer3/session1/23_jazz_120_beat_4-4.mid  \n",
      "  inflating: groove/drummer3/session1/8_jazz_105_beat_4-4.mid  \n",
      "  inflating: groove/drummer3/session1/25_rock_120_beat_4-4.mid  \n",
      "  inflating: groove/drummer3/session1/21_jazz_120_beat_4-4.mid  \n",
      "  inflating: groove/drummer3/session1/6_rock_105_beat_4-4.mid  \n",
      "  inflating: groove/drummer3/session1/43_rock_120_beat_4-4.mid  \n",
      "  inflating: groove/drummer3/session1/45_rock_120_beat_4-4.mid  \n",
      "  inflating: groove/drummer3/session1/31_jazz_120_beat_4-4.mid  \n",
      "  inflating: groove/drummer3/session1/11_rock_120_beat_4-4.mid  \n",
      "  inflating: groove/drummer3/session1/15_jazz_120_beat_4-4.mid  \n",
      "  inflating: groove/drummer3/session1/35_rock_120_beat_4-4.mid  \n",
      "  inflating: groove/drummer3/session1/39_jazz_120_beat_4-4.mid  \n",
      "  inflating: groove/drummer3/session1/13_rock_120_beat_4-4.mid  \n",
      "  inflating: groove/drummer3/session1/33_jazz_120_beat_4-4.mid  \n",
      "  inflating: groove/drummer3/session1/47_rock_120_beat_4-4.mid  \n",
      "  inflating: groove/drummer3/session1/29_rock_120_beat_4-4.mid  \n",
      "  inflating: groove/drummer3/session1/2_rock_105_beat_4-4.mid  \n",
      "  inflating: groove/drummer3/session1/37_rock_120_beat_4-4.mid  \n",
      "  inflating: groove/drummer3/session1/17_jazz_120_beat_4-4.mid  \n",
      "  inflating: groove/drummer3/session1/40_rock_120_beat_4-4.mid  \n",
      "  inflating: groove/drummer3/session1/5_rock_105_beat_4-4.mid  \n",
      "  inflating: groove/drummer3/session1/38_rock_120_beat_4-4.mid  \n",
      "  inflating: groove/drummer3/session1/14_rock_120_beat_4-4.mid  \n",
      "  inflating: groove/drummer3/session1/22_jazz_120_beat_4-4.mid  \n",
      "  inflating: groove/drummer3/session1/30_rock_120_beat_4-4.mid  \n",
      "  inflating: groove/drummer3/session1/48_rock_120_beat_4-4.mid  \n",
      "  inflating: groove/drummer3/session1/26_rock_120_beat_4-4.mid  \n",
      "  inflating: groove/drummer3/session1/7_rock_105_beat_4-4.mid  \n",
      "  inflating: groove/drummer3/session1/42_rock_120_beat_4-4.mid  \n",
      "  inflating: groove/drummer3/session1/24_rock_120_beat_4-4.mid  \n",
      "  inflating: groove/drummer3/session1/34_rock_120_beat_4-4.mid  \n",
      "  inflating: groove/drummer3/session1/9_rock_105_beat_4-4.mid  \n",
      "  inflating: groove/drummer3/session1/18_rock_120_beat_4-4.mid  \n",
      "  inflating: groove/drummer3/session1/1_rock_105_beat_4-4.mid  \n",
      "  inflating: groove/drummer3/session1/44_rock_120_beat_4-4.mid  \n",
      "  inflating: groove/drummer3/session1/10_rock_105_beat_4-4.mid  \n",
      "  inflating: groove/drummer3/session1/36_rock_120_beat_4-4.mid  \n",
      "  inflating: groove/drummer3/session1/16_jazz_120_beat_4-4.mid  \n",
      "  inflating: groove/drummer3/session1/20_rock_120_beat_4-4.mid  \n",
      "  inflating: groove/drummer3/session1/12_rock_120_beat_4-4.mid  \n",
      "  inflating: groove/drummer3/session1/32_jazz_120_beat_4-4.mid  \n",
      "  inflating: groove/drummer3/session1/28_rock_120_beat_4-4.mid  \n",
      "  inflating: groove/drummer3/session1/46_rock_120_beat_4-4.mid  \n",
      "  inflating: groove/drummer3/session1/3_rock_105_beat_4-4.mid  \n",
      "  inflating: groove/drummer3/session1/50_rock_120_beat_4-4.mid  \n",
      "  inflating: groove/info.csv         \n",
      " extracting: groove/drummer8/session2/Icon  \n",
      " extracting: groove/drummer8/eval_session/Icon  \n",
      " extracting: groove/drummer8/Icon    \n",
      " extracting: groove/drummer8/session1/Icon  \n",
      " extracting: groove/drummer6/session3/Icon  \n",
      " extracting: groove/drummer6/session2/Icon  \n",
      " extracting: groove/drummer6/Icon    \n",
      " extracting: groove/drummer6/session1/Icon  \n",
      " extracting: groove/drummer1/session3/Icon  \n",
      " extracting: groove/drummer1/session2/Icon  \n",
      " extracting: groove/drummer1/eval_session/Icon  \n",
      " extracting: groove/drummer1/Icon    \n",
      " extracting: groove/drummer1/session1/Icon  \n",
      " extracting: groove/drummer7/session3/Icon  \n",
      " extracting: groove/drummer7/session2/Icon  \n",
      " extracting: groove/drummer7/eval_session/Icon  \n",
      " extracting: groove/drummer7/Icon    \n",
      " extracting: groove/drummer7/session1/Icon  \n",
      " extracting: groove/drummer10/Icon   \n",
      " extracting: groove/drummer10/session1/Icon  \n",
      " extracting: groove/drummer9/Icon    \n",
      " extracting: groove/drummer9/session1/Icon  \n",
      " extracting: groove/Icon             \n",
      " extracting: groove/drummer2/session3/Icon  \n",
      " extracting: groove/drummer2/session2/Icon  \n",
      " extracting: groove/drummer2/Icon    \n",
      " extracting: groove/drummer2/session1/Icon  \n",
      " extracting: groove/drummer5/session2/Icon  \n",
      " extracting: groove/drummer5/eval_session/Icon  \n",
      " extracting: groove/drummer5/Icon    \n",
      " extracting: groove/drummer5/session1/Icon  \n",
      " extracting: groove/drummer4/Icon    \n",
      " extracting: groove/drummer4/session1/Icon  \n",
      " extracting: groove/drummer3/session2/Icon  \n",
      " extracting: groove/drummer3/Icon    \n",
      " extracting: groove/drummer3/session1/Icon  \n"
     ]
    }
   ],
   "source": [
    "# 압축해제\n",
    "!unzip data.zip"
   ]
  },
  {
   "cell_type": "markdown",
   "id": "22c14df3-6d99-441e-a8c6-d89750313dc9",
   "metadata": {},
   "source": [
    "## MIDI 데이터를 NoteSequences 로 변환하고 TFRecord 파일로 저장 "
   ]
  },
  {
   "cell_type": "code",
   "execution_count": 34,
   "id": "6dd399c0-45ba-4483-b663-9ce64d9a97d7",
   "metadata": {
    "scrolled": true,
    "tags": []
   },
   "outputs": [
    {
     "name": "stdout",
     "output_type": "stream",
     "text": [
      "INFO:tensorflow:Converting files in '/data/heerak/music_vae/groove/'.\n"
     ]
    },
    {
     "name": "stderr",
     "output_type": "stream",
     "text": [
      "INFO:tensorflow:Converting files in '/data/heerak/music_vae/groove/'.\n"
     ]
    },
    {
     "name": "stdout",
     "output_type": "stream",
     "text": [
      "INFO:tensorflow:0 files converted.\n"
     ]
    },
    {
     "name": "stderr",
     "output_type": "stream",
     "text": [
      "INFO:tensorflow:0 files converted.\n"
     ]
    },
    {
     "name": "stdout",
     "output_type": "stream",
     "text": [
      "WARNING:tensorflow:Unable to find a converter for file /data/heerak/music_vae/groove/LICENSE\n"
     ]
    },
    {
     "name": "stderr",
     "output_type": "stream",
     "text": [
      "WARNING:tensorflow:Unable to find a converter for file /data/heerak/music_vae/groove/LICENSE\n"
     ]
    },
    {
     "name": "stdout",
     "output_type": "stream",
     "text": [
      "WARNING:tensorflow:Unable to find a converter for file /data/heerak/music_vae/groove/info.csv\n"
     ]
    },
    {
     "name": "stderr",
     "output_type": "stream",
     "text": [
      "WARNING:tensorflow:Unable to find a converter for file /data/heerak/music_vae/groove/info.csv\n"
     ]
    },
    {
     "name": "stdout",
     "output_type": "stream",
     "text": [
      "WARNING:tensorflow:Unable to find a converter for file /data/heerak/music_vae/groove/Icon\n"
     ]
    },
    {
     "name": "stderr",
     "output_type": "stream",
     "text": [
      "WARNING:tensorflow:Unable to find a converter for file /data/heerak/music_vae/groove/Icon\n"
     ]
    },
    {
     "name": "stdout",
     "output_type": "stream",
     "text": [
      "WARNING:tensorflow:Unable to find a converter for file /data/heerak/music_vae/groove/README\n"
     ]
    },
    {
     "name": "stderr",
     "output_type": "stream",
     "text": [
      "WARNING:tensorflow:Unable to find a converter for file /data/heerak/music_vae/groove/README\n"
     ]
    },
    {
     "name": "stdout",
     "output_type": "stream",
     "text": [
      "INFO:tensorflow:Converting files in '/data/heerak/music_vae/groove/drummer3'.\n"
     ]
    },
    {
     "name": "stderr",
     "output_type": "stream",
     "text": [
      "INFO:tensorflow:Converting files in '/data/heerak/music_vae/groove/drummer3'.\n"
     ]
    },
    {
     "name": "stdout",
     "output_type": "stream",
     "text": [
      "WARNING:tensorflow:Unable to find a converter for file /data/heerak/music_vae/groove/drummer3/Icon\n"
     ]
    },
    {
     "name": "stderr",
     "output_type": "stream",
     "text": [
      "WARNING:tensorflow:Unable to find a converter for file /data/heerak/music_vae/groove/drummer3/Icon\n"
     ]
    },
    {
     "name": "stdout",
     "output_type": "stream",
     "text": [
      "INFO:tensorflow:Converting files in '/data/heerak/music_vae/groove/drummer3/session2'.\n"
     ]
    },
    {
     "name": "stderr",
     "output_type": "stream",
     "text": [
      "INFO:tensorflow:Converting files in '/data/heerak/music_vae/groove/drummer3/session2'.\n"
     ]
    },
    {
     "name": "stdout",
     "output_type": "stream",
     "text": [
      "INFO:tensorflow:Converted MIDI file /data/heerak/music_vae/groove/drummer3/session2/42_rock_110_beat_4-4.mid.\n"
     ]
    },
    {
     "name": "stderr",
     "output_type": "stream",
     "text": [
      "INFO:tensorflow:Converted MIDI file /data/heerak/music_vae/groove/drummer3/session2/42_rock_110_beat_4-4.mid.\n"
     ]
    },
    {
     "name": "stdout",
     "output_type": "stream",
     "text": [
      "INFO:tensorflow:Converted MIDI file /data/heerak/music_vae/groove/drummer3/session2/17_rock_100_beat_4-4.mid.\n"
     ]
    },
    {
     "name": "stderr",
     "output_type": "stream",
     "text": [
      "INFO:tensorflow:Converted MIDI file /data/heerak/music_vae/groove/drummer3/session2/17_rock_100_beat_4-4.mid.\n"
     ]
    },
    {
     "name": "stdout",
     "output_type": "stream",
     "text": [
      "INFO:tensorflow:Converted MIDI file /data/heerak/music_vae/groove/drummer3/session2/16_rock_100_beat_4-4.mid.\n"
     ]
    },
    {
     "name": "stderr",
     "output_type": "stream",
     "text": [
      "INFO:tensorflow:Converted MIDI file /data/heerak/music_vae/groove/drummer3/session2/16_rock_100_beat_4-4.mid.\n"
     ]
    },
    {
     "name": "stdout",
     "output_type": "stream",
     "text": [
      "INFO:tensorflow:Converted MIDI file /data/heerak/music_vae/groove/drummer3/session2/4_rock_100_beat_4-4.mid.\n"
     ]
    },
    {
     "name": "stderr",
     "output_type": "stream",
     "text": [
      "INFO:tensorflow:Converted MIDI file /data/heerak/music_vae/groove/drummer3/session2/4_rock_100_beat_4-4.mid.\n"
     ]
    },
    {
     "name": "stdout",
     "output_type": "stream",
     "text": [
      "INFO:tensorflow:Converted MIDI file /data/heerak/music_vae/groove/drummer3/session2/9_rock_100_beat_4-4.mid.\n"
     ]
    },
    {
     "name": "stderr",
     "output_type": "stream",
     "text": [
      "INFO:tensorflow:Converted MIDI file /data/heerak/music_vae/groove/drummer3/session2/9_rock_100_beat_4-4.mid.\n"
     ]
    },
    {
     "name": "stdout",
     "output_type": "stream",
     "text": [
      "INFO:tensorflow:Converted MIDI file /data/heerak/music_vae/groove/drummer3/session2/39_rock_92_fill_4-4.mid.\n"
     ]
    },
    {
     "name": "stderr",
     "output_type": "stream",
     "text": [
      "INFO:tensorflow:Converted MIDI file /data/heerak/music_vae/groove/drummer3/session2/39_rock_92_fill_4-4.mid.\n"
     ]
    },
    {
     "name": "stdout",
     "output_type": "stream",
     "text": [
      "INFO:tensorflow:Converted MIDI file /data/heerak/music_vae/groove/drummer3/session2/37_rock_92_beat_4-4.mid.\n"
     ]
    },
    {
     "name": "stderr",
     "output_type": "stream",
     "text": [
      "INFO:tensorflow:Converted MIDI file /data/heerak/music_vae/groove/drummer3/session2/37_rock_92_beat_4-4.mid.\n"
     ]
    },
    {
     "name": "stdout",
     "output_type": "stream",
     "text": [
      "INFO:tensorflow:Converted MIDI file /data/heerak/music_vae/groove/drummer3/session2/20_rock_92_beat_4-4.mid.\n"
     ]
    },
    {
     "name": "stderr",
     "output_type": "stream",
     "text": [
      "INFO:tensorflow:Converted MIDI file /data/heerak/music_vae/groove/drummer3/session2/20_rock_92_beat_4-4.mid.\n"
     ]
    },
    {
     "name": "stdout",
     "output_type": "stream",
     "text": [
      "INFO:tensorflow:Converted MIDI file /data/heerak/music_vae/groove/drummer3/session2/12_rock_100_beat_4-4.mid.\n"
     ]
    },
    {
     "name": "stderr",
     "output_type": "stream",
     "text": [
      "INFO:tensorflow:Converted MIDI file /data/heerak/music_vae/groove/drummer3/session2/12_rock_100_beat_4-4.mid.\n"
     ]
    },
    {
     "name": "stdout",
     "output_type": "stream",
     "text": [
      "INFO:tensorflow:Converted MIDI file /data/heerak/music_vae/groove/drummer3/session2/25_hiphop_92_beat_4-4.mid.\n"
     ]
    },
    {
     "name": "stderr",
     "output_type": "stream",
     "text": [
      "INFO:tensorflow:Converted MIDI file /data/heerak/music_vae/groove/drummer3/session2/25_hiphop_92_beat_4-4.mid.\n"
     ]
    },
    {
     "name": "stdout",
     "output_type": "stream",
     "text": [
      "INFO:tensorflow:Converted MIDI file /data/heerak/music_vae/groove/drummer3/session2/13_rock_100_beat_4-4.mid.\n"
     ]
    },
    {
     "name": "stderr",
     "output_type": "stream",
     "text": [
      "INFO:tensorflow:Converted MIDI file /data/heerak/music_vae/groove/drummer3/session2/13_rock_100_beat_4-4.mid.\n"
     ]
    },
    {
     "name": "stdout",
     "output_type": "stream",
     "text": [
      "INFO:tensorflow:Converted MIDI file /data/heerak/music_vae/groove/drummer3/session2/18_rock_100_beat_4-4.mid.\n"
     ]
    },
    {
     "name": "stderr",
     "output_type": "stream",
     "text": [
      "INFO:tensorflow:Converted MIDI file /data/heerak/music_vae/groove/drummer3/session2/18_rock_100_beat_4-4.mid.\n"
     ]
    },
    {
     "name": "stdout",
     "output_type": "stream",
     "text": [
      "INFO:tensorflow:Converted MIDI file /data/heerak/music_vae/groove/drummer3/session2/35_rock_92_beat_4-4.mid.\n"
     ]
    },
    {
     "name": "stderr",
     "output_type": "stream",
     "text": [
      "INFO:tensorflow:Converted MIDI file /data/heerak/music_vae/groove/drummer3/session2/35_rock_92_beat_4-4.mid.\n"
     ]
    },
    {
     "name": "stdout",
     "output_type": "stream",
     "text": [
      "INFO:tensorflow:Converted MIDI file /data/heerak/music_vae/groove/drummer3/session2/6_rock_100_beat_4-4.mid.\n"
     ]
    },
    {
     "name": "stderr",
     "output_type": "stream",
     "text": [
      "INFO:tensorflow:Converted MIDI file /data/heerak/music_vae/groove/drummer3/session2/6_rock_100_beat_4-4.mid.\n"
     ]
    },
    {
     "name": "stdout",
     "output_type": "stream",
     "text": [
      "INFO:tensorflow:Converted MIDI file /data/heerak/music_vae/groove/drummer3/session2/47_rock_110_beat_4-4.mid.\n"
     ]
    },
    {
     "name": "stderr",
     "output_type": "stream",
     "text": [
      "INFO:tensorflow:Converted MIDI file /data/heerak/music_vae/groove/drummer3/session2/47_rock_110_beat_4-4.mid.\n"
     ]
    },
    {
     "name": "stdout",
     "output_type": "stream",
     "text": [
      "INFO:tensorflow:Converted MIDI file /data/heerak/music_vae/groove/drummer3/session2/30_rock_92_beat_4-4.mid.\n"
     ]
    },
    {
     "name": "stderr",
     "output_type": "stream",
     "text": [
      "INFO:tensorflow:Converted MIDI file /data/heerak/music_vae/groove/drummer3/session2/30_rock_92_beat_4-4.mid.\n"
     ]
    },
    {
     "name": "stdout",
     "output_type": "stream",
     "text": [
      "INFO:tensorflow:Converted MIDI file /data/heerak/music_vae/groove/drummer3/session2/10_rock_100_beat_4-4.mid.\n"
     ]
    },
    {
     "name": "stderr",
     "output_type": "stream",
     "text": [
      "INFO:tensorflow:Converted MIDI file /data/heerak/music_vae/groove/drummer3/session2/10_rock_100_beat_4-4.mid.\n"
     ]
    },
    {
     "name": "stdout",
     "output_type": "stream",
     "text": [
      "INFO:tensorflow:Converted MIDI file /data/heerak/music_vae/groove/drummer3/session2/14_rock_100_beat_4-4.mid.\n"
     ]
    },
    {
     "name": "stderr",
     "output_type": "stream",
     "text": [
      "INFO:tensorflow:Converted MIDI file /data/heerak/music_vae/groove/drummer3/session2/14_rock_100_beat_4-4.mid.\n"
     ]
    },
    {
     "name": "stdout",
     "output_type": "stream",
     "text": [
      "INFO:tensorflow:Converted MIDI file /data/heerak/music_vae/groove/drummer3/session2/32_hiphop_92_beat_4-4.mid.\n"
     ]
    },
    {
     "name": "stderr",
     "output_type": "stream",
     "text": [
      "INFO:tensorflow:Converted MIDI file /data/heerak/music_vae/groove/drummer3/session2/32_hiphop_92_beat_4-4.mid.\n"
     ]
    },
    {
     "name": "stdout",
     "output_type": "stream",
     "text": [
      "INFO:tensorflow:Converted MIDI file /data/heerak/music_vae/groove/drummer3/session2/1_rock_100_beat_4-4.mid.\n"
     ]
    },
    {
     "name": "stderr",
     "output_type": "stream",
     "text": [
      "INFO:tensorflow:Converted MIDI file /data/heerak/music_vae/groove/drummer3/session2/1_rock_100_beat_4-4.mid.\n"
     ]
    },
    {
     "name": "stdout",
     "output_type": "stream",
     "text": [
      "INFO:tensorflow:Converted MIDI file /data/heerak/music_vae/groove/drummer3/session2/36_rock_92_beat_4-4.mid.\n"
     ]
    },
    {
     "name": "stderr",
     "output_type": "stream",
     "text": [
      "INFO:tensorflow:Converted MIDI file /data/heerak/music_vae/groove/drummer3/session2/36_rock_92_beat_4-4.mid.\n"
     ]
    },
    {
     "name": "stdout",
     "output_type": "stream",
     "text": [
      "INFO:tensorflow:Converted MIDI file /data/heerak/music_vae/groove/drummer3/session2/2_rock_100_beat_4-4.mid.\n"
     ]
    },
    {
     "name": "stderr",
     "output_type": "stream",
     "text": [
      "INFO:tensorflow:Converted MIDI file /data/heerak/music_vae/groove/drummer3/session2/2_rock_100_beat_4-4.mid.\n"
     ]
    },
    {
     "name": "stdout",
     "output_type": "stream",
     "text": [
      "INFO:tensorflow:Converted MIDI file /data/heerak/music_vae/groove/drummer3/session2/41_hiphop_110_beat_4-4.mid.\n"
     ]
    },
    {
     "name": "stderr",
     "output_type": "stream",
     "text": [
      "INFO:tensorflow:Converted MIDI file /data/heerak/music_vae/groove/drummer3/session2/41_hiphop_110_beat_4-4.mid.\n"
     ]
    },
    {
     "name": "stdout",
     "output_type": "stream",
     "text": [
      "INFO:tensorflow:Converted MIDI file /data/heerak/music_vae/groove/drummer3/session2/27_jazz_92_beat_4-4.mid.\n"
     ]
    },
    {
     "name": "stderr",
     "output_type": "stream",
     "text": [
      "INFO:tensorflow:Converted MIDI file /data/heerak/music_vae/groove/drummer3/session2/27_jazz_92_beat_4-4.mid.\n"
     ]
    },
    {
     "name": "stdout",
     "output_type": "stream",
     "text": [
      "INFO:tensorflow:Converted MIDI file /data/heerak/music_vae/groove/drummer3/session2/34_rock_92_beat_4-4.mid.\n"
     ]
    },
    {
     "name": "stderr",
     "output_type": "stream",
     "text": [
      "INFO:tensorflow:Converted MIDI file /data/heerak/music_vae/groove/drummer3/session2/34_rock_92_beat_4-4.mid.\n"
     ]
    },
    {
     "name": "stdout",
     "output_type": "stream",
     "text": [
      "INFO:tensorflow:Converted MIDI file /data/heerak/music_vae/groove/drummer3/session2/26_hiphop_92_beat_4-4.mid.\n"
     ]
    },
    {
     "name": "stderr",
     "output_type": "stream",
     "text": [
      "INFO:tensorflow:Converted MIDI file /data/heerak/music_vae/groove/drummer3/session2/26_hiphop_92_beat_4-4.mid.\n"
     ]
    },
    {
     "name": "stdout",
     "output_type": "stream",
     "text": [
      "INFO:tensorflow:Converted MIDI file /data/heerak/music_vae/groove/drummer3/session2/19_rock_100_beat_4-4.mid.\n"
     ]
    },
    {
     "name": "stderr",
     "output_type": "stream",
     "text": [
      "INFO:tensorflow:Converted MIDI file /data/heerak/music_vae/groove/drummer3/session2/19_rock_100_beat_4-4.mid.\n"
     ]
    },
    {
     "name": "stdout",
     "output_type": "stream",
     "text": [
      "INFO:tensorflow:Converted MIDI file /data/heerak/music_vae/groove/drummer3/session2/46_rock_110_fill_4-4.mid.\n"
     ]
    },
    {
     "name": "stderr",
     "output_type": "stream",
     "text": [
      "INFO:tensorflow:Converted MIDI file /data/heerak/music_vae/groove/drummer3/session2/46_rock_110_fill_4-4.mid.\n"
     ]
    },
    {
     "name": "stdout",
     "output_type": "stream",
     "text": [
      "INFO:tensorflow:Converted MIDI file /data/heerak/music_vae/groove/drummer3/session2/11_rock_100_beat_4-4.mid.\n"
     ]
    },
    {
     "name": "stderr",
     "output_type": "stream",
     "text": [
      "INFO:tensorflow:Converted MIDI file /data/heerak/music_vae/groove/drummer3/session2/11_rock_100_beat_4-4.mid.\n"
     ]
    },
    {
     "name": "stdout",
     "output_type": "stream",
     "text": [
      "INFO:tensorflow:Converted MIDI file /data/heerak/music_vae/groove/drummer3/session2/40_hiphop_110_beat_4-4.mid.\n"
     ]
    },
    {
     "name": "stderr",
     "output_type": "stream",
     "text": [
      "INFO:tensorflow:Converted MIDI file /data/heerak/music_vae/groove/drummer3/session2/40_hiphop_110_beat_4-4.mid.\n"
     ]
    },
    {
     "name": "stdout",
     "output_type": "stream",
     "text": [
      "INFO:tensorflow:Converted MIDI file /data/heerak/music_vae/groove/drummer3/session2/24_rock_92_beat_4-4.mid.\n"
     ]
    },
    {
     "name": "stderr",
     "output_type": "stream",
     "text": [
      "INFO:tensorflow:Converted MIDI file /data/heerak/music_vae/groove/drummer3/session2/24_rock_92_beat_4-4.mid.\n"
     ]
    },
    {
     "name": "stdout",
     "output_type": "stream",
     "text": [
      "INFO:tensorflow:Converted MIDI file /data/heerak/music_vae/groove/drummer3/session2/48_rock_110_beat_4-4.mid.\n"
     ]
    },
    {
     "name": "stderr",
     "output_type": "stream",
     "text": [
      "INFO:tensorflow:Converted MIDI file /data/heerak/music_vae/groove/drummer3/session2/48_rock_110_beat_4-4.mid.\n"
     ]
    },
    {
     "name": "stdout",
     "output_type": "stream",
     "text": [
      "INFO:tensorflow:Converted MIDI file /data/heerak/music_vae/groove/drummer3/session2/5_rock_100_beat_4-4.mid.\n"
     ]
    },
    {
     "name": "stderr",
     "output_type": "stream",
     "text": [
      "INFO:tensorflow:Converted MIDI file /data/heerak/music_vae/groove/drummer3/session2/5_rock_100_beat_4-4.mid.\n"
     ]
    },
    {
     "name": "stdout",
     "output_type": "stream",
     "text": [
      "INFO:tensorflow:Converted MIDI file /data/heerak/music_vae/groove/drummer3/session2/33_hiphop_92_beat_4-4.mid.\n"
     ]
    },
    {
     "name": "stderr",
     "output_type": "stream",
     "text": [
      "INFO:tensorflow:Converted MIDI file /data/heerak/music_vae/groove/drummer3/session2/33_hiphop_92_beat_4-4.mid.\n"
     ]
    },
    {
     "name": "stdout",
     "output_type": "stream",
     "text": [
      "INFO:tensorflow:Converted MIDI file /data/heerak/music_vae/groove/drummer3/session2/22_rock_92_beat_4-4.mid.\n"
     ]
    },
    {
     "name": "stderr",
     "output_type": "stream",
     "text": [
      "INFO:tensorflow:Converted MIDI file /data/heerak/music_vae/groove/drummer3/session2/22_rock_92_beat_4-4.mid.\n"
     ]
    },
    {
     "name": "stdout",
     "output_type": "stream",
     "text": [
      "INFO:tensorflow:Converted MIDI file /data/heerak/music_vae/groove/drummer3/session2/45_rock_110_fill_4-4.mid.\n"
     ]
    },
    {
     "name": "stderr",
     "output_type": "stream",
     "text": [
      "INFO:tensorflow:Converted MIDI file /data/heerak/music_vae/groove/drummer3/session2/45_rock_110_fill_4-4.mid.\n"
     ]
    },
    {
     "name": "stdout",
     "output_type": "stream",
     "text": [
      "INFO:tensorflow:Converted MIDI file /data/heerak/music_vae/groove/drummer3/session2/3_rock_100_beat_4-4.mid.\n"
     ]
    },
    {
     "name": "stderr",
     "output_type": "stream",
     "text": [
      "INFO:tensorflow:Converted MIDI file /data/heerak/music_vae/groove/drummer3/session2/3_rock_100_beat_4-4.mid.\n"
     ]
    },
    {
     "name": "stdout",
     "output_type": "stream",
     "text": [
      "INFO:tensorflow:Converted MIDI file /data/heerak/music_vae/groove/drummer3/session2/15_rock_100_beat_4-4.mid.\n"
     ]
    },
    {
     "name": "stderr",
     "output_type": "stream",
     "text": [
      "INFO:tensorflow:Converted MIDI file /data/heerak/music_vae/groove/drummer3/session2/15_rock_100_beat_4-4.mid.\n"
     ]
    },
    {
     "name": "stdout",
     "output_type": "stream",
     "text": [
      "INFO:tensorflow:Converted MIDI file /data/heerak/music_vae/groove/drummer3/session2/28_rock_92_beat_4-4.mid.\n"
     ]
    },
    {
     "name": "stderr",
     "output_type": "stream",
     "text": [
      "INFO:tensorflow:Converted MIDI file /data/heerak/music_vae/groove/drummer3/session2/28_rock_92_beat_4-4.mid.\n"
     ]
    },
    {
     "name": "stdout",
     "output_type": "stream",
     "text": [
      "INFO:tensorflow:Converted MIDI file /data/heerak/music_vae/groove/drummer3/session2/38_rock_92_beat_4-4.mid.\n"
     ]
    },
    {
     "name": "stderr",
     "output_type": "stream",
     "text": [
      "INFO:tensorflow:Converted MIDI file /data/heerak/music_vae/groove/drummer3/session2/38_rock_92_beat_4-4.mid.\n"
     ]
    },
    {
     "name": "stdout",
     "output_type": "stream",
     "text": [
      "INFO:tensorflow:Converted MIDI file /data/heerak/music_vae/groove/drummer3/session2/31_hiphop_92_beat_4-4.mid.\n"
     ]
    },
    {
     "name": "stderr",
     "output_type": "stream",
     "text": [
      "INFO:tensorflow:Converted MIDI file /data/heerak/music_vae/groove/drummer3/session2/31_hiphop_92_beat_4-4.mid.\n"
     ]
    },
    {
     "name": "stdout",
     "output_type": "stream",
     "text": [
      "INFO:tensorflow:Converted MIDI file /data/heerak/music_vae/groove/drummer3/session2/43_rock_110_beat_4-4.mid.\n"
     ]
    },
    {
     "name": "stderr",
     "output_type": "stream",
     "text": [
      "INFO:tensorflow:Converted MIDI file /data/heerak/music_vae/groove/drummer3/session2/43_rock_110_beat_4-4.mid.\n"
     ]
    },
    {
     "name": "stdout",
     "output_type": "stream",
     "text": [
      "WARNING:tensorflow:Unable to find a converter for file /data/heerak/music_vae/groove/drummer3/session2/Icon\n"
     ]
    },
    {
     "name": "stderr",
     "output_type": "stream",
     "text": [
      "WARNING:tensorflow:Unable to find a converter for file /data/heerak/music_vae/groove/drummer3/session2/Icon\n"
     ]
    },
    {
     "name": "stdout",
     "output_type": "stream",
     "text": [
      "INFO:tensorflow:Converted MIDI file /data/heerak/music_vae/groove/drummer3/session2/29_rock_92_beat_4-4.mid.\n"
     ]
    },
    {
     "name": "stderr",
     "output_type": "stream",
     "text": [
      "INFO:tensorflow:Converted MIDI file /data/heerak/music_vae/groove/drummer3/session2/29_rock_92_beat_4-4.mid.\n"
     ]
    },
    {
     "name": "stdout",
     "output_type": "stream",
     "text": [
      "INFO:tensorflow:Converted MIDI file /data/heerak/music_vae/groove/drummer3/session2/8_rock_100_beat_4-4.mid.\n"
     ]
    },
    {
     "name": "stderr",
     "output_type": "stream",
     "text": [
      "INFO:tensorflow:Converted MIDI file /data/heerak/music_vae/groove/drummer3/session2/8_rock_100_beat_4-4.mid.\n"
     ]
    },
    {
     "name": "stdout",
     "output_type": "stream",
     "text": [
      "INFO:tensorflow:Converted MIDI file /data/heerak/music_vae/groove/drummer3/session2/44_rock_110_fill_4-4.mid.\n"
     ]
    },
    {
     "name": "stderr",
     "output_type": "stream",
     "text": [
      "INFO:tensorflow:Converted MIDI file /data/heerak/music_vae/groove/drummer3/session2/44_rock_110_fill_4-4.mid.\n"
     ]
    },
    {
     "name": "stdout",
     "output_type": "stream",
     "text": [
      "INFO:tensorflow:Converted MIDI file /data/heerak/music_vae/groove/drummer3/session2/21_rock_92_beat_4-4.mid.\n"
     ]
    },
    {
     "name": "stderr",
     "output_type": "stream",
     "text": [
      "INFO:tensorflow:Converted MIDI file /data/heerak/music_vae/groove/drummer3/session2/21_rock_92_beat_4-4.mid.\n"
     ]
    },
    {
     "name": "stdout",
     "output_type": "stream",
     "text": [
      "INFO:tensorflow:Converted MIDI file /data/heerak/music_vae/groove/drummer3/session2/23_rock_92_beat_4-4.mid.\n"
     ]
    },
    {
     "name": "stderr",
     "output_type": "stream",
     "text": [
      "INFO:tensorflow:Converted MIDI file /data/heerak/music_vae/groove/drummer3/session2/23_rock_92_beat_4-4.mid.\n"
     ]
    },
    {
     "name": "stdout",
     "output_type": "stream",
     "text": [
      "INFO:tensorflow:Converted MIDI file /data/heerak/music_vae/groove/drummer3/session2/7_rock_100_beat_4-4.mid.\n"
     ]
    },
    {
     "name": "stderr",
     "output_type": "stream",
     "text": [
      "INFO:tensorflow:Converted MIDI file /data/heerak/music_vae/groove/drummer3/session2/7_rock_100_beat_4-4.mid.\n"
     ]
    },
    {
     "name": "stdout",
     "output_type": "stream",
     "text": [
      "INFO:tensorflow:Converting files in '/data/heerak/music_vae/groove/drummer3/session1'.\n"
     ]
    },
    {
     "name": "stderr",
     "output_type": "stream",
     "text": [
      "INFO:tensorflow:Converting files in '/data/heerak/music_vae/groove/drummer3/session1'.\n"
     ]
    },
    {
     "name": "stdout",
     "output_type": "stream",
     "text": [
      "INFO:tensorflow:Converted MIDI file /data/heerak/music_vae/groove/drummer3/session1/25_rock_120_beat_4-4.mid.\n"
     ]
    },
    {
     "name": "stderr",
     "output_type": "stream",
     "text": [
      "INFO:tensorflow:Converted MIDI file /data/heerak/music_vae/groove/drummer3/session1/25_rock_120_beat_4-4.mid.\n"
     ]
    },
    {
     "name": "stdout",
     "output_type": "stream",
     "text": [
      "INFO:tensorflow:Converted MIDI file /data/heerak/music_vae/groove/drummer3/session1/1_rock_105_beat_4-4.mid.\n"
     ]
    },
    {
     "name": "stderr",
     "output_type": "stream",
     "text": [
      "INFO:tensorflow:Converted MIDI file /data/heerak/music_vae/groove/drummer3/session1/1_rock_105_beat_4-4.mid.\n"
     ]
    },
    {
     "name": "stdout",
     "output_type": "stream",
     "text": [
      "INFO:tensorflow:Converted MIDI file /data/heerak/music_vae/groove/drummer3/session1/36_rock_120_beat_4-4.mid.\n"
     ]
    },
    {
     "name": "stderr",
     "output_type": "stream",
     "text": [
      "INFO:tensorflow:Converted MIDI file /data/heerak/music_vae/groove/drummer3/session1/36_rock_120_beat_4-4.mid.\n"
     ]
    },
    {
     "name": "stdout",
     "output_type": "stream",
     "text": [
      "INFO:tensorflow:Converted MIDI file /data/heerak/music_vae/groove/drummer3/session1/3_rock_105_beat_4-4.mid.\n"
     ]
    },
    {
     "name": "stderr",
     "output_type": "stream",
     "text": [
      "INFO:tensorflow:Converted MIDI file /data/heerak/music_vae/groove/drummer3/session1/3_rock_105_beat_4-4.mid.\n"
     ]
    },
    {
     "name": "stdout",
     "output_type": "stream",
     "text": [
      "INFO:tensorflow:Converted MIDI file /data/heerak/music_vae/groove/drummer3/session1/49_rock_120_beat_4-4.mid.\n"
     ]
    },
    {
     "name": "stderr",
     "output_type": "stream",
     "text": [
      "INFO:tensorflow:Converted MIDI file /data/heerak/music_vae/groove/drummer3/session1/49_rock_120_beat_4-4.mid.\n"
     ]
    },
    {
     "name": "stdout",
     "output_type": "stream",
     "text": [
      "INFO:tensorflow:Converted MIDI file /data/heerak/music_vae/groove/drummer3/session1/48_rock_120_beat_4-4.mid.\n"
     ]
    },
    {
     "name": "stderr",
     "output_type": "stream",
     "text": [
      "INFO:tensorflow:Converted MIDI file /data/heerak/music_vae/groove/drummer3/session1/48_rock_120_beat_4-4.mid.\n"
     ]
    },
    {
     "name": "stdout",
     "output_type": "stream",
     "text": [
      "INFO:tensorflow:Converted MIDI file /data/heerak/music_vae/groove/drummer3/session1/35_rock_120_beat_4-4.mid.\n"
     ]
    },
    {
     "name": "stderr",
     "output_type": "stream",
     "text": [
      "INFO:tensorflow:Converted MIDI file /data/heerak/music_vae/groove/drummer3/session1/35_rock_120_beat_4-4.mid.\n"
     ]
    },
    {
     "name": "stdout",
     "output_type": "stream",
     "text": [
      "INFO:tensorflow:Converted MIDI file /data/heerak/music_vae/groove/drummer3/session1/6_rock_105_beat_4-4.mid.\n"
     ]
    },
    {
     "name": "stderr",
     "output_type": "stream",
     "text": [
      "INFO:tensorflow:Converted MIDI file /data/heerak/music_vae/groove/drummer3/session1/6_rock_105_beat_4-4.mid.\n"
     ]
    },
    {
     "name": "stdout",
     "output_type": "stream",
     "text": [
      "INFO:tensorflow:Converted MIDI file /data/heerak/music_vae/groove/drummer3/session1/45_rock_120_beat_4-4.mid.\n"
     ]
    },
    {
     "name": "stderr",
     "output_type": "stream",
     "text": [
      "INFO:tensorflow:Converted MIDI file /data/heerak/music_vae/groove/drummer3/session1/45_rock_120_beat_4-4.mid.\n"
     ]
    },
    {
     "name": "stdout",
     "output_type": "stream",
     "text": [
      "INFO:tensorflow:Converted MIDI file /data/heerak/music_vae/groove/drummer3/session1/33_jazz_120_beat_4-4.mid.\n"
     ]
    },
    {
     "name": "stderr",
     "output_type": "stream",
     "text": [
      "INFO:tensorflow:Converted MIDI file /data/heerak/music_vae/groove/drummer3/session1/33_jazz_120_beat_4-4.mid.\n"
     ]
    },
    {
     "name": "stdout",
     "output_type": "stream",
     "text": [
      "INFO:tensorflow:Converted MIDI file /data/heerak/music_vae/groove/drummer3/session1/50_rock_120_beat_4-4.mid.\n"
     ]
    },
    {
     "name": "stderr",
     "output_type": "stream",
     "text": [
      "INFO:tensorflow:Converted MIDI file /data/heerak/music_vae/groove/drummer3/session1/50_rock_120_beat_4-4.mid.\n"
     ]
    },
    {
     "name": "stdout",
     "output_type": "stream",
     "text": [
      "INFO:tensorflow:Converted MIDI file /data/heerak/music_vae/groove/drummer3/session1/21_jazz_120_beat_4-4.mid.\n"
     ]
    },
    {
     "name": "stderr",
     "output_type": "stream",
     "text": [
      "INFO:tensorflow:Converted MIDI file /data/heerak/music_vae/groove/drummer3/session1/21_jazz_120_beat_4-4.mid.\n"
     ]
    },
    {
     "name": "stdout",
     "output_type": "stream",
     "text": [
      "INFO:tensorflow:Converted MIDI file /data/heerak/music_vae/groove/drummer3/session1/8_jazz_105_beat_4-4.mid.\n"
     ]
    },
    {
     "name": "stderr",
     "output_type": "stream",
     "text": [
      "INFO:tensorflow:Converted MIDI file /data/heerak/music_vae/groove/drummer3/session1/8_jazz_105_beat_4-4.mid.\n"
     ]
    },
    {
     "name": "stdout",
     "output_type": "stream",
     "text": [
      "INFO:tensorflow:Converted MIDI file /data/heerak/music_vae/groove/drummer3/session1/34_rock_120_beat_4-4.mid.\n"
     ]
    },
    {
     "name": "stderr",
     "output_type": "stream",
     "text": [
      "INFO:tensorflow:Converted MIDI file /data/heerak/music_vae/groove/drummer3/session1/34_rock_120_beat_4-4.mid.\n"
     ]
    },
    {
     "name": "stdout",
     "output_type": "stream",
     "text": [
      "INFO:tensorflow:Converted MIDI file /data/heerak/music_vae/groove/drummer3/session1/17_jazz_120_beat_4-4.mid.\n"
     ]
    },
    {
     "name": "stderr",
     "output_type": "stream",
     "text": [
      "INFO:tensorflow:Converted MIDI file /data/heerak/music_vae/groove/drummer3/session1/17_jazz_120_beat_4-4.mid.\n"
     ]
    },
    {
     "name": "stdout",
     "output_type": "stream",
     "text": [
      "INFO:tensorflow:Converted MIDI file /data/heerak/music_vae/groove/drummer3/session1/23_jazz_120_beat_4-4.mid.\n"
     ]
    },
    {
     "name": "stderr",
     "output_type": "stream",
     "text": [
      "INFO:tensorflow:Converted MIDI file /data/heerak/music_vae/groove/drummer3/session1/23_jazz_120_beat_4-4.mid.\n"
     ]
    },
    {
     "name": "stdout",
     "output_type": "stream",
     "text": [
      "INFO:tensorflow:Converted MIDI file /data/heerak/music_vae/groove/drummer3/session1/11_rock_120_beat_4-4.mid.\n"
     ]
    },
    {
     "name": "stderr",
     "output_type": "stream",
     "text": [
      "INFO:tensorflow:Converted MIDI file /data/heerak/music_vae/groove/drummer3/session1/11_rock_120_beat_4-4.mid.\n"
     ]
    },
    {
     "name": "stdout",
     "output_type": "stream",
     "text": [
      "INFO:tensorflow:Converted MIDI file /data/heerak/music_vae/groove/drummer3/session1/2_rock_105_beat_4-4.mid.\n"
     ]
    },
    {
     "name": "stderr",
     "output_type": "stream",
     "text": [
      "INFO:tensorflow:Converted MIDI file /data/heerak/music_vae/groove/drummer3/session1/2_rock_105_beat_4-4.mid.\n"
     ]
    },
    {
     "name": "stdout",
     "output_type": "stream",
     "text": [
      "INFO:tensorflow:Converted MIDI file /data/heerak/music_vae/groove/drummer3/session1/29_rock_120_beat_4-4.mid.\n"
     ]
    },
    {
     "name": "stderr",
     "output_type": "stream",
     "text": [
      "INFO:tensorflow:Converted MIDI file /data/heerak/music_vae/groove/drummer3/session1/29_rock_120_beat_4-4.mid.\n"
     ]
    },
    {
     "name": "stdout",
     "output_type": "stream",
     "text": [
      "INFO:tensorflow:Converted MIDI file /data/heerak/music_vae/groove/drummer3/session1/13_rock_120_beat_4-4.mid.\n"
     ]
    },
    {
     "name": "stderr",
     "output_type": "stream",
     "text": [
      "INFO:tensorflow:Converted MIDI file /data/heerak/music_vae/groove/drummer3/session1/13_rock_120_beat_4-4.mid.\n"
     ]
    },
    {
     "name": "stdout",
     "output_type": "stream",
     "text": [
      "INFO:tensorflow:Converted MIDI file /data/heerak/music_vae/groove/drummer3/session1/46_rock_120_beat_4-4.mid.\n"
     ]
    },
    {
     "name": "stderr",
     "output_type": "stream",
     "text": [
      "INFO:tensorflow:Converted MIDI file /data/heerak/music_vae/groove/drummer3/session1/46_rock_120_beat_4-4.mid.\n"
     ]
    },
    {
     "name": "stdout",
     "output_type": "stream",
     "text": [
      "INFO:tensorflow:Converted MIDI file /data/heerak/music_vae/groove/drummer3/session1/10_rock_105_beat_4-4.mid.\n"
     ]
    },
    {
     "name": "stderr",
     "output_type": "stream",
     "text": [
      "INFO:tensorflow:Converted MIDI file /data/heerak/music_vae/groove/drummer3/session1/10_rock_105_beat_4-4.mid.\n"
     ]
    },
    {
     "name": "stdout",
     "output_type": "stream",
     "text": [
      "INFO:tensorflow:Converted MIDI file /data/heerak/music_vae/groove/drummer3/session1/28_rock_120_beat_4-4.mid.\n"
     ]
    },
    {
     "name": "stderr",
     "output_type": "stream",
     "text": [
      "INFO:tensorflow:Converted MIDI file /data/heerak/music_vae/groove/drummer3/session1/28_rock_120_beat_4-4.mid.\n"
     ]
    },
    {
     "name": "stdout",
     "output_type": "stream",
     "text": [
      "INFO:tensorflow:Converted MIDI file /data/heerak/music_vae/groove/drummer3/session1/40_rock_120_beat_4-4.mid.\n"
     ]
    },
    {
     "name": "stderr",
     "output_type": "stream",
     "text": [
      "INFO:tensorflow:Converted MIDI file /data/heerak/music_vae/groove/drummer3/session1/40_rock_120_beat_4-4.mid.\n"
     ]
    },
    {
     "name": "stdout",
     "output_type": "stream",
     "text": [
      "INFO:tensorflow:Converted MIDI file /data/heerak/music_vae/groove/drummer3/session1/27_rock_120_beat_4-4.mid.\n"
     ]
    },
    {
     "name": "stderr",
     "output_type": "stream",
     "text": [
      "INFO:tensorflow:Converted MIDI file /data/heerak/music_vae/groove/drummer3/session1/27_rock_120_beat_4-4.mid.\n"
     ]
    },
    {
     "name": "stdout",
     "output_type": "stream",
     "text": [
      "INFO:tensorflow:Converted MIDI file /data/heerak/music_vae/groove/drummer3/session1/9_rock_105_beat_4-4.mid.\n"
     ]
    },
    {
     "name": "stderr",
     "output_type": "stream",
     "text": [
      "INFO:tensorflow:Converted MIDI file /data/heerak/music_vae/groove/drummer3/session1/9_rock_105_beat_4-4.mid.\n"
     ]
    },
    {
     "name": "stdout",
     "output_type": "stream",
     "text": [
      "INFO:tensorflow:Converted MIDI file /data/heerak/music_vae/groove/drummer3/session1/16_jazz_120_beat_4-4.mid.\n"
     ]
    },
    {
     "name": "stderr",
     "output_type": "stream",
     "text": [
      "INFO:tensorflow:Converted MIDI file /data/heerak/music_vae/groove/drummer3/session1/16_jazz_120_beat_4-4.mid.\n"
     ]
    },
    {
     "name": "stdout",
     "output_type": "stream",
     "text": [
      "INFO:tensorflow:Converted MIDI file /data/heerak/music_vae/groove/drummer3/session1/7_rock_105_beat_4-4.mid.\n"
     ]
    },
    {
     "name": "stderr",
     "output_type": "stream",
     "text": [
      "INFO:tensorflow:Converted MIDI file /data/heerak/music_vae/groove/drummer3/session1/7_rock_105_beat_4-4.mid.\n"
     ]
    },
    {
     "name": "stdout",
     "output_type": "stream",
     "text": [
      "INFO:tensorflow:Converted MIDI file /data/heerak/music_vae/groove/drummer3/session1/24_rock_120_beat_4-4.mid.\n"
     ]
    },
    {
     "name": "stderr",
     "output_type": "stream",
     "text": [
      "INFO:tensorflow:Converted MIDI file /data/heerak/music_vae/groove/drummer3/session1/24_rock_120_beat_4-4.mid.\n"
     ]
    },
    {
     "name": "stdout",
     "output_type": "stream",
     "text": [
      "INFO:tensorflow:Converted MIDI file /data/heerak/music_vae/groove/drummer3/session1/12_rock_120_beat_4-4.mid.\n"
     ]
    },
    {
     "name": "stderr",
     "output_type": "stream",
     "text": [
      "INFO:tensorflow:Converted MIDI file /data/heerak/music_vae/groove/drummer3/session1/12_rock_120_beat_4-4.mid.\n"
     ]
    },
    {
     "name": "stdout",
     "output_type": "stream",
     "text": [
      "INFO:tensorflow:Converted MIDI file /data/heerak/music_vae/groove/drummer3/session1/18_rock_120_beat_4-4.mid.\n"
     ]
    },
    {
     "name": "stderr",
     "output_type": "stream",
     "text": [
      "INFO:tensorflow:Converted MIDI file /data/heerak/music_vae/groove/drummer3/session1/18_rock_120_beat_4-4.mid.\n"
     ]
    },
    {
     "name": "stdout",
     "output_type": "stream",
     "text": [
      "INFO:tensorflow:Converted MIDI file /data/heerak/music_vae/groove/drummer3/session1/37_rock_120_beat_4-4.mid.\n"
     ]
    },
    {
     "name": "stderr",
     "output_type": "stream",
     "text": [
      "INFO:tensorflow:Converted MIDI file /data/heerak/music_vae/groove/drummer3/session1/37_rock_120_beat_4-4.mid.\n"
     ]
    },
    {
     "name": "stdout",
     "output_type": "stream",
     "text": [
      "INFO:tensorflow:Converted MIDI file /data/heerak/music_vae/groove/drummer3/session1/31_jazz_120_beat_4-4.mid.\n"
     ]
    },
    {
     "name": "stderr",
     "output_type": "stream",
     "text": [
      "INFO:tensorflow:Converted MIDI file /data/heerak/music_vae/groove/drummer3/session1/31_jazz_120_beat_4-4.mid.\n"
     ]
    },
    {
     "name": "stdout",
     "output_type": "stream",
     "text": [
      "INFO:tensorflow:Converted MIDI file /data/heerak/music_vae/groove/drummer3/session1/4_rock_105_beat_4-4.mid.\n"
     ]
    },
    {
     "name": "stderr",
     "output_type": "stream",
     "text": [
      "INFO:tensorflow:Converted MIDI file /data/heerak/music_vae/groove/drummer3/session1/4_rock_105_beat_4-4.mid.\n"
     ]
    },
    {
     "name": "stdout",
     "output_type": "stream",
     "text": [
      "INFO:tensorflow:Converted MIDI file /data/heerak/music_vae/groove/drummer3/session1/14_rock_120_beat_4-4.mid.\n"
     ]
    },
    {
     "name": "stderr",
     "output_type": "stream",
     "text": [
      "INFO:tensorflow:Converted MIDI file /data/heerak/music_vae/groove/drummer3/session1/14_rock_120_beat_4-4.mid.\n"
     ]
    },
    {
     "name": "stdout",
     "output_type": "stream",
     "text": [
      "INFO:tensorflow:Converted MIDI file /data/heerak/music_vae/groove/drummer3/session1/20_rock_120_beat_4-4.mid.\n"
     ]
    },
    {
     "name": "stderr",
     "output_type": "stream",
     "text": [
      "INFO:tensorflow:Converted MIDI file /data/heerak/music_vae/groove/drummer3/session1/20_rock_120_beat_4-4.mid.\n"
     ]
    },
    {
     "name": "stdout",
     "output_type": "stream",
     "text": [
      "INFO:tensorflow:Converted MIDI file /data/heerak/music_vae/groove/drummer3/session1/26_rock_120_beat_4-4.mid.\n"
     ]
    },
    {
     "name": "stderr",
     "output_type": "stream",
     "text": [
      "INFO:tensorflow:Converted MIDI file /data/heerak/music_vae/groove/drummer3/session1/26_rock_120_beat_4-4.mid.\n"
     ]
    },
    {
     "name": "stdout",
     "output_type": "stream",
     "text": [
      "INFO:tensorflow:Converted MIDI file /data/heerak/music_vae/groove/drummer3/session1/19_jazz_120_beat_4-4.mid.\n"
     ]
    },
    {
     "name": "stderr",
     "output_type": "stream",
     "text": [
      "INFO:tensorflow:Converted MIDI file /data/heerak/music_vae/groove/drummer3/session1/19_jazz_120_beat_4-4.mid.\n"
     ]
    },
    {
     "name": "stdout",
     "output_type": "stream",
     "text": [
      "INFO:tensorflow:Converted MIDI file /data/heerak/music_vae/groove/drummer3/session1/15_jazz_120_beat_4-4.mid.\n"
     ]
    },
    {
     "name": "stderr",
     "output_type": "stream",
     "text": [
      "INFO:tensorflow:Converted MIDI file /data/heerak/music_vae/groove/drummer3/session1/15_jazz_120_beat_4-4.mid.\n"
     ]
    },
    {
     "name": "stdout",
     "output_type": "stream",
     "text": [
      "INFO:tensorflow:Converted MIDI file /data/heerak/music_vae/groove/drummer3/session1/44_rock_120_beat_4-4.mid.\n"
     ]
    },
    {
     "name": "stderr",
     "output_type": "stream",
     "text": [
      "INFO:tensorflow:Converted MIDI file /data/heerak/music_vae/groove/drummer3/session1/44_rock_120_beat_4-4.mid.\n"
     ]
    },
    {
     "name": "stdout",
     "output_type": "stream",
     "text": [
      "INFO:tensorflow:Converted MIDI file /data/heerak/music_vae/groove/drummer3/session1/47_rock_120_beat_4-4.mid.\n"
     ]
    },
    {
     "name": "stderr",
     "output_type": "stream",
     "text": [
      "INFO:tensorflow:Converted MIDI file /data/heerak/music_vae/groove/drummer3/session1/47_rock_120_beat_4-4.mid.\n"
     ]
    },
    {
     "name": "stdout",
     "output_type": "stream",
     "text": [
      "INFO:tensorflow:Converted MIDI file /data/heerak/music_vae/groove/drummer3/session1/22_jazz_120_beat_4-4.mid.\n"
     ]
    },
    {
     "name": "stderr",
     "output_type": "stream",
     "text": [
      "INFO:tensorflow:Converted MIDI file /data/heerak/music_vae/groove/drummer3/session1/22_jazz_120_beat_4-4.mid.\n"
     ]
    },
    {
     "name": "stdout",
     "output_type": "stream",
     "text": [
      "INFO:tensorflow:Converted MIDI file /data/heerak/music_vae/groove/drummer3/session1/5_rock_105_beat_4-4.mid.\n"
     ]
    },
    {
     "name": "stderr",
     "output_type": "stream",
     "text": [
      "INFO:tensorflow:Converted MIDI file /data/heerak/music_vae/groove/drummer3/session1/5_rock_105_beat_4-4.mid.\n"
     ]
    },
    {
     "name": "stdout",
     "output_type": "stream",
     "text": [
      "INFO:tensorflow:Converted MIDI file /data/heerak/music_vae/groove/drummer3/session1/43_rock_120_beat_4-4.mid.\n"
     ]
    },
    {
     "name": "stderr",
     "output_type": "stream",
     "text": [
      "INFO:tensorflow:Converted MIDI file /data/heerak/music_vae/groove/drummer3/session1/43_rock_120_beat_4-4.mid.\n"
     ]
    },
    {
     "name": "stdout",
     "output_type": "stream",
     "text": [
      "INFO:tensorflow:Converted MIDI file /data/heerak/music_vae/groove/drummer3/session1/39_jazz_120_beat_4-4.mid.\n"
     ]
    },
    {
     "name": "stderr",
     "output_type": "stream",
     "text": [
      "INFO:tensorflow:Converted MIDI file /data/heerak/music_vae/groove/drummer3/session1/39_jazz_120_beat_4-4.mid.\n"
     ]
    },
    {
     "name": "stdout",
     "output_type": "stream",
     "text": [
      "WARNING:tensorflow:Unable to find a converter for file /data/heerak/music_vae/groove/drummer3/session1/Icon\n"
     ]
    },
    {
     "name": "stderr",
     "output_type": "stream",
     "text": [
      "WARNING:tensorflow:Unable to find a converter for file /data/heerak/music_vae/groove/drummer3/session1/Icon\n"
     ]
    },
    {
     "name": "stdout",
     "output_type": "stream",
     "text": [
      "INFO:tensorflow:Converted MIDI file /data/heerak/music_vae/groove/drummer3/session1/41_rock_120_beat_4-4.mid.\n"
     ]
    },
    {
     "name": "stderr",
     "output_type": "stream",
     "text": [
      "INFO:tensorflow:Converted MIDI file /data/heerak/music_vae/groove/drummer3/session1/41_rock_120_beat_4-4.mid.\n"
     ]
    },
    {
     "name": "stdout",
     "output_type": "stream",
     "text": [
      "INFO:tensorflow:Converted MIDI file /data/heerak/music_vae/groove/drummer3/session1/42_rock_120_beat_4-4.mid.\n"
     ]
    },
    {
     "name": "stderr",
     "output_type": "stream",
     "text": [
      "INFO:tensorflow:Converted MIDI file /data/heerak/music_vae/groove/drummer3/session1/42_rock_120_beat_4-4.mid.\n"
     ]
    },
    {
     "name": "stdout",
     "output_type": "stream",
     "text": [
      "INFO:tensorflow:Converted MIDI file /data/heerak/music_vae/groove/drummer3/session1/38_rock_120_beat_4-4.mid.\n"
     ]
    },
    {
     "name": "stderr",
     "output_type": "stream",
     "text": [
      "INFO:tensorflow:Converted MIDI file /data/heerak/music_vae/groove/drummer3/session1/38_rock_120_beat_4-4.mid.\n"
     ]
    },
    {
     "name": "stdout",
     "output_type": "stream",
     "text": [
      "INFO:tensorflow:Converted MIDI file /data/heerak/music_vae/groove/drummer3/session1/30_rock_120_beat_4-4.mid.\n"
     ]
    },
    {
     "name": "stderr",
     "output_type": "stream",
     "text": [
      "INFO:tensorflow:Converted MIDI file /data/heerak/music_vae/groove/drummer3/session1/30_rock_120_beat_4-4.mid.\n"
     ]
    },
    {
     "name": "stdout",
     "output_type": "stream",
     "text": [
      "INFO:tensorflow:Converted MIDI file /data/heerak/music_vae/groove/drummer3/session1/32_jazz_120_beat_4-4.mid.\n"
     ]
    },
    {
     "name": "stderr",
     "output_type": "stream",
     "text": [
      "INFO:tensorflow:Converted MIDI file /data/heerak/music_vae/groove/drummer3/session1/32_jazz_120_beat_4-4.mid.\n"
     ]
    },
    {
     "name": "stdout",
     "output_type": "stream",
     "text": [
      "INFO:tensorflow:Converting files in '/data/heerak/music_vae/groove/drummer2'.\n"
     ]
    },
    {
     "name": "stderr",
     "output_type": "stream",
     "text": [
      "INFO:tensorflow:Converting files in '/data/heerak/music_vae/groove/drummer2'.\n"
     ]
    },
    {
     "name": "stdout",
     "output_type": "stream",
     "text": [
      "WARNING:tensorflow:Unable to find a converter for file /data/heerak/music_vae/groove/drummer2/Icon\n"
     ]
    },
    {
     "name": "stderr",
     "output_type": "stream",
     "text": [
      "WARNING:tensorflow:Unable to find a converter for file /data/heerak/music_vae/groove/drummer2/Icon\n"
     ]
    },
    {
     "name": "stdout",
     "output_type": "stream",
     "text": [
      "INFO:tensorflow:Converting files in '/data/heerak/music_vae/groove/drummer2/session2'.\n"
     ]
    },
    {
     "name": "stderr",
     "output_type": "stream",
     "text": [
      "INFO:tensorflow:Converting files in '/data/heerak/music_vae/groove/drummer2/session2'.\n"
     ]
    },
    {
     "name": "stdout",
     "output_type": "stream",
     "text": [
      "INFO:tensorflow:Converted MIDI file /data/heerak/music_vae/groove/drummer2/session2/6_rock_130_beat_4-4.mid.\n"
     ]
    },
    {
     "name": "stderr",
     "output_type": "stream",
     "text": [
      "INFO:tensorflow:Converted MIDI file /data/heerak/music_vae/groove/drummer2/session2/6_rock_130_beat_4-4.mid.\n"
     ]
    },
    {
     "name": "stdout",
     "output_type": "stream",
     "text": [
      "INFO:tensorflow:Converted MIDI file /data/heerak/music_vae/groove/drummer2/session2/11_rock_130_beat_4-4.mid.\n"
     ]
    },
    {
     "name": "stderr",
     "output_type": "stream",
     "text": [
      "INFO:tensorflow:Converted MIDI file /data/heerak/music_vae/groove/drummer2/session2/11_rock_130_beat_4-4.mid.\n"
     ]
    },
    {
     "name": "stdout",
     "output_type": "stream",
     "text": [
      "INFO:tensorflow:Converted MIDI file /data/heerak/music_vae/groove/drummer2/session2/15_rock_130_beat_4-4.mid.\n"
     ]
    },
    {
     "name": "stderr",
     "output_type": "stream",
     "text": [
      "INFO:tensorflow:Converted MIDI file /data/heerak/music_vae/groove/drummer2/session2/15_rock_130_beat_4-4.mid.\n"
     ]
    },
    {
     "name": "stdout",
     "output_type": "stream",
     "text": [
      "INFO:tensorflow:Converted MIDI file /data/heerak/music_vae/groove/drummer2/session2/13_rock_130_beat_4-4.mid.\n"
     ]
    },
    {
     "name": "stderr",
     "output_type": "stream",
     "text": [
      "INFO:tensorflow:Converted MIDI file /data/heerak/music_vae/groove/drummer2/session2/13_rock_130_beat_4-4.mid.\n"
     ]
    },
    {
     "name": "stdout",
     "output_type": "stream",
     "text": [
      "INFO:tensorflow:Converted MIDI file /data/heerak/music_vae/groove/drummer2/session2/2_rock_130_beat_4-4.mid.\n"
     ]
    },
    {
     "name": "stderr",
     "output_type": "stream",
     "text": [
      "INFO:tensorflow:Converted MIDI file /data/heerak/music_vae/groove/drummer2/session2/2_rock_130_beat_4-4.mid.\n"
     ]
    },
    {
     "name": "stdout",
     "output_type": "stream",
     "text": [
      "INFO:tensorflow:Converted MIDI file /data/heerak/music_vae/groove/drummer2/session2/9_rock_130_beat_4-4.mid.\n"
     ]
    },
    {
     "name": "stderr",
     "output_type": "stream",
     "text": [
      "INFO:tensorflow:Converted MIDI file /data/heerak/music_vae/groove/drummer2/session2/9_rock_130_beat_4-4.mid.\n"
     ]
    },
    {
     "name": "stdout",
     "output_type": "stream",
     "text": [
      "INFO:tensorflow:Converted MIDI file /data/heerak/music_vae/groove/drummer2/session2/8_rock_130_beat_4-4.mid.\n"
     ]
    },
    {
     "name": "stderr",
     "output_type": "stream",
     "text": [
      "INFO:tensorflow:Converted MIDI file /data/heerak/music_vae/groove/drummer2/session2/8_rock_130_beat_4-4.mid.\n"
     ]
    },
    {
     "name": "stdout",
     "output_type": "stream",
     "text": [
      "INFO:tensorflow:Converted MIDI file /data/heerak/music_vae/groove/drummer2/session2/7_rock_130_beat_4-4.mid.\n"
     ]
    },
    {
     "name": "stderr",
     "output_type": "stream",
     "text": [
      "INFO:tensorflow:Converted MIDI file /data/heerak/music_vae/groove/drummer2/session2/7_rock_130_beat_4-4.mid.\n"
     ]
    },
    {
     "name": "stdout",
     "output_type": "stream",
     "text": [
      "INFO:tensorflow:Converted MIDI file /data/heerak/music_vae/groove/drummer2/session2/12_rock_130_beat_4-4.mid.\n"
     ]
    },
    {
     "name": "stderr",
     "output_type": "stream",
     "text": [
      "INFO:tensorflow:Converted MIDI file /data/heerak/music_vae/groove/drummer2/session2/12_rock_130_beat_4-4.mid.\n"
     ]
    },
    {
     "name": "stdout",
     "output_type": "stream",
     "text": [
      "INFO:tensorflow:Converted MIDI file /data/heerak/music_vae/groove/drummer2/session2/5_rock_130_fill_4-4.mid.\n"
     ]
    },
    {
     "name": "stderr",
     "output_type": "stream",
     "text": [
      "INFO:tensorflow:Converted MIDI file /data/heerak/music_vae/groove/drummer2/session2/5_rock_130_fill_4-4.mid.\n"
     ]
    },
    {
     "name": "stdout",
     "output_type": "stream",
     "text": [
      "INFO:tensorflow:Converted MIDI file /data/heerak/music_vae/groove/drummer2/session2/10_rock_130_beat_4-4.mid.\n"
     ]
    },
    {
     "name": "stderr",
     "output_type": "stream",
     "text": [
      "INFO:tensorflow:Converted MIDI file /data/heerak/music_vae/groove/drummer2/session2/10_rock_130_beat_4-4.mid.\n"
     ]
    },
    {
     "name": "stdout",
     "output_type": "stream",
     "text": [
      "INFO:tensorflow:Converted MIDI file /data/heerak/music_vae/groove/drummer2/session2/1_rock_130_beat_4-4.mid.\n"
     ]
    },
    {
     "name": "stderr",
     "output_type": "stream",
     "text": [
      "INFO:tensorflow:Converted MIDI file /data/heerak/music_vae/groove/drummer2/session2/1_rock_130_beat_4-4.mid.\n"
     ]
    },
    {
     "name": "stdout",
     "output_type": "stream",
     "text": [
      "WARNING:tensorflow:Unable to find a converter for file /data/heerak/music_vae/groove/drummer2/session2/Icon\n"
     ]
    },
    {
     "name": "stderr",
     "output_type": "stream",
     "text": [
      "WARNING:tensorflow:Unable to find a converter for file /data/heerak/music_vae/groove/drummer2/session2/Icon\n"
     ]
    },
    {
     "name": "stdout",
     "output_type": "stream",
     "text": [
      "INFO:tensorflow:Converted MIDI file /data/heerak/music_vae/groove/drummer2/session2/4_rock_130_beat_4-4.mid.\n"
     ]
    },
    {
     "name": "stderr",
     "output_type": "stream",
     "text": [
      "INFO:tensorflow:Converted MIDI file /data/heerak/music_vae/groove/drummer2/session2/4_rock_130_beat_4-4.mid.\n"
     ]
    },
    {
     "name": "stdout",
     "output_type": "stream",
     "text": [
      "INFO:tensorflow:Converted MIDI file /data/heerak/music_vae/groove/drummer2/session2/3_rock_130_beat_4-4.mid.\n"
     ]
    },
    {
     "name": "stderr",
     "output_type": "stream",
     "text": [
      "INFO:tensorflow:Converted MIDI file /data/heerak/music_vae/groove/drummer2/session2/3_rock_130_beat_4-4.mid.\n"
     ]
    },
    {
     "name": "stdout",
     "output_type": "stream",
     "text": [
      "INFO:tensorflow:Converted MIDI file /data/heerak/music_vae/groove/drummer2/session2/14_rock_130_beat_4-4.mid.\n"
     ]
    },
    {
     "name": "stderr",
     "output_type": "stream",
     "text": [
      "INFO:tensorflow:Converted MIDI file /data/heerak/music_vae/groove/drummer2/session2/14_rock_130_beat_4-4.mid.\n"
     ]
    },
    {
     "name": "stdout",
     "output_type": "stream",
     "text": [
      "INFO:tensorflow:Converting files in '/data/heerak/music_vae/groove/drummer2/session3'.\n"
     ]
    },
    {
     "name": "stderr",
     "output_type": "stream",
     "text": [
      "INFO:tensorflow:Converting files in '/data/heerak/music_vae/groove/drummer2/session3'.\n"
     ]
    },
    {
     "name": "stdout",
     "output_type": "stream",
     "text": [
      "INFO:tensorflow:Converted MIDI file /data/heerak/music_vae/groove/drummer2/session3/1_rock-shuffle_85_beat_4-4.mid.\n"
     ]
    },
    {
     "name": "stderr",
     "output_type": "stream",
     "text": [
      "INFO:tensorflow:Converted MIDI file /data/heerak/music_vae/groove/drummer2/session3/1_rock-shuffle_85_beat_4-4.mid.\n"
     ]
    },
    {
     "name": "stdout",
     "output_type": "stream",
     "text": [
      "WARNING:tensorflow:Unable to find a converter for file /data/heerak/music_vae/groove/drummer2/session3/Icon\n"
     ]
    },
    {
     "name": "stderr",
     "output_type": "stream",
     "text": [
      "WARNING:tensorflow:Unable to find a converter for file /data/heerak/music_vae/groove/drummer2/session3/Icon\n"
     ]
    },
    {
     "name": "stdout",
     "output_type": "stream",
     "text": [
      "INFO:tensorflow:Converting files in '/data/heerak/music_vae/groove/drummer2/session1'.\n"
     ]
    },
    {
     "name": "stderr",
     "output_type": "stream",
     "text": [
      "INFO:tensorflow:Converting files in '/data/heerak/music_vae/groove/drummer2/session1'.\n"
     ]
    },
    {
     "name": "stdout",
     "output_type": "stream",
     "text": [
      "INFO:tensorflow:Converted MIDI file /data/heerak/music_vae/groove/drummer2/session1/2_rock_102_beat_4-4.mid.\n"
     ]
    },
    {
     "name": "stderr",
     "output_type": "stream",
     "text": [
      "INFO:tensorflow:Converted MIDI file /data/heerak/music_vae/groove/drummer2/session1/2_rock_102_beat_4-4.mid.\n"
     ]
    },
    {
     "name": "stdout",
     "output_type": "stream",
     "text": [
      "INFO:tensorflow:Converted MIDI file /data/heerak/music_vae/groove/drummer2/session1/1_rock_110_beat_4-4.mid.\n"
     ]
    },
    {
     "name": "stderr",
     "output_type": "stream",
     "text": [
      "INFO:tensorflow:Converted MIDI file /data/heerak/music_vae/groove/drummer2/session1/1_rock_110_beat_4-4.mid.\n"
     ]
    },
    {
     "name": "stdout",
     "output_type": "stream",
     "text": [
      "WARNING:tensorflow:Unable to find a converter for file /data/heerak/music_vae/groove/drummer2/session1/Icon\n"
     ]
    },
    {
     "name": "stderr",
     "output_type": "stream",
     "text": [
      "WARNING:tensorflow:Unable to find a converter for file /data/heerak/music_vae/groove/drummer2/session1/Icon\n"
     ]
    },
    {
     "name": "stdout",
     "output_type": "stream",
     "text": [
      "INFO:tensorflow:Converting files in '/data/heerak/music_vae/groove/drummer1'.\n"
     ]
    },
    {
     "name": "stderr",
     "output_type": "stream",
     "text": [
      "INFO:tensorflow:Converting files in '/data/heerak/music_vae/groove/drummer1'.\n"
     ]
    },
    {
     "name": "stdout",
     "output_type": "stream",
     "text": [
      "WARNING:tensorflow:Unable to find a converter for file /data/heerak/music_vae/groove/drummer1/Icon\n"
     ]
    },
    {
     "name": "stderr",
     "output_type": "stream",
     "text": [
      "WARNING:tensorflow:Unable to find a converter for file /data/heerak/music_vae/groove/drummer1/Icon\n"
     ]
    },
    {
     "name": "stdout",
     "output_type": "stream",
     "text": [
      "INFO:tensorflow:Converting files in '/data/heerak/music_vae/groove/drummer1/session2'.\n"
     ]
    },
    {
     "name": "stderr",
     "output_type": "stream",
     "text": [
      "INFO:tensorflow:Converting files in '/data/heerak/music_vae/groove/drummer1/session2'.\n"
     ]
    },
    {
     "name": "stdout",
     "output_type": "stream",
     "text": [
      "INFO:tensorflow:Converted MIDI file /data/heerak/music_vae/groove/drummer1/session2/133_afrocuban-bembe_122_fill_4-4.mid.\n"
     ]
    },
    {
     "name": "stderr",
     "output_type": "stream",
     "text": [
      "INFO:tensorflow:Converted MIDI file /data/heerak/music_vae/groove/drummer1/session2/133_afrocuban-bembe_122_fill_4-4.mid.\n"
     ]
    },
    {
     "name": "stdout",
     "output_type": "stream",
     "text": [
      "INFO:tensorflow:Converted MIDI file /data/heerak/music_vae/groove/drummer1/session2/6_rock_102_beat_3-4.mid.\n"
     ]
    },
    {
     "name": "stderr",
     "output_type": "stream",
     "text": [
      "INFO:tensorflow:Converted MIDI file /data/heerak/music_vae/groove/drummer1/session2/6_rock_102_beat_3-4.mid.\n"
     ]
    },
    {
     "name": "stdout",
     "output_type": "stream",
     "text": [
      "INFO:tensorflow:Converted MIDI file /data/heerak/music_vae/groove/drummer1/session2/148_gospel_120_fill_4-4.mid.\n"
     ]
    },
    {
     "name": "stderr",
     "output_type": "stream",
     "text": [
      "INFO:tensorflow:Converted MIDI file /data/heerak/music_vae/groove/drummer1/session2/148_gospel_120_fill_4-4.mid.\n"
     ]
    },
    {
     "name": "stdout",
     "output_type": "stream",
     "text": [
      "INFO:tensorflow:Converted MIDI file /data/heerak/music_vae/groove/drummer1/session2/30_country_114_fill_4-4.mid.\n"
     ]
    },
    {
     "name": "stderr",
     "output_type": "stream",
     "text": [
      "INFO:tensorflow:Converted MIDI file /data/heerak/music_vae/groove/drummer1/session2/30_country_114_fill_4-4.mid.\n"
     ]
    },
    {
     "name": "stdout",
     "output_type": "stream",
     "text": [
      "INFO:tensorflow:Converted MIDI file /data/heerak/music_vae/groove/drummer1/session2/31_country_114_fill_4-4.mid.\n"
     ]
    },
    {
     "name": "stderr",
     "output_type": "stream",
     "text": [
      "INFO:tensorflow:Converted MIDI file /data/heerak/music_vae/groove/drummer1/session2/31_country_114_fill_4-4.mid.\n"
     ]
    },
    {
     "name": "stdout",
     "output_type": "stream",
     "text": [
      "INFO:tensorflow:Converted MIDI file /data/heerak/music_vae/groove/drummer1/session2/178_afrocuban-rhumba_110_fill_4-4.mid.\n"
     ]
    },
    {
     "name": "stderr",
     "output_type": "stream",
     "text": [
      "INFO:tensorflow:Converted MIDI file /data/heerak/music_vae/groove/drummer1/session2/178_afrocuban-rhumba_110_fill_4-4.mid.\n"
     ]
    },
    {
     "name": "stdout",
     "output_type": "stream",
     "text": [
      "INFO:tensorflow:Converted MIDI file /data/heerak/music_vae/groove/drummer1/session2/167_afrocuban-rhumba_110_fill_4-4.mid.\n"
     ]
    },
    {
     "name": "stderr",
     "output_type": "stream",
     "text": [
      "INFO:tensorflow:Converted MIDI file /data/heerak/music_vae/groove/drummer1/session2/167_afrocuban-rhumba_110_fill_4-4.mid.\n"
     ]
    },
    {
     "name": "stdout",
     "output_type": "stream",
     "text": [
      "INFO:tensorflow:Converted MIDI file /data/heerak/music_vae/groove/drummer1/session2/147_gospel_120_fill_4-4.mid.\n"
     ]
    },
    {
     "name": "stderr",
     "output_type": "stream",
     "text": [
      "INFO:tensorflow:Converted MIDI file /data/heerak/music_vae/groove/drummer1/session2/147_gospel_120_fill_4-4.mid.\n"
     ]
    },
    {
     "name": "stdout",
     "output_type": "stream",
     "text": [
      "INFO:tensorflow:Converted MIDI file /data/heerak/music_vae/groove/drummer1/session2/184_rock_115_fill_4-4.mid.\n"
     ]
    },
    {
     "name": "stderr",
     "output_type": "stream",
     "text": [
      "INFO:tensorflow:Converted MIDI file /data/heerak/music_vae/groove/drummer1/session2/184_rock_115_fill_4-4.mid.\n"
     ]
    },
    {
     "name": "stdout",
     "output_type": "stream",
     "text": [
      "INFO:tensorflow:Converted MIDI file /data/heerak/music_vae/groove/drummer1/session2/18_country_114_fill_4-4.mid.\n"
     ]
    },
    {
     "name": "stderr",
     "output_type": "stream",
     "text": [
      "INFO:tensorflow:Converted MIDI file /data/heerak/music_vae/groove/drummer1/session2/18_country_114_fill_4-4.mid.\n"
     ]
    },
    {
     "name": "stdout",
     "output_type": "stream",
     "text": [
      "INFO:tensorflow:Converted MIDI file /data/heerak/music_vae/groove/drummer1/session2/185_rock_115_fill_4-4.mid.\n"
     ]
    },
    {
     "name": "stderr",
     "output_type": "stream",
     "text": [
      "INFO:tensorflow:Converted MIDI file /data/heerak/music_vae/groove/drummer1/session2/185_rock_115_fill_4-4.mid.\n"
     ]
    },
    {
     "name": "stdout",
     "output_type": "stream",
     "text": [
      "INFO:tensorflow:Converted MIDI file /data/heerak/music_vae/groove/drummer1/session2/137_afrocuban-bembe_122_fill_4-4.mid.\n"
     ]
    },
    {
     "name": "stderr",
     "output_type": "stream",
     "text": [
      "INFO:tensorflow:Converted MIDI file /data/heerak/music_vae/groove/drummer1/session2/137_afrocuban-bembe_122_fill_4-4.mid.\n"
     ]
    },
    {
     "name": "stdout",
     "output_type": "stream",
     "text": [
      "INFO:tensorflow:Converted MIDI file /data/heerak/music_vae/groove/drummer1/session2/43_punk_128_fill_4-4.mid.\n"
     ]
    },
    {
     "name": "stderr",
     "output_type": "stream",
     "text": [
      "INFO:tensorflow:Converted MIDI file /data/heerak/music_vae/groove/drummer1/session2/43_punk_128_fill_4-4.mid.\n"
     ]
    },
    {
     "name": "stdout",
     "output_type": "stream",
     "text": [
      "INFO:tensorflow:Converted MIDI file /data/heerak/music_vae/groove/drummer1/session2/60_punk_128_fill_4-4.mid.\n"
     ]
    },
    {
     "name": "stderr",
     "output_type": "stream",
     "text": [
      "INFO:tensorflow:Converted MIDI file /data/heerak/music_vae/groove/drummer1/session2/60_punk_128_fill_4-4.mid.\n"
     ]
    },
    {
     "name": "stdout",
     "output_type": "stream",
     "text": [
      "INFO:tensorflow:Converted MIDI file /data/heerak/music_vae/groove/drummer1/session2/168_afrocuban-rhumba_110_fill_4-4.mid.\n"
     ]
    },
    {
     "name": "stderr",
     "output_type": "stream",
     "text": [
      "INFO:tensorflow:Converted MIDI file /data/heerak/music_vae/groove/drummer1/session2/168_afrocuban-rhumba_110_fill_4-4.mid.\n"
     ]
    },
    {
     "name": "stdout",
     "output_type": "stream",
     "text": [
      "INFO:tensorflow:Converted MIDI file /data/heerak/music_vae/groove/drummer1/session2/188_rock_115_fill_4-4.mid.\n"
     ]
    },
    {
     "name": "stderr",
     "output_type": "stream",
     "text": [
      "INFO:tensorflow:Converted MIDI file /data/heerak/music_vae/groove/drummer1/session2/188_rock_115_fill_4-4.mid.\n"
     ]
    },
    {
     "name": "stdout",
     "output_type": "stream",
     "text": [
      "INFO:tensorflow:Converted MIDI file /data/heerak/music_vae/groove/drummer1/session2/14_country_114_fill_4-4.mid.\n"
     ]
    },
    {
     "name": "stderr",
     "output_type": "stream",
     "text": [
      "INFO:tensorflow:Converted MIDI file /data/heerak/music_vae/groove/drummer1/session2/14_country_114_fill_4-4.mid.\n"
     ]
    },
    {
     "name": "stdout",
     "output_type": "stream",
     "text": [
      "INFO:tensorflow:Converted MIDI file /data/heerak/music_vae/groove/drummer1/session2/125_afrocuban-bembe_122_fill_4-4.mid.\n"
     ]
    },
    {
     "name": "stderr",
     "output_type": "stream",
     "text": [
      "INFO:tensorflow:Converted MIDI file /data/heerak/music_vae/groove/drummer1/session2/125_afrocuban-bembe_122_fill_4-4.mid.\n"
     ]
    },
    {
     "name": "stdout",
     "output_type": "stream",
     "text": [
      "INFO:tensorflow:Converted MIDI file /data/heerak/music_vae/groove/drummer1/session2/117_afrocuban-bembe_122_fill_4-4.mid.\n"
     ]
    },
    {
     "name": "stderr",
     "output_type": "stream",
     "text": [
      "INFO:tensorflow:Converted MIDI file /data/heerak/music_vae/groove/drummer1/session2/117_afrocuban-bembe_122_fill_4-4.mid.\n"
     ]
    },
    {
     "name": "stdout",
     "output_type": "stream",
     "text": [
      "INFO:tensorflow:Converted MIDI file /data/heerak/music_vae/groove/drummer1/session2/13_country_114_fill_4-4.mid.\n"
     ]
    },
    {
     "name": "stderr",
     "output_type": "stream",
     "text": [
      "INFO:tensorflow:Converted MIDI file /data/heerak/music_vae/groove/drummer1/session2/13_country_114_fill_4-4.mid.\n"
     ]
    },
    {
     "name": "stdout",
     "output_type": "stream",
     "text": [
      "INFO:tensorflow:Converted MIDI file /data/heerak/music_vae/groove/drummer1/session2/17_country_114_fill_4-4.mid.\n"
     ]
    },
    {
     "name": "stderr",
     "output_type": "stream",
     "text": [
      "INFO:tensorflow:Converted MIDI file /data/heerak/music_vae/groove/drummer1/session2/17_country_114_fill_4-4.mid.\n"
     ]
    },
    {
     "name": "stdout",
     "output_type": "stream",
     "text": [
      "INFO:tensorflow:Converted MIDI file /data/heerak/music_vae/groove/drummer1/session2/39_punk_128_fill_4-4.mid.\n"
     ]
    },
    {
     "name": "stderr",
     "output_type": "stream",
     "text": [
      "INFO:tensorflow:Converted MIDI file /data/heerak/music_vae/groove/drummer1/session2/39_punk_128_fill_4-4.mid.\n"
     ]
    },
    {
     "name": "stdout",
     "output_type": "stream",
     "text": [
      "INFO:tensorflow:Converted MIDI file /data/heerak/music_vae/groove/drummer1/session2/198_rock_115_fill_4-4.mid.\n"
     ]
    },
    {
     "name": "stderr",
     "output_type": "stream",
     "text": [
      "INFO:tensorflow:Converted MIDI file /data/heerak/music_vae/groove/drummer1/session2/198_rock_115_fill_4-4.mid.\n"
     ]
    },
    {
     "name": "stdout",
     "output_type": "stream",
     "text": [
      "INFO:tensorflow:Converted MIDI file /data/heerak/music_vae/groove/drummer1/session2/131_afrocuban-bembe_122_fill_4-4.mid.\n"
     ]
    },
    {
     "name": "stderr",
     "output_type": "stream",
     "text": [
      "INFO:tensorflow:Converted MIDI file /data/heerak/music_vae/groove/drummer1/session2/131_afrocuban-bembe_122_fill_4-4.mid.\n"
     ]
    },
    {
     "name": "stdout",
     "output_type": "stream",
     "text": [
      "INFO:tensorflow:Converted MIDI file /data/heerak/music_vae/groove/drummer1/session2/12_country_114_fill_4-4.mid.\n"
     ]
    },
    {
     "name": "stderr",
     "output_type": "stream",
     "text": [
      "INFO:tensorflow:Converted MIDI file /data/heerak/music_vae/groove/drummer1/session2/12_country_114_fill_4-4.mid.\n"
     ]
    },
    {
     "name": "stdout",
     "output_type": "stream",
     "text": [
      "INFO:tensorflow:Converted MIDI file /data/heerak/music_vae/groove/drummer1/session2/101_funk-rock_92_fill_4-4.mid.\n"
     ]
    },
    {
     "name": "stderr",
     "output_type": "stream",
     "text": [
      "INFO:tensorflow:Converted MIDI file /data/heerak/music_vae/groove/drummer1/session2/101_funk-rock_92_fill_4-4.mid.\n"
     ]
    },
    {
     "name": "stdout",
     "output_type": "stream",
     "text": [
      "INFO:tensorflow:Converted MIDI file /data/heerak/music_vae/groove/drummer1/session2/57_punk_128_fill_4-4.mid.\n"
     ]
    },
    {
     "name": "stderr",
     "output_type": "stream",
     "text": [
      "INFO:tensorflow:Converted MIDI file /data/heerak/music_vae/groove/drummer1/session2/57_punk_128_fill_4-4.mid.\n"
     ]
    },
    {
     "name": "stdout",
     "output_type": "stream",
     "text": [
      "INFO:tensorflow:Converted MIDI file /data/heerak/music_vae/groove/drummer1/session2/181_rock_115_beat_4-4.mid.\n"
     ]
    },
    {
     "name": "stderr",
     "output_type": "stream",
     "text": [
      "INFO:tensorflow:Converted MIDI file /data/heerak/music_vae/groove/drummer1/session2/181_rock_115_beat_4-4.mid.\n"
     ]
    },
    {
     "name": "stdout",
     "output_type": "stream",
     "text": [
      "INFO:tensorflow:Converted MIDI file /data/heerak/music_vae/groove/drummer1/session2/166_afrocuban-rhumba_110_fill_4-4.mid.\n"
     ]
    },
    {
     "name": "stderr",
     "output_type": "stream",
     "text": [
      "INFO:tensorflow:Converted MIDI file /data/heerak/music_vae/groove/drummer1/session2/166_afrocuban-rhumba_110_fill_4-4.mid.\n"
     ]
    },
    {
     "name": "stdout",
     "output_type": "stream",
     "text": [
      "INFO:tensorflow:Converted MIDI file /data/heerak/music_vae/groove/drummer1/session2/175_afrocuban-rhumba_110_fill_4-4.mid.\n"
     ]
    },
    {
     "name": "stderr",
     "output_type": "stream",
     "text": [
      "INFO:tensorflow:Converted MIDI file /data/heerak/music_vae/groove/drummer1/session2/175_afrocuban-rhumba_110_fill_4-4.mid.\n"
     ]
    },
    {
     "name": "stdout",
     "output_type": "stream",
     "text": [
      "INFO:tensorflow:Converted MIDI file /data/heerak/music_vae/groove/drummer1/session2/124_afrocuban-bembe_122_fill_4-4.mid.\n"
     ]
    },
    {
     "name": "stderr",
     "output_type": "stream",
     "text": [
      "INFO:tensorflow:Converted MIDI file /data/heerak/music_vae/groove/drummer1/session2/124_afrocuban-bembe_122_fill_4-4.mid.\n"
     ]
    },
    {
     "name": "stdout",
     "output_type": "stream",
     "text": [
      "INFO:tensorflow:Converted MIDI file /data/heerak/music_vae/groove/drummer1/session2/97_funk-rock_92_fill_4-4.mid.\n"
     ]
    },
    {
     "name": "stderr",
     "output_type": "stream",
     "text": [
      "INFO:tensorflow:Converted MIDI file /data/heerak/music_vae/groove/drummer1/session2/97_funk-rock_92_fill_4-4.mid.\n"
     ]
    },
    {
     "name": "stdout",
     "output_type": "stream",
     "text": [
      "INFO:tensorflow:Converted MIDI file /data/heerak/music_vae/groove/drummer1/session2/40_punk_128_fill_4-4.mid.\n"
     ]
    },
    {
     "name": "stderr",
     "output_type": "stream",
     "text": [
      "INFO:tensorflow:Converted MIDI file /data/heerak/music_vae/groove/drummer1/session2/40_punk_128_fill_4-4.mid.\n"
     ]
    },
    {
     "name": "stdout",
     "output_type": "stream",
     "text": [
      "INFO:tensorflow:Converted MIDI file /data/heerak/music_vae/groove/drummer1/session2/151_gospel_120_fill_4-4.mid.\n"
     ]
    },
    {
     "name": "stderr",
     "output_type": "stream",
     "text": [
      "INFO:tensorflow:Converted MIDI file /data/heerak/music_vae/groove/drummer1/session2/151_gospel_120_fill_4-4.mid.\n"
     ]
    },
    {
     "name": "stdout",
     "output_type": "stream",
     "text": [
      "INFO:tensorflow:Converted MIDI file /data/heerak/music_vae/groove/drummer1/session2/92_funk-rock_92_fill_4-4.mid.\n"
     ]
    },
    {
     "name": "stderr",
     "output_type": "stream",
     "text": [
      "INFO:tensorflow:Converted MIDI file /data/heerak/music_vae/groove/drummer1/session2/92_funk-rock_92_fill_4-4.mid.\n"
     ]
    },
    {
     "name": "stdout",
     "output_type": "stream",
     "text": [
      "INFO:tensorflow:Converted MIDI file /data/heerak/music_vae/groove/drummer1/session2/146_gospel_120_fill_4-4.mid.\n"
     ]
    },
    {
     "name": "stderr",
     "output_type": "stream",
     "text": [
      "INFO:tensorflow:Converted MIDI file /data/heerak/music_vae/groove/drummer1/session2/146_gospel_120_fill_4-4.mid.\n"
     ]
    },
    {
     "name": "stdout",
     "output_type": "stream",
     "text": [
      "INFO:tensorflow:Converted MIDI file /data/heerak/music_vae/groove/drummer1/session2/172_afrocuban-rhumba_110_fill_4-4.mid.\n"
     ]
    },
    {
     "name": "stderr",
     "output_type": "stream",
     "text": [
      "INFO:tensorflow:Converted MIDI file /data/heerak/music_vae/groove/drummer1/session2/172_afrocuban-rhumba_110_fill_4-4.mid.\n"
     ]
    },
    {
     "name": "stdout",
     "output_type": "stream",
     "text": [
      "INFO:tensorflow:Converted MIDI file /data/heerak/music_vae/groove/drummer1/session2/72_punk_144_fill_4-4.mid.\n"
     ]
    },
    {
     "name": "stderr",
     "output_type": "stream",
     "text": [
      "INFO:tensorflow:Converted MIDI file /data/heerak/music_vae/groove/drummer1/session2/72_punk_144_fill_4-4.mid.\n"
     ]
    },
    {
     "name": "stdout",
     "output_type": "stream",
     "text": [
      "INFO:tensorflow:Converted MIDI file /data/heerak/music_vae/groove/drummer1/session2/111_rock-prog_110_beat_5-4.mid.\n"
     ]
    },
    {
     "name": "stderr",
     "output_type": "stream",
     "text": [
      "INFO:tensorflow:Converted MIDI file /data/heerak/music_vae/groove/drummer1/session2/111_rock-prog_110_beat_5-4.mid.\n"
     ]
    },
    {
     "name": "stdout",
     "output_type": "stream",
     "text": [
      "INFO:tensorflow:Converted MIDI file /data/heerak/music_vae/groove/drummer1/session2/53_punk_128_fill_4-4.mid.\n"
     ]
    },
    {
     "name": "stderr",
     "output_type": "stream",
     "text": [
      "INFO:tensorflow:Converted MIDI file /data/heerak/music_vae/groove/drummer1/session2/53_punk_128_fill_4-4.mid.\n"
     ]
    },
    {
     "name": "stdout",
     "output_type": "stream",
     "text": [
      "INFO:tensorflow:Converted MIDI file /data/heerak/music_vae/groove/drummer1/session2/23_country_114_fill_4-4.mid.\n"
     ]
    },
    {
     "name": "stderr",
     "output_type": "stream",
     "text": [
      "INFO:tensorflow:Converted MIDI file /data/heerak/music_vae/groove/drummer1/session2/23_country_114_fill_4-4.mid.\n"
     ]
    },
    {
     "name": "stdout",
     "output_type": "stream",
     "text": [
      "INFO:tensorflow:Converted MIDI file /data/heerak/music_vae/groove/drummer1/session2/182_rock_115_fill_4-4.mid.\n"
     ]
    },
    {
     "name": "stderr",
     "output_type": "stream",
     "text": [
      "INFO:tensorflow:Converted MIDI file /data/heerak/music_vae/groove/drummer1/session2/182_rock_115_fill_4-4.mid.\n"
     ]
    },
    {
     "name": "stdout",
     "output_type": "stream",
     "text": [
      "INFO:tensorflow:Converted MIDI file /data/heerak/music_vae/groove/drummer1/session2/24_country_114_fill_4-4.mid.\n"
     ]
    },
    {
     "name": "stderr",
     "output_type": "stream",
     "text": [
      "INFO:tensorflow:Converted MIDI file /data/heerak/music_vae/groove/drummer1/session2/24_country_114_fill_4-4.mid.\n"
     ]
    },
    {
     "name": "stdout",
     "output_type": "stream",
     "text": [
      "INFO:tensorflow:Converted MIDI file /data/heerak/music_vae/groove/drummer1/session2/145_gospel_120_fill_4-4.mid.\n"
     ]
    },
    {
     "name": "stderr",
     "output_type": "stream",
     "text": [
      "INFO:tensorflow:Converted MIDI file /data/heerak/music_vae/groove/drummer1/session2/145_gospel_120_fill_4-4.mid.\n"
     ]
    },
    {
     "name": "stdout",
     "output_type": "stream",
     "text": [
      "INFO:tensorflow:Converted MIDI file /data/heerak/music_vae/groove/drummer1/session2/159_gospel_120_fill_4-4.mid.\n"
     ]
    },
    {
     "name": "stderr",
     "output_type": "stream",
     "text": [
      "INFO:tensorflow:Converted MIDI file /data/heerak/music_vae/groove/drummer1/session2/159_gospel_120_fill_4-4.mid.\n"
     ]
    },
    {
     "name": "stdout",
     "output_type": "stream",
     "text": [
      "INFO:tensorflow:Converted MIDI file /data/heerak/music_vae/groove/drummer1/session2/149_gospel_120_fill_4-4.mid.\n"
     ]
    },
    {
     "name": "stderr",
     "output_type": "stream",
     "text": [
      "INFO:tensorflow:Converted MIDI file /data/heerak/music_vae/groove/drummer1/session2/149_gospel_120_fill_4-4.mid.\n"
     ]
    },
    {
     "name": "stdout",
     "output_type": "stream",
     "text": [
      "INFO:tensorflow:Converted MIDI file /data/heerak/music_vae/groove/drummer1/session2/114_afrocuban-bembe_122_fill_4-4.mid.\n"
     ]
    },
    {
     "name": "stderr",
     "output_type": "stream",
     "text": [
      "INFO:tensorflow:Converted MIDI file /data/heerak/music_vae/groove/drummer1/session2/114_afrocuban-bembe_122_fill_4-4.mid.\n"
     ]
    },
    {
     "name": "stdout",
     "output_type": "stream",
     "text": [
      "INFO:tensorflow:Converted MIDI file /data/heerak/music_vae/groove/drummer1/session2/47_punk_128_fill_4-4.mid.\n"
     ]
    },
    {
     "name": "stderr",
     "output_type": "stream",
     "text": [
      "INFO:tensorflow:Converted MIDI file /data/heerak/music_vae/groove/drummer1/session2/47_punk_128_fill_4-4.mid.\n"
     ]
    },
    {
     "name": "stdout",
     "output_type": "stream",
     "text": [
      "INFO:tensorflow:Converted MIDI file /data/heerak/music_vae/groove/drummer1/session2/87_punk_144_fill_4-4.mid.\n"
     ]
    },
    {
     "name": "stderr",
     "output_type": "stream",
     "text": [
      "INFO:tensorflow:Converted MIDI file /data/heerak/music_vae/groove/drummer1/session2/87_punk_144_fill_4-4.mid.\n"
     ]
    },
    {
     "name": "stdout",
     "output_type": "stream",
     "text": [
      "INFO:tensorflow:Converted MIDI file /data/heerak/music_vae/groove/drummer1/session2/143_gospel_120_fill_4-4.mid.\n"
     ]
    },
    {
     "name": "stderr",
     "output_type": "stream",
     "text": [
      "INFO:tensorflow:Converted MIDI file /data/heerak/music_vae/groove/drummer1/session2/143_gospel_120_fill_4-4.mid.\n"
     ]
    },
    {
     "name": "stdout",
     "output_type": "stream",
     "text": [
      "INFO:tensorflow:Converted MIDI file /data/heerak/music_vae/groove/drummer1/session2/11_country_114_fill_4-4.mid.\n"
     ]
    },
    {
     "name": "stderr",
     "output_type": "stream",
     "text": [
      "INFO:tensorflow:Converted MIDI file /data/heerak/music_vae/groove/drummer1/session2/11_country_114_fill_4-4.mid.\n"
     ]
    },
    {
     "name": "stdout",
     "output_type": "stream",
     "text": [
      "INFO:tensorflow:Converted MIDI file /data/heerak/music_vae/groove/drummer1/session2/75_punk_144_fill_4-4.mid.\n"
     ]
    },
    {
     "name": "stderr",
     "output_type": "stream",
     "text": [
      "INFO:tensorflow:Converted MIDI file /data/heerak/music_vae/groove/drummer1/session2/75_punk_144_fill_4-4.mid.\n"
     ]
    },
    {
     "name": "stdout",
     "output_type": "stream",
     "text": [
      "INFO:tensorflow:Converted MIDI file /data/heerak/music_vae/groove/drummer1/session2/58_punk_128_fill_4-4.mid.\n"
     ]
    },
    {
     "name": "stderr",
     "output_type": "stream",
     "text": [
      "INFO:tensorflow:Converted MIDI file /data/heerak/music_vae/groove/drummer1/session2/58_punk_128_fill_4-4.mid.\n"
     ]
    },
    {
     "name": "stdout",
     "output_type": "stream",
     "text": [
      "INFO:tensorflow:Converted MIDI file /data/heerak/music_vae/groove/drummer1/session2/99_funk-rock_92_fill_4-4.mid.\n"
     ]
    },
    {
     "name": "stderr",
     "output_type": "stream",
     "text": [
      "INFO:tensorflow:Converted MIDI file /data/heerak/music_vae/groove/drummer1/session2/99_funk-rock_92_fill_4-4.mid.\n"
     ]
    },
    {
     "name": "stdout",
     "output_type": "stream",
     "text": [
      "INFO:tensorflow:Converted MIDI file /data/heerak/music_vae/groove/drummer1/session2/134_afrocuban-bembe_122_fill_4-4.mid.\n"
     ]
    },
    {
     "name": "stderr",
     "output_type": "stream",
     "text": [
      "INFO:tensorflow:Converted MIDI file /data/heerak/music_vae/groove/drummer1/session2/134_afrocuban-bembe_122_fill_4-4.mid.\n"
     ]
    },
    {
     "name": "stdout",
     "output_type": "stream",
     "text": [
      "INFO:tensorflow:Converted MIDI file /data/heerak/music_vae/groove/drummer1/session2/54_punk_128_fill_4-4.mid.\n"
     ]
    },
    {
     "name": "stderr",
     "output_type": "stream",
     "text": [
      "INFO:tensorflow:Converted MIDI file /data/heerak/music_vae/groove/drummer1/session2/54_punk_128_fill_4-4.mid.\n"
     ]
    },
    {
     "name": "stdout",
     "output_type": "stream",
     "text": [
      "INFO:tensorflow:Converted MIDI file /data/heerak/music_vae/groove/drummer1/session2/139_afrocuban-bembe_122_fill_4-4.mid.\n"
     ]
    },
    {
     "name": "stderr",
     "output_type": "stream",
     "text": [
      "INFO:tensorflow:Converted MIDI file /data/heerak/music_vae/groove/drummer1/session2/139_afrocuban-bembe_122_fill_4-4.mid.\n"
     ]
    },
    {
     "name": "stdout",
     "output_type": "stream",
     "text": [
      "INFO:tensorflow:Converted MIDI file /data/heerak/music_vae/groove/drummer1/session2/48_punk_128_fill_4-4.mid.\n"
     ]
    },
    {
     "name": "stderr",
     "output_type": "stream",
     "text": [
      "INFO:tensorflow:Converted MIDI file /data/heerak/music_vae/groove/drummer1/session2/48_punk_128_fill_4-4.mid.\n"
     ]
    },
    {
     "name": "stdout",
     "output_type": "stream",
     "text": [
      "INFO:tensorflow:Converted MIDI file /data/heerak/music_vae/groove/drummer1/session2/177_afrocuban-rhumba_110_fill_4-4.mid.\n"
     ]
    },
    {
     "name": "stderr",
     "output_type": "stream",
     "text": [
      "INFO:tensorflow:Converted MIDI file /data/heerak/music_vae/groove/drummer1/session2/177_afrocuban-rhumba_110_fill_4-4.mid.\n"
     ]
    },
    {
     "name": "stdout",
     "output_type": "stream",
     "text": [
      "INFO:tensorflow:Converted MIDI file /data/heerak/music_vae/groove/drummer1/session2/140_afrocuban-bembe_122_fill_4-4.mid.\n"
     ]
    },
    {
     "name": "stderr",
     "output_type": "stream",
     "text": [
      "INFO:tensorflow:Converted MIDI file /data/heerak/music_vae/groove/drummer1/session2/140_afrocuban-bembe_122_fill_4-4.mid.\n"
     ]
    },
    {
     "name": "stdout",
     "output_type": "stream",
     "text": [
      "INFO:tensorflow:Converted MIDI file /data/heerak/music_vae/groove/drummer1/session2/25_country_114_fill_4-4.mid.\n"
     ]
    },
    {
     "name": "stderr",
     "output_type": "stream",
     "text": [
      "INFO:tensorflow:Converted MIDI file /data/heerak/music_vae/groove/drummer1/session2/25_country_114_fill_4-4.mid.\n"
     ]
    },
    {
     "name": "stdout",
     "output_type": "stream",
     "text": [
      "INFO:tensorflow:Converted MIDI file /data/heerak/music_vae/groove/drummer1/session2/49_punk_128_fill_4-4.mid.\n"
     ]
    },
    {
     "name": "stderr",
     "output_type": "stream",
     "text": [
      "INFO:tensorflow:Converted MIDI file /data/heerak/music_vae/groove/drummer1/session2/49_punk_128_fill_4-4.mid.\n"
     ]
    },
    {
     "name": "stdout",
     "output_type": "stream",
     "text": [
      "INFO:tensorflow:Converted MIDI file /data/heerak/music_vae/groove/drummer1/session2/170_afrocuban-rhumba_110_fill_4-4.mid.\n"
     ]
    },
    {
     "name": "stderr",
     "output_type": "stream",
     "text": [
      "INFO:tensorflow:Converted MIDI file /data/heerak/music_vae/groove/drummer1/session2/170_afrocuban-rhumba_110_fill_4-4.mid.\n"
     ]
    },
    {
     "name": "stdout",
     "output_type": "stream",
     "text": [
      "INFO:tensorflow:Converted MIDI file /data/heerak/music_vae/groove/drummer1/session2/105_funk-rock_92_fill_4-4.mid.\n"
     ]
    },
    {
     "name": "stderr",
     "output_type": "stream",
     "text": [
      "INFO:tensorflow:Converted MIDI file /data/heerak/music_vae/groove/drummer1/session2/105_funk-rock_92_fill_4-4.mid.\n"
     ]
    },
    {
     "name": "stdout",
     "output_type": "stream",
     "text": [
      "INFO:tensorflow:Converted MIDI file /data/heerak/music_vae/groove/drummer1/session2/104_funk-rock_92_fill_4-4.mid.\n"
     ]
    },
    {
     "name": "stderr",
     "output_type": "stream",
     "text": [
      "INFO:tensorflow:Converted MIDI file /data/heerak/music_vae/groove/drummer1/session2/104_funk-rock_92_fill_4-4.mid.\n"
     ]
    },
    {
     "name": "stdout",
     "output_type": "stream",
     "text": [
      "INFO:tensorflow:Converted MIDI file /data/heerak/music_vae/groove/drummer1/session2/93_funk-rock_92_fill_4-4.mid.\n"
     ]
    },
    {
     "name": "stderr",
     "output_type": "stream",
     "text": [
      "INFO:tensorflow:Converted MIDI file /data/heerak/music_vae/groove/drummer1/session2/93_funk-rock_92_fill_4-4.mid.\n"
     ]
    },
    {
     "name": "stdout",
     "output_type": "stream",
     "text": [
      "INFO:tensorflow:Converted MIDI file /data/heerak/music_vae/groove/drummer1/session2/45_punk_128_fill_4-4.mid.\n"
     ]
    },
    {
     "name": "stderr",
     "output_type": "stream",
     "text": [
      "INFO:tensorflow:Converted MIDI file /data/heerak/music_vae/groove/drummer1/session2/45_punk_128_fill_4-4.mid.\n"
     ]
    },
    {
     "name": "stdout",
     "output_type": "stream",
     "text": [
      "INFO:tensorflow:Converted MIDI file /data/heerak/music_vae/groove/drummer1/session2/81_punk_144_fill_4-4.mid.\n"
     ]
    },
    {
     "name": "stderr",
     "output_type": "stream",
     "text": [
      "INFO:tensorflow:Converted MIDI file /data/heerak/music_vae/groove/drummer1/session2/81_punk_144_fill_4-4.mid.\n"
     ]
    },
    {
     "name": "stdout",
     "output_type": "stream",
     "text": [
      "INFO:tensorflow:Converted MIDI file /data/heerak/music_vae/groove/drummer1/session2/91_funk-rock_92_fill_4-4.mid.\n"
     ]
    },
    {
     "name": "stderr",
     "output_type": "stream",
     "text": [
      "INFO:tensorflow:Converted MIDI file /data/heerak/music_vae/groove/drummer1/session2/91_funk-rock_92_fill_4-4.mid.\n"
     ]
    },
    {
     "name": "stdout",
     "output_type": "stream",
     "text": [
      "INFO:tensorflow:Converted MIDI file /data/heerak/music_vae/groove/drummer1/session2/82_punk_144_fill_4-4.mid.\n"
     ]
    },
    {
     "name": "stderr",
     "output_type": "stream",
     "text": [
      "INFO:tensorflow:Converted MIDI file /data/heerak/music_vae/groove/drummer1/session2/82_punk_144_fill_4-4.mid.\n"
     ]
    },
    {
     "name": "stdout",
     "output_type": "stream",
     "text": [
      "INFO:tensorflow:Converted MIDI file /data/heerak/music_vae/groove/drummer1/session2/52_punk_128_fill_4-4.mid.\n"
     ]
    },
    {
     "name": "stderr",
     "output_type": "stream",
     "text": [
      "INFO:tensorflow:Converted MIDI file /data/heerak/music_vae/groove/drummer1/session2/52_punk_128_fill_4-4.mid.\n"
     ]
    },
    {
     "name": "stdout",
     "output_type": "stream",
     "text": [
      "INFO:tensorflow:Converted MIDI file /data/heerak/music_vae/groove/drummer1/session2/189_rock_115_fill_4-4.mid.\n"
     ]
    },
    {
     "name": "stderr",
     "output_type": "stream",
     "text": [
      "INFO:tensorflow:Converted MIDI file /data/heerak/music_vae/groove/drummer1/session2/189_rock_115_fill_4-4.mid.\n"
     ]
    },
    {
     "name": "stdout",
     "output_type": "stream",
     "text": [
      "INFO:tensorflow:Converted MIDI file /data/heerak/music_vae/groove/drummer1/session2/126_afrocuban-bembe_122_fill_4-4.mid.\n"
     ]
    },
    {
     "name": "stderr",
     "output_type": "stream",
     "text": [
      "INFO:tensorflow:Converted MIDI file /data/heerak/music_vae/groove/drummer1/session2/126_afrocuban-bembe_122_fill_4-4.mid.\n"
     ]
    },
    {
     "name": "stdout",
     "output_type": "stream",
     "text": [
      "INFO:tensorflow:Converted MIDI file /data/heerak/music_vae/groove/drummer1/session2/176_afrocuban-rhumba_110_fill_4-4.mid.\n"
     ]
    },
    {
     "name": "stderr",
     "output_type": "stream",
     "text": [
      "INFO:tensorflow:Converted MIDI file /data/heerak/music_vae/groove/drummer1/session2/176_afrocuban-rhumba_110_fill_4-4.mid.\n"
     ]
    },
    {
     "name": "stdout",
     "output_type": "stream",
     "text": [
      "INFO:tensorflow:Converted MIDI file /data/heerak/music_vae/groove/drummer1/session2/123_afrocuban-bembe_122_fill_4-4.mid.\n"
     ]
    },
    {
     "name": "stderr",
     "output_type": "stream",
     "text": [
      "INFO:tensorflow:Converted MIDI file /data/heerak/music_vae/groove/drummer1/session2/123_afrocuban-bembe_122_fill_4-4.mid.\n"
     ]
    },
    {
     "name": "stdout",
     "output_type": "stream",
     "text": [
      "INFO:tensorflow:Converted MIDI file /data/heerak/music_vae/groove/drummer1/session2/197_rock_115_fill_4-4.mid.\n"
     ]
    },
    {
     "name": "stderr",
     "output_type": "stream",
     "text": [
      "INFO:tensorflow:Converted MIDI file /data/heerak/music_vae/groove/drummer1/session2/197_rock_115_fill_4-4.mid.\n"
     ]
    },
    {
     "name": "stdout",
     "output_type": "stream",
     "text": [
      "INFO:tensorflow:Converted MIDI file /data/heerak/music_vae/groove/drummer1/session2/67_punk_144_fill_4-4.mid.\n"
     ]
    },
    {
     "name": "stderr",
     "output_type": "stream",
     "text": [
      "INFO:tensorflow:Converted MIDI file /data/heerak/music_vae/groove/drummer1/session2/67_punk_144_fill_4-4.mid.\n"
     ]
    },
    {
     "name": "stdout",
     "output_type": "stream",
     "text": [
      "INFO:tensorflow:Converted MIDI file /data/heerak/music_vae/groove/drummer1/session2/5_jazz_200_beat_3-4.mid.\n"
     ]
    },
    {
     "name": "stderr",
     "output_type": "stream",
     "text": [
      "INFO:tensorflow:Converted MIDI file /data/heerak/music_vae/groove/drummer1/session2/5_jazz_200_beat_3-4.mid.\n"
     ]
    },
    {
     "name": "stdout",
     "output_type": "stream",
     "text": [
      "INFO:tensorflow:Converted MIDI file /data/heerak/music_vae/groove/drummer1/session2/34_punk_128_beat_4-4.mid.\n"
     ]
    },
    {
     "name": "stderr",
     "output_type": "stream",
     "text": [
      "INFO:tensorflow:Converted MIDI file /data/heerak/music_vae/groove/drummer1/session2/34_punk_128_beat_4-4.mid.\n"
     ]
    },
    {
     "name": "stdout",
     "output_type": "stream",
     "text": [
      "INFO:tensorflow:Converted MIDI file /data/heerak/music_vae/groove/drummer1/session2/116_afrocuban-bembe_122_fill_4-4.mid.\n"
     ]
    },
    {
     "name": "stderr",
     "output_type": "stream",
     "text": [
      "INFO:tensorflow:Converted MIDI file /data/heerak/music_vae/groove/drummer1/session2/116_afrocuban-bembe_122_fill_4-4.mid.\n"
     ]
    },
    {
     "name": "stdout",
     "output_type": "stream",
     "text": [
      "INFO:tensorflow:Converted MIDI file /data/heerak/music_vae/groove/drummer1/session2/9_jazz-march_120_beat_4-4.mid.\n"
     ]
    },
    {
     "name": "stderr",
     "output_type": "stream",
     "text": [
      "INFO:tensorflow:Converted MIDI file /data/heerak/music_vae/groove/drummer1/session2/9_jazz-march_120_beat_4-4.mid.\n"
     ]
    },
    {
     "name": "stdout",
     "output_type": "stream",
     "text": [
      "INFO:tensorflow:Converted MIDI file /data/heerak/music_vae/groove/drummer1/session2/73_punk_144_fill_4-4.mid.\n"
     ]
    },
    {
     "name": "stderr",
     "output_type": "stream",
     "text": [
      "INFO:tensorflow:Converted MIDI file /data/heerak/music_vae/groove/drummer1/session2/73_punk_144_fill_4-4.mid.\n"
     ]
    },
    {
     "name": "stdout",
     "output_type": "stream",
     "text": [
      "INFO:tensorflow:Converted MIDI file /data/heerak/music_vae/groove/drummer1/session2/46_punk_128_fill_4-4.mid.\n"
     ]
    },
    {
     "name": "stderr",
     "output_type": "stream",
     "text": [
      "INFO:tensorflow:Converted MIDI file /data/heerak/music_vae/groove/drummer1/session2/46_punk_128_fill_4-4.mid.\n"
     ]
    },
    {
     "name": "stdout",
     "output_type": "stream",
     "text": [
      "INFO:tensorflow:Converted MIDI file /data/heerak/music_vae/groove/drummer1/session2/155_gospel_120_fill_4-4.mid.\n"
     ]
    },
    {
     "name": "stderr",
     "output_type": "stream",
     "text": [
      "INFO:tensorflow:Converted MIDI file /data/heerak/music_vae/groove/drummer1/session2/155_gospel_120_fill_4-4.mid.\n"
     ]
    },
    {
     "name": "stdout",
     "output_type": "stream",
     "text": [
      "INFO:tensorflow:Converted MIDI file /data/heerak/music_vae/groove/drummer1/session2/70_punk_144_fill_4-4.mid.\n"
     ]
    },
    {
     "name": "stderr",
     "output_type": "stream",
     "text": [
      "INFO:tensorflow:Converted MIDI file /data/heerak/music_vae/groove/drummer1/session2/70_punk_144_fill_4-4.mid.\n"
     ]
    },
    {
     "name": "stdout",
     "output_type": "stream",
     "text": [
      "INFO:tensorflow:Converted MIDI file /data/heerak/music_vae/groove/drummer1/session2/154_gospel_120_fill_4-4.mid.\n"
     ]
    },
    {
     "name": "stderr",
     "output_type": "stream",
     "text": [
      "INFO:tensorflow:Converted MIDI file /data/heerak/music_vae/groove/drummer1/session2/154_gospel_120_fill_4-4.mid.\n"
     ]
    },
    {
     "name": "stdout",
     "output_type": "stream",
     "text": [
      "INFO:tensorflow:Converted MIDI file /data/heerak/music_vae/groove/drummer1/session2/77_punk_144_fill_4-4.mid.\n"
     ]
    },
    {
     "name": "stderr",
     "output_type": "stream",
     "text": [
      "INFO:tensorflow:Converted MIDI file /data/heerak/music_vae/groove/drummer1/session2/77_punk_144_fill_4-4.mid.\n"
     ]
    },
    {
     "name": "stdout",
     "output_type": "stream",
     "text": [
      "INFO:tensorflow:Converted MIDI file /data/heerak/music_vae/groove/drummer1/session2/142_gospel_120_beat_4-4.mid.\n"
     ]
    },
    {
     "name": "stderr",
     "output_type": "stream",
     "text": [
      "INFO:tensorflow:Converted MIDI file /data/heerak/music_vae/groove/drummer1/session2/142_gospel_120_beat_4-4.mid.\n"
     ]
    },
    {
     "name": "stdout",
     "output_type": "stream",
     "text": [
      "INFO:tensorflow:Converted MIDI file /data/heerak/music_vae/groove/drummer1/session2/192_rock_115_fill_4-4.mid.\n"
     ]
    },
    {
     "name": "stderr",
     "output_type": "stream",
     "text": [
      "INFO:tensorflow:Converted MIDI file /data/heerak/music_vae/groove/drummer1/session2/192_rock_115_fill_4-4.mid.\n"
     ]
    },
    {
     "name": "stdout",
     "output_type": "stream",
     "text": [
      "INFO:tensorflow:Converted MIDI file /data/heerak/music_vae/groove/drummer1/session2/103_funk-rock_92_fill_4-4.mid.\n"
     ]
    },
    {
     "name": "stderr",
     "output_type": "stream",
     "text": [
      "INFO:tensorflow:Converted MIDI file /data/heerak/music_vae/groove/drummer1/session2/103_funk-rock_92_fill_4-4.mid.\n"
     ]
    },
    {
     "name": "stdout",
     "output_type": "stream",
     "text": [
      "INFO:tensorflow:Converted MIDI file /data/heerak/music_vae/groove/drummer1/session2/107_funk-rock_92_fill_4-4.mid.\n"
     ]
    },
    {
     "name": "stderr",
     "output_type": "stream",
     "text": [
      "INFO:tensorflow:Converted MIDI file /data/heerak/music_vae/groove/drummer1/session2/107_funk-rock_92_fill_4-4.mid.\n"
     ]
    },
    {
     "name": "stdout",
     "output_type": "stream",
     "text": [
      "INFO:tensorflow:Converted MIDI file /data/heerak/music_vae/groove/drummer1/session2/106_funk-rock_92_fill_4-4.mid.\n"
     ]
    },
    {
     "name": "stderr",
     "output_type": "stream",
     "text": [
      "INFO:tensorflow:Converted MIDI file /data/heerak/music_vae/groove/drummer1/session2/106_funk-rock_92_fill_4-4.mid.\n"
     ]
    },
    {
     "name": "stdout",
     "output_type": "stream",
     "text": [
      "INFO:tensorflow:Converted MIDI file /data/heerak/music_vae/groove/drummer1/session2/26_country_114_fill_4-4.mid.\n"
     ]
    },
    {
     "name": "stderr",
     "output_type": "stream",
     "text": [
      "INFO:tensorflow:Converted MIDI file /data/heerak/music_vae/groove/drummer1/session2/26_country_114_fill_4-4.mid.\n"
     ]
    },
    {
     "name": "stdout",
     "output_type": "stream",
     "text": [
      "INFO:tensorflow:Converted MIDI file /data/heerak/music_vae/groove/drummer1/session2/90_funk-rock_92_beat_4-4.mid.\n"
     ]
    },
    {
     "name": "stderr",
     "output_type": "stream",
     "text": [
      "INFO:tensorflow:Converted MIDI file /data/heerak/music_vae/groove/drummer1/session2/90_funk-rock_92_beat_4-4.mid.\n"
     ]
    },
    {
     "name": "stdout",
     "output_type": "stream",
     "text": [
      "INFO:tensorflow:Converted MIDI file /data/heerak/music_vae/groove/drummer1/session2/44_punk_128_fill_4-4.mid.\n"
     ]
    },
    {
     "name": "stderr",
     "output_type": "stream",
     "text": [
      "INFO:tensorflow:Converted MIDI file /data/heerak/music_vae/groove/drummer1/session2/44_punk_128_fill_4-4.mid.\n"
     ]
    },
    {
     "name": "stdout",
     "output_type": "stream",
     "text": [
      "INFO:tensorflow:Converted MIDI file /data/heerak/music_vae/groove/drummer1/session2/27_country_114_fill_4-4.mid.\n"
     ]
    },
    {
     "name": "stderr",
     "output_type": "stream",
     "text": [
      "INFO:tensorflow:Converted MIDI file /data/heerak/music_vae/groove/drummer1/session2/27_country_114_fill_4-4.mid.\n"
     ]
    },
    {
     "name": "stdout",
     "output_type": "stream",
     "text": [
      "INFO:tensorflow:Converted MIDI file /data/heerak/music_vae/groove/drummer1/session2/113_afrocuban-bembe_122_fill_4-4.mid.\n"
     ]
    },
    {
     "name": "stderr",
     "output_type": "stream",
     "text": [
      "INFO:tensorflow:Converted MIDI file /data/heerak/music_vae/groove/drummer1/session2/113_afrocuban-bembe_122_fill_4-4.mid.\n"
     ]
    },
    {
     "name": "stdout",
     "output_type": "stream",
     "text": [
      "INFO:tensorflow:Converted MIDI file /data/heerak/music_vae/groove/drummer1/session2/85_punk_144_fill_4-4.mid.\n"
     ]
    },
    {
     "name": "stderr",
     "output_type": "stream",
     "text": [
      "INFO:tensorflow:Converted MIDI file /data/heerak/music_vae/groove/drummer1/session2/85_punk_144_fill_4-4.mid.\n"
     ]
    },
    {
     "name": "stdout",
     "output_type": "stream",
     "text": [
      "INFO:tensorflow:Converted MIDI file /data/heerak/music_vae/groove/drummer1/session2/150_gospel_120_fill_4-4.mid.\n"
     ]
    },
    {
     "name": "stderr",
     "output_type": "stream",
     "text": [
      "INFO:tensorflow:Converted MIDI file /data/heerak/music_vae/groove/drummer1/session2/150_gospel_120_fill_4-4.mid.\n"
     ]
    },
    {
     "name": "stdout",
     "output_type": "stream",
     "text": [
      "INFO:tensorflow:Converted MIDI file /data/heerak/music_vae/groove/drummer1/session2/33_punk_128_beat_4-4.mid.\n"
     ]
    },
    {
     "name": "stderr",
     "output_type": "stream",
     "text": [
      "INFO:tensorflow:Converted MIDI file /data/heerak/music_vae/groove/drummer1/session2/33_punk_128_beat_4-4.mid.\n"
     ]
    },
    {
     "name": "stdout",
     "output_type": "stream",
     "text": [
      "INFO:tensorflow:Converted MIDI file /data/heerak/music_vae/groove/drummer1/session2/179_afrocuban-rhumba_110_fill_4-4.mid.\n"
     ]
    },
    {
     "name": "stderr",
     "output_type": "stream",
     "text": [
      "INFO:tensorflow:Converted MIDI file /data/heerak/music_vae/groove/drummer1/session2/179_afrocuban-rhumba_110_fill_4-4.mid.\n"
     ]
    },
    {
     "name": "stdout",
     "output_type": "stream",
     "text": [
      "INFO:tensorflow:Converted MIDI file /data/heerak/music_vae/groove/drummer1/session2/19_country_114_fill_4-4.mid.\n"
     ]
    },
    {
     "name": "stderr",
     "output_type": "stream",
     "text": [
      "INFO:tensorflow:Converted MIDI file /data/heerak/music_vae/groove/drummer1/session2/19_country_114_fill_4-4.mid.\n"
     ]
    },
    {
     "name": "stdout",
     "output_type": "stream",
     "text": [
      "INFO:tensorflow:Converted MIDI file /data/heerak/music_vae/groove/drummer1/session2/119_afrocuban-bembe_122_fill_4-4.mid.\n"
     ]
    },
    {
     "name": "stderr",
     "output_type": "stream",
     "text": [
      "INFO:tensorflow:Converted MIDI file /data/heerak/music_vae/groove/drummer1/session2/119_afrocuban-bembe_122_fill_4-4.mid.\n"
     ]
    },
    {
     "name": "stdout",
     "output_type": "stream",
     "text": [
      "INFO:tensorflow:Converted MIDI file /data/heerak/music_vae/groove/drummer1/session2/29_country_114_fill_4-4.mid.\n"
     ]
    },
    {
     "name": "stderr",
     "output_type": "stream",
     "text": [
      "INFO:tensorflow:Converted MIDI file /data/heerak/music_vae/groove/drummer1/session2/29_country_114_fill_4-4.mid.\n"
     ]
    },
    {
     "name": "stdout",
     "output_type": "stream",
     "text": [
      "INFO:tensorflow:Converted MIDI file /data/heerak/music_vae/groove/drummer1/session2/138_afrocuban-bembe_122_fill_4-4.mid.\n"
     ]
    },
    {
     "name": "stderr",
     "output_type": "stream",
     "text": [
      "INFO:tensorflow:Converted MIDI file /data/heerak/music_vae/groove/drummer1/session2/138_afrocuban-bembe_122_fill_4-4.mid.\n"
     ]
    },
    {
     "name": "stdout",
     "output_type": "stream",
     "text": [
      "INFO:tensorflow:Converted MIDI file /data/heerak/music_vae/groove/drummer1/session2/22_country_114_fill_4-4.mid.\n"
     ]
    },
    {
     "name": "stderr",
     "output_type": "stream",
     "text": [
      "INFO:tensorflow:Converted MIDI file /data/heerak/music_vae/groove/drummer1/session2/22_country_114_fill_4-4.mid.\n"
     ]
    },
    {
     "name": "stdout",
     "output_type": "stream",
     "text": [
      "INFO:tensorflow:Converted MIDI file /data/heerak/music_vae/groove/drummer1/session2/68_punk_144_fill_4-4.mid.\n"
     ]
    },
    {
     "name": "stderr",
     "output_type": "stream",
     "text": [
      "INFO:tensorflow:Converted MIDI file /data/heerak/music_vae/groove/drummer1/session2/68_punk_144_fill_4-4.mid.\n"
     ]
    },
    {
     "name": "stdout",
     "output_type": "stream",
     "text": [
      "INFO:tensorflow:Converted MIDI file /data/heerak/music_vae/groove/drummer1/session2/190_rock_115_fill_4-4.mid.\n"
     ]
    },
    {
     "name": "stderr",
     "output_type": "stream",
     "text": [
      "INFO:tensorflow:Converted MIDI file /data/heerak/music_vae/groove/drummer1/session2/190_rock_115_fill_4-4.mid.\n"
     ]
    },
    {
     "name": "stdout",
     "output_type": "stream",
     "text": [
      "INFO:tensorflow:Converted MIDI file /data/heerak/music_vae/groove/drummer1/session2/108_funk-rock_92_fill_4-4.mid.\n"
     ]
    },
    {
     "name": "stderr",
     "output_type": "stream",
     "text": [
      "INFO:tensorflow:Converted MIDI file /data/heerak/music_vae/groove/drummer1/session2/108_funk-rock_92_fill_4-4.mid.\n"
     ]
    },
    {
     "name": "stdout",
     "output_type": "stream",
     "text": [
      "INFO:tensorflow:Converted MIDI file /data/heerak/music_vae/groove/drummer1/session2/64_punk_144_fill_4-4.mid.\n"
     ]
    },
    {
     "name": "stderr",
     "output_type": "stream",
     "text": [
      "INFO:tensorflow:Converted MIDI file /data/heerak/music_vae/groove/drummer1/session2/64_punk_144_fill_4-4.mid.\n"
     ]
    },
    {
     "name": "stdout",
     "output_type": "stream",
     "text": [
      "INFO:tensorflow:Converted MIDI file /data/heerak/music_vae/groove/drummer1/session2/55_punk_128_fill_4-4.mid.\n"
     ]
    },
    {
     "name": "stderr",
     "output_type": "stream",
     "text": [
      "INFO:tensorflow:Converted MIDI file /data/heerak/music_vae/groove/drummer1/session2/55_punk_128_fill_4-4.mid.\n"
     ]
    },
    {
     "name": "stdout",
     "output_type": "stream",
     "text": [
      "INFO:tensorflow:Converted MIDI file /data/heerak/music_vae/groove/drummer1/session2/195_rock_115_fill_4-4.mid.\n"
     ]
    },
    {
     "name": "stderr",
     "output_type": "stream",
     "text": [
      "INFO:tensorflow:Converted MIDI file /data/heerak/music_vae/groove/drummer1/session2/195_rock_115_fill_4-4.mid.\n"
     ]
    },
    {
     "name": "stdout",
     "output_type": "stream",
     "text": [
      "INFO:tensorflow:Converted MIDI file /data/heerak/music_vae/groove/drummer1/session2/21_country_114_fill_4-4.mid.\n"
     ]
    },
    {
     "name": "stderr",
     "output_type": "stream",
     "text": [
      "INFO:tensorflow:Converted MIDI file /data/heerak/music_vae/groove/drummer1/session2/21_country_114_fill_4-4.mid.\n"
     ]
    },
    {
     "name": "stdout",
     "output_type": "stream",
     "text": [
      "INFO:tensorflow:Converted MIDI file /data/heerak/music_vae/groove/drummer1/session2/65_punk_144_fill_4-4.mid.\n"
     ]
    },
    {
     "name": "stderr",
     "output_type": "stream",
     "text": [
      "INFO:tensorflow:Converted MIDI file /data/heerak/music_vae/groove/drummer1/session2/65_punk_144_fill_4-4.mid.\n"
     ]
    },
    {
     "name": "stdout",
     "output_type": "stream",
     "text": [
      "INFO:tensorflow:Converted MIDI file /data/heerak/music_vae/groove/drummer1/session2/96_funk-rock_92_fill_4-4.mid.\n"
     ]
    },
    {
     "name": "stderr",
     "output_type": "stream",
     "text": [
      "INFO:tensorflow:Converted MIDI file /data/heerak/music_vae/groove/drummer1/session2/96_funk-rock_92_fill_4-4.mid.\n"
     ]
    },
    {
     "name": "stdout",
     "output_type": "stream",
     "text": [
      "INFO:tensorflow:Converted MIDI file /data/heerak/music_vae/groove/drummer1/session2/35_punk_128_beat_4-4.mid.\n"
     ]
    },
    {
     "name": "stderr",
     "output_type": "stream",
     "text": [
      "INFO:tensorflow:Converted MIDI file /data/heerak/music_vae/groove/drummer1/session2/35_punk_128_beat_4-4.mid.\n"
     ]
    },
    {
     "name": "stdout",
     "output_type": "stream",
     "text": [
      "INFO:tensorflow:Converted MIDI file /data/heerak/music_vae/groove/drummer1/session2/36_punk_128_beat_4-4.mid.\n"
     ]
    },
    {
     "name": "stderr",
     "output_type": "stream",
     "text": [
      "INFO:tensorflow:Converted MIDI file /data/heerak/music_vae/groove/drummer1/session2/36_punk_128_beat_4-4.mid.\n"
     ]
    },
    {
     "name": "stdout",
     "output_type": "stream",
     "text": [
      "INFO:tensorflow:Converted MIDI file /data/heerak/music_vae/groove/drummer1/session2/86_punk_144_fill_4-4.mid.\n"
     ]
    },
    {
     "name": "stderr",
     "output_type": "stream",
     "text": [
      "INFO:tensorflow:Converted MIDI file /data/heerak/music_vae/groove/drummer1/session2/86_punk_144_fill_4-4.mid.\n"
     ]
    },
    {
     "name": "stdout",
     "output_type": "stream",
     "text": [
      "INFO:tensorflow:Converted MIDI file /data/heerak/music_vae/groove/drummer1/session2/15_country_114_fill_4-4.mid.\n"
     ]
    },
    {
     "name": "stderr",
     "output_type": "stream",
     "text": [
      "INFO:tensorflow:Converted MIDI file /data/heerak/music_vae/groove/drummer1/session2/15_country_114_fill_4-4.mid.\n"
     ]
    },
    {
     "name": "stdout",
     "output_type": "stream",
     "text": [
      "INFO:tensorflow:Converted MIDI file /data/heerak/music_vae/groove/drummer1/session2/42_punk_128_fill_4-4.mid.\n"
     ]
    },
    {
     "name": "stderr",
     "output_type": "stream",
     "text": [
      "INFO:tensorflow:Converted MIDI file /data/heerak/music_vae/groove/drummer1/session2/42_punk_128_fill_4-4.mid.\n"
     ]
    },
    {
     "name": "stdout",
     "output_type": "stream",
     "text": [
      "INFO:tensorflow:Converted MIDI file /data/heerak/music_vae/groove/drummer1/session2/171_afrocuban-rhumba_110_fill_4-4.mid.\n"
     ]
    },
    {
     "name": "stderr",
     "output_type": "stream",
     "text": [
      "INFO:tensorflow:Converted MIDI file /data/heerak/music_vae/groove/drummer1/session2/171_afrocuban-rhumba_110_fill_4-4.mid.\n"
     ]
    },
    {
     "name": "stdout",
     "output_type": "stream",
     "text": [
      "INFO:tensorflow:Converted MIDI file /data/heerak/music_vae/groove/drummer1/session2/132_afrocuban-bembe_122_fill_4-4.mid.\n"
     ]
    },
    {
     "name": "stderr",
     "output_type": "stream",
     "text": [
      "INFO:tensorflow:Converted MIDI file /data/heerak/music_vae/groove/drummer1/session2/132_afrocuban-bembe_122_fill_4-4.mid.\n"
     ]
    },
    {
     "name": "stdout",
     "output_type": "stream",
     "text": [
      "INFO:tensorflow:Converted MIDI file /data/heerak/music_vae/groove/drummer1/session2/95_funk-rock_92_fill_4-4.mid.\n"
     ]
    },
    {
     "name": "stderr",
     "output_type": "stream",
     "text": [
      "INFO:tensorflow:Converted MIDI file /data/heerak/music_vae/groove/drummer1/session2/95_funk-rock_92_fill_4-4.mid.\n"
     ]
    },
    {
     "name": "stdout",
     "output_type": "stream",
     "text": [
      "INFO:tensorflow:Converted MIDI file /data/heerak/music_vae/groove/drummer1/session2/62_punk_144_beat_4-4.mid.\n"
     ]
    },
    {
     "name": "stderr",
     "output_type": "stream",
     "text": [
      "INFO:tensorflow:Converted MIDI file /data/heerak/music_vae/groove/drummer1/session2/62_punk_144_beat_4-4.mid.\n"
     ]
    },
    {
     "name": "stdout",
     "output_type": "stream",
     "text": [
      "INFO:tensorflow:Converted MIDI file /data/heerak/music_vae/groove/drummer1/session2/100_funk-rock_92_fill_4-4.mid.\n"
     ]
    },
    {
     "name": "stderr",
     "output_type": "stream",
     "text": [
      "INFO:tensorflow:Converted MIDI file /data/heerak/music_vae/groove/drummer1/session2/100_funk-rock_92_fill_4-4.mid.\n"
     ]
    },
    {
     "name": "stdout",
     "output_type": "stream",
     "text": [
      "INFO:tensorflow:Converted MIDI file /data/heerak/music_vae/groove/drummer1/session2/129_afrocuban-bembe_122_fill_4-4.mid.\n"
     ]
    },
    {
     "name": "stderr",
     "output_type": "stream",
     "text": [
      "INFO:tensorflow:Converted MIDI file /data/heerak/music_vae/groove/drummer1/session2/129_afrocuban-bembe_122_fill_4-4.mid.\n"
     ]
    },
    {
     "name": "stdout",
     "output_type": "stream",
     "text": [
      "INFO:tensorflow:Converted MIDI file /data/heerak/music_vae/groove/drummer1/session2/102_funk-rock_92_fill_4-4.mid.\n"
     ]
    },
    {
     "name": "stderr",
     "output_type": "stream",
     "text": [
      "INFO:tensorflow:Converted MIDI file /data/heerak/music_vae/groove/drummer1/session2/102_funk-rock_92_fill_4-4.mid.\n"
     ]
    },
    {
     "name": "stdout",
     "output_type": "stream",
     "text": [
      "INFO:tensorflow:Converted MIDI file /data/heerak/music_vae/groove/drummer1/session2/136_afrocuban-bembe_122_fill_4-4.mid.\n"
     ]
    },
    {
     "name": "stderr",
     "output_type": "stream",
     "text": [
      "INFO:tensorflow:Converted MIDI file /data/heerak/music_vae/groove/drummer1/session2/136_afrocuban-bembe_122_fill_4-4.mid.\n"
     ]
    },
    {
     "name": "stdout",
     "output_type": "stream",
     "text": [
      "INFO:tensorflow:Converted MIDI file /data/heerak/music_vae/groove/drummer1/session2/3_latin-chacarera_118_beat_4-4.mid.\n"
     ]
    },
    {
     "name": "stderr",
     "output_type": "stream",
     "text": [
      "INFO:tensorflow:Converted MIDI file /data/heerak/music_vae/groove/drummer1/session2/3_latin-chacarera_118_beat_4-4.mid.\n"
     ]
    },
    {
     "name": "stdout",
     "output_type": "stream",
     "text": [
      "INFO:tensorflow:Converted MIDI file /data/heerak/music_vae/groove/drummer1/session2/121_afrocuban-bembe_122_fill_4-4.mid.\n"
     ]
    },
    {
     "name": "stderr",
     "output_type": "stream",
     "text": [
      "INFO:tensorflow:Converted MIDI file /data/heerak/music_vae/groove/drummer1/session2/121_afrocuban-bembe_122_fill_4-4.mid.\n"
     ]
    },
    {
     "name": "stdout",
     "output_type": "stream",
     "text": [
      "INFO:tensorflow:Converted MIDI file /data/heerak/music_vae/groove/drummer1/session2/196_rock_115_fill_4-4.mid.\n"
     ]
    },
    {
     "name": "stderr",
     "output_type": "stream",
     "text": [
      "INFO:tensorflow:Converted MIDI file /data/heerak/music_vae/groove/drummer1/session2/196_rock_115_fill_4-4.mid.\n"
     ]
    },
    {
     "name": "stdout",
     "output_type": "stream",
     "text": [
      "INFO:tensorflow:Converted MIDI file /data/heerak/music_vae/groove/drummer1/session2/109_funk-rock_92_fill_4-4.mid.\n"
     ]
    },
    {
     "name": "stderr",
     "output_type": "stream",
     "text": [
      "INFO:tensorflow:Converted MIDI file /data/heerak/music_vae/groove/drummer1/session2/109_funk-rock_92_fill_4-4.mid.\n"
     ]
    },
    {
     "name": "stdout",
     "output_type": "stream",
     "text": [
      "INFO:tensorflow:Converted MIDI file /data/heerak/music_vae/groove/drummer1/session2/122_afrocuban-bembe_122_fill_4-4.mid.\n"
     ]
    },
    {
     "name": "stderr",
     "output_type": "stream",
     "text": [
      "INFO:tensorflow:Converted MIDI file /data/heerak/music_vae/groove/drummer1/session2/122_afrocuban-bembe_122_fill_4-4.mid.\n"
     ]
    },
    {
     "name": "stdout",
     "output_type": "stream",
     "text": [
      "INFO:tensorflow:Converted MIDI file /data/heerak/music_vae/groove/drummer1/session2/7_jazz-march_88_beat_4-4.mid.\n"
     ]
    },
    {
     "name": "stderr",
     "output_type": "stream",
     "text": [
      "INFO:tensorflow:Converted MIDI file /data/heerak/music_vae/groove/drummer1/session2/7_jazz-march_88_beat_4-4.mid.\n"
     ]
    },
    {
     "name": "stdout",
     "output_type": "stream",
     "text": [
      "INFO:tensorflow:Converted MIDI file /data/heerak/music_vae/groove/drummer1/session2/50_punk_128_fill_4-4.mid.\n"
     ]
    },
    {
     "name": "stderr",
     "output_type": "stream",
     "text": [
      "INFO:tensorflow:Converted MIDI file /data/heerak/music_vae/groove/drummer1/session2/50_punk_128_fill_4-4.mid.\n"
     ]
    },
    {
     "name": "stdout",
     "output_type": "stream",
     "text": [
      "INFO:tensorflow:Converted MIDI file /data/heerak/music_vae/groove/drummer1/session2/2_latin-chacarera_118_beat_4-4.mid.\n"
     ]
    },
    {
     "name": "stderr",
     "output_type": "stream",
     "text": [
      "INFO:tensorflow:Converted MIDI file /data/heerak/music_vae/groove/drummer1/session2/2_latin-chacarera_118_beat_4-4.mid.\n"
     ]
    },
    {
     "name": "stdout",
     "output_type": "stream",
     "text": [
      "INFO:tensorflow:Converted MIDI file /data/heerak/music_vae/groove/drummer1/session2/180_rock_50_beat_4-4.mid.\n"
     ]
    },
    {
     "name": "stderr",
     "output_type": "stream",
     "text": [
      "INFO:tensorflow:Converted MIDI file /data/heerak/music_vae/groove/drummer1/session2/180_rock_50_beat_4-4.mid.\n"
     ]
    },
    {
     "name": "stdout",
     "output_type": "stream",
     "text": [
      "INFO:tensorflow:Converted MIDI file /data/heerak/music_vae/groove/drummer1/session2/84_punk_144_fill_4-4.mid.\n"
     ]
    },
    {
     "name": "stderr",
     "output_type": "stream",
     "text": [
      "INFO:tensorflow:Converted MIDI file /data/heerak/music_vae/groove/drummer1/session2/84_punk_144_fill_4-4.mid.\n"
     ]
    },
    {
     "name": "stdout",
     "output_type": "stream",
     "text": [
      "INFO:tensorflow:Converted MIDI file /data/heerak/music_vae/groove/drummer1/session2/186_rock_115_fill_4-4.mid.\n"
     ]
    },
    {
     "name": "stderr",
     "output_type": "stream",
     "text": [
      "INFO:tensorflow:Converted MIDI file /data/heerak/music_vae/groove/drummer1/session2/186_rock_115_fill_4-4.mid.\n"
     ]
    },
    {
     "name": "stdout",
     "output_type": "stream",
     "text": [
      "INFO:tensorflow:Converted MIDI file /data/heerak/music_vae/groove/drummer1/session2/141_afrocuban-bembe_122_fill_4-4.mid.\n"
     ]
    },
    {
     "name": "stderr",
     "output_type": "stream",
     "text": [
      "INFO:tensorflow:Converted MIDI file /data/heerak/music_vae/groove/drummer1/session2/141_afrocuban-bembe_122_fill_4-4.mid.\n"
     ]
    },
    {
     "name": "stdout",
     "output_type": "stream",
     "text": [
      "INFO:tensorflow:Converted MIDI file /data/heerak/music_vae/groove/drummer1/session2/8_jazz-march_176_beat_4-4.mid.\n"
     ]
    },
    {
     "name": "stderr",
     "output_type": "stream",
     "text": [
      "INFO:tensorflow:Converted MIDI file /data/heerak/music_vae/groove/drummer1/session2/8_jazz-march_176_beat_4-4.mid.\n"
     ]
    },
    {
     "name": "stdout",
     "output_type": "stream",
     "text": [
      "INFO:tensorflow:Converted MIDI file /data/heerak/music_vae/groove/drummer1/session2/63_punk_144_fill_4-4.mid.\n"
     ]
    },
    {
     "name": "stderr",
     "output_type": "stream",
     "text": [
      "INFO:tensorflow:Converted MIDI file /data/heerak/music_vae/groove/drummer1/session2/63_punk_144_fill_4-4.mid.\n"
     ]
    },
    {
     "name": "stdout",
     "output_type": "stream",
     "text": [
      "INFO:tensorflow:Converted MIDI file /data/heerak/music_vae/groove/drummer1/session2/194_rock_115_fill_4-4.mid.\n"
     ]
    },
    {
     "name": "stderr",
     "output_type": "stream",
     "text": [
      "INFO:tensorflow:Converted MIDI file /data/heerak/music_vae/groove/drummer1/session2/194_rock_115_fill_4-4.mid.\n"
     ]
    },
    {
     "name": "stdout",
     "output_type": "stream",
     "text": [
      "INFO:tensorflow:Converted MIDI file /data/heerak/music_vae/groove/drummer1/session2/144_gospel_120_fill_4-4.mid.\n"
     ]
    },
    {
     "name": "stderr",
     "output_type": "stream",
     "text": [
      "INFO:tensorflow:Converted MIDI file /data/heerak/music_vae/groove/drummer1/session2/144_gospel_120_fill_4-4.mid.\n"
     ]
    },
    {
     "name": "stdout",
     "output_type": "stream",
     "text": [
      "INFO:tensorflow:Converted MIDI file /data/heerak/music_vae/groove/drummer1/session2/169_afrocuban-rhumba_110_fill_4-4.mid.\n"
     ]
    },
    {
     "name": "stderr",
     "output_type": "stream",
     "text": [
      "INFO:tensorflow:Converted MIDI file /data/heerak/music_vae/groove/drummer1/session2/169_afrocuban-rhumba_110_fill_4-4.mid.\n"
     ]
    },
    {
     "name": "stdout",
     "output_type": "stream",
     "text": [
      "INFO:tensorflow:Converted MIDI file /data/heerak/music_vae/groove/drummer1/session2/161_afrocuban-rhumba_110_beat_4-4.mid.\n"
     ]
    },
    {
     "name": "stderr",
     "output_type": "stream",
     "text": [
      "INFO:tensorflow:Converted MIDI file /data/heerak/music_vae/groove/drummer1/session2/161_afrocuban-rhumba_110_beat_4-4.mid.\n"
     ]
    },
    {
     "name": "stdout",
     "output_type": "stream",
     "text": [
      "INFO:tensorflow:Converted MIDI file /data/heerak/music_vae/groove/drummer1/session2/16_country_114_fill_4-4.mid.\n"
     ]
    },
    {
     "name": "stderr",
     "output_type": "stream",
     "text": [
      "INFO:tensorflow:Converted MIDI file /data/heerak/music_vae/groove/drummer1/session2/16_country_114_fill_4-4.mid.\n"
     ]
    },
    {
     "name": "stdout",
     "output_type": "stream",
     "text": [
      "INFO:tensorflow:Converted MIDI file /data/heerak/music_vae/groove/drummer1/session2/152_gospel_120_fill_4-4.mid.\n"
     ]
    },
    {
     "name": "stderr",
     "output_type": "stream",
     "text": [
      "INFO:tensorflow:Converted MIDI file /data/heerak/music_vae/groove/drummer1/session2/152_gospel_120_fill_4-4.mid.\n"
     ]
    },
    {
     "name": "stdout",
     "output_type": "stream",
     "text": [
      "INFO:tensorflow:Converted MIDI file /data/heerak/music_vae/groove/drummer1/session2/98_funk-rock_92_fill_4-4.mid.\n"
     ]
    },
    {
     "name": "stderr",
     "output_type": "stream",
     "text": [
      "INFO:tensorflow:Converted MIDI file /data/heerak/music_vae/groove/drummer1/session2/98_funk-rock_92_fill_4-4.mid.\n"
     ]
    },
    {
     "name": "stdout",
     "output_type": "stream",
     "text": [
      "INFO:tensorflow:Converted MIDI file /data/heerak/music_vae/groove/drummer1/session2/173_afrocuban-rhumba_110_fill_4-4.mid.\n"
     ]
    },
    {
     "name": "stderr",
     "output_type": "stream",
     "text": [
      "INFO:tensorflow:Converted MIDI file /data/heerak/music_vae/groove/drummer1/session2/173_afrocuban-rhumba_110_fill_4-4.mid.\n"
     ]
    },
    {
     "name": "stdout",
     "output_type": "stream",
     "text": [
      "INFO:tensorflow:Converted MIDI file /data/heerak/music_vae/groove/drummer1/session2/69_punk_144_fill_4-4.mid.\n"
     ]
    },
    {
     "name": "stderr",
     "output_type": "stream",
     "text": [
      "INFO:tensorflow:Converted MIDI file /data/heerak/music_vae/groove/drummer1/session2/69_punk_144_fill_4-4.mid.\n"
     ]
    },
    {
     "name": "stdout",
     "output_type": "stream",
     "text": [
      "INFO:tensorflow:Converted MIDI file /data/heerak/music_vae/groove/drummer1/session2/162_afrocuban-rhumba_110_fill_4-4.mid.\n"
     ]
    },
    {
     "name": "stderr",
     "output_type": "stream",
     "text": [
      "INFO:tensorflow:Converted MIDI file /data/heerak/music_vae/groove/drummer1/session2/162_afrocuban-rhumba_110_fill_4-4.mid.\n"
     ]
    },
    {
     "name": "stdout",
     "output_type": "stream",
     "text": [
      "INFO:tensorflow:Converted MIDI file /data/heerak/music_vae/groove/drummer1/session2/51_punk_128_fill_4-4.mid.\n"
     ]
    },
    {
     "name": "stderr",
     "output_type": "stream",
     "text": [
      "INFO:tensorflow:Converted MIDI file /data/heerak/music_vae/groove/drummer1/session2/51_punk_128_fill_4-4.mid.\n"
     ]
    },
    {
     "name": "stdout",
     "output_type": "stream",
     "text": [
      "INFO:tensorflow:Converted MIDI file /data/heerak/music_vae/groove/drummer1/session2/71_punk_144_fill_4-4.mid.\n"
     ]
    },
    {
     "name": "stderr",
     "output_type": "stream",
     "text": [
      "INFO:tensorflow:Converted MIDI file /data/heerak/music_vae/groove/drummer1/session2/71_punk_144_fill_4-4.mid.\n"
     ]
    },
    {
     "name": "stdout",
     "output_type": "stream",
     "text": [
      "INFO:tensorflow:Converted MIDI file /data/heerak/music_vae/groove/drummer1/session2/128_afrocuban-bembe_122_fill_4-4.mid.\n"
     ]
    },
    {
     "name": "stderr",
     "output_type": "stream",
     "text": [
      "INFO:tensorflow:Converted MIDI file /data/heerak/music_vae/groove/drummer1/session2/128_afrocuban-bembe_122_fill_4-4.mid.\n"
     ]
    },
    {
     "name": "stdout",
     "output_type": "stream",
     "text": [
      "INFO:tensorflow:Converted MIDI file /data/heerak/music_vae/groove/drummer1/session2/112_afrocuban-bembe_122_beat_4-4.mid.\n"
     ]
    },
    {
     "name": "stderr",
     "output_type": "stream",
     "text": [
      "INFO:tensorflow:Converted MIDI file /data/heerak/music_vae/groove/drummer1/session2/112_afrocuban-bembe_122_beat_4-4.mid.\n"
     ]
    },
    {
     "name": "stdout",
     "output_type": "stream",
     "text": [
      "INFO:tensorflow:Converted MIDI file /data/heerak/music_vae/groove/drummer1/session2/4_jazz_120_beat_3-4.mid.\n"
     ]
    },
    {
     "name": "stderr",
     "output_type": "stream",
     "text": [
      "INFO:tensorflow:Converted MIDI file /data/heerak/music_vae/groove/drummer1/session2/4_jazz_120_beat_3-4.mid.\n"
     ]
    },
    {
     "name": "stdout",
     "output_type": "stream",
     "text": [
      "INFO:tensorflow:Converted MIDI file /data/heerak/music_vae/groove/drummer1/session2/153_gospel_120_fill_4-4.mid.\n"
     ]
    },
    {
     "name": "stderr",
     "output_type": "stream",
     "text": [
      "INFO:tensorflow:Converted MIDI file /data/heerak/music_vae/groove/drummer1/session2/153_gospel_120_fill_4-4.mid.\n"
     ]
    },
    {
     "name": "stdout",
     "output_type": "stream",
     "text": [
      "INFO:tensorflow:Converted MIDI file /data/heerak/music_vae/groove/drummer1/session2/127_afrocuban-bembe_122_fill_4-4.mid.\n"
     ]
    },
    {
     "name": "stderr",
     "output_type": "stream",
     "text": [
      "INFO:tensorflow:Converted MIDI file /data/heerak/music_vae/groove/drummer1/session2/127_afrocuban-bembe_122_fill_4-4.mid.\n"
     ]
    },
    {
     "name": "stdout",
     "output_type": "stream",
     "text": [
      "INFO:tensorflow:Converted MIDI file /data/heerak/music_vae/groove/drummer1/session2/191_rock_115_fill_4-4.mid.\n"
     ]
    },
    {
     "name": "stderr",
     "output_type": "stream",
     "text": [
      "INFO:tensorflow:Converted MIDI file /data/heerak/music_vae/groove/drummer1/session2/191_rock_115_fill_4-4.mid.\n"
     ]
    },
    {
     "name": "stdout",
     "output_type": "stream",
     "text": [
      "INFO:tensorflow:Converted MIDI file /data/heerak/music_vae/groove/drummer1/session2/78_punk_144_fill_4-4.mid.\n"
     ]
    },
    {
     "name": "stderr",
     "output_type": "stream",
     "text": [
      "INFO:tensorflow:Converted MIDI file /data/heerak/music_vae/groove/drummer1/session2/78_punk_144_fill_4-4.mid.\n"
     ]
    },
    {
     "name": "stdout",
     "output_type": "stream",
     "text": [
      "INFO:tensorflow:Converted MIDI file /data/heerak/music_vae/groove/drummer1/session2/118_afrocuban-bembe_122_fill_4-4.mid.\n"
     ]
    },
    {
     "name": "stderr",
     "output_type": "stream",
     "text": [
      "INFO:tensorflow:Converted MIDI file /data/heerak/music_vae/groove/drummer1/session2/118_afrocuban-bembe_122_fill_4-4.mid.\n"
     ]
    },
    {
     "name": "stdout",
     "output_type": "stream",
     "text": [
      "INFO:tensorflow:Converted MIDI file /data/heerak/music_vae/groove/drummer1/session2/163_afrocuban-rhumba_110_fill_4-4.mid.\n"
     ]
    },
    {
     "name": "stderr",
     "output_type": "stream",
     "text": [
      "INFO:tensorflow:Converted MIDI file /data/heerak/music_vae/groove/drummer1/session2/163_afrocuban-rhumba_110_fill_4-4.mid.\n"
     ]
    },
    {
     "name": "stdout",
     "output_type": "stream",
     "text": [
      "INFO:tensorflow:Converted MIDI file /data/heerak/music_vae/groove/drummer1/session2/76_punk_144_fill_4-4.mid.\n"
     ]
    },
    {
     "name": "stderr",
     "output_type": "stream",
     "text": [
      "INFO:tensorflow:Converted MIDI file /data/heerak/music_vae/groove/drummer1/session2/76_punk_144_fill_4-4.mid.\n"
     ]
    },
    {
     "name": "stdout",
     "output_type": "stream",
     "text": [
      "INFO:tensorflow:Converted MIDI file /data/heerak/music_vae/groove/drummer1/session2/157_gospel_120_fill_4-4.mid.\n"
     ]
    },
    {
     "name": "stderr",
     "output_type": "stream",
     "text": [
      "INFO:tensorflow:Converted MIDI file /data/heerak/music_vae/groove/drummer1/session2/157_gospel_120_fill_4-4.mid.\n"
     ]
    },
    {
     "name": "stdout",
     "output_type": "stream",
     "text": [
      "INFO:tensorflow:Converted MIDI file /data/heerak/music_vae/groove/drummer1/session2/10_country_114_beat_4-4.mid.\n"
     ]
    },
    {
     "name": "stderr",
     "output_type": "stream",
     "text": [
      "INFO:tensorflow:Converted MIDI file /data/heerak/music_vae/groove/drummer1/session2/10_country_114_beat_4-4.mid.\n"
     ]
    },
    {
     "name": "stdout",
     "output_type": "stream",
     "text": [
      "INFO:tensorflow:Converted MIDI file /data/heerak/music_vae/groove/drummer1/session2/66_punk_144_fill_4-4.mid.\n"
     ]
    },
    {
     "name": "stderr",
     "output_type": "stream",
     "text": [
      "INFO:tensorflow:Converted MIDI file /data/heerak/music_vae/groove/drummer1/session2/66_punk_144_fill_4-4.mid.\n"
     ]
    },
    {
     "name": "stdout",
     "output_type": "stream",
     "text": [
      "INFO:tensorflow:Converted MIDI file /data/heerak/music_vae/groove/drummer1/session2/80_punk_144_fill_4-4.mid.\n"
     ]
    },
    {
     "name": "stderr",
     "output_type": "stream",
     "text": [
      "INFO:tensorflow:Converted MIDI file /data/heerak/music_vae/groove/drummer1/session2/80_punk_144_fill_4-4.mid.\n"
     ]
    },
    {
     "name": "stdout",
     "output_type": "stream",
     "text": [
      "INFO:tensorflow:Converted MIDI file /data/heerak/music_vae/groove/drummer1/session2/79_punk_144_fill_4-4.mid.\n"
     ]
    },
    {
     "name": "stderr",
     "output_type": "stream",
     "text": [
      "INFO:tensorflow:Converted MIDI file /data/heerak/music_vae/groove/drummer1/session2/79_punk_144_fill_4-4.mid.\n"
     ]
    },
    {
     "name": "stdout",
     "output_type": "stream",
     "text": [
      "INFO:tensorflow:Converted MIDI file /data/heerak/music_vae/groove/drummer1/session2/28_country_114_fill_4-4.mid.\n"
     ]
    },
    {
     "name": "stderr",
     "output_type": "stream",
     "text": [
      "INFO:tensorflow:Converted MIDI file /data/heerak/music_vae/groove/drummer1/session2/28_country_114_fill_4-4.mid.\n"
     ]
    },
    {
     "name": "stdout",
     "output_type": "stream",
     "text": [
      "INFO:tensorflow:Converted MIDI file /data/heerak/music_vae/groove/drummer1/session2/115_afrocuban-bembe_122_fill_4-4.mid.\n"
     ]
    },
    {
     "name": "stderr",
     "output_type": "stream",
     "text": [
      "INFO:tensorflow:Converted MIDI file /data/heerak/music_vae/groove/drummer1/session2/115_afrocuban-bembe_122_fill_4-4.mid.\n"
     ]
    },
    {
     "name": "stdout",
     "output_type": "stream",
     "text": [
      "INFO:tensorflow:Converted MIDI file /data/heerak/music_vae/groove/drummer1/session2/160_gospel_120_fill_4-4.mid.\n"
     ]
    },
    {
     "name": "stderr",
     "output_type": "stream",
     "text": [
      "INFO:tensorflow:Converted MIDI file /data/heerak/music_vae/groove/drummer1/session2/160_gospel_120_fill_4-4.mid.\n"
     ]
    },
    {
     "name": "stdout",
     "output_type": "stream",
     "text": [
      "INFO:tensorflow:Converted MIDI file /data/heerak/music_vae/groove/drummer1/session2/120_afrocuban-bembe_122_fill_4-4.mid.\n"
     ]
    },
    {
     "name": "stderr",
     "output_type": "stream",
     "text": [
      "INFO:tensorflow:Converted MIDI file /data/heerak/music_vae/groove/drummer1/session2/120_afrocuban-bembe_122_fill_4-4.mid.\n"
     ]
    },
    {
     "name": "stdout",
     "output_type": "stream",
     "text": [
      "INFO:tensorflow:Converted MIDI file /data/heerak/music_vae/groove/drummer1/session2/94_funk-rock_92_fill_4-4.mid.\n"
     ]
    },
    {
     "name": "stderr",
     "output_type": "stream",
     "text": [
      "INFO:tensorflow:Converted MIDI file /data/heerak/music_vae/groove/drummer1/session2/94_funk-rock_92_fill_4-4.mid.\n"
     ]
    },
    {
     "name": "stdout",
     "output_type": "stream",
     "text": [
      "WARNING:tensorflow:Unable to find a converter for file /data/heerak/music_vae/groove/drummer1/session2/Icon\n"
     ]
    },
    {
     "name": "stderr",
     "output_type": "stream",
     "text": [
      "WARNING:tensorflow:Unable to find a converter for file /data/heerak/music_vae/groove/drummer1/session2/Icon\n"
     ]
    },
    {
     "name": "stdout",
     "output_type": "stream",
     "text": [
      "INFO:tensorflow:Converted MIDI file /data/heerak/music_vae/groove/drummer1/session2/165_afrocuban-rhumba_110_fill_4-4.mid.\n"
     ]
    },
    {
     "name": "stderr",
     "output_type": "stream",
     "text": [
      "INFO:tensorflow:Converted MIDI file /data/heerak/music_vae/groove/drummer1/session2/165_afrocuban-rhumba_110_fill_4-4.mid.\n"
     ]
    },
    {
     "name": "stdout",
     "output_type": "stream",
     "text": [
      "INFO:tensorflow:Converted MIDI file /data/heerak/music_vae/groove/drummer1/session2/37_punk_128_beat_4-4.mid.\n"
     ]
    },
    {
     "name": "stderr",
     "output_type": "stream",
     "text": [
      "INFO:tensorflow:Converted MIDI file /data/heerak/music_vae/groove/drummer1/session2/37_punk_128_beat_4-4.mid.\n"
     ]
    },
    {
     "name": "stdout",
     "output_type": "stream",
     "text": [
      "INFO:tensorflow:Converted MIDI file /data/heerak/music_vae/groove/drummer1/session2/61_punk_128_fill_4-4.mid.\n"
     ]
    },
    {
     "name": "stderr",
     "output_type": "stream",
     "text": [
      "INFO:tensorflow:Converted MIDI file /data/heerak/music_vae/groove/drummer1/session2/61_punk_128_fill_4-4.mid.\n"
     ]
    },
    {
     "name": "stdout",
     "output_type": "stream",
     "text": [
      "INFO:tensorflow:Converted MIDI file /data/heerak/music_vae/groove/drummer1/session2/74_punk_144_fill_4-4.mid.\n"
     ]
    },
    {
     "name": "stderr",
     "output_type": "stream",
     "text": [
      "INFO:tensorflow:Converted MIDI file /data/heerak/music_vae/groove/drummer1/session2/74_punk_144_fill_4-4.mid.\n"
     ]
    },
    {
     "name": "stdout",
     "output_type": "stream",
     "text": [
      "INFO:tensorflow:Converted MIDI file /data/heerak/music_vae/groove/drummer1/session2/187_rock_115_fill_4-4.mid.\n"
     ]
    },
    {
     "name": "stderr",
     "output_type": "stream",
     "text": [
      "INFO:tensorflow:Converted MIDI file /data/heerak/music_vae/groove/drummer1/session2/187_rock_115_fill_4-4.mid.\n"
     ]
    },
    {
     "name": "stdout",
     "output_type": "stream",
     "text": [
      "INFO:tensorflow:Converted MIDI file /data/heerak/music_vae/groove/drummer1/session2/164_afrocuban-rhumba_110_fill_4-4.mid.\n"
     ]
    },
    {
     "name": "stderr",
     "output_type": "stream",
     "text": [
      "INFO:tensorflow:Converted MIDI file /data/heerak/music_vae/groove/drummer1/session2/164_afrocuban-rhumba_110_fill_4-4.mid.\n"
     ]
    },
    {
     "name": "stdout",
     "output_type": "stream",
     "text": [
      "INFO:tensorflow:Converted MIDI file /data/heerak/music_vae/groove/drummer1/session2/130_afrocuban-bembe_122_fill_4-4.mid.\n"
     ]
    },
    {
     "name": "stderr",
     "output_type": "stream",
     "text": [
      "INFO:tensorflow:Converted MIDI file /data/heerak/music_vae/groove/drummer1/session2/130_afrocuban-bembe_122_fill_4-4.mid.\n"
     ]
    },
    {
     "name": "stdout",
     "output_type": "stream",
     "text": [
      "INFO:tensorflow:Converted MIDI file /data/heerak/music_vae/groove/drummer1/session2/59_punk_128_fill_4-4.mid.\n"
     ]
    },
    {
     "name": "stderr",
     "output_type": "stream",
     "text": [
      "INFO:tensorflow:Converted MIDI file /data/heerak/music_vae/groove/drummer1/session2/59_punk_128_fill_4-4.mid.\n"
     ]
    },
    {
     "name": "stdout",
     "output_type": "stream",
     "text": [
      "INFO:tensorflow:Converted MIDI file /data/heerak/music_vae/groove/drummer1/session2/158_gospel_120_fill_4-4.mid.\n"
     ]
    },
    {
     "name": "stderr",
     "output_type": "stream",
     "text": [
      "INFO:tensorflow:Converted MIDI file /data/heerak/music_vae/groove/drummer1/session2/158_gospel_120_fill_4-4.mid.\n"
     ]
    },
    {
     "name": "stdout",
     "output_type": "stream",
     "text": [
      "INFO:tensorflow:Converted MIDI file /data/heerak/music_vae/groove/drummer1/session2/156_gospel_120_fill_4-4.mid.\n"
     ]
    },
    {
     "name": "stderr",
     "output_type": "stream",
     "text": [
      "INFO:tensorflow:Converted MIDI file /data/heerak/music_vae/groove/drummer1/session2/156_gospel_120_fill_4-4.mid.\n"
     ]
    },
    {
     "name": "stdout",
     "output_type": "stream",
     "text": [
      "INFO:tensorflow:Converted MIDI file /data/heerak/music_vae/groove/drummer1/session2/32_punk_140_beat_4-4.mid.\n"
     ]
    },
    {
     "name": "stderr",
     "output_type": "stream",
     "text": [
      "INFO:tensorflow:Converted MIDI file /data/heerak/music_vae/groove/drummer1/session2/32_punk_140_beat_4-4.mid.\n"
     ]
    },
    {
     "name": "stdout",
     "output_type": "stream",
     "text": [
      "INFO:tensorflow:Converted MIDI file /data/heerak/music_vae/groove/drummer1/session2/56_punk_128_fill_4-4.mid.\n"
     ]
    },
    {
     "name": "stderr",
     "output_type": "stream",
     "text": [
      "INFO:tensorflow:Converted MIDI file /data/heerak/music_vae/groove/drummer1/session2/56_punk_128_fill_4-4.mid.\n"
     ]
    },
    {
     "name": "stdout",
     "output_type": "stream",
     "text": [
      "INFO:tensorflow:Converted MIDI file /data/heerak/music_vae/groove/drummer1/session2/89_punk_144_fill_4-4.mid.\n"
     ]
    },
    {
     "name": "stderr",
     "output_type": "stream",
     "text": [
      "INFO:tensorflow:Converted MIDI file /data/heerak/music_vae/groove/drummer1/session2/89_punk_144_fill_4-4.mid.\n"
     ]
    },
    {
     "name": "stdout",
     "output_type": "stream",
     "text": [
      "INFO:tensorflow:Converted MIDI file /data/heerak/music_vae/groove/drummer1/session2/83_punk_144_fill_4-4.mid.\n"
     ]
    },
    {
     "name": "stderr",
     "output_type": "stream",
     "text": [
      "INFO:tensorflow:Converted MIDI file /data/heerak/music_vae/groove/drummer1/session2/83_punk_144_fill_4-4.mid.\n"
     ]
    },
    {
     "name": "stdout",
     "output_type": "stream",
     "text": [
      "INFO:tensorflow:Converted MIDI file /data/heerak/music_vae/groove/drummer1/session2/88_punk_144_fill_4-4.mid.\n"
     ]
    },
    {
     "name": "stderr",
     "output_type": "stream",
     "text": [
      "INFO:tensorflow:Converted MIDI file /data/heerak/music_vae/groove/drummer1/session2/88_punk_144_fill_4-4.mid.\n"
     ]
    },
    {
     "name": "stdout",
     "output_type": "stream",
     "text": [
      "INFO:tensorflow:Converted MIDI file /data/heerak/music_vae/groove/drummer1/session2/183_rock_115_fill_4-4.mid.\n"
     ]
    },
    {
     "name": "stderr",
     "output_type": "stream",
     "text": [
      "INFO:tensorflow:Converted MIDI file /data/heerak/music_vae/groove/drummer1/session2/183_rock_115_fill_4-4.mid.\n"
     ]
    },
    {
     "name": "stdout",
     "output_type": "stream",
     "text": [
      "INFO:tensorflow:Converted MIDI file /data/heerak/music_vae/groove/drummer1/session2/41_punk_128_fill_4-4.mid.\n"
     ]
    },
    {
     "name": "stderr",
     "output_type": "stream",
     "text": [
      "INFO:tensorflow:Converted MIDI file /data/heerak/music_vae/groove/drummer1/session2/41_punk_128_fill_4-4.mid.\n"
     ]
    },
    {
     "name": "stdout",
     "output_type": "stream",
     "text": [
      "INFO:tensorflow:Converted MIDI file /data/heerak/music_vae/groove/drummer1/session2/174_afrocuban-rhumba_110_fill_4-4.mid.\n"
     ]
    },
    {
     "name": "stderr",
     "output_type": "stream",
     "text": [
      "INFO:tensorflow:Converted MIDI file /data/heerak/music_vae/groove/drummer1/session2/174_afrocuban-rhumba_110_fill_4-4.mid.\n"
     ]
    },
    {
     "name": "stdout",
     "output_type": "stream",
     "text": [
      "INFO:tensorflow:Converted MIDI file /data/heerak/music_vae/groove/drummer1/session2/1_latin-chacarera_157_beat_3-4.mid.\n"
     ]
    },
    {
     "name": "stderr",
     "output_type": "stream",
     "text": [
      "INFO:tensorflow:Converted MIDI file /data/heerak/music_vae/groove/drummer1/session2/1_latin-chacarera_157_beat_3-4.mid.\n"
     ]
    },
    {
     "name": "stdout",
     "output_type": "stream",
     "text": [
      "INFO:tensorflow:Converted MIDI file /data/heerak/music_vae/groove/drummer1/session2/110_rock-prog_190_beat_4-4.mid.\n"
     ]
    },
    {
     "name": "stderr",
     "output_type": "stream",
     "text": [
      "INFO:tensorflow:Converted MIDI file /data/heerak/music_vae/groove/drummer1/session2/110_rock-prog_190_beat_4-4.mid.\n"
     ]
    },
    {
     "name": "stdout",
     "output_type": "stream",
     "text": [
      "INFO:tensorflow:Converted MIDI file /data/heerak/music_vae/groove/drummer1/session2/38_punk_128_fill_4-4.mid.\n"
     ]
    },
    {
     "name": "stderr",
     "output_type": "stream",
     "text": [
      "INFO:tensorflow:Converted MIDI file /data/heerak/music_vae/groove/drummer1/session2/38_punk_128_fill_4-4.mid.\n"
     ]
    },
    {
     "name": "stdout",
     "output_type": "stream",
     "text": [
      "INFO:tensorflow:Converted MIDI file /data/heerak/music_vae/groove/drummer1/session2/135_afrocuban-bembe_122_fill_4-4.mid.\n"
     ]
    },
    {
     "name": "stderr",
     "output_type": "stream",
     "text": [
      "INFO:tensorflow:Converted MIDI file /data/heerak/music_vae/groove/drummer1/session2/135_afrocuban-bembe_122_fill_4-4.mid.\n"
     ]
    },
    {
     "name": "stdout",
     "output_type": "stream",
     "text": [
      "INFO:tensorflow:Converted MIDI file /data/heerak/music_vae/groove/drummer1/session2/193_rock_115_fill_4-4.mid.\n"
     ]
    },
    {
     "name": "stderr",
     "output_type": "stream",
     "text": [
      "INFO:tensorflow:Converted MIDI file /data/heerak/music_vae/groove/drummer1/session2/193_rock_115_fill_4-4.mid.\n"
     ]
    },
    {
     "name": "stdout",
     "output_type": "stream",
     "text": [
      "INFO:tensorflow:Converted MIDI file /data/heerak/music_vae/groove/drummer1/session2/20_country_114_fill_4-4.mid.\n"
     ]
    },
    {
     "name": "stderr",
     "output_type": "stream",
     "text": [
      "INFO:tensorflow:Converted MIDI file /data/heerak/music_vae/groove/drummer1/session2/20_country_114_fill_4-4.mid.\n"
     ]
    },
    {
     "name": "stdout",
     "output_type": "stream",
     "text": [
      "INFO:tensorflow:Converting files in '/data/heerak/music_vae/groove/drummer1/eval_session'.\n"
     ]
    },
    {
     "name": "stderr",
     "output_type": "stream",
     "text": [
      "INFO:tensorflow:Converting files in '/data/heerak/music_vae/groove/drummer1/eval_session'.\n"
     ]
    },
    {
     "name": "stdout",
     "output_type": "stream",
     "text": [
      "INFO:tensorflow:Converted MIDI file /data/heerak/music_vae/groove/drummer1/eval_session/10_soul-groove10_102_beat_4-4.mid.\n"
     ]
    },
    {
     "name": "stderr",
     "output_type": "stream",
     "text": [
      "INFO:tensorflow:Converted MIDI file /data/heerak/music_vae/groove/drummer1/eval_session/10_soul-groove10_102_beat_4-4.mid.\n"
     ]
    },
    {
     "name": "stdout",
     "output_type": "stream",
     "text": [
      "INFO:tensorflow:Converted MIDI file /data/heerak/music_vae/groove/drummer1/eval_session/1_funk-groove1_138_beat_4-4.mid.\n"
     ]
    },
    {
     "name": "stderr",
     "output_type": "stream",
     "text": [
      "INFO:tensorflow:Converted MIDI file /data/heerak/music_vae/groove/drummer1/eval_session/1_funk-groove1_138_beat_4-4.mid.\n"
     ]
    },
    {
     "name": "stdout",
     "output_type": "stream",
     "text": [
      "INFO:tensorflow:Converted MIDI file /data/heerak/music_vae/groove/drummer1/eval_session/6_hiphop-groove6_87_beat_4-4.mid.\n"
     ]
    },
    {
     "name": "stderr",
     "output_type": "stream",
     "text": [
      "INFO:tensorflow:Converted MIDI file /data/heerak/music_vae/groove/drummer1/eval_session/6_hiphop-groove6_87_beat_4-4.mid.\n"
     ]
    },
    {
     "name": "stdout",
     "output_type": "stream",
     "text": [
      "INFO:tensorflow:Converted MIDI file /data/heerak/music_vae/groove/drummer1/eval_session/3_soul-groove3_86_beat_4-4.mid.\n"
     ]
    },
    {
     "name": "stderr",
     "output_type": "stream",
     "text": [
      "INFO:tensorflow:Converted MIDI file /data/heerak/music_vae/groove/drummer1/eval_session/3_soul-groove3_86_beat_4-4.mid.\n"
     ]
    },
    {
     "name": "stdout",
     "output_type": "stream",
     "text": [
      "INFO:tensorflow:Converted MIDI file /data/heerak/music_vae/groove/drummer1/eval_session/9_soul-groove9_105_beat_4-4.mid.\n"
     ]
    },
    {
     "name": "stderr",
     "output_type": "stream",
     "text": [
      "INFO:tensorflow:Converted MIDI file /data/heerak/music_vae/groove/drummer1/eval_session/9_soul-groove9_105_beat_4-4.mid.\n"
     ]
    },
    {
     "name": "stdout",
     "output_type": "stream",
     "text": [
      "INFO:tensorflow:Converted MIDI file /data/heerak/music_vae/groove/drummer1/eval_session/2_funk-groove2_105_beat_4-4.mid.\n"
     ]
    },
    {
     "name": "stderr",
     "output_type": "stream",
     "text": [
      "INFO:tensorflow:Converted MIDI file /data/heerak/music_vae/groove/drummer1/eval_session/2_funk-groove2_105_beat_4-4.mid.\n"
     ]
    },
    {
     "name": "stdout",
     "output_type": "stream",
     "text": [
      "INFO:tensorflow:Converted MIDI file /data/heerak/music_vae/groove/drummer1/eval_session/4_soul-groove4_80_beat_4-4.mid.\n"
     ]
    },
    {
     "name": "stderr",
     "output_type": "stream",
     "text": [
      "INFO:tensorflow:Converted MIDI file /data/heerak/music_vae/groove/drummer1/eval_session/4_soul-groove4_80_beat_4-4.mid.\n"
     ]
    },
    {
     "name": "stdout",
     "output_type": "stream",
     "text": [
      "INFO:tensorflow:Converted MIDI file /data/heerak/music_vae/groove/drummer1/eval_session/7_pop-groove7_138_beat_4-4.mid.\n"
     ]
    },
    {
     "name": "stderr",
     "output_type": "stream",
     "text": [
      "INFO:tensorflow:Converted MIDI file /data/heerak/music_vae/groove/drummer1/eval_session/7_pop-groove7_138_beat_4-4.mid.\n"
     ]
    },
    {
     "name": "stdout",
     "output_type": "stream",
     "text": [
      "INFO:tensorflow:Converted MIDI file /data/heerak/music_vae/groove/drummer1/eval_session/8_rock-groove8_65_beat_4-4.mid.\n"
     ]
    },
    {
     "name": "stderr",
     "output_type": "stream",
     "text": [
      "INFO:tensorflow:Converted MIDI file /data/heerak/music_vae/groove/drummer1/eval_session/8_rock-groove8_65_beat_4-4.mid.\n"
     ]
    },
    {
     "name": "stdout",
     "output_type": "stream",
     "text": [
      "WARNING:tensorflow:Unable to find a converter for file /data/heerak/music_vae/groove/drummer1/eval_session/Icon\n"
     ]
    },
    {
     "name": "stderr",
     "output_type": "stream",
     "text": [
      "WARNING:tensorflow:Unable to find a converter for file /data/heerak/music_vae/groove/drummer1/eval_session/Icon\n"
     ]
    },
    {
     "name": "stdout",
     "output_type": "stream",
     "text": [
      "INFO:tensorflow:Converted MIDI file /data/heerak/music_vae/groove/drummer1/eval_session/5_funk-groove5_84_beat_4-4.mid.\n"
     ]
    },
    {
     "name": "stderr",
     "output_type": "stream",
     "text": [
      "INFO:tensorflow:Converted MIDI file /data/heerak/music_vae/groove/drummer1/eval_session/5_funk-groove5_84_beat_4-4.mid.\n"
     ]
    },
    {
     "name": "stdout",
     "output_type": "stream",
     "text": [
      "INFO:tensorflow:Converting files in '/data/heerak/music_vae/groove/drummer1/session3'.\n"
     ]
    },
    {
     "name": "stderr",
     "output_type": "stream",
     "text": [
      "INFO:tensorflow:Converting files in '/data/heerak/music_vae/groove/drummer1/session3'.\n"
     ]
    },
    {
     "name": "stdout",
     "output_type": "stream",
     "text": [
      "INFO:tensorflow:Converted MIDI file /data/heerak/music_vae/groove/drummer1/session3/6_dance-disco_120_beat_4-4.mid.\n"
     ]
    },
    {
     "name": "stderr",
     "output_type": "stream",
     "text": [
      "INFO:tensorflow:Converted MIDI file /data/heerak/music_vae/groove/drummer1/session3/6_dance-disco_120_beat_4-4.mid.\n"
     ]
    },
    {
     "name": "stdout",
     "output_type": "stream",
     "text": [
      "INFO:tensorflow:Converted MIDI file /data/heerak/music_vae/groove/drummer1/session3/13_rock_115_beat_4-4.mid.\n"
     ]
    },
    {
     "name": "stderr",
     "output_type": "stream",
     "text": [
      "INFO:tensorflow:Converted MIDI file /data/heerak/music_vae/groove/drummer1/session3/13_rock_115_beat_4-4.mid.\n"
     ]
    },
    {
     "name": "stdout",
     "output_type": "stream",
     "text": [
      "INFO:tensorflow:Converted MIDI file /data/heerak/music_vae/groove/drummer1/session3/10_rock-folk_90_beat_4-4.mid.\n"
     ]
    },
    {
     "name": "stderr",
     "output_type": "stream",
     "text": [
      "INFO:tensorflow:Converted MIDI file /data/heerak/music_vae/groove/drummer1/session3/10_rock-folk_90_beat_4-4.mid.\n"
     ]
    },
    {
     "name": "stdout",
     "output_type": "stream",
     "text": [
      "INFO:tensorflow:Converted MIDI file /data/heerak/music_vae/groove/drummer1/session3/11_afrobeat_94_beat_4-4.mid.\n"
     ]
    },
    {
     "name": "stderr",
     "output_type": "stream",
     "text": [
      "INFO:tensorflow:Converted MIDI file /data/heerak/music_vae/groove/drummer1/session3/11_afrobeat_94_beat_4-4.mid.\n"
     ]
    },
    {
     "name": "stdout",
     "output_type": "stream",
     "text": [
      "INFO:tensorflow:Converted MIDI file /data/heerak/music_vae/groove/drummer1/session3/16_funk_117_beat_4-4.mid.\n"
     ]
    },
    {
     "name": "stderr",
     "output_type": "stream",
     "text": [
      "INFO:tensorflow:Converted MIDI file /data/heerak/music_vae/groove/drummer1/session3/16_funk_117_beat_4-4.mid.\n"
     ]
    },
    {
     "name": "stdout",
     "output_type": "stream",
     "text": [
      "INFO:tensorflow:Converted MIDI file /data/heerak/music_vae/groove/drummer1/session3/5_jazz-linear_128_beat_4-4.mid.\n"
     ]
    },
    {
     "name": "stderr",
     "output_type": "stream",
     "text": [
      "INFO:tensorflow:Converted MIDI file /data/heerak/music_vae/groove/drummer1/session3/5_jazz-linear_128_beat_4-4.mid.\n"
     ]
    },
    {
     "name": "stdout",
     "output_type": "stream",
     "text": [
      "INFO:tensorflow:Converted MIDI file /data/heerak/music_vae/groove/drummer1/session3/12_latin-bomba_96_beat_4-4.mid.\n"
     ]
    },
    {
     "name": "stderr",
     "output_type": "stream",
     "text": [
      "INFO:tensorflow:Converted MIDI file /data/heerak/music_vae/groove/drummer1/session3/12_latin-bomba_96_beat_4-4.mid.\n"
     ]
    },
    {
     "name": "stdout",
     "output_type": "stream",
     "text": [
      "INFO:tensorflow:Converted MIDI file /data/heerak/music_vae/groove/drummer1/session3/7_dance-disco_120_beat_4-4.mid.\n"
     ]
    },
    {
     "name": "stderr",
     "output_type": "stream",
     "text": [
      "INFO:tensorflow:Converted MIDI file /data/heerak/music_vae/groove/drummer1/session3/7_dance-disco_120_beat_4-4.mid.\n"
     ]
    },
    {
     "name": "stdout",
     "output_type": "stream",
     "text": [
      "INFO:tensorflow:Converted MIDI file /data/heerak/music_vae/groove/drummer1/session3/4_jazz-linear_182_beat_4-4.mid.\n"
     ]
    },
    {
     "name": "stderr",
     "output_type": "stream",
     "text": [
      "INFO:tensorflow:Converted MIDI file /data/heerak/music_vae/groove/drummer1/session3/4_jazz-linear_182_beat_4-4.mid.\n"
     ]
    },
    {
     "name": "stdout",
     "output_type": "stream",
     "text": [
      "INFO:tensorflow:Converted MIDI file /data/heerak/music_vae/groove/drummer1/session3/14_rock_94_beat_4-4.mid.\n"
     ]
    },
    {
     "name": "stderr",
     "output_type": "stream",
     "text": [
      "INFO:tensorflow:Converted MIDI file /data/heerak/music_vae/groove/drummer1/session3/14_rock_94_beat_4-4.mid.\n"
     ]
    },
    {
     "name": "stdout",
     "output_type": "stream",
     "text": [
      "INFO:tensorflow:Converted MIDI file /data/heerak/music_vae/groove/drummer1/session3/9_rock_135_beat_4-4.mid.\n"
     ]
    },
    {
     "name": "stderr",
     "output_type": "stream",
     "text": [
      "INFO:tensorflow:Converted MIDI file /data/heerak/music_vae/groove/drummer1/session3/9_rock_135_beat_4-4.mid.\n"
     ]
    },
    {
     "name": "stdout",
     "output_type": "stream",
     "text": [
      "INFO:tensorflow:Converted MIDI file /data/heerak/music_vae/groove/drummer1/session3/18_rock_128_beat_4-4.mid.\n"
     ]
    },
    {
     "name": "stderr",
     "output_type": "stream",
     "text": [
      "INFO:tensorflow:Converted MIDI file /data/heerak/music_vae/groove/drummer1/session3/18_rock_128_beat_4-4.mid.\n"
     ]
    },
    {
     "name": "stdout",
     "output_type": "stream",
     "text": [
      "INFO:tensorflow:Converted MIDI file /data/heerak/music_vae/groove/drummer1/session3/3_rock-rockabilly_200_beat_4-4.mid.\n"
     ]
    },
    {
     "name": "stderr",
     "output_type": "stream",
     "text": [
      "INFO:tensorflow:Converted MIDI file /data/heerak/music_vae/groove/drummer1/session3/3_rock-rockabilly_200_beat_4-4.mid.\n"
     ]
    },
    {
     "name": "stdout",
     "output_type": "stream",
     "text": [
      "INFO:tensorflow:Converted MIDI file /data/heerak/music_vae/groove/drummer1/session3/1_rock-prog_125_beat_4-4.mid.\n"
     ]
    },
    {
     "name": "stderr",
     "output_type": "stream",
     "text": [
      "INFO:tensorflow:Converted MIDI file /data/heerak/music_vae/groove/drummer1/session3/1_rock-prog_125_beat_4-4.mid.\n"
     ]
    },
    {
     "name": "stdout",
     "output_type": "stream",
     "text": [
      "INFO:tensorflow:Converted MIDI file /data/heerak/music_vae/groove/drummer1/session3/8_rock_135_beat_4-4.mid.\n"
     ]
    },
    {
     "name": "stderr",
     "output_type": "stream",
     "text": [
      "INFO:tensorflow:Converted MIDI file /data/heerak/music_vae/groove/drummer1/session3/8_rock_135_beat_4-4.mid.\n"
     ]
    },
    {
     "name": "stdout",
     "output_type": "stream",
     "text": [
      "WARNING:tensorflow:Unable to find a converter for file /data/heerak/music_vae/groove/drummer1/session3/Icon\n"
     ]
    },
    {
     "name": "stderr",
     "output_type": "stream",
     "text": [
      "WARNING:tensorflow:Unable to find a converter for file /data/heerak/music_vae/groove/drummer1/session3/Icon\n"
     ]
    },
    {
     "name": "stdout",
     "output_type": "stream",
     "text": [
      "INFO:tensorflow:Converted MIDI file /data/heerak/music_vae/groove/drummer1/session3/15_funk_117_beat_4-4.mid.\n"
     ]
    },
    {
     "name": "stderr",
     "output_type": "stream",
     "text": [
      "INFO:tensorflow:Converted MIDI file /data/heerak/music_vae/groove/drummer1/session3/15_funk_117_beat_4-4.mid.\n"
     ]
    },
    {
     "name": "stdout",
     "output_type": "stream",
     "text": [
      "INFO:tensorflow:Converted MIDI file /data/heerak/music_vae/groove/drummer1/session3/17_afrocuban-calypso_108_beat_4-4.mid.\n"
     ]
    },
    {
     "name": "stderr",
     "output_type": "stream",
     "text": [
      "INFO:tensorflow:Converted MIDI file /data/heerak/music_vae/groove/drummer1/session3/17_afrocuban-calypso_108_beat_4-4.mid.\n"
     ]
    },
    {
     "name": "stdout",
     "output_type": "stream",
     "text": [
      "INFO:tensorflow:Converted MIDI file /data/heerak/music_vae/groove/drummer1/session3/2_jazz-swing_185_beat_4-4.mid.\n"
     ]
    },
    {
     "name": "stderr",
     "output_type": "stream",
     "text": [
      "INFO:tensorflow:Converted MIDI file /data/heerak/music_vae/groove/drummer1/session3/2_jazz-swing_185_beat_4-4.mid.\n"
     ]
    },
    {
     "name": "stdout",
     "output_type": "stream",
     "text": [
      "INFO:tensorflow:Converting files in '/data/heerak/music_vae/groove/drummer1/session1'.\n"
     ]
    },
    {
     "name": "stderr",
     "output_type": "stream",
     "text": [
      "INFO:tensorflow:Converting files in '/data/heerak/music_vae/groove/drummer1/session1'.\n"
     ]
    },
    {
     "name": "stdout",
     "output_type": "stream",
     "text": [
      "INFO:tensorflow:Converted MIDI file /data/heerak/music_vae/groove/drummer1/session1/120_funk_95_fill_4-4.mid.\n"
     ]
    },
    {
     "name": "stderr",
     "output_type": "stream",
     "text": [
      "INFO:tensorflow:Converted MIDI file /data/heerak/music_vae/groove/drummer1/session1/120_funk_95_fill_4-4.mid.\n"
     ]
    },
    {
     "name": "stdout",
     "output_type": "stream",
     "text": [
      "INFO:tensorflow:Converted MIDI file /data/heerak/music_vae/groove/drummer1/session1/76_jazz-mediumfast_180_beat_4-4.mid.\n"
     ]
    },
    {
     "name": "stderr",
     "output_type": "stream",
     "text": [
      "INFO:tensorflow:Converted MIDI file /data/heerak/music_vae/groove/drummer1/session1/76_jazz-mediumfast_180_beat_4-4.mid.\n"
     ]
    },
    {
     "name": "stdout",
     "output_type": "stream",
     "text": [
      "INFO:tensorflow:Converted MIDI file /data/heerak/music_vae/groove/drummer1/session1/50_jazz_125_beat_4-4.mid.\n"
     ]
    },
    {
     "name": "stderr",
     "output_type": "stream",
     "text": [
      "INFO:tensorflow:Converted MIDI file /data/heerak/music_vae/groove/drummer1/session1/50_jazz_125_beat_4-4.mid.\n"
     ]
    },
    {
     "name": "stdout",
     "output_type": "stream",
     "text": [
      "INFO:tensorflow:Converted MIDI file /data/heerak/music_vae/groove/drummer1/session1/63_jazz_125_fill_4-4.mid.\n"
     ]
    },
    {
     "name": "stderr",
     "output_type": "stream",
     "text": [
      "INFO:tensorflow:Converted MIDI file /data/heerak/music_vae/groove/drummer1/session1/63_jazz_125_fill_4-4.mid.\n"
     ]
    },
    {
     "name": "stdout",
     "output_type": "stream",
     "text": [
      "INFO:tensorflow:Converted MIDI file /data/heerak/music_vae/groove/drummer1/session1/123_funk_95_fill_4-4.mid.\n"
     ]
    },
    {
     "name": "stderr",
     "output_type": "stream",
     "text": [
      "INFO:tensorflow:Converted MIDI file /data/heerak/music_vae/groove/drummer1/session1/123_funk_95_fill_4-4.mid.\n"
     ]
    },
    {
     "name": "stdout",
     "output_type": "stream",
     "text": [
      "INFO:tensorflow:Converted MIDI file /data/heerak/music_vae/groove/drummer1/session1/133_funk-fast_125_fill_4-4.mid.\n"
     ]
    },
    {
     "name": "stderr",
     "output_type": "stream",
     "text": [
      "INFO:tensorflow:Converted MIDI file /data/heerak/music_vae/groove/drummer1/session1/133_funk-fast_125_fill_4-4.mid.\n"
     ]
    },
    {
     "name": "stdout",
     "output_type": "stream",
     "text": [
      "INFO:tensorflow:Converted MIDI file /data/heerak/music_vae/groove/drummer1/session1/1_funk_80_beat_4-4.mid.\n"
     ]
    },
    {
     "name": "stderr",
     "output_type": "stream",
     "text": [
      "INFO:tensorflow:Converted MIDI file /data/heerak/music_vae/groove/drummer1/session1/1_funk_80_beat_4-4.mid.\n"
     ]
    },
    {
     "name": "stdout",
     "output_type": "stream",
     "text": [
      "INFO:tensorflow:Converted MIDI file /data/heerak/music_vae/groove/drummer1/session1/254_funk-purdieshuffle_130_fill_4-4.mid.\n"
     ]
    },
    {
     "name": "stderr",
     "output_type": "stream",
     "text": [
      "INFO:tensorflow:Converted MIDI file /data/heerak/music_vae/groove/drummer1/session1/254_funk-purdieshuffle_130_fill_4-4.mid.\n"
     ]
    },
    {
     "name": "stdout",
     "output_type": "stream",
     "text": [
      "INFO:tensorflow:Converted MIDI file /data/heerak/music_vae/groove/drummer1/session1/36_latin-samba_116_fill_4-4.mid.\n"
     ]
    },
    {
     "name": "stderr",
     "output_type": "stream",
     "text": [
      "INFO:tensorflow:Converted MIDI file /data/heerak/music_vae/groove/drummer1/session1/36_latin-samba_116_fill_4-4.mid.\n"
     ]
    },
    {
     "name": "stdout",
     "output_type": "stream",
     "text": [
      "INFO:tensorflow:Converted MIDI file /data/heerak/music_vae/groove/drummer1/session1/224_rock-halftime_140_fill_4-4.mid.\n"
     ]
    },
    {
     "name": "stderr",
     "output_type": "stream",
     "text": [
      "INFO:tensorflow:Converted MIDI file /data/heerak/music_vae/groove/drummer1/session1/224_rock-halftime_140_fill_4-4.mid.\n"
     ]
    },
    {
     "name": "stdout",
     "output_type": "stream",
     "text": [
      "INFO:tensorflow:Converted MIDI file /data/heerak/music_vae/groove/drummer1/session1/16_jazz-funk_116_fill_4-4.mid.\n"
     ]
    },
    {
     "name": "stderr",
     "output_type": "stream",
     "text": [
      "INFO:tensorflow:Converted MIDI file /data/heerak/music_vae/groove/drummer1/session1/16_jazz-funk_116_fill_4-4.mid.\n"
     ]
    },
    {
     "name": "stdout",
     "output_type": "stream",
     "text": [
      "INFO:tensorflow:Converted MIDI file /data/heerak/music_vae/groove/drummer1/session1/201_reggae-slow_64_beat_4-4.mid.\n"
     ]
    },
    {
     "name": "stderr",
     "output_type": "stream",
     "text": [
      "INFO:tensorflow:Converted MIDI file /data/heerak/music_vae/groove/drummer1/session1/201_reggae-slow_64_beat_4-4.mid.\n"
     ]
    },
    {
     "name": "stdout",
     "output_type": "stream",
     "text": [
      "INFO:tensorflow:Converted MIDI file /data/heerak/music_vae/groove/drummer1/session1/228_rock-halftime_140_fill_4-4.mid.\n"
     ]
    },
    {
     "name": "stderr",
     "output_type": "stream",
     "text": [
      "INFO:tensorflow:Converted MIDI file /data/heerak/music_vae/groove/drummer1/session1/228_rock-halftime_140_fill_4-4.mid.\n"
     ]
    },
    {
     "name": "stdout",
     "output_type": "stream",
     "text": [
      "INFO:tensorflow:Converted MIDI file /data/heerak/music_vae/groove/drummer1/session1/66_jazz_125_fill_4-4.mid.\n"
     ]
    },
    {
     "name": "stderr",
     "output_type": "stream",
     "text": [
      "INFO:tensorflow:Converted MIDI file /data/heerak/music_vae/groove/drummer1/session1/66_jazz_125_fill_4-4.mid.\n"
     ]
    },
    {
     "name": "stdout",
     "output_type": "stream",
     "text": [
      "INFO:tensorflow:Converted MIDI file /data/heerak/music_vae/groove/drummer1/session1/250_funk-purdieshuffle_130_fill_4-4.mid.\n"
     ]
    },
    {
     "name": "stderr",
     "output_type": "stream",
     "text": [
      "INFO:tensorflow:Converted MIDI file /data/heerak/music_vae/groove/drummer1/session1/250_funk-purdieshuffle_130_fill_4-4.mid.\n"
     ]
    },
    {
     "name": "stdout",
     "output_type": "stream",
     "text": [
      "INFO:tensorflow:Converted MIDI file /data/heerak/music_vae/groove/drummer1/session1/75_jazz_125_beat_4-4.mid.\n"
     ]
    },
    {
     "name": "stderr",
     "output_type": "stream",
     "text": [
      "INFO:tensorflow:Converted MIDI file /data/heerak/music_vae/groove/drummer1/session1/75_jazz_125_beat_4-4.mid.\n"
     ]
    },
    {
     "name": "stdout",
     "output_type": "stream",
     "text": [
      "INFO:tensorflow:Converted MIDI file /data/heerak/music_vae/groove/drummer1/session1/125_funk_95_fill_4-4.mid.\n"
     ]
    },
    {
     "name": "stderr",
     "output_type": "stream",
     "text": [
      "INFO:tensorflow:Converted MIDI file /data/heerak/music_vae/groove/drummer1/session1/125_funk_95_fill_4-4.mid.\n"
     ]
    },
    {
     "name": "stdout",
     "output_type": "stream",
     "text": [
      "INFO:tensorflow:Converted MIDI file /data/heerak/music_vae/groove/drummer1/session1/116_funk_95_fill_4-4.mid.\n"
     ]
    },
    {
     "name": "stderr",
     "output_type": "stream",
     "text": [
      "INFO:tensorflow:Converted MIDI file /data/heerak/music_vae/groove/drummer1/session1/116_funk_95_fill_4-4.mid.\n"
     ]
    },
    {
     "name": "stdout",
     "output_type": "stream",
     "text": [
      "INFO:tensorflow:Converted MIDI file /data/heerak/music_vae/groove/drummer1/session1/13_jazz-funk_116_fill_4-4.mid.\n"
     ]
    },
    {
     "name": "stderr",
     "output_type": "stream",
     "text": [
      "INFO:tensorflow:Converted MIDI file /data/heerak/music_vae/groove/drummer1/session1/13_jazz-funk_116_fill_4-4.mid.\n"
     ]
    },
    {
     "name": "stdout",
     "output_type": "stream",
     "text": [
      "INFO:tensorflow:Converted MIDI file /data/heerak/music_vae/groove/drummer1/session1/249_funk-purdieshuffle_130_fill_4-4.mid.\n"
     ]
    },
    {
     "name": "stderr",
     "output_type": "stream",
     "text": [
      "INFO:tensorflow:Converted MIDI file /data/heerak/music_vae/groove/drummer1/session1/249_funk-purdieshuffle_130_fill_4-4.mid.\n"
     ]
    },
    {
     "name": "stdout",
     "output_type": "stream",
     "text": [
      "INFO:tensorflow:Converted MIDI file /data/heerak/music_vae/groove/drummer1/session1/226_rock-halftime_140_fill_4-4.mid.\n"
     ]
    },
    {
     "name": "stderr",
     "output_type": "stream",
     "text": [
      "INFO:tensorflow:Converted MIDI file /data/heerak/music_vae/groove/drummer1/session1/226_rock-halftime_140_fill_4-4.mid.\n"
     ]
    },
    {
     "name": "stdout",
     "output_type": "stream",
     "text": [
      "INFO:tensorflow:Converted MIDI file /data/heerak/music_vae/groove/drummer1/session1/129_funk-fast_125_fill_4-4.mid.\n"
     ]
    },
    {
     "name": "stderr",
     "output_type": "stream",
     "text": [
      "INFO:tensorflow:Converted MIDI file /data/heerak/music_vae/groove/drummer1/session1/129_funk-fast_125_fill_4-4.mid.\n"
     ]
    },
    {
     "name": "stdout",
     "output_type": "stream",
     "text": [
      "INFO:tensorflow:Converted MIDI file /data/heerak/music_vae/groove/drummer1/session1/197_reggae_78_fill_4-4.mid.\n"
     ]
    },
    {
     "name": "stderr",
     "output_type": "stream",
     "text": [
      "INFO:tensorflow:Converted MIDI file /data/heerak/music_vae/groove/drummer1/session1/197_reggae_78_fill_4-4.mid.\n"
     ]
    },
    {
     "name": "stdout",
     "output_type": "stream",
     "text": [
      "INFO:tensorflow:Converted MIDI file /data/heerak/music_vae/groove/drummer1/session1/167_latin-brazilian-baiao_95_fill_4-4.mid.\n"
     ]
    },
    {
     "name": "stderr",
     "output_type": "stream",
     "text": [
      "INFO:tensorflow:Converted MIDI file /data/heerak/music_vae/groove/drummer1/session1/167_latin-brazilian-baiao_95_fill_4-4.mid.\n"
     ]
    },
    {
     "name": "stdout",
     "output_type": "stream",
     "text": [
      "INFO:tensorflow:Converted MIDI file /data/heerak/music_vae/groove/drummer1/session1/4_jazz-funk_116_beat_4-4.mid.\n"
     ]
    },
    {
     "name": "stderr",
     "output_type": "stream",
     "text": [
      "INFO:tensorflow:Converted MIDI file /data/heerak/music_vae/groove/drummer1/session1/4_jazz-funk_116_beat_4-4.mid.\n"
     ]
    },
    {
     "name": "stdout",
     "output_type": "stream",
     "text": [
      "INFO:tensorflow:Converted MIDI file /data/heerak/music_vae/groove/drummer1/session1/41_latin-samba_116_fill_4-4.mid.\n"
     ]
    },
    {
     "name": "stderr",
     "output_type": "stream",
     "text": [
      "INFO:tensorflow:Converted MIDI file /data/heerak/music_vae/groove/drummer1/session1/41_latin-samba_116_fill_4-4.mid.\n"
     ]
    },
    {
     "name": "stdout",
     "output_type": "stream",
     "text": [
      "INFO:tensorflow:Converted MIDI file /data/heerak/music_vae/groove/drummer1/session1/121_funk_95_fill_4-4.mid.\n"
     ]
    },
    {
     "name": "stderr",
     "output_type": "stream",
     "text": [
      "INFO:tensorflow:Converted MIDI file /data/heerak/music_vae/groove/drummer1/session1/121_funk_95_fill_4-4.mid.\n"
     ]
    },
    {
     "name": "stdout",
     "output_type": "stream",
     "text": [
      "INFO:tensorflow:Converted MIDI file /data/heerak/music_vae/groove/drummer1/session1/102_funk_95_beat_4-4.mid.\n"
     ]
    },
    {
     "name": "stderr",
     "output_type": "stream",
     "text": [
      "INFO:tensorflow:Converted MIDI file /data/heerak/music_vae/groove/drummer1/session1/102_funk_95_beat_4-4.mid.\n"
     ]
    },
    {
     "name": "stdout",
     "output_type": "stream",
     "text": [
      "INFO:tensorflow:Converted MIDI file /data/heerak/music_vae/groove/drummer1/session1/162_latin-brazilian-baiao_95_fill_4-4.mid.\n"
     ]
    },
    {
     "name": "stderr",
     "output_type": "stream",
     "text": [
      "INFO:tensorflow:Converted MIDI file /data/heerak/music_vae/groove/drummer1/session1/162_latin-brazilian-baiao_95_fill_4-4.mid.\n"
     ]
    },
    {
     "name": "stdout",
     "output_type": "stream",
     "text": [
      "INFO:tensorflow:Converted MIDI file /data/heerak/music_vae/groove/drummer1/session1/19_jazz-funk_116_fill_4-4.mid.\n"
     ]
    },
    {
     "name": "stderr",
     "output_type": "stream",
     "text": [
      "INFO:tensorflow:Converted MIDI file /data/heerak/music_vae/groove/drummer1/session1/19_jazz-funk_116_fill_4-4.mid.\n"
     ]
    },
    {
     "name": "stdout",
     "output_type": "stream",
     "text": [
      "INFO:tensorflow:Converted MIDI file /data/heerak/music_vae/groove/drummer1/session1/27_jazz-funk_116_fill_4-4.mid.\n"
     ]
    },
    {
     "name": "stderr",
     "output_type": "stream",
     "text": [
      "INFO:tensorflow:Converted MIDI file /data/heerak/music_vae/groove/drummer1/session1/27_jazz-funk_116_fill_4-4.mid.\n"
     ]
    },
    {
     "name": "stdout",
     "output_type": "stream",
     "text": [
      "INFO:tensorflow:Converted MIDI file /data/heerak/music_vae/groove/drummer1/session1/253_funk-purdieshuffle_130_fill_4-4.mid.\n"
     ]
    },
    {
     "name": "stderr",
     "output_type": "stream",
     "text": [
      "INFO:tensorflow:Converted MIDI file /data/heerak/music_vae/groove/drummer1/session1/253_funk-purdieshuffle_130_fill_4-4.mid.\n"
     ]
    },
    {
     "name": "stdout",
     "output_type": "stream",
     "text": [
      "INFO:tensorflow:Converted MIDI file /data/heerak/music_vae/groove/drummer1/session1/37_latin-samba_116_fill_4-4.mid.\n"
     ]
    },
    {
     "name": "stderr",
     "output_type": "stream",
     "text": [
      "INFO:tensorflow:Converted MIDI file /data/heerak/music_vae/groove/drummer1/session1/37_latin-samba_116_fill_4-4.mid.\n"
     ]
    },
    {
     "name": "stdout",
     "output_type": "stream",
     "text": [
      "INFO:tensorflow:Converted MIDI file /data/heerak/music_vae/groove/drummer1/session1/241_funk-purdieshuffle_130_fill_4-4.mid.\n"
     ]
    },
    {
     "name": "stderr",
     "output_type": "stream",
     "text": [
      "INFO:tensorflow:Converted MIDI file /data/heerak/music_vae/groove/drummer1/session1/241_funk-purdieshuffle_130_fill_4-4.mid.\n"
     ]
    },
    {
     "name": "stdout",
     "output_type": "stream",
     "text": [
      "INFO:tensorflow:Converted MIDI file /data/heerak/music_vae/groove/drummer1/session1/195_reggae_78_fill_4-4.mid.\n"
     ]
    },
    {
     "name": "stderr",
     "output_type": "stream",
     "text": [
      "INFO:tensorflow:Converted MIDI file /data/heerak/music_vae/groove/drummer1/session1/195_reggae_78_fill_4-4.mid.\n"
     ]
    },
    {
     "name": "stdout",
     "output_type": "stream",
     "text": [
      "INFO:tensorflow:Converted MIDI file /data/heerak/music_vae/groove/drummer1/session1/82_neworleans-funk_84_beat_4-4.mid.\n"
     ]
    },
    {
     "name": "stderr",
     "output_type": "stream",
     "text": [
      "INFO:tensorflow:Converted MIDI file /data/heerak/music_vae/groove/drummer1/session1/82_neworleans-funk_84_beat_4-4.mid.\n"
     ]
    },
    {
     "name": "stdout",
     "output_type": "stream",
     "text": [
      "INFO:tensorflow:Converted MIDI file /data/heerak/music_vae/groove/drummer1/session1/49_jazz_125_beat_4-4.mid.\n"
     ]
    },
    {
     "name": "stderr",
     "output_type": "stream",
     "text": [
      "INFO:tensorflow:Converted MIDI file /data/heerak/music_vae/groove/drummer1/session1/49_jazz_125_beat_4-4.mid.\n"
     ]
    },
    {
     "name": "stdout",
     "output_type": "stream",
     "text": [
      "INFO:tensorflow:Converted MIDI file /data/heerak/music_vae/groove/drummer1/session1/99_neworleans-funk_84_fill_4-4.mid.\n"
     ]
    },
    {
     "name": "stderr",
     "output_type": "stream",
     "text": [
      "INFO:tensorflow:Converted MIDI file /data/heerak/music_vae/groove/drummer1/session1/99_neworleans-funk_84_fill_4-4.mid.\n"
     ]
    },
    {
     "name": "stdout",
     "output_type": "stream",
     "text": [
      "INFO:tensorflow:Converted MIDI file /data/heerak/music_vae/groove/drummer1/session1/97_neworleans-funk_84_fill_4-4.mid.\n"
     ]
    },
    {
     "name": "stderr",
     "output_type": "stream",
     "text": [
      "INFO:tensorflow:Converted MIDI file /data/heerak/music_vae/groove/drummer1/session1/97_neworleans-funk_84_fill_4-4.mid.\n"
     ]
    },
    {
     "name": "stdout",
     "output_type": "stream",
     "text": [
      "INFO:tensorflow:Converted MIDI file /data/heerak/music_vae/groove/drummer1/session1/235_rock-halftime_140_fill_4-4.mid.\n"
     ]
    },
    {
     "name": "stderr",
     "output_type": "stream",
     "text": [
      "INFO:tensorflow:Converted MIDI file /data/heerak/music_vae/groove/drummer1/session1/235_rock-halftime_140_fill_4-4.mid.\n"
     ]
    },
    {
     "name": "stdout",
     "output_type": "stream",
     "text": [
      "INFO:tensorflow:Converted MIDI file /data/heerak/music_vae/groove/drummer1/session1/217_rock-halftime_140_fill_4-4.mid.\n"
     ]
    },
    {
     "name": "stderr",
     "output_type": "stream",
     "text": [
      "INFO:tensorflow:Converted MIDI file /data/heerak/music_vae/groove/drummer1/session1/217_rock-halftime_140_fill_4-4.mid.\n"
     ]
    },
    {
     "name": "stdout",
     "output_type": "stream",
     "text": [
      "INFO:tensorflow:Converted MIDI file /data/heerak/music_vae/groove/drummer1/session1/171_latin-brazilian-baiao_95_fill_4-4.mid.\n"
     ]
    },
    {
     "name": "stderr",
     "output_type": "stream",
     "text": [
      "INFO:tensorflow:Converted MIDI file /data/heerak/music_vae/groove/drummer1/session1/171_latin-brazilian-baiao_95_fill_4-4.mid.\n"
     ]
    },
    {
     "name": "stdout",
     "output_type": "stream",
     "text": [
      "INFO:tensorflow:Converted MIDI file /data/heerak/music_vae/groove/drummer1/session1/196_reggae_78_fill_4-4.mid.\n"
     ]
    },
    {
     "name": "stderr",
     "output_type": "stream",
     "text": [
      "INFO:tensorflow:Converted MIDI file /data/heerak/music_vae/groove/drummer1/session1/196_reggae_78_fill_4-4.mid.\n"
     ]
    },
    {
     "name": "stdout",
     "output_type": "stream",
     "text": [
      "INFO:tensorflow:Converted MIDI file /data/heerak/music_vae/groove/drummer1/session1/177_afrocuban_105_fill_4-4.mid.\n"
     ]
    },
    {
     "name": "stderr",
     "output_type": "stream",
     "text": [
      "INFO:tensorflow:Converted MIDI file /data/heerak/music_vae/groove/drummer1/session1/177_afrocuban_105_fill_4-4.mid.\n"
     ]
    },
    {
     "name": "stdout",
     "output_type": "stream",
     "text": [
      "INFO:tensorflow:Converted MIDI file /data/heerak/music_vae/groove/drummer1/session1/6_jazz-funk_116_fill_4-4.mid.\n"
     ]
    },
    {
     "name": "stderr",
     "output_type": "stream",
     "text": [
      "INFO:tensorflow:Converted MIDI file /data/heerak/music_vae/groove/drummer1/session1/6_jazz-funk_116_fill_4-4.mid.\n"
     ]
    },
    {
     "name": "stdout",
     "output_type": "stream",
     "text": [
      "INFO:tensorflow:Converted MIDI file /data/heerak/music_vae/groove/drummer1/session1/52_jazz_125_beat_4-4.mid.\n"
     ]
    },
    {
     "name": "stderr",
     "output_type": "stream",
     "text": [
      "INFO:tensorflow:Converted MIDI file /data/heerak/music_vae/groove/drummer1/session1/52_jazz_125_beat_4-4.mid.\n"
     ]
    },
    {
     "name": "stdout",
     "output_type": "stream",
     "text": [
      "INFO:tensorflow:Converted MIDI file /data/heerak/music_vae/groove/drummer1/session1/29_latin-samba_116_fill_4-4.mid.\n"
     ]
    },
    {
     "name": "stderr",
     "output_type": "stream",
     "text": [
      "INFO:tensorflow:Converted MIDI file /data/heerak/music_vae/groove/drummer1/session1/29_latin-samba_116_fill_4-4.mid.\n"
     ]
    },
    {
     "name": "stdout",
     "output_type": "stream",
     "text": [
      "INFO:tensorflow:Converted MIDI file /data/heerak/music_vae/groove/drummer1/session1/35_latin-samba_116_fill_4-4.mid.\n"
     ]
    },
    {
     "name": "stderr",
     "output_type": "stream",
     "text": [
      "INFO:tensorflow:Converted MIDI file /data/heerak/music_vae/groove/drummer1/session1/35_latin-samba_116_fill_4-4.mid.\n"
     ]
    },
    {
     "name": "stdout",
     "output_type": "stream",
     "text": [
      "INFO:tensorflow:Converted MIDI file /data/heerak/music_vae/groove/drummer1/session1/148_latin-brazilian-baiao_95_fill_4-4.mid.\n"
     ]
    },
    {
     "name": "stderr",
     "output_type": "stream",
     "text": [
      "INFO:tensorflow:Converted MIDI file /data/heerak/music_vae/groove/drummer1/session1/148_latin-brazilian-baiao_95_fill_4-4.mid.\n"
     ]
    },
    {
     "name": "stdout",
     "output_type": "stream",
     "text": [
      "INFO:tensorflow:Converted MIDI file /data/heerak/music_vae/groove/drummer1/session1/242_funk-purdieshuffle_130_fill_4-4.mid.\n"
     ]
    },
    {
     "name": "stderr",
     "output_type": "stream",
     "text": [
      "INFO:tensorflow:Converted MIDI file /data/heerak/music_vae/groove/drummer1/session1/242_funk-purdieshuffle_130_fill_4-4.mid.\n"
     ]
    },
    {
     "name": "stdout",
     "output_type": "stream",
     "text": [
      "INFO:tensorflow:Converted MIDI file /data/heerak/music_vae/groove/drummer1/session1/78_jazz-fast_290_beat_4-4.mid.\n"
     ]
    },
    {
     "name": "stderr",
     "output_type": "stream",
     "text": [
      "INFO:tensorflow:Converted MIDI file /data/heerak/music_vae/groove/drummer1/session1/78_jazz-fast_290_beat_4-4.mid.\n"
     ]
    },
    {
     "name": "stdout",
     "output_type": "stream",
     "text": [
      "INFO:tensorflow:Converted MIDI file /data/heerak/music_vae/groove/drummer1/session1/166_latin-brazilian-baiao_95_fill_4-4.mid.\n"
     ]
    },
    {
     "name": "stderr",
     "output_type": "stream",
     "text": [
      "INFO:tensorflow:Converted MIDI file /data/heerak/music_vae/groove/drummer1/session1/166_latin-brazilian-baiao_95_fill_4-4.mid.\n"
     ]
    },
    {
     "name": "stdout",
     "output_type": "stream",
     "text": [
      "INFO:tensorflow:Converted MIDI file /data/heerak/music_vae/groove/drummer1/session1/169_latin-brazilian-baiao_95_fill_4-4.mid.\n"
     ]
    },
    {
     "name": "stderr",
     "output_type": "stream",
     "text": [
      "INFO:tensorflow:Converted MIDI file /data/heerak/music_vae/groove/drummer1/session1/169_latin-brazilian-baiao_95_fill_4-4.mid.\n"
     ]
    },
    {
     "name": "stdout",
     "output_type": "stream",
     "text": [
      "INFO:tensorflow:Converted MIDI file /data/heerak/music_vae/groove/drummer1/session1/101_dance-disco_120_beat_4-4.mid.\n"
     ]
    },
    {
     "name": "stderr",
     "output_type": "stream",
     "text": [
      "INFO:tensorflow:Converted MIDI file /data/heerak/music_vae/groove/drummer1/session1/101_dance-disco_120_beat_4-4.mid.\n"
     ]
    },
    {
     "name": "stdout",
     "output_type": "stream",
     "text": [
      "INFO:tensorflow:Converted MIDI file /data/heerak/music_vae/groove/drummer1/session1/2_funk_80_beat_4-4.mid.\n"
     ]
    },
    {
     "name": "stderr",
     "output_type": "stream",
     "text": [
      "INFO:tensorflow:Converted MIDI file /data/heerak/music_vae/groove/drummer1/session1/2_funk_80_beat_4-4.mid.\n"
     ]
    },
    {
     "name": "stdout",
     "output_type": "stream",
     "text": [
      "INFO:tensorflow:Converted MIDI file /data/heerak/music_vae/groove/drummer1/session1/138_funk-fast_125_fill_4-4.mid.\n"
     ]
    },
    {
     "name": "stderr",
     "output_type": "stream",
     "text": [
      "INFO:tensorflow:Converted MIDI file /data/heerak/music_vae/groove/drummer1/session1/138_funk-fast_125_fill_4-4.mid.\n"
     ]
    },
    {
     "name": "stdout",
     "output_type": "stream",
     "text": [
      "INFO:tensorflow:Converted MIDI file /data/heerak/music_vae/groove/drummer1/session1/60_jazz_125_fill_4-4.mid.\n"
     ]
    },
    {
     "name": "stderr",
     "output_type": "stream",
     "text": [
      "INFO:tensorflow:Converted MIDI file /data/heerak/music_vae/groove/drummer1/session1/60_jazz_125_fill_4-4.mid.\n"
     ]
    },
    {
     "name": "stdout",
     "output_type": "stream",
     "text": [
      "INFO:tensorflow:Converted MIDI file /data/heerak/music_vae/groove/drummer1/session1/85_neworleans-funk_84_fill_4-4.mid.\n"
     ]
    },
    {
     "name": "stderr",
     "output_type": "stream",
     "text": [
      "INFO:tensorflow:Converted MIDI file /data/heerak/music_vae/groove/drummer1/session1/85_neworleans-funk_84_fill_4-4.mid.\n"
     ]
    },
    {
     "name": "stdout",
     "output_type": "stream",
     "text": [
      "INFO:tensorflow:Converted MIDI file /data/heerak/music_vae/groove/drummer1/session1/186_reggae_78_fill_4-4.mid.\n"
     ]
    },
    {
     "name": "stderr",
     "output_type": "stream",
     "text": [
      "INFO:tensorflow:Converted MIDI file /data/heerak/music_vae/groove/drummer1/session1/186_reggae_78_fill_4-4.mid.\n"
     ]
    },
    {
     "name": "stdout",
     "output_type": "stream",
     "text": [
      "INFO:tensorflow:Converted MIDI file /data/heerak/music_vae/groove/drummer1/session1/180_afrocuban_105_fill_4-4.mid.\n"
     ]
    },
    {
     "name": "stderr",
     "output_type": "stream",
     "text": [
      "INFO:tensorflow:Converted MIDI file /data/heerak/music_vae/groove/drummer1/session1/180_afrocuban_105_fill_4-4.mid.\n"
     ]
    },
    {
     "name": "stdout",
     "output_type": "stream",
     "text": [
      "INFO:tensorflow:Converted MIDI file /data/heerak/music_vae/groove/drummer1/session1/165_latin-brazilian-baiao_95_fill_4-4.mid.\n"
     ]
    },
    {
     "name": "stderr",
     "output_type": "stream",
     "text": [
      "INFO:tensorflow:Converted MIDI file /data/heerak/music_vae/groove/drummer1/session1/165_latin-brazilian-baiao_95_fill_4-4.mid.\n"
     ]
    },
    {
     "name": "stdout",
     "output_type": "stream",
     "text": [
      "INFO:tensorflow:Converted MIDI file /data/heerak/music_vae/groove/drummer1/session1/192_reggae_78_fill_4-4.mid.\n"
     ]
    },
    {
     "name": "stderr",
     "output_type": "stream",
     "text": [
      "INFO:tensorflow:Converted MIDI file /data/heerak/music_vae/groove/drummer1/session1/192_reggae_78_fill_4-4.mid.\n"
     ]
    },
    {
     "name": "stdout",
     "output_type": "stream",
     "text": [
      "INFO:tensorflow:Converted MIDI file /data/heerak/music_vae/groove/drummer1/session1/72_jazz_125_fill_4-4.mid.\n"
     ]
    },
    {
     "name": "stderr",
     "output_type": "stream",
     "text": [
      "INFO:tensorflow:Converted MIDI file /data/heerak/music_vae/groove/drummer1/session1/72_jazz_125_fill_4-4.mid.\n"
     ]
    },
    {
     "name": "stdout",
     "output_type": "stream",
     "text": [
      "INFO:tensorflow:Converted MIDI file /data/heerak/music_vae/groove/drummer1/session1/93_neworleans-funk_84_fill_4-4.mid.\n"
     ]
    },
    {
     "name": "stderr",
     "output_type": "stream",
     "text": [
      "INFO:tensorflow:Converted MIDI file /data/heerak/music_vae/groove/drummer1/session1/93_neworleans-funk_84_fill_4-4.mid.\n"
     ]
    },
    {
     "name": "stdout",
     "output_type": "stream",
     "text": [
      "INFO:tensorflow:Converted MIDI file /data/heerak/music_vae/groove/drummer1/session1/208_rock-halftime_140_fill_4-4.mid.\n"
     ]
    },
    {
     "name": "stderr",
     "output_type": "stream",
     "text": [
      "INFO:tensorflow:Converted MIDI file /data/heerak/music_vae/groove/drummer1/session1/208_rock-halftime_140_fill_4-4.mid.\n"
     ]
    },
    {
     "name": "stdout",
     "output_type": "stream",
     "text": [
      "INFO:tensorflow:Converted MIDI file /data/heerak/music_vae/groove/drummer1/session1/199_reggae_78_fill_4-4.mid.\n"
     ]
    },
    {
     "name": "stderr",
     "output_type": "stream",
     "text": [
      "INFO:tensorflow:Converted MIDI file /data/heerak/music_vae/groove/drummer1/session1/199_reggae_78_fill_4-4.mid.\n"
     ]
    },
    {
     "name": "stdout",
     "output_type": "stream",
     "text": [
      "INFO:tensorflow:Converted MIDI file /data/heerak/music_vae/groove/drummer1/session1/267_funk-purdieshuffle_130_fill_4-4.mid.\n"
     ]
    },
    {
     "name": "stderr",
     "output_type": "stream",
     "text": [
      "INFO:tensorflow:Converted MIDI file /data/heerak/music_vae/groove/drummer1/session1/267_funk-purdieshuffle_130_fill_4-4.mid.\n"
     ]
    },
    {
     "name": "stdout",
     "output_type": "stream",
     "text": [
      "INFO:tensorflow:Converted MIDI file /data/heerak/music_vae/groove/drummer1/session1/230_rock-halftime_140_fill_4-4.mid.\n"
     ]
    },
    {
     "name": "stderr",
     "output_type": "stream",
     "text": [
      "INFO:tensorflow:Converted MIDI file /data/heerak/music_vae/groove/drummer1/session1/230_rock-halftime_140_fill_4-4.mid.\n"
     ]
    },
    {
     "name": "stdout",
     "output_type": "stream",
     "text": [
      "INFO:tensorflow:Converted MIDI file /data/heerak/music_vae/groove/drummer1/session1/114_funk_95_fill_4-4.mid.\n"
     ]
    },
    {
     "name": "stderr",
     "output_type": "stream",
     "text": [
      "INFO:tensorflow:Converted MIDI file /data/heerak/music_vae/groove/drummer1/session1/114_funk_95_fill_4-4.mid.\n"
     ]
    },
    {
     "name": "stdout",
     "output_type": "stream",
     "text": [
      "INFO:tensorflow:Converted MIDI file /data/heerak/music_vae/groove/drummer1/session1/126_funk-fast_125_beat_4-4.mid.\n"
     ]
    },
    {
     "name": "stderr",
     "output_type": "stream",
     "text": [
      "INFO:tensorflow:Converted MIDI file /data/heerak/music_vae/groove/drummer1/session1/126_funk-fast_125_beat_4-4.mid.\n"
     ]
    },
    {
     "name": "stdout",
     "output_type": "stream",
     "text": [
      "INFO:tensorflow:Converted MIDI file /data/heerak/music_vae/groove/drummer1/session1/172_latin-brazilian-baiao_95_fill_4-4.mid.\n"
     ]
    },
    {
     "name": "stderr",
     "output_type": "stream",
     "text": [
      "INFO:tensorflow:Converted MIDI file /data/heerak/music_vae/groove/drummer1/session1/172_latin-brazilian-baiao_95_fill_4-4.mid.\n"
     ]
    },
    {
     "name": "stdout",
     "output_type": "stream",
     "text": [
      "INFO:tensorflow:Converted MIDI file /data/heerak/music_vae/groove/drummer1/session1/251_funk-purdieshuffle_130_fill_4-4.mid.\n"
     ]
    },
    {
     "name": "stderr",
     "output_type": "stream",
     "text": [
      "INFO:tensorflow:Converted MIDI file /data/heerak/music_vae/groove/drummer1/session1/251_funk-purdieshuffle_130_fill_4-4.mid.\n"
     ]
    },
    {
     "name": "stdout",
     "output_type": "stream",
     "text": [
      "INFO:tensorflow:Converted MIDI file /data/heerak/music_vae/groove/drummer1/session1/210_rock-halftime_140_fill_4-4.mid.\n"
     ]
    },
    {
     "name": "stderr",
     "output_type": "stream",
     "text": [
      "INFO:tensorflow:Converted MIDI file /data/heerak/music_vae/groove/drummer1/session1/210_rock-halftime_140_fill_4-4.mid.\n"
     ]
    },
    {
     "name": "stdout",
     "output_type": "stream",
     "text": [
      "INFO:tensorflow:Converted MIDI file /data/heerak/music_vae/groove/drummer1/session1/236_rock-halftime_140_fill_4-4.mid.\n"
     ]
    },
    {
     "name": "stderr",
     "output_type": "stream",
     "text": [
      "INFO:tensorflow:Converted MIDI file /data/heerak/music_vae/groove/drummer1/session1/236_rock-halftime_140_fill_4-4.mid.\n"
     ]
    },
    {
     "name": "stdout",
     "output_type": "stream",
     "text": [
      "INFO:tensorflow:Converted MIDI file /data/heerak/music_vae/groove/drummer1/session1/92_neworleans-funk_84_fill_4-4.mid.\n"
     ]
    },
    {
     "name": "stderr",
     "output_type": "stream",
     "text": [
      "INFO:tensorflow:Converted MIDI file /data/heerak/music_vae/groove/drummer1/session1/92_neworleans-funk_84_fill_4-4.mid.\n"
     ]
    },
    {
     "name": "stdout",
     "output_type": "stream",
     "text": [
      "INFO:tensorflow:Converted MIDI file /data/heerak/music_vae/groove/drummer1/session1/74_jazz_125_fill_4-4.mid.\n"
     ]
    },
    {
     "name": "stderr",
     "output_type": "stream",
     "text": [
      "INFO:tensorflow:Converted MIDI file /data/heerak/music_vae/groove/drummer1/session1/74_jazz_125_fill_4-4.mid.\n"
     ]
    },
    {
     "name": "stdout",
     "output_type": "stream",
     "text": [
      "INFO:tensorflow:Converted MIDI file /data/heerak/music_vae/groove/drummer1/session1/124_funk_95_fill_4-4.mid.\n"
     ]
    },
    {
     "name": "stderr",
     "output_type": "stream",
     "text": [
      "INFO:tensorflow:Converted MIDI file /data/heerak/music_vae/groove/drummer1/session1/124_funk_95_fill_4-4.mid.\n"
     ]
    },
    {
     "name": "stdout",
     "output_type": "stream",
     "text": [
      "INFO:tensorflow:Converted MIDI file /data/heerak/music_vae/groove/drummer1/session1/154_latin-brazilian-baiao_95_fill_4-4.mid.\n"
     ]
    },
    {
     "name": "stderr",
     "output_type": "stream",
     "text": [
      "INFO:tensorflow:Converted MIDI file /data/heerak/music_vae/groove/drummer1/session1/154_latin-brazilian-baiao_95_fill_4-4.mid.\n"
     ]
    },
    {
     "name": "stdout",
     "output_type": "stream",
     "text": [
      "INFO:tensorflow:Converted MIDI file /data/heerak/music_vae/groove/drummer1/session1/194_reggae_78_fill_4-4.mid.\n"
     ]
    },
    {
     "name": "stderr",
     "output_type": "stream",
     "text": [
      "INFO:tensorflow:Converted MIDI file /data/heerak/music_vae/groove/drummer1/session1/194_reggae_78_fill_4-4.mid.\n"
     ]
    },
    {
     "name": "stdout",
     "output_type": "stream",
     "text": [
      "INFO:tensorflow:Converted MIDI file /data/heerak/music_vae/groove/drummer1/session1/223_rock-halftime_140_fill_4-4.mid.\n"
     ]
    },
    {
     "name": "stderr",
     "output_type": "stream",
     "text": [
      "INFO:tensorflow:Converted MIDI file /data/heerak/music_vae/groove/drummer1/session1/223_rock-halftime_140_fill_4-4.mid.\n"
     ]
    },
    {
     "name": "stdout",
     "output_type": "stream",
     "text": [
      "INFO:tensorflow:Converted MIDI file /data/heerak/music_vae/groove/drummer1/session1/185_reggae_78_fill_4-4.mid.\n"
     ]
    },
    {
     "name": "stderr",
     "output_type": "stream",
     "text": [
      "INFO:tensorflow:Converted MIDI file /data/heerak/music_vae/groove/drummer1/session1/185_reggae_78_fill_4-4.mid.\n"
     ]
    },
    {
     "name": "stdout",
     "output_type": "stream",
     "text": [
      "INFO:tensorflow:Converted MIDI file /data/heerak/music_vae/groove/drummer1/session1/212_rock-halftime_140_fill_4-4.mid.\n"
     ]
    },
    {
     "name": "stderr",
     "output_type": "stream",
     "text": [
      "INFO:tensorflow:Converted MIDI file /data/heerak/music_vae/groove/drummer1/session1/212_rock-halftime_140_fill_4-4.mid.\n"
     ]
    },
    {
     "name": "stdout",
     "output_type": "stream",
     "text": [
      "INFO:tensorflow:Converted MIDI file /data/heerak/music_vae/groove/drummer1/session1/32_latin-samba_116_fill_4-4.mid.\n"
     ]
    },
    {
     "name": "stderr",
     "output_type": "stream",
     "text": [
      "INFO:tensorflow:Converted MIDI file /data/heerak/music_vae/groove/drummer1/session1/32_latin-samba_116_fill_4-4.mid.\n"
     ]
    },
    {
     "name": "stdout",
     "output_type": "stream",
     "text": [
      "INFO:tensorflow:Converted MIDI file /data/heerak/music_vae/groove/drummer1/session1/203_rock-halftime_140_fill_4-4.mid.\n"
     ]
    },
    {
     "name": "stderr",
     "output_type": "stream",
     "text": [
      "INFO:tensorflow:Converted MIDI file /data/heerak/music_vae/groove/drummer1/session1/203_rock-halftime_140_fill_4-4.mid.\n"
     ]
    },
    {
     "name": "stdout",
     "output_type": "stream",
     "text": [
      "INFO:tensorflow:Converted MIDI file /data/heerak/music_vae/groove/drummer1/session1/145_latin-brazilian-baiao_95_beat_4-4.mid.\n"
     ]
    },
    {
     "name": "stderr",
     "output_type": "stream",
     "text": [
      "INFO:tensorflow:Converted MIDI file /data/heerak/music_vae/groove/drummer1/session1/145_latin-brazilian-baiao_95_beat_4-4.mid.\n"
     ]
    },
    {
     "name": "stdout",
     "output_type": "stream",
     "text": [
      "INFO:tensorflow:Converted MIDI file /data/heerak/music_vae/groove/drummer1/session1/8_jazz-funk_116_fill_4-4.mid.\n"
     ]
    },
    {
     "name": "stderr",
     "output_type": "stream",
     "text": [
      "INFO:tensorflow:Converted MIDI file /data/heerak/music_vae/groove/drummer1/session1/8_jazz-funk_116_fill_4-4.mid.\n"
     ]
    },
    {
     "name": "stdout",
     "output_type": "stream",
     "text": [
      "INFO:tensorflow:Converted MIDI file /data/heerak/music_vae/groove/drummer1/session1/137_funk-fast_125_fill_4-4.mid.\n"
     ]
    },
    {
     "name": "stderr",
     "output_type": "stream",
     "text": [
      "INFO:tensorflow:Converted MIDI file /data/heerak/music_vae/groove/drummer1/session1/137_funk-fast_125_fill_4-4.mid.\n"
     ]
    },
    {
     "name": "stdout",
     "output_type": "stream",
     "text": [
      "INFO:tensorflow:Converted MIDI file /data/heerak/music_vae/groove/drummer1/session1/173_latin-brazilian-baiao_95_fill_4-4.mid.\n"
     ]
    },
    {
     "name": "stderr",
     "output_type": "stream",
     "text": [
      "INFO:tensorflow:Converted MIDI file /data/heerak/music_vae/groove/drummer1/session1/173_latin-brazilian-baiao_95_fill_4-4.mid.\n"
     ]
    },
    {
     "name": "stdout",
     "output_type": "stream",
     "text": [
      "INFO:tensorflow:Converted MIDI file /data/heerak/music_vae/groove/drummer1/session1/7_jazz-funk_116_fill_4-4.mid.\n"
     ]
    },
    {
     "name": "stderr",
     "output_type": "stream",
     "text": [
      "INFO:tensorflow:Converted MIDI file /data/heerak/music_vae/groove/drummer1/session1/7_jazz-funk_116_fill_4-4.mid.\n"
     ]
    },
    {
     "name": "stdout",
     "output_type": "stream",
     "text": [
      "INFO:tensorflow:Converted MIDI file /data/heerak/music_vae/groove/drummer1/session1/22_jazz-funk_116_fill_4-4.mid.\n"
     ]
    },
    {
     "name": "stderr",
     "output_type": "stream",
     "text": [
      "INFO:tensorflow:Converted MIDI file /data/heerak/music_vae/groove/drummer1/session1/22_jazz-funk_116_fill_4-4.mid.\n"
     ]
    },
    {
     "name": "stdout",
     "output_type": "stream",
     "text": [
      "INFO:tensorflow:Converted MIDI file /data/heerak/music_vae/groove/drummer1/session1/257_funk-purdieshuffle_130_fill_4-4.mid.\n"
     ]
    },
    {
     "name": "stderr",
     "output_type": "stream",
     "text": [
      "INFO:tensorflow:Converted MIDI file /data/heerak/music_vae/groove/drummer1/session1/257_funk-purdieshuffle_130_fill_4-4.mid.\n"
     ]
    },
    {
     "name": "stdout",
     "output_type": "stream",
     "text": [
      "INFO:tensorflow:Converted MIDI file /data/heerak/music_vae/groove/drummer1/session1/110_funk_95_fill_4-4.mid.\n"
     ]
    },
    {
     "name": "stderr",
     "output_type": "stream",
     "text": [
      "INFO:tensorflow:Converted MIDI file /data/heerak/music_vae/groove/drummer1/session1/110_funk_95_fill_4-4.mid.\n"
     ]
    },
    {
     "name": "stdout",
     "output_type": "stream",
     "text": [
      "INFO:tensorflow:Converted MIDI file /data/heerak/music_vae/groove/drummer1/session1/245_funk-purdieshuffle_130_fill_4-4.mid.\n"
     ]
    },
    {
     "name": "stderr",
     "output_type": "stream",
     "text": [
      "INFO:tensorflow:Converted MIDI file /data/heerak/music_vae/groove/drummer1/session1/245_funk-purdieshuffle_130_fill_4-4.mid.\n"
     ]
    },
    {
     "name": "stdout",
     "output_type": "stream",
     "text": [
      "INFO:tensorflow:Converted MIDI file /data/heerak/music_vae/groove/drummer1/session1/247_funk-purdieshuffle_130_fill_4-4.mid.\n"
     ]
    },
    {
     "name": "stderr",
     "output_type": "stream",
     "text": [
      "INFO:tensorflow:Converted MIDI file /data/heerak/music_vae/groove/drummer1/session1/247_funk-purdieshuffle_130_fill_4-4.mid.\n"
     ]
    },
    {
     "name": "stdout",
     "output_type": "stream",
     "text": [
      "INFO:tensorflow:Converted MIDI file /data/heerak/music_vae/groove/drummer1/session1/151_latin-brazilian-baiao_95_fill_4-4.mid.\n"
     ]
    },
    {
     "name": "stderr",
     "output_type": "stream",
     "text": [
      "INFO:tensorflow:Converted MIDI file /data/heerak/music_vae/groove/drummer1/session1/151_latin-brazilian-baiao_95_fill_4-4.mid.\n"
     ]
    },
    {
     "name": "stdout",
     "output_type": "stream",
     "text": [
      "INFO:tensorflow:Converted MIDI file /data/heerak/music_vae/groove/drummer1/session1/176_afrocuban_105_beat_4-4.mid.\n"
     ]
    },
    {
     "name": "stderr",
     "output_type": "stream",
     "text": [
      "INFO:tensorflow:Converted MIDI file /data/heerak/music_vae/groove/drummer1/session1/176_afrocuban_105_beat_4-4.mid.\n"
     ]
    },
    {
     "name": "stdout",
     "output_type": "stream",
     "text": [
      "INFO:tensorflow:Converted MIDI file /data/heerak/music_vae/groove/drummer1/session1/112_funk_95_fill_4-4.mid.\n"
     ]
    },
    {
     "name": "stderr",
     "output_type": "stream",
     "text": [
      "INFO:tensorflow:Converted MIDI file /data/heerak/music_vae/groove/drummer1/session1/112_funk_95_fill_4-4.mid.\n"
     ]
    },
    {
     "name": "stdout",
     "output_type": "stream",
     "text": [
      "INFO:tensorflow:Converted MIDI file /data/heerak/music_vae/groove/drummer1/session1/10_jazz-funk_116_fill_4-4.mid.\n"
     ]
    },
    {
     "name": "stderr",
     "output_type": "stream",
     "text": [
      "INFO:tensorflow:Converted MIDI file /data/heerak/music_vae/groove/drummer1/session1/10_jazz-funk_116_fill_4-4.mid.\n"
     ]
    },
    {
     "name": "stdout",
     "output_type": "stream",
     "text": [
      "INFO:tensorflow:Converted MIDI file /data/heerak/music_vae/groove/drummer1/session1/163_latin-brazilian-baiao_95_fill_4-4.mid.\n"
     ]
    },
    {
     "name": "stderr",
     "output_type": "stream",
     "text": [
      "INFO:tensorflow:Converted MIDI file /data/heerak/music_vae/groove/drummer1/session1/163_latin-brazilian-baiao_95_fill_4-4.mid.\n"
     ]
    },
    {
     "name": "stdout",
     "output_type": "stream",
     "text": [
      "INFO:tensorflow:Converted MIDI file /data/heerak/music_vae/groove/drummer1/session1/15_jazz-funk_116_fill_4-4.mid.\n"
     ]
    },
    {
     "name": "stderr",
     "output_type": "stream",
     "text": [
      "INFO:tensorflow:Converted MIDI file /data/heerak/music_vae/groove/drummer1/session1/15_jazz-funk_116_fill_4-4.mid.\n"
     ]
    },
    {
     "name": "stdout",
     "output_type": "stream",
     "text": [
      "INFO:tensorflow:Converted MIDI file /data/heerak/music_vae/groove/drummer1/session1/147_latin-brazilian-baiao_95_fill_4-4.mid.\n"
     ]
    },
    {
     "name": "stderr",
     "output_type": "stream",
     "text": [
      "INFO:tensorflow:Converted MIDI file /data/heerak/music_vae/groove/drummer1/session1/147_latin-brazilian-baiao_95_fill_4-4.mid.\n"
     ]
    },
    {
     "name": "stdout",
     "output_type": "stream",
     "text": [
      "INFO:tensorflow:Converted MIDI file /data/heerak/music_vae/groove/drummer1/session1/38_latin-samba_116_beat_4-4.mid.\n"
     ]
    },
    {
     "name": "stderr",
     "output_type": "stream",
     "text": [
      "INFO:tensorflow:Converted MIDI file /data/heerak/music_vae/groove/drummer1/session1/38_latin-samba_116_beat_4-4.mid.\n"
     ]
    },
    {
     "name": "stdout",
     "output_type": "stream",
     "text": [
      "INFO:tensorflow:Converted MIDI file /data/heerak/music_vae/groove/drummer1/session1/142_funk-fast_125_fill_4-4.mid.\n"
     ]
    },
    {
     "name": "stderr",
     "output_type": "stream",
     "text": [
      "INFO:tensorflow:Converted MIDI file /data/heerak/music_vae/groove/drummer1/session1/142_funk-fast_125_fill_4-4.mid.\n"
     ]
    },
    {
     "name": "stdout",
     "output_type": "stream",
     "text": [
      "INFO:tensorflow:Converted MIDI file /data/heerak/music_vae/groove/drummer1/session1/12_jazz-funk_116_fill_4-4.mid.\n"
     ]
    },
    {
     "name": "stderr",
     "output_type": "stream",
     "text": [
      "INFO:tensorflow:Converted MIDI file /data/heerak/music_vae/groove/drummer1/session1/12_jazz-funk_116_fill_4-4.mid.\n"
     ]
    },
    {
     "name": "stdout",
     "output_type": "stream",
     "text": [
      "INFO:tensorflow:Converted MIDI file /data/heerak/music_vae/groove/drummer1/session1/204_rock-halftime_140_fill_4-4.mid.\n"
     ]
    },
    {
     "name": "stderr",
     "output_type": "stream",
     "text": [
      "INFO:tensorflow:Converted MIDI file /data/heerak/music_vae/groove/drummer1/session1/204_rock-halftime_140_fill_4-4.mid.\n"
     ]
    },
    {
     "name": "stdout",
     "output_type": "stream",
     "text": [
      "INFO:tensorflow:Converted MIDI file /data/heerak/music_vae/groove/drummer1/session1/237_rock-halftime_140_fill_4-4.mid.\n"
     ]
    },
    {
     "name": "stderr",
     "output_type": "stream",
     "text": [
      "INFO:tensorflow:Converted MIDI file /data/heerak/music_vae/groove/drummer1/session1/237_rock-halftime_140_fill_4-4.mid.\n"
     ]
    },
    {
     "name": "stdout",
     "output_type": "stream",
     "text": [
      "INFO:tensorflow:Converted MIDI file /data/heerak/music_vae/groove/drummer1/session1/132_funk-fast_125_fill_4-4.mid.\n"
     ]
    },
    {
     "name": "stderr",
     "output_type": "stream",
     "text": [
      "INFO:tensorflow:Converted MIDI file /data/heerak/music_vae/groove/drummer1/session1/132_funk-fast_125_fill_4-4.mid.\n"
     ]
    },
    {
     "name": "stdout",
     "output_type": "stream",
     "text": [
      "INFO:tensorflow:Converted MIDI file /data/heerak/music_vae/groove/drummer1/session1/156_latin-brazilian-baiao_95_fill_4-4.mid.\n"
     ]
    },
    {
     "name": "stderr",
     "output_type": "stream",
     "text": [
      "INFO:tensorflow:Converted MIDI file /data/heerak/music_vae/groove/drummer1/session1/156_latin-brazilian-baiao_95_fill_4-4.mid.\n"
     ]
    },
    {
     "name": "stdout",
     "output_type": "stream",
     "text": [
      "INFO:tensorflow:Converted MIDI file /data/heerak/music_vae/groove/drummer1/session1/54_jazz_125_fill_4-4.mid.\n"
     ]
    },
    {
     "name": "stderr",
     "output_type": "stream",
     "text": [
      "INFO:tensorflow:Converted MIDI file /data/heerak/music_vae/groove/drummer1/session1/54_jazz_125_fill_4-4.mid.\n"
     ]
    },
    {
     "name": "stdout",
     "output_type": "stream",
     "text": [
      "INFO:tensorflow:Converted MIDI file /data/heerak/music_vae/groove/drummer1/session1/214_rock-halftime_140_fill_4-4.mid.\n"
     ]
    },
    {
     "name": "stderr",
     "output_type": "stream",
     "text": [
      "INFO:tensorflow:Converted MIDI file /data/heerak/music_vae/groove/drummer1/session1/214_rock-halftime_140_fill_4-4.mid.\n"
     ]
    },
    {
     "name": "stdout",
     "output_type": "stream",
     "text": [
      "INFO:tensorflow:Converted MIDI file /data/heerak/music_vae/groove/drummer1/session1/164_latin-brazilian-baiao_95_fill_4-4.mid.\n"
     ]
    },
    {
     "name": "stderr",
     "output_type": "stream",
     "text": [
      "INFO:tensorflow:Converted MIDI file /data/heerak/music_vae/groove/drummer1/session1/164_latin-brazilian-baiao_95_fill_4-4.mid.\n"
     ]
    },
    {
     "name": "stdout",
     "output_type": "stream",
     "text": [
      "INFO:tensorflow:Converted MIDI file /data/heerak/music_vae/groove/drummer1/session1/115_funk_95_fill_4-4.mid.\n"
     ]
    },
    {
     "name": "stderr",
     "output_type": "stream",
     "text": [
      "INFO:tensorflow:Converted MIDI file /data/heerak/music_vae/groove/drummer1/session1/115_funk_95_fill_4-4.mid.\n"
     ]
    },
    {
     "name": "stdout",
     "output_type": "stream",
     "text": [
      "INFO:tensorflow:Converted MIDI file /data/heerak/music_vae/groove/drummer1/session1/18_jazz-funk_116_fill_4-4.mid.\n"
     ]
    },
    {
     "name": "stderr",
     "output_type": "stream",
     "text": [
      "INFO:tensorflow:Converted MIDI file /data/heerak/music_vae/groove/drummer1/session1/18_jazz-funk_116_fill_4-4.mid.\n"
     ]
    },
    {
     "name": "stdout",
     "output_type": "stream",
     "text": [
      "INFO:tensorflow:Converted MIDI file /data/heerak/music_vae/groove/drummer1/session1/150_latin-brazilian-baiao_95_fill_4-4.mid.\n"
     ]
    },
    {
     "name": "stderr",
     "output_type": "stream",
     "text": [
      "INFO:tensorflow:Converted MIDI file /data/heerak/music_vae/groove/drummer1/session1/150_latin-brazilian-baiao_95_fill_4-4.mid.\n"
     ]
    },
    {
     "name": "stdout",
     "output_type": "stream",
     "text": [
      "INFO:tensorflow:Converted MIDI file /data/heerak/music_vae/groove/drummer1/session1/31_latin-samba_116_fill_4-4.mid.\n"
     ]
    },
    {
     "name": "stderr",
     "output_type": "stream",
     "text": [
      "INFO:tensorflow:Converted MIDI file /data/heerak/music_vae/groove/drummer1/session1/31_latin-samba_116_fill_4-4.mid.\n"
     ]
    },
    {
     "name": "stdout",
     "output_type": "stream",
     "text": [
      "INFO:tensorflow:Converted MIDI file /data/heerak/music_vae/groove/drummer1/session1/65_jazz_125_fill_4-4.mid.\n"
     ]
    },
    {
     "name": "stderr",
     "output_type": "stream",
     "text": [
      "INFO:tensorflow:Converted MIDI file /data/heerak/music_vae/groove/drummer1/session1/65_jazz_125_fill_4-4.mid.\n"
     ]
    },
    {
     "name": "stdout",
     "output_type": "stream",
     "text": [
      "INFO:tensorflow:Converted MIDI file /data/heerak/music_vae/groove/drummer1/session1/58_jazz_125_fill_4-4.mid.\n"
     ]
    },
    {
     "name": "stderr",
     "output_type": "stream",
     "text": [
      "INFO:tensorflow:Converted MIDI file /data/heerak/music_vae/groove/drummer1/session1/58_jazz_125_fill_4-4.mid.\n"
     ]
    },
    {
     "name": "stdout",
     "output_type": "stream",
     "text": [
      "INFO:tensorflow:Converted MIDI file /data/heerak/music_vae/groove/drummer1/session1/255_funk-purdieshuffle_130_fill_4-4.mid.\n"
     ]
    },
    {
     "name": "stderr",
     "output_type": "stream",
     "text": [
      "INFO:tensorflow:Converted MIDI file /data/heerak/music_vae/groove/drummer1/session1/255_funk-purdieshuffle_130_fill_4-4.mid.\n"
     ]
    },
    {
     "name": "stdout",
     "output_type": "stream",
     "text": [
      "INFO:tensorflow:Converted MIDI file /data/heerak/music_vae/groove/drummer1/session1/45_latin-samba_116_fill_4-4.mid.\n"
     ]
    },
    {
     "name": "stderr",
     "output_type": "stream",
     "text": [
      "INFO:tensorflow:Converted MIDI file /data/heerak/music_vae/groove/drummer1/session1/45_latin-samba_116_fill_4-4.mid.\n"
     ]
    },
    {
     "name": "stdout",
     "output_type": "stream",
     "text": [
      "INFO:tensorflow:Converted MIDI file /data/heerak/music_vae/groove/drummer1/session1/67_jazz_125_fill_4-4.mid.\n"
     ]
    },
    {
     "name": "stderr",
     "output_type": "stream",
     "text": [
      "INFO:tensorflow:Converted MIDI file /data/heerak/music_vae/groove/drummer1/session1/67_jazz_125_fill_4-4.mid.\n"
     ]
    },
    {
     "name": "stdout",
     "output_type": "stream",
     "text": [
      "INFO:tensorflow:Converted MIDI file /data/heerak/music_vae/groove/drummer1/session1/108_funk_95_fill_4-4.mid.\n"
     ]
    },
    {
     "name": "stderr",
     "output_type": "stream",
     "text": [
      "INFO:tensorflow:Converted MIDI file /data/heerak/music_vae/groove/drummer1/session1/108_funk_95_fill_4-4.mid.\n"
     ]
    },
    {
     "name": "stdout",
     "output_type": "stream",
     "text": [
      "INFO:tensorflow:Converted MIDI file /data/heerak/music_vae/groove/drummer1/session1/81_dance-breakbeat_170_beat_4-4.mid.\n"
     ]
    },
    {
     "name": "stderr",
     "output_type": "stream",
     "text": [
      "INFO:tensorflow:Converted MIDI file /data/heerak/music_vae/groove/drummer1/session1/81_dance-breakbeat_170_beat_4-4.mid.\n"
     ]
    },
    {
     "name": "stdout",
     "output_type": "stream",
     "text": [
      "INFO:tensorflow:Converted MIDI file /data/heerak/music_vae/groove/drummer1/session1/261_funk-purdieshuffle_130_fill_4-4.mid.\n"
     ]
    },
    {
     "name": "stderr",
     "output_type": "stream",
     "text": [
      "INFO:tensorflow:Converted MIDI file /data/heerak/music_vae/groove/drummer1/session1/261_funk-purdieshuffle_130_fill_4-4.mid.\n"
     ]
    },
    {
     "name": "stdout",
     "output_type": "stream",
     "text": [
      "INFO:tensorflow:Converted MIDI file /data/heerak/music_vae/groove/drummer1/session1/239_funk-purdieshuffle_130_beat_4-4.mid.\n"
     ]
    },
    {
     "name": "stderr",
     "output_type": "stream",
     "text": [
      "INFO:tensorflow:Converted MIDI file /data/heerak/music_vae/groove/drummer1/session1/239_funk-purdieshuffle_130_beat_4-4.mid.\n"
     ]
    },
    {
     "name": "stdout",
     "output_type": "stream",
     "text": [
      "INFO:tensorflow:Converted MIDI file /data/heerak/music_vae/groove/drummer1/session1/43_latin-samba_116_fill_4-4.mid.\n"
     ]
    },
    {
     "name": "stderr",
     "output_type": "stream",
     "text": [
      "INFO:tensorflow:Converted MIDI file /data/heerak/music_vae/groove/drummer1/session1/43_latin-samba_116_fill_4-4.mid.\n"
     ]
    },
    {
     "name": "stdout",
     "output_type": "stream",
     "text": [
      "INFO:tensorflow:Converted MIDI file /data/heerak/music_vae/groove/drummer1/session1/248_funk-purdieshuffle_130_fill_4-4.mid.\n"
     ]
    },
    {
     "name": "stderr",
     "output_type": "stream",
     "text": [
      "INFO:tensorflow:Converted MIDI file /data/heerak/music_vae/groove/drummer1/session1/248_funk-purdieshuffle_130_fill_4-4.mid.\n"
     ]
    },
    {
     "name": "stdout",
     "output_type": "stream",
     "text": [
      "INFO:tensorflow:Converted MIDI file /data/heerak/music_vae/groove/drummer1/session1/206_rock-halftime_140_fill_4-4.mid.\n"
     ]
    },
    {
     "name": "stderr",
     "output_type": "stream",
     "text": [
      "INFO:tensorflow:Converted MIDI file /data/heerak/music_vae/groove/drummer1/session1/206_rock-halftime_140_fill_4-4.mid.\n"
     ]
    },
    {
     "name": "stdout",
     "output_type": "stream",
     "text": [
      "INFO:tensorflow:Converted MIDI file /data/heerak/music_vae/groove/drummer1/session1/5_jazz-funk_116_beat_4-4.mid.\n"
     ]
    },
    {
     "name": "stderr",
     "output_type": "stream",
     "text": [
      "INFO:tensorflow:Converted MIDI file /data/heerak/music_vae/groove/drummer1/session1/5_jazz-funk_116_beat_4-4.mid.\n"
     ]
    },
    {
     "name": "stdout",
     "output_type": "stream",
     "text": [
      "INFO:tensorflow:Converted MIDI file /data/heerak/music_vae/groove/drummer1/session1/213_rock-halftime_140_fill_4-4.mid.\n"
     ]
    },
    {
     "name": "stderr",
     "output_type": "stream",
     "text": [
      "INFO:tensorflow:Converted MIDI file /data/heerak/music_vae/groove/drummer1/session1/213_rock-halftime_140_fill_4-4.mid.\n"
     ]
    },
    {
     "name": "stdout",
     "output_type": "stream",
     "text": [
      "INFO:tensorflow:Converted MIDI file /data/heerak/music_vae/groove/drummer1/session1/209_rock-halftime_140_fill_4-4.mid.\n"
     ]
    },
    {
     "name": "stderr",
     "output_type": "stream",
     "text": [
      "INFO:tensorflow:Converted MIDI file /data/heerak/music_vae/groove/drummer1/session1/209_rock-halftime_140_fill_4-4.mid.\n"
     ]
    },
    {
     "name": "stdout",
     "output_type": "stream",
     "text": [
      "INFO:tensorflow:Converted MIDI file /data/heerak/music_vae/groove/drummer1/session1/222_rock-halftime_140_fill_4-4.mid.\n"
     ]
    },
    {
     "name": "stderr",
     "output_type": "stream",
     "text": [
      "INFO:tensorflow:Converted MIDI file /data/heerak/music_vae/groove/drummer1/session1/222_rock-halftime_140_fill_4-4.mid.\n"
     ]
    },
    {
     "name": "stdout",
     "output_type": "stream",
     "text": [
      "INFO:tensorflow:Converted MIDI file /data/heerak/music_vae/groove/drummer1/session1/20_jazz-funk_116_fill_4-4.mid.\n"
     ]
    },
    {
     "name": "stderr",
     "output_type": "stream",
     "text": [
      "INFO:tensorflow:Converted MIDI file /data/heerak/music_vae/groove/drummer1/session1/20_jazz-funk_116_fill_4-4.mid.\n"
     ]
    },
    {
     "name": "stdout",
     "output_type": "stream",
     "text": [
      "INFO:tensorflow:Converted MIDI file /data/heerak/music_vae/groove/drummer1/session1/139_funk-fast_125_fill_4-4.mid.\n"
     ]
    },
    {
     "name": "stderr",
     "output_type": "stream",
     "text": [
      "INFO:tensorflow:Converted MIDI file /data/heerak/music_vae/groove/drummer1/session1/139_funk-fast_125_fill_4-4.mid.\n"
     ]
    },
    {
     "name": "stdout",
     "output_type": "stream",
     "text": [
      "INFO:tensorflow:Converted MIDI file /data/heerak/music_vae/groove/drummer1/session1/91_neworleans-funk_84_fill_4-4.mid.\n"
     ]
    },
    {
     "name": "stderr",
     "output_type": "stream",
     "text": [
      "INFO:tensorflow:Converted MIDI file /data/heerak/music_vae/groove/drummer1/session1/91_neworleans-funk_84_fill_4-4.mid.\n"
     ]
    },
    {
     "name": "stdout",
     "output_type": "stream",
     "text": [
      "INFO:tensorflow:Converted MIDI file /data/heerak/music_vae/groove/drummer1/session1/26_jazz-funk_116_fill_4-4.mid.\n"
     ]
    },
    {
     "name": "stderr",
     "output_type": "stream",
     "text": [
      "INFO:tensorflow:Converted MIDI file /data/heerak/music_vae/groove/drummer1/session1/26_jazz-funk_116_fill_4-4.mid.\n"
     ]
    },
    {
     "name": "stdout",
     "output_type": "stream",
     "text": [
      "INFO:tensorflow:Converted MIDI file /data/heerak/music_vae/groove/drummer1/session1/216_rock-halftime_140_fill_4-4.mid.\n"
     ]
    },
    {
     "name": "stderr",
     "output_type": "stream",
     "text": [
      "INFO:tensorflow:Converted MIDI file /data/heerak/music_vae/groove/drummer1/session1/216_rock-halftime_140_fill_4-4.mid.\n"
     ]
    },
    {
     "name": "stdout",
     "output_type": "stream",
     "text": [
      "INFO:tensorflow:Converted MIDI file /data/heerak/music_vae/groove/drummer1/session1/234_rock-halftime_140_fill_4-4.mid.\n"
     ]
    },
    {
     "name": "stderr",
     "output_type": "stream",
     "text": [
      "INFO:tensorflow:Converted MIDI file /data/heerak/music_vae/groove/drummer1/session1/234_rock-halftime_140_fill_4-4.mid.\n"
     ]
    },
    {
     "name": "stdout",
     "output_type": "stream",
     "text": [
      "INFO:tensorflow:Converted MIDI file /data/heerak/music_vae/groove/drummer1/session1/232_rock-halftime_140_fill_4-4.mid.\n"
     ]
    },
    {
     "name": "stderr",
     "output_type": "stream",
     "text": [
      "INFO:tensorflow:Converted MIDI file /data/heerak/music_vae/groove/drummer1/session1/232_rock-halftime_140_fill_4-4.mid.\n"
     ]
    },
    {
     "name": "stdout",
     "output_type": "stream",
     "text": [
      "INFO:tensorflow:Converted MIDI file /data/heerak/music_vae/groove/drummer1/session1/259_funk-purdieshuffle_130_fill_4-4.mid.\n"
     ]
    },
    {
     "name": "stderr",
     "output_type": "stream",
     "text": [
      "INFO:tensorflow:Converted MIDI file /data/heerak/music_vae/groove/drummer1/session1/259_funk-purdieshuffle_130_fill_4-4.mid.\n"
     ]
    },
    {
     "name": "stdout",
     "output_type": "stream",
     "text": [
      "INFO:tensorflow:Converted MIDI file /data/heerak/music_vae/groove/drummer1/session1/152_latin-brazilian-baiao_95_fill_4-4.mid.\n"
     ]
    },
    {
     "name": "stderr",
     "output_type": "stream",
     "text": [
      "INFO:tensorflow:Converted MIDI file /data/heerak/music_vae/groove/drummer1/session1/152_latin-brazilian-baiao_95_fill_4-4.mid.\n"
     ]
    },
    {
     "name": "stdout",
     "output_type": "stream",
     "text": [
      "INFO:tensorflow:Converted MIDI file /data/heerak/music_vae/groove/drummer1/session1/227_rock-halftime_140_fill_4-4.mid.\n"
     ]
    },
    {
     "name": "stderr",
     "output_type": "stream",
     "text": [
      "INFO:tensorflow:Converted MIDI file /data/heerak/music_vae/groove/drummer1/session1/227_rock-halftime_140_fill_4-4.mid.\n"
     ]
    },
    {
     "name": "stdout",
     "output_type": "stream",
     "text": [
      "INFO:tensorflow:Converted MIDI file /data/heerak/music_vae/groove/drummer1/session1/252_funk-purdieshuffle_130_fill_4-4.mid.\n"
     ]
    },
    {
     "name": "stderr",
     "output_type": "stream",
     "text": [
      "INFO:tensorflow:Converted MIDI file /data/heerak/music_vae/groove/drummer1/session1/252_funk-purdieshuffle_130_fill_4-4.mid.\n"
     ]
    },
    {
     "name": "stdout",
     "output_type": "stream",
     "text": [
      "INFO:tensorflow:Converted MIDI file /data/heerak/music_vae/groove/drummer1/session1/104_funk_95_fill_4-4.mid.\n"
     ]
    },
    {
     "name": "stderr",
     "output_type": "stream",
     "text": [
      "INFO:tensorflow:Converted MIDI file /data/heerak/music_vae/groove/drummer1/session1/104_funk_95_fill_4-4.mid.\n"
     ]
    },
    {
     "name": "stdout",
     "output_type": "stream",
     "text": [
      "INFO:tensorflow:Converted MIDI file /data/heerak/music_vae/groove/drummer1/session1/3_funk_80_beat_4-4.mid.\n"
     ]
    },
    {
     "name": "stderr",
     "output_type": "stream",
     "text": [
      "INFO:tensorflow:Converted MIDI file /data/heerak/music_vae/groove/drummer1/session1/3_funk_80_beat_4-4.mid.\n"
     ]
    },
    {
     "name": "stdout",
     "output_type": "stream",
     "text": [
      "INFO:tensorflow:Converted MIDI file /data/heerak/music_vae/groove/drummer1/session1/98_neworleans-funk_84_fill_4-4.mid.\n"
     ]
    },
    {
     "name": "stderr",
     "output_type": "stream",
     "text": [
      "INFO:tensorflow:Converted MIDI file /data/heerak/music_vae/groove/drummer1/session1/98_neworleans-funk_84_fill_4-4.mid.\n"
     ]
    },
    {
     "name": "stdout",
     "output_type": "stream",
     "text": [
      "INFO:tensorflow:Converted MIDI file /data/heerak/music_vae/groove/drummer1/session1/258_funk-purdieshuffle_130_fill_4-4.mid.\n"
     ]
    },
    {
     "name": "stderr",
     "output_type": "stream",
     "text": [
      "INFO:tensorflow:Converted MIDI file /data/heerak/music_vae/groove/drummer1/session1/258_funk-purdieshuffle_130_fill_4-4.mid.\n"
     ]
    },
    {
     "name": "stdout",
     "output_type": "stream",
     "text": [
      "INFO:tensorflow:Converted MIDI file /data/heerak/music_vae/groove/drummer1/session1/193_reggae_78_fill_4-4.mid.\n"
     ]
    },
    {
     "name": "stderr",
     "output_type": "stream",
     "text": [
      "INFO:tensorflow:Converted MIDI file /data/heerak/music_vae/groove/drummer1/session1/193_reggae_78_fill_4-4.mid.\n"
     ]
    },
    {
     "name": "stdout",
     "output_type": "stream",
     "text": [
      "INFO:tensorflow:Converted MIDI file /data/heerak/music_vae/groove/drummer1/session1/42_latin-samba_116_fill_4-4.mid.\n"
     ]
    },
    {
     "name": "stderr",
     "output_type": "stream",
     "text": [
      "INFO:tensorflow:Converted MIDI file /data/heerak/music_vae/groove/drummer1/session1/42_latin-samba_116_fill_4-4.mid.\n"
     ]
    },
    {
     "name": "stdout",
     "output_type": "stream",
     "text": [
      "INFO:tensorflow:Converted MIDI file /data/heerak/music_vae/groove/drummer1/session1/73_jazz_125_fill_4-4.mid.\n"
     ]
    },
    {
     "name": "stderr",
     "output_type": "stream",
     "text": [
      "INFO:tensorflow:Converted MIDI file /data/heerak/music_vae/groove/drummer1/session1/73_jazz_125_fill_4-4.mid.\n"
     ]
    },
    {
     "name": "stdout",
     "output_type": "stream",
     "text": [
      "INFO:tensorflow:Converted MIDI file /data/heerak/music_vae/groove/drummer1/session1/24_jazz-funk_116_fill_4-4.mid.\n"
     ]
    },
    {
     "name": "stderr",
     "output_type": "stream",
     "text": [
      "INFO:tensorflow:Converted MIDI file /data/heerak/music_vae/groove/drummer1/session1/24_jazz-funk_116_fill_4-4.mid.\n"
     ]
    },
    {
     "name": "stdout",
     "output_type": "stream",
     "text": [
      "INFO:tensorflow:Converted MIDI file /data/heerak/music_vae/groove/drummer1/session1/238_rock-halftime_140_fill_4-4.mid.\n"
     ]
    },
    {
     "name": "stderr",
     "output_type": "stream",
     "text": [
      "INFO:tensorflow:Converted MIDI file /data/heerak/music_vae/groove/drummer1/session1/238_rock-halftime_140_fill_4-4.mid.\n"
     ]
    },
    {
     "name": "stdout",
     "output_type": "stream",
     "text": [
      "INFO:tensorflow:Converted MIDI file /data/heerak/music_vae/groove/drummer1/session1/174_latin-brazilian-baiao_95_fill_4-4.mid.\n"
     ]
    },
    {
     "name": "stderr",
     "output_type": "stream",
     "text": [
      "INFO:tensorflow:Converted MIDI file /data/heerak/music_vae/groove/drummer1/session1/174_latin-brazilian-baiao_95_fill_4-4.mid.\n"
     ]
    },
    {
     "name": "stdout",
     "output_type": "stream",
     "text": [
      "INFO:tensorflow:Converted MIDI file /data/heerak/music_vae/groove/drummer1/session1/44_latin-samba_116_fill_4-4.mid.\n"
     ]
    },
    {
     "name": "stderr",
     "output_type": "stream",
     "text": [
      "INFO:tensorflow:Converted MIDI file /data/heerak/music_vae/groove/drummer1/session1/44_latin-samba_116_fill_4-4.mid.\n"
     ]
    },
    {
     "name": "stdout",
     "output_type": "stream",
     "text": [
      "INFO:tensorflow:Converted MIDI file /data/heerak/music_vae/groove/drummer1/session1/170_latin-brazilian-baiao_95_fill_4-4.mid.\n"
     ]
    },
    {
     "name": "stderr",
     "output_type": "stream",
     "text": [
      "INFO:tensorflow:Converted MIDI file /data/heerak/music_vae/groove/drummer1/session1/170_latin-brazilian-baiao_95_fill_4-4.mid.\n"
     ]
    },
    {
     "name": "stdout",
     "output_type": "stream",
     "text": [
      "INFO:tensorflow:Converted MIDI file /data/heerak/music_vae/groove/drummer1/session1/95_neworleans-funk_84_fill_4-4.mid.\n"
     ]
    },
    {
     "name": "stderr",
     "output_type": "stream",
     "text": [
      "INFO:tensorflow:Converted MIDI file /data/heerak/music_vae/groove/drummer1/session1/95_neworleans-funk_84_fill_4-4.mid.\n"
     ]
    },
    {
     "name": "stdout",
     "output_type": "stream",
     "text": [
      "INFO:tensorflow:Converted MIDI file /data/heerak/music_vae/groove/drummer1/session1/79_latin-reggaeton_90_beat_4-4.mid.\n"
     ]
    },
    {
     "name": "stderr",
     "output_type": "stream",
     "text": [
      "INFO:tensorflow:Converted MIDI file /data/heerak/music_vae/groove/drummer1/session1/79_latin-reggaeton_90_beat_4-4.mid.\n"
     ]
    },
    {
     "name": "stdout",
     "output_type": "stream",
     "text": [
      "INFO:tensorflow:Converted MIDI file /data/heerak/music_vae/groove/drummer1/session1/86_neworleans-funk_84_fill_4-4.mid.\n"
     ]
    },
    {
     "name": "stderr",
     "output_type": "stream",
     "text": [
      "INFO:tensorflow:Converted MIDI file /data/heerak/music_vae/groove/drummer1/session1/86_neworleans-funk_84_fill_4-4.mid.\n"
     ]
    },
    {
     "name": "stdout",
     "output_type": "stream",
     "text": [
      "INFO:tensorflow:Converted MIDI file /data/heerak/music_vae/groove/drummer1/session1/231_rock-halftime_140_fill_4-4.mid.\n"
     ]
    },
    {
     "name": "stderr",
     "output_type": "stream",
     "text": [
      "INFO:tensorflow:Converted MIDI file /data/heerak/music_vae/groove/drummer1/session1/231_rock-halftime_140_fill_4-4.mid.\n"
     ]
    },
    {
     "name": "stdout",
     "output_type": "stream",
     "text": [
      "INFO:tensorflow:Converted MIDI file /data/heerak/music_vae/groove/drummer1/session1/265_funk-purdieshuffle_130_fill_4-4.mid.\n"
     ]
    },
    {
     "name": "stderr",
     "output_type": "stream",
     "text": [
      "INFO:tensorflow:Converted MIDI file /data/heerak/music_vae/groove/drummer1/session1/265_funk-purdieshuffle_130_fill_4-4.mid.\n"
     ]
    },
    {
     "name": "stdout",
     "output_type": "stream",
     "text": [
      "INFO:tensorflow:Converted MIDI file /data/heerak/music_vae/groove/drummer1/session1/144_funk-fast_125_fill_4-4.mid.\n"
     ]
    },
    {
     "name": "stderr",
     "output_type": "stream",
     "text": [
      "INFO:tensorflow:Converted MIDI file /data/heerak/music_vae/groove/drummer1/session1/144_funk-fast_125_fill_4-4.mid.\n"
     ]
    },
    {
     "name": "stdout",
     "output_type": "stream",
     "text": [
      "INFO:tensorflow:Converted MIDI file /data/heerak/music_vae/groove/drummer1/session1/187_reggae_78_fill_4-4.mid.\n"
     ]
    },
    {
     "name": "stderr",
     "output_type": "stream",
     "text": [
      "INFO:tensorflow:Converted MIDI file /data/heerak/music_vae/groove/drummer1/session1/187_reggae_78_fill_4-4.mid.\n"
     ]
    },
    {
     "name": "stdout",
     "output_type": "stream",
     "text": [
      "INFO:tensorflow:Converted MIDI file /data/heerak/music_vae/groove/drummer1/session1/100_neworleans-secondline_94_beat_4-4.mid.\n"
     ]
    },
    {
     "name": "stderr",
     "output_type": "stream",
     "text": [
      "INFO:tensorflow:Converted MIDI file /data/heerak/music_vae/groove/drummer1/session1/100_neworleans-secondline_94_beat_4-4.mid.\n"
     ]
    },
    {
     "name": "stdout",
     "output_type": "stream",
     "text": [
      "INFO:tensorflow:Converted MIDI file /data/heerak/music_vae/groove/drummer1/session1/113_funk_95_fill_4-4.mid.\n"
     ]
    },
    {
     "name": "stderr",
     "output_type": "stream",
     "text": [
      "INFO:tensorflow:Converted MIDI file /data/heerak/music_vae/groove/drummer1/session1/113_funk_95_fill_4-4.mid.\n"
     ]
    },
    {
     "name": "stdout",
     "output_type": "stream",
     "text": [
      "INFO:tensorflow:Converted MIDI file /data/heerak/music_vae/groove/drummer1/session1/215_rock-halftime_140_fill_4-4.mid.\n"
     ]
    },
    {
     "name": "stderr",
     "output_type": "stream",
     "text": [
      "INFO:tensorflow:Converted MIDI file /data/heerak/music_vae/groove/drummer1/session1/215_rock-halftime_140_fill_4-4.mid.\n"
     ]
    },
    {
     "name": "stdout",
     "output_type": "stream",
     "text": [
      "INFO:tensorflow:Converted MIDI file /data/heerak/music_vae/groove/drummer1/session1/64_jazz_125_fill_4-4.mid.\n"
     ]
    },
    {
     "name": "stderr",
     "output_type": "stream",
     "text": [
      "INFO:tensorflow:Converted MIDI file /data/heerak/music_vae/groove/drummer1/session1/64_jazz_125_fill_4-4.mid.\n"
     ]
    },
    {
     "name": "stdout",
     "output_type": "stream",
     "text": [
      "INFO:tensorflow:Converted MIDI file /data/heerak/music_vae/groove/drummer1/session1/48_jazz_93_beat_4-4.mid.\n"
     ]
    },
    {
     "name": "stderr",
     "output_type": "stream",
     "text": [
      "INFO:tensorflow:Converted MIDI file /data/heerak/music_vae/groove/drummer1/session1/48_jazz_93_beat_4-4.mid.\n"
     ]
    },
    {
     "name": "stdout",
     "output_type": "stream",
     "text": [
      "INFO:tensorflow:Converted MIDI file /data/heerak/music_vae/groove/drummer1/session1/219_rock-halftime_140_fill_4-4.mid.\n"
     ]
    },
    {
     "name": "stderr",
     "output_type": "stream",
     "text": [
      "INFO:tensorflow:Converted MIDI file /data/heerak/music_vae/groove/drummer1/session1/219_rock-halftime_140_fill_4-4.mid.\n"
     ]
    },
    {
     "name": "stdout",
     "output_type": "stream",
     "text": [
      "INFO:tensorflow:Converted MIDI file /data/heerak/music_vae/groove/drummer1/session1/159_latin-brazilian-baiao_95_fill_4-4.mid.\n"
     ]
    },
    {
     "name": "stderr",
     "output_type": "stream",
     "text": [
      "INFO:tensorflow:Converted MIDI file /data/heerak/music_vae/groove/drummer1/session1/159_latin-brazilian-baiao_95_fill_4-4.mid.\n"
     ]
    },
    {
     "name": "stdout",
     "output_type": "stream",
     "text": [
      "INFO:tensorflow:Converted MIDI file /data/heerak/music_vae/groove/drummer1/session1/71_jazz_125_fill_4-4.mid.\n"
     ]
    },
    {
     "name": "stderr",
     "output_type": "stream",
     "text": [
      "INFO:tensorflow:Converted MIDI file /data/heerak/music_vae/groove/drummer1/session1/71_jazz_125_fill_4-4.mid.\n"
     ]
    },
    {
     "name": "stdout",
     "output_type": "stream",
     "text": [
      "INFO:tensorflow:Converted MIDI file /data/heerak/music_vae/groove/drummer1/session1/107_funk_95_fill_4-4.mid.\n"
     ]
    },
    {
     "name": "stderr",
     "output_type": "stream",
     "text": [
      "INFO:tensorflow:Converted MIDI file /data/heerak/music_vae/groove/drummer1/session1/107_funk_95_fill_4-4.mid.\n"
     ]
    },
    {
     "name": "stdout",
     "output_type": "stream",
     "text": [
      "INFO:tensorflow:Converted MIDI file /data/heerak/music_vae/groove/drummer1/session1/244_funk-purdieshuffle_130_fill_4-4.mid.\n"
     ]
    },
    {
     "name": "stderr",
     "output_type": "stream",
     "text": [
      "INFO:tensorflow:Converted MIDI file /data/heerak/music_vae/groove/drummer1/session1/244_funk-purdieshuffle_130_fill_4-4.mid.\n"
     ]
    },
    {
     "name": "stdout",
     "output_type": "stream",
     "text": [
      "INFO:tensorflow:Converted MIDI file /data/heerak/music_vae/groove/drummer1/session1/188_reggae_78_fill_4-4.mid.\n"
     ]
    },
    {
     "name": "stderr",
     "output_type": "stream",
     "text": [
      "INFO:tensorflow:Converted MIDI file /data/heerak/music_vae/groove/drummer1/session1/188_reggae_78_fill_4-4.mid.\n"
     ]
    },
    {
     "name": "stdout",
     "output_type": "stream",
     "text": [
      "INFO:tensorflow:Converted MIDI file /data/heerak/music_vae/groove/drummer1/session1/205_rock-halftime_140_fill_4-4.mid.\n"
     ]
    },
    {
     "name": "stderr",
     "output_type": "stream",
     "text": [
      "INFO:tensorflow:Converted MIDI file /data/heerak/music_vae/groove/drummer1/session1/205_rock-halftime_140_fill_4-4.mid.\n"
     ]
    },
    {
     "name": "stdout",
     "output_type": "stream",
     "text": [
      "INFO:tensorflow:Converted MIDI file /data/heerak/music_vae/groove/drummer1/session1/183_afrocuban_105_beat_4-4.mid.\n"
     ]
    },
    {
     "name": "stderr",
     "output_type": "stream",
     "text": [
      "INFO:tensorflow:Converted MIDI file /data/heerak/music_vae/groove/drummer1/session1/183_afrocuban_105_beat_4-4.mid.\n"
     ]
    },
    {
     "name": "stdout",
     "output_type": "stream",
     "text": [
      "INFO:tensorflow:Converted MIDI file /data/heerak/music_vae/groove/drummer1/session1/136_funk-fast_125_fill_4-4.mid.\n"
     ]
    },
    {
     "name": "stderr",
     "output_type": "stream",
     "text": [
      "INFO:tensorflow:Converted MIDI file /data/heerak/music_vae/groove/drummer1/session1/136_funk-fast_125_fill_4-4.mid.\n"
     ]
    },
    {
     "name": "stdout",
     "output_type": "stream",
     "text": [
      "INFO:tensorflow:Converted MIDI file /data/heerak/music_vae/groove/drummer1/session1/153_latin-brazilian-baiao_95_fill_4-4.mid.\n"
     ]
    },
    {
     "name": "stderr",
     "output_type": "stream",
     "text": [
      "INFO:tensorflow:Converted MIDI file /data/heerak/music_vae/groove/drummer1/session1/153_latin-brazilian-baiao_95_fill_4-4.mid.\n"
     ]
    },
    {
     "name": "stdout",
     "output_type": "stream",
     "text": [
      "INFO:tensorflow:Converted MIDI file /data/heerak/music_vae/groove/drummer1/session1/160_latin-brazilian-baiao_95_fill_4-4.mid.\n"
     ]
    },
    {
     "name": "stderr",
     "output_type": "stream",
     "text": [
      "INFO:tensorflow:Converted MIDI file /data/heerak/music_vae/groove/drummer1/session1/160_latin-brazilian-baiao_95_fill_4-4.mid.\n"
     ]
    },
    {
     "name": "stdout",
     "output_type": "stream",
     "text": [
      "INFO:tensorflow:Converted MIDI file /data/heerak/music_vae/groove/drummer1/session1/119_funk_95_fill_4-4.mid.\n"
     ]
    },
    {
     "name": "stderr",
     "output_type": "stream",
     "text": [
      "INFO:tensorflow:Converted MIDI file /data/heerak/music_vae/groove/drummer1/session1/119_funk_95_fill_4-4.mid.\n"
     ]
    },
    {
     "name": "stdout",
     "output_type": "stream",
     "text": [
      "INFO:tensorflow:Converted MIDI file /data/heerak/music_vae/groove/drummer1/session1/243_funk-purdieshuffle_130_fill_4-4.mid.\n"
     ]
    },
    {
     "name": "stderr",
     "output_type": "stream",
     "text": [
      "INFO:tensorflow:Converted MIDI file /data/heerak/music_vae/groove/drummer1/session1/243_funk-purdieshuffle_130_fill_4-4.mid.\n"
     ]
    },
    {
     "name": "stdout",
     "output_type": "stream",
     "text": [
      "INFO:tensorflow:Converted MIDI file /data/heerak/music_vae/groove/drummer1/session1/220_rock-halftime_140_fill_4-4.mid.\n"
     ]
    },
    {
     "name": "stderr",
     "output_type": "stream",
     "text": [
      "INFO:tensorflow:Converted MIDI file /data/heerak/music_vae/groove/drummer1/session1/220_rock-halftime_140_fill_4-4.mid.\n"
     ]
    },
    {
     "name": "stdout",
     "output_type": "stream",
     "text": [
      "INFO:tensorflow:Converted MIDI file /data/heerak/music_vae/groove/drummer1/session1/14_jazz-funk_116_fill_4-4.mid.\n"
     ]
    },
    {
     "name": "stderr",
     "output_type": "stream",
     "text": [
      "INFO:tensorflow:Converted MIDI file /data/heerak/music_vae/groove/drummer1/session1/14_jazz-funk_116_fill_4-4.mid.\n"
     ]
    },
    {
     "name": "stdout",
     "output_type": "stream",
     "text": [
      "INFO:tensorflow:Converted MIDI file /data/heerak/music_vae/groove/drummer1/session1/178_afrocuban_105_fill_4-4.mid.\n"
     ]
    },
    {
     "name": "stderr",
     "output_type": "stream",
     "text": [
      "INFO:tensorflow:Converted MIDI file /data/heerak/music_vae/groove/drummer1/session1/178_afrocuban_105_fill_4-4.mid.\n"
     ]
    },
    {
     "name": "stdout",
     "output_type": "stream",
     "text": [
      "INFO:tensorflow:Converted MIDI file /data/heerak/music_vae/groove/drummer1/session1/141_funk-fast_125_fill_4-4.mid.\n"
     ]
    },
    {
     "name": "stderr",
     "output_type": "stream",
     "text": [
      "INFO:tensorflow:Converted MIDI file /data/heerak/music_vae/groove/drummer1/session1/141_funk-fast_125_fill_4-4.mid.\n"
     ]
    },
    {
     "name": "stdout",
     "output_type": "stream",
     "text": [
      "INFO:tensorflow:Converted MIDI file /data/heerak/music_vae/groove/drummer1/session1/130_funk-fast_125_fill_4-4.mid.\n"
     ]
    },
    {
     "name": "stderr",
     "output_type": "stream",
     "text": [
      "INFO:tensorflow:Converted MIDI file /data/heerak/music_vae/groove/drummer1/session1/130_funk-fast_125_fill_4-4.mid.\n"
     ]
    },
    {
     "name": "stdout",
     "output_type": "stream",
     "text": [
      "INFO:tensorflow:Converted MIDI file /data/heerak/music_vae/groove/drummer1/session1/105_funk_95_fill_4-4.mid.\n"
     ]
    },
    {
     "name": "stderr",
     "output_type": "stream",
     "text": [
      "INFO:tensorflow:Converted MIDI file /data/heerak/music_vae/groove/drummer1/session1/105_funk_95_fill_4-4.mid.\n"
     ]
    },
    {
     "name": "stdout",
     "output_type": "stream",
     "text": [
      "INFO:tensorflow:Converted MIDI file /data/heerak/music_vae/groove/drummer1/session1/262_funk-purdieshuffle_130_fill_4-4.mid.\n"
     ]
    },
    {
     "name": "stderr",
     "output_type": "stream",
     "text": [
      "INFO:tensorflow:Converted MIDI file /data/heerak/music_vae/groove/drummer1/session1/262_funk-purdieshuffle_130_fill_4-4.mid.\n"
     ]
    },
    {
     "name": "stdout",
     "output_type": "stream",
     "text": [
      "INFO:tensorflow:Converted MIDI file /data/heerak/music_vae/groove/drummer1/session1/30_latin-samba_116_fill_4-4.mid.\n"
     ]
    },
    {
     "name": "stderr",
     "output_type": "stream",
     "text": [
      "INFO:tensorflow:Converted MIDI file /data/heerak/music_vae/groove/drummer1/session1/30_latin-samba_116_fill_4-4.mid.\n"
     ]
    },
    {
     "name": "stdout",
     "output_type": "stream",
     "text": [
      "INFO:tensorflow:Converted MIDI file /data/heerak/music_vae/groove/drummer1/session1/189_reggae_78_fill_4-4.mid.\n"
     ]
    },
    {
     "name": "stderr",
     "output_type": "stream",
     "text": [
      "INFO:tensorflow:Converted MIDI file /data/heerak/music_vae/groove/drummer1/session1/189_reggae_78_fill_4-4.mid.\n"
     ]
    },
    {
     "name": "stdout",
     "output_type": "stream",
     "text": [
      "INFO:tensorflow:Converted MIDI file /data/heerak/music_vae/groove/drummer1/session1/33_latin-samba_116_fill_4-4.mid.\n"
     ]
    },
    {
     "name": "stderr",
     "output_type": "stream",
     "text": [
      "INFO:tensorflow:Converted MIDI file /data/heerak/music_vae/groove/drummer1/session1/33_latin-samba_116_fill_4-4.mid.\n"
     ]
    },
    {
     "name": "stdout",
     "output_type": "stream",
     "text": [
      "INFO:tensorflow:Converted MIDI file /data/heerak/music_vae/groove/drummer1/session1/146_latin-brazilian-baiao_95_beat_4-4.mid.\n"
     ]
    },
    {
     "name": "stderr",
     "output_type": "stream",
     "text": [
      "INFO:tensorflow:Converted MIDI file /data/heerak/music_vae/groove/drummer1/session1/146_latin-brazilian-baiao_95_beat_4-4.mid.\n"
     ]
    },
    {
     "name": "stdout",
     "output_type": "stream",
     "text": [
      "INFO:tensorflow:Converted MIDI file /data/heerak/music_vae/groove/drummer1/session1/246_funk-purdieshuffle_130_fill_4-4.mid.\n"
     ]
    },
    {
     "name": "stderr",
     "output_type": "stream",
     "text": [
      "INFO:tensorflow:Converted MIDI file /data/heerak/music_vae/groove/drummer1/session1/246_funk-purdieshuffle_130_fill_4-4.mid.\n"
     ]
    },
    {
     "name": "stdout",
     "output_type": "stream",
     "text": [
      "INFO:tensorflow:Converted MIDI file /data/heerak/music_vae/groove/drummer1/session1/69_jazz_125_fill_4-4.mid.\n"
     ]
    },
    {
     "name": "stderr",
     "output_type": "stream",
     "text": [
      "INFO:tensorflow:Converted MIDI file /data/heerak/music_vae/groove/drummer1/session1/69_jazz_125_fill_4-4.mid.\n"
     ]
    },
    {
     "name": "stdout",
     "output_type": "stream",
     "text": [
      "INFO:tensorflow:Converted MIDI file /data/heerak/music_vae/groove/drummer1/session1/140_funk-fast_125_fill_4-4.mid.\n"
     ]
    },
    {
     "name": "stderr",
     "output_type": "stream",
     "text": [
      "INFO:tensorflow:Converted MIDI file /data/heerak/music_vae/groove/drummer1/session1/140_funk-fast_125_fill_4-4.mid.\n"
     ]
    },
    {
     "name": "stdout",
     "output_type": "stream",
     "text": [
      "INFO:tensorflow:Converted MIDI file /data/heerak/music_vae/groove/drummer1/session1/51_rock-shuffle_125_beat_4-4.mid.\n"
     ]
    },
    {
     "name": "stderr",
     "output_type": "stream",
     "text": [
      "INFO:tensorflow:Converted MIDI file /data/heerak/music_vae/groove/drummer1/session1/51_rock-shuffle_125_beat_4-4.mid.\n"
     ]
    },
    {
     "name": "stdout",
     "output_type": "stream",
     "text": [
      "INFO:tensorflow:Converted MIDI file /data/heerak/music_vae/groove/drummer1/session1/39_latin-samba_116_fill_4-4.mid.\n"
     ]
    },
    {
     "name": "stderr",
     "output_type": "stream",
     "text": [
      "INFO:tensorflow:Converted MIDI file /data/heerak/music_vae/groove/drummer1/session1/39_latin-samba_116_fill_4-4.mid.\n"
     ]
    },
    {
     "name": "stdout",
     "output_type": "stream",
     "text": [
      "INFO:tensorflow:Converted MIDI file /data/heerak/music_vae/groove/drummer1/session1/207_rock-halftime_140_fill_4-4.mid.\n"
     ]
    },
    {
     "name": "stderr",
     "output_type": "stream",
     "text": [
      "INFO:tensorflow:Converted MIDI file /data/heerak/music_vae/groove/drummer1/session1/207_rock-halftime_140_fill_4-4.mid.\n"
     ]
    },
    {
     "name": "stdout",
     "output_type": "stream",
     "text": [
      "INFO:tensorflow:Converted MIDI file /data/heerak/music_vae/groove/drummer1/session1/131_funk-fast_125_fill_4-4.mid.\n"
     ]
    },
    {
     "name": "stderr",
     "output_type": "stream",
     "text": [
      "INFO:tensorflow:Converted MIDI file /data/heerak/music_vae/groove/drummer1/session1/131_funk-fast_125_fill_4-4.mid.\n"
     ]
    },
    {
     "name": "stdout",
     "output_type": "stream",
     "text": [
      "INFO:tensorflow:Converted MIDI file /data/heerak/music_vae/groove/drummer1/session1/89_neworleans-funk_84_fill_4-4.mid.\n"
     ]
    },
    {
     "name": "stderr",
     "output_type": "stream",
     "text": [
      "INFO:tensorflow:Converted MIDI file /data/heerak/music_vae/groove/drummer1/session1/89_neworleans-funk_84_fill_4-4.mid.\n"
     ]
    },
    {
     "name": "stdout",
     "output_type": "stream",
     "text": [
      "INFO:tensorflow:Converted MIDI file /data/heerak/music_vae/groove/drummer1/session1/106_funk_95_fill_4-4.mid.\n"
     ]
    },
    {
     "name": "stderr",
     "output_type": "stream",
     "text": [
      "INFO:tensorflow:Converted MIDI file /data/heerak/music_vae/groove/drummer1/session1/106_funk_95_fill_4-4.mid.\n"
     ]
    },
    {
     "name": "stdout",
     "output_type": "stream",
     "text": [
      "INFO:tensorflow:Converted MIDI file /data/heerak/music_vae/groove/drummer1/session1/87_neworleans-funk_84_fill_4-4.mid.\n"
     ]
    },
    {
     "name": "stderr",
     "output_type": "stream",
     "text": [
      "INFO:tensorflow:Converted MIDI file /data/heerak/music_vae/groove/drummer1/session1/87_neworleans-funk_84_fill_4-4.mid.\n"
     ]
    },
    {
     "name": "stdout",
     "output_type": "stream",
     "text": [
      "INFO:tensorflow:Converted MIDI file /data/heerak/music_vae/groove/drummer1/session1/34_latin-samba_116_fill_4-4.mid.\n"
     ]
    },
    {
     "name": "stderr",
     "output_type": "stream",
     "text": [
      "INFO:tensorflow:Converted MIDI file /data/heerak/music_vae/groove/drummer1/session1/34_latin-samba_116_fill_4-4.mid.\n"
     ]
    },
    {
     "name": "stdout",
     "output_type": "stream",
     "text": [
      "INFO:tensorflow:Converted MIDI file /data/heerak/music_vae/groove/drummer1/session1/256_funk-purdieshuffle_130_fill_4-4.mid.\n"
     ]
    },
    {
     "name": "stderr",
     "output_type": "stream",
     "text": [
      "INFO:tensorflow:Converted MIDI file /data/heerak/music_vae/groove/drummer1/session1/256_funk-purdieshuffle_130_fill_4-4.mid.\n"
     ]
    },
    {
     "name": "stdout",
     "output_type": "stream",
     "text": [
      "INFO:tensorflow:Converted MIDI file /data/heerak/music_vae/groove/drummer1/session1/70_jazz_125_fill_4-4.mid.\n"
     ]
    },
    {
     "name": "stderr",
     "output_type": "stream",
     "text": [
      "INFO:tensorflow:Converted MIDI file /data/heerak/music_vae/groove/drummer1/session1/70_jazz_125_fill_4-4.mid.\n"
     ]
    },
    {
     "name": "stdout",
     "output_type": "stream",
     "text": [
      "INFO:tensorflow:Converted MIDI file /data/heerak/music_vae/groove/drummer1/session1/21_jazz-funk_116_fill_4-4.mid.\n"
     ]
    },
    {
     "name": "stderr",
     "output_type": "stream",
     "text": [
      "INFO:tensorflow:Converted MIDI file /data/heerak/music_vae/groove/drummer1/session1/21_jazz-funk_116_fill_4-4.mid.\n"
     ]
    },
    {
     "name": "stdout",
     "output_type": "stream",
     "text": [
      "INFO:tensorflow:Converted MIDI file /data/heerak/music_vae/groove/drummer1/session1/233_rock-halftime_140_fill_4-4.mid.\n"
     ]
    },
    {
     "name": "stderr",
     "output_type": "stream",
     "text": [
      "INFO:tensorflow:Converted MIDI file /data/heerak/music_vae/groove/drummer1/session1/233_rock-halftime_140_fill_4-4.mid.\n"
     ]
    },
    {
     "name": "stdout",
     "output_type": "stream",
     "text": [
      "INFO:tensorflow:Converted MIDI file /data/heerak/music_vae/groove/drummer1/session1/17_jazz-funk_116_fill_4-4.mid.\n"
     ]
    },
    {
     "name": "stderr",
     "output_type": "stream",
     "text": [
      "INFO:tensorflow:Converted MIDI file /data/heerak/music_vae/groove/drummer1/session1/17_jazz-funk_116_fill_4-4.mid.\n"
     ]
    },
    {
     "name": "stdout",
     "output_type": "stream",
     "text": [
      "INFO:tensorflow:Converted MIDI file /data/heerak/music_vae/groove/drummer1/session1/23_jazz-funk_116_fill_4-4.mid.\n"
     ]
    },
    {
     "name": "stderr",
     "output_type": "stream",
     "text": [
      "INFO:tensorflow:Converted MIDI file /data/heerak/music_vae/groove/drummer1/session1/23_jazz-funk_116_fill_4-4.mid.\n"
     ]
    },
    {
     "name": "stdout",
     "output_type": "stream",
     "text": [
      "INFO:tensorflow:Converted MIDI file /data/heerak/music_vae/groove/drummer1/session1/179_afrocuban_105_fill_4-4.mid.\n"
     ]
    },
    {
     "name": "stderr",
     "output_type": "stream",
     "text": [
      "INFO:tensorflow:Converted MIDI file /data/heerak/music_vae/groove/drummer1/session1/179_afrocuban_105_fill_4-4.mid.\n"
     ]
    },
    {
     "name": "stdout",
     "output_type": "stream",
     "text": [
      "INFO:tensorflow:Converted MIDI file /data/heerak/music_vae/groove/drummer1/session1/80_dance-breakbeat_170_beat_4-4.mid.\n"
     ]
    },
    {
     "name": "stderr",
     "output_type": "stream",
     "text": [
      "INFO:tensorflow:Converted MIDI file /data/heerak/music_vae/groove/drummer1/session1/80_dance-breakbeat_170_beat_4-4.mid.\n"
     ]
    },
    {
     "name": "stdout",
     "output_type": "stream",
     "text": [
      "INFO:tensorflow:Converted MIDI file /data/heerak/music_vae/groove/drummer1/session1/202_rock-halftime_140_beat_4-4.mid.\n"
     ]
    },
    {
     "name": "stderr",
     "output_type": "stream",
     "text": [
      "INFO:tensorflow:Converted MIDI file /data/heerak/music_vae/groove/drummer1/session1/202_rock-halftime_140_beat_4-4.mid.\n"
     ]
    },
    {
     "name": "stdout",
     "output_type": "stream",
     "text": [
      "INFO:tensorflow:Converted MIDI file /data/heerak/music_vae/groove/drummer1/session1/40_latin-samba_116_fill_4-4.mid.\n"
     ]
    },
    {
     "name": "stderr",
     "output_type": "stream",
     "text": [
      "INFO:tensorflow:Converted MIDI file /data/heerak/music_vae/groove/drummer1/session1/40_latin-samba_116_fill_4-4.mid.\n"
     ]
    },
    {
     "name": "stdout",
     "output_type": "stream",
     "text": [
      "INFO:tensorflow:Converted MIDI file /data/heerak/music_vae/groove/drummer1/session1/111_funk_95_fill_4-4.mid.\n"
     ]
    },
    {
     "name": "stderr",
     "output_type": "stream",
     "text": [
      "INFO:tensorflow:Converted MIDI file /data/heerak/music_vae/groove/drummer1/session1/111_funk_95_fill_4-4.mid.\n"
     ]
    },
    {
     "name": "stdout",
     "output_type": "stream",
     "text": [
      "INFO:tensorflow:Converted MIDI file /data/heerak/music_vae/groove/drummer1/session1/191_reggae_78_fill_4-4.mid.\n"
     ]
    },
    {
     "name": "stderr",
     "output_type": "stream",
     "text": [
      "INFO:tensorflow:Converted MIDI file /data/heerak/music_vae/groove/drummer1/session1/191_reggae_78_fill_4-4.mid.\n"
     ]
    },
    {
     "name": "stdout",
     "output_type": "stream",
     "text": [
      "INFO:tensorflow:Converted MIDI file /data/heerak/music_vae/groove/drummer1/session1/9_jazz-funk_116_fill_4-4.mid.\n"
     ]
    },
    {
     "name": "stderr",
     "output_type": "stream",
     "text": [
      "INFO:tensorflow:Converted MIDI file /data/heerak/music_vae/groove/drummer1/session1/9_jazz-funk_116_fill_4-4.mid.\n"
     ]
    },
    {
     "name": "stdout",
     "output_type": "stream",
     "text": [
      "INFO:tensorflow:Converted MIDI file /data/heerak/music_vae/groove/drummer1/session1/84_neworleans-funk_84_fill_4-4.mid.\n"
     ]
    },
    {
     "name": "stderr",
     "output_type": "stream",
     "text": [
      "INFO:tensorflow:Converted MIDI file /data/heerak/music_vae/groove/drummer1/session1/84_neworleans-funk_84_fill_4-4.mid.\n"
     ]
    },
    {
     "name": "stdout",
     "output_type": "stream",
     "text": [
      "INFO:tensorflow:Converted MIDI file /data/heerak/music_vae/groove/drummer1/session1/158_latin-brazilian-baiao_95_fill_4-4.mid.\n"
     ]
    },
    {
     "name": "stderr",
     "output_type": "stream",
     "text": [
      "INFO:tensorflow:Converted MIDI file /data/heerak/music_vae/groove/drummer1/session1/158_latin-brazilian-baiao_95_fill_4-4.mid.\n"
     ]
    },
    {
     "name": "stdout",
     "output_type": "stream",
     "text": [
      "INFO:tensorflow:Converted MIDI file /data/heerak/music_vae/groove/drummer1/session1/11_jazz-funk_116_fill_4-4.mid.\n"
     ]
    },
    {
     "name": "stderr",
     "output_type": "stream",
     "text": [
      "INFO:tensorflow:Converted MIDI file /data/heerak/music_vae/groove/drummer1/session1/11_jazz-funk_116_fill_4-4.mid.\n"
     ]
    },
    {
     "name": "stdout",
     "output_type": "stream",
     "text": [
      "INFO:tensorflow:Converted MIDI file /data/heerak/music_vae/groove/drummer1/session1/260_funk-purdieshuffle_130_fill_4-4.mid.\n"
     ]
    },
    {
     "name": "stderr",
     "output_type": "stream",
     "text": [
      "INFO:tensorflow:Converted MIDI file /data/heerak/music_vae/groove/drummer1/session1/260_funk-purdieshuffle_130_fill_4-4.mid.\n"
     ]
    },
    {
     "name": "stdout",
     "output_type": "stream",
     "text": [
      "INFO:tensorflow:Converted MIDI file /data/heerak/music_vae/groove/drummer1/session1/181_afrocuban_105_fill_4-4.mid.\n"
     ]
    },
    {
     "name": "stderr",
     "output_type": "stream",
     "text": [
      "INFO:tensorflow:Converted MIDI file /data/heerak/music_vae/groove/drummer1/session1/181_afrocuban_105_fill_4-4.mid.\n"
     ]
    },
    {
     "name": "stdout",
     "output_type": "stream",
     "text": [
      "INFO:tensorflow:Converted MIDI file /data/heerak/music_vae/groove/drummer1/session1/190_reggae_78_fill_4-4.mid.\n"
     ]
    },
    {
     "name": "stderr",
     "output_type": "stream",
     "text": [
      "INFO:tensorflow:Converted MIDI file /data/heerak/music_vae/groove/drummer1/session1/190_reggae_78_fill_4-4.mid.\n"
     ]
    },
    {
     "name": "stdout",
     "output_type": "stream",
     "text": [
      "INFO:tensorflow:Converted MIDI file /data/heerak/music_vae/groove/drummer1/session1/94_neworleans-funk_84_fill_4-4.mid.\n"
     ]
    },
    {
     "name": "stderr",
     "output_type": "stream",
     "text": [
      "INFO:tensorflow:Converted MIDI file /data/heerak/music_vae/groove/drummer1/session1/94_neworleans-funk_84_fill_4-4.mid.\n"
     ]
    },
    {
     "name": "stdout",
     "output_type": "stream",
     "text": [
      "INFO:tensorflow:Converted MIDI file /data/heerak/music_vae/groove/drummer1/session1/57_jazz_125_fill_4-4.mid.\n"
     ]
    },
    {
     "name": "stderr",
     "output_type": "stream",
     "text": [
      "INFO:tensorflow:Converted MIDI file /data/heerak/music_vae/groove/drummer1/session1/57_jazz_125_fill_4-4.mid.\n"
     ]
    },
    {
     "name": "stdout",
     "output_type": "stream",
     "text": [
      "INFO:tensorflow:Converted MIDI file /data/heerak/music_vae/groove/drummer1/session1/90_neworleans-funk_84_fill_4-4.mid.\n"
     ]
    },
    {
     "name": "stderr",
     "output_type": "stream",
     "text": [
      "INFO:tensorflow:Converted MIDI file /data/heerak/music_vae/groove/drummer1/session1/90_neworleans-funk_84_fill_4-4.mid.\n"
     ]
    },
    {
     "name": "stdout",
     "output_type": "stream",
     "text": [
      "INFO:tensorflow:Converted MIDI file /data/heerak/music_vae/groove/drummer1/session1/59_jazz_125_fill_4-4.mid.\n"
     ]
    },
    {
     "name": "stderr",
     "output_type": "stream",
     "text": [
      "INFO:tensorflow:Converted MIDI file /data/heerak/music_vae/groove/drummer1/session1/59_jazz_125_fill_4-4.mid.\n"
     ]
    },
    {
     "name": "stdout",
     "output_type": "stream",
     "text": [
      "INFO:tensorflow:Converted MIDI file /data/heerak/music_vae/groove/drummer1/session1/264_funk-purdieshuffle_130_fill_4-4.mid.\n"
     ]
    },
    {
     "name": "stderr",
     "output_type": "stream",
     "text": [
      "INFO:tensorflow:Converted MIDI file /data/heerak/music_vae/groove/drummer1/session1/264_funk-purdieshuffle_130_fill_4-4.mid.\n"
     ]
    },
    {
     "name": "stdout",
     "output_type": "stream",
     "text": [
      "INFO:tensorflow:Converted MIDI file /data/heerak/music_vae/groove/drummer1/session1/157_latin-brazilian-baiao_95_fill_4-4.mid.\n"
     ]
    },
    {
     "name": "stderr",
     "output_type": "stream",
     "text": [
      "INFO:tensorflow:Converted MIDI file /data/heerak/music_vae/groove/drummer1/session1/157_latin-brazilian-baiao_95_fill_4-4.mid.\n"
     ]
    },
    {
     "name": "stdout",
     "output_type": "stream",
     "text": [
      "INFO:tensorflow:Converted MIDI file /data/heerak/music_vae/groove/drummer1/session1/96_neworleans-funk_84_fill_4-4.mid.\n"
     ]
    },
    {
     "name": "stderr",
     "output_type": "stream",
     "text": [
      "INFO:tensorflow:Converted MIDI file /data/heerak/music_vae/groove/drummer1/session1/96_neworleans-funk_84_fill_4-4.mid.\n"
     ]
    },
    {
     "name": "stdout",
     "output_type": "stream",
     "text": [
      "INFO:tensorflow:Converted MIDI file /data/heerak/music_vae/groove/drummer1/session1/268_funk-purdieshuffle_130_fill_4-4.mid.\n"
     ]
    },
    {
     "name": "stderr",
     "output_type": "stream",
     "text": [
      "INFO:tensorflow:Converted MIDI file /data/heerak/music_vae/groove/drummer1/session1/268_funk-purdieshuffle_130_fill_4-4.mid.\n"
     ]
    },
    {
     "name": "stdout",
     "output_type": "stream",
     "text": [
      "INFO:tensorflow:Converted MIDI file /data/heerak/music_vae/groove/drummer1/session1/135_funk-fast_125_fill_4-4.mid.\n"
     ]
    },
    {
     "name": "stderr",
     "output_type": "stream",
     "text": [
      "INFO:tensorflow:Converted MIDI file /data/heerak/music_vae/groove/drummer1/session1/135_funk-fast_125_fill_4-4.mid.\n"
     ]
    },
    {
     "name": "stdout",
     "output_type": "stream",
     "text": [
      "INFO:tensorflow:Converted MIDI file /data/heerak/music_vae/groove/drummer1/session1/88_neworleans-funk_84_fill_4-4.mid.\n"
     ]
    },
    {
     "name": "stderr",
     "output_type": "stream",
     "text": [
      "INFO:tensorflow:Converted MIDI file /data/heerak/music_vae/groove/drummer1/session1/88_neworleans-funk_84_fill_4-4.mid.\n"
     ]
    },
    {
     "name": "stdout",
     "output_type": "stream",
     "text": [
      "INFO:tensorflow:Converted MIDI file /data/heerak/music_vae/groove/drummer1/session1/200_reggae_78_fill_4-4.mid.\n"
     ]
    },
    {
     "name": "stderr",
     "output_type": "stream",
     "text": [
      "INFO:tensorflow:Converted MIDI file /data/heerak/music_vae/groove/drummer1/session1/200_reggae_78_fill_4-4.mid.\n"
     ]
    },
    {
     "name": "stdout",
     "output_type": "stream",
     "text": [
      "WARNING:tensorflow:Unable to find a converter for file /data/heerak/music_vae/groove/drummer1/session1/Icon\n"
     ]
    },
    {
     "name": "stderr",
     "output_type": "stream",
     "text": [
      "WARNING:tensorflow:Unable to find a converter for file /data/heerak/music_vae/groove/drummer1/session1/Icon\n"
     ]
    },
    {
     "name": "stdout",
     "output_type": "stream",
     "text": [
      "INFO:tensorflow:Converted MIDI file /data/heerak/music_vae/groove/drummer1/session1/229_rock-halftime_140_fill_4-4.mid.\n"
     ]
    },
    {
     "name": "stderr",
     "output_type": "stream",
     "text": [
      "INFO:tensorflow:Converted MIDI file /data/heerak/music_vae/groove/drummer1/session1/229_rock-halftime_140_fill_4-4.mid.\n"
     ]
    },
    {
     "name": "stdout",
     "output_type": "stream",
     "text": [
      "INFO:tensorflow:Converted MIDI file /data/heerak/music_vae/groove/drummer1/session1/68_jazz_125_fill_4-4.mid.\n"
     ]
    },
    {
     "name": "stderr",
     "output_type": "stream",
     "text": [
      "INFO:tensorflow:Converted MIDI file /data/heerak/music_vae/groove/drummer1/session1/68_jazz_125_fill_4-4.mid.\n"
     ]
    },
    {
     "name": "stdout",
     "output_type": "stream",
     "text": [
      "INFO:tensorflow:Converted MIDI file /data/heerak/music_vae/groove/drummer1/session1/149_latin-brazilian-baiao_95_fill_4-4.mid.\n"
     ]
    },
    {
     "name": "stderr",
     "output_type": "stream",
     "text": [
      "INFO:tensorflow:Converted MIDI file /data/heerak/music_vae/groove/drummer1/session1/149_latin-brazilian-baiao_95_fill_4-4.mid.\n"
     ]
    },
    {
     "name": "stdout",
     "output_type": "stream",
     "text": [
      "INFO:tensorflow:Converted MIDI file /data/heerak/music_vae/groove/drummer1/session1/25_jazz-funk_116_fill_4-4.mid.\n"
     ]
    },
    {
     "name": "stderr",
     "output_type": "stream",
     "text": [
      "INFO:tensorflow:Converted MIDI file /data/heerak/music_vae/groove/drummer1/session1/25_jazz-funk_116_fill_4-4.mid.\n"
     ]
    },
    {
     "name": "stdout",
     "output_type": "stream",
     "text": [
      "INFO:tensorflow:Converted MIDI file /data/heerak/music_vae/groove/drummer1/session1/161_latin-brazilian-baiao_95_fill_4-4.mid.\n"
     ]
    },
    {
     "name": "stderr",
     "output_type": "stream",
     "text": [
      "INFO:tensorflow:Converted MIDI file /data/heerak/music_vae/groove/drummer1/session1/161_latin-brazilian-baiao_95_fill_4-4.mid.\n"
     ]
    },
    {
     "name": "stdout",
     "output_type": "stream",
     "text": [
      "INFO:tensorflow:Converted MIDI file /data/heerak/music_vae/groove/drummer1/session1/122_funk_95_fill_4-4.mid.\n"
     ]
    },
    {
     "name": "stderr",
     "output_type": "stream",
     "text": [
      "INFO:tensorflow:Converted MIDI file /data/heerak/music_vae/groove/drummer1/session1/122_funk_95_fill_4-4.mid.\n"
     ]
    },
    {
     "name": "stdout",
     "output_type": "stream",
     "text": [
      "INFO:tensorflow:Converted MIDI file /data/heerak/music_vae/groove/drummer1/session1/175_latin-brazilian-baiao_95_fill_4-4.mid.\n"
     ]
    },
    {
     "name": "stderr",
     "output_type": "stream",
     "text": [
      "INFO:tensorflow:Converted MIDI file /data/heerak/music_vae/groove/drummer1/session1/175_latin-brazilian-baiao_95_fill_4-4.mid.\n"
     ]
    },
    {
     "name": "stdout",
     "output_type": "stream",
     "text": [
      "INFO:tensorflow:Converted MIDI file /data/heerak/music_vae/groove/drummer1/session1/83_neworleans-funk_84_fill_4-4.mid.\n"
     ]
    },
    {
     "name": "stderr",
     "output_type": "stream",
     "text": [
      "INFO:tensorflow:Converted MIDI file /data/heerak/music_vae/groove/drummer1/session1/83_neworleans-funk_84_fill_4-4.mid.\n"
     ]
    },
    {
     "name": "stdout",
     "output_type": "stream",
     "text": [
      "INFO:tensorflow:Converted MIDI file /data/heerak/music_vae/groove/drummer1/session1/143_funk-fast_125_fill_4-4.mid.\n"
     ]
    },
    {
     "name": "stderr",
     "output_type": "stream",
     "text": [
      "INFO:tensorflow:Converted MIDI file /data/heerak/music_vae/groove/drummer1/session1/143_funk-fast_125_fill_4-4.mid.\n"
     ]
    },
    {
     "name": "stdout",
     "output_type": "stream",
     "text": [
      "INFO:tensorflow:Converted MIDI file /data/heerak/music_vae/groove/drummer1/session1/61_jazz_125_fill_4-4.mid.\n"
     ]
    },
    {
     "name": "stderr",
     "output_type": "stream",
     "text": [
      "INFO:tensorflow:Converted MIDI file /data/heerak/music_vae/groove/drummer1/session1/61_jazz_125_fill_4-4.mid.\n"
     ]
    },
    {
     "name": "stdout",
     "output_type": "stream",
     "text": [
      "INFO:tensorflow:Converted MIDI file /data/heerak/music_vae/groove/drummer1/session1/46_latin-samba_116_fill_4-4.mid.\n"
     ]
    },
    {
     "name": "stderr",
     "output_type": "stream",
     "text": [
      "INFO:tensorflow:Converted MIDI file /data/heerak/music_vae/groove/drummer1/session1/46_latin-samba_116_fill_4-4.mid.\n"
     ]
    },
    {
     "name": "stdout",
     "output_type": "stream",
     "text": [
      "INFO:tensorflow:Converted MIDI file /data/heerak/music_vae/groove/drummer1/session1/118_funk_95_fill_4-4.mid.\n"
     ]
    },
    {
     "name": "stderr",
     "output_type": "stream",
     "text": [
      "INFO:tensorflow:Converted MIDI file /data/heerak/music_vae/groove/drummer1/session1/118_funk_95_fill_4-4.mid.\n"
     ]
    },
    {
     "name": "stdout",
     "output_type": "stream",
     "text": [
      "INFO:tensorflow:Converted MIDI file /data/heerak/music_vae/groove/drummer1/session1/128_funk-fast_125_fill_4-4.mid.\n"
     ]
    },
    {
     "name": "stderr",
     "output_type": "stream",
     "text": [
      "INFO:tensorflow:Converted MIDI file /data/heerak/music_vae/groove/drummer1/session1/128_funk-fast_125_fill_4-4.mid.\n"
     ]
    },
    {
     "name": "stdout",
     "output_type": "stream",
     "text": [
      "INFO:tensorflow:Converted MIDI file /data/heerak/music_vae/groove/drummer1/session1/117_funk_95_fill_4-4.mid.\n"
     ]
    },
    {
     "name": "stderr",
     "output_type": "stream",
     "text": [
      "INFO:tensorflow:Converted MIDI file /data/heerak/music_vae/groove/drummer1/session1/117_funk_95_fill_4-4.mid.\n"
     ]
    },
    {
     "name": "stdout",
     "output_type": "stream",
     "text": [
      "INFO:tensorflow:Converted MIDI file /data/heerak/music_vae/groove/drummer1/session1/263_funk-purdieshuffle_130_fill_4-4.mid.\n"
     ]
    },
    {
     "name": "stderr",
     "output_type": "stream",
     "text": [
      "INFO:tensorflow:Converted MIDI file /data/heerak/music_vae/groove/drummer1/session1/263_funk-purdieshuffle_130_fill_4-4.mid.\n"
     ]
    },
    {
     "name": "stdout",
     "output_type": "stream",
     "text": [
      "INFO:tensorflow:Converted MIDI file /data/heerak/music_vae/groove/drummer1/session1/218_rock-halftime_140_fill_4-4.mid.\n"
     ]
    },
    {
     "name": "stderr",
     "output_type": "stream",
     "text": [
      "INFO:tensorflow:Converted MIDI file /data/heerak/music_vae/groove/drummer1/session1/218_rock-halftime_140_fill_4-4.mid.\n"
     ]
    },
    {
     "name": "stdout",
     "output_type": "stream",
     "text": [
      "INFO:tensorflow:Converted MIDI file /data/heerak/music_vae/groove/drummer1/session1/103_funk_95_fill_4-4.mid.\n"
     ]
    },
    {
     "name": "stderr",
     "output_type": "stream",
     "text": [
      "INFO:tensorflow:Converted MIDI file /data/heerak/music_vae/groove/drummer1/session1/103_funk_95_fill_4-4.mid.\n"
     ]
    },
    {
     "name": "stdout",
     "output_type": "stream",
     "text": [
      "INFO:tensorflow:Converted MIDI file /data/heerak/music_vae/groove/drummer1/session1/240_funk-purdieshuffle_130_fill_4-4.mid.\n"
     ]
    },
    {
     "name": "stderr",
     "output_type": "stream",
     "text": [
      "INFO:tensorflow:Converted MIDI file /data/heerak/music_vae/groove/drummer1/session1/240_funk-purdieshuffle_130_fill_4-4.mid.\n"
     ]
    },
    {
     "name": "stdout",
     "output_type": "stream",
     "text": [
      "INFO:tensorflow:Converted MIDI file /data/heerak/music_vae/groove/drummer1/session1/127_funk-fast_125_fill_4-4.mid.\n"
     ]
    },
    {
     "name": "stderr",
     "output_type": "stream",
     "text": [
      "INFO:tensorflow:Converted MIDI file /data/heerak/music_vae/groove/drummer1/session1/127_funk-fast_125_fill_4-4.mid.\n"
     ]
    },
    {
     "name": "stdout",
     "output_type": "stream",
     "text": [
      "INFO:tensorflow:Converted MIDI file /data/heerak/music_vae/groove/drummer1/session1/56_jazz_125_fill_4-4.mid.\n"
     ]
    },
    {
     "name": "stderr",
     "output_type": "stream",
     "text": [
      "INFO:tensorflow:Converted MIDI file /data/heerak/music_vae/groove/drummer1/session1/56_jazz_125_fill_4-4.mid.\n"
     ]
    },
    {
     "name": "stdout",
     "output_type": "stream",
     "text": [
      "INFO:tensorflow:Converted MIDI file /data/heerak/music_vae/groove/drummer1/session1/77_jazz-mediumfast_180_beat_4-4.mid.\n"
     ]
    },
    {
     "name": "stderr",
     "output_type": "stream",
     "text": [
      "INFO:tensorflow:Converted MIDI file /data/heerak/music_vae/groove/drummer1/session1/77_jazz-mediumfast_180_beat_4-4.mid.\n"
     ]
    },
    {
     "name": "stdout",
     "output_type": "stream",
     "text": [
      "INFO:tensorflow:Converted MIDI file /data/heerak/music_vae/groove/drummer1/session1/47_jazz_102_beat_4-4.mid.\n"
     ]
    },
    {
     "name": "stderr",
     "output_type": "stream",
     "text": [
      "INFO:tensorflow:Converted MIDI file /data/heerak/music_vae/groove/drummer1/session1/47_jazz_102_beat_4-4.mid.\n"
     ]
    },
    {
     "name": "stdout",
     "output_type": "stream",
     "text": [
      "INFO:tensorflow:Converted MIDI file /data/heerak/music_vae/groove/drummer1/session1/155_latin-brazilian-baiao_95_fill_4-4.mid.\n"
     ]
    },
    {
     "name": "stderr",
     "output_type": "stream",
     "text": [
      "INFO:tensorflow:Converted MIDI file /data/heerak/music_vae/groove/drummer1/session1/155_latin-brazilian-baiao_95_fill_4-4.mid.\n"
     ]
    },
    {
     "name": "stdout",
     "output_type": "stream",
     "text": [
      "INFO:tensorflow:Converted MIDI file /data/heerak/music_vae/groove/drummer1/session1/55_jazz_125_fill_4-4.mid.\n"
     ]
    },
    {
     "name": "stderr",
     "output_type": "stream",
     "text": [
      "INFO:tensorflow:Converted MIDI file /data/heerak/music_vae/groove/drummer1/session1/55_jazz_125_fill_4-4.mid.\n"
     ]
    },
    {
     "name": "stdout",
     "output_type": "stream",
     "text": [
      "INFO:tensorflow:Converted MIDI file /data/heerak/music_vae/groove/drummer1/session1/211_rock-halftime_140_fill_4-4.mid.\n"
     ]
    },
    {
     "name": "stderr",
     "output_type": "stream",
     "text": [
      "INFO:tensorflow:Converted MIDI file /data/heerak/music_vae/groove/drummer1/session1/211_rock-halftime_140_fill_4-4.mid.\n"
     ]
    },
    {
     "name": "stdout",
     "output_type": "stream",
     "text": [
      "INFO:tensorflow:Converted MIDI file /data/heerak/music_vae/groove/drummer1/session1/182_afrocuban_105_fill_4-4.mid.\n"
     ]
    },
    {
     "name": "stderr",
     "output_type": "stream",
     "text": [
      "INFO:tensorflow:Converted MIDI file /data/heerak/music_vae/groove/drummer1/session1/182_afrocuban_105_fill_4-4.mid.\n"
     ]
    },
    {
     "name": "stdout",
     "output_type": "stream",
     "text": [
      "INFO:tensorflow:Converted MIDI file /data/heerak/music_vae/groove/drummer1/session1/184_reggae_78_beat_4-4.mid.\n"
     ]
    },
    {
     "name": "stderr",
     "output_type": "stream",
     "text": [
      "INFO:tensorflow:Converted MIDI file /data/heerak/music_vae/groove/drummer1/session1/184_reggae_78_beat_4-4.mid.\n"
     ]
    },
    {
     "name": "stdout",
     "output_type": "stream",
     "text": [
      "INFO:tensorflow:Converted MIDI file /data/heerak/music_vae/groove/drummer1/session1/221_rock-halftime_140_fill_4-4.mid.\n"
     ]
    },
    {
     "name": "stderr",
     "output_type": "stream",
     "text": [
      "INFO:tensorflow:Converted MIDI file /data/heerak/music_vae/groove/drummer1/session1/221_rock-halftime_140_fill_4-4.mid.\n"
     ]
    },
    {
     "name": "stdout",
     "output_type": "stream",
     "text": [
      "INFO:tensorflow:Converted MIDI file /data/heerak/music_vae/groove/drummer1/session1/109_funk_95_fill_4-4.mid.\n"
     ]
    },
    {
     "name": "stderr",
     "output_type": "stream",
     "text": [
      "INFO:tensorflow:Converted MIDI file /data/heerak/music_vae/groove/drummer1/session1/109_funk_95_fill_4-4.mid.\n"
     ]
    },
    {
     "name": "stdout",
     "output_type": "stream",
     "text": [
      "INFO:tensorflow:Converted MIDI file /data/heerak/music_vae/groove/drummer1/session1/28_latin-samba_116_beat_4-4.mid.\n"
     ]
    },
    {
     "name": "stderr",
     "output_type": "stream",
     "text": [
      "INFO:tensorflow:Converted MIDI file /data/heerak/music_vae/groove/drummer1/session1/28_latin-samba_116_beat_4-4.mid.\n"
     ]
    },
    {
     "name": "stdout",
     "output_type": "stream",
     "text": [
      "INFO:tensorflow:Converted MIDI file /data/heerak/music_vae/groove/drummer1/session1/134_funk-fast_125_fill_4-4.mid.\n"
     ]
    },
    {
     "name": "stderr",
     "output_type": "stream",
     "text": [
      "INFO:tensorflow:Converted MIDI file /data/heerak/music_vae/groove/drummer1/session1/134_funk-fast_125_fill_4-4.mid.\n"
     ]
    },
    {
     "name": "stdout",
     "output_type": "stream",
     "text": [
      "INFO:tensorflow:Converted MIDI file /data/heerak/music_vae/groove/drummer1/session1/168_latin-brazilian-baiao_95_fill_4-4.mid.\n"
     ]
    },
    {
     "name": "stderr",
     "output_type": "stream",
     "text": [
      "INFO:tensorflow:Converted MIDI file /data/heerak/music_vae/groove/drummer1/session1/168_latin-brazilian-baiao_95_fill_4-4.mid.\n"
     ]
    },
    {
     "name": "stdout",
     "output_type": "stream",
     "text": [
      "INFO:tensorflow:Converted MIDI file /data/heerak/music_vae/groove/drummer1/session1/225_rock-halftime_140_fill_4-4.mid.\n"
     ]
    },
    {
     "name": "stderr",
     "output_type": "stream",
     "text": [
      "INFO:tensorflow:Converted MIDI file /data/heerak/music_vae/groove/drummer1/session1/225_rock-halftime_140_fill_4-4.mid.\n"
     ]
    },
    {
     "name": "stdout",
     "output_type": "stream",
     "text": [
      "INFO:tensorflow:Converted MIDI file /data/heerak/music_vae/groove/drummer1/session1/53_jazz_125_fill_4-4.mid.\n"
     ]
    },
    {
     "name": "stderr",
     "output_type": "stream",
     "text": [
      "INFO:tensorflow:Converted MIDI file /data/heerak/music_vae/groove/drummer1/session1/53_jazz_125_fill_4-4.mid.\n"
     ]
    },
    {
     "name": "stdout",
     "output_type": "stream",
     "text": [
      "INFO:tensorflow:Converted MIDI file /data/heerak/music_vae/groove/drummer1/session1/266_funk-purdieshuffle_130_fill_4-4.mid.\n"
     ]
    },
    {
     "name": "stderr",
     "output_type": "stream",
     "text": [
      "INFO:tensorflow:Converted MIDI file /data/heerak/music_vae/groove/drummer1/session1/266_funk-purdieshuffle_130_fill_4-4.mid.\n"
     ]
    },
    {
     "name": "stdout",
     "output_type": "stream",
     "text": [
      "INFO:tensorflow:Converted MIDI file /data/heerak/music_vae/groove/drummer1/session1/62_jazz_125_fill_4-4.mid.\n"
     ]
    },
    {
     "name": "stderr",
     "output_type": "stream",
     "text": [
      "INFO:tensorflow:Converted MIDI file /data/heerak/music_vae/groove/drummer1/session1/62_jazz_125_fill_4-4.mid.\n"
     ]
    },
    {
     "name": "stdout",
     "output_type": "stream",
     "text": [
      "INFO:tensorflow:Converted MIDI file /data/heerak/music_vae/groove/drummer1/session1/198_reggae_78_fill_4-4.mid.\n"
     ]
    },
    {
     "name": "stderr",
     "output_type": "stream",
     "text": [
      "INFO:tensorflow:Converted MIDI file /data/heerak/music_vae/groove/drummer1/session1/198_reggae_78_fill_4-4.mid.\n"
     ]
    },
    {
     "name": "stdout",
     "output_type": "stream",
     "text": [
      "INFO:tensorflow:Converting files in '/data/heerak/music_vae/groove/drummer10'.\n"
     ]
    },
    {
     "name": "stderr",
     "output_type": "stream",
     "text": [
      "INFO:tensorflow:Converting files in '/data/heerak/music_vae/groove/drummer10'.\n"
     ]
    },
    {
     "name": "stdout",
     "output_type": "stream",
     "text": [
      "WARNING:tensorflow:Unable to find a converter for file /data/heerak/music_vae/groove/drummer10/Icon\n"
     ]
    },
    {
     "name": "stderr",
     "output_type": "stream",
     "text": [
      "WARNING:tensorflow:Unable to find a converter for file /data/heerak/music_vae/groove/drummer10/Icon\n"
     ]
    },
    {
     "name": "stdout",
     "output_type": "stream",
     "text": [
      "INFO:tensorflow:Converting files in '/data/heerak/music_vae/groove/drummer10/session1'.\n"
     ]
    },
    {
     "name": "stderr",
     "output_type": "stream",
     "text": [
      "INFO:tensorflow:Converting files in '/data/heerak/music_vae/groove/drummer10/session1'.\n"
     ]
    },
    {
     "name": "stdout",
     "output_type": "stream",
     "text": [
      "INFO:tensorflow:Converted MIDI file /data/heerak/music_vae/groove/drummer10/session1/5_jazz-swing_215_beat_4-4.mid.\n"
     ]
    },
    {
     "name": "stderr",
     "output_type": "stream",
     "text": [
      "INFO:tensorflow:Converted MIDI file /data/heerak/music_vae/groove/drummer10/session1/5_jazz-swing_215_beat_4-4.mid.\n"
     ]
    },
    {
     "name": "stdout",
     "output_type": "stream",
     "text": [
      "INFO:tensorflow:Converted MIDI file /data/heerak/music_vae/groove/drummer10/session1/6_jazz-swing_215_beat_4-4.mid.\n"
     ]
    },
    {
     "name": "stderr",
     "output_type": "stream",
     "text": [
      "INFO:tensorflow:Converted MIDI file /data/heerak/music_vae/groove/drummer10/session1/6_jazz-swing_215_beat_4-4.mid.\n"
     ]
    },
    {
     "name": "stdout",
     "output_type": "stream",
     "text": [
      "INFO:tensorflow:Converted MIDI file /data/heerak/music_vae/groove/drummer10/session1/3_jazz-swing_215_beat_4-4.mid.\n"
     ]
    },
    {
     "name": "stderr",
     "output_type": "stream",
     "text": [
      "INFO:tensorflow:Converted MIDI file /data/heerak/music_vae/groove/drummer10/session1/3_jazz-swing_215_beat_4-4.mid.\n"
     ]
    },
    {
     "name": "stdout",
     "output_type": "stream",
     "text": [
      "INFO:tensorflow:Converted MIDI file /data/heerak/music_vae/groove/drummer10/session1/9_jazz-swing_110_beat_4-4.mid.\n"
     ]
    },
    {
     "name": "stderr",
     "output_type": "stream",
     "text": [
      "INFO:tensorflow:Converted MIDI file /data/heerak/music_vae/groove/drummer10/session1/9_jazz-swing_110_beat_4-4.mid.\n"
     ]
    },
    {
     "name": "stdout",
     "output_type": "stream",
     "text": [
      "INFO:tensorflow:Converted MIDI file /data/heerak/music_vae/groove/drummer10/session1/7_jazz-swing_215_beat_4-4.mid.\n"
     ]
    },
    {
     "name": "stderr",
     "output_type": "stream",
     "text": [
      "INFO:tensorflow:Converted MIDI file /data/heerak/music_vae/groove/drummer10/session1/7_jazz-swing_215_beat_4-4.mid.\n"
     ]
    },
    {
     "name": "stdout",
     "output_type": "stream",
     "text": [
      "INFO:tensorflow:Converted MIDI file /data/heerak/music_vae/groove/drummer10/session1/2_jazz-swing_215_beat_4-4.mid.\n"
     ]
    },
    {
     "name": "stderr",
     "output_type": "stream",
     "text": [
      "INFO:tensorflow:Converted MIDI file /data/heerak/music_vae/groove/drummer10/session1/2_jazz-swing_215_beat_4-4.mid.\n"
     ]
    },
    {
     "name": "stdout",
     "output_type": "stream",
     "text": [
      "INFO:tensorflow:Converted MIDI file /data/heerak/music_vae/groove/drummer10/session1/8_jazz-swing_215_beat_4-4.mid.\n"
     ]
    },
    {
     "name": "stderr",
     "output_type": "stream",
     "text": [
      "INFO:tensorflow:Converted MIDI file /data/heerak/music_vae/groove/drummer10/session1/8_jazz-swing_215_beat_4-4.mid.\n"
     ]
    },
    {
     "name": "stdout",
     "output_type": "stream",
     "text": [
      "INFO:tensorflow:Converted MIDI file /data/heerak/music_vae/groove/drummer10/session1/4_jazz-swing_215_beat_4-4.mid.\n"
     ]
    },
    {
     "name": "stderr",
     "output_type": "stream",
     "text": [
      "INFO:tensorflow:Converted MIDI file /data/heerak/music_vae/groove/drummer10/session1/4_jazz-swing_215_beat_4-4.mid.\n"
     ]
    },
    {
     "name": "stdout",
     "output_type": "stream",
     "text": [
      "WARNING:tensorflow:Unable to find a converter for file /data/heerak/music_vae/groove/drummer10/session1/Icon\n"
     ]
    },
    {
     "name": "stderr",
     "output_type": "stream",
     "text": [
      "WARNING:tensorflow:Unable to find a converter for file /data/heerak/music_vae/groove/drummer10/session1/Icon\n"
     ]
    },
    {
     "name": "stdout",
     "output_type": "stream",
     "text": [
      "INFO:tensorflow:Converted MIDI file /data/heerak/music_vae/groove/drummer10/session1/10_jazz-swing_110_beat_4-4.mid.\n"
     ]
    },
    {
     "name": "stderr",
     "output_type": "stream",
     "text": [
      "INFO:tensorflow:Converted MIDI file /data/heerak/music_vae/groove/drummer10/session1/10_jazz-swing_110_beat_4-4.mid.\n"
     ]
    },
    {
     "name": "stdout",
     "output_type": "stream",
     "text": [
      "INFO:tensorflow:Converted MIDI file /data/heerak/music_vae/groove/drummer10/session1/1_jazz-swing_124_beat_4-4.mid.\n"
     ]
    },
    {
     "name": "stderr",
     "output_type": "stream",
     "text": [
      "INFO:tensorflow:Converted MIDI file /data/heerak/music_vae/groove/drummer10/session1/1_jazz-swing_124_beat_4-4.mid.\n"
     ]
    },
    {
     "name": "stdout",
     "output_type": "stream",
     "text": [
      "INFO:tensorflow:Converting files in '/data/heerak/music_vae/groove/drummer8'.\n"
     ]
    },
    {
     "name": "stderr",
     "output_type": "stream",
     "text": [
      "INFO:tensorflow:Converting files in '/data/heerak/music_vae/groove/drummer8'.\n"
     ]
    },
    {
     "name": "stdout",
     "output_type": "stream",
     "text": [
      "WARNING:tensorflow:Unable to find a converter for file /data/heerak/music_vae/groove/drummer8/Icon\n"
     ]
    },
    {
     "name": "stderr",
     "output_type": "stream",
     "text": [
      "WARNING:tensorflow:Unable to find a converter for file /data/heerak/music_vae/groove/drummer8/Icon\n"
     ]
    },
    {
     "name": "stdout",
     "output_type": "stream",
     "text": [
      "INFO:tensorflow:Converting files in '/data/heerak/music_vae/groove/drummer8/session2'.\n"
     ]
    },
    {
     "name": "stderr",
     "output_type": "stream",
     "text": [
      "INFO:tensorflow:Converting files in '/data/heerak/music_vae/groove/drummer8/session2'.\n"
     ]
    },
    {
     "name": "stdout",
     "output_type": "stream",
     "text": [
      "INFO:tensorflow:Converted MIDI file /data/heerak/music_vae/groove/drummer8/session2/38_rock_112_beat_4-4.mid.\n"
     ]
    },
    {
     "name": "stderr",
     "output_type": "stream",
     "text": [
      "INFO:tensorflow:Converted MIDI file /data/heerak/music_vae/groove/drummer8/session2/38_rock_112_beat_4-4.mid.\n"
     ]
    },
    {
     "name": "stdout",
     "output_type": "stream",
     "text": [
      "INFO:tensorflow:Converted MIDI file /data/heerak/music_vae/groove/drummer8/session2/1_funk_92_beat_4-4.mid.\n"
     ]
    },
    {
     "name": "stderr",
     "output_type": "stream",
     "text": [
      "INFO:tensorflow:Converted MIDI file /data/heerak/music_vae/groove/drummer8/session2/1_funk_92_beat_4-4.mid.\n"
     ]
    },
    {
     "name": "stdout",
     "output_type": "stream",
     "text": [
      "INFO:tensorflow:Converted MIDI file /data/heerak/music_vae/groove/drummer8/session2/2_funk_92_beat_4-4.mid.\n"
     ]
    },
    {
     "name": "stderr",
     "output_type": "stream",
     "text": [
      "INFO:tensorflow:Converted MIDI file /data/heerak/music_vae/groove/drummer8/session2/2_funk_92_beat_4-4.mid.\n"
     ]
    },
    {
     "name": "stdout",
     "output_type": "stream",
     "text": [
      "INFO:tensorflow:Converted MIDI file /data/heerak/music_vae/groove/drummer8/session2/11_funk_81_beat_4-4.mid.\n"
     ]
    },
    {
     "name": "stderr",
     "output_type": "stream",
     "text": [
      "INFO:tensorflow:Converted MIDI file /data/heerak/music_vae/groove/drummer8/session2/11_funk_81_beat_4-4.mid.\n"
     ]
    },
    {
     "name": "stdout",
     "output_type": "stream",
     "text": [
      "INFO:tensorflow:Converted MIDI file /data/heerak/music_vae/groove/drummer8/session2/13_afrobeat_103_beat_4-4.mid.\n"
     ]
    },
    {
     "name": "stderr",
     "output_type": "stream",
     "text": [
      "INFO:tensorflow:Converted MIDI file /data/heerak/music_vae/groove/drummer8/session2/13_afrobeat_103_beat_4-4.mid.\n"
     ]
    },
    {
     "name": "stdout",
     "output_type": "stream",
     "text": [
      "INFO:tensorflow:Converted MIDI file /data/heerak/music_vae/groove/drummer8/session2/33_rock_117_beat_4-4.mid.\n"
     ]
    },
    {
     "name": "stderr",
     "output_type": "stream",
     "text": [
      "INFO:tensorflow:Converted MIDI file /data/heerak/music_vae/groove/drummer8/session2/33_rock_117_beat_4-4.mid.\n"
     ]
    },
    {
     "name": "stdout",
     "output_type": "stream",
     "text": [
      "INFO:tensorflow:Converted MIDI file /data/heerak/music_vae/groove/drummer8/session2/35_latin-brazilian-songo_120_beat_4-4.mid.\n"
     ]
    },
    {
     "name": "stderr",
     "output_type": "stream",
     "text": [
      "INFO:tensorflow:Converted MIDI file /data/heerak/music_vae/groove/drummer8/session2/35_latin-brazilian-songo_120_beat_4-4.mid.\n"
     ]
    },
    {
     "name": "stdout",
     "output_type": "stream",
     "text": [
      "INFO:tensorflow:Converted MIDI file /data/heerak/music_vae/groove/drummer8/session2/8_latin_95_beat_4-4.mid.\n"
     ]
    },
    {
     "name": "stderr",
     "output_type": "stream",
     "text": [
      "INFO:tensorflow:Converted MIDI file /data/heerak/music_vae/groove/drummer8/session2/8_latin_95_beat_4-4.mid.\n"
     ]
    },
    {
     "name": "stdout",
     "output_type": "stream",
     "text": [
      "INFO:tensorflow:Converted MIDI file /data/heerak/music_vae/groove/drummer8/session2/15_funk_95_beat_4-4.mid.\n"
     ]
    },
    {
     "name": "stderr",
     "output_type": "stream",
     "text": [
      "INFO:tensorflow:Converted MIDI file /data/heerak/music_vae/groove/drummer8/session2/15_funk_95_beat_4-4.mid.\n"
     ]
    },
    {
     "name": "stdout",
     "output_type": "stream",
     "text": [
      "INFO:tensorflow:Converted MIDI file /data/heerak/music_vae/groove/drummer8/session2/17_afrobeat_85_beat_4-4.mid.\n"
     ]
    },
    {
     "name": "stderr",
     "output_type": "stream",
     "text": [
      "INFO:tensorflow:Converted MIDI file /data/heerak/music_vae/groove/drummer8/session2/17_afrobeat_85_beat_4-4.mid.\n"
     ]
    },
    {
     "name": "stdout",
     "output_type": "stream",
     "text": [
      "INFO:tensorflow:Converted MIDI file /data/heerak/music_vae/groove/drummer8/session2/22_rock_96_beat_4-4.mid.\n"
     ]
    },
    {
     "name": "stderr",
     "output_type": "stream",
     "text": [
      "INFO:tensorflow:Converted MIDI file /data/heerak/music_vae/groove/drummer8/session2/22_rock_96_beat_4-4.mid.\n"
     ]
    },
    {
     "name": "stdout",
     "output_type": "stream",
     "text": [
      "INFO:tensorflow:Converted MIDI file /data/heerak/music_vae/groove/drummer8/session2/39_rock-indie_104_beat_4-4.mid.\n"
     ]
    },
    {
     "name": "stderr",
     "output_type": "stream",
     "text": [
      "INFO:tensorflow:Converted MIDI file /data/heerak/music_vae/groove/drummer8/session2/39_rock-indie_104_beat_4-4.mid.\n"
     ]
    },
    {
     "name": "stdout",
     "output_type": "stream",
     "text": [
      "INFO:tensorflow:Converted MIDI file /data/heerak/music_vae/groove/drummer8/session2/25_latin_84_beat_4-4.mid.\n"
     ]
    },
    {
     "name": "stderr",
     "output_type": "stream",
     "text": [
      "INFO:tensorflow:Converted MIDI file /data/heerak/music_vae/groove/drummer8/session2/25_latin_84_beat_4-4.mid.\n"
     ]
    },
    {
     "name": "stdout",
     "output_type": "stream",
     "text": [
      "INFO:tensorflow:Converted MIDI file /data/heerak/music_vae/groove/drummer8/session2/23_rock_96_beat_4-4.mid.\n"
     ]
    },
    {
     "name": "stderr",
     "output_type": "stream",
     "text": [
      "INFO:tensorflow:Converted MIDI file /data/heerak/music_vae/groove/drummer8/session2/23_rock_96_beat_4-4.mid.\n"
     ]
    },
    {
     "name": "stdout",
     "output_type": "stream",
     "text": [
      "INFO:tensorflow:Converted MIDI file /data/heerak/music_vae/groove/drummer8/session2/26_dance-disco_137_beat_4-4.mid.\n"
     ]
    },
    {
     "name": "stderr",
     "output_type": "stream",
     "text": [
      "INFO:tensorflow:Converted MIDI file /data/heerak/music_vae/groove/drummer8/session2/26_dance-disco_137_beat_4-4.mid.\n"
     ]
    },
    {
     "name": "stdout",
     "output_type": "stream",
     "text": [
      "INFO:tensorflow:Converted MIDI file /data/heerak/music_vae/groove/drummer8/session2/34_latin-brazilian-songo_120_beat_4-4.mid.\n"
     ]
    },
    {
     "name": "stderr",
     "output_type": "stream",
     "text": [
      "INFO:tensorflow:Converted MIDI file /data/heerak/music_vae/groove/drummer8/session2/34_latin-brazilian-songo_120_beat_4-4.mid.\n"
     ]
    },
    {
     "name": "stdout",
     "output_type": "stream",
     "text": [
      "INFO:tensorflow:Converted MIDI file /data/heerak/music_vae/groove/drummer8/session2/9_hiphop_86_beat_4-4.mid.\n"
     ]
    },
    {
     "name": "stderr",
     "output_type": "stream",
     "text": [
      "INFO:tensorflow:Converted MIDI file /data/heerak/music_vae/groove/drummer8/session2/9_hiphop_86_beat_4-4.mid.\n"
     ]
    },
    {
     "name": "stdout",
     "output_type": "stream",
     "text": [
      "INFO:tensorflow:Converted MIDI file /data/heerak/music_vae/groove/drummer8/session2/20_neworleans-funk_90_beat_4-4.mid.\n"
     ]
    },
    {
     "name": "stderr",
     "output_type": "stream",
     "text": [
      "INFO:tensorflow:Converted MIDI file /data/heerak/music_vae/groove/drummer8/session2/20_neworleans-funk_90_beat_4-4.mid.\n"
     ]
    },
    {
     "name": "stdout",
     "output_type": "stream",
     "text": [
      "INFO:tensorflow:Converted MIDI file /data/heerak/music_vae/groove/drummer8/session2/40_rock-indie_104_beat_4-4.mid.\n"
     ]
    },
    {
     "name": "stderr",
     "output_type": "stream",
     "text": [
      "INFO:tensorflow:Converted MIDI file /data/heerak/music_vae/groove/drummer8/session2/40_rock-indie_104_beat_4-4.mid.\n"
     ]
    },
    {
     "name": "stdout",
     "output_type": "stream",
     "text": [
      "INFO:tensorflow:Converted MIDI file /data/heerak/music_vae/groove/drummer8/session2/29_latin-bounce_106_beat_4-4.mid.\n"
     ]
    },
    {
     "name": "stderr",
     "output_type": "stream",
     "text": [
      "INFO:tensorflow:Converted MIDI file /data/heerak/music_vae/groove/drummer8/session2/29_latin-bounce_106_beat_4-4.mid.\n"
     ]
    },
    {
     "name": "stdout",
     "output_type": "stream",
     "text": [
      "INFO:tensorflow:Converted MIDI file /data/heerak/music_vae/groove/drummer8/session2/27_dance-disco_137_beat_4-4.mid.\n"
     ]
    },
    {
     "name": "stderr",
     "output_type": "stream",
     "text": [
      "INFO:tensorflow:Converted MIDI file /data/heerak/music_vae/groove/drummer8/session2/27_dance-disco_137_beat_4-4.mid.\n"
     ]
    },
    {
     "name": "stdout",
     "output_type": "stream",
     "text": [
      "INFO:tensorflow:Converted MIDI file /data/heerak/music_vae/groove/drummer8/session2/24_latin_84_beat_4-4.mid.\n"
     ]
    },
    {
     "name": "stderr",
     "output_type": "stream",
     "text": [
      "INFO:tensorflow:Converted MIDI file /data/heerak/music_vae/groove/drummer8/session2/24_latin_84_beat_4-4.mid.\n"
     ]
    },
    {
     "name": "stdout",
     "output_type": "stream",
     "text": [
      "INFO:tensorflow:Converted MIDI file /data/heerak/music_vae/groove/drummer8/session2/4_afrobeat_114_beat_4-4.mid.\n"
     ]
    },
    {
     "name": "stderr",
     "output_type": "stream",
     "text": [
      "INFO:tensorflow:Converted MIDI file /data/heerak/music_vae/groove/drummer8/session2/4_afrobeat_114_beat_4-4.mid.\n"
     ]
    },
    {
     "name": "stdout",
     "output_type": "stream",
     "text": [
      "INFO:tensorflow:Converted MIDI file /data/heerak/music_vae/groove/drummer8/session2/16_funk_95_beat_4-4.mid.\n"
     ]
    },
    {
     "name": "stderr",
     "output_type": "stream",
     "text": [
      "INFO:tensorflow:Converted MIDI file /data/heerak/music_vae/groove/drummer8/session2/16_funk_95_beat_4-4.mid.\n"
     ]
    },
    {
     "name": "stdout",
     "output_type": "stream",
     "text": [
      "INFO:tensorflow:Converted MIDI file /data/heerak/music_vae/groove/drummer8/session2/6_funk_91_beat_4-4.mid.\n"
     ]
    },
    {
     "name": "stderr",
     "output_type": "stream",
     "text": [
      "INFO:tensorflow:Converted MIDI file /data/heerak/music_vae/groove/drummer8/session2/6_funk_91_beat_4-4.mid.\n"
     ]
    },
    {
     "name": "stdout",
     "output_type": "stream",
     "text": [
      "INFO:tensorflow:Converted MIDI file /data/heerak/music_vae/groove/drummer8/session2/21_afrobeat_110_beat_4-4.mid.\n"
     ]
    },
    {
     "name": "stderr",
     "output_type": "stream",
     "text": [
      "INFO:tensorflow:Converted MIDI file /data/heerak/music_vae/groove/drummer8/session2/21_afrobeat_110_beat_4-4.mid.\n"
     ]
    },
    {
     "name": "stdout",
     "output_type": "stream",
     "text": [
      "INFO:tensorflow:Converted MIDI file /data/heerak/music_vae/groove/drummer8/session2/19_neworleans-funk_90_beat_4-4.mid.\n"
     ]
    },
    {
     "name": "stderr",
     "output_type": "stream",
     "text": [
      "INFO:tensorflow:Converted MIDI file /data/heerak/music_vae/groove/drummer8/session2/19_neworleans-funk_90_beat_4-4.mid.\n"
     ]
    },
    {
     "name": "stdout",
     "output_type": "stream",
     "text": [
      "INFO:tensorflow:Converted MIDI file /data/heerak/music_vae/groove/drummer8/session2/30_afrobeat_98_beat_4-4.mid.\n"
     ]
    },
    {
     "name": "stderr",
     "output_type": "stream",
     "text": [
      "INFO:tensorflow:Converted MIDI file /data/heerak/music_vae/groove/drummer8/session2/30_afrobeat_98_beat_4-4.mid.\n"
     ]
    },
    {
     "name": "stdout",
     "output_type": "stream",
     "text": [
      "INFO:tensorflow:Converted MIDI file /data/heerak/music_vae/groove/drummer8/session2/42_highlife_126_beat_4-4.mid.\n"
     ]
    },
    {
     "name": "stderr",
     "output_type": "stream",
     "text": [
      "INFO:tensorflow:Converted MIDI file /data/heerak/music_vae/groove/drummer8/session2/42_highlife_126_beat_4-4.mid.\n"
     ]
    },
    {
     "name": "stdout",
     "output_type": "stream",
     "text": [
      "INFO:tensorflow:Converted MIDI file /data/heerak/music_vae/groove/drummer8/session2/3_afrobeat_114_beat_4-4.mid.\n"
     ]
    },
    {
     "name": "stderr",
     "output_type": "stream",
     "text": [
      "INFO:tensorflow:Converted MIDI file /data/heerak/music_vae/groove/drummer8/session2/3_afrobeat_114_beat_4-4.mid.\n"
     ]
    },
    {
     "name": "stdout",
     "output_type": "stream",
     "text": [
      "INFO:tensorflow:Converted MIDI file /data/heerak/music_vae/groove/drummer8/session2/31_afrobeat_98_beat_4-4.mid.\n"
     ]
    },
    {
     "name": "stderr",
     "output_type": "stream",
     "text": [
      "INFO:tensorflow:Converted MIDI file /data/heerak/music_vae/groove/drummer8/session2/31_afrobeat_98_beat_4-4.mid.\n"
     ]
    },
    {
     "name": "stdout",
     "output_type": "stream",
     "text": [
      "INFO:tensorflow:Converted MIDI file /data/heerak/music_vae/groove/drummer8/session2/12_funk_81_beat_4-4.mid.\n"
     ]
    },
    {
     "name": "stderr",
     "output_type": "stream",
     "text": [
      "INFO:tensorflow:Converted MIDI file /data/heerak/music_vae/groove/drummer8/session2/12_funk_81_beat_4-4.mid.\n"
     ]
    },
    {
     "name": "stdout",
     "output_type": "stream",
     "text": [
      "INFO:tensorflow:Converted MIDI file /data/heerak/music_vae/groove/drummer8/session2/37_rock_112_beat_4-4.mid.\n"
     ]
    },
    {
     "name": "stderr",
     "output_type": "stream",
     "text": [
      "INFO:tensorflow:Converted MIDI file /data/heerak/music_vae/groove/drummer8/session2/37_rock_112_beat_4-4.mid.\n"
     ]
    },
    {
     "name": "stdout",
     "output_type": "stream",
     "text": [
      "INFO:tensorflow:Converted MIDI file /data/heerak/music_vae/groove/drummer8/session2/36_latin_118_beat_4-4.mid.\n"
     ]
    },
    {
     "name": "stderr",
     "output_type": "stream",
     "text": [
      "INFO:tensorflow:Converted MIDI file /data/heerak/music_vae/groove/drummer8/session2/36_latin_118_beat_4-4.mid.\n"
     ]
    },
    {
     "name": "stdout",
     "output_type": "stream",
     "text": [
      "INFO:tensorflow:Converted MIDI file /data/heerak/music_vae/groove/drummer8/session2/10_hiphop_86_beat_4-4.mid.\n"
     ]
    },
    {
     "name": "stderr",
     "output_type": "stream",
     "text": [
      "INFO:tensorflow:Converted MIDI file /data/heerak/music_vae/groove/drummer8/session2/10_hiphop_86_beat_4-4.mid.\n"
     ]
    },
    {
     "name": "stdout",
     "output_type": "stream",
     "text": [
      "INFO:tensorflow:Converted MIDI file /data/heerak/music_vae/groove/drummer8/session2/5_funk_91_beat_4-4.mid.\n"
     ]
    },
    {
     "name": "stderr",
     "output_type": "stream",
     "text": [
      "INFO:tensorflow:Converted MIDI file /data/heerak/music_vae/groove/drummer8/session2/5_funk_91_beat_4-4.mid.\n"
     ]
    },
    {
     "name": "stdout",
     "output_type": "stream",
     "text": [
      "INFO:tensorflow:Converted MIDI file /data/heerak/music_vae/groove/drummer8/session2/7_latin_95_beat_4-4.mid.\n"
     ]
    },
    {
     "name": "stderr",
     "output_type": "stream",
     "text": [
      "INFO:tensorflow:Converted MIDI file /data/heerak/music_vae/groove/drummer8/session2/7_latin_95_beat_4-4.mid.\n"
     ]
    },
    {
     "name": "stdout",
     "output_type": "stream",
     "text": [
      "WARNING:tensorflow:Unable to find a converter for file /data/heerak/music_vae/groove/drummer8/session2/Icon\n"
     ]
    },
    {
     "name": "stderr",
     "output_type": "stream",
     "text": [
      "WARNING:tensorflow:Unable to find a converter for file /data/heerak/music_vae/groove/drummer8/session2/Icon\n"
     ]
    },
    {
     "name": "stdout",
     "output_type": "stream",
     "text": [
      "INFO:tensorflow:Converted MIDI file /data/heerak/music_vae/groove/drummer8/session2/41_highlife_126_beat_4-4.mid.\n"
     ]
    },
    {
     "name": "stderr",
     "output_type": "stream",
     "text": [
      "INFO:tensorflow:Converted MIDI file /data/heerak/music_vae/groove/drummer8/session2/41_highlife_126_beat_4-4.mid.\n"
     ]
    },
    {
     "name": "stdout",
     "output_type": "stream",
     "text": [
      "INFO:tensorflow:Converted MIDI file /data/heerak/music_vae/groove/drummer8/session2/18_afrobeat_85_beat_4-4.mid.\n"
     ]
    },
    {
     "name": "stderr",
     "output_type": "stream",
     "text": [
      "INFO:tensorflow:Converted MIDI file /data/heerak/music_vae/groove/drummer8/session2/18_afrobeat_85_beat_4-4.mid.\n"
     ]
    },
    {
     "name": "stdout",
     "output_type": "stream",
     "text": [
      "INFO:tensorflow:Converted MIDI file /data/heerak/music_vae/groove/drummer8/session2/14_afrobeat_103_beat_4-4.mid.\n"
     ]
    },
    {
     "name": "stderr",
     "output_type": "stream",
     "text": [
      "INFO:tensorflow:Converted MIDI file /data/heerak/music_vae/groove/drummer8/session2/14_afrobeat_103_beat_4-4.mid.\n"
     ]
    },
    {
     "name": "stdout",
     "output_type": "stream",
     "text": [
      "INFO:tensorflow:Converted MIDI file /data/heerak/music_vae/groove/drummer8/session2/28_latin-bounce_106_beat_4-4.mid.\n"
     ]
    },
    {
     "name": "stderr",
     "output_type": "stream",
     "text": [
      "INFO:tensorflow:Converted MIDI file /data/heerak/music_vae/groove/drummer8/session2/28_latin-bounce_106_beat_4-4.mid.\n"
     ]
    },
    {
     "name": "stdout",
     "output_type": "stream",
     "text": [
      "INFO:tensorflow:Converted MIDI file /data/heerak/music_vae/groove/drummer8/session2/32_rock_117_beat_4-4.mid.\n"
     ]
    },
    {
     "name": "stderr",
     "output_type": "stream",
     "text": [
      "INFO:tensorflow:Converted MIDI file /data/heerak/music_vae/groove/drummer8/session2/32_rock_117_beat_4-4.mid.\n"
     ]
    },
    {
     "name": "stdout",
     "output_type": "stream",
     "text": [
      "INFO:tensorflow:Converting files in '/data/heerak/music_vae/groove/drummer8/eval_session'.\n"
     ]
    },
    {
     "name": "stderr",
     "output_type": "stream",
     "text": [
      "INFO:tensorflow:Converting files in '/data/heerak/music_vae/groove/drummer8/eval_session'.\n"
     ]
    },
    {
     "name": "stdout",
     "output_type": "stream",
     "text": [
      "INFO:tensorflow:Converted MIDI file /data/heerak/music_vae/groove/drummer8/eval_session/10_soul-groove10_102_beat_4-4.mid.\n"
     ]
    },
    {
     "name": "stderr",
     "output_type": "stream",
     "text": [
      "INFO:tensorflow:Converted MIDI file /data/heerak/music_vae/groove/drummer8/eval_session/10_soul-groove10_102_beat_4-4.mid.\n"
     ]
    },
    {
     "name": "stdout",
     "output_type": "stream",
     "text": [
      "INFO:tensorflow:Converted MIDI file /data/heerak/music_vae/groove/drummer8/eval_session/1_funk-groove1_138_beat_4-4.mid.\n"
     ]
    },
    {
     "name": "stderr",
     "output_type": "stream",
     "text": [
      "INFO:tensorflow:Converted MIDI file /data/heerak/music_vae/groove/drummer8/eval_session/1_funk-groove1_138_beat_4-4.mid.\n"
     ]
    },
    {
     "name": "stdout",
     "output_type": "stream",
     "text": [
      "INFO:tensorflow:Converted MIDI file /data/heerak/music_vae/groove/drummer8/eval_session/6_hiphop-groove6_87_beat_4-4.mid.\n"
     ]
    },
    {
     "name": "stderr",
     "output_type": "stream",
     "text": [
      "INFO:tensorflow:Converted MIDI file /data/heerak/music_vae/groove/drummer8/eval_session/6_hiphop-groove6_87_beat_4-4.mid.\n"
     ]
    },
    {
     "name": "stdout",
     "output_type": "stream",
     "text": [
      "INFO:tensorflow:Converted MIDI file /data/heerak/music_vae/groove/drummer8/eval_session/3_soul-groove3_86_beat_4-4.mid.\n"
     ]
    },
    {
     "name": "stderr",
     "output_type": "stream",
     "text": [
      "INFO:tensorflow:Converted MIDI file /data/heerak/music_vae/groove/drummer8/eval_session/3_soul-groove3_86_beat_4-4.mid.\n"
     ]
    },
    {
     "name": "stdout",
     "output_type": "stream",
     "text": [
      "INFO:tensorflow:Converted MIDI file /data/heerak/music_vae/groove/drummer8/eval_session/9_soul-groove9_105_beat_4-4.mid.\n"
     ]
    },
    {
     "name": "stderr",
     "output_type": "stream",
     "text": [
      "INFO:tensorflow:Converted MIDI file /data/heerak/music_vae/groove/drummer8/eval_session/9_soul-groove9_105_beat_4-4.mid.\n"
     ]
    },
    {
     "name": "stdout",
     "output_type": "stream",
     "text": [
      "INFO:tensorflow:Converted MIDI file /data/heerak/music_vae/groove/drummer8/eval_session/2_funk-groove2_105_beat_4-4.mid.\n"
     ]
    },
    {
     "name": "stderr",
     "output_type": "stream",
     "text": [
      "INFO:tensorflow:Converted MIDI file /data/heerak/music_vae/groove/drummer8/eval_session/2_funk-groove2_105_beat_4-4.mid.\n"
     ]
    },
    {
     "name": "stdout",
     "output_type": "stream",
     "text": [
      "INFO:tensorflow:Converted MIDI file /data/heerak/music_vae/groove/drummer8/eval_session/4_soul-groove4_80_beat_4-4.mid.\n"
     ]
    },
    {
     "name": "stderr",
     "output_type": "stream",
     "text": [
      "INFO:tensorflow:Converted MIDI file /data/heerak/music_vae/groove/drummer8/eval_session/4_soul-groove4_80_beat_4-4.mid.\n"
     ]
    },
    {
     "name": "stdout",
     "output_type": "stream",
     "text": [
      "INFO:tensorflow:Converted MIDI file /data/heerak/music_vae/groove/drummer8/eval_session/7_pop-groove7_138_beat_4-4.mid.\n"
     ]
    },
    {
     "name": "stderr",
     "output_type": "stream",
     "text": [
      "INFO:tensorflow:Converted MIDI file /data/heerak/music_vae/groove/drummer8/eval_session/7_pop-groove7_138_beat_4-4.mid.\n"
     ]
    },
    {
     "name": "stdout",
     "output_type": "stream",
     "text": [
      "INFO:tensorflow:Converted MIDI file /data/heerak/music_vae/groove/drummer8/eval_session/8_rock-groove8_65_beat_4-4.mid.\n"
     ]
    },
    {
     "name": "stderr",
     "output_type": "stream",
     "text": [
      "INFO:tensorflow:Converted MIDI file /data/heerak/music_vae/groove/drummer8/eval_session/8_rock-groove8_65_beat_4-4.mid.\n"
     ]
    },
    {
     "name": "stdout",
     "output_type": "stream",
     "text": [
      "WARNING:tensorflow:Unable to find a converter for file /data/heerak/music_vae/groove/drummer8/eval_session/Icon\n"
     ]
    },
    {
     "name": "stderr",
     "output_type": "stream",
     "text": [
      "WARNING:tensorflow:Unable to find a converter for file /data/heerak/music_vae/groove/drummer8/eval_session/Icon\n"
     ]
    },
    {
     "name": "stdout",
     "output_type": "stream",
     "text": [
      "INFO:tensorflow:Converted MIDI file /data/heerak/music_vae/groove/drummer8/eval_session/5_funk-groove5_84_beat_4-4.mid.\n"
     ]
    },
    {
     "name": "stderr",
     "output_type": "stream",
     "text": [
      "INFO:tensorflow:Converted MIDI file /data/heerak/music_vae/groove/drummer8/eval_session/5_funk-groove5_84_beat_4-4.mid.\n"
     ]
    },
    {
     "name": "stdout",
     "output_type": "stream",
     "text": [
      "INFO:tensorflow:Converting files in '/data/heerak/music_vae/groove/drummer8/session1'.\n"
     ]
    },
    {
     "name": "stderr",
     "output_type": "stream",
     "text": [
      "INFO:tensorflow:Converting files in '/data/heerak/music_vae/groove/drummer8/session1'.\n"
     ]
    },
    {
     "name": "stdout",
     "output_type": "stream",
     "text": [
      "INFO:tensorflow:Converted MIDI file /data/heerak/music_vae/groove/drummer8/session1/6_funk_80_beat_4-4.mid.\n"
     ]
    },
    {
     "name": "stderr",
     "output_type": "stream",
     "text": [
      "INFO:tensorflow:Converted MIDI file /data/heerak/music_vae/groove/drummer8/session1/6_funk_80_beat_4-4.mid.\n"
     ]
    },
    {
     "name": "stdout",
     "output_type": "stream",
     "text": [
      "INFO:tensorflow:Converted MIDI file /data/heerak/music_vae/groove/drummer8/session1/2_funk_95_beat_4-4.mid.\n"
     ]
    },
    {
     "name": "stderr",
     "output_type": "stream",
     "text": [
      "INFO:tensorflow:Converted MIDI file /data/heerak/music_vae/groove/drummer8/session1/2_funk_95_beat_4-4.mid.\n"
     ]
    },
    {
     "name": "stdout",
     "output_type": "stream",
     "text": [
      "INFO:tensorflow:Converted MIDI file /data/heerak/music_vae/groove/drummer8/session1/13_latin_118_beat_4-4.mid.\n"
     ]
    },
    {
     "name": "stderr",
     "output_type": "stream",
     "text": [
      "INFO:tensorflow:Converted MIDI file /data/heerak/music_vae/groove/drummer8/session1/13_latin_118_beat_4-4.mid.\n"
     ]
    },
    {
     "name": "stdout",
     "output_type": "stream",
     "text": [
      "INFO:tensorflow:Converted MIDI file /data/heerak/music_vae/groove/drummer8/session1/26_afrobeat_94_beat_4-4.mid.\n"
     ]
    },
    {
     "name": "stderr",
     "output_type": "stream",
     "text": [
      "INFO:tensorflow:Converted MIDI file /data/heerak/music_vae/groove/drummer8/session1/26_afrobeat_94_beat_4-4.mid.\n"
     ]
    },
    {
     "name": "stdout",
     "output_type": "stream",
     "text": [
      "INFO:tensorflow:Converted MIDI file /data/heerak/music_vae/groove/drummer8/session1/21_rock-shuffle_112_beat_4-4.mid.\n"
     ]
    },
    {
     "name": "stderr",
     "output_type": "stream",
     "text": [
      "INFO:tensorflow:Converted MIDI file /data/heerak/music_vae/groove/drummer8/session1/21_rock-shuffle_112_beat_4-4.mid.\n"
     ]
    },
    {
     "name": "stdout",
     "output_type": "stream",
     "text": [
      "INFO:tensorflow:Converted MIDI file /data/heerak/music_vae/groove/drummer8/session1/27_latin_122_beat_4-4.mid.\n"
     ]
    },
    {
     "name": "stderr",
     "output_type": "stream",
     "text": [
      "INFO:tensorflow:Converted MIDI file /data/heerak/music_vae/groove/drummer8/session1/27_latin_122_beat_4-4.mid.\n"
     ]
    },
    {
     "name": "stdout",
     "output_type": "stream",
     "text": [
      "INFO:tensorflow:Converted MIDI file /data/heerak/music_vae/groove/drummer8/session1/12_latin_118_beat_4-4.mid.\n"
     ]
    },
    {
     "name": "stderr",
     "output_type": "stream",
     "text": [
      "INFO:tensorflow:Converted MIDI file /data/heerak/music_vae/groove/drummer8/session1/12_latin_118_beat_4-4.mid.\n"
     ]
    },
    {
     "name": "stdout",
     "output_type": "stream",
     "text": [
      "INFO:tensorflow:Converted MIDI file /data/heerak/music_vae/groove/drummer8/session1/4_hiphop_90_beat_4-4.mid.\n"
     ]
    },
    {
     "name": "stderr",
     "output_type": "stream",
     "text": [
      "INFO:tensorflow:Converted MIDI file /data/heerak/music_vae/groove/drummer8/session1/4_hiphop_90_beat_4-4.mid.\n"
     ]
    },
    {
     "name": "stdout",
     "output_type": "stream",
     "text": [
      "INFO:tensorflow:Converted MIDI file /data/heerak/music_vae/groove/drummer8/session1/1_funk_95_beat_4-4.mid.\n"
     ]
    },
    {
     "name": "stderr",
     "output_type": "stream",
     "text": [
      "INFO:tensorflow:Converted MIDI file /data/heerak/music_vae/groove/drummer8/session1/1_funk_95_beat_4-4.mid.\n"
     ]
    },
    {
     "name": "stdout",
     "output_type": "stream",
     "text": [
      "INFO:tensorflow:Converted MIDI file /data/heerak/music_vae/groove/drummer8/session1/5_hiphop_90_beat_4-4.mid.\n"
     ]
    },
    {
     "name": "stderr",
     "output_type": "stream",
     "text": [
      "INFO:tensorflow:Converted MIDI file /data/heerak/music_vae/groove/drummer8/session1/5_hiphop_90_beat_4-4.mid.\n"
     ]
    },
    {
     "name": "stdout",
     "output_type": "stream",
     "text": [
      "INFO:tensorflow:Converted MIDI file /data/heerak/music_vae/groove/drummer8/session1/8_funk_96_beat_4-4.mid.\n"
     ]
    },
    {
     "name": "stderr",
     "output_type": "stream",
     "text": [
      "INFO:tensorflow:Converted MIDI file /data/heerak/music_vae/groove/drummer8/session1/8_funk_96_beat_4-4.mid.\n"
     ]
    },
    {
     "name": "stdout",
     "output_type": "stream",
     "text": [
      "INFO:tensorflow:Converted MIDI file /data/heerak/music_vae/groove/drummer8/session1/23_hiphop_70_beat_4-4.mid.\n"
     ]
    },
    {
     "name": "stderr",
     "output_type": "stream",
     "text": [
      "INFO:tensorflow:Converted MIDI file /data/heerak/music_vae/groove/drummer8/session1/23_hiphop_70_beat_4-4.mid.\n"
     ]
    },
    {
     "name": "stdout",
     "output_type": "stream",
     "text": [
      "INFO:tensorflow:Converted MIDI file /data/heerak/music_vae/groove/drummer8/session1/14_hiphop_94_beat_4-4.mid.\n"
     ]
    },
    {
     "name": "stderr",
     "output_type": "stream",
     "text": [
      "INFO:tensorflow:Converted MIDI file /data/heerak/music_vae/groove/drummer8/session1/14_hiphop_94_beat_4-4.mid.\n"
     ]
    },
    {
     "name": "stdout",
     "output_type": "stream",
     "text": [
      "INFO:tensorflow:Converted MIDI file /data/heerak/music_vae/groove/drummer8/session1/3_hiphop_90_beat_4-4.mid.\n"
     ]
    },
    {
     "name": "stderr",
     "output_type": "stream",
     "text": [
      "INFO:tensorflow:Converted MIDI file /data/heerak/music_vae/groove/drummer8/session1/3_hiphop_90_beat_4-4.mid.\n"
     ]
    },
    {
     "name": "stdout",
     "output_type": "stream",
     "text": [
      "INFO:tensorflow:Converted MIDI file /data/heerak/music_vae/groove/drummer8/session1/18_funk_108_beat_4-4.mid.\n"
     ]
    },
    {
     "name": "stderr",
     "output_type": "stream",
     "text": [
      "INFO:tensorflow:Converted MIDI file /data/heerak/music_vae/groove/drummer8/session1/18_funk_108_beat_4-4.mid.\n"
     ]
    },
    {
     "name": "stdout",
     "output_type": "stream",
     "text": [
      "INFO:tensorflow:Converted MIDI file /data/heerak/music_vae/groove/drummer8/session1/10_neworleans-funk_82_beat_4-4.mid.\n"
     ]
    },
    {
     "name": "stderr",
     "output_type": "stream",
     "text": [
      "INFO:tensorflow:Converted MIDI file /data/heerak/music_vae/groove/drummer8/session1/10_neworleans-funk_82_beat_4-4.mid.\n"
     ]
    },
    {
     "name": "stdout",
     "output_type": "stream",
     "text": [
      "INFO:tensorflow:Converted MIDI file /data/heerak/music_vae/groove/drummer8/session1/11_neworleans-funk_82_beat_4-4.mid.\n"
     ]
    },
    {
     "name": "stderr",
     "output_type": "stream",
     "text": [
      "INFO:tensorflow:Converted MIDI file /data/heerak/music_vae/groove/drummer8/session1/11_neworleans-funk_82_beat_4-4.mid.\n"
     ]
    },
    {
     "name": "stdout",
     "output_type": "stream",
     "text": [
      "INFO:tensorflow:Converted MIDI file /data/heerak/music_vae/groove/drummer8/session1/7_funk_80_beat_4-4.mid.\n"
     ]
    },
    {
     "name": "stderr",
     "output_type": "stream",
     "text": [
      "INFO:tensorflow:Converted MIDI file /data/heerak/music_vae/groove/drummer8/session1/7_funk_80_beat_4-4.mid.\n"
     ]
    },
    {
     "name": "stdout",
     "output_type": "stream",
     "text": [
      "INFO:tensorflow:Converted MIDI file /data/heerak/music_vae/groove/drummer8/session1/19_funk_108_beat_4-4.mid.\n"
     ]
    },
    {
     "name": "stderr",
     "output_type": "stream",
     "text": [
      "INFO:tensorflow:Converted MIDI file /data/heerak/music_vae/groove/drummer8/session1/19_funk_108_beat_4-4.mid.\n"
     ]
    },
    {
     "name": "stdout",
     "output_type": "stream",
     "text": [
      "INFO:tensorflow:Converted MIDI file /data/heerak/music_vae/groove/drummer8/session1/16_afrobeat_90_beat_4-4.mid.\n"
     ]
    },
    {
     "name": "stderr",
     "output_type": "stream",
     "text": [
      "INFO:tensorflow:Converted MIDI file /data/heerak/music_vae/groove/drummer8/session1/16_afrobeat_90_beat_4-4.mid.\n"
     ]
    },
    {
     "name": "stdout",
     "output_type": "stream",
     "text": [
      "INFO:tensorflow:Converted MIDI file /data/heerak/music_vae/groove/drummer8/session1/15_hiphop_94_beat_4-4.mid.\n"
     ]
    },
    {
     "name": "stderr",
     "output_type": "stream",
     "text": [
      "INFO:tensorflow:Converted MIDI file /data/heerak/music_vae/groove/drummer8/session1/15_hiphop_94_beat_4-4.mid.\n"
     ]
    },
    {
     "name": "stdout",
     "output_type": "stream",
     "text": [
      "INFO:tensorflow:Converted MIDI file /data/heerak/music_vae/groove/drummer8/session1/25_funk-latin_100_beat_4-4.mid.\n"
     ]
    },
    {
     "name": "stderr",
     "output_type": "stream",
     "text": [
      "INFO:tensorflow:Converted MIDI file /data/heerak/music_vae/groove/drummer8/session1/25_funk-latin_100_beat_4-4.mid.\n"
     ]
    },
    {
     "name": "stdout",
     "output_type": "stream",
     "text": [
      "INFO:tensorflow:Converted MIDI file /data/heerak/music_vae/groove/drummer8/session1/22_funk_115_beat_4-4.mid.\n"
     ]
    },
    {
     "name": "stderr",
     "output_type": "stream",
     "text": [
      "INFO:tensorflow:Converted MIDI file /data/heerak/music_vae/groove/drummer8/session1/22_funk_115_beat_4-4.mid.\n"
     ]
    },
    {
     "name": "stdout",
     "output_type": "stream",
     "text": [
      "INFO:tensorflow:Converted MIDI file /data/heerak/music_vae/groove/drummer8/session1/17_afrobeat_90_beat_4-4.mid.\n"
     ]
    },
    {
     "name": "stderr",
     "output_type": "stream",
     "text": [
      "INFO:tensorflow:Converted MIDI file /data/heerak/music_vae/groove/drummer8/session1/17_afrobeat_90_beat_4-4.mid.\n"
     ]
    },
    {
     "name": "stdout",
     "output_type": "stream",
     "text": [
      "INFO:tensorflow:Converted MIDI file /data/heerak/music_vae/groove/drummer8/session1/24_funk-latin_100_beat_4-4.mid.\n"
     ]
    },
    {
     "name": "stderr",
     "output_type": "stream",
     "text": [
      "INFO:tensorflow:Converted MIDI file /data/heerak/music_vae/groove/drummer8/session1/24_funk-latin_100_beat_4-4.mid.\n"
     ]
    },
    {
     "name": "stdout",
     "output_type": "stream",
     "text": [
      "WARNING:tensorflow:Unable to find a converter for file /data/heerak/music_vae/groove/drummer8/session1/Icon\n"
     ]
    },
    {
     "name": "stderr",
     "output_type": "stream",
     "text": [
      "WARNING:tensorflow:Unable to find a converter for file /data/heerak/music_vae/groove/drummer8/session1/Icon\n"
     ]
    },
    {
     "name": "stdout",
     "output_type": "stream",
     "text": [
      "INFO:tensorflow:Converted MIDI file /data/heerak/music_vae/groove/drummer8/session1/28_rock_102_beat_4-4.mid.\n"
     ]
    },
    {
     "name": "stderr",
     "output_type": "stream",
     "text": [
      "INFO:tensorflow:Converted MIDI file /data/heerak/music_vae/groove/drummer8/session1/28_rock_102_beat_4-4.mid.\n"
     ]
    },
    {
     "name": "stdout",
     "output_type": "stream",
     "text": [
      "INFO:tensorflow:Converted MIDI file /data/heerak/music_vae/groove/drummer8/session1/9_funk_96_beat_4-4.mid.\n"
     ]
    },
    {
     "name": "stderr",
     "output_type": "stream",
     "text": [
      "INFO:tensorflow:Converted MIDI file /data/heerak/music_vae/groove/drummer8/session1/9_funk_96_beat_4-4.mid.\n"
     ]
    },
    {
     "name": "stdout",
     "output_type": "stream",
     "text": [
      "INFO:tensorflow:Converted MIDI file /data/heerak/music_vae/groove/drummer8/session1/20_rock-shuffle_112_beat_4-4.mid.\n"
     ]
    },
    {
     "name": "stderr",
     "output_type": "stream",
     "text": [
      "INFO:tensorflow:Converted MIDI file /data/heerak/music_vae/groove/drummer8/session1/20_rock-shuffle_112_beat_4-4.mid.\n"
     ]
    },
    {
     "name": "stdout",
     "output_type": "stream",
     "text": [
      "INFO:tensorflow:Converting files in '/data/heerak/music_vae/groove/drummer6'.\n"
     ]
    },
    {
     "name": "stderr",
     "output_type": "stream",
     "text": [
      "INFO:tensorflow:Converting files in '/data/heerak/music_vae/groove/drummer6'.\n"
     ]
    },
    {
     "name": "stdout",
     "output_type": "stream",
     "text": [
      "WARNING:tensorflow:Unable to find a converter for file /data/heerak/music_vae/groove/drummer6/Icon\n"
     ]
    },
    {
     "name": "stderr",
     "output_type": "stream",
     "text": [
      "WARNING:tensorflow:Unable to find a converter for file /data/heerak/music_vae/groove/drummer6/Icon\n"
     ]
    },
    {
     "name": "stdout",
     "output_type": "stream",
     "text": [
      "INFO:tensorflow:Converting files in '/data/heerak/music_vae/groove/drummer6/session2'.\n"
     ]
    },
    {
     "name": "stderr",
     "output_type": "stream",
     "text": [
      "INFO:tensorflow:Converting files in '/data/heerak/music_vae/groove/drummer6/session2'.\n"
     ]
    },
    {
     "name": "stdout",
     "output_type": "stream",
     "text": [
      "INFO:tensorflow:Converted MIDI file /data/heerak/music_vae/groove/drummer6/session2/2_rock_95_beat_4-4.mid.\n"
     ]
    },
    {
     "name": "stderr",
     "output_type": "stream",
     "text": [
      "INFO:tensorflow:Converted MIDI file /data/heerak/music_vae/groove/drummer6/session2/2_rock_95_beat_4-4.mid.\n"
     ]
    },
    {
     "name": "stdout",
     "output_type": "stream",
     "text": [
      "INFO:tensorflow:Converted MIDI file /data/heerak/music_vae/groove/drummer6/session2/1_rock_95_beat_4-4.mid.\n"
     ]
    },
    {
     "name": "stderr",
     "output_type": "stream",
     "text": [
      "INFO:tensorflow:Converted MIDI file /data/heerak/music_vae/groove/drummer6/session2/1_rock_95_beat_4-4.mid.\n"
     ]
    },
    {
     "name": "stdout",
     "output_type": "stream",
     "text": [
      "INFO:tensorflow:Converted MIDI file /data/heerak/music_vae/groove/drummer6/session2/3_rock_88_beat_4-4.mid.\n"
     ]
    },
    {
     "name": "stderr",
     "output_type": "stream",
     "text": [
      "INFO:tensorflow:Converted MIDI file /data/heerak/music_vae/groove/drummer6/session2/3_rock_88_beat_4-4.mid.\n"
     ]
    },
    {
     "name": "stdout",
     "output_type": "stream",
     "text": [
      "WARNING:tensorflow:Unable to find a converter for file /data/heerak/music_vae/groove/drummer6/session2/Icon\n"
     ]
    },
    {
     "name": "stderr",
     "output_type": "stream",
     "text": [
      "WARNING:tensorflow:Unable to find a converter for file /data/heerak/music_vae/groove/drummer6/session2/Icon\n"
     ]
    },
    {
     "name": "stdout",
     "output_type": "stream",
     "text": [
      "INFO:tensorflow:Converting files in '/data/heerak/music_vae/groove/drummer6/session3'.\n"
     ]
    },
    {
     "name": "stderr",
     "output_type": "stream",
     "text": [
      "INFO:tensorflow:Converting files in '/data/heerak/music_vae/groove/drummer6/session3'.\n"
     ]
    },
    {
     "name": "stdout",
     "output_type": "stream",
     "text": [
      "INFO:tensorflow:Converted MIDI file /data/heerak/music_vae/groove/drummer6/session3/7_rock_88_beat_4-4.mid.\n"
     ]
    },
    {
     "name": "stderr",
     "output_type": "stream",
     "text": [
      "INFO:tensorflow:Converted MIDI file /data/heerak/music_vae/groove/drummer6/session3/7_rock_88_beat_4-4.mid.\n"
     ]
    },
    {
     "name": "stdout",
     "output_type": "stream",
     "text": [
      "INFO:tensorflow:Converted MIDI file /data/heerak/music_vae/groove/drummer6/session3/4_rock_127_beat_4-4.mid.\n"
     ]
    },
    {
     "name": "stderr",
     "output_type": "stream",
     "text": [
      "INFO:tensorflow:Converted MIDI file /data/heerak/music_vae/groove/drummer6/session3/4_rock_127_beat_4-4.mid.\n"
     ]
    },
    {
     "name": "stdout",
     "output_type": "stream",
     "text": [
      "INFO:tensorflow:Converted MIDI file /data/heerak/music_vae/groove/drummer6/session3/1_rock_90_beat_4-4.mid.\n"
     ]
    },
    {
     "name": "stderr",
     "output_type": "stream",
     "text": [
      "INFO:tensorflow:Converted MIDI file /data/heerak/music_vae/groove/drummer6/session3/1_rock_90_beat_4-4.mid.\n"
     ]
    },
    {
     "name": "stdout",
     "output_type": "stream",
     "text": [
      "INFO:tensorflow:Converted MIDI file /data/heerak/music_vae/groove/drummer6/session3/2_rock_100_beat_4-4.mid.\n"
     ]
    },
    {
     "name": "stderr",
     "output_type": "stream",
     "text": [
      "INFO:tensorflow:Converted MIDI file /data/heerak/music_vae/groove/drummer6/session3/2_rock_100_beat_4-4.mid.\n"
     ]
    },
    {
     "name": "stdout",
     "output_type": "stream",
     "text": [
      "INFO:tensorflow:Converted MIDI file /data/heerak/music_vae/groove/drummer6/session3/6_rock_88_beat_4-4.mid.\n"
     ]
    },
    {
     "name": "stderr",
     "output_type": "stream",
     "text": [
      "INFO:tensorflow:Converted MIDI file /data/heerak/music_vae/groove/drummer6/session3/6_rock_88_beat_4-4.mid.\n"
     ]
    },
    {
     "name": "stdout",
     "output_type": "stream",
     "text": [
      "INFO:tensorflow:Converted MIDI file /data/heerak/music_vae/groove/drummer6/session3/3_rock_100_beat_4-4.mid.\n"
     ]
    },
    {
     "name": "stderr",
     "output_type": "stream",
     "text": [
      "INFO:tensorflow:Converted MIDI file /data/heerak/music_vae/groove/drummer6/session3/3_rock_100_beat_4-4.mid.\n"
     ]
    },
    {
     "name": "stdout",
     "output_type": "stream",
     "text": [
      "WARNING:tensorflow:Unable to find a converter for file /data/heerak/music_vae/groove/drummer6/session3/Icon\n"
     ]
    },
    {
     "name": "stderr",
     "output_type": "stream",
     "text": [
      "WARNING:tensorflow:Unable to find a converter for file /data/heerak/music_vae/groove/drummer6/session3/Icon\n"
     ]
    },
    {
     "name": "stdout",
     "output_type": "stream",
     "text": [
      "INFO:tensorflow:Converted MIDI file /data/heerak/music_vae/groove/drummer6/session3/5_rock_180_beat_4-4.mid.\n"
     ]
    },
    {
     "name": "stderr",
     "output_type": "stream",
     "text": [
      "INFO:tensorflow:Converted MIDI file /data/heerak/music_vae/groove/drummer6/session3/5_rock_180_beat_4-4.mid.\n"
     ]
    },
    {
     "name": "stdout",
     "output_type": "stream",
     "text": [
      "INFO:tensorflow:Converting files in '/data/heerak/music_vae/groove/drummer6/session1'.\n"
     ]
    },
    {
     "name": "stderr",
     "output_type": "stream",
     "text": [
      "INFO:tensorflow:Converting files in '/data/heerak/music_vae/groove/drummer6/session1'.\n"
     ]
    },
    {
     "name": "stdout",
     "output_type": "stream",
     "text": [
      "INFO:tensorflow:Converted MIDI file /data/heerak/music_vae/groove/drummer6/session1/5_rock_60_beat_6-8.mid.\n"
     ]
    },
    {
     "name": "stderr",
     "output_type": "stream",
     "text": [
      "INFO:tensorflow:Converted MIDI file /data/heerak/music_vae/groove/drummer6/session1/5_rock_60_beat_6-8.mid.\n"
     ]
    },
    {
     "name": "stdout",
     "output_type": "stream",
     "text": [
      "INFO:tensorflow:Converted MIDI file /data/heerak/music_vae/groove/drummer6/session1/4_rock_80_beat_6-8.mid.\n"
     ]
    },
    {
     "name": "stderr",
     "output_type": "stream",
     "text": [
      "INFO:tensorflow:Converted MIDI file /data/heerak/music_vae/groove/drummer6/session1/4_rock_80_beat_6-8.mid.\n"
     ]
    },
    {
     "name": "stdout",
     "output_type": "stream",
     "text": [
      "INFO:tensorflow:Converted MIDI file /data/heerak/music_vae/groove/drummer6/session1/3_rock_80_beat_6-8.mid.\n"
     ]
    },
    {
     "name": "stderr",
     "output_type": "stream",
     "text": [
      "INFO:tensorflow:Converted MIDI file /data/heerak/music_vae/groove/drummer6/session1/3_rock_80_beat_6-8.mid.\n"
     ]
    },
    {
     "name": "stdout",
     "output_type": "stream",
     "text": [
      "INFO:tensorflow:Converted MIDI file /data/heerak/music_vae/groove/drummer6/session1/2_rock_70_beat_6-8.mid.\n"
     ]
    },
    {
     "name": "stderr",
     "output_type": "stream",
     "text": [
      "INFO:tensorflow:Converted MIDI file /data/heerak/music_vae/groove/drummer6/session1/2_rock_70_beat_6-8.mid.\n"
     ]
    },
    {
     "name": "stdout",
     "output_type": "stream",
     "text": [
      "WARNING:tensorflow:Unable to find a converter for file /data/heerak/music_vae/groove/drummer6/session1/Icon\n"
     ]
    },
    {
     "name": "stderr",
     "output_type": "stream",
     "text": [
      "WARNING:tensorflow:Unable to find a converter for file /data/heerak/music_vae/groove/drummer6/session1/Icon\n"
     ]
    },
    {
     "name": "stdout",
     "output_type": "stream",
     "text": [
      "INFO:tensorflow:Converted MIDI file /data/heerak/music_vae/groove/drummer6/session1/1_rock_70_beat_6-8.mid.\n"
     ]
    },
    {
     "name": "stderr",
     "output_type": "stream",
     "text": [
      "INFO:tensorflow:Converted MIDI file /data/heerak/music_vae/groove/drummer6/session1/1_rock_70_beat_6-8.mid.\n"
     ]
    },
    {
     "name": "stdout",
     "output_type": "stream",
     "text": [
      "INFO:tensorflow:Converting files in '/data/heerak/music_vae/groove/drummer9'.\n"
     ]
    },
    {
     "name": "stderr",
     "output_type": "stream",
     "text": [
      "INFO:tensorflow:Converting files in '/data/heerak/music_vae/groove/drummer9'.\n"
     ]
    },
    {
     "name": "stdout",
     "output_type": "stream",
     "text": [
      "WARNING:tensorflow:Unable to find a converter for file /data/heerak/music_vae/groove/drummer9/Icon\n"
     ]
    },
    {
     "name": "stderr",
     "output_type": "stream",
     "text": [
      "WARNING:tensorflow:Unable to find a converter for file /data/heerak/music_vae/groove/drummer9/Icon\n"
     ]
    },
    {
     "name": "stdout",
     "output_type": "stream",
     "text": [
      "INFO:tensorflow:Converting files in '/data/heerak/music_vae/groove/drummer9/session1'.\n"
     ]
    },
    {
     "name": "stderr",
     "output_type": "stream",
     "text": [
      "INFO:tensorflow:Converting files in '/data/heerak/music_vae/groove/drummer9/session1'.\n"
     ]
    },
    {
     "name": "stdout",
     "output_type": "stream",
     "text": [
      "INFO:tensorflow:Converted MIDI file /data/heerak/music_vae/groove/drummer9/session1/4_rock_100_beat_4-4.mid.\n"
     ]
    },
    {
     "name": "stderr",
     "output_type": "stream",
     "text": [
      "INFO:tensorflow:Converted MIDI file /data/heerak/music_vae/groove/drummer9/session1/4_rock_100_beat_4-4.mid.\n"
     ]
    },
    {
     "name": "stdout",
     "output_type": "stream",
     "text": [
      "INFO:tensorflow:Converted MIDI file /data/heerak/music_vae/groove/drummer9/session1/27_rock_90_beat_4-4.mid.\n"
     ]
    },
    {
     "name": "stderr",
     "output_type": "stream",
     "text": [
      "INFO:tensorflow:Converted MIDI file /data/heerak/music_vae/groove/drummer9/session1/27_rock_90_beat_4-4.mid.\n"
     ]
    },
    {
     "name": "stdout",
     "output_type": "stream",
     "text": [
      "INFO:tensorflow:Converted MIDI file /data/heerak/music_vae/groove/drummer9/session1/9_rock_100_beat_4-4.mid.\n"
     ]
    },
    {
     "name": "stderr",
     "output_type": "stream",
     "text": [
      "INFO:tensorflow:Converted MIDI file /data/heerak/music_vae/groove/drummer9/session1/9_rock_100_beat_4-4.mid.\n"
     ]
    },
    {
     "name": "stdout",
     "output_type": "stream",
     "text": [
      "INFO:tensorflow:Converted MIDI file /data/heerak/music_vae/groove/drummer9/session1/12_rock_100_beat_4-4.mid.\n"
     ]
    },
    {
     "name": "stderr",
     "output_type": "stream",
     "text": [
      "INFO:tensorflow:Converted MIDI file /data/heerak/music_vae/groove/drummer9/session1/12_rock_100_beat_4-4.mid.\n"
     ]
    },
    {
     "name": "stdout",
     "output_type": "stream",
     "text": [
      "INFO:tensorflow:Converted MIDI file /data/heerak/music_vae/groove/drummer9/session1/6_rock_100_beat_4-4.mid.\n"
     ]
    },
    {
     "name": "stderr",
     "output_type": "stream",
     "text": [
      "INFO:tensorflow:Converted MIDI file /data/heerak/music_vae/groove/drummer9/session1/6_rock_100_beat_4-4.mid.\n"
     ]
    },
    {
     "name": "stdout",
     "output_type": "stream",
     "text": [
      "INFO:tensorflow:Converted MIDI file /data/heerak/music_vae/groove/drummer9/session1/29_rock_90_beat_4-4.mid.\n"
     ]
    },
    {
     "name": "stderr",
     "output_type": "stream",
     "text": [
      "INFO:tensorflow:Converted MIDI file /data/heerak/music_vae/groove/drummer9/session1/29_rock_90_beat_4-4.mid.\n"
     ]
    },
    {
     "name": "stdout",
     "output_type": "stream",
     "text": [
      "INFO:tensorflow:Converted MIDI file /data/heerak/music_vae/groove/drummer9/session1/17_rock_120_beat_4-4.mid.\n"
     ]
    },
    {
     "name": "stderr",
     "output_type": "stream",
     "text": [
      "INFO:tensorflow:Converted MIDI file /data/heerak/music_vae/groove/drummer9/session1/17_rock_120_beat_4-4.mid.\n"
     ]
    },
    {
     "name": "stdout",
     "output_type": "stream",
     "text": [
      "INFO:tensorflow:Converted MIDI file /data/heerak/music_vae/groove/drummer9/session1/10_rock_100_beat_4-4.mid.\n"
     ]
    },
    {
     "name": "stderr",
     "output_type": "stream",
     "text": [
      "INFO:tensorflow:Converted MIDI file /data/heerak/music_vae/groove/drummer9/session1/10_rock_100_beat_4-4.mid.\n"
     ]
    },
    {
     "name": "stdout",
     "output_type": "stream",
     "text": [
      "INFO:tensorflow:Converted MIDI file /data/heerak/music_vae/groove/drummer9/session1/1_rock_100_beat_4-4.mid.\n"
     ]
    },
    {
     "name": "stderr",
     "output_type": "stream",
     "text": [
      "INFO:tensorflow:Converted MIDI file /data/heerak/music_vae/groove/drummer9/session1/1_rock_100_beat_4-4.mid.\n"
     ]
    },
    {
     "name": "stdout",
     "output_type": "stream",
     "text": [
      "INFO:tensorflow:Converted MIDI file /data/heerak/music_vae/groove/drummer9/session1/2_rock_100_beat_4-4.mid.\n"
     ]
    },
    {
     "name": "stderr",
     "output_type": "stream",
     "text": [
      "INFO:tensorflow:Converted MIDI file /data/heerak/music_vae/groove/drummer9/session1/2_rock_100_beat_4-4.mid.\n"
     ]
    },
    {
     "name": "stdout",
     "output_type": "stream",
     "text": [
      "INFO:tensorflow:Converted MIDI file /data/heerak/music_vae/groove/drummer9/session1/26_rock_90_beat_4-4.mid.\n"
     ]
    },
    {
     "name": "stderr",
     "output_type": "stream",
     "text": [
      "INFO:tensorflow:Converted MIDI file /data/heerak/music_vae/groove/drummer9/session1/26_rock_90_beat_4-4.mid.\n"
     ]
    },
    {
     "name": "stdout",
     "output_type": "stream",
     "text": [
      "INFO:tensorflow:Converted MIDI file /data/heerak/music_vae/groove/drummer9/session1/13_rock_120_beat_4-4.mid.\n"
     ]
    },
    {
     "name": "stderr",
     "output_type": "stream",
     "text": [
      "INFO:tensorflow:Converted MIDI file /data/heerak/music_vae/groove/drummer9/session1/13_rock_120_beat_4-4.mid.\n"
     ]
    },
    {
     "name": "stdout",
     "output_type": "stream",
     "text": [
      "INFO:tensorflow:Converted MIDI file /data/heerak/music_vae/groove/drummer9/session1/19_rock_120_beat_4-4.mid.\n"
     ]
    },
    {
     "name": "stderr",
     "output_type": "stream",
     "text": [
      "INFO:tensorflow:Converted MIDI file /data/heerak/music_vae/groove/drummer9/session1/19_rock_120_beat_4-4.mid.\n"
     ]
    },
    {
     "name": "stdout",
     "output_type": "stream",
     "text": [
      "INFO:tensorflow:Converted MIDI file /data/heerak/music_vae/groove/drummer9/session1/16_rock_120_beat_4-4.mid.\n"
     ]
    },
    {
     "name": "stderr",
     "output_type": "stream",
     "text": [
      "INFO:tensorflow:Converted MIDI file /data/heerak/music_vae/groove/drummer9/session1/16_rock_120_beat_4-4.mid.\n"
     ]
    },
    {
     "name": "stdout",
     "output_type": "stream",
     "text": [
      "INFO:tensorflow:Converted MIDI file /data/heerak/music_vae/groove/drummer9/session1/30_rock_90_beat_4-4.mid.\n"
     ]
    },
    {
     "name": "stderr",
     "output_type": "stream",
     "text": [
      "INFO:tensorflow:Converted MIDI file /data/heerak/music_vae/groove/drummer9/session1/30_rock_90_beat_4-4.mid.\n"
     ]
    },
    {
     "name": "stdout",
     "output_type": "stream",
     "text": [
      "INFO:tensorflow:Converted MIDI file /data/heerak/music_vae/groove/drummer9/session1/11_rock_100_beat_4-4.mid.\n"
     ]
    },
    {
     "name": "stderr",
     "output_type": "stream",
     "text": [
      "INFO:tensorflow:Converted MIDI file /data/heerak/music_vae/groove/drummer9/session1/11_rock_100_beat_4-4.mid.\n"
     ]
    },
    {
     "name": "stdout",
     "output_type": "stream",
     "text": [
      "INFO:tensorflow:Converted MIDI file /data/heerak/music_vae/groove/drummer9/session1/5_rock_100_beat_4-4.mid.\n"
     ]
    },
    {
     "name": "stderr",
     "output_type": "stream",
     "text": [
      "INFO:tensorflow:Converted MIDI file /data/heerak/music_vae/groove/drummer9/session1/5_rock_100_beat_4-4.mid.\n"
     ]
    },
    {
     "name": "stdout",
     "output_type": "stream",
     "text": [
      "INFO:tensorflow:Converted MIDI file /data/heerak/music_vae/groove/drummer9/session1/25_rock_90_beat_4-4.mid.\n"
     ]
    },
    {
     "name": "stderr",
     "output_type": "stream",
     "text": [
      "INFO:tensorflow:Converted MIDI file /data/heerak/music_vae/groove/drummer9/session1/25_rock_90_beat_4-4.mid.\n"
     ]
    },
    {
     "name": "stdout",
     "output_type": "stream",
     "text": [
      "INFO:tensorflow:Converted MIDI file /data/heerak/music_vae/groove/drummer9/session1/18_rock_120_beat_4-4.mid.\n"
     ]
    },
    {
     "name": "stderr",
     "output_type": "stream",
     "text": [
      "INFO:tensorflow:Converted MIDI file /data/heerak/music_vae/groove/drummer9/session1/18_rock_120_beat_4-4.mid.\n"
     ]
    },
    {
     "name": "stdout",
     "output_type": "stream",
     "text": [
      "INFO:tensorflow:Converted MIDI file /data/heerak/music_vae/groove/drummer9/session1/21_rock_120_beat_4-4.mid.\n"
     ]
    },
    {
     "name": "stderr",
     "output_type": "stream",
     "text": [
      "INFO:tensorflow:Converted MIDI file /data/heerak/music_vae/groove/drummer9/session1/21_rock_120_beat_4-4.mid.\n"
     ]
    },
    {
     "name": "stdout",
     "output_type": "stream",
     "text": [
      "INFO:tensorflow:Converted MIDI file /data/heerak/music_vae/groove/drummer9/session1/24_rock_90_beat_4-4.mid.\n"
     ]
    },
    {
     "name": "stderr",
     "output_type": "stream",
     "text": [
      "INFO:tensorflow:Converted MIDI file /data/heerak/music_vae/groove/drummer9/session1/24_rock_90_beat_4-4.mid.\n"
     ]
    },
    {
     "name": "stdout",
     "output_type": "stream",
     "text": [
      "INFO:tensorflow:Converted MIDI file /data/heerak/music_vae/groove/drummer9/session1/14_rock_120_beat_4-4.mid.\n"
     ]
    },
    {
     "name": "stderr",
     "output_type": "stream",
     "text": [
      "INFO:tensorflow:Converted MIDI file /data/heerak/music_vae/groove/drummer9/session1/14_rock_120_beat_4-4.mid.\n"
     ]
    },
    {
     "name": "stdout",
     "output_type": "stream",
     "text": [
      "INFO:tensorflow:Converted MIDI file /data/heerak/music_vae/groove/drummer9/session1/20_rock_120_beat_4-4.mid.\n"
     ]
    },
    {
     "name": "stderr",
     "output_type": "stream",
     "text": [
      "INFO:tensorflow:Converted MIDI file /data/heerak/music_vae/groove/drummer9/session1/20_rock_120_beat_4-4.mid.\n"
     ]
    },
    {
     "name": "stdout",
     "output_type": "stream",
     "text": [
      "INFO:tensorflow:Converted MIDI file /data/heerak/music_vae/groove/drummer9/session1/15_rock_120_beat_4-4.mid.\n"
     ]
    },
    {
     "name": "stderr",
     "output_type": "stream",
     "text": [
      "INFO:tensorflow:Converted MIDI file /data/heerak/music_vae/groove/drummer9/session1/15_rock_120_beat_4-4.mid.\n"
     ]
    },
    {
     "name": "stdout",
     "output_type": "stream",
     "text": [
      "INFO:tensorflow:Converted MIDI file /data/heerak/music_vae/groove/drummer9/session1/3_rock_100_beat_4-4.mid.\n"
     ]
    },
    {
     "name": "stderr",
     "output_type": "stream",
     "text": [
      "INFO:tensorflow:Converted MIDI file /data/heerak/music_vae/groove/drummer9/session1/3_rock_100_beat_4-4.mid.\n"
     ]
    },
    {
     "name": "stdout",
     "output_type": "stream",
     "text": [
      "WARNING:tensorflow:Unable to find a converter for file /data/heerak/music_vae/groove/drummer9/session1/Icon\n"
     ]
    },
    {
     "name": "stderr",
     "output_type": "stream",
     "text": [
      "WARNING:tensorflow:Unable to find a converter for file /data/heerak/music_vae/groove/drummer9/session1/Icon\n"
     ]
    },
    {
     "name": "stdout",
     "output_type": "stream",
     "text": [
      "INFO:tensorflow:Converted MIDI file /data/heerak/music_vae/groove/drummer9/session1/23_rock_120_beat_4-4.mid.\n"
     ]
    },
    {
     "name": "stderr",
     "output_type": "stream",
     "text": [
      "INFO:tensorflow:Converted MIDI file /data/heerak/music_vae/groove/drummer9/session1/23_rock_120_beat_4-4.mid.\n"
     ]
    },
    {
     "name": "stdout",
     "output_type": "stream",
     "text": [
      "INFO:tensorflow:Converted MIDI file /data/heerak/music_vae/groove/drummer9/session1/8_rock_100_beat_4-4.mid.\n"
     ]
    },
    {
     "name": "stderr",
     "output_type": "stream",
     "text": [
      "INFO:tensorflow:Converted MIDI file /data/heerak/music_vae/groove/drummer9/session1/8_rock_100_beat_4-4.mid.\n"
     ]
    },
    {
     "name": "stdout",
     "output_type": "stream",
     "text": [
      "INFO:tensorflow:Converted MIDI file /data/heerak/music_vae/groove/drummer9/session1/28_rock_90_beat_4-4.mid.\n"
     ]
    },
    {
     "name": "stderr",
     "output_type": "stream",
     "text": [
      "INFO:tensorflow:Converted MIDI file /data/heerak/music_vae/groove/drummer9/session1/28_rock_90_beat_4-4.mid.\n"
     ]
    },
    {
     "name": "stdout",
     "output_type": "stream",
     "text": [
      "INFO:tensorflow:Converted MIDI file /data/heerak/music_vae/groove/drummer9/session1/22_rock_120_beat_4-4.mid.\n"
     ]
    },
    {
     "name": "stderr",
     "output_type": "stream",
     "text": [
      "INFO:tensorflow:Converted MIDI file /data/heerak/music_vae/groove/drummer9/session1/22_rock_120_beat_4-4.mid.\n"
     ]
    },
    {
     "name": "stdout",
     "output_type": "stream",
     "text": [
      "INFO:tensorflow:Converted MIDI file /data/heerak/music_vae/groove/drummer9/session1/7_rock_100_beat_4-4.mid.\n"
     ]
    },
    {
     "name": "stderr",
     "output_type": "stream",
     "text": [
      "INFO:tensorflow:Converted MIDI file /data/heerak/music_vae/groove/drummer9/session1/7_rock_100_beat_4-4.mid.\n"
     ]
    },
    {
     "name": "stdout",
     "output_type": "stream",
     "text": [
      "INFO:tensorflow:Converting files in '/data/heerak/music_vae/groove/drummer7'.\n"
     ]
    },
    {
     "name": "stderr",
     "output_type": "stream",
     "text": [
      "INFO:tensorflow:Converting files in '/data/heerak/music_vae/groove/drummer7'.\n"
     ]
    },
    {
     "name": "stdout",
     "output_type": "stream",
     "text": [
      "WARNING:tensorflow:Unable to find a converter for file /data/heerak/music_vae/groove/drummer7/Icon\n"
     ]
    },
    {
     "name": "stderr",
     "output_type": "stream",
     "text": [
      "WARNING:tensorflow:Unable to find a converter for file /data/heerak/music_vae/groove/drummer7/Icon\n"
     ]
    },
    {
     "name": "stdout",
     "output_type": "stream",
     "text": [
      "INFO:tensorflow:Converting files in '/data/heerak/music_vae/groove/drummer7/session2'.\n"
     ]
    },
    {
     "name": "stderr",
     "output_type": "stream",
     "text": [
      "INFO:tensorflow:Converting files in '/data/heerak/music_vae/groove/drummer7/session2'.\n"
     ]
    },
    {
     "name": "stdout",
     "output_type": "stream",
     "text": [
      "INFO:tensorflow:Converted MIDI file /data/heerak/music_vae/groove/drummer7/session2/21_rock_118_fill_4-4.mid.\n"
     ]
    },
    {
     "name": "stderr",
     "output_type": "stream",
     "text": [
      "INFO:tensorflow:Converted MIDI file /data/heerak/music_vae/groove/drummer7/session2/21_rock_118_fill_4-4.mid.\n"
     ]
    },
    {
     "name": "stdout",
     "output_type": "stream",
     "text": [
      "INFO:tensorflow:Converted MIDI file /data/heerak/music_vae/groove/drummer7/session2/72_funk_100_beat_4-4.mid.\n"
     ]
    },
    {
     "name": "stderr",
     "output_type": "stream",
     "text": [
      "INFO:tensorflow:Converted MIDI file /data/heerak/music_vae/groove/drummer7/session2/72_funk_100_beat_4-4.mid.\n"
     ]
    },
    {
     "name": "stdout",
     "output_type": "stream",
     "text": [
      "INFO:tensorflow:Converted MIDI file /data/heerak/music_vae/groove/drummer7/session2/118_jazz-fusion_96_fill_4-4.mid.\n"
     ]
    },
    {
     "name": "stderr",
     "output_type": "stream",
     "text": [
      "INFO:tensorflow:Converted MIDI file /data/heerak/music_vae/groove/drummer7/session2/118_jazz-fusion_96_fill_4-4.mid.\n"
     ]
    },
    {
     "name": "stdout",
     "output_type": "stream",
     "text": [
      "INFO:tensorflow:Converted MIDI file /data/heerak/music_vae/groove/drummer7/session2/97_pop_142_beat_4-4.mid.\n"
     ]
    },
    {
     "name": "stderr",
     "output_type": "stream",
     "text": [
      "INFO:tensorflow:Converted MIDI file /data/heerak/music_vae/groove/drummer7/session2/97_pop_142_beat_4-4.mid.\n"
     ]
    },
    {
     "name": "stdout",
     "output_type": "stream",
     "text": [
      "INFO:tensorflow:Converted MIDI file /data/heerak/music_vae/groove/drummer7/session2/63_soul-motown_148_beat_4-4.mid.\n"
     ]
    },
    {
     "name": "stderr",
     "output_type": "stream",
     "text": [
      "INFO:tensorflow:Converted MIDI file /data/heerak/music_vae/groove/drummer7/session2/63_soul-motown_148_beat_4-4.mid.\n"
     ]
    },
    {
     "name": "stdout",
     "output_type": "stream",
     "text": [
      "INFO:tensorflow:Converted MIDI file /data/heerak/music_vae/groove/drummer7/session2/133_hiphop_140_fill_4-4.mid.\n"
     ]
    },
    {
     "name": "stderr",
     "output_type": "stream",
     "text": [
      "INFO:tensorflow:Converted MIDI file /data/heerak/music_vae/groove/drummer7/session2/133_hiphop_140_fill_4-4.mid.\n"
     ]
    },
    {
     "name": "stdout",
     "output_type": "stream",
     "text": [
      "INFO:tensorflow:Converted MIDI file /data/heerak/music_vae/groove/drummer7/session2/85_country_78_fill_4-4.mid.\n"
     ]
    },
    {
     "name": "stderr",
     "output_type": "stream",
     "text": [
      "INFO:tensorflow:Converted MIDI file /data/heerak/music_vae/groove/drummer7/session2/85_country_78_fill_4-4.mid.\n"
     ]
    },
    {
     "name": "stdout",
     "output_type": "stream",
     "text": [
      "INFO:tensorflow:Converted MIDI file /data/heerak/music_vae/groove/drummer7/session2/24_rock_118_beat_4-4.mid.\n"
     ]
    },
    {
     "name": "stderr",
     "output_type": "stream",
     "text": [
      "INFO:tensorflow:Converted MIDI file /data/heerak/music_vae/groove/drummer7/session2/24_rock_118_beat_4-4.mid.\n"
     ]
    },
    {
     "name": "stdout",
     "output_type": "stream",
     "text": [
      "INFO:tensorflow:Converted MIDI file /data/heerak/music_vae/groove/drummer7/session2/112_jazz-fusion_96_beat_4-4.mid.\n"
     ]
    },
    {
     "name": "stderr",
     "output_type": "stream",
     "text": [
      "INFO:tensorflow:Converted MIDI file /data/heerak/music_vae/groove/drummer7/session2/112_jazz-fusion_96_beat_4-4.mid.\n"
     ]
    },
    {
     "name": "stdout",
     "output_type": "stream",
     "text": [
      "INFO:tensorflow:Converted MIDI file /data/heerak/music_vae/groove/drummer7/session2/44_rock_112_fill_4-4.mid.\n"
     ]
    },
    {
     "name": "stderr",
     "output_type": "stream",
     "text": [
      "INFO:tensorflow:Converted MIDI file /data/heerak/music_vae/groove/drummer7/session2/44_rock_112_fill_4-4.mid.\n"
     ]
    },
    {
     "name": "stdout",
     "output_type": "stream",
     "text": [
      "INFO:tensorflow:Converted MIDI file /data/heerak/music_vae/groove/drummer7/session2/8_rock_95_beat_4-4.mid.\n"
     ]
    },
    {
     "name": "stderr",
     "output_type": "stream",
     "text": [
      "INFO:tensorflow:Converted MIDI file /data/heerak/music_vae/groove/drummer7/session2/8_rock_95_beat_4-4.mid.\n"
     ]
    },
    {
     "name": "stdout",
     "output_type": "stream",
     "text": [
      "INFO:tensorflow:Converted MIDI file /data/heerak/music_vae/groove/drummer7/session2/127_hiphop_140_fill_4-4.mid.\n"
     ]
    },
    {
     "name": "stderr",
     "output_type": "stream",
     "text": [
      "INFO:tensorflow:Converted MIDI file /data/heerak/music_vae/groove/drummer7/session2/127_hiphop_140_fill_4-4.mid.\n"
     ]
    },
    {
     "name": "stdout",
     "output_type": "stream",
     "text": [
      "INFO:tensorflow:Converted MIDI file /data/heerak/music_vae/groove/drummer7/session2/16_rock_118_fill_4-4.mid.\n"
     ]
    },
    {
     "name": "stderr",
     "output_type": "stream",
     "text": [
      "INFO:tensorflow:Converted MIDI file /data/heerak/music_vae/groove/drummer7/session2/16_rock_118_fill_4-4.mid.\n"
     ]
    },
    {
     "name": "stdout",
     "output_type": "stream",
     "text": [
      "INFO:tensorflow:Converted MIDI file /data/heerak/music_vae/groove/drummer7/session2/122_jazz-fusion_96_fill_4-4.mid.\n"
     ]
    },
    {
     "name": "stderr",
     "output_type": "stream",
     "text": [
      "INFO:tensorflow:Converted MIDI file /data/heerak/music_vae/groove/drummer7/session2/122_jazz-fusion_96_fill_4-4.mid.\n"
     ]
    },
    {
     "name": "stdout",
     "output_type": "stream",
     "text": [
      "INFO:tensorflow:Converted MIDI file /data/heerak/music_vae/groove/drummer7/session2/20_rock_118_fill_4-4.mid.\n"
     ]
    },
    {
     "name": "stderr",
     "output_type": "stream",
     "text": [
      "INFO:tensorflow:Converted MIDI file /data/heerak/music_vae/groove/drummer7/session2/20_rock_118_fill_4-4.mid.\n"
     ]
    },
    {
     "name": "stdout",
     "output_type": "stream",
     "text": [
      "INFO:tensorflow:Converted MIDI file /data/heerak/music_vae/groove/drummer7/session2/10_rock_95_fill_4-4.mid.\n"
     ]
    },
    {
     "name": "stderr",
     "output_type": "stream",
     "text": [
      "INFO:tensorflow:Converted MIDI file /data/heerak/music_vae/groove/drummer7/session2/10_rock_95_fill_4-4.mid.\n"
     ]
    },
    {
     "name": "stdout",
     "output_type": "stream",
     "text": [
      "INFO:tensorflow:Converted MIDI file /data/heerak/music_vae/groove/drummer7/session2/7_rock_120_beat_4-4.mid.\n"
     ]
    },
    {
     "name": "stderr",
     "output_type": "stream",
     "text": [
      "INFO:tensorflow:Converted MIDI file /data/heerak/music_vae/groove/drummer7/session2/7_rock_120_beat_4-4.mid.\n"
     ]
    },
    {
     "name": "stdout",
     "output_type": "stream",
     "text": [
      "INFO:tensorflow:Converted MIDI file /data/heerak/music_vae/groove/drummer7/session2/40_rock_112_fill_4-4.mid.\n"
     ]
    },
    {
     "name": "stderr",
     "output_type": "stream",
     "text": [
      "INFO:tensorflow:Converted MIDI file /data/heerak/music_vae/groove/drummer7/session2/40_rock_112_fill_4-4.mid.\n"
     ]
    },
    {
     "name": "stdout",
     "output_type": "stream",
     "text": [
      "INFO:tensorflow:Converted MIDI file /data/heerak/music_vae/groove/drummer7/session2/105_pop_132_beat_4-4.mid.\n"
     ]
    },
    {
     "name": "stderr",
     "output_type": "stream",
     "text": [
      "INFO:tensorflow:Converted MIDI file /data/heerak/music_vae/groove/drummer7/session2/105_pop_132_beat_4-4.mid.\n"
     ]
    },
    {
     "name": "stdout",
     "output_type": "stream",
     "text": [
      "INFO:tensorflow:Converted MIDI file /data/heerak/music_vae/groove/drummer7/session2/18_rock_118_fill_4-4.mid.\n"
     ]
    },
    {
     "name": "stderr",
     "output_type": "stream",
     "text": [
      "INFO:tensorflow:Converted MIDI file /data/heerak/music_vae/groove/drummer7/session2/18_rock_118_fill_4-4.mid.\n"
     ]
    },
    {
     "name": "stdout",
     "output_type": "stream",
     "text": [
      "INFO:tensorflow:Converted MIDI file /data/heerak/music_vae/groove/drummer7/session2/43_rock_112_fill_4-4.mid.\n"
     ]
    },
    {
     "name": "stderr",
     "output_type": "stream",
     "text": [
      "INFO:tensorflow:Converted MIDI file /data/heerak/music_vae/groove/drummer7/session2/43_rock_112_fill_4-4.mid.\n"
     ]
    },
    {
     "name": "stdout",
     "output_type": "stream",
     "text": [
      "INFO:tensorflow:Converted MIDI file /data/heerak/music_vae/groove/drummer7/session2/38_rock_112_fill_4-4.mid.\n"
     ]
    },
    {
     "name": "stderr",
     "output_type": "stream",
     "text": [
      "INFO:tensorflow:Converted MIDI file /data/heerak/music_vae/groove/drummer7/session2/38_rock_112_fill_4-4.mid.\n"
     ]
    },
    {
     "name": "stdout",
     "output_type": "stream",
     "text": [
      "INFO:tensorflow:Converted MIDI file /data/heerak/music_vae/groove/drummer7/session2/92_hiphop_75_beat_4-4.mid.\n"
     ]
    },
    {
     "name": "stderr",
     "output_type": "stream",
     "text": [
      "INFO:tensorflow:Converted MIDI file /data/heerak/music_vae/groove/drummer7/session2/92_hiphop_75_beat_4-4.mid.\n"
     ]
    },
    {
     "name": "stdout",
     "output_type": "stream",
     "text": [
      "INFO:tensorflow:Converted MIDI file /data/heerak/music_vae/groove/drummer7/session2/108_soul-motown_104_beat_4-4.mid.\n"
     ]
    },
    {
     "name": "stderr",
     "output_type": "stream",
     "text": [
      "INFO:tensorflow:Converted MIDI file /data/heerak/music_vae/groove/drummer7/session2/108_soul-motown_104_beat_4-4.mid.\n"
     ]
    },
    {
     "name": "stdout",
     "output_type": "stream",
     "text": [
      "INFO:tensorflow:Converted MIDI file /data/heerak/music_vae/groove/drummer7/session2/75_funk_100_fill_4-4.mid.\n"
     ]
    },
    {
     "name": "stderr",
     "output_type": "stream",
     "text": [
      "INFO:tensorflow:Converted MIDI file /data/heerak/music_vae/groove/drummer7/session2/75_funk_100_fill_4-4.mid.\n"
     ]
    },
    {
     "name": "stdout",
     "output_type": "stream",
     "text": [
      "INFO:tensorflow:Converted MIDI file /data/heerak/music_vae/groove/drummer7/session2/32_rock_75_fill_4-4.mid.\n"
     ]
    },
    {
     "name": "stderr",
     "output_type": "stream",
     "text": [
      "INFO:tensorflow:Converted MIDI file /data/heerak/music_vae/groove/drummer7/session2/32_rock_75_fill_4-4.mid.\n"
     ]
    },
    {
     "name": "stdout",
     "output_type": "stream",
     "text": [
      "INFO:tensorflow:Converted MIDI file /data/heerak/music_vae/groove/drummer7/session2/69_rock_145_fill_4-4.mid.\n"
     ]
    },
    {
     "name": "stderr",
     "output_type": "stream",
     "text": [
      "INFO:tensorflow:Converted MIDI file /data/heerak/music_vae/groove/drummer7/session2/69_rock_145_fill_4-4.mid.\n"
     ]
    },
    {
     "name": "stdout",
     "output_type": "stream",
     "text": [
      "INFO:tensorflow:Converted MIDI file /data/heerak/music_vae/groove/drummer7/session2/45_rock_135_beat_4-4.mid.\n"
     ]
    },
    {
     "name": "stderr",
     "output_type": "stream",
     "text": [
      "INFO:tensorflow:Converted MIDI file /data/heerak/music_vae/groove/drummer7/session2/45_rock_135_beat_4-4.mid.\n"
     ]
    },
    {
     "name": "stdout",
     "output_type": "stream",
     "text": [
      "INFO:tensorflow:Converted MIDI file /data/heerak/music_vae/groove/drummer7/session2/113_jazz-fusion_96_beat_4-4.mid.\n"
     ]
    },
    {
     "name": "stderr",
     "output_type": "stream",
     "text": [
      "INFO:tensorflow:Converted MIDI file /data/heerak/music_vae/groove/drummer7/session2/113_jazz-fusion_96_beat_4-4.mid.\n"
     ]
    },
    {
     "name": "stdout",
     "output_type": "stream",
     "text": [
      "INFO:tensorflow:Converted MIDI file /data/heerak/music_vae/groove/drummer7/session2/62_soul-motown_148_fill_4-4.mid.\n"
     ]
    },
    {
     "name": "stderr",
     "output_type": "stream",
     "text": [
      "INFO:tensorflow:Converted MIDI file /data/heerak/music_vae/groove/drummer7/session2/62_soul-motown_148_fill_4-4.mid.\n"
     ]
    },
    {
     "name": "stdout",
     "output_type": "stream",
     "text": [
      "INFO:tensorflow:Converted MIDI file /data/heerak/music_vae/groove/drummer7/session2/17_rock_118_fill_4-4.mid.\n"
     ]
    },
    {
     "name": "stderr",
     "output_type": "stream",
     "text": [
      "INFO:tensorflow:Converted MIDI file /data/heerak/music_vae/groove/drummer7/session2/17_rock_118_fill_4-4.mid.\n"
     ]
    },
    {
     "name": "stdout",
     "output_type": "stream",
     "text": [
      "INFO:tensorflow:Converted MIDI file /data/heerak/music_vae/groove/drummer7/session2/126_hiphop_140_fill_4-4.mid.\n"
     ]
    },
    {
     "name": "stderr",
     "output_type": "stream",
     "text": [
      "INFO:tensorflow:Converted MIDI file /data/heerak/music_vae/groove/drummer7/session2/126_hiphop_140_fill_4-4.mid.\n"
     ]
    },
    {
     "name": "stdout",
     "output_type": "stream",
     "text": [
      "INFO:tensorflow:Converted MIDI file /data/heerak/music_vae/groove/drummer7/session2/131_hiphop_140_fill_4-4.mid.\n"
     ]
    },
    {
     "name": "stderr",
     "output_type": "stream",
     "text": [
      "INFO:tensorflow:Converted MIDI file /data/heerak/music_vae/groove/drummer7/session2/131_hiphop_140_fill_4-4.mid.\n"
     ]
    },
    {
     "name": "stdout",
     "output_type": "stream",
     "text": [
      "INFO:tensorflow:Converted MIDI file /data/heerak/music_vae/groove/drummer7/session2/65_rock_145_fill_4-4.mid.\n"
     ]
    },
    {
     "name": "stderr",
     "output_type": "stream",
     "text": [
      "INFO:tensorflow:Converted MIDI file /data/heerak/music_vae/groove/drummer7/session2/65_rock_145_fill_4-4.mid.\n"
     ]
    },
    {
     "name": "stdout",
     "output_type": "stream",
     "text": [
      "INFO:tensorflow:Converted MIDI file /data/heerak/music_vae/groove/drummer7/session2/81_country_78_fill_4-4.mid.\n"
     ]
    },
    {
     "name": "stderr",
     "output_type": "stream",
     "text": [
      "INFO:tensorflow:Converted MIDI file /data/heerak/music_vae/groove/drummer7/session2/81_country_78_fill_4-4.mid.\n"
     ]
    },
    {
     "name": "stdout",
     "output_type": "stream",
     "text": [
      "INFO:tensorflow:Converted MIDI file /data/heerak/music_vae/groove/drummer7/session2/130_hiphop_140_fill_4-4.mid.\n"
     ]
    },
    {
     "name": "stderr",
     "output_type": "stream",
     "text": [
      "INFO:tensorflow:Converted MIDI file /data/heerak/music_vae/groove/drummer7/session2/130_hiphop_140_fill_4-4.mid.\n"
     ]
    },
    {
     "name": "stdout",
     "output_type": "stream",
     "text": [
      "INFO:tensorflow:Converted MIDI file /data/heerak/music_vae/groove/drummer7/session2/58_soul-motown_148_fill_4-4.mid.\n"
     ]
    },
    {
     "name": "stderr",
     "output_type": "stream",
     "text": [
      "INFO:tensorflow:Converted MIDI file /data/heerak/music_vae/groove/drummer7/session2/58_soul-motown_148_fill_4-4.mid.\n"
     ]
    },
    {
     "name": "stdout",
     "output_type": "stream",
     "text": [
      "INFO:tensorflow:Converted MIDI file /data/heerak/music_vae/groove/drummer7/session2/39_rock_112_fill_4-4.mid.\n"
     ]
    },
    {
     "name": "stderr",
     "output_type": "stream",
     "text": [
      "INFO:tensorflow:Converted MIDI file /data/heerak/music_vae/groove/drummer7/session2/39_rock_112_fill_4-4.mid.\n"
     ]
    },
    {
     "name": "stdout",
     "output_type": "stream",
     "text": [
      "INFO:tensorflow:Converted MIDI file /data/heerak/music_vae/groove/drummer7/session2/115_jazz-fusion_96_beat_4-4.mid.\n"
     ]
    },
    {
     "name": "stderr",
     "output_type": "stream",
     "text": [
      "INFO:tensorflow:Converted MIDI file /data/heerak/music_vae/groove/drummer7/session2/115_jazz-fusion_96_beat_4-4.mid.\n"
     ]
    },
    {
     "name": "stdout",
     "output_type": "stream",
     "text": [
      "INFO:tensorflow:Converted MIDI file /data/heerak/music_vae/groove/drummer7/session2/14_rock_95_beat_4-4.mid.\n"
     ]
    },
    {
     "name": "stderr",
     "output_type": "stream",
     "text": [
      "INFO:tensorflow:Converted MIDI file /data/heerak/music_vae/groove/drummer7/session2/14_rock_95_beat_4-4.mid.\n"
     ]
    },
    {
     "name": "stdout",
     "output_type": "stream",
     "text": [
      "INFO:tensorflow:Converted MIDI file /data/heerak/music_vae/groove/drummer7/session2/60_soul-motown_148_fill_4-4.mid.\n"
     ]
    },
    {
     "name": "stderr",
     "output_type": "stream",
     "text": [
      "INFO:tensorflow:Converted MIDI file /data/heerak/music_vae/groove/drummer7/session2/60_soul-motown_148_fill_4-4.mid.\n"
     ]
    },
    {
     "name": "stdout",
     "output_type": "stream",
     "text": [
      "INFO:tensorflow:Converted MIDI file /data/heerak/music_vae/groove/drummer7/session2/68_rock_145_fill_4-4.mid.\n"
     ]
    },
    {
     "name": "stderr",
     "output_type": "stream",
     "text": [
      "INFO:tensorflow:Converted MIDI file /data/heerak/music_vae/groove/drummer7/session2/68_rock_145_fill_4-4.mid.\n"
     ]
    },
    {
     "name": "stdout",
     "output_type": "stream",
     "text": [
      "INFO:tensorflow:Converted MIDI file /data/heerak/music_vae/groove/drummer7/session2/71_rock_145_fill_4-4.mid.\n"
     ]
    },
    {
     "name": "stderr",
     "output_type": "stream",
     "text": [
      "INFO:tensorflow:Converted MIDI file /data/heerak/music_vae/groove/drummer7/session2/71_rock_145_fill_4-4.mid.\n"
     ]
    },
    {
     "name": "stdout",
     "output_type": "stream",
     "text": [
      "INFO:tensorflow:Converted MIDI file /data/heerak/music_vae/groove/drummer7/session2/99_pop_142_fill_4-4.mid.\n"
     ]
    },
    {
     "name": "stderr",
     "output_type": "stream",
     "text": [
      "INFO:tensorflow:Converted MIDI file /data/heerak/music_vae/groove/drummer7/session2/99_pop_142_fill_4-4.mid.\n"
     ]
    },
    {
     "name": "stdout",
     "output_type": "stream",
     "text": [
      "INFO:tensorflow:Converted MIDI file /data/heerak/music_vae/groove/drummer7/session2/78_funk_100_beat_4-4.mid.\n"
     ]
    },
    {
     "name": "stderr",
     "output_type": "stream",
     "text": [
      "INFO:tensorflow:Converted MIDI file /data/heerak/music_vae/groove/drummer7/session2/78_funk_100_beat_4-4.mid.\n"
     ]
    },
    {
     "name": "stdout",
     "output_type": "stream",
     "text": [
      "INFO:tensorflow:Converted MIDI file /data/heerak/music_vae/groove/drummer7/session2/66_rock_145_fill_4-4.mid.\n"
     ]
    },
    {
     "name": "stderr",
     "output_type": "stream",
     "text": [
      "INFO:tensorflow:Converted MIDI file /data/heerak/music_vae/groove/drummer7/session2/66_rock_145_fill_4-4.mid.\n"
     ]
    },
    {
     "name": "stdout",
     "output_type": "stream",
     "text": [
      "INFO:tensorflow:Converted MIDI file /data/heerak/music_vae/groove/drummer7/session2/3_rock_120_beat_4-4.mid.\n"
     ]
    },
    {
     "name": "stderr",
     "output_type": "stream",
     "text": [
      "INFO:tensorflow:Converted MIDI file /data/heerak/music_vae/groove/drummer7/session2/3_rock_120_beat_4-4.mid.\n"
     ]
    },
    {
     "name": "stdout",
     "output_type": "stream",
     "text": [
      "INFO:tensorflow:Converted MIDI file /data/heerak/music_vae/groove/drummer7/session2/91_hiphop_75_fill_4-4.mid.\n"
     ]
    },
    {
     "name": "stderr",
     "output_type": "stream",
     "text": [
      "INFO:tensorflow:Converted MIDI file /data/heerak/music_vae/groove/drummer7/session2/91_hiphop_75_fill_4-4.mid.\n"
     ]
    },
    {
     "name": "stdout",
     "output_type": "stream",
     "text": [
      "INFO:tensorflow:Converted MIDI file /data/heerak/music_vae/groove/drummer7/session2/129_hiphop_140_fill_4-4.mid.\n"
     ]
    },
    {
     "name": "stderr",
     "output_type": "stream",
     "text": [
      "INFO:tensorflow:Converted MIDI file /data/heerak/music_vae/groove/drummer7/session2/129_hiphop_140_fill_4-4.mid.\n"
     ]
    },
    {
     "name": "stdout",
     "output_type": "stream",
     "text": [
      "INFO:tensorflow:Converted MIDI file /data/heerak/music_vae/groove/drummer7/session2/34_rock_75_fill_4-4.mid.\n"
     ]
    },
    {
     "name": "stderr",
     "output_type": "stream",
     "text": [
      "INFO:tensorflow:Converted MIDI file /data/heerak/music_vae/groove/drummer7/session2/34_rock_75_fill_4-4.mid.\n"
     ]
    },
    {
     "name": "stdout",
     "output_type": "stream",
     "text": [
      "INFO:tensorflow:Converted MIDI file /data/heerak/music_vae/groove/drummer7/session2/87_hiphop_75_beat_4-4.mid.\n"
     ]
    },
    {
     "name": "stderr",
     "output_type": "stream",
     "text": [
      "INFO:tensorflow:Converted MIDI file /data/heerak/music_vae/groove/drummer7/session2/87_hiphop_75_beat_4-4.mid.\n"
     ]
    },
    {
     "name": "stdout",
     "output_type": "stream",
     "text": [
      "INFO:tensorflow:Converted MIDI file /data/heerak/music_vae/groove/drummer7/session2/11_rock_95_fill_4-4.mid.\n"
     ]
    },
    {
     "name": "stderr",
     "output_type": "stream",
     "text": [
      "INFO:tensorflow:Converted MIDI file /data/heerak/music_vae/groove/drummer7/session2/11_rock_95_fill_4-4.mid.\n"
     ]
    },
    {
     "name": "stdout",
     "output_type": "stream",
     "text": [
      "INFO:tensorflow:Converted MIDI file /data/heerak/music_vae/groove/drummer7/session2/124_hiphop_140_fill_4-4.mid.\n"
     ]
    },
    {
     "name": "stderr",
     "output_type": "stream",
     "text": [
      "INFO:tensorflow:Converted MIDI file /data/heerak/music_vae/groove/drummer7/session2/124_hiphop_140_fill_4-4.mid.\n"
     ]
    },
    {
     "name": "stdout",
     "output_type": "stream",
     "text": [
      "INFO:tensorflow:Converted MIDI file /data/heerak/music_vae/groove/drummer7/session2/125_hiphop_140_fill_4-4.mid.\n"
     ]
    },
    {
     "name": "stderr",
     "output_type": "stream",
     "text": [
      "INFO:tensorflow:Converted MIDI file /data/heerak/music_vae/groove/drummer7/session2/125_hiphop_140_fill_4-4.mid.\n"
     ]
    },
    {
     "name": "stdout",
     "output_type": "stream",
     "text": [
      "INFO:tensorflow:Converted MIDI file /data/heerak/music_vae/groove/drummer7/session2/103_pop_132_beat_4-4.mid.\n"
     ]
    },
    {
     "name": "stderr",
     "output_type": "stream",
     "text": [
      "INFO:tensorflow:Converted MIDI file /data/heerak/music_vae/groove/drummer7/session2/103_pop_132_beat_4-4.mid.\n"
     ]
    },
    {
     "name": "stdout",
     "output_type": "stream",
     "text": [
      "INFO:tensorflow:Converted MIDI file /data/heerak/music_vae/groove/drummer7/session2/42_rock_112_fill_4-4.mid.\n"
     ]
    },
    {
     "name": "stderr",
     "output_type": "stream",
     "text": [
      "INFO:tensorflow:Converted MIDI file /data/heerak/music_vae/groove/drummer7/session2/42_rock_112_fill_4-4.mid.\n"
     ]
    },
    {
     "name": "stdout",
     "output_type": "stream",
     "text": [
      "INFO:tensorflow:Converted MIDI file /data/heerak/music_vae/groove/drummer7/session2/70_rock_145_fill_4-4.mid.\n"
     ]
    },
    {
     "name": "stderr",
     "output_type": "stream",
     "text": [
      "INFO:tensorflow:Converted MIDI file /data/heerak/music_vae/groove/drummer7/session2/70_rock_145_fill_4-4.mid.\n"
     ]
    },
    {
     "name": "stdout",
     "output_type": "stream",
     "text": [
      "INFO:tensorflow:Converted MIDI file /data/heerak/music_vae/groove/drummer7/session2/52_rock_135_fill_4-4.mid.\n"
     ]
    },
    {
     "name": "stderr",
     "output_type": "stream",
     "text": [
      "INFO:tensorflow:Converted MIDI file /data/heerak/music_vae/groove/drummer7/session2/52_rock_135_fill_4-4.mid.\n"
     ]
    },
    {
     "name": "stdout",
     "output_type": "stream",
     "text": [
      "INFO:tensorflow:Converted MIDI file /data/heerak/music_vae/groove/drummer7/session2/53_rock_135_beat_4-4.mid.\n"
     ]
    },
    {
     "name": "stderr",
     "output_type": "stream",
     "text": [
      "INFO:tensorflow:Converted MIDI file /data/heerak/music_vae/groove/drummer7/session2/53_rock_135_beat_4-4.mid.\n"
     ]
    },
    {
     "name": "stdout",
     "output_type": "stream",
     "text": [
      "INFO:tensorflow:Converted MIDI file /data/heerak/music_vae/groove/drummer7/session2/23_rock_118_fill_4-4.mid.\n"
     ]
    },
    {
     "name": "stderr",
     "output_type": "stream",
     "text": [
      "INFO:tensorflow:Converted MIDI file /data/heerak/music_vae/groove/drummer7/session2/23_rock_118_fill_4-4.mid.\n"
     ]
    },
    {
     "name": "stdout",
     "output_type": "stream",
     "text": [
      "INFO:tensorflow:Converted MIDI file /data/heerak/music_vae/groove/drummer7/session2/95_hiphop_75_fill_4-4.mid.\n"
     ]
    },
    {
     "name": "stderr",
     "output_type": "stream",
     "text": [
      "INFO:tensorflow:Converted MIDI file /data/heerak/music_vae/groove/drummer7/session2/95_hiphop_75_fill_4-4.mid.\n"
     ]
    },
    {
     "name": "stdout",
     "output_type": "stream",
     "text": [
      "INFO:tensorflow:Converted MIDI file /data/heerak/music_vae/groove/drummer7/session2/120_jazz-fusion_96_fill_4-4.mid.\n"
     ]
    },
    {
     "name": "stderr",
     "output_type": "stream",
     "text": [
      "INFO:tensorflow:Converted MIDI file /data/heerak/music_vae/groove/drummer7/session2/120_jazz-fusion_96_fill_4-4.mid.\n"
     ]
    },
    {
     "name": "stdout",
     "output_type": "stream",
     "text": [
      "INFO:tensorflow:Converted MIDI file /data/heerak/music_vae/groove/drummer7/session2/110_soul-motown_104_fill_4-4.mid.\n"
     ]
    },
    {
     "name": "stderr",
     "output_type": "stream",
     "text": [
      "INFO:tensorflow:Converted MIDI file /data/heerak/music_vae/groove/drummer7/session2/110_soul-motown_104_fill_4-4.mid.\n"
     ]
    },
    {
     "name": "stdout",
     "output_type": "stream",
     "text": [
      "INFO:tensorflow:Converted MIDI file /data/heerak/music_vae/groove/drummer7/session2/101_pop_142_beat_4-4.mid.\n"
     ]
    },
    {
     "name": "stderr",
     "output_type": "stream",
     "text": [
      "INFO:tensorflow:Converted MIDI file /data/heerak/music_vae/groove/drummer7/session2/101_pop_142_beat_4-4.mid.\n"
     ]
    },
    {
     "name": "stdout",
     "output_type": "stream",
     "text": [
      "INFO:tensorflow:Converted MIDI file /data/heerak/music_vae/groove/drummer7/session2/49_rock_135_beat_4-4.mid.\n"
     ]
    },
    {
     "name": "stderr",
     "output_type": "stream",
     "text": [
      "INFO:tensorflow:Converted MIDI file /data/heerak/music_vae/groove/drummer7/session2/49_rock_135_beat_4-4.mid.\n"
     ]
    },
    {
     "name": "stdout",
     "output_type": "stream",
     "text": [
      "INFO:tensorflow:Converted MIDI file /data/heerak/music_vae/groove/drummer7/session2/98_pop_142_fill_4-4.mid.\n"
     ]
    },
    {
     "name": "stderr",
     "output_type": "stream",
     "text": [
      "INFO:tensorflow:Converted MIDI file /data/heerak/music_vae/groove/drummer7/session2/98_pop_142_fill_4-4.mid.\n"
     ]
    },
    {
     "name": "stdout",
     "output_type": "stream",
     "text": [
      "INFO:tensorflow:Converted MIDI file /data/heerak/music_vae/groove/drummer7/session2/90_hiphop_75_fill_4-4.mid.\n"
     ]
    },
    {
     "name": "stderr",
     "output_type": "stream",
     "text": [
      "INFO:tensorflow:Converted MIDI file /data/heerak/music_vae/groove/drummer7/session2/90_hiphop_75_fill_4-4.mid.\n"
     ]
    },
    {
     "name": "stdout",
     "output_type": "stream",
     "text": [
      "INFO:tensorflow:Converted MIDI file /data/heerak/music_vae/groove/drummer7/session2/117_jazz-fusion_96_fill_4-4.mid.\n"
     ]
    },
    {
     "name": "stderr",
     "output_type": "stream",
     "text": [
      "INFO:tensorflow:Converted MIDI file /data/heerak/music_vae/groove/drummer7/session2/117_jazz-fusion_96_fill_4-4.mid.\n"
     ]
    },
    {
     "name": "stdout",
     "output_type": "stream",
     "text": [
      "INFO:tensorflow:Converted MIDI file /data/heerak/music_vae/groove/drummer7/session2/106_soul-motown_104_beat_4-4.mid.\n"
     ]
    },
    {
     "name": "stderr",
     "output_type": "stream",
     "text": [
      "INFO:tensorflow:Converted MIDI file /data/heerak/music_vae/groove/drummer7/session2/106_soul-motown_104_beat_4-4.mid.\n"
     ]
    },
    {
     "name": "stdout",
     "output_type": "stream",
     "text": [
      "INFO:tensorflow:Converted MIDI file /data/heerak/music_vae/groove/drummer7/session2/82_country_78_fill_4-4.mid.\n"
     ]
    },
    {
     "name": "stderr",
     "output_type": "stream",
     "text": [
      "INFO:tensorflow:Converted MIDI file /data/heerak/music_vae/groove/drummer7/session2/82_country_78_fill_4-4.mid.\n"
     ]
    },
    {
     "name": "stdout",
     "output_type": "stream",
     "text": [
      "INFO:tensorflow:Converted MIDI file /data/heerak/music_vae/groove/drummer7/session2/13_rock_95_fill_4-4.mid.\n"
     ]
    },
    {
     "name": "stderr",
     "output_type": "stream",
     "text": [
      "INFO:tensorflow:Converted MIDI file /data/heerak/music_vae/groove/drummer7/session2/13_rock_95_fill_4-4.mid.\n"
     ]
    },
    {
     "name": "stdout",
     "output_type": "stream",
     "text": [
      "INFO:tensorflow:Converted MIDI file /data/heerak/music_vae/groove/drummer7/session2/59_soul-motown_148_fill_4-4.mid.\n"
     ]
    },
    {
     "name": "stderr",
     "output_type": "stream",
     "text": [
      "INFO:tensorflow:Converted MIDI file /data/heerak/music_vae/groove/drummer7/session2/59_soul-motown_148_fill_4-4.mid.\n"
     ]
    },
    {
     "name": "stdout",
     "output_type": "stream",
     "text": [
      "INFO:tensorflow:Converted MIDI file /data/heerak/music_vae/groove/drummer7/session2/93_hiphop_75_beat_4-4.mid.\n"
     ]
    },
    {
     "name": "stderr",
     "output_type": "stream",
     "text": [
      "INFO:tensorflow:Converted MIDI file /data/heerak/music_vae/groove/drummer7/session2/93_hiphop_75_beat_4-4.mid.\n"
     ]
    },
    {
     "name": "stdout",
     "output_type": "stream",
     "text": [
      "INFO:tensorflow:Converted MIDI file /data/heerak/music_vae/groove/drummer7/session2/54_soul-motown_148_beat_4-4.mid.\n"
     ]
    },
    {
     "name": "stderr",
     "output_type": "stream",
     "text": [
      "INFO:tensorflow:Converted MIDI file /data/heerak/music_vae/groove/drummer7/session2/54_soul-motown_148_beat_4-4.mid.\n"
     ]
    },
    {
     "name": "stdout",
     "output_type": "stream",
     "text": [
      "INFO:tensorflow:Converted MIDI file /data/heerak/music_vae/groove/drummer7/session2/94_hiphop_75_fill_4-4.mid.\n"
     ]
    },
    {
     "name": "stderr",
     "output_type": "stream",
     "text": [
      "INFO:tensorflow:Converted MIDI file /data/heerak/music_vae/groove/drummer7/session2/94_hiphop_75_fill_4-4.mid.\n"
     ]
    },
    {
     "name": "stdout",
     "output_type": "stream",
     "text": [
      "INFO:tensorflow:Converted MIDI file /data/heerak/music_vae/groove/drummer7/session2/29_rock_75_beat_4-4.mid.\n"
     ]
    },
    {
     "name": "stderr",
     "output_type": "stream",
     "text": [
      "INFO:tensorflow:Converted MIDI file /data/heerak/music_vae/groove/drummer7/session2/29_rock_75_beat_4-4.mid.\n"
     ]
    },
    {
     "name": "stdout",
     "output_type": "stream",
     "text": [
      "INFO:tensorflow:Converted MIDI file /data/heerak/music_vae/groove/drummer7/session2/89_hiphop_75_fill_4-4.mid.\n"
     ]
    },
    {
     "name": "stderr",
     "output_type": "stream",
     "text": [
      "INFO:tensorflow:Converted MIDI file /data/heerak/music_vae/groove/drummer7/session2/89_hiphop_75_fill_4-4.mid.\n"
     ]
    },
    {
     "name": "stdout",
     "output_type": "stream",
     "text": [
      "INFO:tensorflow:Converted MIDI file /data/heerak/music_vae/groove/drummer7/session2/111_soul-motown_104_fill_4-4.mid.\n"
     ]
    },
    {
     "name": "stderr",
     "output_type": "stream",
     "text": [
      "INFO:tensorflow:Converted MIDI file /data/heerak/music_vae/groove/drummer7/session2/111_soul-motown_104_fill_4-4.mid.\n"
     ]
    },
    {
     "name": "stdout",
     "output_type": "stream",
     "text": [
      "INFO:tensorflow:Converted MIDI file /data/heerak/music_vae/groove/drummer7/session2/121_jazz-fusion_96_fill_4-4.mid.\n"
     ]
    },
    {
     "name": "stderr",
     "output_type": "stream",
     "text": [
      "INFO:tensorflow:Converted MIDI file /data/heerak/music_vae/groove/drummer7/session2/121_jazz-fusion_96_fill_4-4.mid.\n"
     ]
    },
    {
     "name": "stdout",
     "output_type": "stream",
     "text": [
      "INFO:tensorflow:Converted MIDI file /data/heerak/music_vae/groove/drummer7/session2/102_pop_132_beat_4-4.mid.\n"
     ]
    },
    {
     "name": "stderr",
     "output_type": "stream",
     "text": [
      "INFO:tensorflow:Converted MIDI file /data/heerak/music_vae/groove/drummer7/session2/102_pop_132_beat_4-4.mid.\n"
     ]
    },
    {
     "name": "stdout",
     "output_type": "stream",
     "text": [
      "INFO:tensorflow:Converted MIDI file /data/heerak/music_vae/groove/drummer7/session2/6_rock_120_beat_4-4.mid.\n"
     ]
    },
    {
     "name": "stderr",
     "output_type": "stream",
     "text": [
      "INFO:tensorflow:Converted MIDI file /data/heerak/music_vae/groove/drummer7/session2/6_rock_120_beat_4-4.mid.\n"
     ]
    },
    {
     "name": "stdout",
     "output_type": "stream",
     "text": [
      "INFO:tensorflow:Converted MIDI file /data/heerak/music_vae/groove/drummer7/session2/123_hiphop_140_beat_4-4.mid.\n"
     ]
    },
    {
     "name": "stderr",
     "output_type": "stream",
     "text": [
      "INFO:tensorflow:Converted MIDI file /data/heerak/music_vae/groove/drummer7/session2/123_hiphop_140_beat_4-4.mid.\n"
     ]
    },
    {
     "name": "stdout",
     "output_type": "stream",
     "text": [
      "INFO:tensorflow:Converted MIDI file /data/heerak/music_vae/groove/drummer7/session2/35_rock_75_fill_4-4.mid.\n"
     ]
    },
    {
     "name": "stderr",
     "output_type": "stream",
     "text": [
      "INFO:tensorflow:Converted MIDI file /data/heerak/music_vae/groove/drummer7/session2/35_rock_75_fill_4-4.mid.\n"
     ]
    },
    {
     "name": "stdout",
     "output_type": "stream",
     "text": [
      "INFO:tensorflow:Converted MIDI file /data/heerak/music_vae/groove/drummer7/session2/57_soul-motown_148_fill_4-4.mid.\n"
     ]
    },
    {
     "name": "stderr",
     "output_type": "stream",
     "text": [
      "INFO:tensorflow:Converted MIDI file /data/heerak/music_vae/groove/drummer7/session2/57_soul-motown_148_fill_4-4.mid.\n"
     ]
    },
    {
     "name": "stdout",
     "output_type": "stream",
     "text": [
      "INFO:tensorflow:Converted MIDI file /data/heerak/music_vae/groove/drummer7/session2/79_funk_100_beat_4-4.mid.\n"
     ]
    },
    {
     "name": "stderr",
     "output_type": "stream",
     "text": [
      "INFO:tensorflow:Converted MIDI file /data/heerak/music_vae/groove/drummer7/session2/79_funk_100_beat_4-4.mid.\n"
     ]
    },
    {
     "name": "stdout",
     "output_type": "stream",
     "text": [
      "INFO:tensorflow:Converted MIDI file /data/heerak/music_vae/groove/drummer7/session2/28_rock_75_fill_4-4.mid.\n"
     ]
    },
    {
     "name": "stderr",
     "output_type": "stream",
     "text": [
      "INFO:tensorflow:Converted MIDI file /data/heerak/music_vae/groove/drummer7/session2/28_rock_75_fill_4-4.mid.\n"
     ]
    },
    {
     "name": "stdout",
     "output_type": "stream",
     "text": [
      "INFO:tensorflow:Converted MIDI file /data/heerak/music_vae/groove/drummer7/session2/19_rock_118_fill_4-4.mid.\n"
     ]
    },
    {
     "name": "stderr",
     "output_type": "stream",
     "text": [
      "INFO:tensorflow:Converted MIDI file /data/heerak/music_vae/groove/drummer7/session2/19_rock_118_fill_4-4.mid.\n"
     ]
    },
    {
     "name": "stdout",
     "output_type": "stream",
     "text": [
      "INFO:tensorflow:Converted MIDI file /data/heerak/music_vae/groove/drummer7/session2/12_rock_95_beat_4-4.mid.\n"
     ]
    },
    {
     "name": "stderr",
     "output_type": "stream",
     "text": [
      "INFO:tensorflow:Converted MIDI file /data/heerak/music_vae/groove/drummer7/session2/12_rock_95_beat_4-4.mid.\n"
     ]
    },
    {
     "name": "stdout",
     "output_type": "stream",
     "text": [
      "INFO:tensorflow:Converted MIDI file /data/heerak/music_vae/groove/drummer7/session2/77_funk_100_beat_4-4.mid.\n"
     ]
    },
    {
     "name": "stderr",
     "output_type": "stream",
     "text": [
      "INFO:tensorflow:Converted MIDI file /data/heerak/music_vae/groove/drummer7/session2/77_funk_100_beat_4-4.mid.\n"
     ]
    },
    {
     "name": "stdout",
     "output_type": "stream",
     "text": [
      "INFO:tensorflow:Converted MIDI file /data/heerak/music_vae/groove/drummer7/session2/4_rock_120_beat_4-4.mid.\n"
     ]
    },
    {
     "name": "stderr",
     "output_type": "stream",
     "text": [
      "INFO:tensorflow:Converted MIDI file /data/heerak/music_vae/groove/drummer7/session2/4_rock_120_beat_4-4.mid.\n"
     ]
    },
    {
     "name": "stdout",
     "output_type": "stream",
     "text": [
      "INFO:tensorflow:Converted MIDI file /data/heerak/music_vae/groove/drummer7/session2/5_rock_120_beat_4-4.mid.\n"
     ]
    },
    {
     "name": "stderr",
     "output_type": "stream",
     "text": [
      "INFO:tensorflow:Converted MIDI file /data/heerak/music_vae/groove/drummer7/session2/5_rock_120_beat_4-4.mid.\n"
     ]
    },
    {
     "name": "stdout",
     "output_type": "stream",
     "text": [
      "INFO:tensorflow:Converted MIDI file /data/heerak/music_vae/groove/drummer7/session2/61_soul-motown_148_fill_4-4.mid.\n"
     ]
    },
    {
     "name": "stderr",
     "output_type": "stream",
     "text": [
      "INFO:tensorflow:Converted MIDI file /data/heerak/music_vae/groove/drummer7/session2/61_soul-motown_148_fill_4-4.mid.\n"
     ]
    },
    {
     "name": "stdout",
     "output_type": "stream",
     "text": [
      "INFO:tensorflow:Converted MIDI file /data/heerak/music_vae/groove/drummer7/session2/128_hiphop_140_fill_4-4.mid.\n"
     ]
    },
    {
     "name": "stderr",
     "output_type": "stream",
     "text": [
      "INFO:tensorflow:Converted MIDI file /data/heerak/music_vae/groove/drummer7/session2/128_hiphop_140_fill_4-4.mid.\n"
     ]
    },
    {
     "name": "stdout",
     "output_type": "stream",
     "text": [
      "INFO:tensorflow:Converted MIDI file /data/heerak/music_vae/groove/drummer7/session2/109_soul-motown_104_fill_4-4.mid.\n"
     ]
    },
    {
     "name": "stderr",
     "output_type": "stream",
     "text": [
      "INFO:tensorflow:Converted MIDI file /data/heerak/music_vae/groove/drummer7/session2/109_soul-motown_104_fill_4-4.mid.\n"
     ]
    },
    {
     "name": "stdout",
     "output_type": "stream",
     "text": [
      "INFO:tensorflow:Converted MIDI file /data/heerak/music_vae/groove/drummer7/session2/83_country_78_fill_4-4.mid.\n"
     ]
    },
    {
     "name": "stderr",
     "output_type": "stream",
     "text": [
      "INFO:tensorflow:Converted MIDI file /data/heerak/music_vae/groove/drummer7/session2/83_country_78_fill_4-4.mid.\n"
     ]
    },
    {
     "name": "stdout",
     "output_type": "stream",
     "text": [
      "INFO:tensorflow:Converted MIDI file /data/heerak/music_vae/groove/drummer7/session2/56_soul-motown_148_fill_4-4.mid.\n"
     ]
    },
    {
     "name": "stderr",
     "output_type": "stream",
     "text": [
      "INFO:tensorflow:Converted MIDI file /data/heerak/music_vae/groove/drummer7/session2/56_soul-motown_148_fill_4-4.mid.\n"
     ]
    },
    {
     "name": "stdout",
     "output_type": "stream",
     "text": [
      "INFO:tensorflow:Converted MIDI file /data/heerak/music_vae/groove/drummer7/session2/86_country_78_fill_4-4.mid.\n"
     ]
    },
    {
     "name": "stderr",
     "output_type": "stream",
     "text": [
      "INFO:tensorflow:Converted MIDI file /data/heerak/music_vae/groove/drummer7/session2/86_country_78_fill_4-4.mid.\n"
     ]
    },
    {
     "name": "stdout",
     "output_type": "stream",
     "text": [
      "INFO:tensorflow:Converted MIDI file /data/heerak/music_vae/groove/drummer7/session2/26_rock_118_beat_4-4.mid.\n"
     ]
    },
    {
     "name": "stderr",
     "output_type": "stream",
     "text": [
      "INFO:tensorflow:Converted MIDI file /data/heerak/music_vae/groove/drummer7/session2/26_rock_118_beat_4-4.mid.\n"
     ]
    },
    {
     "name": "stdout",
     "output_type": "stream",
     "text": [
      "INFO:tensorflow:Converted MIDI file /data/heerak/music_vae/groove/drummer7/session2/119_jazz-fusion_96_fill_4-4.mid.\n"
     ]
    },
    {
     "name": "stderr",
     "output_type": "stream",
     "text": [
      "INFO:tensorflow:Converted MIDI file /data/heerak/music_vae/groove/drummer7/session2/119_jazz-fusion_96_fill_4-4.mid.\n"
     ]
    },
    {
     "name": "stdout",
     "output_type": "stream",
     "text": [
      "INFO:tensorflow:Converted MIDI file /data/heerak/music_vae/groove/drummer7/session2/48_rock_135_fill_4-4.mid.\n"
     ]
    },
    {
     "name": "stderr",
     "output_type": "stream",
     "text": [
      "INFO:tensorflow:Converted MIDI file /data/heerak/music_vae/groove/drummer7/session2/48_rock_135_fill_4-4.mid.\n"
     ]
    },
    {
     "name": "stdout",
     "output_type": "stream",
     "text": [
      "INFO:tensorflow:Converted MIDI file /data/heerak/music_vae/groove/drummer7/session2/25_rock_118_fill_4-4.mid.\n"
     ]
    },
    {
     "name": "stderr",
     "output_type": "stream",
     "text": [
      "INFO:tensorflow:Converted MIDI file /data/heerak/music_vae/groove/drummer7/session2/25_rock_118_fill_4-4.mid.\n"
     ]
    },
    {
     "name": "stdout",
     "output_type": "stream",
     "text": [
      "INFO:tensorflow:Converted MIDI file /data/heerak/music_vae/groove/drummer7/session2/27_rock_75_beat_4-4.mid.\n"
     ]
    },
    {
     "name": "stderr",
     "output_type": "stream",
     "text": [
      "INFO:tensorflow:Converted MIDI file /data/heerak/music_vae/groove/drummer7/session2/27_rock_75_beat_4-4.mid.\n"
     ]
    },
    {
     "name": "stdout",
     "output_type": "stream",
     "text": [
      "INFO:tensorflow:Converted MIDI file /data/heerak/music_vae/groove/drummer7/session2/2_rock_120_beat_4-4.mid.\n"
     ]
    },
    {
     "name": "stderr",
     "output_type": "stream",
     "text": [
      "INFO:tensorflow:Converted MIDI file /data/heerak/music_vae/groove/drummer7/session2/2_rock_120_beat_4-4.mid.\n"
     ]
    },
    {
     "name": "stdout",
     "output_type": "stream",
     "text": [
      "INFO:tensorflow:Converted MIDI file /data/heerak/music_vae/groove/drummer7/session2/9_rock_95_fill_4-4.mid.\n"
     ]
    },
    {
     "name": "stderr",
     "output_type": "stream",
     "text": [
      "INFO:tensorflow:Converted MIDI file /data/heerak/music_vae/groove/drummer7/session2/9_rock_95_fill_4-4.mid.\n"
     ]
    },
    {
     "name": "stdout",
     "output_type": "stream",
     "text": [
      "INFO:tensorflow:Converted MIDI file /data/heerak/music_vae/groove/drummer7/session2/37_rock_112_beat_4-4.mid.\n"
     ]
    },
    {
     "name": "stderr",
     "output_type": "stream",
     "text": [
      "INFO:tensorflow:Converted MIDI file /data/heerak/music_vae/groove/drummer7/session2/37_rock_112_beat_4-4.mid.\n"
     ]
    },
    {
     "name": "stdout",
     "output_type": "stream",
     "text": [
      "INFO:tensorflow:Converted MIDI file /data/heerak/music_vae/groove/drummer7/session2/51_rock_135_fill_4-4.mid.\n"
     ]
    },
    {
     "name": "stderr",
     "output_type": "stream",
     "text": [
      "INFO:tensorflow:Converted MIDI file /data/heerak/music_vae/groove/drummer7/session2/51_rock_135_fill_4-4.mid.\n"
     ]
    },
    {
     "name": "stdout",
     "output_type": "stream",
     "text": [
      "INFO:tensorflow:Converted MIDI file /data/heerak/music_vae/groove/drummer7/session2/88_hiphop_75_fill_4-4.mid.\n"
     ]
    },
    {
     "name": "stderr",
     "output_type": "stream",
     "text": [
      "INFO:tensorflow:Converted MIDI file /data/heerak/music_vae/groove/drummer7/session2/88_hiphop_75_fill_4-4.mid.\n"
     ]
    },
    {
     "name": "stdout",
     "output_type": "stream",
     "text": [
      "INFO:tensorflow:Converted MIDI file /data/heerak/music_vae/groove/drummer7/session2/107_soul-motown_104_fill_4-4.mid.\n"
     ]
    },
    {
     "name": "stderr",
     "output_type": "stream",
     "text": [
      "INFO:tensorflow:Converted MIDI file /data/heerak/music_vae/groove/drummer7/session2/107_soul-motown_104_fill_4-4.mid.\n"
     ]
    },
    {
     "name": "stdout",
     "output_type": "stream",
     "text": [
      "INFO:tensorflow:Converted MIDI file /data/heerak/music_vae/groove/drummer7/session2/22_rock_118_beat_4-4.mid.\n"
     ]
    },
    {
     "name": "stderr",
     "output_type": "stream",
     "text": [
      "INFO:tensorflow:Converted MIDI file /data/heerak/music_vae/groove/drummer7/session2/22_rock_118_beat_4-4.mid.\n"
     ]
    },
    {
     "name": "stdout",
     "output_type": "stream",
     "text": [
      "INFO:tensorflow:Converted MIDI file /data/heerak/music_vae/groove/drummer7/session2/64_rock_145_beat_4-4.mid.\n"
     ]
    },
    {
     "name": "stderr",
     "output_type": "stream",
     "text": [
      "INFO:tensorflow:Converted MIDI file /data/heerak/music_vae/groove/drummer7/session2/64_rock_145_beat_4-4.mid.\n"
     ]
    },
    {
     "name": "stdout",
     "output_type": "stream",
     "text": [
      "INFO:tensorflow:Converted MIDI file /data/heerak/music_vae/groove/drummer7/session2/116_jazz-fusion_96_fill_4-4.mid.\n"
     ]
    },
    {
     "name": "stderr",
     "output_type": "stream",
     "text": [
      "INFO:tensorflow:Converted MIDI file /data/heerak/music_vae/groove/drummer7/session2/116_jazz-fusion_96_fill_4-4.mid.\n"
     ]
    },
    {
     "name": "stdout",
     "output_type": "stream",
     "text": [
      "INFO:tensorflow:Converted MIDI file /data/heerak/music_vae/groove/drummer7/session2/104_pop_132_beat_4-4.mid.\n"
     ]
    },
    {
     "name": "stderr",
     "output_type": "stream",
     "text": [
      "INFO:tensorflow:Converted MIDI file /data/heerak/music_vae/groove/drummer7/session2/104_pop_132_beat_4-4.mid.\n"
     ]
    },
    {
     "name": "stdout",
     "output_type": "stream",
     "text": [
      "INFO:tensorflow:Converted MIDI file /data/heerak/music_vae/groove/drummer7/session2/30_rock_75_beat_4-4.mid.\n"
     ]
    },
    {
     "name": "stderr",
     "output_type": "stream",
     "text": [
      "INFO:tensorflow:Converted MIDI file /data/heerak/music_vae/groove/drummer7/session2/30_rock_75_beat_4-4.mid.\n"
     ]
    },
    {
     "name": "stdout",
     "output_type": "stream",
     "text": [
      "INFO:tensorflow:Converted MIDI file /data/heerak/music_vae/groove/drummer7/session2/36_rock_75_fill_4-4.mid.\n"
     ]
    },
    {
     "name": "stderr",
     "output_type": "stream",
     "text": [
      "INFO:tensorflow:Converted MIDI file /data/heerak/music_vae/groove/drummer7/session2/36_rock_75_fill_4-4.mid.\n"
     ]
    },
    {
     "name": "stdout",
     "output_type": "stream",
     "text": [
      "INFO:tensorflow:Converted MIDI file /data/heerak/music_vae/groove/drummer7/session2/74_funk_100_fill_4-4.mid.\n"
     ]
    },
    {
     "name": "stderr",
     "output_type": "stream",
     "text": [
      "INFO:tensorflow:Converted MIDI file /data/heerak/music_vae/groove/drummer7/session2/74_funk_100_fill_4-4.mid.\n"
     ]
    },
    {
     "name": "stdout",
     "output_type": "stream",
     "text": [
      "INFO:tensorflow:Converted MIDI file /data/heerak/music_vae/groove/drummer7/session2/46_rock_135_beat_4-4.mid.\n"
     ]
    },
    {
     "name": "stderr",
     "output_type": "stream",
     "text": [
      "INFO:tensorflow:Converted MIDI file /data/heerak/music_vae/groove/drummer7/session2/46_rock_135_beat_4-4.mid.\n"
     ]
    },
    {
     "name": "stdout",
     "output_type": "stream",
     "text": [
      "INFO:tensorflow:Converted MIDI file /data/heerak/music_vae/groove/drummer7/session2/33_rock_75_beat_4-4.mid.\n"
     ]
    },
    {
     "name": "stderr",
     "output_type": "stream",
     "text": [
      "INFO:tensorflow:Converted MIDI file /data/heerak/music_vae/groove/drummer7/session2/33_rock_75_beat_4-4.mid.\n"
     ]
    },
    {
     "name": "stdout",
     "output_type": "stream",
     "text": [
      "WARNING:tensorflow:Unable to find a converter for file /data/heerak/music_vae/groove/drummer7/session2/Icon\n"
     ]
    },
    {
     "name": "stderr",
     "output_type": "stream",
     "text": [
      "WARNING:tensorflow:Unable to find a converter for file /data/heerak/music_vae/groove/drummer7/session2/Icon\n"
     ]
    },
    {
     "name": "stdout",
     "output_type": "stream",
     "text": [
      "INFO:tensorflow:Converted MIDI file /data/heerak/music_vae/groove/drummer7/session2/67_rock_145_fill_4-4.mid.\n"
     ]
    },
    {
     "name": "stderr",
     "output_type": "stream",
     "text": [
      "INFO:tensorflow:Converted MIDI file /data/heerak/music_vae/groove/drummer7/session2/67_rock_145_fill_4-4.mid.\n"
     ]
    },
    {
     "name": "stdout",
     "output_type": "stream",
     "text": [
      "INFO:tensorflow:Converted MIDI file /data/heerak/music_vae/groove/drummer7/session2/50_rock_135_fill_4-4.mid.\n"
     ]
    },
    {
     "name": "stderr",
     "output_type": "stream",
     "text": [
      "INFO:tensorflow:Converted MIDI file /data/heerak/music_vae/groove/drummer7/session2/50_rock_135_fill_4-4.mid.\n"
     ]
    },
    {
     "name": "stdout",
     "output_type": "stream",
     "text": [
      "INFO:tensorflow:Converted MIDI file /data/heerak/music_vae/groove/drummer7/session2/76_funk_100_beat_4-4.mid.\n"
     ]
    },
    {
     "name": "stderr",
     "output_type": "stream",
     "text": [
      "INFO:tensorflow:Converted MIDI file /data/heerak/music_vae/groove/drummer7/session2/76_funk_100_beat_4-4.mid.\n"
     ]
    },
    {
     "name": "stdout",
     "output_type": "stream",
     "text": [
      "INFO:tensorflow:Converted MIDI file /data/heerak/music_vae/groove/drummer7/session2/73_funk_100_fill_4-4.mid.\n"
     ]
    },
    {
     "name": "stderr",
     "output_type": "stream",
     "text": [
      "INFO:tensorflow:Converted MIDI file /data/heerak/music_vae/groove/drummer7/session2/73_funk_100_fill_4-4.mid.\n"
     ]
    },
    {
     "name": "stdout",
     "output_type": "stream",
     "text": [
      "INFO:tensorflow:Converted MIDI file /data/heerak/music_vae/groove/drummer7/session2/31_rock_75_fill_4-4.mid.\n"
     ]
    },
    {
     "name": "stderr",
     "output_type": "stream",
     "text": [
      "INFO:tensorflow:Converted MIDI file /data/heerak/music_vae/groove/drummer7/session2/31_rock_75_fill_4-4.mid.\n"
     ]
    },
    {
     "name": "stdout",
     "output_type": "stream",
     "text": [
      "INFO:tensorflow:Converted MIDI file /data/heerak/music_vae/groove/drummer7/session2/100_pop_142_beat_4-4.mid.\n"
     ]
    },
    {
     "name": "stderr",
     "output_type": "stream",
     "text": [
      "INFO:tensorflow:Converted MIDI file /data/heerak/music_vae/groove/drummer7/session2/100_pop_142_beat_4-4.mid.\n"
     ]
    },
    {
     "name": "stdout",
     "output_type": "stream",
     "text": [
      "INFO:tensorflow:Converted MIDI file /data/heerak/music_vae/groove/drummer7/session2/55_soul-motown_148_fill_4-4.mid.\n"
     ]
    },
    {
     "name": "stderr",
     "output_type": "stream",
     "text": [
      "INFO:tensorflow:Converted MIDI file /data/heerak/music_vae/groove/drummer7/session2/55_soul-motown_148_fill_4-4.mid.\n"
     ]
    },
    {
     "name": "stdout",
     "output_type": "stream",
     "text": [
      "INFO:tensorflow:Converted MIDI file /data/heerak/music_vae/groove/drummer7/session2/132_hiphop_140_fill_4-4.mid.\n"
     ]
    },
    {
     "name": "stderr",
     "output_type": "stream",
     "text": [
      "INFO:tensorflow:Converted MIDI file /data/heerak/music_vae/groove/drummer7/session2/132_hiphop_140_fill_4-4.mid.\n"
     ]
    },
    {
     "name": "stdout",
     "output_type": "stream",
     "text": [
      "INFO:tensorflow:Converted MIDI file /data/heerak/music_vae/groove/drummer7/session2/84_country_78_fill_4-4.mid.\n"
     ]
    },
    {
     "name": "stderr",
     "output_type": "stream",
     "text": [
      "INFO:tensorflow:Converted MIDI file /data/heerak/music_vae/groove/drummer7/session2/84_country_78_fill_4-4.mid.\n"
     ]
    },
    {
     "name": "stdout",
     "output_type": "stream",
     "text": [
      "INFO:tensorflow:Converted MIDI file /data/heerak/music_vae/groove/drummer7/session2/41_rock_112_fill_4-4.mid.\n"
     ]
    },
    {
     "name": "stderr",
     "output_type": "stream",
     "text": [
      "INFO:tensorflow:Converted MIDI file /data/heerak/music_vae/groove/drummer7/session2/41_rock_112_fill_4-4.mid.\n"
     ]
    },
    {
     "name": "stdout",
     "output_type": "stream",
     "text": [
      "INFO:tensorflow:Converted MIDI file /data/heerak/music_vae/groove/drummer7/session2/114_jazz-fusion_96_beat_4-4.mid.\n"
     ]
    },
    {
     "name": "stderr",
     "output_type": "stream",
     "text": [
      "INFO:tensorflow:Converted MIDI file /data/heerak/music_vae/groove/drummer7/session2/114_jazz-fusion_96_beat_4-4.mid.\n"
     ]
    },
    {
     "name": "stdout",
     "output_type": "stream",
     "text": [
      "INFO:tensorflow:Converted MIDI file /data/heerak/music_vae/groove/drummer7/session2/80_country_78_beat_4-4.mid.\n"
     ]
    },
    {
     "name": "stderr",
     "output_type": "stream",
     "text": [
      "INFO:tensorflow:Converted MIDI file /data/heerak/music_vae/groove/drummer7/session2/80_country_78_beat_4-4.mid.\n"
     ]
    },
    {
     "name": "stdout",
     "output_type": "stream",
     "text": [
      "INFO:tensorflow:Converted MIDI file /data/heerak/music_vae/groove/drummer7/session2/47_rock_135_fill_4-4.mid.\n"
     ]
    },
    {
     "name": "stderr",
     "output_type": "stream",
     "text": [
      "INFO:tensorflow:Converted MIDI file /data/heerak/music_vae/groove/drummer7/session2/47_rock_135_fill_4-4.mid.\n"
     ]
    },
    {
     "name": "stdout",
     "output_type": "stream",
     "text": [
      "INFO:tensorflow:Converted MIDI file /data/heerak/music_vae/groove/drummer7/session2/15_rock_118_beat_4-4.mid.\n"
     ]
    },
    {
     "name": "stderr",
     "output_type": "stream",
     "text": [
      "INFO:tensorflow:Converted MIDI file /data/heerak/music_vae/groove/drummer7/session2/15_rock_118_beat_4-4.mid.\n"
     ]
    },
    {
     "name": "stdout",
     "output_type": "stream",
     "text": [
      "INFO:tensorflow:Converted MIDI file /data/heerak/music_vae/groove/drummer7/session2/96_pop_142_beat_4-4.mid.\n"
     ]
    },
    {
     "name": "stderr",
     "output_type": "stream",
     "text": [
      "INFO:tensorflow:Converted MIDI file /data/heerak/music_vae/groove/drummer7/session2/96_pop_142_beat_4-4.mid.\n"
     ]
    },
    {
     "name": "stdout",
     "output_type": "stream",
     "text": [
      "INFO:tensorflow:Converted MIDI file /data/heerak/music_vae/groove/drummer7/session2/1_rock_120_beat_4-4.mid.\n"
     ]
    },
    {
     "name": "stderr",
     "output_type": "stream",
     "text": [
      "INFO:tensorflow:Converted MIDI file /data/heerak/music_vae/groove/drummer7/session2/1_rock_120_beat_4-4.mid.\n"
     ]
    },
    {
     "name": "stdout",
     "output_type": "stream",
     "text": [
      "INFO:tensorflow:Converting files in '/data/heerak/music_vae/groove/drummer7/eval_session'.\n"
     ]
    },
    {
     "name": "stderr",
     "output_type": "stream",
     "text": [
      "INFO:tensorflow:Converting files in '/data/heerak/music_vae/groove/drummer7/eval_session'.\n"
     ]
    },
    {
     "name": "stdout",
     "output_type": "stream",
     "text": [
      "INFO:tensorflow:Converted MIDI file /data/heerak/music_vae/groove/drummer7/eval_session/10_soul-groove10_102_beat_4-4.mid.\n"
     ]
    },
    {
     "name": "stderr",
     "output_type": "stream",
     "text": [
      "INFO:tensorflow:Converted MIDI file /data/heerak/music_vae/groove/drummer7/eval_session/10_soul-groove10_102_beat_4-4.mid.\n"
     ]
    },
    {
     "name": "stdout",
     "output_type": "stream",
     "text": [
      "INFO:tensorflow:Converted MIDI file /data/heerak/music_vae/groove/drummer7/eval_session/1_funk-groove1_138_beat_4-4.mid.\n"
     ]
    },
    {
     "name": "stderr",
     "output_type": "stream",
     "text": [
      "INFO:tensorflow:Converted MIDI file /data/heerak/music_vae/groove/drummer7/eval_session/1_funk-groove1_138_beat_4-4.mid.\n"
     ]
    },
    {
     "name": "stdout",
     "output_type": "stream",
     "text": [
      "INFO:tensorflow:Converted MIDI file /data/heerak/music_vae/groove/drummer7/eval_session/6_hiphop-groove6_87_beat_4-4.mid.\n"
     ]
    },
    {
     "name": "stderr",
     "output_type": "stream",
     "text": [
      "INFO:tensorflow:Converted MIDI file /data/heerak/music_vae/groove/drummer7/eval_session/6_hiphop-groove6_87_beat_4-4.mid.\n"
     ]
    },
    {
     "name": "stdout",
     "output_type": "stream",
     "text": [
      "INFO:tensorflow:Converted MIDI file /data/heerak/music_vae/groove/drummer7/eval_session/3_soul-groove3_86_beat_4-4.mid.\n"
     ]
    },
    {
     "name": "stderr",
     "output_type": "stream",
     "text": [
      "INFO:tensorflow:Converted MIDI file /data/heerak/music_vae/groove/drummer7/eval_session/3_soul-groove3_86_beat_4-4.mid.\n"
     ]
    },
    {
     "name": "stdout",
     "output_type": "stream",
     "text": [
      "INFO:tensorflow:Converted MIDI file /data/heerak/music_vae/groove/drummer7/eval_session/9_soul-groove9_105_beat_4-4.mid.\n"
     ]
    },
    {
     "name": "stderr",
     "output_type": "stream",
     "text": [
      "INFO:tensorflow:Converted MIDI file /data/heerak/music_vae/groove/drummer7/eval_session/9_soul-groove9_105_beat_4-4.mid.\n"
     ]
    },
    {
     "name": "stdout",
     "output_type": "stream",
     "text": [
      "INFO:tensorflow:Converted MIDI file /data/heerak/music_vae/groove/drummer7/eval_session/2_funk-groove2_105_beat_4-4.mid.\n"
     ]
    },
    {
     "name": "stderr",
     "output_type": "stream",
     "text": [
      "INFO:tensorflow:Converted MIDI file /data/heerak/music_vae/groove/drummer7/eval_session/2_funk-groove2_105_beat_4-4.mid.\n"
     ]
    },
    {
     "name": "stdout",
     "output_type": "stream",
     "text": [
      "INFO:tensorflow:Converted MIDI file /data/heerak/music_vae/groove/drummer7/eval_session/4_soul-groove4_80_beat_4-4.mid.\n"
     ]
    },
    {
     "name": "stderr",
     "output_type": "stream",
     "text": [
      "INFO:tensorflow:Converted MIDI file /data/heerak/music_vae/groove/drummer7/eval_session/4_soul-groove4_80_beat_4-4.mid.\n"
     ]
    },
    {
     "name": "stdout",
     "output_type": "stream",
     "text": [
      "INFO:tensorflow:Converted MIDI file /data/heerak/music_vae/groove/drummer7/eval_session/7_pop-groove7_138_beat_4-4.mid.\n"
     ]
    },
    {
     "name": "stderr",
     "output_type": "stream",
     "text": [
      "INFO:tensorflow:Converted MIDI file /data/heerak/music_vae/groove/drummer7/eval_session/7_pop-groove7_138_beat_4-4.mid.\n"
     ]
    },
    {
     "name": "stdout",
     "output_type": "stream",
     "text": [
      "INFO:tensorflow:Converted MIDI file /data/heerak/music_vae/groove/drummer7/eval_session/8_rock-groove8_65_beat_4-4.mid.\n"
     ]
    },
    {
     "name": "stderr",
     "output_type": "stream",
     "text": [
      "INFO:tensorflow:Converted MIDI file /data/heerak/music_vae/groove/drummer7/eval_session/8_rock-groove8_65_beat_4-4.mid.\n"
     ]
    },
    {
     "name": "stdout",
     "output_type": "stream",
     "text": [
      "WARNING:tensorflow:Unable to find a converter for file /data/heerak/music_vae/groove/drummer7/eval_session/Icon\n"
     ]
    },
    {
     "name": "stderr",
     "output_type": "stream",
     "text": [
      "WARNING:tensorflow:Unable to find a converter for file /data/heerak/music_vae/groove/drummer7/eval_session/Icon\n"
     ]
    },
    {
     "name": "stdout",
     "output_type": "stream",
     "text": [
      "INFO:tensorflow:Converted MIDI file /data/heerak/music_vae/groove/drummer7/eval_session/5_funk-groove5_84_beat_4-4.mid.\n"
     ]
    },
    {
     "name": "stderr",
     "output_type": "stream",
     "text": [
      "INFO:tensorflow:Converted MIDI file /data/heerak/music_vae/groove/drummer7/eval_session/5_funk-groove5_84_beat_4-4.mid.\n"
     ]
    },
    {
     "name": "stdout",
     "output_type": "stream",
     "text": [
      "INFO:tensorflow:Converting files in '/data/heerak/music_vae/groove/drummer7/session3'.\n"
     ]
    },
    {
     "name": "stderr",
     "output_type": "stream",
     "text": [
      "INFO:tensorflow:Converting files in '/data/heerak/music_vae/groove/drummer7/session3'.\n"
     ]
    },
    {
     "name": "stdout",
     "output_type": "stream",
     "text": [
      "INFO:tensorflow:Converted MIDI file /data/heerak/music_vae/groove/drummer7/session3/137_soul_105_fill_4-4.mid.\n"
     ]
    },
    {
     "name": "stderr",
     "output_type": "stream",
     "text": [
      "INFO:tensorflow:Converted MIDI file /data/heerak/music_vae/groove/drummer7/session3/137_soul_105_fill_4-4.mid.\n"
     ]
    },
    {
     "name": "stdout",
     "output_type": "stream",
     "text": [
      "INFO:tensorflow:Converted MIDI file /data/heerak/music_vae/groove/drummer7/session3/53_funk_112_fill_4-4.mid.\n"
     ]
    },
    {
     "name": "stderr",
     "output_type": "stream",
     "text": [
      "INFO:tensorflow:Converted MIDI file /data/heerak/music_vae/groove/drummer7/session3/53_funk_112_fill_4-4.mid.\n"
     ]
    },
    {
     "name": "stdout",
     "output_type": "stream",
     "text": [
      "INFO:tensorflow:Converted MIDI file /data/heerak/music_vae/groove/drummer7/session3/151_soul_98_beat_4-4.mid.\n"
     ]
    },
    {
     "name": "stderr",
     "output_type": "stream",
     "text": [
      "INFO:tensorflow:Converted MIDI file /data/heerak/music_vae/groove/drummer7/session3/151_soul_98_beat_4-4.mid.\n"
     ]
    },
    {
     "name": "stdout",
     "output_type": "stream",
     "text": [
      "INFO:tensorflow:Converted MIDI file /data/heerak/music_vae/groove/drummer7/session3/125_rock_93_fill_4-4.mid.\n"
     ]
    },
    {
     "name": "stderr",
     "output_type": "stream",
     "text": [
      "INFO:tensorflow:Converted MIDI file /data/heerak/music_vae/groove/drummer7/session3/125_rock_93_fill_4-4.mid.\n"
     ]
    },
    {
     "name": "stdout",
     "output_type": "stream",
     "text": [
      "INFO:tensorflow:Converted MIDI file /data/heerak/music_vae/groove/drummer7/session3/38_hiphop_67_beat_4-4.mid.\n"
     ]
    },
    {
     "name": "stderr",
     "output_type": "stream",
     "text": [
      "INFO:tensorflow:Converted MIDI file /data/heerak/music_vae/groove/drummer7/session3/38_hiphop_67_beat_4-4.mid.\n"
     ]
    },
    {
     "name": "stdout",
     "output_type": "stream",
     "text": [
      "INFO:tensorflow:Converted MIDI file /data/heerak/music_vae/groove/drummer7/session3/11_pop-soft_83_beat_4-4.mid.\n"
     ]
    },
    {
     "name": "stderr",
     "output_type": "stream",
     "text": [
      "INFO:tensorflow:Converted MIDI file /data/heerak/music_vae/groove/drummer7/session3/11_pop-soft_83_beat_4-4.mid.\n"
     ]
    },
    {
     "name": "stdout",
     "output_type": "stream",
     "text": [
      "INFO:tensorflow:Converted MIDI file /data/heerak/music_vae/groove/drummer7/session3/25_hiphop_67_fill_4-4.mid.\n"
     ]
    },
    {
     "name": "stderr",
     "output_type": "stream",
     "text": [
      "INFO:tensorflow:Converted MIDI file /data/heerak/music_vae/groove/drummer7/session3/25_hiphop_67_fill_4-4.mid.\n"
     ]
    },
    {
     "name": "stdout",
     "output_type": "stream",
     "text": [
      "INFO:tensorflow:Converted MIDI file /data/heerak/music_vae/groove/drummer7/session3/129_rock_93_beat_4-4.mid.\n"
     ]
    },
    {
     "name": "stderr",
     "output_type": "stream",
     "text": [
      "INFO:tensorflow:Converted MIDI file /data/heerak/music_vae/groove/drummer7/session3/129_rock_93_beat_4-4.mid.\n"
     ]
    },
    {
     "name": "stdout",
     "output_type": "stream",
     "text": [
      "INFO:tensorflow:Converted MIDI file /data/heerak/music_vae/groove/drummer7/session3/24_hiphop_67_beat_4-4.mid.\n"
     ]
    },
    {
     "name": "stderr",
     "output_type": "stream",
     "text": [
      "INFO:tensorflow:Converted MIDI file /data/heerak/music_vae/groove/drummer7/session3/24_hiphop_67_beat_4-4.mid.\n"
     ]
    },
    {
     "name": "stdout",
     "output_type": "stream",
     "text": [
      "INFO:tensorflow:Converted MIDI file /data/heerak/music_vae/groove/drummer7/session3/107_hiphop_70_fill_4-4.mid.\n"
     ]
    },
    {
     "name": "stderr",
     "output_type": "stream",
     "text": [
      "INFO:tensorflow:Converted MIDI file /data/heerak/music_vae/groove/drummer7/session3/107_hiphop_70_fill_4-4.mid.\n"
     ]
    },
    {
     "name": "stdout",
     "output_type": "stream",
     "text": [
      "INFO:tensorflow:Converted MIDI file /data/heerak/music_vae/groove/drummer7/session3/128_rock_93_fill_4-4.mid.\n"
     ]
    },
    {
     "name": "stderr",
     "output_type": "stream",
     "text": [
      "INFO:tensorflow:Converted MIDI file /data/heerak/music_vae/groove/drummer7/session3/128_rock_93_fill_4-4.mid.\n"
     ]
    },
    {
     "name": "stdout",
     "output_type": "stream",
     "text": [
      "INFO:tensorflow:Converted MIDI file /data/heerak/music_vae/groove/drummer7/session3/46_rock-indie_63_beat_4-4.mid.\n"
     ]
    },
    {
     "name": "stderr",
     "output_type": "stream",
     "text": [
      "INFO:tensorflow:Converted MIDI file /data/heerak/music_vae/groove/drummer7/session3/46_rock-indie_63_beat_4-4.mid.\n"
     ]
    },
    {
     "name": "stdout",
     "output_type": "stream",
     "text": [
      "INFO:tensorflow:Converted MIDI file /data/heerak/music_vae/groove/drummer7/session3/57_funk_112_fill_4-4.mid.\n"
     ]
    },
    {
     "name": "stderr",
     "output_type": "stream",
     "text": [
      "INFO:tensorflow:Converted MIDI file /data/heerak/music_vae/groove/drummer7/session3/57_funk_112_fill_4-4.mid.\n"
     ]
    },
    {
     "name": "stdout",
     "output_type": "stream",
     "text": [
      "INFO:tensorflow:Converted MIDI file /data/heerak/music_vae/groove/drummer7/session3/67_neworleans-funk_93_beat_4-4.mid.\n"
     ]
    },
    {
     "name": "stderr",
     "output_type": "stream",
     "text": [
      "INFO:tensorflow:Converted MIDI file /data/heerak/music_vae/groove/drummer7/session3/67_neworleans-funk_93_beat_4-4.mid.\n"
     ]
    },
    {
     "name": "stdout",
     "output_type": "stream",
     "text": [
      "INFO:tensorflow:Converted MIDI file /data/heerak/music_vae/groove/drummer7/session3/18_pop-soft_83_fill_4-4.mid.\n"
     ]
    },
    {
     "name": "stderr",
     "output_type": "stream",
     "text": [
      "INFO:tensorflow:Converted MIDI file /data/heerak/music_vae/groove/drummer7/session3/18_pop-soft_83_fill_4-4.mid.\n"
     ]
    },
    {
     "name": "stdout",
     "output_type": "stream",
     "text": [
      "INFO:tensorflow:Converted MIDI file /data/heerak/music_vae/groove/drummer7/session3/7_rock_60_fill_4-4.mid.\n"
     ]
    },
    {
     "name": "stderr",
     "output_type": "stream",
     "text": [
      "INFO:tensorflow:Converted MIDI file /data/heerak/music_vae/groove/drummer7/session3/7_rock_60_fill_4-4.mid.\n"
     ]
    },
    {
     "name": "stdout",
     "output_type": "stream",
     "text": [
      "INFO:tensorflow:Converted MIDI file /data/heerak/music_vae/groove/drummer7/session3/56_funk_112_fill_4-4.mid.\n"
     ]
    },
    {
     "name": "stderr",
     "output_type": "stream",
     "text": [
      "INFO:tensorflow:Converted MIDI file /data/heerak/music_vae/groove/drummer7/session3/56_funk_112_fill_4-4.mid.\n"
     ]
    },
    {
     "name": "stdout",
     "output_type": "stream",
     "text": [
      "INFO:tensorflow:Converted MIDI file /data/heerak/music_vae/groove/drummer7/session3/74_neworleans-funk_93_fill_4-4.mid.\n"
     ]
    },
    {
     "name": "stderr",
     "output_type": "stream",
     "text": [
      "INFO:tensorflow:Converted MIDI file /data/heerak/music_vae/groove/drummer7/session3/74_neworleans-funk_93_fill_4-4.mid.\n"
     ]
    },
    {
     "name": "stdout",
     "output_type": "stream",
     "text": [
      "INFO:tensorflow:Converted MIDI file /data/heerak/music_vae/groove/drummer7/session3/45_rock-indie_63_fill_4-4.mid.\n"
     ]
    },
    {
     "name": "stderr",
     "output_type": "stream",
     "text": [
      "INFO:tensorflow:Converted MIDI file /data/heerak/music_vae/groove/drummer7/session3/45_rock-indie_63_fill_4-4.mid.\n"
     ]
    },
    {
     "name": "stdout",
     "output_type": "stream",
     "text": [
      "INFO:tensorflow:Converted MIDI file /data/heerak/music_vae/groove/drummer7/session3/73_neworleans-funk_93_fill_4-4.mid.\n"
     ]
    },
    {
     "name": "stderr",
     "output_type": "stream",
     "text": [
      "INFO:tensorflow:Converted MIDI file /data/heerak/music_vae/groove/drummer7/session3/73_neworleans-funk_93_fill_4-4.mid.\n"
     ]
    },
    {
     "name": "stdout",
     "output_type": "stream",
     "text": [
      "INFO:tensorflow:Converted MIDI file /data/heerak/music_vae/groove/drummer7/session3/76_neworleans-funk_93_fill_4-4.mid.\n"
     ]
    },
    {
     "name": "stderr",
     "output_type": "stream",
     "text": [
      "INFO:tensorflow:Converted MIDI file /data/heerak/music_vae/groove/drummer7/session3/76_neworleans-funk_93_fill_4-4.mid.\n"
     ]
    },
    {
     "name": "stdout",
     "output_type": "stream",
     "text": [
      "INFO:tensorflow:Converted MIDI file /data/heerak/music_vae/groove/drummer7/session3/12_pop-soft_83_fill_4-4.mid.\n"
     ]
    },
    {
     "name": "stderr",
     "output_type": "stream",
     "text": [
      "INFO:tensorflow:Converted MIDI file /data/heerak/music_vae/groove/drummer7/session3/12_pop-soft_83_fill_4-4.mid.\n"
     ]
    },
    {
     "name": "stdout",
     "output_type": "stream",
     "text": [
      "INFO:tensorflow:Converted MIDI file /data/heerak/music_vae/groove/drummer7/session3/108_rock_95_beat_4-4.mid.\n"
     ]
    },
    {
     "name": "stderr",
     "output_type": "stream",
     "text": [
      "INFO:tensorflow:Converted MIDI file /data/heerak/music_vae/groove/drummer7/session3/108_rock_95_beat_4-4.mid.\n"
     ]
    },
    {
     "name": "stdout",
     "output_type": "stream",
     "text": [
      "INFO:tensorflow:Converted MIDI file /data/heerak/music_vae/groove/drummer7/session3/153_soul_98_fill_4-4.mid.\n"
     ]
    },
    {
     "name": "stderr",
     "output_type": "stream",
     "text": [
      "INFO:tensorflow:Converted MIDI file /data/heerak/music_vae/groove/drummer7/session3/153_soul_98_fill_4-4.mid.\n"
     ]
    },
    {
     "name": "stdout",
     "output_type": "stream",
     "text": [
      "INFO:tensorflow:Converted MIDI file /data/heerak/music_vae/groove/drummer7/session3/15_pop-soft_83_fill_4-4.mid.\n"
     ]
    },
    {
     "name": "stderr",
     "output_type": "stream",
     "text": [
      "INFO:tensorflow:Converted MIDI file /data/heerak/music_vae/groove/drummer7/session3/15_pop-soft_83_fill_4-4.mid.\n"
     ]
    },
    {
     "name": "stdout",
     "output_type": "stream",
     "text": [
      "INFO:tensorflow:Converted MIDI file /data/heerak/music_vae/groove/drummer7/session3/139_soul_105_fill_4-4.mid.\n"
     ]
    },
    {
     "name": "stderr",
     "output_type": "stream",
     "text": [
      "INFO:tensorflow:Converted MIDI file /data/heerak/music_vae/groove/drummer7/session3/139_soul_105_fill_4-4.mid.\n"
     ]
    },
    {
     "name": "stdout",
     "output_type": "stream",
     "text": [
      "INFO:tensorflow:Converted MIDI file /data/heerak/music_vae/groove/drummer7/session3/91_neworleans-funk_93_beat_4-4.mid.\n"
     ]
    },
    {
     "name": "stderr",
     "output_type": "stream",
     "text": [
      "INFO:tensorflow:Converted MIDI file /data/heerak/music_vae/groove/drummer7/session3/91_neworleans-funk_93_beat_4-4.mid.\n"
     ]
    },
    {
     "name": "stdout",
     "output_type": "stream",
     "text": [
      "INFO:tensorflow:Converted MIDI file /data/heerak/music_vae/groove/drummer7/session3/133_soul_105_beat_4-4.mid.\n"
     ]
    },
    {
     "name": "stderr",
     "output_type": "stream",
     "text": [
      "INFO:tensorflow:Converted MIDI file /data/heerak/music_vae/groove/drummer7/session3/133_soul_105_beat_4-4.mid.\n"
     ]
    },
    {
     "name": "stdout",
     "output_type": "stream",
     "text": [
      "INFO:tensorflow:Converted MIDI file /data/heerak/music_vae/groove/drummer7/session3/28_hiphop_67_fill_4-4.mid.\n"
     ]
    },
    {
     "name": "stderr",
     "output_type": "stream",
     "text": [
      "INFO:tensorflow:Converted MIDI file /data/heerak/music_vae/groove/drummer7/session3/28_hiphop_67_fill_4-4.mid.\n"
     ]
    },
    {
     "name": "stdout",
     "output_type": "stream",
     "text": [
      "INFO:tensorflow:Converted MIDI file /data/heerak/music_vae/groove/drummer7/session3/16_pop-soft_83_fill_4-4.mid.\n"
     ]
    },
    {
     "name": "stderr",
     "output_type": "stream",
     "text": [
      "INFO:tensorflow:Converted MIDI file /data/heerak/music_vae/groove/drummer7/session3/16_pop-soft_83_fill_4-4.mid.\n"
     ]
    },
    {
     "name": "stdout",
     "output_type": "stream",
     "text": [
      "INFO:tensorflow:Converted MIDI file /data/heerak/music_vae/groove/drummer7/session3/9_rock_60_fill_4-4.mid.\n"
     ]
    },
    {
     "name": "stderr",
     "output_type": "stream",
     "text": [
      "INFO:tensorflow:Converted MIDI file /data/heerak/music_vae/groove/drummer7/session3/9_rock_60_fill_4-4.mid.\n"
     ]
    },
    {
     "name": "stdout",
     "output_type": "stream",
     "text": [
      "INFO:tensorflow:Converted MIDI file /data/heerak/music_vae/groove/drummer7/session3/131_soul_105_beat_4-4.mid.\n"
     ]
    },
    {
     "name": "stderr",
     "output_type": "stream",
     "text": [
      "INFO:tensorflow:Converted MIDI file /data/heerak/music_vae/groove/drummer7/session3/131_soul_105_beat_4-4.mid.\n"
     ]
    },
    {
     "name": "stdout",
     "output_type": "stream",
     "text": [
      "INFO:tensorflow:Converted MIDI file /data/heerak/music_vae/groove/drummer7/session3/100_hiphop_70_fill_4-4.mid.\n"
     ]
    },
    {
     "name": "stderr",
     "output_type": "stream",
     "text": [
      "INFO:tensorflow:Converted MIDI file /data/heerak/music_vae/groove/drummer7/session3/100_hiphop_70_fill_4-4.mid.\n"
     ]
    },
    {
     "name": "stdout",
     "output_type": "stream",
     "text": [
      "INFO:tensorflow:Converted MIDI file /data/heerak/music_vae/groove/drummer7/session3/84_neworleans-funk_93_fill_4-4.mid.\n"
     ]
    },
    {
     "name": "stderr",
     "output_type": "stream",
     "text": [
      "INFO:tensorflow:Converted MIDI file /data/heerak/music_vae/groove/drummer7/session3/84_neworleans-funk_93_fill_4-4.mid.\n"
     ]
    },
    {
     "name": "stdout",
     "output_type": "stream",
     "text": [
      "INFO:tensorflow:Converted MIDI file /data/heerak/music_vae/groove/drummer7/session3/43_rock-indie_63_fill_4-4.mid.\n"
     ]
    },
    {
     "name": "stderr",
     "output_type": "stream",
     "text": [
      "INFO:tensorflow:Converted MIDI file /data/heerak/music_vae/groove/drummer7/session3/43_rock-indie_63_fill_4-4.mid.\n"
     ]
    },
    {
     "name": "stdout",
     "output_type": "stream",
     "text": [
      "INFO:tensorflow:Converted MIDI file /data/heerak/music_vae/groove/drummer7/session3/96_hiphop_70_fill_4-4.mid.\n"
     ]
    },
    {
     "name": "stderr",
     "output_type": "stream",
     "text": [
      "INFO:tensorflow:Converted MIDI file /data/heerak/music_vae/groove/drummer7/session3/96_hiphop_70_fill_4-4.mid.\n"
     ]
    },
    {
     "name": "stdout",
     "output_type": "stream",
     "text": [
      "INFO:tensorflow:Converted MIDI file /data/heerak/music_vae/groove/drummer7/session3/152_soul_98_fill_4-4.mid.\n"
     ]
    },
    {
     "name": "stderr",
     "output_type": "stream",
     "text": [
      "INFO:tensorflow:Converted MIDI file /data/heerak/music_vae/groove/drummer7/session3/152_soul_98_fill_4-4.mid.\n"
     ]
    },
    {
     "name": "stdout",
     "output_type": "stream",
     "text": [
      "INFO:tensorflow:Converted MIDI file /data/heerak/music_vae/groove/drummer7/session3/127_rock_93_fill_4-4.mid.\n"
     ]
    },
    {
     "name": "stderr",
     "output_type": "stream",
     "text": [
      "INFO:tensorflow:Converted MIDI file /data/heerak/music_vae/groove/drummer7/session3/127_rock_93_fill_4-4.mid.\n"
     ]
    },
    {
     "name": "stdout",
     "output_type": "stream",
     "text": [
      "INFO:tensorflow:Converted MIDI file /data/heerak/music_vae/groove/drummer7/session3/142_soul_105_fill_4-4.mid.\n"
     ]
    },
    {
     "name": "stderr",
     "output_type": "stream",
     "text": [
      "INFO:tensorflow:Converted MIDI file /data/heerak/music_vae/groove/drummer7/session3/142_soul_105_fill_4-4.mid.\n"
     ]
    },
    {
     "name": "stdout",
     "output_type": "stream",
     "text": [
      "INFO:tensorflow:Converted MIDI file /data/heerak/music_vae/groove/drummer7/session3/41_rock-indie_63_fill_4-4.mid.\n"
     ]
    },
    {
     "name": "stderr",
     "output_type": "stream",
     "text": [
      "INFO:tensorflow:Converted MIDI file /data/heerak/music_vae/groove/drummer7/session3/41_rock-indie_63_fill_4-4.mid.\n"
     ]
    },
    {
     "name": "stdout",
     "output_type": "stream",
     "text": [
      "INFO:tensorflow:Converted MIDI file /data/heerak/music_vae/groove/drummer7/session3/144_soul_105_fill_4-4.mid.\n"
     ]
    },
    {
     "name": "stderr",
     "output_type": "stream",
     "text": [
      "INFO:tensorflow:Converted MIDI file /data/heerak/music_vae/groove/drummer7/session3/144_soul_105_fill_4-4.mid.\n"
     ]
    },
    {
     "name": "stdout",
     "output_type": "stream",
     "text": [
      "INFO:tensorflow:Converted MIDI file /data/heerak/music_vae/groove/drummer7/session3/110_rock_95_fill_4-4.mid.\n"
     ]
    },
    {
     "name": "stderr",
     "output_type": "stream",
     "text": [
      "INFO:tensorflow:Converted MIDI file /data/heerak/music_vae/groove/drummer7/session3/110_rock_95_fill_4-4.mid.\n"
     ]
    },
    {
     "name": "stdout",
     "output_type": "stream",
     "text": [
      "INFO:tensorflow:Converted MIDI file /data/heerak/music_vae/groove/drummer7/session3/130_soul_105_beat_4-4.mid.\n"
     ]
    },
    {
     "name": "stderr",
     "output_type": "stream",
     "text": [
      "INFO:tensorflow:Converted MIDI file /data/heerak/music_vae/groove/drummer7/session3/130_soul_105_beat_4-4.mid.\n"
     ]
    },
    {
     "name": "stdout",
     "output_type": "stream",
     "text": [
      "INFO:tensorflow:Converted MIDI file /data/heerak/music_vae/groove/drummer7/session3/117_rock_95_beat_4-4.mid.\n"
     ]
    },
    {
     "name": "stderr",
     "output_type": "stream",
     "text": [
      "INFO:tensorflow:Converted MIDI file /data/heerak/music_vae/groove/drummer7/session3/117_rock_95_beat_4-4.mid.\n"
     ]
    },
    {
     "name": "stdout",
     "output_type": "stream",
     "text": [
      "INFO:tensorflow:Converted MIDI file /data/heerak/music_vae/groove/drummer7/session3/155_soul_98_fill_4-4.mid.\n"
     ]
    },
    {
     "name": "stderr",
     "output_type": "stream",
     "text": [
      "INFO:tensorflow:Converted MIDI file /data/heerak/music_vae/groove/drummer7/session3/155_soul_98_fill_4-4.mid.\n"
     ]
    },
    {
     "name": "stdout",
     "output_type": "stream",
     "text": [
      "INFO:tensorflow:Converted MIDI file /data/heerak/music_vae/groove/drummer7/session3/51_funk_112_fill_4-4.mid.\n"
     ]
    },
    {
     "name": "stderr",
     "output_type": "stream",
     "text": [
      "INFO:tensorflow:Converted MIDI file /data/heerak/music_vae/groove/drummer7/session3/51_funk_112_fill_4-4.mid.\n"
     ]
    },
    {
     "name": "stdout",
     "output_type": "stream",
     "text": [
      "INFO:tensorflow:Converted MIDI file /data/heerak/music_vae/groove/drummer7/session3/6_rock_60_fill_4-4.mid.\n"
     ]
    },
    {
     "name": "stderr",
     "output_type": "stream",
     "text": [
      "INFO:tensorflow:Converted MIDI file /data/heerak/music_vae/groove/drummer7/session3/6_rock_60_fill_4-4.mid.\n"
     ]
    },
    {
     "name": "stdout",
     "output_type": "stream",
     "text": [
      "INFO:tensorflow:Converted MIDI file /data/heerak/music_vae/groove/drummer7/session3/86_neworleans-funk_93_fill_4-4.mid.\n"
     ]
    },
    {
     "name": "stderr",
     "output_type": "stream",
     "text": [
      "INFO:tensorflow:Converted MIDI file /data/heerak/music_vae/groove/drummer7/session3/86_neworleans-funk_93_fill_4-4.mid.\n"
     ]
    },
    {
     "name": "stdout",
     "output_type": "stream",
     "text": [
      "INFO:tensorflow:Converted MIDI file /data/heerak/music_vae/groove/drummer7/session3/120_rock_93_beat_4-4.mid.\n"
     ]
    },
    {
     "name": "stderr",
     "output_type": "stream",
     "text": [
      "INFO:tensorflow:Converted MIDI file /data/heerak/music_vae/groove/drummer7/session3/120_rock_93_beat_4-4.mid.\n"
     ]
    },
    {
     "name": "stdout",
     "output_type": "stream",
     "text": [
      "INFO:tensorflow:Converted MIDI file /data/heerak/music_vae/groove/drummer7/session3/90_neworleans-funk_93_fill_4-4.mid.\n"
     ]
    },
    {
     "name": "stderr",
     "output_type": "stream",
     "text": [
      "INFO:tensorflow:Converted MIDI file /data/heerak/music_vae/groove/drummer7/session3/90_neworleans-funk_93_fill_4-4.mid.\n"
     ]
    },
    {
     "name": "stdout",
     "output_type": "stream",
     "text": [
      "INFO:tensorflow:0 files converted.\n"
     ]
    },
    {
     "name": "stderr",
     "output_type": "stream",
     "text": [
      "INFO:tensorflow:0 files converted.\n"
     ]
    },
    {
     "name": "stdout",
     "output_type": "stream",
     "text": [
      "INFO:tensorflow:Converted MIDI file /data/heerak/music_vae/groove/drummer7/session3/71_neworleans-funk_93_fill_4-4.mid.\n"
     ]
    },
    {
     "name": "stderr",
     "output_type": "stream",
     "text": [
      "INFO:tensorflow:Converted MIDI file /data/heerak/music_vae/groove/drummer7/session3/71_neworleans-funk_93_fill_4-4.mid.\n"
     ]
    },
    {
     "name": "stdout",
     "output_type": "stream",
     "text": [
      "INFO:tensorflow:Converted MIDI file /data/heerak/music_vae/groove/drummer7/session3/58_funk_112_fill_4-4.mid.\n"
     ]
    },
    {
     "name": "stderr",
     "output_type": "stream",
     "text": [
      "INFO:tensorflow:Converted MIDI file /data/heerak/music_vae/groove/drummer7/session3/58_funk_112_fill_4-4.mid.\n"
     ]
    },
    {
     "name": "stdout",
     "output_type": "stream",
     "text": [
      "INFO:tensorflow:Converted MIDI file /data/heerak/music_vae/groove/drummer7/session3/27_hiphop_67_fill_4-4.mid.\n"
     ]
    },
    {
     "name": "stderr",
     "output_type": "stream",
     "text": [
      "INFO:tensorflow:Converted MIDI file /data/heerak/music_vae/groove/drummer7/session3/27_hiphop_67_fill_4-4.mid.\n"
     ]
    },
    {
     "name": "stdout",
     "output_type": "stream",
     "text": [
      "INFO:tensorflow:Converted MIDI file /data/heerak/music_vae/groove/drummer7/session3/79_neworleans-funk_93_fill_4-4.mid.\n"
     ]
    },
    {
     "name": "stderr",
     "output_type": "stream",
     "text": [
      "INFO:tensorflow:Converted MIDI file /data/heerak/music_vae/groove/drummer7/session3/79_neworleans-funk_93_fill_4-4.mid.\n"
     ]
    },
    {
     "name": "stdout",
     "output_type": "stream",
     "text": [
      "INFO:tensorflow:Converted MIDI file /data/heerak/music_vae/groove/drummer7/session3/63_funk_112_fill_4-4.mid.\n"
     ]
    },
    {
     "name": "stderr",
     "output_type": "stream",
     "text": [
      "INFO:tensorflow:Converted MIDI file /data/heerak/music_vae/groove/drummer7/session3/63_funk_112_fill_4-4.mid.\n"
     ]
    },
    {
     "name": "stdout",
     "output_type": "stream",
     "text": [
      "INFO:tensorflow:Converted MIDI file /data/heerak/music_vae/groove/drummer7/session3/150_soul_105_beat_4-4.mid.\n"
     ]
    },
    {
     "name": "stderr",
     "output_type": "stream",
     "text": [
      "INFO:tensorflow:Converted MIDI file /data/heerak/music_vae/groove/drummer7/session3/150_soul_105_beat_4-4.mid.\n"
     ]
    },
    {
     "name": "stdout",
     "output_type": "stream",
     "text": [
      "INFO:tensorflow:Converted MIDI file /data/heerak/music_vae/groove/drummer7/session3/52_funk_112_fill_4-4.mid.\n"
     ]
    },
    {
     "name": "stderr",
     "output_type": "stream",
     "text": [
      "INFO:tensorflow:Converted MIDI file /data/heerak/music_vae/groove/drummer7/session3/52_funk_112_fill_4-4.mid.\n"
     ]
    },
    {
     "name": "stdout",
     "output_type": "stream",
     "text": [
      "INFO:tensorflow:Converted MIDI file /data/heerak/music_vae/groove/drummer7/session3/78_neworleans-funk_93_fill_4-4.mid.\n"
     ]
    },
    {
     "name": "stderr",
     "output_type": "stream",
     "text": [
      "INFO:tensorflow:Converted MIDI file /data/heerak/music_vae/groove/drummer7/session3/78_neworleans-funk_93_fill_4-4.mid.\n"
     ]
    },
    {
     "name": "stdout",
     "output_type": "stream",
     "text": [
      "INFO:tensorflow:Converted MIDI file /data/heerak/music_vae/groove/drummer7/session3/64_funk_112_beat_4-4.mid.\n"
     ]
    },
    {
     "name": "stderr",
     "output_type": "stream",
     "text": [
      "INFO:tensorflow:Converted MIDI file /data/heerak/music_vae/groove/drummer7/session3/64_funk_112_beat_4-4.mid.\n"
     ]
    },
    {
     "name": "stdout",
     "output_type": "stream",
     "text": [
      "INFO:tensorflow:Converted MIDI file /data/heerak/music_vae/groove/drummer7/session3/97_hiphop_70_fill_4-4.mid.\n"
     ]
    },
    {
     "name": "stderr",
     "output_type": "stream",
     "text": [
      "INFO:tensorflow:Converted MIDI file /data/heerak/music_vae/groove/drummer7/session3/97_hiphop_70_fill_4-4.mid.\n"
     ]
    },
    {
     "name": "stdout",
     "output_type": "stream",
     "text": [
      "INFO:tensorflow:Converted MIDI file /data/heerak/music_vae/groove/drummer7/session3/22_pop-soft_83_beat_4-4.mid.\n"
     ]
    },
    {
     "name": "stderr",
     "output_type": "stream",
     "text": [
      "INFO:tensorflow:Converted MIDI file /data/heerak/music_vae/groove/drummer7/session3/22_pop-soft_83_beat_4-4.mid.\n"
     ]
    },
    {
     "name": "stdout",
     "output_type": "stream",
     "text": [
      "INFO:tensorflow:Converted MIDI file /data/heerak/music_vae/groove/drummer7/session3/119_rock_95_beat_4-4.mid.\n"
     ]
    },
    {
     "name": "stderr",
     "output_type": "stream",
     "text": [
      "INFO:tensorflow:Converted MIDI file /data/heerak/music_vae/groove/drummer7/session3/119_rock_95_beat_4-4.mid.\n"
     ]
    },
    {
     "name": "stdout",
     "output_type": "stream",
     "text": [
      "INFO:tensorflow:Converted MIDI file /data/heerak/music_vae/groove/drummer7/session3/47_funk_112_beat_4-4.mid.\n"
     ]
    },
    {
     "name": "stderr",
     "output_type": "stream",
     "text": [
      "INFO:tensorflow:Converted MIDI file /data/heerak/music_vae/groove/drummer7/session3/47_funk_112_beat_4-4.mid.\n"
     ]
    },
    {
     "name": "stdout",
     "output_type": "stream",
     "text": [
      "INFO:tensorflow:Converted MIDI file /data/heerak/music_vae/groove/drummer7/session3/103_hiphop_70_fill_4-4.mid.\n"
     ]
    },
    {
     "name": "stderr",
     "output_type": "stream",
     "text": [
      "INFO:tensorflow:Converted MIDI file /data/heerak/music_vae/groove/drummer7/session3/103_hiphop_70_fill_4-4.mid.\n"
     ]
    },
    {
     "name": "stdout",
     "output_type": "stream",
     "text": [
      "INFO:tensorflow:Converted MIDI file /data/heerak/music_vae/groove/drummer7/session3/49_funk_112_beat_4-4.mid.\n"
     ]
    },
    {
     "name": "stderr",
     "output_type": "stream",
     "text": [
      "INFO:tensorflow:Converted MIDI file /data/heerak/music_vae/groove/drummer7/session3/49_funk_112_beat_4-4.mid.\n"
     ]
    },
    {
     "name": "stdout",
     "output_type": "stream",
     "text": [
      "INFO:tensorflow:Converted MIDI file /data/heerak/music_vae/groove/drummer7/session3/13_pop-soft_83_fill_4-4.mid.\n"
     ]
    },
    {
     "name": "stderr",
     "output_type": "stream",
     "text": [
      "INFO:tensorflow:Converted MIDI file /data/heerak/music_vae/groove/drummer7/session3/13_pop-soft_83_fill_4-4.mid.\n"
     ]
    },
    {
     "name": "stdout",
     "output_type": "stream",
     "text": [
      "INFO:tensorflow:Converted MIDI file /data/heerak/music_vae/groove/drummer7/session3/61_funk_112_fill_4-4.mid.\n"
     ]
    },
    {
     "name": "stderr",
     "output_type": "stream",
     "text": [
      "INFO:tensorflow:Converted MIDI file /data/heerak/music_vae/groove/drummer7/session3/61_funk_112_fill_4-4.mid.\n"
     ]
    },
    {
     "name": "stdout",
     "output_type": "stream",
     "text": [
      "INFO:tensorflow:Converted MIDI file /data/heerak/music_vae/groove/drummer7/session3/112_rock_95_fill_4-4.mid.\n"
     ]
    },
    {
     "name": "stderr",
     "output_type": "stream",
     "text": [
      "INFO:tensorflow:Converted MIDI file /data/heerak/music_vae/groove/drummer7/session3/112_rock_95_fill_4-4.mid.\n"
     ]
    },
    {
     "name": "stdout",
     "output_type": "stream",
     "text": [
      "INFO:tensorflow:Converted MIDI file /data/heerak/music_vae/groove/drummer7/session3/4_rock_60_fill_4-4.mid.\n"
     ]
    },
    {
     "name": "stderr",
     "output_type": "stream",
     "text": [
      "INFO:tensorflow:Converted MIDI file /data/heerak/music_vae/groove/drummer7/session3/4_rock_60_fill_4-4.mid.\n"
     ]
    },
    {
     "name": "stdout",
     "output_type": "stream",
     "text": [
      "INFO:tensorflow:Converted MIDI file /data/heerak/music_vae/groove/drummer7/session3/32_hiphop_67_fill_4-4.mid.\n"
     ]
    },
    {
     "name": "stderr",
     "output_type": "stream",
     "text": [
      "INFO:tensorflow:Converted MIDI file /data/heerak/music_vae/groove/drummer7/session3/32_hiphop_67_fill_4-4.mid.\n"
     ]
    },
    {
     "name": "stdout",
     "output_type": "stream",
     "text": [
      "INFO:tensorflow:Converted MIDI file /data/heerak/music_vae/groove/drummer7/session3/10_rock_60_beat_4-4.mid.\n"
     ]
    },
    {
     "name": "stderr",
     "output_type": "stream",
     "text": [
      "INFO:tensorflow:Converted MIDI file /data/heerak/music_vae/groove/drummer7/session3/10_rock_60_beat_4-4.mid.\n"
     ]
    },
    {
     "name": "stdout",
     "output_type": "stream",
     "text": [
      "INFO:tensorflow:Converted MIDI file /data/heerak/music_vae/groove/drummer7/session3/80_neworleans-funk_93_fill_4-4.mid.\n"
     ]
    },
    {
     "name": "stderr",
     "output_type": "stream",
     "text": [
      "INFO:tensorflow:Converted MIDI file /data/heerak/music_vae/groove/drummer7/session3/80_neworleans-funk_93_fill_4-4.mid.\n"
     ]
    },
    {
     "name": "stdout",
     "output_type": "stream",
     "text": [
      "INFO:tensorflow:Converted MIDI file /data/heerak/music_vae/groove/drummer7/session3/81_neworleans-funk_93_fill_4-4.mid.\n"
     ]
    },
    {
     "name": "stderr",
     "output_type": "stream",
     "text": [
      "INFO:tensorflow:Converted MIDI file /data/heerak/music_vae/groove/drummer7/session3/81_neworleans-funk_93_fill_4-4.mid.\n"
     ]
    },
    {
     "name": "stdout",
     "output_type": "stream",
     "text": [
      "INFO:tensorflow:Converted MIDI file /data/heerak/music_vae/groove/drummer7/session3/126_rock_93_fill_4-4.mid.\n"
     ]
    },
    {
     "name": "stderr",
     "output_type": "stream",
     "text": [
      "INFO:tensorflow:Converted MIDI file /data/heerak/music_vae/groove/drummer7/session3/126_rock_93_fill_4-4.mid.\n"
     ]
    },
    {
     "name": "stdout",
     "output_type": "stream",
     "text": [
      "INFO:tensorflow:Converted MIDI file /data/heerak/music_vae/groove/drummer7/session3/83_neworleans-funk_93_fill_4-4.mid.\n"
     ]
    },
    {
     "name": "stderr",
     "output_type": "stream",
     "text": [
      "INFO:tensorflow:Converted MIDI file /data/heerak/music_vae/groove/drummer7/session3/83_neworleans-funk_93_fill_4-4.mid.\n"
     ]
    },
    {
     "name": "stdout",
     "output_type": "stream",
     "text": [
      "INFO:tensorflow:Converted MIDI file /data/heerak/music_vae/groove/drummer7/session3/105_hiphop_70_fill_4-4.mid.\n"
     ]
    },
    {
     "name": "stderr",
     "output_type": "stream",
     "text": [
      "INFO:tensorflow:Converted MIDI file /data/heerak/music_vae/groove/drummer7/session3/105_hiphop_70_fill_4-4.mid.\n"
     ]
    },
    {
     "name": "stdout",
     "output_type": "stream",
     "text": [
      "INFO:tensorflow:Converted MIDI file /data/heerak/music_vae/groove/drummer7/session3/159_soul_98_beat_4-4.mid.\n"
     ]
    },
    {
     "name": "stderr",
     "output_type": "stream",
     "text": [
      "INFO:tensorflow:Converted MIDI file /data/heerak/music_vae/groove/drummer7/session3/159_soul_98_beat_4-4.mid.\n"
     ]
    },
    {
     "name": "stdout",
     "output_type": "stream",
     "text": [
      "INFO:tensorflow:Converted MIDI file /data/heerak/music_vae/groove/drummer7/session3/37_hiphop_67_fill_4-4.mid.\n"
     ]
    },
    {
     "name": "stderr",
     "output_type": "stream",
     "text": [
      "INFO:tensorflow:Converted MIDI file /data/heerak/music_vae/groove/drummer7/session3/37_hiphop_67_fill_4-4.mid.\n"
     ]
    },
    {
     "name": "stdout",
     "output_type": "stream",
     "text": [
      "INFO:tensorflow:Converted MIDI file /data/heerak/music_vae/groove/drummer7/session3/54_funk_112_fill_4-4.mid.\n"
     ]
    },
    {
     "name": "stderr",
     "output_type": "stream",
     "text": [
      "INFO:tensorflow:Converted MIDI file /data/heerak/music_vae/groove/drummer7/session3/54_funk_112_fill_4-4.mid.\n"
     ]
    },
    {
     "name": "stdout",
     "output_type": "stream",
     "text": [
      "INFO:tensorflow:Converted MIDI file /data/heerak/music_vae/groove/drummer7/session3/42_rock-indie_63_fill_4-4.mid.\n"
     ]
    },
    {
     "name": "stderr",
     "output_type": "stream",
     "text": [
      "INFO:tensorflow:Converted MIDI file /data/heerak/music_vae/groove/drummer7/session3/42_rock-indie_63_fill_4-4.mid.\n"
     ]
    },
    {
     "name": "stdout",
     "output_type": "stream",
     "text": [
      "INFO:tensorflow:Converted MIDI file /data/heerak/music_vae/groove/drummer7/session3/82_neworleans-funk_93_fill_4-4.mid.\n"
     ]
    },
    {
     "name": "stderr",
     "output_type": "stream",
     "text": [
      "INFO:tensorflow:Converted MIDI file /data/heerak/music_vae/groove/drummer7/session3/82_neworleans-funk_93_fill_4-4.mid.\n"
     ]
    },
    {
     "name": "stdout",
     "output_type": "stream",
     "text": [
      "INFO:tensorflow:Converted MIDI file /data/heerak/music_vae/groove/drummer7/session3/85_neworleans-funk_93_fill_4-4.mid.\n"
     ]
    },
    {
     "name": "stderr",
     "output_type": "stream",
     "text": [
      "INFO:tensorflow:Converted MIDI file /data/heerak/music_vae/groove/drummer7/session3/85_neworleans-funk_93_fill_4-4.mid.\n"
     ]
    },
    {
     "name": "stdout",
     "output_type": "stream",
     "text": [
      "INFO:tensorflow:Converted MIDI file /data/heerak/music_vae/groove/drummer7/session3/115_rock_95_fill_4-4.mid.\n"
     ]
    },
    {
     "name": "stderr",
     "output_type": "stream",
     "text": [
      "INFO:tensorflow:Converted MIDI file /data/heerak/music_vae/groove/drummer7/session3/115_rock_95_fill_4-4.mid.\n"
     ]
    },
    {
     "name": "stdout",
     "output_type": "stream",
     "text": [
      "INFO:tensorflow:Converted MIDI file /data/heerak/music_vae/groove/drummer7/session3/44_rock-indie_63_fill_4-4.mid.\n"
     ]
    },
    {
     "name": "stderr",
     "output_type": "stream",
     "text": [
      "INFO:tensorflow:Converted MIDI file /data/heerak/music_vae/groove/drummer7/session3/44_rock-indie_63_fill_4-4.mid.\n"
     ]
    },
    {
     "name": "stdout",
     "output_type": "stream",
     "text": [
      "INFO:tensorflow:Converted MIDI file /data/heerak/music_vae/groove/drummer7/session3/134_soul_105_fill_4-4.mid.\n"
     ]
    },
    {
     "name": "stderr",
     "output_type": "stream",
     "text": [
      "INFO:tensorflow:Converted MIDI file /data/heerak/music_vae/groove/drummer7/session3/134_soul_105_fill_4-4.mid.\n"
     ]
    },
    {
     "name": "stdout",
     "output_type": "stream",
     "text": [
      "INFO:tensorflow:Converted MIDI file /data/heerak/music_vae/groove/drummer7/session3/116_rock_95_fill_4-4.mid.\n"
     ]
    },
    {
     "name": "stderr",
     "output_type": "stream",
     "text": [
      "INFO:tensorflow:Converted MIDI file /data/heerak/music_vae/groove/drummer7/session3/116_rock_95_fill_4-4.mid.\n"
     ]
    },
    {
     "name": "stdout",
     "output_type": "stream",
     "text": [
      "INFO:tensorflow:Converted MIDI file /data/heerak/music_vae/groove/drummer7/session3/21_pop-soft_83_fill_4-4.mid.\n"
     ]
    },
    {
     "name": "stderr",
     "output_type": "stream",
     "text": [
      "INFO:tensorflow:Converted MIDI file /data/heerak/music_vae/groove/drummer7/session3/21_pop-soft_83_fill_4-4.mid.\n"
     ]
    },
    {
     "name": "stdout",
     "output_type": "stream",
     "text": [
      "INFO:tensorflow:Converted MIDI file /data/heerak/music_vae/groove/drummer7/session3/157_soul_98_fill_4-4.mid.\n"
     ]
    },
    {
     "name": "stderr",
     "output_type": "stream",
     "text": [
      "INFO:tensorflow:Converted MIDI file /data/heerak/music_vae/groove/drummer7/session3/157_soul_98_fill_4-4.mid.\n"
     ]
    },
    {
     "name": "stdout",
     "output_type": "stream",
     "text": [
      "INFO:tensorflow:Converted MIDI file /data/heerak/music_vae/groove/drummer7/session3/70_neworleans-funk_93_fill_4-4.mid.\n"
     ]
    },
    {
     "name": "stderr",
     "output_type": "stream",
     "text": [
      "INFO:tensorflow:Converted MIDI file /data/heerak/music_vae/groove/drummer7/session3/70_neworleans-funk_93_fill_4-4.mid.\n"
     ]
    },
    {
     "name": "stdout",
     "output_type": "stream",
     "text": [
      "INFO:tensorflow:Converted MIDI file /data/heerak/music_vae/groove/drummer7/session3/101_hiphop_70_fill_4-4.mid.\n"
     ]
    },
    {
     "name": "stderr",
     "output_type": "stream",
     "text": [
      "INFO:tensorflow:Converted MIDI file /data/heerak/music_vae/groove/drummer7/session3/101_hiphop_70_fill_4-4.mid.\n"
     ]
    },
    {
     "name": "stdout",
     "output_type": "stream",
     "text": [
      "INFO:tensorflow:Converted MIDI file /data/heerak/music_vae/groove/drummer7/session3/122_rock_93_fill_4-4.mid.\n"
     ]
    },
    {
     "name": "stderr",
     "output_type": "stream",
     "text": [
      "INFO:tensorflow:Converted MIDI file /data/heerak/music_vae/groove/drummer7/session3/122_rock_93_fill_4-4.mid.\n"
     ]
    },
    {
     "name": "stdout",
     "output_type": "stream",
     "text": [
      "INFO:tensorflow:Converted MIDI file /data/heerak/music_vae/groove/drummer7/session3/33_hiphop_67_fill_4-4.mid.\n"
     ]
    },
    {
     "name": "stderr",
     "output_type": "stream",
     "text": [
      "INFO:tensorflow:Converted MIDI file /data/heerak/music_vae/groove/drummer7/session3/33_hiphop_67_fill_4-4.mid.\n"
     ]
    },
    {
     "name": "stdout",
     "output_type": "stream",
     "text": [
      "INFO:tensorflow:Converted MIDI file /data/heerak/music_vae/groove/drummer7/session3/94_hiphop_70_fill_4-4.mid.\n"
     ]
    },
    {
     "name": "stderr",
     "output_type": "stream",
     "text": [
      "INFO:tensorflow:Converted MIDI file /data/heerak/music_vae/groove/drummer7/session3/94_hiphop_70_fill_4-4.mid.\n"
     ]
    },
    {
     "name": "stdout",
     "output_type": "stream",
     "text": [
      "INFO:tensorflow:Converted MIDI file /data/heerak/music_vae/groove/drummer7/session3/72_neworleans-funk_93_fill_4-4.mid.\n"
     ]
    },
    {
     "name": "stderr",
     "output_type": "stream",
     "text": [
      "INFO:tensorflow:Converted MIDI file /data/heerak/music_vae/groove/drummer7/session3/72_neworleans-funk_93_fill_4-4.mid.\n"
     ]
    },
    {
     "name": "stdout",
     "output_type": "stream",
     "text": [
      "INFO:tensorflow:Converted MIDI file /data/heerak/music_vae/groove/drummer7/session3/118_rock_95_fill_4-4.mid.\n"
     ]
    },
    {
     "name": "stderr",
     "output_type": "stream",
     "text": [
      "INFO:tensorflow:Converted MIDI file /data/heerak/music_vae/groove/drummer7/session3/118_rock_95_fill_4-4.mid.\n"
     ]
    },
    {
     "name": "stdout",
     "output_type": "stream",
     "text": [
      "INFO:tensorflow:Converted MIDI file /data/heerak/music_vae/groove/drummer7/session3/39_rock-indie_63_beat_4-4.mid.\n"
     ]
    },
    {
     "name": "stderr",
     "output_type": "stream",
     "text": [
      "INFO:tensorflow:Converted MIDI file /data/heerak/music_vae/groove/drummer7/session3/39_rock-indie_63_beat_4-4.mid.\n"
     ]
    },
    {
     "name": "stdout",
     "output_type": "stream",
     "text": [
      "INFO:tensorflow:Converted MIDI file /data/heerak/music_vae/groove/drummer7/session3/88_neworleans-funk_93_fill_4-4.mid.\n"
     ]
    },
    {
     "name": "stderr",
     "output_type": "stream",
     "text": [
      "INFO:tensorflow:Converted MIDI file /data/heerak/music_vae/groove/drummer7/session3/88_neworleans-funk_93_fill_4-4.mid.\n"
     ]
    },
    {
     "name": "stdout",
     "output_type": "stream",
     "text": [
      "INFO:tensorflow:Converted MIDI file /data/heerak/music_vae/groove/drummer7/session3/93_hiphop_70_fill_4-4.mid.\n"
     ]
    },
    {
     "name": "stderr",
     "output_type": "stream",
     "text": [
      "INFO:tensorflow:Converted MIDI file /data/heerak/music_vae/groove/drummer7/session3/93_hiphop_70_fill_4-4.mid.\n"
     ]
    },
    {
     "name": "stdout",
     "output_type": "stream",
     "text": [
      "INFO:tensorflow:Converted MIDI file /data/heerak/music_vae/groove/drummer7/session3/113_rock_95_fill_4-4.mid.\n"
     ]
    },
    {
     "name": "stderr",
     "output_type": "stream",
     "text": [
      "INFO:tensorflow:Converted MIDI file /data/heerak/music_vae/groove/drummer7/session3/113_rock_95_fill_4-4.mid.\n"
     ]
    },
    {
     "name": "stdout",
     "output_type": "stream",
     "text": [
      "INFO:tensorflow:Converted MIDI file /data/heerak/music_vae/groove/drummer7/session3/23_pop-soft_83_beat_4-4.mid.\n"
     ]
    },
    {
     "name": "stderr",
     "output_type": "stream",
     "text": [
      "INFO:tensorflow:Converted MIDI file /data/heerak/music_vae/groove/drummer7/session3/23_pop-soft_83_beat_4-4.mid.\n"
     ]
    },
    {
     "name": "stdout",
     "output_type": "stream",
     "text": [
      "INFO:tensorflow:Converted MIDI file /data/heerak/music_vae/groove/drummer7/session3/1_rock_60_beat_4-4.mid.\n"
     ]
    },
    {
     "name": "stderr",
     "output_type": "stream",
     "text": [
      "INFO:tensorflow:Converted MIDI file /data/heerak/music_vae/groove/drummer7/session3/1_rock_60_beat_4-4.mid.\n"
     ]
    },
    {
     "name": "stdout",
     "output_type": "stream",
     "text": [
      "INFO:tensorflow:Converted MIDI file /data/heerak/music_vae/groove/drummer7/session3/156_soul_98_fill_4-4.mid.\n"
     ]
    },
    {
     "name": "stderr",
     "output_type": "stream",
     "text": [
      "INFO:tensorflow:Converted MIDI file /data/heerak/music_vae/groove/drummer7/session3/156_soul_98_fill_4-4.mid.\n"
     ]
    },
    {
     "name": "stdout",
     "output_type": "stream",
     "text": [
      "INFO:tensorflow:Converted MIDI file /data/heerak/music_vae/groove/drummer7/session3/40_rock-indie_63_fill_4-4.mid.\n"
     ]
    },
    {
     "name": "stderr",
     "output_type": "stream",
     "text": [
      "INFO:tensorflow:Converted MIDI file /data/heerak/music_vae/groove/drummer7/session3/40_rock-indie_63_fill_4-4.mid.\n"
     ]
    },
    {
     "name": "stdout",
     "output_type": "stream",
     "text": [
      "INFO:tensorflow:Converted MIDI file /data/heerak/music_vae/groove/drummer7/session3/19_pop-soft_83_fill_4-4.mid.\n"
     ]
    },
    {
     "name": "stderr",
     "output_type": "stream",
     "text": [
      "INFO:tensorflow:Converted MIDI file /data/heerak/music_vae/groove/drummer7/session3/19_pop-soft_83_fill_4-4.mid.\n"
     ]
    },
    {
     "name": "stdout",
     "output_type": "stream",
     "text": [
      "INFO:tensorflow:Converted MIDI file /data/heerak/music_vae/groove/drummer7/session3/136_soul_105_fill_4-4.mid.\n"
     ]
    },
    {
     "name": "stderr",
     "output_type": "stream",
     "text": [
      "INFO:tensorflow:Converted MIDI file /data/heerak/music_vae/groove/drummer7/session3/136_soul_105_fill_4-4.mid.\n"
     ]
    },
    {
     "name": "stdout",
     "output_type": "stream",
     "text": [
      "INFO:tensorflow:Converted MIDI file /data/heerak/music_vae/groove/drummer7/session3/124_rock_93_fill_4-4.mid.\n"
     ]
    },
    {
     "name": "stderr",
     "output_type": "stream",
     "text": [
      "INFO:tensorflow:Converted MIDI file /data/heerak/music_vae/groove/drummer7/session3/124_rock_93_fill_4-4.mid.\n"
     ]
    },
    {
     "name": "stdout",
     "output_type": "stream",
     "text": [
      "INFO:tensorflow:Converted MIDI file /data/heerak/music_vae/groove/drummer7/session3/132_soul_105_beat_4-4.mid.\n"
     ]
    },
    {
     "name": "stderr",
     "output_type": "stream",
     "text": [
      "INFO:tensorflow:Converted MIDI file /data/heerak/music_vae/groove/drummer7/session3/132_soul_105_beat_4-4.mid.\n"
     ]
    },
    {
     "name": "stdout",
     "output_type": "stream",
     "text": [
      "INFO:tensorflow:Converted MIDI file /data/heerak/music_vae/groove/drummer7/session3/59_funk_112_fill_4-4.mid.\n"
     ]
    },
    {
     "name": "stderr",
     "output_type": "stream",
     "text": [
      "INFO:tensorflow:Converted MIDI file /data/heerak/music_vae/groove/drummer7/session3/59_funk_112_fill_4-4.mid.\n"
     ]
    },
    {
     "name": "stdout",
     "output_type": "stream",
     "text": [
      "INFO:tensorflow:Converted MIDI file /data/heerak/music_vae/groove/drummer7/session3/140_soul_105_fill_4-4.mid.\n"
     ]
    },
    {
     "name": "stderr",
     "output_type": "stream",
     "text": [
      "INFO:tensorflow:Converted MIDI file /data/heerak/music_vae/groove/drummer7/session3/140_soul_105_fill_4-4.mid.\n"
     ]
    },
    {
     "name": "stdout",
     "output_type": "stream",
     "text": [
      "INFO:tensorflow:Converted MIDI file /data/heerak/music_vae/groove/drummer7/session3/8_rock_60_fill_4-4.mid.\n"
     ]
    },
    {
     "name": "stderr",
     "output_type": "stream",
     "text": [
      "INFO:tensorflow:Converted MIDI file /data/heerak/music_vae/groove/drummer7/session3/8_rock_60_fill_4-4.mid.\n"
     ]
    },
    {
     "name": "stdout",
     "output_type": "stream",
     "text": [
      "INFO:tensorflow:Converted MIDI file /data/heerak/music_vae/groove/drummer7/session3/121_rock_93_fill_4-4.mid.\n"
     ]
    },
    {
     "name": "stderr",
     "output_type": "stream",
     "text": [
      "INFO:tensorflow:Converted MIDI file /data/heerak/music_vae/groove/drummer7/session3/121_rock_93_fill_4-4.mid.\n"
     ]
    },
    {
     "name": "stdout",
     "output_type": "stream",
     "text": [
      "INFO:tensorflow:Converted MIDI file /data/heerak/music_vae/groove/drummer7/session3/68_neworleans-funk_93_fill_4-4.mid.\n"
     ]
    },
    {
     "name": "stderr",
     "output_type": "stream",
     "text": [
      "INFO:tensorflow:Converted MIDI file /data/heerak/music_vae/groove/drummer7/session3/68_neworleans-funk_93_fill_4-4.mid.\n"
     ]
    },
    {
     "name": "stdout",
     "output_type": "stream",
     "text": [
      "INFO:tensorflow:Converted MIDI file /data/heerak/music_vae/groove/drummer7/session3/62_funk_112_fill_4-4.mid.\n"
     ]
    },
    {
     "name": "stderr",
     "output_type": "stream",
     "text": [
      "INFO:tensorflow:Converted MIDI file /data/heerak/music_vae/groove/drummer7/session3/62_funk_112_fill_4-4.mid.\n"
     ]
    },
    {
     "name": "stdout",
     "output_type": "stream",
     "text": [
      "INFO:tensorflow:Converted MIDI file /data/heerak/music_vae/groove/drummer7/session3/65_funk_112_beat_4-4.mid.\n"
     ]
    },
    {
     "name": "stderr",
     "output_type": "stream",
     "text": [
      "INFO:tensorflow:Converted MIDI file /data/heerak/music_vae/groove/drummer7/session3/65_funk_112_beat_4-4.mid.\n"
     ]
    },
    {
     "name": "stdout",
     "output_type": "stream",
     "text": [
      "INFO:tensorflow:Converted MIDI file /data/heerak/music_vae/groove/drummer7/session3/26_hiphop_67_fill_4-4.mid.\n"
     ]
    },
    {
     "name": "stderr",
     "output_type": "stream",
     "text": [
      "INFO:tensorflow:Converted MIDI file /data/heerak/music_vae/groove/drummer7/session3/26_hiphop_67_fill_4-4.mid.\n"
     ]
    },
    {
     "name": "stdout",
     "output_type": "stream",
     "text": [
      "INFO:tensorflow:Converted MIDI file /data/heerak/music_vae/groove/drummer7/session3/17_pop-soft_83_fill_4-4.mid.\n"
     ]
    },
    {
     "name": "stderr",
     "output_type": "stream",
     "text": [
      "INFO:tensorflow:Converted MIDI file /data/heerak/music_vae/groove/drummer7/session3/17_pop-soft_83_fill_4-4.mid.\n"
     ]
    },
    {
     "name": "stdout",
     "output_type": "stream",
     "text": [
      "INFO:tensorflow:Converted MIDI file /data/heerak/music_vae/groove/drummer7/session3/77_neworleans-funk_93_fill_4-4.mid.\n"
     ]
    },
    {
     "name": "stderr",
     "output_type": "stream",
     "text": [
      "INFO:tensorflow:Converted MIDI file /data/heerak/music_vae/groove/drummer7/session3/77_neworleans-funk_93_fill_4-4.mid.\n"
     ]
    },
    {
     "name": "stdout",
     "output_type": "stream",
     "text": [
      "INFO:tensorflow:Converted MIDI file /data/heerak/music_vae/groove/drummer7/session3/50_funk_112_fill_4-4.mid.\n"
     ]
    },
    {
     "name": "stderr",
     "output_type": "stream",
     "text": [
      "INFO:tensorflow:Converted MIDI file /data/heerak/music_vae/groove/drummer7/session3/50_funk_112_fill_4-4.mid.\n"
     ]
    },
    {
     "name": "stdout",
     "output_type": "stream",
     "text": [
      "INFO:tensorflow:Converted MIDI file /data/heerak/music_vae/groove/drummer7/session3/123_rock_93_fill_4-4.mid.\n"
     ]
    },
    {
     "name": "stderr",
     "output_type": "stream",
     "text": [
      "INFO:tensorflow:Converted MIDI file /data/heerak/music_vae/groove/drummer7/session3/123_rock_93_fill_4-4.mid.\n"
     ]
    },
    {
     "name": "stdout",
     "output_type": "stream",
     "text": [
      "INFO:tensorflow:Converted MIDI file /data/heerak/music_vae/groove/drummer7/session3/35_hiphop_67_fill_4-4.mid.\n"
     ]
    },
    {
     "name": "stderr",
     "output_type": "stream",
     "text": [
      "INFO:tensorflow:Converted MIDI file /data/heerak/music_vae/groove/drummer7/session3/35_hiphop_67_fill_4-4.mid.\n"
     ]
    },
    {
     "name": "stdout",
     "output_type": "stream",
     "text": [
      "INFO:tensorflow:Converted MIDI file /data/heerak/music_vae/groove/drummer7/session3/92_hiphop_70_beat_4-4.mid.\n"
     ]
    },
    {
     "name": "stderr",
     "output_type": "stream",
     "text": [
      "INFO:tensorflow:Converted MIDI file /data/heerak/music_vae/groove/drummer7/session3/92_hiphop_70_beat_4-4.mid.\n"
     ]
    },
    {
     "name": "stdout",
     "output_type": "stream",
     "text": [
      "INFO:tensorflow:Converted MIDI file /data/heerak/music_vae/groove/drummer7/session3/114_rock_95_fill_4-4.mid.\n"
     ]
    },
    {
     "name": "stderr",
     "output_type": "stream",
     "text": [
      "INFO:tensorflow:Converted MIDI file /data/heerak/music_vae/groove/drummer7/session3/114_rock_95_fill_4-4.mid.\n"
     ]
    },
    {
     "name": "stdout",
     "output_type": "stream",
     "text": [
      "INFO:tensorflow:Converted MIDI file /data/heerak/music_vae/groove/drummer7/session3/2_rock_60_fill_4-4.mid.\n"
     ]
    },
    {
     "name": "stderr",
     "output_type": "stream",
     "text": [
      "INFO:tensorflow:Converted MIDI file /data/heerak/music_vae/groove/drummer7/session3/2_rock_60_fill_4-4.mid.\n"
     ]
    },
    {
     "name": "stdout",
     "output_type": "stream",
     "text": [
      "INFO:tensorflow:Converted MIDI file /data/heerak/music_vae/groove/drummer7/session3/99_hiphop_70_fill_4-4.mid.\n"
     ]
    },
    {
     "name": "stderr",
     "output_type": "stream",
     "text": [
      "INFO:tensorflow:Converted MIDI file /data/heerak/music_vae/groove/drummer7/session3/99_hiphop_70_fill_4-4.mid.\n"
     ]
    },
    {
     "name": "stdout",
     "output_type": "stream",
     "text": [
      "INFO:tensorflow:Converted MIDI file /data/heerak/music_vae/groove/drummer7/session3/135_soul_105_fill_4-4.mid.\n"
     ]
    },
    {
     "name": "stderr",
     "output_type": "stream",
     "text": [
      "INFO:tensorflow:Converted MIDI file /data/heerak/music_vae/groove/drummer7/session3/135_soul_105_fill_4-4.mid.\n"
     ]
    },
    {
     "name": "stdout",
     "output_type": "stream",
     "text": [
      "INFO:tensorflow:Converted MIDI file /data/heerak/music_vae/groove/drummer7/session3/95_hiphop_70_fill_4-4.mid.\n"
     ]
    },
    {
     "name": "stderr",
     "output_type": "stream",
     "text": [
      "INFO:tensorflow:Converted MIDI file /data/heerak/music_vae/groove/drummer7/session3/95_hiphop_70_fill_4-4.mid.\n"
     ]
    },
    {
     "name": "stdout",
     "output_type": "stream",
     "text": [
      "INFO:tensorflow:Converted MIDI file /data/heerak/music_vae/groove/drummer7/session3/55_funk_112_fill_4-4.mid.\n"
     ]
    },
    {
     "name": "stderr",
     "output_type": "stream",
     "text": [
      "INFO:tensorflow:Converted MIDI file /data/heerak/music_vae/groove/drummer7/session3/55_funk_112_fill_4-4.mid.\n"
     ]
    },
    {
     "name": "stdout",
     "output_type": "stream",
     "text": [
      "INFO:tensorflow:Converted MIDI file /data/heerak/music_vae/groove/drummer7/session3/154_soul_98_fill_4-4.mid.\n"
     ]
    },
    {
     "name": "stderr",
     "output_type": "stream",
     "text": [
      "INFO:tensorflow:Converted MIDI file /data/heerak/music_vae/groove/drummer7/session3/154_soul_98_fill_4-4.mid.\n"
     ]
    },
    {
     "name": "stdout",
     "output_type": "stream",
     "text": [
      "INFO:tensorflow:Converted MIDI file /data/heerak/music_vae/groove/drummer7/session3/20_pop-soft_83_fill_4-4.mid.\n"
     ]
    },
    {
     "name": "stderr",
     "output_type": "stream",
     "text": [
      "INFO:tensorflow:Converted MIDI file /data/heerak/music_vae/groove/drummer7/session3/20_pop-soft_83_fill_4-4.mid.\n"
     ]
    },
    {
     "name": "stdout",
     "output_type": "stream",
     "text": [
      "INFO:tensorflow:Converted MIDI file /data/heerak/music_vae/groove/drummer7/session3/141_soul_105_fill_4-4.mid.\n"
     ]
    },
    {
     "name": "stderr",
     "output_type": "stream",
     "text": [
      "INFO:tensorflow:Converted MIDI file /data/heerak/music_vae/groove/drummer7/session3/141_soul_105_fill_4-4.mid.\n"
     ]
    },
    {
     "name": "stdout",
     "output_type": "stream",
     "text": [
      "INFO:tensorflow:Converted MIDI file /data/heerak/music_vae/groove/drummer7/session3/14_pop-soft_83_fill_4-4.mid.\n"
     ]
    },
    {
     "name": "stderr",
     "output_type": "stream",
     "text": [
      "INFO:tensorflow:Converted MIDI file /data/heerak/music_vae/groove/drummer7/session3/14_pop-soft_83_fill_4-4.mid.\n"
     ]
    },
    {
     "name": "stdout",
     "output_type": "stream",
     "text": [
      "INFO:tensorflow:Converted MIDI file /data/heerak/music_vae/groove/drummer7/session3/148_soul_105_fill_4-4.mid.\n"
     ]
    },
    {
     "name": "stderr",
     "output_type": "stream",
     "text": [
      "INFO:tensorflow:Converted MIDI file /data/heerak/music_vae/groove/drummer7/session3/148_soul_105_fill_4-4.mid.\n"
     ]
    },
    {
     "name": "stdout",
     "output_type": "stream",
     "text": [
      "INFO:tensorflow:Converted MIDI file /data/heerak/music_vae/groove/drummer7/session3/5_rock_60_fill_4-4.mid.\n"
     ]
    },
    {
     "name": "stderr",
     "output_type": "stream",
     "text": [
      "INFO:tensorflow:Converted MIDI file /data/heerak/music_vae/groove/drummer7/session3/5_rock_60_fill_4-4.mid.\n"
     ]
    },
    {
     "name": "stdout",
     "output_type": "stream",
     "text": [
      "INFO:tensorflow:Converted MIDI file /data/heerak/music_vae/groove/drummer7/session3/89_neworleans-funk_93_fill_4-4.mid.\n"
     ]
    },
    {
     "name": "stderr",
     "output_type": "stream",
     "text": [
      "INFO:tensorflow:Converted MIDI file /data/heerak/music_vae/groove/drummer7/session3/89_neworleans-funk_93_fill_4-4.mid.\n"
     ]
    },
    {
     "name": "stdout",
     "output_type": "stream",
     "text": [
      "WARNING:tensorflow:Unable to find a converter for file /data/heerak/music_vae/groove/drummer7/session3/Icon\n"
     ]
    },
    {
     "name": "stderr",
     "output_type": "stream",
     "text": [
      "WARNING:tensorflow:Unable to find a converter for file /data/heerak/music_vae/groove/drummer7/session3/Icon\n"
     ]
    },
    {
     "name": "stdout",
     "output_type": "stream",
     "text": [
      "INFO:tensorflow:Converted MIDI file /data/heerak/music_vae/groove/drummer7/session3/69_neworleans-funk_93_fill_4-4.mid.\n"
     ]
    },
    {
     "name": "stderr",
     "output_type": "stream",
     "text": [
      "INFO:tensorflow:Converted MIDI file /data/heerak/music_vae/groove/drummer7/session3/69_neworleans-funk_93_fill_4-4.mid.\n"
     ]
    },
    {
     "name": "stdout",
     "output_type": "stream",
     "text": [
      "INFO:tensorflow:Converted MIDI file /data/heerak/music_vae/groove/drummer7/session3/48_funk_112_beat_4-4.mid.\n"
     ]
    },
    {
     "name": "stderr",
     "output_type": "stream",
     "text": [
      "INFO:tensorflow:Converted MIDI file /data/heerak/music_vae/groove/drummer7/session3/48_funk_112_beat_4-4.mid.\n"
     ]
    },
    {
     "name": "stdout",
     "output_type": "stream",
     "text": [
      "INFO:tensorflow:Converted MIDI file /data/heerak/music_vae/groove/drummer7/session3/111_rock_95_fill_4-4.mid.\n"
     ]
    },
    {
     "name": "stderr",
     "output_type": "stream",
     "text": [
      "INFO:tensorflow:Converted MIDI file /data/heerak/music_vae/groove/drummer7/session3/111_rock_95_fill_4-4.mid.\n"
     ]
    },
    {
     "name": "stdout",
     "output_type": "stream",
     "text": [
      "INFO:tensorflow:Converted MIDI file /data/heerak/music_vae/groove/drummer7/session3/138_soul_105_fill_4-4.mid.\n"
     ]
    },
    {
     "name": "stderr",
     "output_type": "stream",
     "text": [
      "INFO:tensorflow:Converted MIDI file /data/heerak/music_vae/groove/drummer7/session3/138_soul_105_fill_4-4.mid.\n"
     ]
    },
    {
     "name": "stdout",
     "output_type": "stream",
     "text": [
      "INFO:tensorflow:Converted MIDI file /data/heerak/music_vae/groove/drummer7/session3/34_hiphop_67_fill_4-4.mid.\n"
     ]
    },
    {
     "name": "stderr",
     "output_type": "stream",
     "text": [
      "INFO:tensorflow:Converted MIDI file /data/heerak/music_vae/groove/drummer7/session3/34_hiphop_67_fill_4-4.mid.\n"
     ]
    },
    {
     "name": "stdout",
     "output_type": "stream",
     "text": [
      "INFO:tensorflow:Converted MIDI file /data/heerak/music_vae/groove/drummer7/session3/31_hiphop_67_fill_4-4.mid.\n"
     ]
    },
    {
     "name": "stderr",
     "output_type": "stream",
     "text": [
      "INFO:tensorflow:Converted MIDI file /data/heerak/music_vae/groove/drummer7/session3/31_hiphop_67_fill_4-4.mid.\n"
     ]
    },
    {
     "name": "stdout",
     "output_type": "stream",
     "text": [
      "INFO:tensorflow:Converted MIDI file /data/heerak/music_vae/groove/drummer7/session3/145_soul_105_fill_4-4.mid.\n"
     ]
    },
    {
     "name": "stderr",
     "output_type": "stream",
     "text": [
      "INFO:tensorflow:Converted MIDI file /data/heerak/music_vae/groove/drummer7/session3/145_soul_105_fill_4-4.mid.\n"
     ]
    },
    {
     "name": "stdout",
     "output_type": "stream",
     "text": [
      "INFO:tensorflow:Converted MIDI file /data/heerak/music_vae/groove/drummer7/session3/29_hiphop_67_fill_4-4.mid.\n"
     ]
    },
    {
     "name": "stderr",
     "output_type": "stream",
     "text": [
      "INFO:tensorflow:Converted MIDI file /data/heerak/music_vae/groove/drummer7/session3/29_hiphop_67_fill_4-4.mid.\n"
     ]
    },
    {
     "name": "stdout",
     "output_type": "stream",
     "text": [
      "INFO:tensorflow:Converted MIDI file /data/heerak/music_vae/groove/drummer7/session3/149_soul_105_fill_4-4.mid.\n"
     ]
    },
    {
     "name": "stderr",
     "output_type": "stream",
     "text": [
      "INFO:tensorflow:Converted MIDI file /data/heerak/music_vae/groove/drummer7/session3/149_soul_105_fill_4-4.mid.\n"
     ]
    },
    {
     "name": "stdout",
     "output_type": "stream",
     "text": [
      "INFO:tensorflow:Converted MIDI file /data/heerak/music_vae/groove/drummer7/session3/60_funk_112_fill_4-4.mid.\n"
     ]
    },
    {
     "name": "stderr",
     "output_type": "stream",
     "text": [
      "INFO:tensorflow:Converted MIDI file /data/heerak/music_vae/groove/drummer7/session3/60_funk_112_fill_4-4.mid.\n"
     ]
    },
    {
     "name": "stdout",
     "output_type": "stream",
     "text": [
      "INFO:tensorflow:Converted MIDI file /data/heerak/music_vae/groove/drummer7/session3/104_hiphop_70_fill_4-4.mid.\n"
     ]
    },
    {
     "name": "stderr",
     "output_type": "stream",
     "text": [
      "INFO:tensorflow:Converted MIDI file /data/heerak/music_vae/groove/drummer7/session3/104_hiphop_70_fill_4-4.mid.\n"
     ]
    },
    {
     "name": "stdout",
     "output_type": "stream",
     "text": [
      "INFO:tensorflow:Converted MIDI file /data/heerak/music_vae/groove/drummer7/session3/109_rock_95_beat_4-4.mid.\n"
     ]
    },
    {
     "name": "stderr",
     "output_type": "stream",
     "text": [
      "INFO:tensorflow:Converted MIDI file /data/heerak/music_vae/groove/drummer7/session3/109_rock_95_beat_4-4.mid.\n"
     ]
    },
    {
     "name": "stdout",
     "output_type": "stream",
     "text": [
      "INFO:tensorflow:Converted MIDI file /data/heerak/music_vae/groove/drummer7/session3/98_hiphop_70_fill_4-4.mid.\n"
     ]
    },
    {
     "name": "stderr",
     "output_type": "stream",
     "text": [
      "INFO:tensorflow:Converted MIDI file /data/heerak/music_vae/groove/drummer7/session3/98_hiphop_70_fill_4-4.mid.\n"
     ]
    },
    {
     "name": "stdout",
     "output_type": "stream",
     "text": [
      "INFO:tensorflow:Converted MIDI file /data/heerak/music_vae/groove/drummer7/session3/146_soul_105_fill_4-4.mid.\n"
     ]
    },
    {
     "name": "stderr",
     "output_type": "stream",
     "text": [
      "INFO:tensorflow:Converted MIDI file /data/heerak/music_vae/groove/drummer7/session3/146_soul_105_fill_4-4.mid.\n"
     ]
    },
    {
     "name": "stdout",
     "output_type": "stream",
     "text": [
      "INFO:tensorflow:Converted MIDI file /data/heerak/music_vae/groove/drummer7/session3/3_rock_60_fill_4-4.mid.\n"
     ]
    },
    {
     "name": "stderr",
     "output_type": "stream",
     "text": [
      "INFO:tensorflow:Converted MIDI file /data/heerak/music_vae/groove/drummer7/session3/3_rock_60_fill_4-4.mid.\n"
     ]
    },
    {
     "name": "stdout",
     "output_type": "stream",
     "text": [
      "INFO:tensorflow:Converted MIDI file /data/heerak/music_vae/groove/drummer7/session3/30_hiphop_67_fill_4-4.mid.\n"
     ]
    },
    {
     "name": "stderr",
     "output_type": "stream",
     "text": [
      "INFO:tensorflow:Converted MIDI file /data/heerak/music_vae/groove/drummer7/session3/30_hiphop_67_fill_4-4.mid.\n"
     ]
    },
    {
     "name": "stdout",
     "output_type": "stream",
     "text": [
      "INFO:tensorflow:Converted MIDI file /data/heerak/music_vae/groove/drummer7/session3/147_soul_105_fill_4-4.mid.\n"
     ]
    },
    {
     "name": "stderr",
     "output_type": "stream",
     "text": [
      "INFO:tensorflow:Converted MIDI file /data/heerak/music_vae/groove/drummer7/session3/147_soul_105_fill_4-4.mid.\n"
     ]
    },
    {
     "name": "stdout",
     "output_type": "stream",
     "text": [
      "INFO:tensorflow:Converted MIDI file /data/heerak/music_vae/groove/drummer7/session3/75_neworleans-funk_93_fill_4-4.mid.\n"
     ]
    },
    {
     "name": "stderr",
     "output_type": "stream",
     "text": [
      "INFO:tensorflow:Converted MIDI file /data/heerak/music_vae/groove/drummer7/session3/75_neworleans-funk_93_fill_4-4.mid.\n"
     ]
    },
    {
     "name": "stdout",
     "output_type": "stream",
     "text": [
      "INFO:tensorflow:Converted MIDI file /data/heerak/music_vae/groove/drummer7/session3/143_soul_105_fill_4-4.mid.\n"
     ]
    },
    {
     "name": "stderr",
     "output_type": "stream",
     "text": [
      "INFO:tensorflow:Converted MIDI file /data/heerak/music_vae/groove/drummer7/session3/143_soul_105_fill_4-4.mid.\n"
     ]
    },
    {
     "name": "stdout",
     "output_type": "stream",
     "text": [
      "INFO:tensorflow:Converted MIDI file /data/heerak/music_vae/groove/drummer7/session3/87_neworleans-funk_93_fill_4-4.mid.\n"
     ]
    },
    {
     "name": "stderr",
     "output_type": "stream",
     "text": [
      "INFO:tensorflow:Converted MIDI file /data/heerak/music_vae/groove/drummer7/session3/87_neworleans-funk_93_fill_4-4.mid.\n"
     ]
    },
    {
     "name": "stdout",
     "output_type": "stream",
     "text": [
      "INFO:tensorflow:Converted MIDI file /data/heerak/music_vae/groove/drummer7/session3/158_soul_98_fill_4-4.mid.\n"
     ]
    },
    {
     "name": "stderr",
     "output_type": "stream",
     "text": [
      "INFO:tensorflow:Converted MIDI file /data/heerak/music_vae/groove/drummer7/session3/158_soul_98_fill_4-4.mid.\n"
     ]
    },
    {
     "name": "stdout",
     "output_type": "stream",
     "text": [
      "INFO:tensorflow:Converted MIDI file /data/heerak/music_vae/groove/drummer7/session3/36_hiphop_67_fill_4-4.mid.\n"
     ]
    },
    {
     "name": "stderr",
     "output_type": "stream",
     "text": [
      "INFO:tensorflow:Converted MIDI file /data/heerak/music_vae/groove/drummer7/session3/36_hiphop_67_fill_4-4.mid.\n"
     ]
    },
    {
     "name": "stdout",
     "output_type": "stream",
     "text": [
      "INFO:tensorflow:Converted MIDI file /data/heerak/music_vae/groove/drummer7/session3/66_funk_112_fill_4-4.mid.\n"
     ]
    },
    {
     "name": "stderr",
     "output_type": "stream",
     "text": [
      "INFO:tensorflow:Converted MIDI file /data/heerak/music_vae/groove/drummer7/session3/66_funk_112_fill_4-4.mid.\n"
     ]
    },
    {
     "name": "stdout",
     "output_type": "stream",
     "text": [
      "INFO:tensorflow:Converted MIDI file /data/heerak/music_vae/groove/drummer7/session3/102_hiphop_70_fill_4-4.mid.\n"
     ]
    },
    {
     "name": "stderr",
     "output_type": "stream",
     "text": [
      "INFO:tensorflow:Converted MIDI file /data/heerak/music_vae/groove/drummer7/session3/102_hiphop_70_fill_4-4.mid.\n"
     ]
    },
    {
     "name": "stdout",
     "output_type": "stream",
     "text": [
      "INFO:tensorflow:Converted MIDI file /data/heerak/music_vae/groove/drummer7/session3/106_hiphop_70_beat_4-4.mid.\n"
     ]
    },
    {
     "name": "stderr",
     "output_type": "stream",
     "text": [
      "INFO:tensorflow:Converted MIDI file /data/heerak/music_vae/groove/drummer7/session3/106_hiphop_70_beat_4-4.mid.\n"
     ]
    },
    {
     "name": "stdout",
     "output_type": "stream",
     "text": [
      "INFO:tensorflow:Converting files in '/data/heerak/music_vae/groove/drummer7/session1'.\n"
     ]
    },
    {
     "name": "stderr",
     "output_type": "stream",
     "text": [
      "INFO:tensorflow:Converting files in '/data/heerak/music_vae/groove/drummer7/session1'.\n"
     ]
    },
    {
     "name": "stdout",
     "output_type": "stream",
     "text": [
      "INFO:tensorflow:Converted MIDI file /data/heerak/music_vae/groove/drummer7/session1/11_rock_93_beat_4-4.mid.\n"
     ]
    },
    {
     "name": "stderr",
     "output_type": "stream",
     "text": [
      "INFO:tensorflow:Converted MIDI file /data/heerak/music_vae/groove/drummer7/session1/11_rock_93_beat_4-4.mid.\n"
     ]
    },
    {
     "name": "stdout",
     "output_type": "stream",
     "text": [
      "INFO:tensorflow:Converted MIDI file /data/heerak/music_vae/groove/drummer7/session1/1_rock_86_beat_4-4.mid.\n"
     ]
    },
    {
     "name": "stderr",
     "output_type": "stream",
     "text": [
      "INFO:tensorflow:Converted MIDI file /data/heerak/music_vae/groove/drummer7/session1/1_rock_86_beat_4-4.mid.\n"
     ]
    },
    {
     "name": "stdout",
     "output_type": "stream",
     "text": [
      "INFO:tensorflow:Converted MIDI file /data/heerak/music_vae/groove/drummer7/session1/6_rock_86_fill_4-4.mid.\n"
     ]
    },
    {
     "name": "stderr",
     "output_type": "stream",
     "text": [
      "INFO:tensorflow:Converted MIDI file /data/heerak/music_vae/groove/drummer7/session1/6_rock_86_fill_4-4.mid.\n"
     ]
    },
    {
     "name": "stdout",
     "output_type": "stream",
     "text": [
      "INFO:tensorflow:Converted MIDI file /data/heerak/music_vae/groove/drummer7/session1/32_hiphop_100_fill_4-4.mid.\n"
     ]
    },
    {
     "name": "stderr",
     "output_type": "stream",
     "text": [
      "INFO:tensorflow:Converted MIDI file /data/heerak/music_vae/groove/drummer7/session1/32_hiphop_100_fill_4-4.mid.\n"
     ]
    },
    {
     "name": "stdout",
     "output_type": "stream",
     "text": [
      "INFO:tensorflow:Converted MIDI file /data/heerak/music_vae/groove/drummer7/session1/19_hiphop_100_fill_4-4.mid.\n"
     ]
    },
    {
     "name": "stderr",
     "output_type": "stream",
     "text": [
      "INFO:tensorflow:Converted MIDI file /data/heerak/music_vae/groove/drummer7/session1/19_hiphop_100_fill_4-4.mid.\n"
     ]
    },
    {
     "name": "stdout",
     "output_type": "stream",
     "text": [
      "INFO:tensorflow:Converted MIDI file /data/heerak/music_vae/groove/drummer7/session1/29_hiphop_100_fill_4-4.mid.\n"
     ]
    },
    {
     "name": "stderr",
     "output_type": "stream",
     "text": [
      "INFO:tensorflow:Converted MIDI file /data/heerak/music_vae/groove/drummer7/session1/29_hiphop_100_fill_4-4.mid.\n"
     ]
    },
    {
     "name": "stdout",
     "output_type": "stream",
     "text": [
      "INFO:tensorflow:Converted MIDI file /data/heerak/music_vae/groove/drummer7/session1/36_hiphop_100_fill_4-4.mid.\n"
     ]
    },
    {
     "name": "stderr",
     "output_type": "stream",
     "text": [
      "INFO:tensorflow:Converted MIDI file /data/heerak/music_vae/groove/drummer7/session1/36_hiphop_100_fill_4-4.mid.\n"
     ]
    },
    {
     "name": "stdout",
     "output_type": "stream",
     "text": [
      "INFO:tensorflow:Converted MIDI file /data/heerak/music_vae/groove/drummer7/session1/23_hiphop_100_fill_4-4.mid.\n"
     ]
    },
    {
     "name": "stderr",
     "output_type": "stream",
     "text": [
      "INFO:tensorflow:Converted MIDI file /data/heerak/music_vae/groove/drummer7/session1/23_hiphop_100_fill_4-4.mid.\n"
     ]
    },
    {
     "name": "stdout",
     "output_type": "stream",
     "text": [
      "INFO:tensorflow:Converted MIDI file /data/heerak/music_vae/groove/drummer7/session1/40_hiphop_100_beat_4-4.mid.\n"
     ]
    },
    {
     "name": "stderr",
     "output_type": "stream",
     "text": [
      "INFO:tensorflow:Converted MIDI file /data/heerak/music_vae/groove/drummer7/session1/40_hiphop_100_beat_4-4.mid.\n"
     ]
    },
    {
     "name": "stdout",
     "output_type": "stream",
     "text": [
      "INFO:tensorflow:Converted MIDI file /data/heerak/music_vae/groove/drummer7/session1/13_funk_102_beat_4-4.mid.\n"
     ]
    },
    {
     "name": "stderr",
     "output_type": "stream",
     "text": [
      "INFO:tensorflow:Converted MIDI file /data/heerak/music_vae/groove/drummer7/session1/13_funk_102_beat_4-4.mid.\n"
     ]
    },
    {
     "name": "stdout",
     "output_type": "stream",
     "text": [
      "INFO:tensorflow:Converted MIDI file /data/heerak/music_vae/groove/drummer7/session1/16_hiphop_100_beat_4-4.mid.\n"
     ]
    },
    {
     "name": "stderr",
     "output_type": "stream",
     "text": [
      "INFO:tensorflow:Converted MIDI file /data/heerak/music_vae/groove/drummer7/session1/16_hiphop_100_beat_4-4.mid.\n"
     ]
    },
    {
     "name": "stdout",
     "output_type": "stream",
     "text": [
      "INFO:tensorflow:Converted MIDI file /data/heerak/music_vae/groove/drummer7/session1/15_jazz_112_beat_4-4.mid.\n"
     ]
    },
    {
     "name": "stderr",
     "output_type": "stream",
     "text": [
      "INFO:tensorflow:Converted MIDI file /data/heerak/music_vae/groove/drummer7/session1/15_jazz_112_beat_4-4.mid.\n"
     ]
    },
    {
     "name": "stdout",
     "output_type": "stream",
     "text": [
      "INFO:tensorflow:Converted MIDI file /data/heerak/music_vae/groove/drummer7/session1/30_hiphop_100_fill_4-4.mid.\n"
     ]
    },
    {
     "name": "stderr",
     "output_type": "stream",
     "text": [
      "INFO:tensorflow:Converted MIDI file /data/heerak/music_vae/groove/drummer7/session1/30_hiphop_100_fill_4-4.mid.\n"
     ]
    },
    {
     "name": "stdout",
     "output_type": "stream",
     "text": [
      "INFO:tensorflow:Converted MIDI file /data/heerak/music_vae/groove/drummer7/session1/10_rock_93_beat_4-4.mid.\n"
     ]
    },
    {
     "name": "stderr",
     "output_type": "stream",
     "text": [
      "INFO:tensorflow:Converted MIDI file /data/heerak/music_vae/groove/drummer7/session1/10_rock_93_beat_4-4.mid.\n"
     ]
    },
    {
     "name": "stdout",
     "output_type": "stream",
     "text": [
      "INFO:tensorflow:Converted MIDI file /data/heerak/music_vae/groove/drummer7/session1/8_rock_93_beat_4-4.mid.\n"
     ]
    },
    {
     "name": "stderr",
     "output_type": "stream",
     "text": [
      "INFO:tensorflow:Converted MIDI file /data/heerak/music_vae/groove/drummer7/session1/8_rock_93_beat_4-4.mid.\n"
     ]
    },
    {
     "name": "stdout",
     "output_type": "stream",
     "text": [
      "INFO:tensorflow:Converted MIDI file /data/heerak/music_vae/groove/drummer7/session1/34_hiphop_100_fill_4-4.mid.\n"
     ]
    },
    {
     "name": "stderr",
     "output_type": "stream",
     "text": [
      "INFO:tensorflow:Converted MIDI file /data/heerak/music_vae/groove/drummer7/session1/34_hiphop_100_fill_4-4.mid.\n"
     ]
    },
    {
     "name": "stdout",
     "output_type": "stream",
     "text": [
      "INFO:tensorflow:Converted MIDI file /data/heerak/music_vae/groove/drummer7/session1/25_hiphop_100_fill_4-4.mid.\n"
     ]
    },
    {
     "name": "stderr",
     "output_type": "stream",
     "text": [
      "INFO:tensorflow:Converted MIDI file /data/heerak/music_vae/groove/drummer7/session1/25_hiphop_100_fill_4-4.mid.\n"
     ]
    },
    {
     "name": "stdout",
     "output_type": "stream",
     "text": [
      "INFO:tensorflow:Converted MIDI file /data/heerak/music_vae/groove/drummer7/session1/2_rock_86_fill_4-4.mid.\n"
     ]
    },
    {
     "name": "stderr",
     "output_type": "stream",
     "text": [
      "INFO:tensorflow:Converted MIDI file /data/heerak/music_vae/groove/drummer7/session1/2_rock_86_fill_4-4.mid.\n"
     ]
    },
    {
     "name": "stdout",
     "output_type": "stream",
     "text": [
      "INFO:tensorflow:Converted MIDI file /data/heerak/music_vae/groove/drummer7/session1/26_hiphop_100_fill_4-4.mid.\n"
     ]
    },
    {
     "name": "stderr",
     "output_type": "stream",
     "text": [
      "INFO:tensorflow:Converted MIDI file /data/heerak/music_vae/groove/drummer7/session1/26_hiphop_100_fill_4-4.mid.\n"
     ]
    },
    {
     "name": "stdout",
     "output_type": "stream",
     "text": [
      "INFO:tensorflow:Converted MIDI file /data/heerak/music_vae/groove/drummer7/session1/17_hiphop_100_beat_4-4.mid.\n"
     ]
    },
    {
     "name": "stderr",
     "output_type": "stream",
     "text": [
      "INFO:tensorflow:Converted MIDI file /data/heerak/music_vae/groove/drummer7/session1/17_hiphop_100_beat_4-4.mid.\n"
     ]
    },
    {
     "name": "stdout",
     "output_type": "stream",
     "text": [
      "INFO:tensorflow:Converted MIDI file /data/heerak/music_vae/groove/drummer7/session1/38_hiphop_100_beat_4-4.mid.\n"
     ]
    },
    {
     "name": "stderr",
     "output_type": "stream",
     "text": [
      "INFO:tensorflow:Converted MIDI file /data/heerak/music_vae/groove/drummer7/session1/38_hiphop_100_beat_4-4.mid.\n"
     ]
    },
    {
     "name": "stdout",
     "output_type": "stream",
     "text": [
      "INFO:tensorflow:Converted MIDI file /data/heerak/music_vae/groove/drummer7/session1/4_rock_86_fill_4-4.mid.\n"
     ]
    },
    {
     "name": "stderr",
     "output_type": "stream",
     "text": [
      "INFO:tensorflow:Converted MIDI file /data/heerak/music_vae/groove/drummer7/session1/4_rock_86_fill_4-4.mid.\n"
     ]
    },
    {
     "name": "stdout",
     "output_type": "stream",
     "text": [
      "INFO:tensorflow:Converted MIDI file /data/heerak/music_vae/groove/drummer7/session1/3_rock_86_fill_4-4.mid.\n"
     ]
    },
    {
     "name": "stderr",
     "output_type": "stream",
     "text": [
      "INFO:tensorflow:Converted MIDI file /data/heerak/music_vae/groove/drummer7/session1/3_rock_86_fill_4-4.mid.\n"
     ]
    },
    {
     "name": "stdout",
     "output_type": "stream",
     "text": [
      "INFO:tensorflow:Converted MIDI file /data/heerak/music_vae/groove/drummer7/session1/20_hiphop_100_fill_4-4.mid.\n"
     ]
    },
    {
     "name": "stderr",
     "output_type": "stream",
     "text": [
      "INFO:tensorflow:Converted MIDI file /data/heerak/music_vae/groove/drummer7/session1/20_hiphop_100_fill_4-4.mid.\n"
     ]
    },
    {
     "name": "stdout",
     "output_type": "stream",
     "text": [
      "INFO:tensorflow:Converted MIDI file /data/heerak/music_vae/groove/drummer7/session1/9_rock_93_beat_4-4.mid.\n"
     ]
    },
    {
     "name": "stderr",
     "output_type": "stream",
     "text": [
      "INFO:tensorflow:Converted MIDI file /data/heerak/music_vae/groove/drummer7/session1/9_rock_93_beat_4-4.mid.\n"
     ]
    },
    {
     "name": "stdout",
     "output_type": "stream",
     "text": [
      "INFO:tensorflow:Converted MIDI file /data/heerak/music_vae/groove/drummer7/session1/5_rock_86_fill_4-4.mid.\n"
     ]
    },
    {
     "name": "stderr",
     "output_type": "stream",
     "text": [
      "INFO:tensorflow:Converted MIDI file /data/heerak/music_vae/groove/drummer7/session1/5_rock_86_fill_4-4.mid.\n"
     ]
    },
    {
     "name": "stdout",
     "output_type": "stream",
     "text": [
      "INFO:tensorflow:Converted MIDI file /data/heerak/music_vae/groove/drummer7/session1/31_hiphop_100_fill_4-4.mid.\n"
     ]
    },
    {
     "name": "stderr",
     "output_type": "stream",
     "text": [
      "INFO:tensorflow:Converted MIDI file /data/heerak/music_vae/groove/drummer7/session1/31_hiphop_100_fill_4-4.mid.\n"
     ]
    },
    {
     "name": "stdout",
     "output_type": "stream",
     "text": [
      "INFO:tensorflow:Converted MIDI file /data/heerak/music_vae/groove/drummer7/session1/27_hiphop_100_fill_4-4.mid.\n"
     ]
    },
    {
     "name": "stderr",
     "output_type": "stream",
     "text": [
      "INFO:tensorflow:Converted MIDI file /data/heerak/music_vae/groove/drummer7/session1/27_hiphop_100_fill_4-4.mid.\n"
     ]
    },
    {
     "name": "stdout",
     "output_type": "stream",
     "text": [
      "INFO:tensorflow:Converted MIDI file /data/heerak/music_vae/groove/drummer7/session1/18_hiphop_100_beat_4-4.mid.\n"
     ]
    },
    {
     "name": "stderr",
     "output_type": "stream",
     "text": [
      "INFO:tensorflow:Converted MIDI file /data/heerak/music_vae/groove/drummer7/session1/18_hiphop_100_beat_4-4.mid.\n"
     ]
    },
    {
     "name": "stdout",
     "output_type": "stream",
     "text": [
      "INFO:tensorflow:Converted MIDI file /data/heerak/music_vae/groove/drummer7/session1/33_hiphop_100_fill_4-4.mid.\n"
     ]
    },
    {
     "name": "stderr",
     "output_type": "stream",
     "text": [
      "INFO:tensorflow:Converted MIDI file /data/heerak/music_vae/groove/drummer7/session1/33_hiphop_100_fill_4-4.mid.\n"
     ]
    },
    {
     "name": "stdout",
     "output_type": "stream",
     "text": [
      "INFO:tensorflow:Converted MIDI file /data/heerak/music_vae/groove/drummer7/session1/21_hiphop_100_fill_4-4.mid.\n"
     ]
    },
    {
     "name": "stderr",
     "output_type": "stream",
     "text": [
      "INFO:tensorflow:Converted MIDI file /data/heerak/music_vae/groove/drummer7/session1/21_hiphop_100_fill_4-4.mid.\n"
     ]
    },
    {
     "name": "stdout",
     "output_type": "stream",
     "text": [
      "INFO:tensorflow:Converted MIDI file /data/heerak/music_vae/groove/drummer7/session1/24_hiphop_100_fill_4-4.mid.\n"
     ]
    },
    {
     "name": "stderr",
     "output_type": "stream",
     "text": [
      "INFO:tensorflow:Converted MIDI file /data/heerak/music_vae/groove/drummer7/session1/24_hiphop_100_fill_4-4.mid.\n"
     ]
    },
    {
     "name": "stdout",
     "output_type": "stream",
     "text": [
      "INFO:tensorflow:Converted MIDI file /data/heerak/music_vae/groove/drummer7/session1/7_rock_93_beat_4-4.mid.\n"
     ]
    },
    {
     "name": "stderr",
     "output_type": "stream",
     "text": [
      "INFO:tensorflow:Converted MIDI file /data/heerak/music_vae/groove/drummer7/session1/7_rock_93_beat_4-4.mid.\n"
     ]
    },
    {
     "name": "stdout",
     "output_type": "stream",
     "text": [
      "INFO:tensorflow:Converted MIDI file /data/heerak/music_vae/groove/drummer7/session1/35_hiphop_100_fill_4-4.mid.\n"
     ]
    },
    {
     "name": "stderr",
     "output_type": "stream",
     "text": [
      "INFO:tensorflow:Converted MIDI file /data/heerak/music_vae/groove/drummer7/session1/35_hiphop_100_fill_4-4.mid.\n"
     ]
    },
    {
     "name": "stdout",
     "output_type": "stream",
     "text": [
      "INFO:tensorflow:Converted MIDI file /data/heerak/music_vae/groove/drummer7/session1/37_hiphop_100_fill_4-4.mid.\n"
     ]
    },
    {
     "name": "stderr",
     "output_type": "stream",
     "text": [
      "INFO:tensorflow:Converted MIDI file /data/heerak/music_vae/groove/drummer7/session1/37_hiphop_100_fill_4-4.mid.\n"
     ]
    },
    {
     "name": "stdout",
     "output_type": "stream",
     "text": [
      "WARNING:tensorflow:Unable to find a converter for file /data/heerak/music_vae/groove/drummer7/session1/Icon\n"
     ]
    },
    {
     "name": "stderr",
     "output_type": "stream",
     "text": [
      "WARNING:tensorflow:Unable to find a converter for file /data/heerak/music_vae/groove/drummer7/session1/Icon\n"
     ]
    },
    {
     "name": "stdout",
     "output_type": "stream",
     "text": [
      "INFO:tensorflow:Converted MIDI file /data/heerak/music_vae/groove/drummer7/session1/14_jazz_100_beat_4-4.mid.\n"
     ]
    },
    {
     "name": "stderr",
     "output_type": "stream",
     "text": [
      "INFO:tensorflow:Converted MIDI file /data/heerak/music_vae/groove/drummer7/session1/14_jazz_100_beat_4-4.mid.\n"
     ]
    },
    {
     "name": "stdout",
     "output_type": "stream",
     "text": [
      "INFO:tensorflow:Converted MIDI file /data/heerak/music_vae/groove/drummer7/session1/39_hiphop_100_beat_4-4.mid.\n"
     ]
    },
    {
     "name": "stderr",
     "output_type": "stream",
     "text": [
      "INFO:tensorflow:Converted MIDI file /data/heerak/music_vae/groove/drummer7/session1/39_hiphop_100_beat_4-4.mid.\n"
     ]
    },
    {
     "name": "stdout",
     "output_type": "stream",
     "text": [
      "INFO:tensorflow:Converted MIDI file /data/heerak/music_vae/groove/drummer7/session1/28_hiphop_100_fill_4-4.mid.\n"
     ]
    },
    {
     "name": "stderr",
     "output_type": "stream",
     "text": [
      "INFO:tensorflow:Converted MIDI file /data/heerak/music_vae/groove/drummer7/session1/28_hiphop_100_fill_4-4.mid.\n"
     ]
    },
    {
     "name": "stdout",
     "output_type": "stream",
     "text": [
      "INFO:tensorflow:Converted MIDI file /data/heerak/music_vae/groove/drummer7/session1/12_funk_102_beat_4-4.mid.\n"
     ]
    },
    {
     "name": "stderr",
     "output_type": "stream",
     "text": [
      "INFO:tensorflow:Converted MIDI file /data/heerak/music_vae/groove/drummer7/session1/12_funk_102_beat_4-4.mid.\n"
     ]
    },
    {
     "name": "stdout",
     "output_type": "stream",
     "text": [
      "INFO:tensorflow:Converted MIDI file /data/heerak/music_vae/groove/drummer7/session1/22_hiphop_100_beat_4-4.mid.\n"
     ]
    },
    {
     "name": "stderr",
     "output_type": "stream",
     "text": [
      "INFO:tensorflow:Converted MIDI file /data/heerak/music_vae/groove/drummer7/session1/22_hiphop_100_beat_4-4.mid.\n"
     ]
    },
    {
     "name": "stdout",
     "output_type": "stream",
     "text": [
      "INFO:tensorflow:Converting files in '/data/heerak/music_vae/groove/drummer5'.\n"
     ]
    },
    {
     "name": "stderr",
     "output_type": "stream",
     "text": [
      "INFO:tensorflow:Converting files in '/data/heerak/music_vae/groove/drummer5'.\n"
     ]
    },
    {
     "name": "stdout",
     "output_type": "stream",
     "text": [
      "WARNING:tensorflow:Unable to find a converter for file /data/heerak/music_vae/groove/drummer5/Icon\n"
     ]
    },
    {
     "name": "stderr",
     "output_type": "stream",
     "text": [
      "WARNING:tensorflow:Unable to find a converter for file /data/heerak/music_vae/groove/drummer5/Icon\n"
     ]
    },
    {
     "name": "stdout",
     "output_type": "stream",
     "text": [
      "INFO:tensorflow:Converting files in '/data/heerak/music_vae/groove/drummer5/session2'.\n"
     ]
    },
    {
     "name": "stderr",
     "output_type": "stream",
     "text": [
      "INFO:tensorflow:Converting files in '/data/heerak/music_vae/groove/drummer5/session2'.\n"
     ]
    },
    {
     "name": "stdout",
     "output_type": "stream",
     "text": [
      "INFO:tensorflow:Converted MIDI file /data/heerak/music_vae/groove/drummer5/session2/19_latin-brazilian-ijexa_108_beat_4-4.mid.\n"
     ]
    },
    {
     "name": "stderr",
     "output_type": "stream",
     "text": [
      "INFO:tensorflow:Converted MIDI file /data/heerak/music_vae/groove/drummer5/session2/19_latin-brazilian-ijexa_108_beat_4-4.mid.\n"
     ]
    },
    {
     "name": "stdout",
     "output_type": "stream",
     "text": [
      "INFO:tensorflow:Converted MIDI file /data/heerak/music_vae/groove/drummer5/session2/10_neworleans-funk_102_beat_4-4.mid.\n"
     ]
    },
    {
     "name": "stderr",
     "output_type": "stream",
     "text": [
      "INFO:tensorflow:Converted MIDI file /data/heerak/music_vae/groove/drummer5/session2/10_neworleans-funk_102_beat_4-4.mid.\n"
     ]
    },
    {
     "name": "stdout",
     "output_type": "stream",
     "text": [
      "INFO:tensorflow:Converted MIDI file /data/heerak/music_vae/groove/drummer5/session2/6_neworleans-secondline_99_beat_4-4.mid.\n"
     ]
    },
    {
     "name": "stderr",
     "output_type": "stream",
     "text": [
      "INFO:tensorflow:Converted MIDI file /data/heerak/music_vae/groove/drummer5/session2/6_neworleans-secondline_99_beat_4-4.mid.\n"
     ]
    },
    {
     "name": "stdout",
     "output_type": "stream",
     "text": [
      "INFO:tensorflow:Converted MIDI file /data/heerak/music_vae/groove/drummer5/session2/14_rock_140_beat_4-4.mid.\n"
     ]
    },
    {
     "name": "stderr",
     "output_type": "stream",
     "text": [
      "INFO:tensorflow:Converted MIDI file /data/heerak/music_vae/groove/drummer5/session2/14_rock_140_beat_4-4.mid.\n"
     ]
    },
    {
     "name": "stdout",
     "output_type": "stream",
     "text": [
      "INFO:tensorflow:Converted MIDI file /data/heerak/music_vae/groove/drummer5/session2/18_latin-brazilian-samba_93_beat_4-4.mid.\n"
     ]
    },
    {
     "name": "stderr",
     "output_type": "stream",
     "text": [
      "INFO:tensorflow:Converted MIDI file /data/heerak/music_vae/groove/drummer5/session2/18_latin-brazilian-samba_93_beat_4-4.mid.\n"
     ]
    },
    {
     "name": "stdout",
     "output_type": "stream",
     "text": [
      "INFO:tensorflow:Converted MIDI file /data/heerak/music_vae/groove/drummer5/session2/7_neworleans-secondline_124_beat_4-4.mid.\n"
     ]
    },
    {
     "name": "stderr",
     "output_type": "stream",
     "text": [
      "INFO:tensorflow:Converted MIDI file /data/heerak/music_vae/groove/drummer5/session2/7_neworleans-secondline_124_beat_4-4.mid.\n"
     ]
    },
    {
     "name": "stdout",
     "output_type": "stream",
     "text": [
      "INFO:tensorflow:Converted MIDI file /data/heerak/music_vae/groove/drummer5/session2/5_reggae_126_beat_4-4.mid.\n"
     ]
    },
    {
     "name": "stderr",
     "output_type": "stream",
     "text": [
      "INFO:tensorflow:Converted MIDI file /data/heerak/music_vae/groove/drummer5/session2/5_reggae_126_beat_4-4.mid.\n"
     ]
    },
    {
     "name": "stdout",
     "output_type": "stream",
     "text": [
      "INFO:tensorflow:Converted MIDI file /data/heerak/music_vae/groove/drummer5/session2/11_soul_96_beat_4-4.mid.\n"
     ]
    },
    {
     "name": "stderr",
     "output_type": "stream",
     "text": [
      "INFO:tensorflow:Converted MIDI file /data/heerak/music_vae/groove/drummer5/session2/11_soul_96_beat_4-4.mid.\n"
     ]
    },
    {
     "name": "stdout",
     "output_type": "stream",
     "text": [
      "INFO:tensorflow:Converted MIDI file /data/heerak/music_vae/groove/drummer5/session2/15_latin-venezuelan-joropo_80_beat_4-4.mid.\n"
     ]
    },
    {
     "name": "stderr",
     "output_type": "stream",
     "text": [
      "INFO:tensorflow:Converted MIDI file /data/heerak/music_vae/groove/drummer5/session2/15_latin-venezuelan-joropo_80_beat_4-4.mid.\n"
     ]
    },
    {
     "name": "stdout",
     "output_type": "stream",
     "text": [
      "INFO:tensorflow:Converted MIDI file /data/heerak/music_vae/groove/drummer5/session2/12_rock_105_beat_4-4.mid.\n"
     ]
    },
    {
     "name": "stderr",
     "output_type": "stream",
     "text": [
      "INFO:tensorflow:Converted MIDI file /data/heerak/music_vae/groove/drummer5/session2/12_rock_105_beat_4-4.mid.\n"
     ]
    },
    {
     "name": "stdout",
     "output_type": "stream",
     "text": [
      "INFO:tensorflow:Converted MIDI file /data/heerak/music_vae/groove/drummer5/session2/8_neworleans-chacha_124_beat_4-4.mid.\n"
     ]
    },
    {
     "name": "stderr",
     "output_type": "stream",
     "text": [
      "INFO:tensorflow:Converted MIDI file /data/heerak/music_vae/groove/drummer5/session2/8_neworleans-chacha_124_beat_4-4.mid.\n"
     ]
    },
    {
     "name": "stdout",
     "output_type": "stream",
     "text": [
      "INFO:tensorflow:Converted MIDI file /data/heerak/music_vae/groove/drummer5/session2/22_latin-brazilian-frevo_133_beat_4-4.mid.\n"
     ]
    },
    {
     "name": "stderr",
     "output_type": "stream",
     "text": [
      "INFO:tensorflow:Converted MIDI file /data/heerak/music_vae/groove/drummer5/session2/22_latin-brazilian-frevo_133_beat_4-4.mid.\n"
     ]
    },
    {
     "name": "stdout",
     "output_type": "stream",
     "text": [
      "INFO:tensorflow:Converted MIDI file /data/heerak/music_vae/groove/drummer5/session2/20_latin-brazilian-ijexa_108_beat_4-4.mid.\n"
     ]
    },
    {
     "name": "stderr",
     "output_type": "stream",
     "text": [
      "INFO:tensorflow:Converted MIDI file /data/heerak/music_vae/groove/drummer5/session2/20_latin-brazilian-ijexa_108_beat_4-4.mid.\n"
     ]
    },
    {
     "name": "stdout",
     "output_type": "stream",
     "text": [
      "INFO:tensorflow:Converted MIDI file /data/heerak/music_vae/groove/drummer5/session2/17_latin-brazilian-samba_110_beat_4-4.mid.\n"
     ]
    },
    {
     "name": "stderr",
     "output_type": "stream",
     "text": [
      "INFO:tensorflow:Converted MIDI file /data/heerak/music_vae/groove/drummer5/session2/17_latin-brazilian-samba_110_beat_4-4.mid.\n"
     ]
    },
    {
     "name": "stdout",
     "output_type": "stream",
     "text": [
      "INFO:tensorflow:Converted MIDI file /data/heerak/music_vae/groove/drummer5/session2/21_latin-brazilian-ijexa_108_beat_4-4.mid.\n"
     ]
    },
    {
     "name": "stderr",
     "output_type": "stream",
     "text": [
      "INFO:tensorflow:Converted MIDI file /data/heerak/music_vae/groove/drummer5/session2/21_latin-brazilian-ijexa_108_beat_4-4.mid.\n"
     ]
    },
    {
     "name": "stdout",
     "output_type": "stream",
     "text": [
      "INFO:tensorflow:Converted MIDI file /data/heerak/music_vae/groove/drummer5/session2/16_latin-ando_125_beat_3-4.mid.\n"
     ]
    },
    {
     "name": "stderr",
     "output_type": "stream",
     "text": [
      "INFO:tensorflow:Converted MIDI file /data/heerak/music_vae/groove/drummer5/session2/16_latin-ando_125_beat_3-4.mid.\n"
     ]
    },
    {
     "name": "stdout",
     "output_type": "stream",
     "text": [
      "INFO:tensorflow:Converted MIDI file /data/heerak/music_vae/groove/drummer5/session2/1_latin-venezuelan-sangueo_101_beat_4-4.mid.\n"
     ]
    },
    {
     "name": "stderr",
     "output_type": "stream",
     "text": [
      "INFO:tensorflow:Converted MIDI file /data/heerak/music_vae/groove/drummer5/session2/1_latin-venezuelan-sangueo_101_beat_4-4.mid.\n"
     ]
    },
    {
     "name": "stdout",
     "output_type": "stream",
     "text": [
      "INFO:tensorflow:Converted MIDI file /data/heerak/music_vae/groove/drummer5/session2/24_latin-brazilian-songo_120_beat_4-4.mid.\n"
     ]
    },
    {
     "name": "stderr",
     "output_type": "stream",
     "text": [
      "INFO:tensorflow:Converted MIDI file /data/heerak/music_vae/groove/drummer5/session2/24_latin-brazilian-songo_120_beat_4-4.mid.\n"
     ]
    },
    {
     "name": "stdout",
     "output_type": "stream",
     "text": [
      "INFO:tensorflow:Converted MIDI file /data/heerak/music_vae/groove/drummer5/session2/2_latin-brazilian_101_beat_4-4.mid.\n"
     ]
    },
    {
     "name": "stderr",
     "output_type": "stream",
     "text": [
      "INFO:tensorflow:Converted MIDI file /data/heerak/music_vae/groove/drummer5/session2/2_latin-brazilian_101_beat_4-4.mid.\n"
     ]
    },
    {
     "name": "stdout",
     "output_type": "stream",
     "text": [
      "INFO:tensorflow:Converted MIDI file /data/heerak/music_vae/groove/drummer5/session2/4_reggae_141_beat_4-4.mid.\n"
     ]
    },
    {
     "name": "stderr",
     "output_type": "stream",
     "text": [
      "INFO:tensorflow:Converted MIDI file /data/heerak/music_vae/groove/drummer5/session2/4_reggae_141_beat_4-4.mid.\n"
     ]
    },
    {
     "name": "stdout",
     "output_type": "stream",
     "text": [
      "INFO:tensorflow:Converted MIDI file /data/heerak/music_vae/groove/drummer5/session2/23_latin-brazilian-songo_120_beat_4-4.mid.\n"
     ]
    },
    {
     "name": "stderr",
     "output_type": "stream",
     "text": [
      "INFO:tensorflow:Converted MIDI file /data/heerak/music_vae/groove/drummer5/session2/23_latin-brazilian-songo_120_beat_4-4.mid.\n"
     ]
    },
    {
     "name": "stdout",
     "output_type": "stream",
     "text": [
      "INFO:tensorflow:Converted MIDI file /data/heerak/music_vae/groove/drummer5/session2/9_neworleans-shuffle_104_beat_4-4.mid.\n"
     ]
    },
    {
     "name": "stderr",
     "output_type": "stream",
     "text": [
      "INFO:tensorflow:Converted MIDI file /data/heerak/music_vae/groove/drummer5/session2/9_neworleans-shuffle_104_beat_4-4.mid.\n"
     ]
    },
    {
     "name": "stdout",
     "output_type": "stream",
     "text": [
      "INFO:tensorflow:Converted MIDI file /data/heerak/music_vae/groove/drummer5/session2/3_latin-brazilian_101_beat_4-4.mid.\n"
     ]
    },
    {
     "name": "stderr",
     "output_type": "stream",
     "text": [
      "INFO:tensorflow:Converted MIDI file /data/heerak/music_vae/groove/drummer5/session2/3_latin-brazilian_101_beat_4-4.mid.\n"
     ]
    },
    {
     "name": "stdout",
     "output_type": "stream",
     "text": [
      "INFO:tensorflow:Converted MIDI file /data/heerak/music_vae/groove/drummer5/session2/13_rock_140_beat_4-4.mid.\n"
     ]
    },
    {
     "name": "stderr",
     "output_type": "stream",
     "text": [
      "INFO:tensorflow:Converted MIDI file /data/heerak/music_vae/groove/drummer5/session2/13_rock_140_beat_4-4.mid.\n"
     ]
    },
    {
     "name": "stdout",
     "output_type": "stream",
     "text": [
      "WARNING:tensorflow:Unable to find a converter for file /data/heerak/music_vae/groove/drummer5/session2/Icon\n"
     ]
    },
    {
     "name": "stderr",
     "output_type": "stream",
     "text": [
      "WARNING:tensorflow:Unable to find a converter for file /data/heerak/music_vae/groove/drummer5/session2/Icon\n"
     ]
    },
    {
     "name": "stdout",
     "output_type": "stream",
     "text": [
      "INFO:tensorflow:Converting files in '/data/heerak/music_vae/groove/drummer5/eval_session'.\n"
     ]
    },
    {
     "name": "stderr",
     "output_type": "stream",
     "text": [
      "INFO:tensorflow:Converting files in '/data/heerak/music_vae/groove/drummer5/eval_session'.\n"
     ]
    },
    {
     "name": "stdout",
     "output_type": "stream",
     "text": [
      "INFO:tensorflow:Converted MIDI file /data/heerak/music_vae/groove/drummer5/eval_session/10_soul-groove10_102_beat_4-4.mid.\n"
     ]
    },
    {
     "name": "stderr",
     "output_type": "stream",
     "text": [
      "INFO:tensorflow:Converted MIDI file /data/heerak/music_vae/groove/drummer5/eval_session/10_soul-groove10_102_beat_4-4.mid.\n"
     ]
    },
    {
     "name": "stdout",
     "output_type": "stream",
     "text": [
      "INFO:tensorflow:Converted MIDI file /data/heerak/music_vae/groove/drummer5/eval_session/1_funk-groove1_138_beat_4-4.mid.\n"
     ]
    },
    {
     "name": "stderr",
     "output_type": "stream",
     "text": [
      "INFO:tensorflow:Converted MIDI file /data/heerak/music_vae/groove/drummer5/eval_session/1_funk-groove1_138_beat_4-4.mid.\n"
     ]
    },
    {
     "name": "stdout",
     "output_type": "stream",
     "text": [
      "INFO:tensorflow:Converted MIDI file /data/heerak/music_vae/groove/drummer5/eval_session/6_hiphop-groove6_87_beat_4-4.mid.\n"
     ]
    },
    {
     "name": "stderr",
     "output_type": "stream",
     "text": [
      "INFO:tensorflow:Converted MIDI file /data/heerak/music_vae/groove/drummer5/eval_session/6_hiphop-groove6_87_beat_4-4.mid.\n"
     ]
    },
    {
     "name": "stdout",
     "output_type": "stream",
     "text": [
      "INFO:tensorflow:Converted MIDI file /data/heerak/music_vae/groove/drummer5/eval_session/3_soul-groove3_86_beat_4-4.mid.\n"
     ]
    },
    {
     "name": "stderr",
     "output_type": "stream",
     "text": [
      "INFO:tensorflow:Converted MIDI file /data/heerak/music_vae/groove/drummer5/eval_session/3_soul-groove3_86_beat_4-4.mid.\n"
     ]
    },
    {
     "name": "stdout",
     "output_type": "stream",
     "text": [
      "INFO:tensorflow:Converted MIDI file /data/heerak/music_vae/groove/drummer5/eval_session/9_soul-groove9_105_beat_4-4.mid.\n"
     ]
    },
    {
     "name": "stderr",
     "output_type": "stream",
     "text": [
      "INFO:tensorflow:Converted MIDI file /data/heerak/music_vae/groove/drummer5/eval_session/9_soul-groove9_105_beat_4-4.mid.\n"
     ]
    },
    {
     "name": "stdout",
     "output_type": "stream",
     "text": [
      "INFO:tensorflow:Converted MIDI file /data/heerak/music_vae/groove/drummer5/eval_session/2_funk-groove2_105_beat_4-4.mid.\n"
     ]
    },
    {
     "name": "stderr",
     "output_type": "stream",
     "text": [
      "INFO:tensorflow:Converted MIDI file /data/heerak/music_vae/groove/drummer5/eval_session/2_funk-groove2_105_beat_4-4.mid.\n"
     ]
    },
    {
     "name": "stdout",
     "output_type": "stream",
     "text": [
      "INFO:tensorflow:Converted MIDI file /data/heerak/music_vae/groove/drummer5/eval_session/4_soul-groove4_80_beat_4-4.mid.\n"
     ]
    },
    {
     "name": "stderr",
     "output_type": "stream",
     "text": [
      "INFO:tensorflow:Converted MIDI file /data/heerak/music_vae/groove/drummer5/eval_session/4_soul-groove4_80_beat_4-4.mid.\n"
     ]
    },
    {
     "name": "stdout",
     "output_type": "stream",
     "text": [
      "INFO:tensorflow:Converted MIDI file /data/heerak/music_vae/groove/drummer5/eval_session/7_pop-groove7_138_beat_4-4.mid.\n"
     ]
    },
    {
     "name": "stderr",
     "output_type": "stream",
     "text": [
      "INFO:tensorflow:Converted MIDI file /data/heerak/music_vae/groove/drummer5/eval_session/7_pop-groove7_138_beat_4-4.mid.\n"
     ]
    },
    {
     "name": "stdout",
     "output_type": "stream",
     "text": [
      "INFO:tensorflow:Converted MIDI file /data/heerak/music_vae/groove/drummer5/eval_session/8_rock-groove8_65_beat_4-4.mid.\n"
     ]
    },
    {
     "name": "stderr",
     "output_type": "stream",
     "text": [
      "INFO:tensorflow:Converted MIDI file /data/heerak/music_vae/groove/drummer5/eval_session/8_rock-groove8_65_beat_4-4.mid.\n"
     ]
    },
    {
     "name": "stdout",
     "output_type": "stream",
     "text": [
      "WARNING:tensorflow:Unable to find a converter for file /data/heerak/music_vae/groove/drummer5/eval_session/Icon\n"
     ]
    },
    {
     "name": "stderr",
     "output_type": "stream",
     "text": [
      "WARNING:tensorflow:Unable to find a converter for file /data/heerak/music_vae/groove/drummer5/eval_session/Icon\n"
     ]
    },
    {
     "name": "stdout",
     "output_type": "stream",
     "text": [
      "INFO:tensorflow:Converted MIDI file /data/heerak/music_vae/groove/drummer5/eval_session/5_funk-groove5_84_beat_4-4.mid.\n"
     ]
    },
    {
     "name": "stderr",
     "output_type": "stream",
     "text": [
      "INFO:tensorflow:Converted MIDI file /data/heerak/music_vae/groove/drummer5/eval_session/5_funk-groove5_84_beat_4-4.mid.\n"
     ]
    },
    {
     "name": "stdout",
     "output_type": "stream",
     "text": [
      "INFO:tensorflow:Converting files in '/data/heerak/music_vae/groove/drummer5/session1'.\n"
     ]
    },
    {
     "name": "stderr",
     "output_type": "stream",
     "text": [
      "INFO:tensorflow:Converting files in '/data/heerak/music_vae/groove/drummer5/session1'.\n"
     ]
    },
    {
     "name": "stdout",
     "output_type": "stream",
     "text": [
      "INFO:tensorflow:Converted MIDI file /data/heerak/music_vae/groove/drummer5/session1/8_latin-venezuelan-merengue_162_beat_5-8.mid.\n"
     ]
    },
    {
     "name": "stderr",
     "output_type": "stream",
     "text": [
      "INFO:tensorflow:Converted MIDI file /data/heerak/music_vae/groove/drummer5/session1/8_latin-venezuelan-merengue_162_beat_5-8.mid.\n"
     ]
    },
    {
     "name": "stdout",
     "output_type": "stream",
     "text": [
      "INFO:tensorflow:Converted MIDI file /data/heerak/music_vae/groove/drummer5/session1/20_latin-brazilian-baiao_110_beat_4-4.mid.\n"
     ]
    },
    {
     "name": "stderr",
     "output_type": "stream",
     "text": [
      "INFO:tensorflow:Converted MIDI file /data/heerak/music_vae/groove/drummer5/session1/20_latin-brazilian-baiao_110_beat_4-4.mid.\n"
     ]
    },
    {
     "name": "stdout",
     "output_type": "stream",
     "text": [
      "INFO:tensorflow:Converted MIDI file /data/heerak/music_vae/groove/drummer5/session1/14_latin-brazilian-songo_112_beat_4-4.mid.\n"
     ]
    },
    {
     "name": "stderr",
     "output_type": "stream",
     "text": [
      "INFO:tensorflow:Converted MIDI file /data/heerak/music_vae/groove/drummer5/session1/14_latin-brazilian-songo_112_beat_4-4.mid.\n"
     ]
    },
    {
     "name": "stdout",
     "output_type": "stream",
     "text": [
      "INFO:tensorflow:Converted MIDI file /data/heerak/music_vae/groove/drummer5/session1/6_latin-brazilian-maracatu_96_beat_4-4.mid.\n"
     ]
    },
    {
     "name": "stderr",
     "output_type": "stream",
     "text": [
      "INFO:tensorflow:Converted MIDI file /data/heerak/music_vae/groove/drummer5/session1/6_latin-brazilian-maracatu_96_beat_4-4.mid.\n"
     ]
    },
    {
     "name": "stdout",
     "output_type": "stream",
     "text": [
      "INFO:tensorflow:Converted MIDI file /data/heerak/music_vae/groove/drummer5/session1/19_middleeastern_126_beat_4-4.mid.\n"
     ]
    },
    {
     "name": "stderr",
     "output_type": "stream",
     "text": [
      "INFO:tensorflow:Converted MIDI file /data/heerak/music_vae/groove/drummer5/session1/19_middleeastern_126_beat_4-4.mid.\n"
     ]
    },
    {
     "name": "stdout",
     "output_type": "stream",
     "text": [
      "INFO:tensorflow:Converted MIDI file /data/heerak/music_vae/groove/drummer5/session1/2_latin-brazilian-bossa_127_beat_4-4.mid.\n"
     ]
    },
    {
     "name": "stderr",
     "output_type": "stream",
     "text": [
      "INFO:tensorflow:Converted MIDI file /data/heerak/music_vae/groove/drummer5/session1/2_latin-brazilian-bossa_127_beat_4-4.mid.\n"
     ]
    },
    {
     "name": "stdout",
     "output_type": "stream",
     "text": [
      "INFO:tensorflow:Converted MIDI file /data/heerak/music_vae/groove/drummer5/session1/1_latin-brazilian-bossa_127_beat_4-4.mid.\n"
     ]
    },
    {
     "name": "stderr",
     "output_type": "stream",
     "text": [
      "INFO:tensorflow:Converted MIDI file /data/heerak/music_vae/groove/drummer5/session1/1_latin-brazilian-bossa_127_beat_4-4.mid.\n"
     ]
    },
    {
     "name": "stdout",
     "output_type": "stream",
     "text": [
      "INFO:tensorflow:Converted MIDI file /data/heerak/music_vae/groove/drummer5/session1/18_afrocuban_128_beat_4-4.mid.\n"
     ]
    },
    {
     "name": "stderr",
     "output_type": "stream",
     "text": [
      "INFO:tensorflow:Converted MIDI file /data/heerak/music_vae/groove/drummer5/session1/18_afrocuban_128_beat_4-4.mid.\n"
     ]
    },
    {
     "name": "stdout",
     "output_type": "stream",
     "text": [
      "INFO:tensorflow:Converted MIDI file /data/heerak/music_vae/groove/drummer5/session1/11_latin-brazilian-sambareggae_96_beat_4-4.mid.\n"
     ]
    },
    {
     "name": "stderr",
     "output_type": "stream",
     "text": [
      "INFO:tensorflow:Converted MIDI file /data/heerak/music_vae/groove/drummer5/session1/11_latin-brazilian-sambareggae_96_beat_4-4.mid.\n"
     ]
    },
    {
     "name": "stdout",
     "output_type": "stream",
     "text": [
      "INFO:tensorflow:Converted MIDI file /data/heerak/music_vae/groove/drummer5/session1/17_blues-shuffle_72_beat_4-4.mid.\n"
     ]
    },
    {
     "name": "stderr",
     "output_type": "stream",
     "text": [
      "INFO:tensorflow:Converted MIDI file /data/heerak/music_vae/groove/drummer5/session1/17_blues-shuffle_72_beat_4-4.mid.\n"
     ]
    },
    {
     "name": "stdout",
     "output_type": "stream",
     "text": [
      "INFO:tensorflow:Converted MIDI file /data/heerak/music_vae/groove/drummer5/session1/16_rock_136_beat_4-4.mid.\n"
     ]
    },
    {
     "name": "stderr",
     "output_type": "stream",
     "text": [
      "INFO:tensorflow:Converted MIDI file /data/heerak/music_vae/groove/drummer5/session1/16_rock_136_beat_4-4.mid.\n"
     ]
    },
    {
     "name": "stdout",
     "output_type": "stream",
     "text": [
      "INFO:tensorflow:Converted MIDI file /data/heerak/music_vae/groove/drummer5/session1/12_latin-brazilian-sambareggae_96_beat_4-4.mid.\n"
     ]
    },
    {
     "name": "stderr",
     "output_type": "stream",
     "text": [
      "INFO:tensorflow:Converted MIDI file /data/heerak/music_vae/groove/drummer5/session1/12_latin-brazilian-sambareggae_96_beat_4-4.mid.\n"
     ]
    },
    {
     "name": "stdout",
     "output_type": "stream",
     "text": [
      "INFO:tensorflow:Converted MIDI file /data/heerak/music_vae/groove/drummer5/session1/4_latin-brazilian-samba_89_beat_4-4.mid.\n"
     ]
    },
    {
     "name": "stderr",
     "output_type": "stream",
     "text": [
      "INFO:tensorflow:Converted MIDI file /data/heerak/music_vae/groove/drummer5/session1/4_latin-brazilian-samba_89_beat_4-4.mid.\n"
     ]
    },
    {
     "name": "stdout",
     "output_type": "stream",
     "text": [
      "INFO:tensorflow:Converted MIDI file /data/heerak/music_vae/groove/drummer5/session1/5_latin-brazilian-samba_89_beat_4-4.mid.\n"
     ]
    },
    {
     "name": "stderr",
     "output_type": "stream",
     "text": [
      "INFO:tensorflow:Converted MIDI file /data/heerak/music_vae/groove/drummer5/session1/5_latin-brazilian-samba_89_beat_4-4.mid.\n"
     ]
    },
    {
     "name": "stdout",
     "output_type": "stream",
     "text": [
      "INFO:tensorflow:Converted MIDI file /data/heerak/music_vae/groove/drummer5/session1/7_latin-brazilian-maracatu_96_beat_4-4.mid.\n"
     ]
    },
    {
     "name": "stderr",
     "output_type": "stream",
     "text": [
      "INFO:tensorflow:Converted MIDI file /data/heerak/music_vae/groove/drummer5/session1/7_latin-brazilian-maracatu_96_beat_4-4.mid.\n"
     ]
    },
    {
     "name": "stdout",
     "output_type": "stream",
     "text": [
      "INFO:tensorflow:Converted MIDI file /data/heerak/music_vae/groove/drummer5/session1/9_latin-dominican-merengue_130_beat_4-4.mid.\n"
     ]
    },
    {
     "name": "stderr",
     "output_type": "stream",
     "text": [
      "INFO:tensorflow:Converted MIDI file /data/heerak/music_vae/groove/drummer5/session1/9_latin-dominican-merengue_130_beat_4-4.mid.\n"
     ]
    },
    {
     "name": "stdout",
     "output_type": "stream",
     "text": [
      "WARNING:tensorflow:Unable to find a converter for file /data/heerak/music_vae/groove/drummer5/session1/Icon\n"
     ]
    },
    {
     "name": "stderr",
     "output_type": "stream",
     "text": [
      "WARNING:tensorflow:Unable to find a converter for file /data/heerak/music_vae/groove/drummer5/session1/Icon\n"
     ]
    },
    {
     "name": "stdout",
     "output_type": "stream",
     "text": [
      "INFO:tensorflow:Converted MIDI file /data/heerak/music_vae/groove/drummer5/session1/15_funk_100_beat_4-4.mid.\n"
     ]
    },
    {
     "name": "stderr",
     "output_type": "stream",
     "text": [
      "INFO:tensorflow:Converted MIDI file /data/heerak/music_vae/groove/drummer5/session1/15_funk_100_beat_4-4.mid.\n"
     ]
    },
    {
     "name": "stdout",
     "output_type": "stream",
     "text": [
      "INFO:tensorflow:Converted MIDI file /data/heerak/music_vae/groove/drummer5/session1/10_latin-brazilian-sambareggae_96_beat_4-4.mid.\n"
     ]
    },
    {
     "name": "stderr",
     "output_type": "stream",
     "text": [
      "INFO:tensorflow:Converted MIDI file /data/heerak/music_vae/groove/drummer5/session1/10_latin-brazilian-sambareggae_96_beat_4-4.mid.\n"
     ]
    },
    {
     "name": "stdout",
     "output_type": "stream",
     "text": [
      "INFO:tensorflow:Converted MIDI file /data/heerak/music_vae/groove/drummer5/session1/13_afrocuban-calypso_124_beat_4-4.mid.\n"
     ]
    },
    {
     "name": "stderr",
     "output_type": "stream",
     "text": [
      "INFO:tensorflow:Converted MIDI file /data/heerak/music_vae/groove/drummer5/session1/13_afrocuban-calypso_124_beat_4-4.mid.\n"
     ]
    },
    {
     "name": "stdout",
     "output_type": "stream",
     "text": [
      "INFO:tensorflow:Converted MIDI file /data/heerak/music_vae/groove/drummer5/session1/3_latin-brazilian-samba_89_beat_4-4.mid.\n"
     ]
    },
    {
     "name": "stderr",
     "output_type": "stream",
     "text": [
      "INFO:tensorflow:Converted MIDI file /data/heerak/music_vae/groove/drummer5/session1/3_latin-brazilian-samba_89_beat_4-4.mid.\n"
     ]
    },
    {
     "name": "stdout",
     "output_type": "stream",
     "text": [
      "INFO:tensorflow:Converting files in '/data/heerak/music_vae/groove/drummer4'.\n"
     ]
    },
    {
     "name": "stderr",
     "output_type": "stream",
     "text": [
      "INFO:tensorflow:Converting files in '/data/heerak/music_vae/groove/drummer4'.\n"
     ]
    },
    {
     "name": "stdout",
     "output_type": "stream",
     "text": [
      "WARNING:tensorflow:Unable to find a converter for file /data/heerak/music_vae/groove/drummer4/Icon\n"
     ]
    },
    {
     "name": "stderr",
     "output_type": "stream",
     "text": [
      "WARNING:tensorflow:Unable to find a converter for file /data/heerak/music_vae/groove/drummer4/Icon\n"
     ]
    },
    {
     "name": "stdout",
     "output_type": "stream",
     "text": [
      "INFO:tensorflow:Converting files in '/data/heerak/music_vae/groove/drummer4/session1'.\n"
     ]
    },
    {
     "name": "stderr",
     "output_type": "stream",
     "text": [
      "INFO:tensorflow:Converting files in '/data/heerak/music_vae/groove/drummer4/session1'.\n"
     ]
    },
    {
     "name": "stdout",
     "output_type": "stream",
     "text": [
      "INFO:tensorflow:Converted MIDI file /data/heerak/music_vae/groove/drummer4/session1/6_blues-shuffle_134_beat_4-4.mid.\n"
     ]
    },
    {
     "name": "stderr",
     "output_type": "stream",
     "text": [
      "INFO:tensorflow:Converted MIDI file /data/heerak/music_vae/groove/drummer4/session1/6_blues-shuffle_134_beat_4-4.mid.\n"
     ]
    },
    {
     "name": "stdout",
     "output_type": "stream",
     "text": [
      "INFO:tensorflow:Converted MIDI file /data/heerak/music_vae/groove/drummer4/session1/9_latin-merengue_158_beat_4-4.mid.\n"
     ]
    },
    {
     "name": "stderr",
     "output_type": "stream",
     "text": [
      "INFO:tensorflow:Converted MIDI file /data/heerak/music_vae/groove/drummer4/session1/9_latin-merengue_158_beat_4-4.mid.\n"
     ]
    },
    {
     "name": "stdout",
     "output_type": "stream",
     "text": [
      "INFO:tensorflow:Converted MIDI file /data/heerak/music_vae/groove/drummer4/session1/5_latin-brazilian_184_beat_4-4.mid.\n"
     ]
    },
    {
     "name": "stderr",
     "output_type": "stream",
     "text": [
      "INFO:tensorflow:Converted MIDI file /data/heerak/music_vae/groove/drummer4/session1/5_latin-brazilian_184_beat_4-4.mid.\n"
     ]
    },
    {
     "name": "stdout",
     "output_type": "stream",
     "text": [
      "INFO:tensorflow:Converted MIDI file /data/heerak/music_vae/groove/drummer4/session1/7_blues-shuffle_134_beat_4-4.mid.\n"
     ]
    },
    {
     "name": "stderr",
     "output_type": "stream",
     "text": [
      "INFO:tensorflow:Converted MIDI file /data/heerak/music_vae/groove/drummer4/session1/7_blues-shuffle_134_beat_4-4.mid.\n"
     ]
    },
    {
     "name": "stdout",
     "output_type": "stream",
     "text": [
      "INFO:tensorflow:Converted MIDI file /data/heerak/music_vae/groove/drummer4/session1/1_rock_87_beat_4-4.mid.\n"
     ]
    },
    {
     "name": "stderr",
     "output_type": "stream",
     "text": [
      "INFO:tensorflow:Converted MIDI file /data/heerak/music_vae/groove/drummer4/session1/1_rock_87_beat_4-4.mid.\n"
     ]
    },
    {
     "name": "stdout",
     "output_type": "stream",
     "text": [
      "INFO:tensorflow:Converted MIDI file /data/heerak/music_vae/groove/drummer4/session1/3_jazz-klezmer_152_beat_4-4.mid.\n"
     ]
    },
    {
     "name": "stderr",
     "output_type": "stream",
     "text": [
      "INFO:tensorflow:Converted MIDI file /data/heerak/music_vae/groove/drummer4/session1/3_jazz-klezmer_152_beat_4-4.mid.\n"
     ]
    },
    {
     "name": "stdout",
     "output_type": "stream",
     "text": [
      "INFO:tensorflow:Converted MIDI file /data/heerak/music_vae/groove/drummer4/session1/2_jazz_158_beat_4-4.mid.\n"
     ]
    },
    {
     "name": "stderr",
     "output_type": "stream",
     "text": [
      "INFO:tensorflow:Converted MIDI file /data/heerak/music_vae/groove/drummer4/session1/2_jazz_158_beat_4-4.mid.\n"
     ]
    },
    {
     "name": "stdout",
     "output_type": "stream",
     "text": [
      "INFO:tensorflow:Converted MIDI file /data/heerak/music_vae/groove/drummer4/session1/8_blues-shuffle_112_beat_4-4.mid.\n"
     ]
    },
    {
     "name": "stderr",
     "output_type": "stream",
     "text": [
      "INFO:tensorflow:Converted MIDI file /data/heerak/music_vae/groove/drummer4/session1/8_blues-shuffle_112_beat_4-4.mid.\n"
     ]
    },
    {
     "name": "stdout",
     "output_type": "stream",
     "text": [
      "WARNING:tensorflow:Unable to find a converter for file /data/heerak/music_vae/groove/drummer4/session1/Icon\n"
     ]
    },
    {
     "name": "stderr",
     "output_type": "stream",
     "text": [
      "WARNING:tensorflow:Unable to find a converter for file /data/heerak/music_vae/groove/drummer4/session1/Icon\n"
     ]
    },
    {
     "name": "stdout",
     "output_type": "stream",
     "text": [
      "INFO:tensorflow:Converted MIDI file /data/heerak/music_vae/groove/drummer4/session1/4_latin-brazilian_92_beat_4-4.mid.\n"
     ]
    },
    {
     "name": "stderr",
     "output_type": "stream",
     "text": [
      "INFO:tensorflow:Converted MIDI file /data/heerak/music_vae/groove/drummer4/session1/4_latin-brazilian_92_beat_4-4.mid.\n"
     ]
    }
   ],
   "source": [
    "# 폴더내에 MIDI 파일을 찾아서 NoteSequences 로 변환하고 TFRecord 로 저장해주는 function 이용\n",
    "if not os.path.exists(os.path.join(root_path, 'tfrecord')):\n",
    "    os.makedirs(os.path.join(root_path, 'tfrecord'))\n",
    "convert_directory(\n",
    "    root_dir=os.path.join(root_path, 'groove'),  # MIDI 파일 저장되어 있는 전체 데이터 폴더\n",
    "    output_file=os.path.join(root_path, 'tfrecord/groove.tfrecord'),  # tfrecord 파일 저장 위치\n",
    "    recursive=True,  # 재귀적으로 폴더 내에 모든 위치 찾도록 지정해주는 parameter\n",
    ")"
   ]
  },
  {
   "cell_type": "markdown",
   "id": "8a7ba316-5742-4425-bb0a-989f13022d4d",
   "metadata": {
    "tags": []
   },
   "source": [
    "# 모델 구조\n",
    "\n",
    "<img src=\"archive/music_VAE.jpg\" width=\"500\" height=\"340\">"
   ]
  },
  {
   "cell_type": "markdown",
   "id": "2fe39dd0-680f-4a42-9a33-e475c16dbb6a",
   "metadata": {},
   "source": [
    "## Encoder -> two-layer bidirectional LSTM Network\n",
    "- hidden state size 2048\n",
    "- Latent Dimensions 512"
   ]
  },
  {
   "cell_type": "markdown",
   "id": "155fdba9-b66c-42da-bda0-9056c14db54f",
   "metadata": {},
   "source": [
    "## Conductor -> two-layer unidirectional LSTM Network\n",
    "- hidden state size 1024\n",
    "- output dimension 512"
   ]
  },
  {
   "cell_type": "markdown",
   "id": "54aa621f-2412-4118-b822-32f1d30ba527",
   "metadata": {},
   "source": [
    "## Decoder -> two-layer unidirectional LSTM\n",
    "    - hidden state size 1024"
   ]
  },
  {
   "cell_type": "markdown",
   "id": "aa57cd18-208d-416c-938b-1cc62a89644e",
   "metadata": {},
   "source": [
    "# Model Config"
   ]
  },
  {
   "cell_type": "code",
   "execution_count": 3,
   "id": "5c43cb7b-dbb8-4813-8843-0de0895abac5",
   "metadata": {},
   "outputs": [],
   "source": [
    "class Config(collections.namedtuple(\n",
    "    'Config', \n",
    "    ['model', 'hparams', 'note_sequence_augmenter', 'data_converter',\n",
    "     'train_examples_path', 'eval_examples_path', 'tfds_name'])):\n",
    "    \n",
    "    def values(self):\n",
    "        return self._asdict()\n",
    "    \n",
    "    \n",
    "CONFIG_MAP = {}\n",
    "\n",
    "HParams = contrib_training.HParams\n",
    "\n",
    "# groovae_4bar 모델 구조 사용\n",
    "CONFIG_MAP['groovae_4bar'] = Config(\n",
    "    model=MusicVAE(lstm_models.BidirectionalLstmEncoder(),\n",
    "                   lstm_models.GrooveLstmDecoder()),\n",
    "    hparams=merge_hparams(\n",
    "        lstm_models.get_default_hparams(),\n",
    "        HParams(\n",
    "            batch_size=128,  # 512 -> 128\n",
    "            max_seq_len=16 * 4,\n",
    "            z_size=512,\n",
    "            enc_rnn_size=[2048, 2048],\n",
    "            dec_rnn_size=[1024, 1024],\n",
    "            max_beta=0.2,\n",
    "            free_bits=48,\n",
    "            dropout_keep_prob=0.3,\n",
    "        )\n",
    "    ),\n",
    "    note_sequence_augmenter=None,\n",
    "    data_converter=data.GrooveConverter(\n",
    "        split_bars=4,\n",
    "        steps_per_quarter=4,\n",
    "        quarters_per_bar=4,\n",
    "        max_tensors_per_notesequence=20,\n",
    "        pitch_classes=data.REDUCED_DRUM_PITCH_CLASSES,\n",
    "    ),\n",
    "    train_examples_path=os.path.join(root_path, 'tfrecord', 'groove.tfrecord'),\n",
    "    eval_examples_path=None,\n",
    "    tfds_name=None,\n",
    ")"
   ]
  },
  {
   "cell_type": "markdown",
   "id": "a2f4a80b-697f-4a0d-a7a7-1dc0fe4be863",
   "metadata": {},
   "source": [
    "# Train 에 필요한 function 정의\n",
    "\n",
    "music_vae_train.py 에 들어있는 필요한 함수만 가져와서 사용"
   ]
  },
  {
   "cell_type": "code",
   "execution_count": 4,
   "id": "ea843f60-815e-4f19-982e-eca6d0b1239f",
   "metadata": {},
   "outputs": [],
   "source": [
    "def _get_input_tensors(dataset, config):\n",
    "    \"\"\"Get input tensors from dataset.\"\"\"\n",
    "    batch_size = config.hparams.batch_size\n",
    "    iterator = tf.data.make_one_shot_iterator(dataset)\n",
    "    (input_sequence, output_sequence, control_sequence, sequence_length) = iterator.get_next()\n",
    "    input_sequence.set_shape([batch_size, None, config.data_converter.input_depth])\n",
    "    output_sequence.set_shape([batch_size, None, config.data_converter.output_depth])\n",
    "    if not config.data_converter.control_depth:\n",
    "        control_sequence = None\n",
    "    else:\n",
    "        control_sequence.set_shape([batch_size, None, config.data_converter.control_depth])\n",
    "        sequence_length.set_shape([batch_size] + sequence_length.shape[1:].as_list())\n",
    "\n",
    "    return {\n",
    "        'input_sequence': input_sequence,\n",
    "        'output_sequence': output_sequence,\n",
    "        'control_sequence': control_sequence,\n",
    "        'sequence_length': sequence_length\n",
    "    }"
   ]
  },
  {
   "cell_type": "code",
   "execution_count": 5,
   "id": "9e528416-9b30-401b-9a16-e9fb8b121eba",
   "metadata": {},
   "outputs": [],
   "source": [
    "def train(train_dir,\n",
    "          config,\n",
    "          dataset_fn,\n",
    "          checkpoints_to_keep=5,\n",
    "          keep_checkpoint_every_n_hours=1,\n",
    "          num_steps=None,\n",
    "          master='',\n",
    "          num_sync_workers=0,\n",
    "          num_ps_tasks=0,\n",
    "          task=0):\n",
    "    \"\"\"Train loop.\"\"\"\n",
    "    tf.gfile.MakeDirs(train_dir)\n",
    "    is_chief = (task == 0)\n",
    "\n",
    "    with tf.Graph().as_default():\n",
    "        with tf.device(tf.train.replica_device_setter(\n",
    "        num_ps_tasks, merge_devices=True)):\n",
    "            \n",
    "            model = config.model\n",
    "            model.build(config.hparams,\n",
    "                        config.data_converter.output_depth,\n",
    "                        is_training=True)\n",
    "            \n",
    "            optimizer = model.train(**_get_input_tensors(dataset_fn(), config))\n",
    "            \n",
    "            hooks = []\n",
    "            if num_sync_workers:\n",
    "                optimizer = tf.train.SyncReplicasOptimizer(\n",
    "                    optimizer,\n",
    "                    num_sync_workers)\n",
    "                hooks.append(optimizer.make_session_run_hook(is_chief))\n",
    "                \n",
    "            grads, var_list = list(zip(*optimizer.compute_gradients(model.loss)))\n",
    "            global_norm = tf.global_norm(grads)\n",
    "            \n",
    "            if config.hparams.clip_mode == 'value':\n",
    "                g = config.hparams.grad_clip\n",
    "                clipped_grads = [tf.clip_by_value(grad, -g, g) for grad in grads]\n",
    "            elif config.hparams.clip_mode == 'global_norm':\n",
    "                clipped_grads = tf.cond(\n",
    "                    global_norm < config.hparams.grad_norm_clip_to_zero,\n",
    "                    lambda: tf.clip_by_global_norm(  # pylint:disable=g-long-lambda\n",
    "                        grads, config.hparams.grad_clip, use_norm=global_norm)[0],\n",
    "                    lambda: [tf.zeros(tf.shape(g)) for g in grads])\n",
    "            else:\n",
    "                raise ValueError(\n",
    "                    'Unknown clip_mode: {}'.format(config.hparams.clip_mode))\n",
    "                \n",
    "            train_op = optimizer.apply_gradients(\n",
    "                list(zip(clipped_grads, var_list)),\n",
    "                global_step=model.global_step,\n",
    "                name='train_step')\n",
    "            \n",
    "            logging_dict = {'global_step': model.global_step,\n",
    "                            'loss': model.loss}\n",
    "            \n",
    "            hooks.append(tf.train.LoggingTensorHook(logging_dict, every_n_iter=100))\n",
    "            if num_steps:\n",
    "                hooks.append(tf.train.StopAtStepHook(last_step=num_steps))\n",
    "                \n",
    "            scaffold = tf.train.Scaffold(\n",
    "                saver=tf.train.Saver(\n",
    "                    max_to_keep=checkpoints_to_keep,\n",
    "                    keep_checkpoint_every_n_hours=keep_checkpoint_every_n_hours))\n",
    "            \n",
    "            tf_slim.training.train(\n",
    "                train_op=train_op,\n",
    "                logdir=train_dir,\n",
    "                scaffold=scaffold,\n",
    "                hooks=hooks,\n",
    "                save_checkpoint_secs=60,\n",
    "                master=master,\n",
    "                is_chief=is_chief)"
   ]
  },
  {
   "cell_type": "code",
   "execution_count": 6,
   "id": "b12d51d8-eb99-4dea-bf88-06586f456bad",
   "metadata": {},
   "outputs": [],
   "source": [
    "def run(config_map,\n",
    "        tf_file_reader=tf.data.TFRecordDataset,\n",
    "        file_reader=tf.python_io.tf_record_iterator,\n",
    "       ):\n",
    "    \n",
    "    \"\"\"Load model params, save config file and start trainer.\n",
    "    Args:\n",
    "        config_map: Dictionary mapping configuration name to Config object.\n",
    "        tf_file_reader: The tf.data.Dataset class to use for reading files.\n",
    "        file_reader: The Python reader to use for reading files.\n",
    "    Raises:\n",
    "    ValueError: if required flags are missing or invalid.\n",
    "    \"\"\"\n",
    "    \n",
    "    config = config_map['groovae_4bar']\n",
    "    train_dir = os.path.join(root_path, 'train')\n",
    "\n",
    "    def dataset_fn():\n",
    "        return data.get_dataset(\n",
    "            config,\n",
    "            tf_file_reader=tf_file_reader,\n",
    "            is_training=True,\n",
    "            cache_dataset=True)\n",
    "\n",
    "    train(\n",
    "        train_dir,\n",
    "        config=config,\n",
    "        dataset_fn=dataset_fn,\n",
    "        num_steps=10000,  # 200000 -> 10000\n",
    "    )"
   ]
  },
  {
   "cell_type": "markdown",
   "id": "ada411d3-8b59-446d-bf8f-831147d678e1",
   "metadata": {},
   "source": [
    "# Train"
   ]
  },
  {
   "cell_type": "code",
   "execution_count": 7,
   "id": "784e703d-fe1f-422c-a9a5-0b7eba3084eb",
   "metadata": {
    "scrolled": true,
    "tags": []
   },
   "outputs": [
    {
     "name": "stdout",
     "output_type": "stream",
     "text": [
      "INFO:tensorflow:Building MusicVAE model with BidirectionalLstmEncoder, GrooveLstmDecoder, and hparams:\n",
      "{'max_seq_len': 64, 'z_size': 512, 'free_bits': 48, 'max_beta': 0.2, 'beta_rate': 0.0, 'batch_size': 128, 'grad_clip': 1.0, 'clip_mode': 'global_norm', 'grad_norm_clip_to_zero': 10000, 'learning_rate': 0.001, 'decay_rate': 0.9999, 'min_learning_rate': 1e-05, 'conditional': True, 'dec_rnn_size': [1024, 1024], 'enc_rnn_size': [2048, 2048], 'dropout_keep_prob': 0.3, 'sampling_schedule': 'constant', 'sampling_rate': 0.0, 'use_cudnn': False, 'residual_encoder': False, 'residual_decoder': False, 'control_preprocessing_rnn_size': [256]}\n"
     ]
    },
    {
     "name": "stderr",
     "output_type": "stream",
     "text": [
      "INFO:tensorflow:Building MusicVAE model with BidirectionalLstmEncoder, GrooveLstmDecoder, and hparams:\n",
      "{'max_seq_len': 64, 'z_size': 512, 'free_bits': 48, 'max_beta': 0.2, 'beta_rate': 0.0, 'batch_size': 128, 'grad_clip': 1.0, 'clip_mode': 'global_norm', 'grad_norm_clip_to_zero': 10000, 'learning_rate': 0.001, 'decay_rate': 0.9999, 'min_learning_rate': 1e-05, 'conditional': True, 'dec_rnn_size': [1024, 1024], 'enc_rnn_size': [2048, 2048], 'dropout_keep_prob': 0.3, 'sampling_schedule': 'constant', 'sampling_rate': 0.0, 'use_cudnn': False, 'residual_encoder': False, 'residual_decoder': False, 'control_preprocessing_rnn_size': [256]}\n"
     ]
    },
    {
     "name": "stdout",
     "output_type": "stream",
     "text": [
      "INFO:tensorflow:\n",
      "Encoder Cells (bidirectional):\n",
      "  units: [2048, 2048]\n",
      "\n"
     ]
    },
    {
     "name": "stderr",
     "output_type": "stream",
     "text": [
      "INFO:tensorflow:\n",
      "Encoder Cells (bidirectional):\n",
      "  units: [2048, 2048]\n",
      "\n"
     ]
    },
    {
     "name": "stdout",
     "output_type": "stream",
     "text": [
      "WARNING:tensorflow:`tf.nn.rnn_cell.MultiRNNCell` is deprecated. This class is equivalent as `tf.keras.layers.StackedRNNCells`, and will be replaced by that in Tensorflow 2.0.\n"
     ]
    },
    {
     "name": "stderr",
     "output_type": "stream",
     "text": [
      "WARNING:tensorflow:`tf.nn.rnn_cell.MultiRNNCell` is deprecated. This class is equivalent as `tf.keras.layers.StackedRNNCells`, and will be replaced by that in Tensorflow 2.0.\n"
     ]
    },
    {
     "name": "stdout",
     "output_type": "stream",
     "text": [
      "WARNING:tensorflow:`tf.nn.rnn_cell.MultiRNNCell` is deprecated. This class is equivalent as `tf.keras.layers.StackedRNNCells`, and will be replaced by that in Tensorflow 2.0.\n"
     ]
    },
    {
     "name": "stderr",
     "output_type": "stream",
     "text": [
      "WARNING:tensorflow:`tf.nn.rnn_cell.MultiRNNCell` is deprecated. This class is equivalent as `tf.keras.layers.StackedRNNCells`, and will be replaced by that in Tensorflow 2.0.\n"
     ]
    },
    {
     "name": "stdout",
     "output_type": "stream",
     "text": [
      "WARNING:tensorflow:`tf.nn.rnn_cell.MultiRNNCell` is deprecated. This class is equivalent as `tf.keras.layers.StackedRNNCells`, and will be replaced by that in Tensorflow 2.0.\n"
     ]
    },
    {
     "name": "stderr",
     "output_type": "stream",
     "text": [
      "WARNING:tensorflow:`tf.nn.rnn_cell.MultiRNNCell` is deprecated. This class is equivalent as `tf.keras.layers.StackedRNNCells`, and will be replaced by that in Tensorflow 2.0.\n"
     ]
    },
    {
     "name": "stdout",
     "output_type": "stream",
     "text": [
      "WARNING:tensorflow:`tf.nn.rnn_cell.MultiRNNCell` is deprecated. This class is equivalent as `tf.keras.layers.StackedRNNCells`, and will be replaced by that in Tensorflow 2.0.\n"
     ]
    },
    {
     "name": "stderr",
     "output_type": "stream",
     "text": [
      "WARNING:tensorflow:`tf.nn.rnn_cell.MultiRNNCell` is deprecated. This class is equivalent as `tf.keras.layers.StackedRNNCells`, and will be replaced by that in Tensorflow 2.0.\n"
     ]
    },
    {
     "name": "stdout",
     "output_type": "stream",
     "text": [
      "INFO:tensorflow:\n",
      "Decoder Cells:\n",
      "  units: [1024, 1024]\n",
      "\n"
     ]
    },
    {
     "name": "stderr",
     "output_type": "stream",
     "text": [
      "INFO:tensorflow:\n",
      "Decoder Cells:\n",
      "  units: [1024, 1024]\n",
      "\n"
     ]
    },
    {
     "name": "stdout",
     "output_type": "stream",
     "text": [
      "WARNING:tensorflow:`tf.nn.rnn_cell.MultiRNNCell` is deprecated. This class is equivalent as `tf.keras.layers.StackedRNNCells`, and will be replaced by that in Tensorflow 2.0.\n"
     ]
    },
    {
     "name": "stderr",
     "output_type": "stream",
     "text": [
      "WARNING:tensorflow:`tf.nn.rnn_cell.MultiRNNCell` is deprecated. This class is equivalent as `tf.keras.layers.StackedRNNCells`, and will be replaced by that in Tensorflow 2.0.\n"
     ]
    },
    {
     "name": "stdout",
     "output_type": "stream",
     "text": [
      "INFO:tensorflow:Reading examples from file: /data/heerak/music_vae/tfrecord/groove.tfrecord\n"
     ]
    },
    {
     "name": "stderr",
     "output_type": "stream",
     "text": [
      "INFO:tensorflow:Reading examples from file: /data/heerak/music_vae/tfrecord/groove.tfrecord\n"
     ]
    },
    {
     "name": "stdout",
     "output_type": "stream",
     "text": [
      "WARNING:tensorflow:From /data/heerak/music_vae/venv/lib/python3.8/site-packages/tensorflow/python/util/dispatch.py:1176: to_float (from tensorflow.python.ops.math_ops) is deprecated and will be removed in a future version.\n",
      "Instructions for updating:\n",
      "Use `tf.cast` instead.\n"
     ]
    },
    {
     "name": "stderr",
     "output_type": "stream",
     "text": [
      "WARNING:tensorflow:From /data/heerak/music_vae/venv/lib/python3.8/site-packages/tensorflow/python/util/dispatch.py:1176: to_float (from tensorflow.python.ops.math_ops) is deprecated and will be removed in a future version.\n",
      "Instructions for updating:\n",
      "Use `tf.cast` instead.\n"
     ]
    },
    {
     "name": "stdout",
     "output_type": "stream",
     "text": [
      "WARNING:tensorflow:From /data/heerak/music_vae/venv/lib/python3.8/site-packages/magenta/contrib/rnn.py:464: bidirectional_dynamic_rnn (from tensorflow.python.ops.rnn) is deprecated and will be removed in a future version.\n",
      "Instructions for updating:\n",
      "Please use `keras.layers.Bidirectional(keras.layers.RNN(cell))`, which is equivalent to this API\n"
     ]
    },
    {
     "name": "stderr",
     "output_type": "stream",
     "text": [
      "WARNING:tensorflow:From /data/heerak/music_vae/venv/lib/python3.8/site-packages/magenta/contrib/rnn.py:464: bidirectional_dynamic_rnn (from tensorflow.python.ops.rnn) is deprecated and will be removed in a future version.\n",
      "Instructions for updating:\n",
      "Please use `keras.layers.Bidirectional(keras.layers.RNN(cell))`, which is equivalent to this API\n"
     ]
    },
    {
     "name": "stdout",
     "output_type": "stream",
     "text": [
      "WARNING:tensorflow:From /data/heerak/music_vae/venv/lib/python3.8/site-packages/tensorflow/python/ops/rnn.py:437: dynamic_rnn (from tensorflow.python.ops.rnn) is deprecated and will be removed in a future version.\n",
      "Instructions for updating:\n",
      "Please use `keras.layers.RNN(cell)`, which is equivalent to this API\n"
     ]
    },
    {
     "name": "stderr",
     "output_type": "stream",
     "text": [
      "WARNING:tensorflow:From /data/heerak/music_vae/venv/lib/python3.8/site-packages/tensorflow/python/ops/rnn.py:437: dynamic_rnn (from tensorflow.python.ops.rnn) is deprecated and will be removed in a future version.\n",
      "Instructions for updating:\n",
      "Please use `keras.layers.RNN(cell)`, which is equivalent to this API\n",
      "/data/heerak/music_vae/venv/lib/python3.8/site-packages/magenta/contrib/rnn.py:750: UserWarning: `layer.add_variable` is deprecated and will be removed in a future version. Please use the `layer.add_weight()` method instead.\n",
      "  self._kernel = self.add_variable(\n",
      "/data/heerak/music_vae/venv/lib/python3.8/site-packages/magenta/contrib/rnn.py:752: UserWarning: `layer.add_variable` is deprecated and will be removed in a future version. Please use the `layer.add_weight()` method instead.\n",
      "  self._bias = self.add_variable(\n"
     ]
    },
    {
     "name": "stdout",
     "output_type": "stream",
     "text": [
      "WARNING:tensorflow:From /data/heerak/music_vae/venv/lib/python3.8/site-packages/tensorflow_probability/python/bijectors/affine_linear_operator.py:116: LinearOperator.graph_parents (from tensorflow.python.ops.linalg.linear_operator) is deprecated and will be removed in a future version.\n",
      "Instructions for updating:\n",
      "Do not call `graph_parents`.\n"
     ]
    },
    {
     "name": "stderr",
     "output_type": "stream",
     "text": [
      "/data/heerak/music_vae/venv/lib/python3.8/site-packages/magenta/models/music_vae/base_model.py:195: UserWarning: `tf.layers.dense` is deprecated and will be removed in a future version. Please use `tf.keras.layers.Dense` instead.\n",
      "  mu = tf.layers.dense(\n",
      "/data/heerak/music_vae/venv/lib/python3.8/site-packages/magenta/models/music_vae/base_model.py:200: UserWarning: `tf.layers.dense` is deprecated and will be removed in a future version. Please use `tf.keras.layers.Dense` instead.\n",
      "  sigma = tf.layers.dense(\n",
      "WARNING:tensorflow:From /data/heerak/music_vae/venv/lib/python3.8/site-packages/tensorflow_probability/python/bijectors/affine_linear_operator.py:116: LinearOperator.graph_parents (from tensorflow.python.ops.linalg.linear_operator) is deprecated and will be removed in a future version.\n",
      "Instructions for updating:\n",
      "Do not call `graph_parents`.\n",
      "/data/heerak/music_vae/venv/lib/python3.8/site-packages/magenta/models/music_vae/lstm_utils.py:94: UserWarning: `tf.layers.dense` is deprecated and will be removed in a future version. Please use `tf.keras.layers.Dense` instead.\n",
      "  tf.layers.dense(\n"
     ]
    },
    {
     "name": "stdout",
     "output_type": "stream",
     "text": [
      "INFO:tensorflow:Create CheckpointSaverHook.\n"
     ]
    },
    {
     "name": "stderr",
     "output_type": "stream",
     "text": [
      "INFO:tensorflow:Create CheckpointSaverHook.\n"
     ]
    },
    {
     "name": "stdout",
     "output_type": "stream",
     "text": [
      "WARNING:tensorflow:From /data/heerak/music_vae/venv/lib/python3.8/site-packages/tensorflow/python/training/training_util.py:396: Variable.initialized_value (from tensorflow.python.ops.variables) is deprecated and will be removed in a future version.\n",
      "Instructions for updating:\n",
      "Use Variable.read_value. Variables in 2.X are initialized automatically both in eager and graph (inside tf.defun) contexts.\n"
     ]
    },
    {
     "name": "stderr",
     "output_type": "stream",
     "text": [
      "WARNING:tensorflow:From /data/heerak/music_vae/venv/lib/python3.8/site-packages/tensorflow/python/training/training_util.py:396: Variable.initialized_value (from tensorflow.python.ops.variables) is deprecated and will be removed in a future version.\n",
      "Instructions for updating:\n",
      "Use Variable.read_value. Variables in 2.X are initialized automatically both in eager and graph (inside tf.defun) contexts.\n"
     ]
    },
    {
     "name": "stdout",
     "output_type": "stream",
     "text": [
      "INFO:tensorflow:Graph was finalized.\n"
     ]
    },
    {
     "name": "stderr",
     "output_type": "stream",
     "text": [
      "INFO:tensorflow:Graph was finalized.\n"
     ]
    },
    {
     "name": "stdout",
     "output_type": "stream",
     "text": [
      "INFO:tensorflow:Running local_init_op.\n"
     ]
    },
    {
     "name": "stderr",
     "output_type": "stream",
     "text": [
      "INFO:tensorflow:Running local_init_op.\n"
     ]
    },
    {
     "name": "stdout",
     "output_type": "stream",
     "text": [
      "INFO:tensorflow:Done running local_init_op.\n"
     ]
    },
    {
     "name": "stderr",
     "output_type": "stream",
     "text": [
      "INFO:tensorflow:Done running local_init_op.\n"
     ]
    },
    {
     "name": "stdout",
     "output_type": "stream",
     "text": [
      "INFO:tensorflow:Calling checkpoint listeners before saving checkpoint 0...\n"
     ]
    },
    {
     "name": "stderr",
     "output_type": "stream",
     "text": [
      "INFO:tensorflow:Calling checkpoint listeners before saving checkpoint 0...\n"
     ]
    },
    {
     "name": "stdout",
     "output_type": "stream",
     "text": [
      "INFO:tensorflow:Saving checkpoints for 0 into /data/heerak/music_vae/train/model.ckpt.\n"
     ]
    },
    {
     "name": "stderr",
     "output_type": "stream",
     "text": [
      "INFO:tensorflow:Saving checkpoints for 0 into /data/heerak/music_vae/train/model.ckpt.\n"
     ]
    },
    {
     "name": "stdout",
     "output_type": "stream",
     "text": [
      "INFO:tensorflow:Calling checkpoint listeners after saving checkpoint 0...\n"
     ]
    },
    {
     "name": "stderr",
     "output_type": "stream",
     "text": [
      "INFO:tensorflow:Calling checkpoint listeners after saving checkpoint 0...\n"
     ]
    },
    {
     "name": "stdout",
     "output_type": "stream",
     "text": [
      "INFO:tensorflow:global_step = 0, loss = 565.6761\n"
     ]
    },
    {
     "name": "stderr",
     "output_type": "stream",
     "text": [
      "INFO:tensorflow:global_step = 0, loss = 565.6761\n"
     ]
    },
    {
     "name": "stdout",
     "output_type": "stream",
     "text": [
      "INFO:tensorflow:Calling checkpoint listeners before saving checkpoint 48...\n"
     ]
    },
    {
     "name": "stderr",
     "output_type": "stream",
     "text": [
      "INFO:tensorflow:Calling checkpoint listeners before saving checkpoint 48...\n"
     ]
    },
    {
     "name": "stdout",
     "output_type": "stream",
     "text": [
      "INFO:tensorflow:Saving checkpoints for 48 into /data/heerak/music_vae/train/model.ckpt.\n"
     ]
    },
    {
     "name": "stderr",
     "output_type": "stream",
     "text": [
      "INFO:tensorflow:Saving checkpoints for 48 into /data/heerak/music_vae/train/model.ckpt.\n"
     ]
    },
    {
     "name": "stdout",
     "output_type": "stream",
     "text": [
      "INFO:tensorflow:Calling checkpoint listeners after saving checkpoint 48...\n"
     ]
    },
    {
     "name": "stderr",
     "output_type": "stream",
     "text": [
      "INFO:tensorflow:Calling checkpoint listeners after saving checkpoint 48...\n"
     ]
    },
    {
     "name": "stdout",
     "output_type": "stream",
     "text": [
      "INFO:tensorflow:global_step/sec: 0.901857\n"
     ]
    },
    {
     "name": "stderr",
     "output_type": "stream",
     "text": [
      "INFO:tensorflow:global_step/sec: 0.901857\n"
     ]
    },
    {
     "name": "stdout",
     "output_type": "stream",
     "text": [
      "INFO:tensorflow:global_step = 100, loss = 218.9295 (110.883 sec)\n"
     ]
    },
    {
     "name": "stderr",
     "output_type": "stream",
     "text": [
      "INFO:tensorflow:global_step = 100, loss = 218.9295 (110.883 sec)\n"
     ]
    },
    {
     "name": "stdout",
     "output_type": "stream",
     "text": [
      "INFO:tensorflow:Calling checkpoint listeners before saving checkpoint 103...\n"
     ]
    },
    {
     "name": "stderr",
     "output_type": "stream",
     "text": [
      "INFO:tensorflow:Calling checkpoint listeners before saving checkpoint 103...\n"
     ]
    },
    {
     "name": "stdout",
     "output_type": "stream",
     "text": [
      "INFO:tensorflow:Saving checkpoints for 103 into /data/heerak/music_vae/train/model.ckpt.\n"
     ]
    },
    {
     "name": "stderr",
     "output_type": "stream",
     "text": [
      "INFO:tensorflow:Saving checkpoints for 103 into /data/heerak/music_vae/train/model.ckpt.\n"
     ]
    },
    {
     "name": "stdout",
     "output_type": "stream",
     "text": [
      "INFO:tensorflow:Calling checkpoint listeners after saving checkpoint 103...\n"
     ]
    },
    {
     "name": "stderr",
     "output_type": "stream",
     "text": [
      "INFO:tensorflow:Calling checkpoint listeners after saving checkpoint 103...\n"
     ]
    },
    {
     "name": "stdout",
     "output_type": "stream",
     "text": [
      "INFO:tensorflow:Calling checkpoint listeners before saving checkpoint 158...\n"
     ]
    },
    {
     "name": "stderr",
     "output_type": "stream",
     "text": [
      "INFO:tensorflow:Calling checkpoint listeners before saving checkpoint 158...\n"
     ]
    },
    {
     "name": "stdout",
     "output_type": "stream",
     "text": [
      "INFO:tensorflow:Saving checkpoints for 158 into /data/heerak/music_vae/train/model.ckpt.\n"
     ]
    },
    {
     "name": "stderr",
     "output_type": "stream",
     "text": [
      "INFO:tensorflow:Saving checkpoints for 158 into /data/heerak/music_vae/train/model.ckpt.\n"
     ]
    },
    {
     "name": "stdout",
     "output_type": "stream",
     "text": [
      "INFO:tensorflow:Calling checkpoint listeners after saving checkpoint 158...\n"
     ]
    },
    {
     "name": "stderr",
     "output_type": "stream",
     "text": [
      "INFO:tensorflow:Calling checkpoint listeners after saving checkpoint 158...\n"
     ]
    },
    {
     "name": "stdout",
     "output_type": "stream",
     "text": [
      "INFO:tensorflow:global_step/sec: 0.909914\n"
     ]
    },
    {
     "name": "stderr",
     "output_type": "stream",
     "text": [
      "INFO:tensorflow:global_step/sec: 0.909914\n"
     ]
    },
    {
     "name": "stdout",
     "output_type": "stream",
     "text": [
      "INFO:tensorflow:global_step = 200, loss = 206.14684 (109.900 sec)\n"
     ]
    },
    {
     "name": "stderr",
     "output_type": "stream",
     "text": [
      "INFO:tensorflow:global_step = 200, loss = 206.14684 (109.900 sec)\n"
     ]
    },
    {
     "name": "stdout",
     "output_type": "stream",
     "text": [
      "INFO:tensorflow:Calling checkpoint listeners before saving checkpoint 213...\n"
     ]
    },
    {
     "name": "stderr",
     "output_type": "stream",
     "text": [
      "INFO:tensorflow:Calling checkpoint listeners before saving checkpoint 213...\n"
     ]
    },
    {
     "name": "stdout",
     "output_type": "stream",
     "text": [
      "INFO:tensorflow:Saving checkpoints for 213 into /data/heerak/music_vae/train/model.ckpt.\n"
     ]
    },
    {
     "name": "stderr",
     "output_type": "stream",
     "text": [
      "INFO:tensorflow:Saving checkpoints for 213 into /data/heerak/music_vae/train/model.ckpt.\n"
     ]
    },
    {
     "name": "stdout",
     "output_type": "stream",
     "text": [
      "INFO:tensorflow:Calling checkpoint listeners after saving checkpoint 213...\n"
     ]
    },
    {
     "name": "stderr",
     "output_type": "stream",
     "text": [
      "INFO:tensorflow:Calling checkpoint listeners after saving checkpoint 213...\n"
     ]
    },
    {
     "name": "stdout",
     "output_type": "stream",
     "text": [
      "INFO:tensorflow:Calling checkpoint listeners before saving checkpoint 268...\n"
     ]
    },
    {
     "name": "stderr",
     "output_type": "stream",
     "text": [
      "INFO:tensorflow:Calling checkpoint listeners before saving checkpoint 268...\n"
     ]
    },
    {
     "name": "stdout",
     "output_type": "stream",
     "text": [
      "INFO:tensorflow:Saving checkpoints for 268 into /data/heerak/music_vae/train/model.ckpt.\n"
     ]
    },
    {
     "name": "stderr",
     "output_type": "stream",
     "text": [
      "INFO:tensorflow:Saving checkpoints for 268 into /data/heerak/music_vae/train/model.ckpt.\n"
     ]
    },
    {
     "name": "stdout",
     "output_type": "stream",
     "text": [
      "WARNING:tensorflow:From /data/heerak/music_vae/venv/lib/python3.8/site-packages/tensorflow/python/training/saver.py:1064: remove_checkpoint (from tensorflow.python.checkpoint.checkpoint_management) is deprecated and will be removed in a future version.\n",
      "Instructions for updating:\n",
      "Use standard file APIs to delete files with this prefix.\n"
     ]
    },
    {
     "name": "stderr",
     "output_type": "stream",
     "text": [
      "WARNING:tensorflow:From /data/heerak/music_vae/venv/lib/python3.8/site-packages/tensorflow/python/training/saver.py:1064: remove_checkpoint (from tensorflow.python.checkpoint.checkpoint_management) is deprecated and will be removed in a future version.\n",
      "Instructions for updating:\n",
      "Use standard file APIs to delete files with this prefix.\n"
     ]
    },
    {
     "name": "stdout",
     "output_type": "stream",
     "text": [
      "INFO:tensorflow:Calling checkpoint listeners after saving checkpoint 268...\n"
     ]
    },
    {
     "name": "stderr",
     "output_type": "stream",
     "text": [
      "INFO:tensorflow:Calling checkpoint listeners after saving checkpoint 268...\n"
     ]
    },
    {
     "name": "stdout",
     "output_type": "stream",
     "text": [
      "INFO:tensorflow:global_step/sec: 0.907208\n"
     ]
    },
    {
     "name": "stderr",
     "output_type": "stream",
     "text": [
      "INFO:tensorflow:global_step/sec: 0.907208\n"
     ]
    },
    {
     "name": "stdout",
     "output_type": "stream",
     "text": [
      "INFO:tensorflow:global_step = 300, loss = 185.00919 (110.228 sec)\n"
     ]
    },
    {
     "name": "stderr",
     "output_type": "stream",
     "text": [
      "INFO:tensorflow:global_step = 300, loss = 185.00919 (110.228 sec)\n"
     ]
    },
    {
     "name": "stdout",
     "output_type": "stream",
     "text": [
      "INFO:tensorflow:Calling checkpoint listeners before saving checkpoint 323...\n"
     ]
    },
    {
     "name": "stderr",
     "output_type": "stream",
     "text": [
      "INFO:tensorflow:Calling checkpoint listeners before saving checkpoint 323...\n"
     ]
    },
    {
     "name": "stdout",
     "output_type": "stream",
     "text": [
      "INFO:tensorflow:Saving checkpoints for 323 into /data/heerak/music_vae/train/model.ckpt.\n"
     ]
    },
    {
     "name": "stderr",
     "output_type": "stream",
     "text": [
      "INFO:tensorflow:Saving checkpoints for 323 into /data/heerak/music_vae/train/model.ckpt.\n"
     ]
    },
    {
     "name": "stdout",
     "output_type": "stream",
     "text": [
      "INFO:tensorflow:Calling checkpoint listeners after saving checkpoint 323...\n"
     ]
    },
    {
     "name": "stderr",
     "output_type": "stream",
     "text": [
      "INFO:tensorflow:Calling checkpoint listeners after saving checkpoint 323...\n"
     ]
    },
    {
     "name": "stdout",
     "output_type": "stream",
     "text": [
      "INFO:tensorflow:Calling checkpoint listeners before saving checkpoint 378...\n"
     ]
    },
    {
     "name": "stderr",
     "output_type": "stream",
     "text": [
      "INFO:tensorflow:Calling checkpoint listeners before saving checkpoint 378...\n"
     ]
    },
    {
     "name": "stdout",
     "output_type": "stream",
     "text": [
      "INFO:tensorflow:Saving checkpoints for 378 into /data/heerak/music_vae/train/model.ckpt.\n"
     ]
    },
    {
     "name": "stderr",
     "output_type": "stream",
     "text": [
      "INFO:tensorflow:Saving checkpoints for 378 into /data/heerak/music_vae/train/model.ckpt.\n"
     ]
    },
    {
     "name": "stdout",
     "output_type": "stream",
     "text": [
      "INFO:tensorflow:Calling checkpoint listeners after saving checkpoint 378...\n"
     ]
    },
    {
     "name": "stderr",
     "output_type": "stream",
     "text": [
      "INFO:tensorflow:Calling checkpoint listeners after saving checkpoint 378...\n"
     ]
    },
    {
     "name": "stdout",
     "output_type": "stream",
     "text": [
      "INFO:tensorflow:global_step/sec: 0.906818\n"
     ]
    },
    {
     "name": "stderr",
     "output_type": "stream",
     "text": [
      "INFO:tensorflow:global_step/sec: 0.906818\n"
     ]
    },
    {
     "name": "stdout",
     "output_type": "stream",
     "text": [
      "INFO:tensorflow:global_step = 400, loss = 189.26741 (110.277 sec)\n"
     ]
    },
    {
     "name": "stderr",
     "output_type": "stream",
     "text": [
      "INFO:tensorflow:global_step = 400, loss = 189.26741 (110.277 sec)\n"
     ]
    },
    {
     "name": "stdout",
     "output_type": "stream",
     "text": [
      "INFO:tensorflow:Calling checkpoint listeners before saving checkpoint 433...\n"
     ]
    },
    {
     "name": "stderr",
     "output_type": "stream",
     "text": [
      "INFO:tensorflow:Calling checkpoint listeners before saving checkpoint 433...\n"
     ]
    },
    {
     "name": "stdout",
     "output_type": "stream",
     "text": [
      "INFO:tensorflow:Saving checkpoints for 433 into /data/heerak/music_vae/train/model.ckpt.\n"
     ]
    },
    {
     "name": "stderr",
     "output_type": "stream",
     "text": [
      "INFO:tensorflow:Saving checkpoints for 433 into /data/heerak/music_vae/train/model.ckpt.\n"
     ]
    },
    {
     "name": "stdout",
     "output_type": "stream",
     "text": [
      "INFO:tensorflow:Calling checkpoint listeners after saving checkpoint 433...\n"
     ]
    },
    {
     "name": "stderr",
     "output_type": "stream",
     "text": [
      "INFO:tensorflow:Calling checkpoint listeners after saving checkpoint 433...\n"
     ]
    },
    {
     "name": "stdout",
     "output_type": "stream",
     "text": [
      "INFO:tensorflow:Calling checkpoint listeners before saving checkpoint 488...\n"
     ]
    },
    {
     "name": "stderr",
     "output_type": "stream",
     "text": [
      "INFO:tensorflow:Calling checkpoint listeners before saving checkpoint 488...\n"
     ]
    },
    {
     "name": "stdout",
     "output_type": "stream",
     "text": [
      "INFO:tensorflow:Saving checkpoints for 488 into /data/heerak/music_vae/train/model.ckpt.\n"
     ]
    },
    {
     "name": "stderr",
     "output_type": "stream",
     "text": [
      "INFO:tensorflow:Saving checkpoints for 488 into /data/heerak/music_vae/train/model.ckpt.\n"
     ]
    },
    {
     "name": "stdout",
     "output_type": "stream",
     "text": [
      "INFO:tensorflow:Calling checkpoint listeners after saving checkpoint 488...\n"
     ]
    },
    {
     "name": "stderr",
     "output_type": "stream",
     "text": [
      "INFO:tensorflow:Calling checkpoint listeners after saving checkpoint 488...\n"
     ]
    },
    {
     "name": "stdout",
     "output_type": "stream",
     "text": [
      "INFO:tensorflow:global_step/sec: 0.905182\n"
     ]
    },
    {
     "name": "stderr",
     "output_type": "stream",
     "text": [
      "INFO:tensorflow:global_step/sec: 0.905182\n"
     ]
    },
    {
     "name": "stdout",
     "output_type": "stream",
     "text": [
      "INFO:tensorflow:global_step = 500, loss = 179.71999 (110.474 sec)\n"
     ]
    },
    {
     "name": "stderr",
     "output_type": "stream",
     "text": [
      "INFO:tensorflow:global_step = 500, loss = 179.71999 (110.474 sec)\n"
     ]
    },
    {
     "name": "stdout",
     "output_type": "stream",
     "text": [
      "INFO:tensorflow:Calling checkpoint listeners before saving checkpoint 543...\n"
     ]
    },
    {
     "name": "stderr",
     "output_type": "stream",
     "text": [
      "INFO:tensorflow:Calling checkpoint listeners before saving checkpoint 543...\n"
     ]
    },
    {
     "name": "stdout",
     "output_type": "stream",
     "text": [
      "INFO:tensorflow:Saving checkpoints for 543 into /data/heerak/music_vae/train/model.ckpt.\n"
     ]
    },
    {
     "name": "stderr",
     "output_type": "stream",
     "text": [
      "INFO:tensorflow:Saving checkpoints for 543 into /data/heerak/music_vae/train/model.ckpt.\n"
     ]
    },
    {
     "name": "stdout",
     "output_type": "stream",
     "text": [
      "INFO:tensorflow:Calling checkpoint listeners after saving checkpoint 543...\n"
     ]
    },
    {
     "name": "stderr",
     "output_type": "stream",
     "text": [
      "INFO:tensorflow:Calling checkpoint listeners after saving checkpoint 543...\n"
     ]
    },
    {
     "name": "stdout",
     "output_type": "stream",
     "text": [
      "INFO:tensorflow:Calling checkpoint listeners before saving checkpoint 598...\n"
     ]
    },
    {
     "name": "stderr",
     "output_type": "stream",
     "text": [
      "INFO:tensorflow:Calling checkpoint listeners before saving checkpoint 598...\n"
     ]
    },
    {
     "name": "stdout",
     "output_type": "stream",
     "text": [
      "INFO:tensorflow:Saving checkpoints for 598 into /data/heerak/music_vae/train/model.ckpt.\n"
     ]
    },
    {
     "name": "stderr",
     "output_type": "stream",
     "text": [
      "INFO:tensorflow:Saving checkpoints for 598 into /data/heerak/music_vae/train/model.ckpt.\n"
     ]
    },
    {
     "name": "stdout",
     "output_type": "stream",
     "text": [
      "INFO:tensorflow:Calling checkpoint listeners after saving checkpoint 598...\n"
     ]
    },
    {
     "name": "stderr",
     "output_type": "stream",
     "text": [
      "INFO:tensorflow:Calling checkpoint listeners after saving checkpoint 598...\n"
     ]
    },
    {
     "name": "stdout",
     "output_type": "stream",
     "text": [
      "INFO:tensorflow:global_step/sec: 0.906333\n"
     ]
    },
    {
     "name": "stderr",
     "output_type": "stream",
     "text": [
      "INFO:tensorflow:global_step/sec: 0.906333\n"
     ]
    },
    {
     "name": "stdout",
     "output_type": "stream",
     "text": [
      "INFO:tensorflow:global_step = 600, loss = 172.1234 (110.336 sec)\n"
     ]
    },
    {
     "name": "stderr",
     "output_type": "stream",
     "text": [
      "INFO:tensorflow:global_step = 600, loss = 172.1234 (110.336 sec)\n"
     ]
    },
    {
     "name": "stdout",
     "output_type": "stream",
     "text": [
      "INFO:tensorflow:Calling checkpoint listeners before saving checkpoint 653...\n"
     ]
    },
    {
     "name": "stderr",
     "output_type": "stream",
     "text": [
      "INFO:tensorflow:Calling checkpoint listeners before saving checkpoint 653...\n"
     ]
    },
    {
     "name": "stdout",
     "output_type": "stream",
     "text": [
      "INFO:tensorflow:Saving checkpoints for 653 into /data/heerak/music_vae/train/model.ckpt.\n"
     ]
    },
    {
     "name": "stderr",
     "output_type": "stream",
     "text": [
      "INFO:tensorflow:Saving checkpoints for 653 into /data/heerak/music_vae/train/model.ckpt.\n"
     ]
    },
    {
     "name": "stdout",
     "output_type": "stream",
     "text": [
      "INFO:tensorflow:Calling checkpoint listeners after saving checkpoint 653...\n"
     ]
    },
    {
     "name": "stderr",
     "output_type": "stream",
     "text": [
      "INFO:tensorflow:Calling checkpoint listeners after saving checkpoint 653...\n"
     ]
    },
    {
     "name": "stdout",
     "output_type": "stream",
     "text": [
      "INFO:tensorflow:global_step/sec: 0.918184\n"
     ]
    },
    {
     "name": "stderr",
     "output_type": "stream",
     "text": [
      "INFO:tensorflow:global_step/sec: 0.918184\n"
     ]
    },
    {
     "name": "stdout",
     "output_type": "stream",
     "text": [
      "INFO:tensorflow:global_step = 700, loss = 168.58115 (108.909 sec)\n"
     ]
    },
    {
     "name": "stderr",
     "output_type": "stream",
     "text": [
      "INFO:tensorflow:global_step = 700, loss = 168.58115 (108.909 sec)\n"
     ]
    },
    {
     "name": "stdout",
     "output_type": "stream",
     "text": [
      "INFO:tensorflow:Calling checkpoint listeners before saving checkpoint 708...\n"
     ]
    },
    {
     "name": "stderr",
     "output_type": "stream",
     "text": [
      "INFO:tensorflow:Calling checkpoint listeners before saving checkpoint 708...\n"
     ]
    },
    {
     "name": "stdout",
     "output_type": "stream",
     "text": [
      "INFO:tensorflow:Saving checkpoints for 708 into /data/heerak/music_vae/train/model.ckpt.\n"
     ]
    },
    {
     "name": "stderr",
     "output_type": "stream",
     "text": [
      "INFO:tensorflow:Saving checkpoints for 708 into /data/heerak/music_vae/train/model.ckpt.\n"
     ]
    },
    {
     "name": "stdout",
     "output_type": "stream",
     "text": [
      "INFO:tensorflow:Calling checkpoint listeners after saving checkpoint 708...\n"
     ]
    },
    {
     "name": "stderr",
     "output_type": "stream",
     "text": [
      "INFO:tensorflow:Calling checkpoint listeners after saving checkpoint 708...\n"
     ]
    },
    {
     "name": "stdout",
     "output_type": "stream",
     "text": [
      "INFO:tensorflow:Calling checkpoint listeners before saving checkpoint 763...\n"
     ]
    },
    {
     "name": "stderr",
     "output_type": "stream",
     "text": [
      "INFO:tensorflow:Calling checkpoint listeners before saving checkpoint 763...\n"
     ]
    },
    {
     "name": "stdout",
     "output_type": "stream",
     "text": [
      "INFO:tensorflow:Saving checkpoints for 763 into /data/heerak/music_vae/train/model.ckpt.\n"
     ]
    },
    {
     "name": "stderr",
     "output_type": "stream",
     "text": [
      "INFO:tensorflow:Saving checkpoints for 763 into /data/heerak/music_vae/train/model.ckpt.\n"
     ]
    },
    {
     "name": "stdout",
     "output_type": "stream",
     "text": [
      "INFO:tensorflow:Calling checkpoint listeners after saving checkpoint 763...\n"
     ]
    },
    {
     "name": "stderr",
     "output_type": "stream",
     "text": [
      "INFO:tensorflow:Calling checkpoint listeners after saving checkpoint 763...\n"
     ]
    },
    {
     "name": "stdout",
     "output_type": "stream",
     "text": [
      "INFO:tensorflow:global_step/sec: 0.906093\n"
     ]
    },
    {
     "name": "stderr",
     "output_type": "stream",
     "text": [
      "INFO:tensorflow:global_step/sec: 0.906093\n"
     ]
    },
    {
     "name": "stdout",
     "output_type": "stream",
     "text": [
      "INFO:tensorflow:global_step = 800, loss = 159.7567 (110.364 sec)\n"
     ]
    },
    {
     "name": "stderr",
     "output_type": "stream",
     "text": [
      "INFO:tensorflow:global_step = 800, loss = 159.7567 (110.364 sec)\n"
     ]
    },
    {
     "name": "stdout",
     "output_type": "stream",
     "text": [
      "INFO:tensorflow:Calling checkpoint listeners before saving checkpoint 818...\n"
     ]
    },
    {
     "name": "stderr",
     "output_type": "stream",
     "text": [
      "INFO:tensorflow:Calling checkpoint listeners before saving checkpoint 818...\n"
     ]
    },
    {
     "name": "stdout",
     "output_type": "stream",
     "text": [
      "INFO:tensorflow:Saving checkpoints for 818 into /data/heerak/music_vae/train/model.ckpt.\n"
     ]
    },
    {
     "name": "stderr",
     "output_type": "stream",
     "text": [
      "INFO:tensorflow:Saving checkpoints for 818 into /data/heerak/music_vae/train/model.ckpt.\n"
     ]
    },
    {
     "name": "stdout",
     "output_type": "stream",
     "text": [
      "INFO:tensorflow:Calling checkpoint listeners after saving checkpoint 818...\n"
     ]
    },
    {
     "name": "stderr",
     "output_type": "stream",
     "text": [
      "INFO:tensorflow:Calling checkpoint listeners after saving checkpoint 818...\n"
     ]
    },
    {
     "name": "stdout",
     "output_type": "stream",
     "text": [
      "INFO:tensorflow:Calling checkpoint listeners before saving checkpoint 873...\n"
     ]
    },
    {
     "name": "stderr",
     "output_type": "stream",
     "text": [
      "INFO:tensorflow:Calling checkpoint listeners before saving checkpoint 873...\n"
     ]
    },
    {
     "name": "stdout",
     "output_type": "stream",
     "text": [
      "INFO:tensorflow:Saving checkpoints for 873 into /data/heerak/music_vae/train/model.ckpt.\n"
     ]
    },
    {
     "name": "stderr",
     "output_type": "stream",
     "text": [
      "INFO:tensorflow:Saving checkpoints for 873 into /data/heerak/music_vae/train/model.ckpt.\n"
     ]
    },
    {
     "name": "stdout",
     "output_type": "stream",
     "text": [
      "INFO:tensorflow:Calling checkpoint listeners after saving checkpoint 873...\n"
     ]
    },
    {
     "name": "stderr",
     "output_type": "stream",
     "text": [
      "INFO:tensorflow:Calling checkpoint listeners after saving checkpoint 873...\n"
     ]
    },
    {
     "name": "stdout",
     "output_type": "stream",
     "text": [
      "INFO:tensorflow:global_step/sec: 0.907968\n"
     ]
    },
    {
     "name": "stderr",
     "output_type": "stream",
     "text": [
      "INFO:tensorflow:global_step/sec: 0.907968\n"
     ]
    },
    {
     "name": "stdout",
     "output_type": "stream",
     "text": [
      "INFO:tensorflow:global_step = 900, loss = 159.02666 (110.136 sec)\n"
     ]
    },
    {
     "name": "stderr",
     "output_type": "stream",
     "text": [
      "INFO:tensorflow:global_step = 900, loss = 159.02666 (110.136 sec)\n"
     ]
    },
    {
     "name": "stdout",
     "output_type": "stream",
     "text": [
      "INFO:tensorflow:Calling checkpoint listeners before saving checkpoint 928...\n"
     ]
    },
    {
     "name": "stderr",
     "output_type": "stream",
     "text": [
      "INFO:tensorflow:Calling checkpoint listeners before saving checkpoint 928...\n"
     ]
    },
    {
     "name": "stdout",
     "output_type": "stream",
     "text": [
      "INFO:tensorflow:Saving checkpoints for 928 into /data/heerak/music_vae/train/model.ckpt.\n"
     ]
    },
    {
     "name": "stderr",
     "output_type": "stream",
     "text": [
      "INFO:tensorflow:Saving checkpoints for 928 into /data/heerak/music_vae/train/model.ckpt.\n"
     ]
    },
    {
     "name": "stdout",
     "output_type": "stream",
     "text": [
      "INFO:tensorflow:Calling checkpoint listeners after saving checkpoint 928...\n"
     ]
    },
    {
     "name": "stderr",
     "output_type": "stream",
     "text": [
      "INFO:tensorflow:Calling checkpoint listeners after saving checkpoint 928...\n"
     ]
    },
    {
     "name": "stdout",
     "output_type": "stream",
     "text": [
      "INFO:tensorflow:Calling checkpoint listeners before saving checkpoint 983...\n"
     ]
    },
    {
     "name": "stderr",
     "output_type": "stream",
     "text": [
      "INFO:tensorflow:Calling checkpoint listeners before saving checkpoint 983...\n"
     ]
    },
    {
     "name": "stdout",
     "output_type": "stream",
     "text": [
      "INFO:tensorflow:Saving checkpoints for 983 into /data/heerak/music_vae/train/model.ckpt.\n"
     ]
    },
    {
     "name": "stderr",
     "output_type": "stream",
     "text": [
      "INFO:tensorflow:Saving checkpoints for 983 into /data/heerak/music_vae/train/model.ckpt.\n"
     ]
    },
    {
     "name": "stdout",
     "output_type": "stream",
     "text": [
      "INFO:tensorflow:Calling checkpoint listeners after saving checkpoint 983...\n"
     ]
    },
    {
     "name": "stderr",
     "output_type": "stream",
     "text": [
      "INFO:tensorflow:Calling checkpoint listeners after saving checkpoint 983...\n"
     ]
    },
    {
     "name": "stdout",
     "output_type": "stream",
     "text": [
      "INFO:tensorflow:global_step/sec: 0.906778\n"
     ]
    },
    {
     "name": "stderr",
     "output_type": "stream",
     "text": [
      "INFO:tensorflow:global_step/sec: 0.906778\n"
     ]
    },
    {
     "name": "stdout",
     "output_type": "stream",
     "text": [
      "INFO:tensorflow:global_step = 1000, loss = 150.79715 (110.280 sec)\n"
     ]
    },
    {
     "name": "stderr",
     "output_type": "stream",
     "text": [
      "INFO:tensorflow:global_step = 1000, loss = 150.79715 (110.280 sec)\n"
     ]
    },
    {
     "name": "stdout",
     "output_type": "stream",
     "text": [
      "INFO:tensorflow:Calling checkpoint listeners before saving checkpoint 1038...\n"
     ]
    },
    {
     "name": "stderr",
     "output_type": "stream",
     "text": [
      "INFO:tensorflow:Calling checkpoint listeners before saving checkpoint 1038...\n"
     ]
    },
    {
     "name": "stdout",
     "output_type": "stream",
     "text": [
      "INFO:tensorflow:Saving checkpoints for 1038 into /data/heerak/music_vae/train/model.ckpt.\n"
     ]
    },
    {
     "name": "stderr",
     "output_type": "stream",
     "text": [
      "INFO:tensorflow:Saving checkpoints for 1038 into /data/heerak/music_vae/train/model.ckpt.\n"
     ]
    },
    {
     "name": "stdout",
     "output_type": "stream",
     "text": [
      "INFO:tensorflow:Calling checkpoint listeners after saving checkpoint 1038...\n"
     ]
    },
    {
     "name": "stderr",
     "output_type": "stream",
     "text": [
      "INFO:tensorflow:Calling checkpoint listeners after saving checkpoint 1038...\n"
     ]
    },
    {
     "name": "stdout",
     "output_type": "stream",
     "text": [
      "INFO:tensorflow:Calling checkpoint listeners before saving checkpoint 1093...\n"
     ]
    },
    {
     "name": "stderr",
     "output_type": "stream",
     "text": [
      "INFO:tensorflow:Calling checkpoint listeners before saving checkpoint 1093...\n"
     ]
    },
    {
     "name": "stdout",
     "output_type": "stream",
     "text": [
      "INFO:tensorflow:Saving checkpoints for 1093 into /data/heerak/music_vae/train/model.ckpt.\n"
     ]
    },
    {
     "name": "stderr",
     "output_type": "stream",
     "text": [
      "INFO:tensorflow:Saving checkpoints for 1093 into /data/heerak/music_vae/train/model.ckpt.\n"
     ]
    },
    {
     "name": "stdout",
     "output_type": "stream",
     "text": [
      "INFO:tensorflow:Calling checkpoint listeners after saving checkpoint 1093...\n"
     ]
    },
    {
     "name": "stderr",
     "output_type": "stream",
     "text": [
      "INFO:tensorflow:Calling checkpoint listeners after saving checkpoint 1093...\n"
     ]
    },
    {
     "name": "stdout",
     "output_type": "stream",
     "text": [
      "INFO:tensorflow:global_step/sec: 0.907367\n"
     ]
    },
    {
     "name": "stderr",
     "output_type": "stream",
     "text": [
      "INFO:tensorflow:global_step/sec: 0.907367\n"
     ]
    },
    {
     "name": "stdout",
     "output_type": "stream",
     "text": [
      "INFO:tensorflow:global_step = 1100, loss = 149.5625 (110.209 sec)\n"
     ]
    },
    {
     "name": "stderr",
     "output_type": "stream",
     "text": [
      "INFO:tensorflow:global_step = 1100, loss = 149.5625 (110.209 sec)\n"
     ]
    },
    {
     "name": "stdout",
     "output_type": "stream",
     "text": [
      "INFO:tensorflow:Calling checkpoint listeners before saving checkpoint 1148...\n"
     ]
    },
    {
     "name": "stderr",
     "output_type": "stream",
     "text": [
      "INFO:tensorflow:Calling checkpoint listeners before saving checkpoint 1148...\n"
     ]
    },
    {
     "name": "stdout",
     "output_type": "stream",
     "text": [
      "INFO:tensorflow:Saving checkpoints for 1148 into /data/heerak/music_vae/train/model.ckpt.\n"
     ]
    },
    {
     "name": "stderr",
     "output_type": "stream",
     "text": [
      "INFO:tensorflow:Saving checkpoints for 1148 into /data/heerak/music_vae/train/model.ckpt.\n"
     ]
    },
    {
     "name": "stdout",
     "output_type": "stream",
     "text": [
      "INFO:tensorflow:Calling checkpoint listeners after saving checkpoint 1148...\n"
     ]
    },
    {
     "name": "stderr",
     "output_type": "stream",
     "text": [
      "INFO:tensorflow:Calling checkpoint listeners after saving checkpoint 1148...\n"
     ]
    },
    {
     "name": "stdout",
     "output_type": "stream",
     "text": [
      "INFO:tensorflow:global_step/sec: 0.917797\n"
     ]
    },
    {
     "name": "stderr",
     "output_type": "stream",
     "text": [
      "INFO:tensorflow:global_step/sec: 0.917797\n"
     ]
    },
    {
     "name": "stdout",
     "output_type": "stream",
     "text": [
      "INFO:tensorflow:global_step = 1200, loss = 143.81001 (108.956 sec)\n"
     ]
    },
    {
     "name": "stderr",
     "output_type": "stream",
     "text": [
      "INFO:tensorflow:global_step = 1200, loss = 143.81001 (108.956 sec)\n"
     ]
    },
    {
     "name": "stdout",
     "output_type": "stream",
     "text": [
      "INFO:tensorflow:Calling checkpoint listeners before saving checkpoint 1203...\n"
     ]
    },
    {
     "name": "stderr",
     "output_type": "stream",
     "text": [
      "INFO:tensorflow:Calling checkpoint listeners before saving checkpoint 1203...\n"
     ]
    },
    {
     "name": "stdout",
     "output_type": "stream",
     "text": [
      "INFO:tensorflow:Saving checkpoints for 1203 into /data/heerak/music_vae/train/model.ckpt.\n"
     ]
    },
    {
     "name": "stderr",
     "output_type": "stream",
     "text": [
      "INFO:tensorflow:Saving checkpoints for 1203 into /data/heerak/music_vae/train/model.ckpt.\n"
     ]
    },
    {
     "name": "stdout",
     "output_type": "stream",
     "text": [
      "INFO:tensorflow:Calling checkpoint listeners after saving checkpoint 1203...\n"
     ]
    },
    {
     "name": "stderr",
     "output_type": "stream",
     "text": [
      "INFO:tensorflow:Calling checkpoint listeners after saving checkpoint 1203...\n"
     ]
    },
    {
     "name": "stdout",
     "output_type": "stream",
     "text": [
      "INFO:tensorflow:Calling checkpoint listeners before saving checkpoint 1258...\n"
     ]
    },
    {
     "name": "stderr",
     "output_type": "stream",
     "text": [
      "INFO:tensorflow:Calling checkpoint listeners before saving checkpoint 1258...\n"
     ]
    },
    {
     "name": "stdout",
     "output_type": "stream",
     "text": [
      "INFO:tensorflow:Saving checkpoints for 1258 into /data/heerak/music_vae/train/model.ckpt.\n"
     ]
    },
    {
     "name": "stderr",
     "output_type": "stream",
     "text": [
      "INFO:tensorflow:Saving checkpoints for 1258 into /data/heerak/music_vae/train/model.ckpt.\n"
     ]
    },
    {
     "name": "stdout",
     "output_type": "stream",
     "text": [
      "INFO:tensorflow:Calling checkpoint listeners after saving checkpoint 1258...\n"
     ]
    },
    {
     "name": "stderr",
     "output_type": "stream",
     "text": [
      "INFO:tensorflow:Calling checkpoint listeners after saving checkpoint 1258...\n"
     ]
    },
    {
     "name": "stdout",
     "output_type": "stream",
     "text": [
      "INFO:tensorflow:global_step/sec: 0.906198\n"
     ]
    },
    {
     "name": "stderr",
     "output_type": "stream",
     "text": [
      "INFO:tensorflow:global_step/sec: 0.906198\n"
     ]
    },
    {
     "name": "stdout",
     "output_type": "stream",
     "text": [
      "INFO:tensorflow:global_step = 1300, loss = 139.52722 (110.351 sec)\n"
     ]
    },
    {
     "name": "stderr",
     "output_type": "stream",
     "text": [
      "INFO:tensorflow:global_step = 1300, loss = 139.52722 (110.351 sec)\n"
     ]
    },
    {
     "name": "stdout",
     "output_type": "stream",
     "text": [
      "INFO:tensorflow:Calling checkpoint listeners before saving checkpoint 1313...\n"
     ]
    },
    {
     "name": "stderr",
     "output_type": "stream",
     "text": [
      "INFO:tensorflow:Calling checkpoint listeners before saving checkpoint 1313...\n"
     ]
    },
    {
     "name": "stdout",
     "output_type": "stream",
     "text": [
      "INFO:tensorflow:Saving checkpoints for 1313 into /data/heerak/music_vae/train/model.ckpt.\n"
     ]
    },
    {
     "name": "stderr",
     "output_type": "stream",
     "text": [
      "INFO:tensorflow:Saving checkpoints for 1313 into /data/heerak/music_vae/train/model.ckpt.\n"
     ]
    },
    {
     "name": "stdout",
     "output_type": "stream",
     "text": [
      "INFO:tensorflow:Calling checkpoint listeners after saving checkpoint 1313...\n"
     ]
    },
    {
     "name": "stderr",
     "output_type": "stream",
     "text": [
      "INFO:tensorflow:Calling checkpoint listeners after saving checkpoint 1313...\n"
     ]
    },
    {
     "name": "stdout",
     "output_type": "stream",
     "text": [
      "INFO:tensorflow:Calling checkpoint listeners before saving checkpoint 1368...\n"
     ]
    },
    {
     "name": "stderr",
     "output_type": "stream",
     "text": [
      "INFO:tensorflow:Calling checkpoint listeners before saving checkpoint 1368...\n"
     ]
    },
    {
     "name": "stdout",
     "output_type": "stream",
     "text": [
      "INFO:tensorflow:Saving checkpoints for 1368 into /data/heerak/music_vae/train/model.ckpt.\n"
     ]
    },
    {
     "name": "stderr",
     "output_type": "stream",
     "text": [
      "INFO:tensorflow:Saving checkpoints for 1368 into /data/heerak/music_vae/train/model.ckpt.\n"
     ]
    },
    {
     "name": "stdout",
     "output_type": "stream",
     "text": [
      "INFO:tensorflow:Calling checkpoint listeners after saving checkpoint 1368...\n"
     ]
    },
    {
     "name": "stderr",
     "output_type": "stream",
     "text": [
      "INFO:tensorflow:Calling checkpoint listeners after saving checkpoint 1368...\n"
     ]
    },
    {
     "name": "stdout",
     "output_type": "stream",
     "text": [
      "INFO:tensorflow:global_step/sec: 0.906787\n"
     ]
    },
    {
     "name": "stderr",
     "output_type": "stream",
     "text": [
      "INFO:tensorflow:global_step/sec: 0.906787\n"
     ]
    },
    {
     "name": "stdout",
     "output_type": "stream",
     "text": [
      "INFO:tensorflow:global_step = 1400, loss = 137.1305 (110.279 sec)\n"
     ]
    },
    {
     "name": "stderr",
     "output_type": "stream",
     "text": [
      "INFO:tensorflow:global_step = 1400, loss = 137.1305 (110.279 sec)\n"
     ]
    },
    {
     "name": "stdout",
     "output_type": "stream",
     "text": [
      "INFO:tensorflow:Calling checkpoint listeners before saving checkpoint 1423...\n"
     ]
    },
    {
     "name": "stderr",
     "output_type": "stream",
     "text": [
      "INFO:tensorflow:Calling checkpoint listeners before saving checkpoint 1423...\n"
     ]
    },
    {
     "name": "stdout",
     "output_type": "stream",
     "text": [
      "INFO:tensorflow:Saving checkpoints for 1423 into /data/heerak/music_vae/train/model.ckpt.\n"
     ]
    },
    {
     "name": "stderr",
     "output_type": "stream",
     "text": [
      "INFO:tensorflow:Saving checkpoints for 1423 into /data/heerak/music_vae/train/model.ckpt.\n"
     ]
    },
    {
     "name": "stdout",
     "output_type": "stream",
     "text": [
      "INFO:tensorflow:Calling checkpoint listeners after saving checkpoint 1423...\n"
     ]
    },
    {
     "name": "stderr",
     "output_type": "stream",
     "text": [
      "INFO:tensorflow:Calling checkpoint listeners after saving checkpoint 1423...\n"
     ]
    },
    {
     "name": "stdout",
     "output_type": "stream",
     "text": [
      "INFO:tensorflow:Calling checkpoint listeners before saving checkpoint 1478...\n"
     ]
    },
    {
     "name": "stderr",
     "output_type": "stream",
     "text": [
      "INFO:tensorflow:Calling checkpoint listeners before saving checkpoint 1478...\n"
     ]
    },
    {
     "name": "stdout",
     "output_type": "stream",
     "text": [
      "INFO:tensorflow:Saving checkpoints for 1478 into /data/heerak/music_vae/train/model.ckpt.\n"
     ]
    },
    {
     "name": "stderr",
     "output_type": "stream",
     "text": [
      "INFO:tensorflow:Saving checkpoints for 1478 into /data/heerak/music_vae/train/model.ckpt.\n"
     ]
    },
    {
     "name": "stdout",
     "output_type": "stream",
     "text": [
      "INFO:tensorflow:Calling checkpoint listeners after saving checkpoint 1478...\n"
     ]
    },
    {
     "name": "stderr",
     "output_type": "stream",
     "text": [
      "INFO:tensorflow:Calling checkpoint listeners after saving checkpoint 1478...\n"
     ]
    },
    {
     "name": "stdout",
     "output_type": "stream",
     "text": [
      "INFO:tensorflow:global_step/sec: 0.905275\n"
     ]
    },
    {
     "name": "stderr",
     "output_type": "stream",
     "text": [
      "INFO:tensorflow:global_step/sec: 0.905275\n"
     ]
    },
    {
     "name": "stdout",
     "output_type": "stream",
     "text": [
      "INFO:tensorflow:global_step = 1500, loss = 133.84666 (110.464 sec)\n"
     ]
    },
    {
     "name": "stderr",
     "output_type": "stream",
     "text": [
      "INFO:tensorflow:global_step = 1500, loss = 133.84666 (110.464 sec)\n"
     ]
    },
    {
     "name": "stdout",
     "output_type": "stream",
     "text": [
      "INFO:tensorflow:Calling checkpoint listeners before saving checkpoint 1533...\n"
     ]
    },
    {
     "name": "stderr",
     "output_type": "stream",
     "text": [
      "INFO:tensorflow:Calling checkpoint listeners before saving checkpoint 1533...\n"
     ]
    },
    {
     "name": "stdout",
     "output_type": "stream",
     "text": [
      "INFO:tensorflow:Saving checkpoints for 1533 into /data/heerak/music_vae/train/model.ckpt.\n"
     ]
    },
    {
     "name": "stderr",
     "output_type": "stream",
     "text": [
      "INFO:tensorflow:Saving checkpoints for 1533 into /data/heerak/music_vae/train/model.ckpt.\n"
     ]
    },
    {
     "name": "stdout",
     "output_type": "stream",
     "text": [
      "INFO:tensorflow:Calling checkpoint listeners after saving checkpoint 1533...\n"
     ]
    },
    {
     "name": "stderr",
     "output_type": "stream",
     "text": [
      "INFO:tensorflow:Calling checkpoint listeners after saving checkpoint 1533...\n"
     ]
    },
    {
     "name": "stdout",
     "output_type": "stream",
     "text": [
      "INFO:tensorflow:Calling checkpoint listeners before saving checkpoint 1588...\n"
     ]
    },
    {
     "name": "stderr",
     "output_type": "stream",
     "text": [
      "INFO:tensorflow:Calling checkpoint listeners before saving checkpoint 1588...\n"
     ]
    },
    {
     "name": "stdout",
     "output_type": "stream",
     "text": [
      "INFO:tensorflow:Saving checkpoints for 1588 into /data/heerak/music_vae/train/model.ckpt.\n"
     ]
    },
    {
     "name": "stderr",
     "output_type": "stream",
     "text": [
      "INFO:tensorflow:Saving checkpoints for 1588 into /data/heerak/music_vae/train/model.ckpt.\n"
     ]
    },
    {
     "name": "stdout",
     "output_type": "stream",
     "text": [
      "INFO:tensorflow:Calling checkpoint listeners after saving checkpoint 1588...\n"
     ]
    },
    {
     "name": "stderr",
     "output_type": "stream",
     "text": [
      "INFO:tensorflow:Calling checkpoint listeners after saving checkpoint 1588...\n"
     ]
    },
    {
     "name": "stdout",
     "output_type": "stream",
     "text": [
      "INFO:tensorflow:global_step/sec: 0.906662\n"
     ]
    },
    {
     "name": "stderr",
     "output_type": "stream",
     "text": [
      "INFO:tensorflow:global_step/sec: 0.906662\n"
     ]
    },
    {
     "name": "stdout",
     "output_type": "stream",
     "text": [
      "INFO:tensorflow:global_step = 1600, loss = 127.42867 (110.296 sec)\n"
     ]
    },
    {
     "name": "stderr",
     "output_type": "stream",
     "text": [
      "INFO:tensorflow:global_step = 1600, loss = 127.42867 (110.296 sec)\n"
     ]
    },
    {
     "name": "stdout",
     "output_type": "stream",
     "text": [
      "INFO:tensorflow:Calling checkpoint listeners before saving checkpoint 1643...\n"
     ]
    },
    {
     "name": "stderr",
     "output_type": "stream",
     "text": [
      "INFO:tensorflow:Calling checkpoint listeners before saving checkpoint 1643...\n"
     ]
    },
    {
     "name": "stdout",
     "output_type": "stream",
     "text": [
      "INFO:tensorflow:Saving checkpoints for 1643 into /data/heerak/music_vae/train/model.ckpt.\n"
     ]
    },
    {
     "name": "stderr",
     "output_type": "stream",
     "text": [
      "INFO:tensorflow:Saving checkpoints for 1643 into /data/heerak/music_vae/train/model.ckpt.\n"
     ]
    },
    {
     "name": "stdout",
     "output_type": "stream",
     "text": [
      "INFO:tensorflow:Calling checkpoint listeners after saving checkpoint 1643...\n"
     ]
    },
    {
     "name": "stderr",
     "output_type": "stream",
     "text": [
      "INFO:tensorflow:Calling checkpoint listeners after saving checkpoint 1643...\n"
     ]
    },
    {
     "name": "stdout",
     "output_type": "stream",
     "text": [
      "INFO:tensorflow:Calling checkpoint listeners before saving checkpoint 1698...\n"
     ]
    },
    {
     "name": "stderr",
     "output_type": "stream",
     "text": [
      "INFO:tensorflow:Calling checkpoint listeners before saving checkpoint 1698...\n"
     ]
    },
    {
     "name": "stdout",
     "output_type": "stream",
     "text": [
      "INFO:tensorflow:Saving checkpoints for 1698 into /data/heerak/music_vae/train/model.ckpt.\n"
     ]
    },
    {
     "name": "stderr",
     "output_type": "stream",
     "text": [
      "INFO:tensorflow:Saving checkpoints for 1698 into /data/heerak/music_vae/train/model.ckpt.\n"
     ]
    },
    {
     "name": "stdout",
     "output_type": "stream",
     "text": [
      "INFO:tensorflow:Calling checkpoint listeners after saving checkpoint 1698...\n"
     ]
    },
    {
     "name": "stderr",
     "output_type": "stream",
     "text": [
      "INFO:tensorflow:Calling checkpoint listeners after saving checkpoint 1698...\n"
     ]
    },
    {
     "name": "stdout",
     "output_type": "stream",
     "text": [
      "INFO:tensorflow:global_step/sec: 0.907243\n"
     ]
    },
    {
     "name": "stderr",
     "output_type": "stream",
     "text": [
      "INFO:tensorflow:global_step/sec: 0.907243\n"
     ]
    },
    {
     "name": "stdout",
     "output_type": "stream",
     "text": [
      "INFO:tensorflow:global_step = 1700, loss = 123.96122 (110.224 sec)\n"
     ]
    },
    {
     "name": "stderr",
     "output_type": "stream",
     "text": [
      "INFO:tensorflow:global_step = 1700, loss = 123.96122 (110.224 sec)\n"
     ]
    },
    {
     "name": "stdout",
     "output_type": "stream",
     "text": [
      "INFO:tensorflow:Calling checkpoint listeners before saving checkpoint 1753...\n"
     ]
    },
    {
     "name": "stderr",
     "output_type": "stream",
     "text": [
      "INFO:tensorflow:Calling checkpoint listeners before saving checkpoint 1753...\n"
     ]
    },
    {
     "name": "stdout",
     "output_type": "stream",
     "text": [
      "INFO:tensorflow:Saving checkpoints for 1753 into /data/heerak/music_vae/train/model.ckpt.\n"
     ]
    },
    {
     "name": "stderr",
     "output_type": "stream",
     "text": [
      "INFO:tensorflow:Saving checkpoints for 1753 into /data/heerak/music_vae/train/model.ckpt.\n"
     ]
    },
    {
     "name": "stdout",
     "output_type": "stream",
     "text": [
      "INFO:tensorflow:Calling checkpoint listeners after saving checkpoint 1753...\n"
     ]
    },
    {
     "name": "stderr",
     "output_type": "stream",
     "text": [
      "INFO:tensorflow:Calling checkpoint listeners after saving checkpoint 1753...\n"
     ]
    },
    {
     "name": "stdout",
     "output_type": "stream",
     "text": [
      "INFO:tensorflow:global_step/sec: 0.91687\n"
     ]
    },
    {
     "name": "stderr",
     "output_type": "stream",
     "text": [
      "INFO:tensorflow:global_step/sec: 0.91687\n"
     ]
    },
    {
     "name": "stdout",
     "output_type": "stream",
     "text": [
      "INFO:tensorflow:global_step = 1800, loss = 119.089096 (109.066 sec)\n"
     ]
    },
    {
     "name": "stderr",
     "output_type": "stream",
     "text": [
      "INFO:tensorflow:global_step = 1800, loss = 119.089096 (109.066 sec)\n"
     ]
    },
    {
     "name": "stdout",
     "output_type": "stream",
     "text": [
      "INFO:tensorflow:Calling checkpoint listeners before saving checkpoint 1808...\n"
     ]
    },
    {
     "name": "stderr",
     "output_type": "stream",
     "text": [
      "INFO:tensorflow:Calling checkpoint listeners before saving checkpoint 1808...\n"
     ]
    },
    {
     "name": "stdout",
     "output_type": "stream",
     "text": [
      "INFO:tensorflow:Saving checkpoints for 1808 into /data/heerak/music_vae/train/model.ckpt.\n"
     ]
    },
    {
     "name": "stderr",
     "output_type": "stream",
     "text": [
      "INFO:tensorflow:Saving checkpoints for 1808 into /data/heerak/music_vae/train/model.ckpt.\n"
     ]
    },
    {
     "name": "stdout",
     "output_type": "stream",
     "text": [
      "INFO:tensorflow:Calling checkpoint listeners after saving checkpoint 1808...\n"
     ]
    },
    {
     "name": "stderr",
     "output_type": "stream",
     "text": [
      "INFO:tensorflow:Calling checkpoint listeners after saving checkpoint 1808...\n"
     ]
    },
    {
     "name": "stdout",
     "output_type": "stream",
     "text": [
      "INFO:tensorflow:Calling checkpoint listeners before saving checkpoint 1863...\n"
     ]
    },
    {
     "name": "stderr",
     "output_type": "stream",
     "text": [
      "INFO:tensorflow:Calling checkpoint listeners before saving checkpoint 1863...\n"
     ]
    },
    {
     "name": "stdout",
     "output_type": "stream",
     "text": [
      "INFO:tensorflow:Saving checkpoints for 1863 into /data/heerak/music_vae/train/model.ckpt.\n"
     ]
    },
    {
     "name": "stderr",
     "output_type": "stream",
     "text": [
      "INFO:tensorflow:Saving checkpoints for 1863 into /data/heerak/music_vae/train/model.ckpt.\n"
     ]
    },
    {
     "name": "stdout",
     "output_type": "stream",
     "text": [
      "INFO:tensorflow:Calling checkpoint listeners after saving checkpoint 1863...\n"
     ]
    },
    {
     "name": "stderr",
     "output_type": "stream",
     "text": [
      "INFO:tensorflow:Calling checkpoint listeners after saving checkpoint 1863...\n"
     ]
    },
    {
     "name": "stdout",
     "output_type": "stream",
     "text": [
      "INFO:tensorflow:global_step/sec: 0.905608\n"
     ]
    },
    {
     "name": "stderr",
     "output_type": "stream",
     "text": [
      "INFO:tensorflow:global_step/sec: 0.905608\n"
     ]
    },
    {
     "name": "stdout",
     "output_type": "stream",
     "text": [
      "INFO:tensorflow:global_step = 1900, loss = 117.84135 (110.424 sec)\n"
     ]
    },
    {
     "name": "stderr",
     "output_type": "stream",
     "text": [
      "INFO:tensorflow:global_step = 1900, loss = 117.84135 (110.424 sec)\n"
     ]
    },
    {
     "name": "stdout",
     "output_type": "stream",
     "text": [
      "INFO:tensorflow:Calling checkpoint listeners before saving checkpoint 1918...\n"
     ]
    },
    {
     "name": "stderr",
     "output_type": "stream",
     "text": [
      "INFO:tensorflow:Calling checkpoint listeners before saving checkpoint 1918...\n"
     ]
    },
    {
     "name": "stdout",
     "output_type": "stream",
     "text": [
      "INFO:tensorflow:Saving checkpoints for 1918 into /data/heerak/music_vae/train/model.ckpt.\n"
     ]
    },
    {
     "name": "stderr",
     "output_type": "stream",
     "text": [
      "INFO:tensorflow:Saving checkpoints for 1918 into /data/heerak/music_vae/train/model.ckpt.\n"
     ]
    },
    {
     "name": "stdout",
     "output_type": "stream",
     "text": [
      "INFO:tensorflow:Calling checkpoint listeners after saving checkpoint 1918...\n"
     ]
    },
    {
     "name": "stderr",
     "output_type": "stream",
     "text": [
      "INFO:tensorflow:Calling checkpoint listeners after saving checkpoint 1918...\n"
     ]
    },
    {
     "name": "stdout",
     "output_type": "stream",
     "text": [
      "INFO:tensorflow:Calling checkpoint listeners before saving checkpoint 1973...\n"
     ]
    },
    {
     "name": "stderr",
     "output_type": "stream",
     "text": [
      "INFO:tensorflow:Calling checkpoint listeners before saving checkpoint 1973...\n"
     ]
    },
    {
     "name": "stdout",
     "output_type": "stream",
     "text": [
      "INFO:tensorflow:Saving checkpoints for 1973 into /data/heerak/music_vae/train/model.ckpt.\n"
     ]
    },
    {
     "name": "stderr",
     "output_type": "stream",
     "text": [
      "INFO:tensorflow:Saving checkpoints for 1973 into /data/heerak/music_vae/train/model.ckpt.\n"
     ]
    },
    {
     "name": "stdout",
     "output_type": "stream",
     "text": [
      "INFO:tensorflow:Calling checkpoint listeners after saving checkpoint 1973...\n"
     ]
    },
    {
     "name": "stderr",
     "output_type": "stream",
     "text": [
      "INFO:tensorflow:Calling checkpoint listeners after saving checkpoint 1973...\n"
     ]
    },
    {
     "name": "stdout",
     "output_type": "stream",
     "text": [
      "INFO:tensorflow:global_step/sec: 0.905496\n"
     ]
    },
    {
     "name": "stderr",
     "output_type": "stream",
     "text": [
      "INFO:tensorflow:global_step/sec: 0.905496\n"
     ]
    },
    {
     "name": "stdout",
     "output_type": "stream",
     "text": [
      "INFO:tensorflow:global_step = 2000, loss = 118.95576 (110.436 sec)\n"
     ]
    },
    {
     "name": "stderr",
     "output_type": "stream",
     "text": [
      "INFO:tensorflow:global_step = 2000, loss = 118.95576 (110.436 sec)\n"
     ]
    },
    {
     "name": "stdout",
     "output_type": "stream",
     "text": [
      "INFO:tensorflow:Calling checkpoint listeners before saving checkpoint 2028...\n"
     ]
    },
    {
     "name": "stderr",
     "output_type": "stream",
     "text": [
      "INFO:tensorflow:Calling checkpoint listeners before saving checkpoint 2028...\n"
     ]
    },
    {
     "name": "stdout",
     "output_type": "stream",
     "text": [
      "INFO:tensorflow:Saving checkpoints for 2028 into /data/heerak/music_vae/train/model.ckpt.\n"
     ]
    },
    {
     "name": "stderr",
     "output_type": "stream",
     "text": [
      "INFO:tensorflow:Saving checkpoints for 2028 into /data/heerak/music_vae/train/model.ckpt.\n"
     ]
    },
    {
     "name": "stdout",
     "output_type": "stream",
     "text": [
      "INFO:tensorflow:Calling checkpoint listeners after saving checkpoint 2028...\n"
     ]
    },
    {
     "name": "stderr",
     "output_type": "stream",
     "text": [
      "INFO:tensorflow:Calling checkpoint listeners after saving checkpoint 2028...\n"
     ]
    },
    {
     "name": "stdout",
     "output_type": "stream",
     "text": [
      "INFO:tensorflow:Calling checkpoint listeners before saving checkpoint 2083...\n"
     ]
    },
    {
     "name": "stderr",
     "output_type": "stream",
     "text": [
      "INFO:tensorflow:Calling checkpoint listeners before saving checkpoint 2083...\n"
     ]
    },
    {
     "name": "stdout",
     "output_type": "stream",
     "text": [
      "INFO:tensorflow:Saving checkpoints for 2083 into /data/heerak/music_vae/train/model.ckpt.\n"
     ]
    },
    {
     "name": "stderr",
     "output_type": "stream",
     "text": [
      "INFO:tensorflow:Saving checkpoints for 2083 into /data/heerak/music_vae/train/model.ckpt.\n"
     ]
    },
    {
     "name": "stdout",
     "output_type": "stream",
     "text": [
      "INFO:tensorflow:Calling checkpoint listeners after saving checkpoint 2083...\n"
     ]
    },
    {
     "name": "stderr",
     "output_type": "stream",
     "text": [
      "INFO:tensorflow:Calling checkpoint listeners after saving checkpoint 2083...\n"
     ]
    },
    {
     "name": "stdout",
     "output_type": "stream",
     "text": [
      "INFO:tensorflow:global_step/sec: 0.90635\n"
     ]
    },
    {
     "name": "stderr",
     "output_type": "stream",
     "text": [
      "INFO:tensorflow:global_step/sec: 0.90635\n"
     ]
    },
    {
     "name": "stdout",
     "output_type": "stream",
     "text": [
      "INFO:tensorflow:global_step = 2100, loss = 121.745514 (110.332 sec)\n"
     ]
    },
    {
     "name": "stderr",
     "output_type": "stream",
     "text": [
      "INFO:tensorflow:global_step = 2100, loss = 121.745514 (110.332 sec)\n"
     ]
    },
    {
     "name": "stdout",
     "output_type": "stream",
     "text": [
      "INFO:tensorflow:Calling checkpoint listeners before saving checkpoint 2138...\n"
     ]
    },
    {
     "name": "stderr",
     "output_type": "stream",
     "text": [
      "INFO:tensorflow:Calling checkpoint listeners before saving checkpoint 2138...\n"
     ]
    },
    {
     "name": "stdout",
     "output_type": "stream",
     "text": [
      "INFO:tensorflow:Saving checkpoints for 2138 into /data/heerak/music_vae/train/model.ckpt.\n"
     ]
    },
    {
     "name": "stderr",
     "output_type": "stream",
     "text": [
      "INFO:tensorflow:Saving checkpoints for 2138 into /data/heerak/music_vae/train/model.ckpt.\n"
     ]
    },
    {
     "name": "stdout",
     "output_type": "stream",
     "text": [
      "INFO:tensorflow:Calling checkpoint listeners after saving checkpoint 2138...\n"
     ]
    },
    {
     "name": "stderr",
     "output_type": "stream",
     "text": [
      "INFO:tensorflow:Calling checkpoint listeners after saving checkpoint 2138...\n"
     ]
    },
    {
     "name": "stdout",
     "output_type": "stream",
     "text": [
      "INFO:tensorflow:Calling checkpoint listeners before saving checkpoint 2193...\n"
     ]
    },
    {
     "name": "stderr",
     "output_type": "stream",
     "text": [
      "INFO:tensorflow:Calling checkpoint listeners before saving checkpoint 2193...\n"
     ]
    },
    {
     "name": "stdout",
     "output_type": "stream",
     "text": [
      "INFO:tensorflow:Saving checkpoints for 2193 into /data/heerak/music_vae/train/model.ckpt.\n"
     ]
    },
    {
     "name": "stderr",
     "output_type": "stream",
     "text": [
      "INFO:tensorflow:Saving checkpoints for 2193 into /data/heerak/music_vae/train/model.ckpt.\n"
     ]
    },
    {
     "name": "stdout",
     "output_type": "stream",
     "text": [
      "INFO:tensorflow:Calling checkpoint listeners after saving checkpoint 2193...\n"
     ]
    },
    {
     "name": "stderr",
     "output_type": "stream",
     "text": [
      "INFO:tensorflow:Calling checkpoint listeners after saving checkpoint 2193...\n"
     ]
    },
    {
     "name": "stdout",
     "output_type": "stream",
     "text": [
      "INFO:tensorflow:global_step/sec: 0.906327\n"
     ]
    },
    {
     "name": "stderr",
     "output_type": "stream",
     "text": [
      "INFO:tensorflow:global_step/sec: 0.906327\n"
     ]
    },
    {
     "name": "stdout",
     "output_type": "stream",
     "text": [
      "INFO:tensorflow:global_step = 2200, loss = 112.804665 (110.336 sec)\n"
     ]
    },
    {
     "name": "stderr",
     "output_type": "stream",
     "text": [
      "INFO:tensorflow:global_step = 2200, loss = 112.804665 (110.336 sec)\n"
     ]
    },
    {
     "name": "stdout",
     "output_type": "stream",
     "text": [
      "INFO:tensorflow:Calling checkpoint listeners before saving checkpoint 2248...\n"
     ]
    },
    {
     "name": "stderr",
     "output_type": "stream",
     "text": [
      "INFO:tensorflow:Calling checkpoint listeners before saving checkpoint 2248...\n"
     ]
    },
    {
     "name": "stdout",
     "output_type": "stream",
     "text": [
      "INFO:tensorflow:Saving checkpoints for 2248 into /data/heerak/music_vae/train/model.ckpt.\n"
     ]
    },
    {
     "name": "stderr",
     "output_type": "stream",
     "text": [
      "INFO:tensorflow:Saving checkpoints for 2248 into /data/heerak/music_vae/train/model.ckpt.\n"
     ]
    },
    {
     "name": "stdout",
     "output_type": "stream",
     "text": [
      "INFO:tensorflow:Calling checkpoint listeners after saving checkpoint 2248...\n"
     ]
    },
    {
     "name": "stderr",
     "output_type": "stream",
     "text": [
      "INFO:tensorflow:Calling checkpoint listeners after saving checkpoint 2248...\n"
     ]
    },
    {
     "name": "stdout",
     "output_type": "stream",
     "text": [
      "INFO:tensorflow:global_step/sec: 0.918527\n"
     ]
    },
    {
     "name": "stderr",
     "output_type": "stream",
     "text": [
      "INFO:tensorflow:global_step/sec: 0.918527\n"
     ]
    },
    {
     "name": "stdout",
     "output_type": "stream",
     "text": [
      "INFO:tensorflow:global_step = 2300, loss = 118.27965 (108.870 sec)\n"
     ]
    },
    {
     "name": "stderr",
     "output_type": "stream",
     "text": [
      "INFO:tensorflow:global_step = 2300, loss = 118.27965 (108.870 sec)\n"
     ]
    },
    {
     "name": "stdout",
     "output_type": "stream",
     "text": [
      "INFO:tensorflow:Calling checkpoint listeners before saving checkpoint 2303...\n"
     ]
    },
    {
     "name": "stderr",
     "output_type": "stream",
     "text": [
      "INFO:tensorflow:Calling checkpoint listeners before saving checkpoint 2303...\n"
     ]
    },
    {
     "name": "stdout",
     "output_type": "stream",
     "text": [
      "INFO:tensorflow:Saving checkpoints for 2303 into /data/heerak/music_vae/train/model.ckpt.\n"
     ]
    },
    {
     "name": "stderr",
     "output_type": "stream",
     "text": [
      "INFO:tensorflow:Saving checkpoints for 2303 into /data/heerak/music_vae/train/model.ckpt.\n"
     ]
    },
    {
     "name": "stdout",
     "output_type": "stream",
     "text": [
      "INFO:tensorflow:Calling checkpoint listeners after saving checkpoint 2303...\n"
     ]
    },
    {
     "name": "stderr",
     "output_type": "stream",
     "text": [
      "INFO:tensorflow:Calling checkpoint listeners after saving checkpoint 2303...\n"
     ]
    },
    {
     "name": "stdout",
     "output_type": "stream",
     "text": [
      "INFO:tensorflow:Calling checkpoint listeners before saving checkpoint 2358...\n"
     ]
    },
    {
     "name": "stderr",
     "output_type": "stream",
     "text": [
      "INFO:tensorflow:Calling checkpoint listeners before saving checkpoint 2358...\n"
     ]
    },
    {
     "name": "stdout",
     "output_type": "stream",
     "text": [
      "INFO:tensorflow:Saving checkpoints for 2358 into /data/heerak/music_vae/train/model.ckpt.\n"
     ]
    },
    {
     "name": "stderr",
     "output_type": "stream",
     "text": [
      "INFO:tensorflow:Saving checkpoints for 2358 into /data/heerak/music_vae/train/model.ckpt.\n"
     ]
    },
    {
     "name": "stdout",
     "output_type": "stream",
     "text": [
      "INFO:tensorflow:Calling checkpoint listeners after saving checkpoint 2358...\n"
     ]
    },
    {
     "name": "stderr",
     "output_type": "stream",
     "text": [
      "INFO:tensorflow:Calling checkpoint listeners after saving checkpoint 2358...\n"
     ]
    },
    {
     "name": "stdout",
     "output_type": "stream",
     "text": [
      "INFO:tensorflow:global_step/sec: 0.908088\n"
     ]
    },
    {
     "name": "stderr",
     "output_type": "stream",
     "text": [
      "INFO:tensorflow:global_step/sec: 0.908088\n"
     ]
    },
    {
     "name": "stdout",
     "output_type": "stream",
     "text": [
      "INFO:tensorflow:global_step = 2400, loss = 107.52308 (110.121 sec)\n"
     ]
    },
    {
     "name": "stderr",
     "output_type": "stream",
     "text": [
      "INFO:tensorflow:global_step = 2400, loss = 107.52308 (110.121 sec)\n"
     ]
    },
    {
     "name": "stdout",
     "output_type": "stream",
     "text": [
      "INFO:tensorflow:Calling checkpoint listeners before saving checkpoint 2413...\n"
     ]
    },
    {
     "name": "stderr",
     "output_type": "stream",
     "text": [
      "INFO:tensorflow:Calling checkpoint listeners before saving checkpoint 2413...\n"
     ]
    },
    {
     "name": "stdout",
     "output_type": "stream",
     "text": [
      "INFO:tensorflow:Saving checkpoints for 2413 into /data/heerak/music_vae/train/model.ckpt.\n"
     ]
    },
    {
     "name": "stderr",
     "output_type": "stream",
     "text": [
      "INFO:tensorflow:Saving checkpoints for 2413 into /data/heerak/music_vae/train/model.ckpt.\n"
     ]
    },
    {
     "name": "stdout",
     "output_type": "stream",
     "text": [
      "INFO:tensorflow:Calling checkpoint listeners after saving checkpoint 2413...\n"
     ]
    },
    {
     "name": "stderr",
     "output_type": "stream",
     "text": [
      "INFO:tensorflow:Calling checkpoint listeners after saving checkpoint 2413...\n"
     ]
    },
    {
     "name": "stdout",
     "output_type": "stream",
     "text": [
      "INFO:tensorflow:Calling checkpoint listeners before saving checkpoint 2468...\n"
     ]
    },
    {
     "name": "stderr",
     "output_type": "stream",
     "text": [
      "INFO:tensorflow:Calling checkpoint listeners before saving checkpoint 2468...\n"
     ]
    },
    {
     "name": "stdout",
     "output_type": "stream",
     "text": [
      "INFO:tensorflow:Saving checkpoints for 2468 into /data/heerak/music_vae/train/model.ckpt.\n"
     ]
    },
    {
     "name": "stderr",
     "output_type": "stream",
     "text": [
      "INFO:tensorflow:Saving checkpoints for 2468 into /data/heerak/music_vae/train/model.ckpt.\n"
     ]
    },
    {
     "name": "stdout",
     "output_type": "stream",
     "text": [
      "INFO:tensorflow:Calling checkpoint listeners after saving checkpoint 2468...\n"
     ]
    },
    {
     "name": "stderr",
     "output_type": "stream",
     "text": [
      "INFO:tensorflow:Calling checkpoint listeners after saving checkpoint 2468...\n"
     ]
    },
    {
     "name": "stdout",
     "output_type": "stream",
     "text": [
      "INFO:tensorflow:global_step/sec: 0.909259\n"
     ]
    },
    {
     "name": "stderr",
     "output_type": "stream",
     "text": [
      "INFO:tensorflow:global_step/sec: 0.909259\n"
     ]
    },
    {
     "name": "stdout",
     "output_type": "stream",
     "text": [
      "INFO:tensorflow:global_step = 2500, loss = 110.95273 (109.980 sec)\n"
     ]
    },
    {
     "name": "stderr",
     "output_type": "stream",
     "text": [
      "INFO:tensorflow:global_step = 2500, loss = 110.95273 (109.980 sec)\n"
     ]
    },
    {
     "name": "stdout",
     "output_type": "stream",
     "text": [
      "INFO:tensorflow:Calling checkpoint listeners before saving checkpoint 2524...\n"
     ]
    },
    {
     "name": "stderr",
     "output_type": "stream",
     "text": [
      "INFO:tensorflow:Calling checkpoint listeners before saving checkpoint 2524...\n"
     ]
    },
    {
     "name": "stdout",
     "output_type": "stream",
     "text": [
      "INFO:tensorflow:Saving checkpoints for 2524 into /data/heerak/music_vae/train/model.ckpt.\n"
     ]
    },
    {
     "name": "stderr",
     "output_type": "stream",
     "text": [
      "INFO:tensorflow:Saving checkpoints for 2524 into /data/heerak/music_vae/train/model.ckpt.\n"
     ]
    },
    {
     "name": "stdout",
     "output_type": "stream",
     "text": [
      "INFO:tensorflow:Calling checkpoint listeners after saving checkpoint 2524...\n"
     ]
    },
    {
     "name": "stderr",
     "output_type": "stream",
     "text": [
      "INFO:tensorflow:Calling checkpoint listeners after saving checkpoint 2524...\n"
     ]
    },
    {
     "name": "stdout",
     "output_type": "stream",
     "text": [
      "INFO:tensorflow:Calling checkpoint listeners before saving checkpoint 2580...\n"
     ]
    },
    {
     "name": "stderr",
     "output_type": "stream",
     "text": [
      "INFO:tensorflow:Calling checkpoint listeners before saving checkpoint 2580...\n"
     ]
    },
    {
     "name": "stdout",
     "output_type": "stream",
     "text": [
      "INFO:tensorflow:Saving checkpoints for 2580 into /data/heerak/music_vae/train/model.ckpt.\n"
     ]
    },
    {
     "name": "stderr",
     "output_type": "stream",
     "text": [
      "INFO:tensorflow:Saving checkpoints for 2580 into /data/heerak/music_vae/train/model.ckpt.\n"
     ]
    },
    {
     "name": "stdout",
     "output_type": "stream",
     "text": [
      "INFO:tensorflow:Calling checkpoint listeners after saving checkpoint 2580...\n"
     ]
    },
    {
     "name": "stderr",
     "output_type": "stream",
     "text": [
      "INFO:tensorflow:Calling checkpoint listeners after saving checkpoint 2580...\n"
     ]
    },
    {
     "name": "stdout",
     "output_type": "stream",
     "text": [
      "INFO:tensorflow:global_step/sec: 0.916321\n"
     ]
    },
    {
     "name": "stderr",
     "output_type": "stream",
     "text": [
      "INFO:tensorflow:global_step/sec: 0.916321\n"
     ]
    },
    {
     "name": "stdout",
     "output_type": "stream",
     "text": [
      "INFO:tensorflow:global_step = 2600, loss = 110.38984 (109.132 sec)\n"
     ]
    },
    {
     "name": "stderr",
     "output_type": "stream",
     "text": [
      "INFO:tensorflow:global_step = 2600, loss = 110.38984 (109.132 sec)\n"
     ]
    },
    {
     "name": "stdout",
     "output_type": "stream",
     "text": [
      "INFO:tensorflow:Calling checkpoint listeners before saving checkpoint 2636...\n"
     ]
    },
    {
     "name": "stderr",
     "output_type": "stream",
     "text": [
      "INFO:tensorflow:Calling checkpoint listeners before saving checkpoint 2636...\n"
     ]
    },
    {
     "name": "stdout",
     "output_type": "stream",
     "text": [
      "INFO:tensorflow:Saving checkpoints for 2636 into /data/heerak/music_vae/train/model.ckpt.\n"
     ]
    },
    {
     "name": "stderr",
     "output_type": "stream",
     "text": [
      "INFO:tensorflow:Saving checkpoints for 2636 into /data/heerak/music_vae/train/model.ckpt.\n"
     ]
    },
    {
     "name": "stdout",
     "output_type": "stream",
     "text": [
      "INFO:tensorflow:Calling checkpoint listeners after saving checkpoint 2636...\n"
     ]
    },
    {
     "name": "stderr",
     "output_type": "stream",
     "text": [
      "INFO:tensorflow:Calling checkpoint listeners after saving checkpoint 2636...\n"
     ]
    },
    {
     "name": "stdout",
     "output_type": "stream",
     "text": [
      "INFO:tensorflow:Calling checkpoint listeners before saving checkpoint 2692...\n"
     ]
    },
    {
     "name": "stderr",
     "output_type": "stream",
     "text": [
      "INFO:tensorflow:Calling checkpoint listeners before saving checkpoint 2692...\n"
     ]
    },
    {
     "name": "stdout",
     "output_type": "stream",
     "text": [
      "INFO:tensorflow:Saving checkpoints for 2692 into /data/heerak/music_vae/train/model.ckpt.\n"
     ]
    },
    {
     "name": "stderr",
     "output_type": "stream",
     "text": [
      "INFO:tensorflow:Saving checkpoints for 2692 into /data/heerak/music_vae/train/model.ckpt.\n"
     ]
    },
    {
     "name": "stdout",
     "output_type": "stream",
     "text": [
      "INFO:tensorflow:Calling checkpoint listeners after saving checkpoint 2692...\n"
     ]
    },
    {
     "name": "stderr",
     "output_type": "stream",
     "text": [
      "INFO:tensorflow:Calling checkpoint listeners after saving checkpoint 2692...\n"
     ]
    },
    {
     "name": "stdout",
     "output_type": "stream",
     "text": [
      "INFO:tensorflow:global_step/sec: 0.923177\n"
     ]
    },
    {
     "name": "stderr",
     "output_type": "stream",
     "text": [
      "INFO:tensorflow:global_step/sec: 0.923177\n"
     ]
    },
    {
     "name": "stdout",
     "output_type": "stream",
     "text": [
      "INFO:tensorflow:global_step = 2700, loss = 110.112045 (108.321 sec)\n"
     ]
    },
    {
     "name": "stderr",
     "output_type": "stream",
     "text": [
      "INFO:tensorflow:global_step = 2700, loss = 110.112045 (108.321 sec)\n"
     ]
    },
    {
     "name": "stdout",
     "output_type": "stream",
     "text": [
      "INFO:tensorflow:Calling checkpoint listeners before saving checkpoint 2748...\n"
     ]
    },
    {
     "name": "stderr",
     "output_type": "stream",
     "text": [
      "INFO:tensorflow:Calling checkpoint listeners before saving checkpoint 2748...\n"
     ]
    },
    {
     "name": "stdout",
     "output_type": "stream",
     "text": [
      "INFO:tensorflow:Saving checkpoints for 2748 into /data/heerak/music_vae/train/model.ckpt.\n"
     ]
    },
    {
     "name": "stderr",
     "output_type": "stream",
     "text": [
      "INFO:tensorflow:Saving checkpoints for 2748 into /data/heerak/music_vae/train/model.ckpt.\n"
     ]
    },
    {
     "name": "stdout",
     "output_type": "stream",
     "text": [
      "INFO:tensorflow:Calling checkpoint listeners after saving checkpoint 2748...\n"
     ]
    },
    {
     "name": "stderr",
     "output_type": "stream",
     "text": [
      "INFO:tensorflow:Calling checkpoint listeners after saving checkpoint 2748...\n"
     ]
    },
    {
     "name": "stdout",
     "output_type": "stream",
     "text": [
      "INFO:tensorflow:global_step/sec: 0.93619\n"
     ]
    },
    {
     "name": "stderr",
     "output_type": "stream",
     "text": [
      "INFO:tensorflow:global_step/sec: 0.93619\n"
     ]
    },
    {
     "name": "stdout",
     "output_type": "stream",
     "text": [
      "INFO:tensorflow:global_step = 2800, loss = 107.78182 (106.816 sec)\n"
     ]
    },
    {
     "name": "stderr",
     "output_type": "stream",
     "text": [
      "INFO:tensorflow:global_step = 2800, loss = 107.78182 (106.816 sec)\n"
     ]
    },
    {
     "name": "stdout",
     "output_type": "stream",
     "text": [
      "INFO:tensorflow:Calling checkpoint listeners before saving checkpoint 2804...\n"
     ]
    },
    {
     "name": "stderr",
     "output_type": "stream",
     "text": [
      "INFO:tensorflow:Calling checkpoint listeners before saving checkpoint 2804...\n"
     ]
    },
    {
     "name": "stdout",
     "output_type": "stream",
     "text": [
      "INFO:tensorflow:Saving checkpoints for 2804 into /data/heerak/music_vae/train/model.ckpt.\n"
     ]
    },
    {
     "name": "stderr",
     "output_type": "stream",
     "text": [
      "INFO:tensorflow:Saving checkpoints for 2804 into /data/heerak/music_vae/train/model.ckpt.\n"
     ]
    },
    {
     "name": "stdout",
     "output_type": "stream",
     "text": [
      "INFO:tensorflow:Calling checkpoint listeners after saving checkpoint 2804...\n"
     ]
    },
    {
     "name": "stderr",
     "output_type": "stream",
     "text": [
      "INFO:tensorflow:Calling checkpoint listeners after saving checkpoint 2804...\n"
     ]
    },
    {
     "name": "stdout",
     "output_type": "stream",
     "text": [
      "INFO:tensorflow:Calling checkpoint listeners before saving checkpoint 2860...\n"
     ]
    },
    {
     "name": "stderr",
     "output_type": "stream",
     "text": [
      "INFO:tensorflow:Calling checkpoint listeners before saving checkpoint 2860...\n"
     ]
    },
    {
     "name": "stdout",
     "output_type": "stream",
     "text": [
      "INFO:tensorflow:Saving checkpoints for 2860 into /data/heerak/music_vae/train/model.ckpt.\n"
     ]
    },
    {
     "name": "stderr",
     "output_type": "stream",
     "text": [
      "INFO:tensorflow:Saving checkpoints for 2860 into /data/heerak/music_vae/train/model.ckpt.\n"
     ]
    },
    {
     "name": "stdout",
     "output_type": "stream",
     "text": [
      "INFO:tensorflow:Calling checkpoint listeners after saving checkpoint 2860...\n"
     ]
    },
    {
     "name": "stderr",
     "output_type": "stream",
     "text": [
      "INFO:tensorflow:Calling checkpoint listeners after saving checkpoint 2860...\n"
     ]
    },
    {
     "name": "stdout",
     "output_type": "stream",
     "text": [
      "INFO:tensorflow:global_step/sec: 0.920239\n"
     ]
    },
    {
     "name": "stderr",
     "output_type": "stream",
     "text": [
      "INFO:tensorflow:global_step/sec: 0.920239\n"
     ]
    },
    {
     "name": "stdout",
     "output_type": "stream",
     "text": [
      "INFO:tensorflow:global_step = 2900, loss = 106.61785 (108.667 sec)\n"
     ]
    },
    {
     "name": "stderr",
     "output_type": "stream",
     "text": [
      "INFO:tensorflow:global_step = 2900, loss = 106.61785 (108.667 sec)\n"
     ]
    },
    {
     "name": "stdout",
     "output_type": "stream",
     "text": [
      "INFO:tensorflow:Calling checkpoint listeners before saving checkpoint 2916...\n"
     ]
    },
    {
     "name": "stderr",
     "output_type": "stream",
     "text": [
      "INFO:tensorflow:Calling checkpoint listeners before saving checkpoint 2916...\n"
     ]
    },
    {
     "name": "stdout",
     "output_type": "stream",
     "text": [
      "INFO:tensorflow:Saving checkpoints for 2916 into /data/heerak/music_vae/train/model.ckpt.\n"
     ]
    },
    {
     "name": "stderr",
     "output_type": "stream",
     "text": [
      "INFO:tensorflow:Saving checkpoints for 2916 into /data/heerak/music_vae/train/model.ckpt.\n"
     ]
    },
    {
     "name": "stdout",
     "output_type": "stream",
     "text": [
      "INFO:tensorflow:Calling checkpoint listeners after saving checkpoint 2916...\n"
     ]
    },
    {
     "name": "stderr",
     "output_type": "stream",
     "text": [
      "INFO:tensorflow:Calling checkpoint listeners after saving checkpoint 2916...\n"
     ]
    },
    {
     "name": "stdout",
     "output_type": "stream",
     "text": [
      "INFO:tensorflow:Calling checkpoint listeners before saving checkpoint 2972...\n"
     ]
    },
    {
     "name": "stderr",
     "output_type": "stream",
     "text": [
      "INFO:tensorflow:Calling checkpoint listeners before saving checkpoint 2972...\n"
     ]
    },
    {
     "name": "stdout",
     "output_type": "stream",
     "text": [
      "INFO:tensorflow:Saving checkpoints for 2972 into /data/heerak/music_vae/train/model.ckpt.\n"
     ]
    },
    {
     "name": "stderr",
     "output_type": "stream",
     "text": [
      "INFO:tensorflow:Saving checkpoints for 2972 into /data/heerak/music_vae/train/model.ckpt.\n"
     ]
    },
    {
     "name": "stdout",
     "output_type": "stream",
     "text": [
      "INFO:tensorflow:Calling checkpoint listeners after saving checkpoint 2972...\n"
     ]
    },
    {
     "name": "stderr",
     "output_type": "stream",
     "text": [
      "INFO:tensorflow:Calling checkpoint listeners after saving checkpoint 2972...\n"
     ]
    },
    {
     "name": "stdout",
     "output_type": "stream",
     "text": [
      "INFO:tensorflow:global_step/sec: 0.922168\n"
     ]
    },
    {
     "name": "stderr",
     "output_type": "stream",
     "text": [
      "INFO:tensorflow:global_step/sec: 0.922168\n"
     ]
    },
    {
     "name": "stdout",
     "output_type": "stream",
     "text": [
      "INFO:tensorflow:global_step = 3000, loss = 98.155495 (108.440 sec)\n"
     ]
    },
    {
     "name": "stderr",
     "output_type": "stream",
     "text": [
      "INFO:tensorflow:global_step = 3000, loss = 98.155495 (108.440 sec)\n"
     ]
    },
    {
     "name": "stdout",
     "output_type": "stream",
     "text": [
      "INFO:tensorflow:Calling checkpoint listeners before saving checkpoint 3028...\n"
     ]
    },
    {
     "name": "stderr",
     "output_type": "stream",
     "text": [
      "INFO:tensorflow:Calling checkpoint listeners before saving checkpoint 3028...\n"
     ]
    },
    {
     "name": "stdout",
     "output_type": "stream",
     "text": [
      "INFO:tensorflow:Saving checkpoints for 3028 into /data/heerak/music_vae/train/model.ckpt.\n"
     ]
    },
    {
     "name": "stderr",
     "output_type": "stream",
     "text": [
      "INFO:tensorflow:Saving checkpoints for 3028 into /data/heerak/music_vae/train/model.ckpt.\n"
     ]
    },
    {
     "name": "stdout",
     "output_type": "stream",
     "text": [
      "INFO:tensorflow:Calling checkpoint listeners after saving checkpoint 3028...\n"
     ]
    },
    {
     "name": "stderr",
     "output_type": "stream",
     "text": [
      "INFO:tensorflow:Calling checkpoint listeners after saving checkpoint 3028...\n"
     ]
    },
    {
     "name": "stdout",
     "output_type": "stream",
     "text": [
      "INFO:tensorflow:Calling checkpoint listeners before saving checkpoint 3084...\n"
     ]
    },
    {
     "name": "stderr",
     "output_type": "stream",
     "text": [
      "INFO:tensorflow:Calling checkpoint listeners before saving checkpoint 3084...\n"
     ]
    },
    {
     "name": "stdout",
     "output_type": "stream",
     "text": [
      "INFO:tensorflow:Saving checkpoints for 3084 into /data/heerak/music_vae/train/model.ckpt.\n"
     ]
    },
    {
     "name": "stderr",
     "output_type": "stream",
     "text": [
      "INFO:tensorflow:Saving checkpoints for 3084 into /data/heerak/music_vae/train/model.ckpt.\n"
     ]
    },
    {
     "name": "stdout",
     "output_type": "stream",
     "text": [
      "INFO:tensorflow:Calling checkpoint listeners after saving checkpoint 3084...\n"
     ]
    },
    {
     "name": "stderr",
     "output_type": "stream",
     "text": [
      "INFO:tensorflow:Calling checkpoint listeners after saving checkpoint 3084...\n"
     ]
    },
    {
     "name": "stdout",
     "output_type": "stream",
     "text": [
      "INFO:tensorflow:global_step/sec: 0.923857\n"
     ]
    },
    {
     "name": "stderr",
     "output_type": "stream",
     "text": [
      "INFO:tensorflow:global_step/sec: 0.923857\n"
     ]
    },
    {
     "name": "stdout",
     "output_type": "stream",
     "text": [
      "INFO:tensorflow:global_step = 3100, loss = 103.35501 (108.242 sec)\n"
     ]
    },
    {
     "name": "stderr",
     "output_type": "stream",
     "text": [
      "INFO:tensorflow:global_step = 3100, loss = 103.35501 (108.242 sec)\n"
     ]
    },
    {
     "name": "stdout",
     "output_type": "stream",
     "text": [
      "INFO:tensorflow:Calling checkpoint listeners before saving checkpoint 3140...\n"
     ]
    },
    {
     "name": "stderr",
     "output_type": "stream",
     "text": [
      "INFO:tensorflow:Calling checkpoint listeners before saving checkpoint 3140...\n"
     ]
    },
    {
     "name": "stdout",
     "output_type": "stream",
     "text": [
      "INFO:tensorflow:Saving checkpoints for 3140 into /data/heerak/music_vae/train/model.ckpt.\n"
     ]
    },
    {
     "name": "stderr",
     "output_type": "stream",
     "text": [
      "INFO:tensorflow:Saving checkpoints for 3140 into /data/heerak/music_vae/train/model.ckpt.\n"
     ]
    },
    {
     "name": "stdout",
     "output_type": "stream",
     "text": [
      "INFO:tensorflow:Calling checkpoint listeners after saving checkpoint 3140...\n"
     ]
    },
    {
     "name": "stderr",
     "output_type": "stream",
     "text": [
      "INFO:tensorflow:Calling checkpoint listeners after saving checkpoint 3140...\n"
     ]
    },
    {
     "name": "stdout",
     "output_type": "stream",
     "text": [
      "INFO:tensorflow:Calling checkpoint listeners before saving checkpoint 3196...\n"
     ]
    },
    {
     "name": "stderr",
     "output_type": "stream",
     "text": [
      "INFO:tensorflow:Calling checkpoint listeners before saving checkpoint 3196...\n"
     ]
    },
    {
     "name": "stdout",
     "output_type": "stream",
     "text": [
      "INFO:tensorflow:Saving checkpoints for 3196 into /data/heerak/music_vae/train/model.ckpt.\n"
     ]
    },
    {
     "name": "stderr",
     "output_type": "stream",
     "text": [
      "INFO:tensorflow:Saving checkpoints for 3196 into /data/heerak/music_vae/train/model.ckpt.\n"
     ]
    },
    {
     "name": "stdout",
     "output_type": "stream",
     "text": [
      "INFO:tensorflow:Calling checkpoint listeners after saving checkpoint 3196...\n"
     ]
    },
    {
     "name": "stderr",
     "output_type": "stream",
     "text": [
      "INFO:tensorflow:Calling checkpoint listeners after saving checkpoint 3196...\n"
     ]
    },
    {
     "name": "stdout",
     "output_type": "stream",
     "text": [
      "INFO:tensorflow:global_step/sec: 0.921238\n"
     ]
    },
    {
     "name": "stderr",
     "output_type": "stream",
     "text": [
      "INFO:tensorflow:global_step/sec: 0.921238\n"
     ]
    },
    {
     "name": "stdout",
     "output_type": "stream",
     "text": [
      "INFO:tensorflow:global_step = 3200, loss = 95.45941 (108.550 sec)\n"
     ]
    },
    {
     "name": "stderr",
     "output_type": "stream",
     "text": [
      "INFO:tensorflow:global_step = 3200, loss = 95.45941 (108.550 sec)\n"
     ]
    },
    {
     "name": "stdout",
     "output_type": "stream",
     "text": [
      "INFO:tensorflow:Calling checkpoint listeners before saving checkpoint 3252...\n"
     ]
    },
    {
     "name": "stderr",
     "output_type": "stream",
     "text": [
      "INFO:tensorflow:Calling checkpoint listeners before saving checkpoint 3252...\n"
     ]
    },
    {
     "name": "stdout",
     "output_type": "stream",
     "text": [
      "INFO:tensorflow:Saving checkpoints for 3252 into /data/heerak/music_vae/train/model.ckpt.\n"
     ]
    },
    {
     "name": "stderr",
     "output_type": "stream",
     "text": [
      "INFO:tensorflow:Saving checkpoints for 3252 into /data/heerak/music_vae/train/model.ckpt.\n"
     ]
    },
    {
     "name": "stdout",
     "output_type": "stream",
     "text": [
      "INFO:tensorflow:Calling checkpoint listeners after saving checkpoint 3252...\n"
     ]
    },
    {
     "name": "stderr",
     "output_type": "stream",
     "text": [
      "INFO:tensorflow:Calling checkpoint listeners after saving checkpoint 3252...\n"
     ]
    },
    {
     "name": "stdout",
     "output_type": "stream",
     "text": [
      "INFO:tensorflow:global_step/sec: 0.934944\n"
     ]
    },
    {
     "name": "stderr",
     "output_type": "stream",
     "text": [
      "INFO:tensorflow:global_step/sec: 0.934944\n"
     ]
    },
    {
     "name": "stdout",
     "output_type": "stream",
     "text": [
      "INFO:tensorflow:global_step = 3300, loss = 102.97702 (106.958 sec)\n"
     ]
    },
    {
     "name": "stderr",
     "output_type": "stream",
     "text": [
      "INFO:tensorflow:global_step = 3300, loss = 102.97702 (106.958 sec)\n"
     ]
    },
    {
     "name": "stdout",
     "output_type": "stream",
     "text": [
      "INFO:tensorflow:Calling checkpoint listeners before saving checkpoint 3308...\n"
     ]
    },
    {
     "name": "stderr",
     "output_type": "stream",
     "text": [
      "INFO:tensorflow:Calling checkpoint listeners before saving checkpoint 3308...\n"
     ]
    },
    {
     "name": "stdout",
     "output_type": "stream",
     "text": [
      "INFO:tensorflow:Saving checkpoints for 3308 into /data/heerak/music_vae/train/model.ckpt.\n"
     ]
    },
    {
     "name": "stderr",
     "output_type": "stream",
     "text": [
      "INFO:tensorflow:Saving checkpoints for 3308 into /data/heerak/music_vae/train/model.ckpt.\n"
     ]
    },
    {
     "name": "stdout",
     "output_type": "stream",
     "text": [
      "INFO:tensorflow:Calling checkpoint listeners after saving checkpoint 3308...\n"
     ]
    },
    {
     "name": "stderr",
     "output_type": "stream",
     "text": [
      "INFO:tensorflow:Calling checkpoint listeners after saving checkpoint 3308...\n"
     ]
    },
    {
     "name": "stdout",
     "output_type": "stream",
     "text": [
      "INFO:tensorflow:Calling checkpoint listeners before saving checkpoint 3364...\n"
     ]
    },
    {
     "name": "stderr",
     "output_type": "stream",
     "text": [
      "INFO:tensorflow:Calling checkpoint listeners before saving checkpoint 3364...\n"
     ]
    },
    {
     "name": "stdout",
     "output_type": "stream",
     "text": [
      "INFO:tensorflow:Saving checkpoints for 3364 into /data/heerak/music_vae/train/model.ckpt.\n"
     ]
    },
    {
     "name": "stderr",
     "output_type": "stream",
     "text": [
      "INFO:tensorflow:Saving checkpoints for 3364 into /data/heerak/music_vae/train/model.ckpt.\n"
     ]
    },
    {
     "name": "stdout",
     "output_type": "stream",
     "text": [
      "INFO:tensorflow:Calling checkpoint listeners after saving checkpoint 3364...\n"
     ]
    },
    {
     "name": "stderr",
     "output_type": "stream",
     "text": [
      "INFO:tensorflow:Calling checkpoint listeners after saving checkpoint 3364...\n"
     ]
    },
    {
     "name": "stdout",
     "output_type": "stream",
     "text": [
      "INFO:tensorflow:global_step/sec: 0.921997\n"
     ]
    },
    {
     "name": "stderr",
     "output_type": "stream",
     "text": [
      "INFO:tensorflow:global_step/sec: 0.921997\n"
     ]
    },
    {
     "name": "stdout",
     "output_type": "stream",
     "text": [
      "INFO:tensorflow:global_step = 3400, loss = 93.13395 (108.461 sec)\n"
     ]
    },
    {
     "name": "stderr",
     "output_type": "stream",
     "text": [
      "INFO:tensorflow:global_step = 3400, loss = 93.13395 (108.461 sec)\n"
     ]
    },
    {
     "name": "stdout",
     "output_type": "stream",
     "text": [
      "INFO:tensorflow:Calling checkpoint listeners before saving checkpoint 3420...\n"
     ]
    },
    {
     "name": "stderr",
     "output_type": "stream",
     "text": [
      "INFO:tensorflow:Calling checkpoint listeners before saving checkpoint 3420...\n"
     ]
    },
    {
     "name": "stdout",
     "output_type": "stream",
     "text": [
      "INFO:tensorflow:Saving checkpoints for 3420 into /data/heerak/music_vae/train/model.ckpt.\n"
     ]
    },
    {
     "name": "stderr",
     "output_type": "stream",
     "text": [
      "INFO:tensorflow:Saving checkpoints for 3420 into /data/heerak/music_vae/train/model.ckpt.\n"
     ]
    },
    {
     "name": "stdout",
     "output_type": "stream",
     "text": [
      "INFO:tensorflow:Calling checkpoint listeners after saving checkpoint 3420...\n"
     ]
    },
    {
     "name": "stderr",
     "output_type": "stream",
     "text": [
      "INFO:tensorflow:Calling checkpoint listeners after saving checkpoint 3420...\n"
     ]
    },
    {
     "name": "stdout",
     "output_type": "stream",
     "text": [
      "INFO:tensorflow:Calling checkpoint listeners before saving checkpoint 3476...\n"
     ]
    },
    {
     "name": "stderr",
     "output_type": "stream",
     "text": [
      "INFO:tensorflow:Calling checkpoint listeners before saving checkpoint 3476...\n"
     ]
    },
    {
     "name": "stdout",
     "output_type": "stream",
     "text": [
      "INFO:tensorflow:Saving checkpoints for 3476 into /data/heerak/music_vae/train/model.ckpt.\n"
     ]
    },
    {
     "name": "stderr",
     "output_type": "stream",
     "text": [
      "INFO:tensorflow:Saving checkpoints for 3476 into /data/heerak/music_vae/train/model.ckpt.\n"
     ]
    },
    {
     "name": "stdout",
     "output_type": "stream",
     "text": [
      "INFO:tensorflow:Calling checkpoint listeners after saving checkpoint 3476...\n"
     ]
    },
    {
     "name": "stderr",
     "output_type": "stream",
     "text": [
      "INFO:tensorflow:Calling checkpoint listeners after saving checkpoint 3476...\n"
     ]
    },
    {
     "name": "stdout",
     "output_type": "stream",
     "text": [
      "INFO:tensorflow:global_step/sec: 0.91958\n"
     ]
    },
    {
     "name": "stderr",
     "output_type": "stream",
     "text": [
      "INFO:tensorflow:global_step/sec: 0.91958\n"
     ]
    },
    {
     "name": "stdout",
     "output_type": "stream",
     "text": [
      "INFO:tensorflow:global_step = 3500, loss = 96.710014 (108.744 sec)\n"
     ]
    },
    {
     "name": "stderr",
     "output_type": "stream",
     "text": [
      "INFO:tensorflow:global_step = 3500, loss = 96.710014 (108.744 sec)\n"
     ]
    },
    {
     "name": "stdout",
     "output_type": "stream",
     "text": [
      "INFO:tensorflow:Calling checkpoint listeners before saving checkpoint 3532...\n"
     ]
    },
    {
     "name": "stderr",
     "output_type": "stream",
     "text": [
      "INFO:tensorflow:Calling checkpoint listeners before saving checkpoint 3532...\n"
     ]
    },
    {
     "name": "stdout",
     "output_type": "stream",
     "text": [
      "INFO:tensorflow:Saving checkpoints for 3532 into /data/heerak/music_vae/train/model.ckpt.\n"
     ]
    },
    {
     "name": "stderr",
     "output_type": "stream",
     "text": [
      "INFO:tensorflow:Saving checkpoints for 3532 into /data/heerak/music_vae/train/model.ckpt.\n"
     ]
    },
    {
     "name": "stdout",
     "output_type": "stream",
     "text": [
      "INFO:tensorflow:Calling checkpoint listeners after saving checkpoint 3532...\n"
     ]
    },
    {
     "name": "stderr",
     "output_type": "stream",
     "text": [
      "INFO:tensorflow:Calling checkpoint listeners after saving checkpoint 3532...\n"
     ]
    },
    {
     "name": "stdout",
     "output_type": "stream",
     "text": [
      "INFO:tensorflow:Calling checkpoint listeners before saving checkpoint 3588...\n"
     ]
    },
    {
     "name": "stderr",
     "output_type": "stream",
     "text": [
      "INFO:tensorflow:Calling checkpoint listeners before saving checkpoint 3588...\n"
     ]
    },
    {
     "name": "stdout",
     "output_type": "stream",
     "text": [
      "INFO:tensorflow:Saving checkpoints for 3588 into /data/heerak/music_vae/train/model.ckpt.\n"
     ]
    },
    {
     "name": "stderr",
     "output_type": "stream",
     "text": [
      "INFO:tensorflow:Saving checkpoints for 3588 into /data/heerak/music_vae/train/model.ckpt.\n"
     ]
    },
    {
     "name": "stdout",
     "output_type": "stream",
     "text": [
      "INFO:tensorflow:Calling checkpoint listeners after saving checkpoint 3588...\n"
     ]
    },
    {
     "name": "stderr",
     "output_type": "stream",
     "text": [
      "INFO:tensorflow:Calling checkpoint listeners after saving checkpoint 3588...\n"
     ]
    },
    {
     "name": "stdout",
     "output_type": "stream",
     "text": [
      "INFO:tensorflow:global_step/sec: 0.922015\n"
     ]
    },
    {
     "name": "stderr",
     "output_type": "stream",
     "text": [
      "INFO:tensorflow:global_step/sec: 0.922015\n"
     ]
    },
    {
     "name": "stdout",
     "output_type": "stream",
     "text": [
      "INFO:tensorflow:global_step = 3600, loss = 96.93944 (108.458 sec)\n"
     ]
    },
    {
     "name": "stderr",
     "output_type": "stream",
     "text": [
      "INFO:tensorflow:global_step = 3600, loss = 96.93944 (108.458 sec)\n"
     ]
    },
    {
     "name": "stdout",
     "output_type": "stream",
     "text": [
      "INFO:tensorflow:Calling checkpoint listeners before saving checkpoint 3644...\n"
     ]
    },
    {
     "name": "stderr",
     "output_type": "stream",
     "text": [
      "INFO:tensorflow:Calling checkpoint listeners before saving checkpoint 3644...\n"
     ]
    },
    {
     "name": "stdout",
     "output_type": "stream",
     "text": [
      "INFO:tensorflow:Saving checkpoints for 3644 into /data/heerak/music_vae/train/model.ckpt.\n"
     ]
    },
    {
     "name": "stderr",
     "output_type": "stream",
     "text": [
      "INFO:tensorflow:Saving checkpoints for 3644 into /data/heerak/music_vae/train/model.ckpt.\n"
     ]
    },
    {
     "name": "stdout",
     "output_type": "stream",
     "text": [
      "INFO:tensorflow:Calling checkpoint listeners after saving checkpoint 3644...\n"
     ]
    },
    {
     "name": "stderr",
     "output_type": "stream",
     "text": [
      "INFO:tensorflow:Calling checkpoint listeners after saving checkpoint 3644...\n"
     ]
    },
    {
     "name": "stdout",
     "output_type": "stream",
     "text": [
      "INFO:tensorflow:Calling checkpoint listeners before saving checkpoint 3700...\n"
     ]
    },
    {
     "name": "stderr",
     "output_type": "stream",
     "text": [
      "INFO:tensorflow:Calling checkpoint listeners before saving checkpoint 3700...\n"
     ]
    },
    {
     "name": "stdout",
     "output_type": "stream",
     "text": [
      "INFO:tensorflow:Saving checkpoints for 3700 into /data/heerak/music_vae/train/model.ckpt.\n"
     ]
    },
    {
     "name": "stderr",
     "output_type": "stream",
     "text": [
      "INFO:tensorflow:Saving checkpoints for 3700 into /data/heerak/music_vae/train/model.ckpt.\n"
     ]
    },
    {
     "name": "stdout",
     "output_type": "stream",
     "text": [
      "INFO:tensorflow:Calling checkpoint listeners after saving checkpoint 3700...\n"
     ]
    },
    {
     "name": "stderr",
     "output_type": "stream",
     "text": [
      "INFO:tensorflow:Calling checkpoint listeners after saving checkpoint 3700...\n"
     ]
    },
    {
     "name": "stdout",
     "output_type": "stream",
     "text": [
      "INFO:tensorflow:global_step/sec: 0.922316\n"
     ]
    },
    {
     "name": "stderr",
     "output_type": "stream",
     "text": [
      "INFO:tensorflow:global_step/sec: 0.922316\n"
     ]
    },
    {
     "name": "stdout",
     "output_type": "stream",
     "text": [
      "INFO:tensorflow:global_step = 3700, loss = 97.99267 (108.423 sec)\n"
     ]
    },
    {
     "name": "stderr",
     "output_type": "stream",
     "text": [
      "INFO:tensorflow:global_step = 3700, loss = 97.99267 (108.423 sec)\n"
     ]
    },
    {
     "name": "stdout",
     "output_type": "stream",
     "text": [
      "INFO:tensorflow:Calling checkpoint listeners before saving checkpoint 3756...\n"
     ]
    },
    {
     "name": "stderr",
     "output_type": "stream",
     "text": [
      "INFO:tensorflow:Calling checkpoint listeners before saving checkpoint 3756...\n"
     ]
    },
    {
     "name": "stdout",
     "output_type": "stream",
     "text": [
      "INFO:tensorflow:Saving checkpoints for 3756 into /data/heerak/music_vae/train/model.ckpt.\n"
     ]
    },
    {
     "name": "stderr",
     "output_type": "stream",
     "text": [
      "INFO:tensorflow:Saving checkpoints for 3756 into /data/heerak/music_vae/train/model.ckpt.\n"
     ]
    },
    {
     "name": "stdout",
     "output_type": "stream",
     "text": [
      "INFO:tensorflow:Calling checkpoint listeners after saving checkpoint 3756...\n"
     ]
    },
    {
     "name": "stderr",
     "output_type": "stream",
     "text": [
      "INFO:tensorflow:Calling checkpoint listeners after saving checkpoint 3756...\n"
     ]
    },
    {
     "name": "stdout",
     "output_type": "stream",
     "text": [
      "INFO:tensorflow:global_step/sec: 0.92411\n"
     ]
    },
    {
     "name": "stderr",
     "output_type": "stream",
     "text": [
      "INFO:tensorflow:global_step/sec: 0.92411\n"
     ]
    },
    {
     "name": "stdout",
     "output_type": "stream",
     "text": [
      "INFO:tensorflow:global_step = 3800, loss = 92.49469 (108.212 sec)\n"
     ]
    },
    {
     "name": "stderr",
     "output_type": "stream",
     "text": [
      "INFO:tensorflow:global_step = 3800, loss = 92.49469 (108.212 sec)\n"
     ]
    },
    {
     "name": "stdout",
     "output_type": "stream",
     "text": [
      "INFO:tensorflow:Calling checkpoint listeners before saving checkpoint 3811...\n"
     ]
    },
    {
     "name": "stderr",
     "output_type": "stream",
     "text": [
      "INFO:tensorflow:Calling checkpoint listeners before saving checkpoint 3811...\n"
     ]
    },
    {
     "name": "stdout",
     "output_type": "stream",
     "text": [
      "INFO:tensorflow:Saving checkpoints for 3811 into /data/heerak/music_vae/train/model.ckpt.\n"
     ]
    },
    {
     "name": "stderr",
     "output_type": "stream",
     "text": [
      "INFO:tensorflow:Saving checkpoints for 3811 into /data/heerak/music_vae/train/model.ckpt.\n"
     ]
    },
    {
     "name": "stdout",
     "output_type": "stream",
     "text": [
      "INFO:tensorflow:Calling checkpoint listeners after saving checkpoint 3811...\n"
     ]
    },
    {
     "name": "stderr",
     "output_type": "stream",
     "text": [
      "INFO:tensorflow:Calling checkpoint listeners after saving checkpoint 3811...\n"
     ]
    },
    {
     "name": "stdout",
     "output_type": "stream",
     "text": [
      "INFO:tensorflow:Calling checkpoint listeners before saving checkpoint 3866...\n"
     ]
    },
    {
     "name": "stderr",
     "output_type": "stream",
     "text": [
      "INFO:tensorflow:Calling checkpoint listeners before saving checkpoint 3866...\n"
     ]
    },
    {
     "name": "stdout",
     "output_type": "stream",
     "text": [
      "INFO:tensorflow:Saving checkpoints for 3866 into /data/heerak/music_vae/train/model.ckpt.\n"
     ]
    },
    {
     "name": "stderr",
     "output_type": "stream",
     "text": [
      "INFO:tensorflow:Saving checkpoints for 3866 into /data/heerak/music_vae/train/model.ckpt.\n"
     ]
    },
    {
     "name": "stdout",
     "output_type": "stream",
     "text": [
      "INFO:tensorflow:Calling checkpoint listeners after saving checkpoint 3866...\n"
     ]
    },
    {
     "name": "stderr",
     "output_type": "stream",
     "text": [
      "INFO:tensorflow:Calling checkpoint listeners after saving checkpoint 3866...\n"
     ]
    },
    {
     "name": "stdout",
     "output_type": "stream",
     "text": [
      "INFO:tensorflow:global_step/sec: 0.908523\n"
     ]
    },
    {
     "name": "stderr",
     "output_type": "stream",
     "text": [
      "INFO:tensorflow:global_step/sec: 0.908523\n"
     ]
    },
    {
     "name": "stdout",
     "output_type": "stream",
     "text": [
      "INFO:tensorflow:global_step = 3900, loss = 97.210205 (110.069 sec)\n"
     ]
    },
    {
     "name": "stderr",
     "output_type": "stream",
     "text": [
      "INFO:tensorflow:global_step = 3900, loss = 97.210205 (110.069 sec)\n"
     ]
    },
    {
     "name": "stdout",
     "output_type": "stream",
     "text": [
      "INFO:tensorflow:Calling checkpoint listeners before saving checkpoint 3921...\n"
     ]
    },
    {
     "name": "stderr",
     "output_type": "stream",
     "text": [
      "INFO:tensorflow:Calling checkpoint listeners before saving checkpoint 3921...\n"
     ]
    },
    {
     "name": "stdout",
     "output_type": "stream",
     "text": [
      "INFO:tensorflow:Saving checkpoints for 3921 into /data/heerak/music_vae/train/model.ckpt.\n"
     ]
    },
    {
     "name": "stderr",
     "output_type": "stream",
     "text": [
      "INFO:tensorflow:Saving checkpoints for 3921 into /data/heerak/music_vae/train/model.ckpt.\n"
     ]
    },
    {
     "name": "stdout",
     "output_type": "stream",
     "text": [
      "INFO:tensorflow:Calling checkpoint listeners after saving checkpoint 3921...\n"
     ]
    },
    {
     "name": "stderr",
     "output_type": "stream",
     "text": [
      "INFO:tensorflow:Calling checkpoint listeners after saving checkpoint 3921...\n"
     ]
    },
    {
     "name": "stdout",
     "output_type": "stream",
     "text": [
      "INFO:tensorflow:Calling checkpoint listeners before saving checkpoint 3976...\n"
     ]
    },
    {
     "name": "stderr",
     "output_type": "stream",
     "text": [
      "INFO:tensorflow:Calling checkpoint listeners before saving checkpoint 3976...\n"
     ]
    },
    {
     "name": "stdout",
     "output_type": "stream",
     "text": [
      "INFO:tensorflow:Saving checkpoints for 3976 into /data/heerak/music_vae/train/model.ckpt.\n"
     ]
    },
    {
     "name": "stderr",
     "output_type": "stream",
     "text": [
      "INFO:tensorflow:Saving checkpoints for 3976 into /data/heerak/music_vae/train/model.ckpt.\n"
     ]
    },
    {
     "name": "stdout",
     "output_type": "stream",
     "text": [
      "INFO:tensorflow:Calling checkpoint listeners after saving checkpoint 3976...\n"
     ]
    },
    {
     "name": "stderr",
     "output_type": "stream",
     "text": [
      "INFO:tensorflow:Calling checkpoint listeners after saving checkpoint 3976...\n"
     ]
    },
    {
     "name": "stdout",
     "output_type": "stream",
     "text": [
      "INFO:tensorflow:global_step/sec: 0.906878\n"
     ]
    },
    {
     "name": "stderr",
     "output_type": "stream",
     "text": [
      "INFO:tensorflow:global_step/sec: 0.906878\n"
     ]
    },
    {
     "name": "stdout",
     "output_type": "stream",
     "text": [
      "INFO:tensorflow:global_step = 4000, loss = 82.56993 (110.269 sec)\n"
     ]
    },
    {
     "name": "stderr",
     "output_type": "stream",
     "text": [
      "INFO:tensorflow:global_step = 4000, loss = 82.56993 (110.269 sec)\n"
     ]
    },
    {
     "name": "stdout",
     "output_type": "stream",
     "text": [
      "INFO:tensorflow:Calling checkpoint listeners before saving checkpoint 4031...\n"
     ]
    },
    {
     "name": "stderr",
     "output_type": "stream",
     "text": [
      "INFO:tensorflow:Calling checkpoint listeners before saving checkpoint 4031...\n"
     ]
    },
    {
     "name": "stdout",
     "output_type": "stream",
     "text": [
      "INFO:tensorflow:Saving checkpoints for 4031 into /data/heerak/music_vae/train/model.ckpt.\n"
     ]
    },
    {
     "name": "stderr",
     "output_type": "stream",
     "text": [
      "INFO:tensorflow:Saving checkpoints for 4031 into /data/heerak/music_vae/train/model.ckpt.\n"
     ]
    },
    {
     "name": "stdout",
     "output_type": "stream",
     "text": [
      "INFO:tensorflow:Calling checkpoint listeners after saving checkpoint 4031...\n"
     ]
    },
    {
     "name": "stderr",
     "output_type": "stream",
     "text": [
      "INFO:tensorflow:Calling checkpoint listeners after saving checkpoint 4031...\n"
     ]
    },
    {
     "name": "stdout",
     "output_type": "stream",
     "text": [
      "INFO:tensorflow:Calling checkpoint listeners before saving checkpoint 4086...\n"
     ]
    },
    {
     "name": "stderr",
     "output_type": "stream",
     "text": [
      "INFO:tensorflow:Calling checkpoint listeners before saving checkpoint 4086...\n"
     ]
    },
    {
     "name": "stdout",
     "output_type": "stream",
     "text": [
      "INFO:tensorflow:Saving checkpoints for 4086 into /data/heerak/music_vae/train/model.ckpt.\n"
     ]
    },
    {
     "name": "stderr",
     "output_type": "stream",
     "text": [
      "INFO:tensorflow:Saving checkpoints for 4086 into /data/heerak/music_vae/train/model.ckpt.\n"
     ]
    },
    {
     "name": "stdout",
     "output_type": "stream",
     "text": [
      "INFO:tensorflow:Calling checkpoint listeners after saving checkpoint 4086...\n"
     ]
    },
    {
     "name": "stderr",
     "output_type": "stream",
     "text": [
      "INFO:tensorflow:Calling checkpoint listeners after saving checkpoint 4086...\n"
     ]
    },
    {
     "name": "stdout",
     "output_type": "stream",
     "text": [
      "INFO:tensorflow:global_step/sec: 0.906268\n"
     ]
    },
    {
     "name": "stderr",
     "output_type": "stream",
     "text": [
      "INFO:tensorflow:global_step/sec: 0.906268\n"
     ]
    },
    {
     "name": "stdout",
     "output_type": "stream",
     "text": [
      "INFO:tensorflow:global_step = 4100, loss = 92.09192 (110.342 sec)\n"
     ]
    },
    {
     "name": "stderr",
     "output_type": "stream",
     "text": [
      "INFO:tensorflow:global_step = 4100, loss = 92.09192 (110.342 sec)\n"
     ]
    },
    {
     "name": "stdout",
     "output_type": "stream",
     "text": [
      "INFO:tensorflow:Calling checkpoint listeners before saving checkpoint 4141...\n"
     ]
    },
    {
     "name": "stderr",
     "output_type": "stream",
     "text": [
      "INFO:tensorflow:Calling checkpoint listeners before saving checkpoint 4141...\n"
     ]
    },
    {
     "name": "stdout",
     "output_type": "stream",
     "text": [
      "INFO:tensorflow:Saving checkpoints for 4141 into /data/heerak/music_vae/train/model.ckpt.\n"
     ]
    },
    {
     "name": "stderr",
     "output_type": "stream",
     "text": [
      "INFO:tensorflow:Saving checkpoints for 4141 into /data/heerak/music_vae/train/model.ckpt.\n"
     ]
    },
    {
     "name": "stdout",
     "output_type": "stream",
     "text": [
      "INFO:tensorflow:Calling checkpoint listeners after saving checkpoint 4141...\n"
     ]
    },
    {
     "name": "stderr",
     "output_type": "stream",
     "text": [
      "INFO:tensorflow:Calling checkpoint listeners after saving checkpoint 4141...\n"
     ]
    },
    {
     "name": "stdout",
     "output_type": "stream",
     "text": [
      "INFO:tensorflow:Calling checkpoint listeners before saving checkpoint 4196...\n"
     ]
    },
    {
     "name": "stderr",
     "output_type": "stream",
     "text": [
      "INFO:tensorflow:Calling checkpoint listeners before saving checkpoint 4196...\n"
     ]
    },
    {
     "name": "stdout",
     "output_type": "stream",
     "text": [
      "INFO:tensorflow:Saving checkpoints for 4196 into /data/heerak/music_vae/train/model.ckpt.\n"
     ]
    },
    {
     "name": "stderr",
     "output_type": "stream",
     "text": [
      "INFO:tensorflow:Saving checkpoints for 4196 into /data/heerak/music_vae/train/model.ckpt.\n"
     ]
    },
    {
     "name": "stdout",
     "output_type": "stream",
     "text": [
      "INFO:tensorflow:Calling checkpoint listeners after saving checkpoint 4196...\n"
     ]
    },
    {
     "name": "stderr",
     "output_type": "stream",
     "text": [
      "INFO:tensorflow:Calling checkpoint listeners after saving checkpoint 4196...\n"
     ]
    },
    {
     "name": "stdout",
     "output_type": "stream",
     "text": [
      "INFO:tensorflow:global_step/sec: 0.908045\n"
     ]
    },
    {
     "name": "stderr",
     "output_type": "stream",
     "text": [
      "INFO:tensorflow:global_step/sec: 0.908045\n"
     ]
    },
    {
     "name": "stdout",
     "output_type": "stream",
     "text": [
      "INFO:tensorflow:global_step = 4200, loss = 83.98425 (110.127 sec)\n"
     ]
    },
    {
     "name": "stderr",
     "output_type": "stream",
     "text": [
      "INFO:tensorflow:global_step = 4200, loss = 83.98425 (110.127 sec)\n"
     ]
    },
    {
     "name": "stdout",
     "output_type": "stream",
     "text": [
      "INFO:tensorflow:Calling checkpoint listeners before saving checkpoint 4251...\n"
     ]
    },
    {
     "name": "stderr",
     "output_type": "stream",
     "text": [
      "INFO:tensorflow:Calling checkpoint listeners before saving checkpoint 4251...\n"
     ]
    },
    {
     "name": "stdout",
     "output_type": "stream",
     "text": [
      "INFO:tensorflow:Saving checkpoints for 4251 into /data/heerak/music_vae/train/model.ckpt.\n"
     ]
    },
    {
     "name": "stderr",
     "output_type": "stream",
     "text": [
      "INFO:tensorflow:Saving checkpoints for 4251 into /data/heerak/music_vae/train/model.ckpt.\n"
     ]
    },
    {
     "name": "stdout",
     "output_type": "stream",
     "text": [
      "INFO:tensorflow:Calling checkpoint listeners after saving checkpoint 4251...\n"
     ]
    },
    {
     "name": "stderr",
     "output_type": "stream",
     "text": [
      "INFO:tensorflow:Calling checkpoint listeners after saving checkpoint 4251...\n"
     ]
    },
    {
     "name": "stdout",
     "output_type": "stream",
     "text": [
      "INFO:tensorflow:global_step/sec: 0.920204\n"
     ]
    },
    {
     "name": "stderr",
     "output_type": "stream",
     "text": [
      "INFO:tensorflow:global_step/sec: 0.920204\n"
     ]
    },
    {
     "name": "stdout",
     "output_type": "stream",
     "text": [
      "INFO:tensorflow:global_step = 4300, loss = 91.671265 (108.671 sec)\n"
     ]
    },
    {
     "name": "stderr",
     "output_type": "stream",
     "text": [
      "INFO:tensorflow:global_step = 4300, loss = 91.671265 (108.671 sec)\n"
     ]
    },
    {
     "name": "stdout",
     "output_type": "stream",
     "text": [
      "INFO:tensorflow:Calling checkpoint listeners before saving checkpoint 4306...\n"
     ]
    },
    {
     "name": "stderr",
     "output_type": "stream",
     "text": [
      "INFO:tensorflow:Calling checkpoint listeners before saving checkpoint 4306...\n"
     ]
    },
    {
     "name": "stdout",
     "output_type": "stream",
     "text": [
      "INFO:tensorflow:Saving checkpoints for 4306 into /data/heerak/music_vae/train/model.ckpt.\n"
     ]
    },
    {
     "name": "stderr",
     "output_type": "stream",
     "text": [
      "INFO:tensorflow:Saving checkpoints for 4306 into /data/heerak/music_vae/train/model.ckpt.\n"
     ]
    },
    {
     "name": "stdout",
     "output_type": "stream",
     "text": [
      "INFO:tensorflow:Calling checkpoint listeners after saving checkpoint 4306...\n"
     ]
    },
    {
     "name": "stderr",
     "output_type": "stream",
     "text": [
      "INFO:tensorflow:Calling checkpoint listeners after saving checkpoint 4306...\n"
     ]
    },
    {
     "name": "stdout",
     "output_type": "stream",
     "text": [
      "INFO:tensorflow:Calling checkpoint listeners before saving checkpoint 4361...\n"
     ]
    },
    {
     "name": "stderr",
     "output_type": "stream",
     "text": [
      "INFO:tensorflow:Calling checkpoint listeners before saving checkpoint 4361...\n"
     ]
    },
    {
     "name": "stdout",
     "output_type": "stream",
     "text": [
      "INFO:tensorflow:Saving checkpoints for 4361 into /data/heerak/music_vae/train/model.ckpt.\n"
     ]
    },
    {
     "name": "stderr",
     "output_type": "stream",
     "text": [
      "INFO:tensorflow:Saving checkpoints for 4361 into /data/heerak/music_vae/train/model.ckpt.\n"
     ]
    },
    {
     "name": "stdout",
     "output_type": "stream",
     "text": [
      "INFO:tensorflow:Calling checkpoint listeners after saving checkpoint 4361...\n"
     ]
    },
    {
     "name": "stderr",
     "output_type": "stream",
     "text": [
      "INFO:tensorflow:Calling checkpoint listeners after saving checkpoint 4361...\n"
     ]
    },
    {
     "name": "stdout",
     "output_type": "stream",
     "text": [
      "INFO:tensorflow:global_step/sec: 0.908107\n"
     ]
    },
    {
     "name": "stderr",
     "output_type": "stream",
     "text": [
      "INFO:tensorflow:global_step/sec: 0.908107\n"
     ]
    },
    {
     "name": "stdout",
     "output_type": "stream",
     "text": [
      "INFO:tensorflow:global_step = 4400, loss = 79.373886 (110.119 sec)\n"
     ]
    },
    {
     "name": "stderr",
     "output_type": "stream",
     "text": [
      "INFO:tensorflow:global_step = 4400, loss = 79.373886 (110.119 sec)\n"
     ]
    },
    {
     "name": "stdout",
     "output_type": "stream",
     "text": [
      "INFO:tensorflow:Calling checkpoint listeners before saving checkpoint 4416...\n"
     ]
    },
    {
     "name": "stderr",
     "output_type": "stream",
     "text": [
      "INFO:tensorflow:Calling checkpoint listeners before saving checkpoint 4416...\n"
     ]
    },
    {
     "name": "stdout",
     "output_type": "stream",
     "text": [
      "INFO:tensorflow:Saving checkpoints for 4416 into /data/heerak/music_vae/train/model.ckpt.\n"
     ]
    },
    {
     "name": "stderr",
     "output_type": "stream",
     "text": [
      "INFO:tensorflow:Saving checkpoints for 4416 into /data/heerak/music_vae/train/model.ckpt.\n"
     ]
    },
    {
     "name": "stdout",
     "output_type": "stream",
     "text": [
      "INFO:tensorflow:Calling checkpoint listeners after saving checkpoint 4416...\n"
     ]
    },
    {
     "name": "stderr",
     "output_type": "stream",
     "text": [
      "INFO:tensorflow:Calling checkpoint listeners after saving checkpoint 4416...\n"
     ]
    },
    {
     "name": "stdout",
     "output_type": "stream",
     "text": [
      "INFO:tensorflow:Calling checkpoint listeners before saving checkpoint 4471...\n"
     ]
    },
    {
     "name": "stderr",
     "output_type": "stream",
     "text": [
      "INFO:tensorflow:Calling checkpoint listeners before saving checkpoint 4471...\n"
     ]
    },
    {
     "name": "stdout",
     "output_type": "stream",
     "text": [
      "INFO:tensorflow:Saving checkpoints for 4471 into /data/heerak/music_vae/train/model.ckpt.\n"
     ]
    },
    {
     "name": "stderr",
     "output_type": "stream",
     "text": [
      "INFO:tensorflow:Saving checkpoints for 4471 into /data/heerak/music_vae/train/model.ckpt.\n"
     ]
    },
    {
     "name": "stdout",
     "output_type": "stream",
     "text": [
      "INFO:tensorflow:Calling checkpoint listeners after saving checkpoint 4471...\n"
     ]
    },
    {
     "name": "stderr",
     "output_type": "stream",
     "text": [
      "INFO:tensorflow:Calling checkpoint listeners after saving checkpoint 4471...\n"
     ]
    },
    {
     "name": "stdout",
     "output_type": "stream",
     "text": [
      "INFO:tensorflow:global_step/sec: 0.907085\n"
     ]
    },
    {
     "name": "stderr",
     "output_type": "stream",
     "text": [
      "INFO:tensorflow:global_step/sec: 0.907085\n"
     ]
    },
    {
     "name": "stdout",
     "output_type": "stream",
     "text": [
      "INFO:tensorflow:global_step = 4500, loss = 89.17119 (110.244 sec)\n"
     ]
    },
    {
     "name": "stderr",
     "output_type": "stream",
     "text": [
      "INFO:tensorflow:global_step = 4500, loss = 89.17119 (110.244 sec)\n"
     ]
    },
    {
     "name": "stdout",
     "output_type": "stream",
     "text": [
      "INFO:tensorflow:Calling checkpoint listeners before saving checkpoint 4526...\n"
     ]
    },
    {
     "name": "stderr",
     "output_type": "stream",
     "text": [
      "INFO:tensorflow:Calling checkpoint listeners before saving checkpoint 4526...\n"
     ]
    },
    {
     "name": "stdout",
     "output_type": "stream",
     "text": [
      "INFO:tensorflow:Saving checkpoints for 4526 into /data/heerak/music_vae/train/model.ckpt.\n"
     ]
    },
    {
     "name": "stderr",
     "output_type": "stream",
     "text": [
      "INFO:tensorflow:Saving checkpoints for 4526 into /data/heerak/music_vae/train/model.ckpt.\n"
     ]
    },
    {
     "name": "stdout",
     "output_type": "stream",
     "text": [
      "INFO:tensorflow:Calling checkpoint listeners after saving checkpoint 4526...\n"
     ]
    },
    {
     "name": "stderr",
     "output_type": "stream",
     "text": [
      "INFO:tensorflow:Calling checkpoint listeners after saving checkpoint 4526...\n"
     ]
    },
    {
     "name": "stdout",
     "output_type": "stream",
     "text": [
      "INFO:tensorflow:Calling checkpoint listeners before saving checkpoint 4581...\n"
     ]
    },
    {
     "name": "stderr",
     "output_type": "stream",
     "text": [
      "INFO:tensorflow:Calling checkpoint listeners before saving checkpoint 4581...\n"
     ]
    },
    {
     "name": "stdout",
     "output_type": "stream",
     "text": [
      "INFO:tensorflow:Saving checkpoints for 4581 into /data/heerak/music_vae/train/model.ckpt.\n"
     ]
    },
    {
     "name": "stderr",
     "output_type": "stream",
     "text": [
      "INFO:tensorflow:Saving checkpoints for 4581 into /data/heerak/music_vae/train/model.ckpt.\n"
     ]
    },
    {
     "name": "stdout",
     "output_type": "stream",
     "text": [
      "INFO:tensorflow:Calling checkpoint listeners after saving checkpoint 4581...\n"
     ]
    },
    {
     "name": "stderr",
     "output_type": "stream",
     "text": [
      "INFO:tensorflow:Calling checkpoint listeners after saving checkpoint 4581...\n"
     ]
    },
    {
     "name": "stdout",
     "output_type": "stream",
     "text": [
      "INFO:tensorflow:global_step/sec: 0.905552\n"
     ]
    },
    {
     "name": "stderr",
     "output_type": "stream",
     "text": [
      "INFO:tensorflow:global_step/sec: 0.905552\n"
     ]
    },
    {
     "name": "stdout",
     "output_type": "stream",
     "text": [
      "INFO:tensorflow:global_step = 4600, loss = 83.22566 (110.429 sec)\n"
     ]
    },
    {
     "name": "stderr",
     "output_type": "stream",
     "text": [
      "INFO:tensorflow:global_step = 4600, loss = 83.22566 (110.429 sec)\n"
     ]
    },
    {
     "name": "stdout",
     "output_type": "stream",
     "text": [
      "INFO:tensorflow:Calling checkpoint listeners before saving checkpoint 4636...\n"
     ]
    },
    {
     "name": "stderr",
     "output_type": "stream",
     "text": [
      "INFO:tensorflow:Calling checkpoint listeners before saving checkpoint 4636...\n"
     ]
    },
    {
     "name": "stdout",
     "output_type": "stream",
     "text": [
      "INFO:tensorflow:Saving checkpoints for 4636 into /data/heerak/music_vae/train/model.ckpt.\n"
     ]
    },
    {
     "name": "stderr",
     "output_type": "stream",
     "text": [
      "INFO:tensorflow:Saving checkpoints for 4636 into /data/heerak/music_vae/train/model.ckpt.\n"
     ]
    },
    {
     "name": "stdout",
     "output_type": "stream",
     "text": [
      "INFO:tensorflow:Calling checkpoint listeners after saving checkpoint 4636...\n"
     ]
    },
    {
     "name": "stderr",
     "output_type": "stream",
     "text": [
      "INFO:tensorflow:Calling checkpoint listeners after saving checkpoint 4636...\n"
     ]
    },
    {
     "name": "stdout",
     "output_type": "stream",
     "text": [
      "INFO:tensorflow:Calling checkpoint listeners before saving checkpoint 4691...\n"
     ]
    },
    {
     "name": "stderr",
     "output_type": "stream",
     "text": [
      "INFO:tensorflow:Calling checkpoint listeners before saving checkpoint 4691...\n"
     ]
    },
    {
     "name": "stdout",
     "output_type": "stream",
     "text": [
      "INFO:tensorflow:Saving checkpoints for 4691 into /data/heerak/music_vae/train/model.ckpt.\n"
     ]
    },
    {
     "name": "stderr",
     "output_type": "stream",
     "text": [
      "INFO:tensorflow:Saving checkpoints for 4691 into /data/heerak/music_vae/train/model.ckpt.\n"
     ]
    },
    {
     "name": "stdout",
     "output_type": "stream",
     "text": [
      "INFO:tensorflow:Calling checkpoint listeners after saving checkpoint 4691...\n"
     ]
    },
    {
     "name": "stderr",
     "output_type": "stream",
     "text": [
      "INFO:tensorflow:Calling checkpoint listeners after saving checkpoint 4691...\n"
     ]
    },
    {
     "name": "stdout",
     "output_type": "stream",
     "text": [
      "INFO:tensorflow:global_step/sec: 0.90822\n"
     ]
    },
    {
     "name": "stderr",
     "output_type": "stream",
     "text": [
      "INFO:tensorflow:global_step/sec: 0.90822\n"
     ]
    },
    {
     "name": "stdout",
     "output_type": "stream",
     "text": [
      "INFO:tensorflow:global_step = 4700, loss = 88.60597 (110.106 sec)\n"
     ]
    },
    {
     "name": "stderr",
     "output_type": "stream",
     "text": [
      "INFO:tensorflow:global_step = 4700, loss = 88.60597 (110.106 sec)\n"
     ]
    },
    {
     "name": "stdout",
     "output_type": "stream",
     "text": [
      "INFO:tensorflow:Calling checkpoint listeners before saving checkpoint 4746...\n"
     ]
    },
    {
     "name": "stderr",
     "output_type": "stream",
     "text": [
      "INFO:tensorflow:Calling checkpoint listeners before saving checkpoint 4746...\n"
     ]
    },
    {
     "name": "stdout",
     "output_type": "stream",
     "text": [
      "INFO:tensorflow:Saving checkpoints for 4746 into /data/heerak/music_vae/train/model.ckpt.\n"
     ]
    },
    {
     "name": "stderr",
     "output_type": "stream",
     "text": [
      "INFO:tensorflow:Saving checkpoints for 4746 into /data/heerak/music_vae/train/model.ckpt.\n"
     ]
    },
    {
     "name": "stdout",
     "output_type": "stream",
     "text": [
      "INFO:tensorflow:Calling checkpoint listeners after saving checkpoint 4746...\n"
     ]
    },
    {
     "name": "stderr",
     "output_type": "stream",
     "text": [
      "INFO:tensorflow:Calling checkpoint listeners after saving checkpoint 4746...\n"
     ]
    },
    {
     "name": "stdout",
     "output_type": "stream",
     "text": [
      "INFO:tensorflow:global_step/sec: 0.918901\n"
     ]
    },
    {
     "name": "stderr",
     "output_type": "stream",
     "text": [
      "INFO:tensorflow:global_step/sec: 0.918901\n"
     ]
    },
    {
     "name": "stdout",
     "output_type": "stream",
     "text": [
      "INFO:tensorflow:Calling checkpoint listeners before saving checkpoint 4801...\n"
     ]
    },
    {
     "name": "stderr",
     "output_type": "stream",
     "text": [
      "INFO:tensorflow:Calling checkpoint listeners before saving checkpoint 4801...\n"
     ]
    },
    {
     "name": "stdout",
     "output_type": "stream",
     "text": [
      "INFO:tensorflow:Saving checkpoints for 4801 into /data/heerak/music_vae/train/model.ckpt.\n"
     ]
    },
    {
     "name": "stderr",
     "output_type": "stream",
     "text": [
      "INFO:tensorflow:Saving checkpoints for 4801 into /data/heerak/music_vae/train/model.ckpt.\n"
     ]
    },
    {
     "name": "stdout",
     "output_type": "stream",
     "text": [
      "INFO:tensorflow:Calling checkpoint listeners after saving checkpoint 4801...\n"
     ]
    },
    {
     "name": "stderr",
     "output_type": "stream",
     "text": [
      "INFO:tensorflow:Calling checkpoint listeners after saving checkpoint 4801...\n"
     ]
    },
    {
     "name": "stdout",
     "output_type": "stream",
     "text": [
      "INFO:tensorflow:global_step = 4800, loss = 79.95537 (110.252 sec)\n"
     ]
    },
    {
     "name": "stderr",
     "output_type": "stream",
     "text": [
      "INFO:tensorflow:global_step = 4800, loss = 79.95537 (110.252 sec)\n"
     ]
    },
    {
     "name": "stdout",
     "output_type": "stream",
     "text": [
      "INFO:tensorflow:Calling checkpoint listeners before saving checkpoint 4856...\n"
     ]
    },
    {
     "name": "stderr",
     "output_type": "stream",
     "text": [
      "INFO:tensorflow:Calling checkpoint listeners before saving checkpoint 4856...\n"
     ]
    },
    {
     "name": "stdout",
     "output_type": "stream",
     "text": [
      "INFO:tensorflow:Saving checkpoints for 4856 into /data/heerak/music_vae/train/model.ckpt.\n"
     ]
    },
    {
     "name": "stderr",
     "output_type": "stream",
     "text": [
      "INFO:tensorflow:Saving checkpoints for 4856 into /data/heerak/music_vae/train/model.ckpt.\n"
     ]
    },
    {
     "name": "stdout",
     "output_type": "stream",
     "text": [
      "INFO:tensorflow:Calling checkpoint listeners after saving checkpoint 4856...\n"
     ]
    },
    {
     "name": "stderr",
     "output_type": "stream",
     "text": [
      "INFO:tensorflow:Calling checkpoint listeners after saving checkpoint 4856...\n"
     ]
    },
    {
     "name": "stdout",
     "output_type": "stream",
     "text": [
      "INFO:tensorflow:global_step/sec: 0.906525\n"
     ]
    },
    {
     "name": "stderr",
     "output_type": "stream",
     "text": [
      "INFO:tensorflow:global_step/sec: 0.906525\n"
     ]
    },
    {
     "name": "stdout",
     "output_type": "stream",
     "text": [
      "INFO:tensorflow:global_step = 4900, loss = 89.78305 (108.885 sec)\n"
     ]
    },
    {
     "name": "stderr",
     "output_type": "stream",
     "text": [
      "INFO:tensorflow:global_step = 4900, loss = 89.78305 (108.885 sec)\n"
     ]
    },
    {
     "name": "stdout",
     "output_type": "stream",
     "text": [
      "INFO:tensorflow:Calling checkpoint listeners before saving checkpoint 4911...\n"
     ]
    },
    {
     "name": "stderr",
     "output_type": "stream",
     "text": [
      "INFO:tensorflow:Calling checkpoint listeners before saving checkpoint 4911...\n"
     ]
    },
    {
     "name": "stdout",
     "output_type": "stream",
     "text": [
      "INFO:tensorflow:Saving checkpoints for 4911 into /data/heerak/music_vae/train/model.ckpt.\n"
     ]
    },
    {
     "name": "stderr",
     "output_type": "stream",
     "text": [
      "INFO:tensorflow:Saving checkpoints for 4911 into /data/heerak/music_vae/train/model.ckpt.\n"
     ]
    },
    {
     "name": "stdout",
     "output_type": "stream",
     "text": [
      "INFO:tensorflow:Calling checkpoint listeners after saving checkpoint 4911...\n"
     ]
    },
    {
     "name": "stderr",
     "output_type": "stream",
     "text": [
      "INFO:tensorflow:Calling checkpoint listeners after saving checkpoint 4911...\n"
     ]
    },
    {
     "name": "stdout",
     "output_type": "stream",
     "text": [
      "INFO:tensorflow:Calling checkpoint listeners before saving checkpoint 4966...\n"
     ]
    },
    {
     "name": "stderr",
     "output_type": "stream",
     "text": [
      "INFO:tensorflow:Calling checkpoint listeners before saving checkpoint 4966...\n"
     ]
    },
    {
     "name": "stdout",
     "output_type": "stream",
     "text": [
      "INFO:tensorflow:Saving checkpoints for 4966 into /data/heerak/music_vae/train/model.ckpt.\n"
     ]
    },
    {
     "name": "stderr",
     "output_type": "stream",
     "text": [
      "INFO:tensorflow:Saving checkpoints for 4966 into /data/heerak/music_vae/train/model.ckpt.\n"
     ]
    },
    {
     "name": "stdout",
     "output_type": "stream",
     "text": [
      "INFO:tensorflow:Calling checkpoint listeners after saving checkpoint 4966...\n"
     ]
    },
    {
     "name": "stderr",
     "output_type": "stream",
     "text": [
      "INFO:tensorflow:Calling checkpoint listeners after saving checkpoint 4966...\n"
     ]
    },
    {
     "name": "stdout",
     "output_type": "stream",
     "text": [
      "INFO:tensorflow:global_step/sec: 0.906989\n"
     ]
    },
    {
     "name": "stderr",
     "output_type": "stream",
     "text": [
      "INFO:tensorflow:global_step/sec: 0.906989\n"
     ]
    },
    {
     "name": "stdout",
     "output_type": "stream",
     "text": [
      "INFO:tensorflow:global_step = 5000, loss = 76.75084 (110.254 sec)\n"
     ]
    },
    {
     "name": "stderr",
     "output_type": "stream",
     "text": [
      "INFO:tensorflow:global_step = 5000, loss = 76.75084 (110.254 sec)\n"
     ]
    },
    {
     "name": "stdout",
     "output_type": "stream",
     "text": [
      "INFO:tensorflow:Calling checkpoint listeners before saving checkpoint 5021...\n"
     ]
    },
    {
     "name": "stderr",
     "output_type": "stream",
     "text": [
      "INFO:tensorflow:Calling checkpoint listeners before saving checkpoint 5021...\n"
     ]
    },
    {
     "name": "stdout",
     "output_type": "stream",
     "text": [
      "INFO:tensorflow:Saving checkpoints for 5021 into /data/heerak/music_vae/train/model.ckpt.\n"
     ]
    },
    {
     "name": "stderr",
     "output_type": "stream",
     "text": [
      "INFO:tensorflow:Saving checkpoints for 5021 into /data/heerak/music_vae/train/model.ckpt.\n"
     ]
    },
    {
     "name": "stdout",
     "output_type": "stream",
     "text": [
      "INFO:tensorflow:Calling checkpoint listeners after saving checkpoint 5021...\n"
     ]
    },
    {
     "name": "stderr",
     "output_type": "stream",
     "text": [
      "INFO:tensorflow:Calling checkpoint listeners after saving checkpoint 5021...\n"
     ]
    },
    {
     "name": "stdout",
     "output_type": "stream",
     "text": [
      "INFO:tensorflow:Calling checkpoint listeners before saving checkpoint 5076...\n"
     ]
    },
    {
     "name": "stderr",
     "output_type": "stream",
     "text": [
      "INFO:tensorflow:Calling checkpoint listeners before saving checkpoint 5076...\n"
     ]
    },
    {
     "name": "stdout",
     "output_type": "stream",
     "text": [
      "INFO:tensorflow:Saving checkpoints for 5076 into /data/heerak/music_vae/train/model.ckpt.\n"
     ]
    },
    {
     "name": "stderr",
     "output_type": "stream",
     "text": [
      "INFO:tensorflow:Saving checkpoints for 5076 into /data/heerak/music_vae/train/model.ckpt.\n"
     ]
    },
    {
     "name": "stdout",
     "output_type": "stream",
     "text": [
      "INFO:tensorflow:Calling checkpoint listeners after saving checkpoint 5076...\n"
     ]
    },
    {
     "name": "stderr",
     "output_type": "stream",
     "text": [
      "INFO:tensorflow:Calling checkpoint listeners after saving checkpoint 5076...\n"
     ]
    },
    {
     "name": "stdout",
     "output_type": "stream",
     "text": [
      "INFO:tensorflow:global_step/sec: 0.906586\n"
     ]
    },
    {
     "name": "stderr",
     "output_type": "stream",
     "text": [
      "INFO:tensorflow:global_step/sec: 0.906586\n"
     ]
    },
    {
     "name": "stdout",
     "output_type": "stream",
     "text": [
      "INFO:tensorflow:global_step = 5100, loss = 84.44655 (110.304 sec)\n"
     ]
    },
    {
     "name": "stderr",
     "output_type": "stream",
     "text": [
      "INFO:tensorflow:global_step = 5100, loss = 84.44655 (110.304 sec)\n"
     ]
    },
    {
     "name": "stdout",
     "output_type": "stream",
     "text": [
      "INFO:tensorflow:Calling checkpoint listeners before saving checkpoint 5131...\n"
     ]
    },
    {
     "name": "stderr",
     "output_type": "stream",
     "text": [
      "INFO:tensorflow:Calling checkpoint listeners before saving checkpoint 5131...\n"
     ]
    },
    {
     "name": "stdout",
     "output_type": "stream",
     "text": [
      "INFO:tensorflow:Saving checkpoints for 5131 into /data/heerak/music_vae/train/model.ckpt.\n"
     ]
    },
    {
     "name": "stderr",
     "output_type": "stream",
     "text": [
      "INFO:tensorflow:Saving checkpoints for 5131 into /data/heerak/music_vae/train/model.ckpt.\n"
     ]
    },
    {
     "name": "stdout",
     "output_type": "stream",
     "text": [
      "INFO:tensorflow:Calling checkpoint listeners after saving checkpoint 5131...\n"
     ]
    },
    {
     "name": "stderr",
     "output_type": "stream",
     "text": [
      "INFO:tensorflow:Calling checkpoint listeners after saving checkpoint 5131...\n"
     ]
    },
    {
     "name": "stdout",
     "output_type": "stream",
     "text": [
      "INFO:tensorflow:Calling checkpoint listeners before saving checkpoint 5186...\n"
     ]
    },
    {
     "name": "stderr",
     "output_type": "stream",
     "text": [
      "INFO:tensorflow:Calling checkpoint listeners before saving checkpoint 5186...\n"
     ]
    },
    {
     "name": "stdout",
     "output_type": "stream",
     "text": [
      "INFO:tensorflow:Saving checkpoints for 5186 into /data/heerak/music_vae/train/model.ckpt.\n"
     ]
    },
    {
     "name": "stderr",
     "output_type": "stream",
     "text": [
      "INFO:tensorflow:Saving checkpoints for 5186 into /data/heerak/music_vae/train/model.ckpt.\n"
     ]
    },
    {
     "name": "stdout",
     "output_type": "stream",
     "text": [
      "INFO:tensorflow:Calling checkpoint listeners after saving checkpoint 5186...\n"
     ]
    },
    {
     "name": "stderr",
     "output_type": "stream",
     "text": [
      "INFO:tensorflow:Calling checkpoint listeners after saving checkpoint 5186...\n"
     ]
    },
    {
     "name": "stdout",
     "output_type": "stream",
     "text": [
      "INFO:tensorflow:global_step/sec: 0.907436\n"
     ]
    },
    {
     "name": "stderr",
     "output_type": "stream",
     "text": [
      "INFO:tensorflow:global_step/sec: 0.907436\n"
     ]
    },
    {
     "name": "stdout",
     "output_type": "stream",
     "text": [
      "INFO:tensorflow:global_step = 5200, loss = 73.046745 (110.203 sec)\n"
     ]
    },
    {
     "name": "stderr",
     "output_type": "stream",
     "text": [
      "INFO:tensorflow:global_step = 5200, loss = 73.046745 (110.203 sec)\n"
     ]
    },
    {
     "name": "stdout",
     "output_type": "stream",
     "text": [
      "INFO:tensorflow:Calling checkpoint listeners before saving checkpoint 5241...\n"
     ]
    },
    {
     "name": "stderr",
     "output_type": "stream",
     "text": [
      "INFO:tensorflow:Calling checkpoint listeners before saving checkpoint 5241...\n"
     ]
    },
    {
     "name": "stdout",
     "output_type": "stream",
     "text": [
      "INFO:tensorflow:Saving checkpoints for 5241 into /data/heerak/music_vae/train/model.ckpt.\n"
     ]
    },
    {
     "name": "stderr",
     "output_type": "stream",
     "text": [
      "INFO:tensorflow:Saving checkpoints for 5241 into /data/heerak/music_vae/train/model.ckpt.\n"
     ]
    },
    {
     "name": "stdout",
     "output_type": "stream",
     "text": [
      "INFO:tensorflow:Calling checkpoint listeners after saving checkpoint 5241...\n"
     ]
    },
    {
     "name": "stderr",
     "output_type": "stream",
     "text": [
      "INFO:tensorflow:Calling checkpoint listeners after saving checkpoint 5241...\n"
     ]
    },
    {
     "name": "stdout",
     "output_type": "stream",
     "text": [
      "INFO:tensorflow:Calling checkpoint listeners before saving checkpoint 5296...\n"
     ]
    },
    {
     "name": "stderr",
     "output_type": "stream",
     "text": [
      "INFO:tensorflow:Calling checkpoint listeners before saving checkpoint 5296...\n"
     ]
    },
    {
     "name": "stdout",
     "output_type": "stream",
     "text": [
      "INFO:tensorflow:Saving checkpoints for 5296 into /data/heerak/music_vae/train/model.ckpt.\n"
     ]
    },
    {
     "name": "stderr",
     "output_type": "stream",
     "text": [
      "INFO:tensorflow:Saving checkpoints for 5296 into /data/heerak/music_vae/train/model.ckpt.\n"
     ]
    },
    {
     "name": "stdout",
     "output_type": "stream",
     "text": [
      "INFO:tensorflow:Calling checkpoint listeners after saving checkpoint 5296...\n"
     ]
    },
    {
     "name": "stderr",
     "output_type": "stream",
     "text": [
      "INFO:tensorflow:Calling checkpoint listeners after saving checkpoint 5296...\n"
     ]
    },
    {
     "name": "stdout",
     "output_type": "stream",
     "text": [
      "INFO:tensorflow:global_step/sec: 0.909343\n"
     ]
    },
    {
     "name": "stderr",
     "output_type": "stream",
     "text": [
      "INFO:tensorflow:global_step/sec: 0.909343\n"
     ]
    },
    {
     "name": "stdout",
     "output_type": "stream",
     "text": [
      "INFO:tensorflow:global_step = 5300, loss = 83.89705 (109.969 sec)\n"
     ]
    },
    {
     "name": "stderr",
     "output_type": "stream",
     "text": [
      "INFO:tensorflow:global_step = 5300, loss = 83.89705 (109.969 sec)\n"
     ]
    },
    {
     "name": "stdout",
     "output_type": "stream",
     "text": [
      "INFO:tensorflow:Calling checkpoint listeners before saving checkpoint 5351...\n"
     ]
    },
    {
     "name": "stderr",
     "output_type": "stream",
     "text": [
      "INFO:tensorflow:Calling checkpoint listeners before saving checkpoint 5351...\n"
     ]
    },
    {
     "name": "stdout",
     "output_type": "stream",
     "text": [
      "INFO:tensorflow:Saving checkpoints for 5351 into /data/heerak/music_vae/train/model.ckpt.\n"
     ]
    },
    {
     "name": "stderr",
     "output_type": "stream",
     "text": [
      "INFO:tensorflow:Saving checkpoints for 5351 into /data/heerak/music_vae/train/model.ckpt.\n"
     ]
    },
    {
     "name": "stdout",
     "output_type": "stream",
     "text": [
      "INFO:tensorflow:Calling checkpoint listeners after saving checkpoint 5351...\n"
     ]
    },
    {
     "name": "stderr",
     "output_type": "stream",
     "text": [
      "INFO:tensorflow:Calling checkpoint listeners after saving checkpoint 5351...\n"
     ]
    },
    {
     "name": "stdout",
     "output_type": "stream",
     "text": [
      "INFO:tensorflow:global_step/sec: 0.921094\n"
     ]
    },
    {
     "name": "stderr",
     "output_type": "stream",
     "text": [
      "INFO:tensorflow:global_step/sec: 0.921094\n"
     ]
    },
    {
     "name": "stdout",
     "output_type": "stream",
     "text": [
      "INFO:tensorflow:global_step = 5400, loss = 74.13933 (108.566 sec)\n"
     ]
    },
    {
     "name": "stderr",
     "output_type": "stream",
     "text": [
      "INFO:tensorflow:global_step = 5400, loss = 74.13933 (108.566 sec)\n"
     ]
    },
    {
     "name": "stdout",
     "output_type": "stream",
     "text": [
      "INFO:tensorflow:Calling checkpoint listeners before saving checkpoint 5406...\n"
     ]
    },
    {
     "name": "stderr",
     "output_type": "stream",
     "text": [
      "INFO:tensorflow:Calling checkpoint listeners before saving checkpoint 5406...\n"
     ]
    },
    {
     "name": "stdout",
     "output_type": "stream",
     "text": [
      "INFO:tensorflow:Saving checkpoints for 5406 into /data/heerak/music_vae/train/model.ckpt.\n"
     ]
    },
    {
     "name": "stderr",
     "output_type": "stream",
     "text": [
      "INFO:tensorflow:Saving checkpoints for 5406 into /data/heerak/music_vae/train/model.ckpt.\n"
     ]
    },
    {
     "name": "stdout",
     "output_type": "stream",
     "text": [
      "INFO:tensorflow:Calling checkpoint listeners after saving checkpoint 5406...\n"
     ]
    },
    {
     "name": "stderr",
     "output_type": "stream",
     "text": [
      "INFO:tensorflow:Calling checkpoint listeners after saving checkpoint 5406...\n"
     ]
    },
    {
     "name": "stdout",
     "output_type": "stream",
     "text": [
      "INFO:tensorflow:Calling checkpoint listeners before saving checkpoint 5461...\n"
     ]
    },
    {
     "name": "stderr",
     "output_type": "stream",
     "text": [
      "INFO:tensorflow:Calling checkpoint listeners before saving checkpoint 5461...\n"
     ]
    },
    {
     "name": "stdout",
     "output_type": "stream",
     "text": [
      "INFO:tensorflow:Saving checkpoints for 5461 into /data/heerak/music_vae/train/model.ckpt.\n"
     ]
    },
    {
     "name": "stderr",
     "output_type": "stream",
     "text": [
      "INFO:tensorflow:Saving checkpoints for 5461 into /data/heerak/music_vae/train/model.ckpt.\n"
     ]
    },
    {
     "name": "stdout",
     "output_type": "stream",
     "text": [
      "INFO:tensorflow:Calling checkpoint listeners after saving checkpoint 5461...\n"
     ]
    },
    {
     "name": "stderr",
     "output_type": "stream",
     "text": [
      "INFO:tensorflow:Calling checkpoint listeners after saving checkpoint 5461...\n"
     ]
    },
    {
     "name": "stdout",
     "output_type": "stream",
     "text": [
      "INFO:tensorflow:global_step/sec: 0.905038\n"
     ]
    },
    {
     "name": "stderr",
     "output_type": "stream",
     "text": [
      "INFO:tensorflow:global_step/sec: 0.905038\n"
     ]
    },
    {
     "name": "stdout",
     "output_type": "stream",
     "text": [
      "INFO:tensorflow:global_step = 5500, loss = 87.629906 (110.492 sec)\n"
     ]
    },
    {
     "name": "stderr",
     "output_type": "stream",
     "text": [
      "INFO:tensorflow:global_step = 5500, loss = 87.629906 (110.492 sec)\n"
     ]
    },
    {
     "name": "stdout",
     "output_type": "stream",
     "text": [
      "INFO:tensorflow:Calling checkpoint listeners before saving checkpoint 5516...\n"
     ]
    },
    {
     "name": "stderr",
     "output_type": "stream",
     "text": [
      "INFO:tensorflow:Calling checkpoint listeners before saving checkpoint 5516...\n"
     ]
    },
    {
     "name": "stdout",
     "output_type": "stream",
     "text": [
      "INFO:tensorflow:Saving checkpoints for 5516 into /data/heerak/music_vae/train/model.ckpt.\n"
     ]
    },
    {
     "name": "stderr",
     "output_type": "stream",
     "text": [
      "INFO:tensorflow:Saving checkpoints for 5516 into /data/heerak/music_vae/train/model.ckpt.\n"
     ]
    },
    {
     "name": "stdout",
     "output_type": "stream",
     "text": [
      "INFO:tensorflow:Calling checkpoint listeners after saving checkpoint 5516...\n"
     ]
    },
    {
     "name": "stderr",
     "output_type": "stream",
     "text": [
      "INFO:tensorflow:Calling checkpoint listeners after saving checkpoint 5516...\n"
     ]
    },
    {
     "name": "stdout",
     "output_type": "stream",
     "text": [
      "INFO:tensorflow:Calling checkpoint listeners before saving checkpoint 5571...\n"
     ]
    },
    {
     "name": "stderr",
     "output_type": "stream",
     "text": [
      "INFO:tensorflow:Calling checkpoint listeners before saving checkpoint 5571...\n"
     ]
    },
    {
     "name": "stdout",
     "output_type": "stream",
     "text": [
      "INFO:tensorflow:Saving checkpoints for 5571 into /data/heerak/music_vae/train/model.ckpt.\n"
     ]
    },
    {
     "name": "stderr",
     "output_type": "stream",
     "text": [
      "INFO:tensorflow:Saving checkpoints for 5571 into /data/heerak/music_vae/train/model.ckpt.\n"
     ]
    },
    {
     "name": "stdout",
     "output_type": "stream",
     "text": [
      "INFO:tensorflow:Calling checkpoint listeners after saving checkpoint 5571...\n"
     ]
    },
    {
     "name": "stderr",
     "output_type": "stream",
     "text": [
      "INFO:tensorflow:Calling checkpoint listeners after saving checkpoint 5571...\n"
     ]
    },
    {
     "name": "stdout",
     "output_type": "stream",
     "text": [
      "INFO:tensorflow:global_step/sec: 0.906356\n"
     ]
    },
    {
     "name": "stderr",
     "output_type": "stream",
     "text": [
      "INFO:tensorflow:global_step/sec: 0.906356\n"
     ]
    },
    {
     "name": "stdout",
     "output_type": "stream",
     "text": [
      "INFO:tensorflow:global_step = 5600, loss = 71.92024 (110.331 sec)\n"
     ]
    },
    {
     "name": "stderr",
     "output_type": "stream",
     "text": [
      "INFO:tensorflow:global_step = 5600, loss = 71.92024 (110.331 sec)\n"
     ]
    },
    {
     "name": "stdout",
     "output_type": "stream",
     "text": [
      "INFO:tensorflow:Calling checkpoint listeners before saving checkpoint 5626...\n"
     ]
    },
    {
     "name": "stderr",
     "output_type": "stream",
     "text": [
      "INFO:tensorflow:Calling checkpoint listeners before saving checkpoint 5626...\n"
     ]
    },
    {
     "name": "stdout",
     "output_type": "stream",
     "text": [
      "INFO:tensorflow:Saving checkpoints for 5626 into /data/heerak/music_vae/train/model.ckpt.\n"
     ]
    },
    {
     "name": "stderr",
     "output_type": "stream",
     "text": [
      "INFO:tensorflow:Saving checkpoints for 5626 into /data/heerak/music_vae/train/model.ckpt.\n"
     ]
    },
    {
     "name": "stdout",
     "output_type": "stream",
     "text": [
      "INFO:tensorflow:Calling checkpoint listeners after saving checkpoint 5626...\n"
     ]
    },
    {
     "name": "stderr",
     "output_type": "stream",
     "text": [
      "INFO:tensorflow:Calling checkpoint listeners after saving checkpoint 5626...\n"
     ]
    },
    {
     "name": "stdout",
     "output_type": "stream",
     "text": [
      "INFO:tensorflow:Calling checkpoint listeners before saving checkpoint 5681...\n"
     ]
    },
    {
     "name": "stderr",
     "output_type": "stream",
     "text": [
      "INFO:tensorflow:Calling checkpoint listeners before saving checkpoint 5681...\n"
     ]
    },
    {
     "name": "stdout",
     "output_type": "stream",
     "text": [
      "INFO:tensorflow:Saving checkpoints for 5681 into /data/heerak/music_vae/train/model.ckpt.\n"
     ]
    },
    {
     "name": "stderr",
     "output_type": "stream",
     "text": [
      "INFO:tensorflow:Saving checkpoints for 5681 into /data/heerak/music_vae/train/model.ckpt.\n"
     ]
    },
    {
     "name": "stdout",
     "output_type": "stream",
     "text": [
      "INFO:tensorflow:Calling checkpoint listeners after saving checkpoint 5681...\n"
     ]
    },
    {
     "name": "stderr",
     "output_type": "stream",
     "text": [
      "INFO:tensorflow:Calling checkpoint listeners after saving checkpoint 5681...\n"
     ]
    },
    {
     "name": "stdout",
     "output_type": "stream",
     "text": [
      "INFO:tensorflow:global_step/sec: 0.908518\n"
     ]
    },
    {
     "name": "stderr",
     "output_type": "stream",
     "text": [
      "INFO:tensorflow:global_step/sec: 0.908518\n"
     ]
    },
    {
     "name": "stdout",
     "output_type": "stream",
     "text": [
      "INFO:tensorflow:global_step = 5700, loss = 74.3874 (110.069 sec)\n"
     ]
    },
    {
     "name": "stderr",
     "output_type": "stream",
     "text": [
      "INFO:tensorflow:global_step = 5700, loss = 74.3874 (110.069 sec)\n"
     ]
    },
    {
     "name": "stdout",
     "output_type": "stream",
     "text": [
      "INFO:tensorflow:Calling checkpoint listeners before saving checkpoint 5736...\n"
     ]
    },
    {
     "name": "stderr",
     "output_type": "stream",
     "text": [
      "INFO:tensorflow:Calling checkpoint listeners before saving checkpoint 5736...\n"
     ]
    },
    {
     "name": "stdout",
     "output_type": "stream",
     "text": [
      "INFO:tensorflow:Saving checkpoints for 5736 into /data/heerak/music_vae/train/model.ckpt.\n"
     ]
    },
    {
     "name": "stderr",
     "output_type": "stream",
     "text": [
      "INFO:tensorflow:Saving checkpoints for 5736 into /data/heerak/music_vae/train/model.ckpt.\n"
     ]
    },
    {
     "name": "stdout",
     "output_type": "stream",
     "text": [
      "INFO:tensorflow:Calling checkpoint listeners after saving checkpoint 5736...\n"
     ]
    },
    {
     "name": "stderr",
     "output_type": "stream",
     "text": [
      "INFO:tensorflow:Calling checkpoint listeners after saving checkpoint 5736...\n"
     ]
    },
    {
     "name": "stdout",
     "output_type": "stream",
     "text": [
      "INFO:tensorflow:Calling checkpoint listeners before saving checkpoint 5791...\n"
     ]
    },
    {
     "name": "stderr",
     "output_type": "stream",
     "text": [
      "INFO:tensorflow:Calling checkpoint listeners before saving checkpoint 5791...\n"
     ]
    },
    {
     "name": "stdout",
     "output_type": "stream",
     "text": [
      "INFO:tensorflow:Saving checkpoints for 5791 into /data/heerak/music_vae/train/model.ckpt.\n"
     ]
    },
    {
     "name": "stderr",
     "output_type": "stream",
     "text": [
      "INFO:tensorflow:Saving checkpoints for 5791 into /data/heerak/music_vae/train/model.ckpt.\n"
     ]
    },
    {
     "name": "stdout",
     "output_type": "stream",
     "text": [
      "INFO:tensorflow:Calling checkpoint listeners after saving checkpoint 5791...\n"
     ]
    },
    {
     "name": "stderr",
     "output_type": "stream",
     "text": [
      "INFO:tensorflow:Calling checkpoint listeners after saving checkpoint 5791...\n"
     ]
    },
    {
     "name": "stdout",
     "output_type": "stream",
     "text": [
      "INFO:tensorflow:global_step/sec: 0.906837\n"
     ]
    },
    {
     "name": "stderr",
     "output_type": "stream",
     "text": [
      "INFO:tensorflow:global_step/sec: 0.906837\n"
     ]
    },
    {
     "name": "stdout",
     "output_type": "stream",
     "text": [
      "INFO:tensorflow:global_step = 5800, loss = 65.4168 (110.274 sec)\n"
     ]
    },
    {
     "name": "stderr",
     "output_type": "stream",
     "text": [
      "INFO:tensorflow:global_step = 5800, loss = 65.4168 (110.274 sec)\n"
     ]
    },
    {
     "name": "stdout",
     "output_type": "stream",
     "text": [
      "INFO:tensorflow:Calling checkpoint listeners before saving checkpoint 5846...\n"
     ]
    },
    {
     "name": "stderr",
     "output_type": "stream",
     "text": [
      "INFO:tensorflow:Calling checkpoint listeners before saving checkpoint 5846...\n"
     ]
    },
    {
     "name": "stdout",
     "output_type": "stream",
     "text": [
      "INFO:tensorflow:Saving checkpoints for 5846 into /data/heerak/music_vae/train/model.ckpt.\n"
     ]
    },
    {
     "name": "stderr",
     "output_type": "stream",
     "text": [
      "INFO:tensorflow:Saving checkpoints for 5846 into /data/heerak/music_vae/train/model.ckpt.\n"
     ]
    },
    {
     "name": "stdout",
     "output_type": "stream",
     "text": [
      "INFO:tensorflow:Calling checkpoint listeners after saving checkpoint 5846...\n"
     ]
    },
    {
     "name": "stderr",
     "output_type": "stream",
     "text": [
      "INFO:tensorflow:Calling checkpoint listeners after saving checkpoint 5846...\n"
     ]
    },
    {
     "name": "stdout",
     "output_type": "stream",
     "text": [
      "INFO:tensorflow:global_step/sec: 0.919252\n"
     ]
    },
    {
     "name": "stderr",
     "output_type": "stream",
     "text": [
      "INFO:tensorflow:global_step/sec: 0.919252\n"
     ]
    },
    {
     "name": "stdout",
     "output_type": "stream",
     "text": [
      "INFO:tensorflow:Calling checkpoint listeners before saving checkpoint 5901...\n"
     ]
    },
    {
     "name": "stderr",
     "output_type": "stream",
     "text": [
      "INFO:tensorflow:Calling checkpoint listeners before saving checkpoint 5901...\n"
     ]
    },
    {
     "name": "stdout",
     "output_type": "stream",
     "text": [
      "INFO:tensorflow:Saving checkpoints for 5901 into /data/heerak/music_vae/train/model.ckpt.\n"
     ]
    },
    {
     "name": "stderr",
     "output_type": "stream",
     "text": [
      "INFO:tensorflow:Saving checkpoints for 5901 into /data/heerak/music_vae/train/model.ckpt.\n"
     ]
    },
    {
     "name": "stdout",
     "output_type": "stream",
     "text": [
      "INFO:tensorflow:Calling checkpoint listeners after saving checkpoint 5901...\n"
     ]
    },
    {
     "name": "stderr",
     "output_type": "stream",
     "text": [
      "INFO:tensorflow:Calling checkpoint listeners after saving checkpoint 5901...\n"
     ]
    },
    {
     "name": "stdout",
     "output_type": "stream",
     "text": [
      "INFO:tensorflow:global_step = 5900, loss = 78.93619 (110.247 sec)\n"
     ]
    },
    {
     "name": "stderr",
     "output_type": "stream",
     "text": [
      "INFO:tensorflow:global_step = 5900, loss = 78.93619 (110.247 sec)\n"
     ]
    },
    {
     "name": "stdout",
     "output_type": "stream",
     "text": [
      "INFO:tensorflow:Calling checkpoint listeners before saving checkpoint 5956...\n"
     ]
    },
    {
     "name": "stderr",
     "output_type": "stream",
     "text": [
      "INFO:tensorflow:Calling checkpoint listeners before saving checkpoint 5956...\n"
     ]
    },
    {
     "name": "stdout",
     "output_type": "stream",
     "text": [
      "INFO:tensorflow:Saving checkpoints for 5956 into /data/heerak/music_vae/train/model.ckpt.\n"
     ]
    },
    {
     "name": "stderr",
     "output_type": "stream",
     "text": [
      "INFO:tensorflow:Saving checkpoints for 5956 into /data/heerak/music_vae/train/model.ckpt.\n"
     ]
    },
    {
     "name": "stdout",
     "output_type": "stream",
     "text": [
      "INFO:tensorflow:Calling checkpoint listeners after saving checkpoint 5956...\n"
     ]
    },
    {
     "name": "stderr",
     "output_type": "stream",
     "text": [
      "INFO:tensorflow:Calling checkpoint listeners after saving checkpoint 5956...\n"
     ]
    },
    {
     "name": "stdout",
     "output_type": "stream",
     "text": [
      "INFO:tensorflow:global_step/sec: 0.906341\n"
     ]
    },
    {
     "name": "stderr",
     "output_type": "stream",
     "text": [
      "INFO:tensorflow:global_step/sec: 0.906341\n"
     ]
    },
    {
     "name": "stdout",
     "output_type": "stream",
     "text": [
      "INFO:tensorflow:global_step = 6000, loss = 73.38718 (108.871 sec)\n"
     ]
    },
    {
     "name": "stderr",
     "output_type": "stream",
     "text": [
      "INFO:tensorflow:global_step = 6000, loss = 73.38718 (108.871 sec)\n"
     ]
    },
    {
     "name": "stdout",
     "output_type": "stream",
     "text": [
      "INFO:tensorflow:Calling checkpoint listeners before saving checkpoint 6011...\n"
     ]
    },
    {
     "name": "stderr",
     "output_type": "stream",
     "text": [
      "INFO:tensorflow:Calling checkpoint listeners before saving checkpoint 6011...\n"
     ]
    },
    {
     "name": "stdout",
     "output_type": "stream",
     "text": [
      "INFO:tensorflow:Saving checkpoints for 6011 into /data/heerak/music_vae/train/model.ckpt.\n"
     ]
    },
    {
     "name": "stderr",
     "output_type": "stream",
     "text": [
      "INFO:tensorflow:Saving checkpoints for 6011 into /data/heerak/music_vae/train/model.ckpt.\n"
     ]
    },
    {
     "name": "stdout",
     "output_type": "stream",
     "text": [
      "INFO:tensorflow:Calling checkpoint listeners after saving checkpoint 6011...\n"
     ]
    },
    {
     "name": "stderr",
     "output_type": "stream",
     "text": [
      "INFO:tensorflow:Calling checkpoint listeners after saving checkpoint 6011...\n"
     ]
    },
    {
     "name": "stdout",
     "output_type": "stream",
     "text": [
      "INFO:tensorflow:Calling checkpoint listeners before saving checkpoint 6066...\n"
     ]
    },
    {
     "name": "stderr",
     "output_type": "stream",
     "text": [
      "INFO:tensorflow:Calling checkpoint listeners before saving checkpoint 6066...\n"
     ]
    },
    {
     "name": "stdout",
     "output_type": "stream",
     "text": [
      "INFO:tensorflow:Saving checkpoints for 6066 into /data/heerak/music_vae/train/model.ckpt.\n"
     ]
    },
    {
     "name": "stderr",
     "output_type": "stream",
     "text": [
      "INFO:tensorflow:Saving checkpoints for 6066 into /data/heerak/music_vae/train/model.ckpt.\n"
     ]
    },
    {
     "name": "stdout",
     "output_type": "stream",
     "text": [
      "INFO:tensorflow:Calling checkpoint listeners after saving checkpoint 6066...\n"
     ]
    },
    {
     "name": "stderr",
     "output_type": "stream",
     "text": [
      "INFO:tensorflow:Calling checkpoint listeners after saving checkpoint 6066...\n"
     ]
    },
    {
     "name": "stdout",
     "output_type": "stream",
     "text": [
      "INFO:tensorflow:global_step/sec: 0.906562\n"
     ]
    },
    {
     "name": "stderr",
     "output_type": "stream",
     "text": [
      "INFO:tensorflow:global_step/sec: 0.906562\n"
     ]
    },
    {
     "name": "stdout",
     "output_type": "stream",
     "text": [
      "INFO:tensorflow:global_step = 6100, loss = 81.037964 (110.307 sec)\n"
     ]
    },
    {
     "name": "stderr",
     "output_type": "stream",
     "text": [
      "INFO:tensorflow:global_step = 6100, loss = 81.037964 (110.307 sec)\n"
     ]
    },
    {
     "name": "stdout",
     "output_type": "stream",
     "text": [
      "INFO:tensorflow:Calling checkpoint listeners before saving checkpoint 6121...\n"
     ]
    },
    {
     "name": "stderr",
     "output_type": "stream",
     "text": [
      "INFO:tensorflow:Calling checkpoint listeners before saving checkpoint 6121...\n"
     ]
    },
    {
     "name": "stdout",
     "output_type": "stream",
     "text": [
      "INFO:tensorflow:Saving checkpoints for 6121 into /data/heerak/music_vae/train/model.ckpt.\n"
     ]
    },
    {
     "name": "stderr",
     "output_type": "stream",
     "text": [
      "INFO:tensorflow:Saving checkpoints for 6121 into /data/heerak/music_vae/train/model.ckpt.\n"
     ]
    },
    {
     "name": "stdout",
     "output_type": "stream",
     "text": [
      "INFO:tensorflow:Calling checkpoint listeners after saving checkpoint 6121...\n"
     ]
    },
    {
     "name": "stderr",
     "output_type": "stream",
     "text": [
      "INFO:tensorflow:Calling checkpoint listeners after saving checkpoint 6121...\n"
     ]
    },
    {
     "name": "stdout",
     "output_type": "stream",
     "text": [
      "INFO:tensorflow:Calling checkpoint listeners before saving checkpoint 6176...\n"
     ]
    },
    {
     "name": "stderr",
     "output_type": "stream",
     "text": [
      "INFO:tensorflow:Calling checkpoint listeners before saving checkpoint 6176...\n"
     ]
    },
    {
     "name": "stdout",
     "output_type": "stream",
     "text": [
      "INFO:tensorflow:Saving checkpoints for 6176 into /data/heerak/music_vae/train/model.ckpt.\n"
     ]
    },
    {
     "name": "stderr",
     "output_type": "stream",
     "text": [
      "INFO:tensorflow:Saving checkpoints for 6176 into /data/heerak/music_vae/train/model.ckpt.\n"
     ]
    },
    {
     "name": "stdout",
     "output_type": "stream",
     "text": [
      "INFO:tensorflow:Calling checkpoint listeners after saving checkpoint 6176...\n"
     ]
    },
    {
     "name": "stderr",
     "output_type": "stream",
     "text": [
      "INFO:tensorflow:Calling checkpoint listeners after saving checkpoint 6176...\n"
     ]
    },
    {
     "name": "stdout",
     "output_type": "stream",
     "text": [
      "INFO:tensorflow:global_step/sec: 0.906384\n"
     ]
    },
    {
     "name": "stderr",
     "output_type": "stream",
     "text": [
      "INFO:tensorflow:global_step/sec: 0.906384\n"
     ]
    },
    {
     "name": "stdout",
     "output_type": "stream",
     "text": [
      "INFO:tensorflow:global_step = 6200, loss = 71.99142 (110.329 sec)\n"
     ]
    },
    {
     "name": "stderr",
     "output_type": "stream",
     "text": [
      "INFO:tensorflow:global_step = 6200, loss = 71.99142 (110.329 sec)\n"
     ]
    },
    {
     "name": "stdout",
     "output_type": "stream",
     "text": [
      "INFO:tensorflow:Calling checkpoint listeners before saving checkpoint 6231...\n"
     ]
    },
    {
     "name": "stderr",
     "output_type": "stream",
     "text": [
      "INFO:tensorflow:Calling checkpoint listeners before saving checkpoint 6231...\n"
     ]
    },
    {
     "name": "stdout",
     "output_type": "stream",
     "text": [
      "INFO:tensorflow:Saving checkpoints for 6231 into /data/heerak/music_vae/train/model.ckpt.\n"
     ]
    },
    {
     "name": "stderr",
     "output_type": "stream",
     "text": [
      "INFO:tensorflow:Saving checkpoints for 6231 into /data/heerak/music_vae/train/model.ckpt.\n"
     ]
    },
    {
     "name": "stdout",
     "output_type": "stream",
     "text": [
      "INFO:tensorflow:Calling checkpoint listeners after saving checkpoint 6231...\n"
     ]
    },
    {
     "name": "stderr",
     "output_type": "stream",
     "text": [
      "INFO:tensorflow:Calling checkpoint listeners after saving checkpoint 6231...\n"
     ]
    },
    {
     "name": "stdout",
     "output_type": "stream",
     "text": [
      "INFO:tensorflow:Calling checkpoint listeners before saving checkpoint 6286...\n"
     ]
    },
    {
     "name": "stderr",
     "output_type": "stream",
     "text": [
      "INFO:tensorflow:Calling checkpoint listeners before saving checkpoint 6286...\n"
     ]
    },
    {
     "name": "stdout",
     "output_type": "stream",
     "text": [
      "INFO:tensorflow:Saving checkpoints for 6286 into /data/heerak/music_vae/train/model.ckpt.\n"
     ]
    },
    {
     "name": "stderr",
     "output_type": "stream",
     "text": [
      "INFO:tensorflow:Saving checkpoints for 6286 into /data/heerak/music_vae/train/model.ckpt.\n"
     ]
    },
    {
     "name": "stdout",
     "output_type": "stream",
     "text": [
      "INFO:tensorflow:Calling checkpoint listeners after saving checkpoint 6286...\n"
     ]
    },
    {
     "name": "stderr",
     "output_type": "stream",
     "text": [
      "INFO:tensorflow:Calling checkpoint listeners after saving checkpoint 6286...\n"
     ]
    },
    {
     "name": "stdout",
     "output_type": "stream",
     "text": [
      "INFO:tensorflow:global_step/sec: 0.905512\n"
     ]
    },
    {
     "name": "stderr",
     "output_type": "stream",
     "text": [
      "INFO:tensorflow:global_step/sec: 0.905512\n"
     ]
    },
    {
     "name": "stdout",
     "output_type": "stream",
     "text": [
      "INFO:tensorflow:global_step = 6300, loss = 74.913666 (110.435 sec)\n"
     ]
    },
    {
     "name": "stderr",
     "output_type": "stream",
     "text": [
      "INFO:tensorflow:global_step = 6300, loss = 74.913666 (110.435 sec)\n"
     ]
    },
    {
     "name": "stdout",
     "output_type": "stream",
     "text": [
      "INFO:tensorflow:Calling checkpoint listeners before saving checkpoint 6341...\n"
     ]
    },
    {
     "name": "stderr",
     "output_type": "stream",
     "text": [
      "INFO:tensorflow:Calling checkpoint listeners before saving checkpoint 6341...\n"
     ]
    },
    {
     "name": "stdout",
     "output_type": "stream",
     "text": [
      "INFO:tensorflow:Saving checkpoints for 6341 into /data/heerak/music_vae/train/model.ckpt.\n"
     ]
    },
    {
     "name": "stderr",
     "output_type": "stream",
     "text": [
      "INFO:tensorflow:Saving checkpoints for 6341 into /data/heerak/music_vae/train/model.ckpt.\n"
     ]
    },
    {
     "name": "stdout",
     "output_type": "stream",
     "text": [
      "INFO:tensorflow:Calling checkpoint listeners after saving checkpoint 6341...\n"
     ]
    },
    {
     "name": "stderr",
     "output_type": "stream",
     "text": [
      "INFO:tensorflow:Calling checkpoint listeners after saving checkpoint 6341...\n"
     ]
    },
    {
     "name": "stdout",
     "output_type": "stream",
     "text": [
      "INFO:tensorflow:Calling checkpoint listeners before saving checkpoint 6396...\n"
     ]
    },
    {
     "name": "stderr",
     "output_type": "stream",
     "text": [
      "INFO:tensorflow:Calling checkpoint listeners before saving checkpoint 6396...\n"
     ]
    },
    {
     "name": "stdout",
     "output_type": "stream",
     "text": [
      "INFO:tensorflow:Saving checkpoints for 6396 into /data/heerak/music_vae/train/model.ckpt.\n"
     ]
    },
    {
     "name": "stderr",
     "output_type": "stream",
     "text": [
      "INFO:tensorflow:Saving checkpoints for 6396 into /data/heerak/music_vae/train/model.ckpt.\n"
     ]
    },
    {
     "name": "stdout",
     "output_type": "stream",
     "text": [
      "INFO:tensorflow:Calling checkpoint listeners after saving checkpoint 6396...\n"
     ]
    },
    {
     "name": "stderr",
     "output_type": "stream",
     "text": [
      "INFO:tensorflow:Calling checkpoint listeners after saving checkpoint 6396...\n"
     ]
    },
    {
     "name": "stdout",
     "output_type": "stream",
     "text": [
      "INFO:tensorflow:global_step/sec: 0.904486\n"
     ]
    },
    {
     "name": "stderr",
     "output_type": "stream",
     "text": [
      "INFO:tensorflow:global_step/sec: 0.904486\n"
     ]
    },
    {
     "name": "stdout",
     "output_type": "stream",
     "text": [
      "INFO:tensorflow:global_step = 6400, loss = 64.695816 (110.559 sec)\n"
     ]
    },
    {
     "name": "stderr",
     "output_type": "stream",
     "text": [
      "INFO:tensorflow:global_step = 6400, loss = 64.695816 (110.559 sec)\n"
     ]
    },
    {
     "name": "stdout",
     "output_type": "stream",
     "text": [
      "INFO:tensorflow:Calling checkpoint listeners before saving checkpoint 6451...\n"
     ]
    },
    {
     "name": "stderr",
     "output_type": "stream",
     "text": [
      "INFO:tensorflow:Calling checkpoint listeners before saving checkpoint 6451...\n"
     ]
    },
    {
     "name": "stdout",
     "output_type": "stream",
     "text": [
      "INFO:tensorflow:Saving checkpoints for 6451 into /data/heerak/music_vae/train/model.ckpt.\n"
     ]
    },
    {
     "name": "stderr",
     "output_type": "stream",
     "text": [
      "INFO:tensorflow:Saving checkpoints for 6451 into /data/heerak/music_vae/train/model.ckpt.\n"
     ]
    },
    {
     "name": "stdout",
     "output_type": "stream",
     "text": [
      "INFO:tensorflow:Calling checkpoint listeners after saving checkpoint 6451...\n"
     ]
    },
    {
     "name": "stderr",
     "output_type": "stream",
     "text": [
      "INFO:tensorflow:Calling checkpoint listeners after saving checkpoint 6451...\n"
     ]
    },
    {
     "name": "stdout",
     "output_type": "stream",
     "text": [
      "INFO:tensorflow:global_step/sec: 0.919745\n"
     ]
    },
    {
     "name": "stderr",
     "output_type": "stream",
     "text": [
      "INFO:tensorflow:global_step/sec: 0.919745\n"
     ]
    },
    {
     "name": "stdout",
     "output_type": "stream",
     "text": [
      "INFO:tensorflow:global_step = 6500, loss = 68.5747 (108.726 sec)\n"
     ]
    },
    {
     "name": "stderr",
     "output_type": "stream",
     "text": [
      "INFO:tensorflow:global_step = 6500, loss = 68.5747 (108.726 sec)\n"
     ]
    },
    {
     "name": "stdout",
     "output_type": "stream",
     "text": [
      "INFO:tensorflow:Calling checkpoint listeners before saving checkpoint 6506...\n"
     ]
    },
    {
     "name": "stderr",
     "output_type": "stream",
     "text": [
      "INFO:tensorflow:Calling checkpoint listeners before saving checkpoint 6506...\n"
     ]
    },
    {
     "name": "stdout",
     "output_type": "stream",
     "text": [
      "INFO:tensorflow:Saving checkpoints for 6506 into /data/heerak/music_vae/train/model.ckpt.\n"
     ]
    },
    {
     "name": "stderr",
     "output_type": "stream",
     "text": [
      "INFO:tensorflow:Saving checkpoints for 6506 into /data/heerak/music_vae/train/model.ckpt.\n"
     ]
    },
    {
     "name": "stdout",
     "output_type": "stream",
     "text": [
      "INFO:tensorflow:Calling checkpoint listeners after saving checkpoint 6506...\n"
     ]
    },
    {
     "name": "stderr",
     "output_type": "stream",
     "text": [
      "INFO:tensorflow:Calling checkpoint listeners after saving checkpoint 6506...\n"
     ]
    },
    {
     "name": "stdout",
     "output_type": "stream",
     "text": [
      "INFO:tensorflow:Calling checkpoint listeners before saving checkpoint 6561...\n"
     ]
    },
    {
     "name": "stderr",
     "output_type": "stream",
     "text": [
      "INFO:tensorflow:Calling checkpoint listeners before saving checkpoint 6561...\n"
     ]
    },
    {
     "name": "stdout",
     "output_type": "stream",
     "text": [
      "INFO:tensorflow:Saving checkpoints for 6561 into /data/heerak/music_vae/train/model.ckpt.\n"
     ]
    },
    {
     "name": "stderr",
     "output_type": "stream",
     "text": [
      "INFO:tensorflow:Saving checkpoints for 6561 into /data/heerak/music_vae/train/model.ckpt.\n"
     ]
    },
    {
     "name": "stdout",
     "output_type": "stream",
     "text": [
      "INFO:tensorflow:Calling checkpoint listeners after saving checkpoint 6561...\n"
     ]
    },
    {
     "name": "stderr",
     "output_type": "stream",
     "text": [
      "INFO:tensorflow:Calling checkpoint listeners after saving checkpoint 6561...\n"
     ]
    },
    {
     "name": "stdout",
     "output_type": "stream",
     "text": [
      "INFO:tensorflow:global_step/sec: 0.906794\n"
     ]
    },
    {
     "name": "stderr",
     "output_type": "stream",
     "text": [
      "INFO:tensorflow:global_step/sec: 0.906794\n"
     ]
    },
    {
     "name": "stdout",
     "output_type": "stream",
     "text": [
      "INFO:tensorflow:global_step = 6600, loss = 69.718956 (110.279 sec)\n"
     ]
    },
    {
     "name": "stderr",
     "output_type": "stream",
     "text": [
      "INFO:tensorflow:global_step = 6600, loss = 69.718956 (110.279 sec)\n"
     ]
    },
    {
     "name": "stdout",
     "output_type": "stream",
     "text": [
      "INFO:tensorflow:Calling checkpoint listeners before saving checkpoint 6616...\n"
     ]
    },
    {
     "name": "stderr",
     "output_type": "stream",
     "text": [
      "INFO:tensorflow:Calling checkpoint listeners before saving checkpoint 6616...\n"
     ]
    },
    {
     "name": "stdout",
     "output_type": "stream",
     "text": [
      "INFO:tensorflow:Saving checkpoints for 6616 into /data/heerak/music_vae/train/model.ckpt.\n"
     ]
    },
    {
     "name": "stderr",
     "output_type": "stream",
     "text": [
      "INFO:tensorflow:Saving checkpoints for 6616 into /data/heerak/music_vae/train/model.ckpt.\n"
     ]
    },
    {
     "name": "stdout",
     "output_type": "stream",
     "text": [
      "INFO:tensorflow:Calling checkpoint listeners after saving checkpoint 6616...\n"
     ]
    },
    {
     "name": "stderr",
     "output_type": "stream",
     "text": [
      "INFO:tensorflow:Calling checkpoint listeners after saving checkpoint 6616...\n"
     ]
    },
    {
     "name": "stdout",
     "output_type": "stream",
     "text": [
      "INFO:tensorflow:Calling checkpoint listeners before saving checkpoint 6671...\n"
     ]
    },
    {
     "name": "stderr",
     "output_type": "stream",
     "text": [
      "INFO:tensorflow:Calling checkpoint listeners before saving checkpoint 6671...\n"
     ]
    },
    {
     "name": "stdout",
     "output_type": "stream",
     "text": [
      "INFO:tensorflow:Saving checkpoints for 6671 into /data/heerak/music_vae/train/model.ckpt.\n"
     ]
    },
    {
     "name": "stderr",
     "output_type": "stream",
     "text": [
      "INFO:tensorflow:Saving checkpoints for 6671 into /data/heerak/music_vae/train/model.ckpt.\n"
     ]
    },
    {
     "name": "stdout",
     "output_type": "stream",
     "text": [
      "INFO:tensorflow:Calling checkpoint listeners after saving checkpoint 6671...\n"
     ]
    },
    {
     "name": "stderr",
     "output_type": "stream",
     "text": [
      "INFO:tensorflow:Calling checkpoint listeners after saving checkpoint 6671...\n"
     ]
    },
    {
     "name": "stdout",
     "output_type": "stream",
     "text": [
      "INFO:tensorflow:global_step/sec: 0.907983\n"
     ]
    },
    {
     "name": "stderr",
     "output_type": "stream",
     "text": [
      "INFO:tensorflow:global_step/sec: 0.907983\n"
     ]
    },
    {
     "name": "stdout",
     "output_type": "stream",
     "text": [
      "INFO:tensorflow:global_step = 6700, loss = 74.14447 (110.135 sec)\n"
     ]
    },
    {
     "name": "stderr",
     "output_type": "stream",
     "text": [
      "INFO:tensorflow:global_step = 6700, loss = 74.14447 (110.135 sec)\n"
     ]
    },
    {
     "name": "stdout",
     "output_type": "stream",
     "text": [
      "INFO:tensorflow:Calling checkpoint listeners before saving checkpoint 6726...\n"
     ]
    },
    {
     "name": "stderr",
     "output_type": "stream",
     "text": [
      "INFO:tensorflow:Calling checkpoint listeners before saving checkpoint 6726...\n"
     ]
    },
    {
     "name": "stdout",
     "output_type": "stream",
     "text": [
      "INFO:tensorflow:Saving checkpoints for 6726 into /data/heerak/music_vae/train/model.ckpt.\n"
     ]
    },
    {
     "name": "stderr",
     "output_type": "stream",
     "text": [
      "INFO:tensorflow:Saving checkpoints for 6726 into /data/heerak/music_vae/train/model.ckpt.\n"
     ]
    },
    {
     "name": "stdout",
     "output_type": "stream",
     "text": [
      "INFO:tensorflow:Calling checkpoint listeners after saving checkpoint 6726...\n"
     ]
    },
    {
     "name": "stderr",
     "output_type": "stream",
     "text": [
      "INFO:tensorflow:Calling checkpoint listeners after saving checkpoint 6726...\n"
     ]
    },
    {
     "name": "stdout",
     "output_type": "stream",
     "text": [
      "INFO:tensorflow:Calling checkpoint listeners before saving checkpoint 6781...\n"
     ]
    },
    {
     "name": "stderr",
     "output_type": "stream",
     "text": [
      "INFO:tensorflow:Calling checkpoint listeners before saving checkpoint 6781...\n"
     ]
    },
    {
     "name": "stdout",
     "output_type": "stream",
     "text": [
      "INFO:tensorflow:Saving checkpoints for 6781 into /data/heerak/music_vae/train/model.ckpt.\n"
     ]
    },
    {
     "name": "stderr",
     "output_type": "stream",
     "text": [
      "INFO:tensorflow:Saving checkpoints for 6781 into /data/heerak/music_vae/train/model.ckpt.\n"
     ]
    },
    {
     "name": "stdout",
     "output_type": "stream",
     "text": [
      "INFO:tensorflow:Calling checkpoint listeners after saving checkpoint 6781...\n"
     ]
    },
    {
     "name": "stderr",
     "output_type": "stream",
     "text": [
      "INFO:tensorflow:Calling checkpoint listeners after saving checkpoint 6781...\n"
     ]
    },
    {
     "name": "stdout",
     "output_type": "stream",
     "text": [
      "INFO:tensorflow:global_step/sec: 0.906626\n"
     ]
    },
    {
     "name": "stderr",
     "output_type": "stream",
     "text": [
      "INFO:tensorflow:global_step/sec: 0.906626\n"
     ]
    },
    {
     "name": "stdout",
     "output_type": "stream",
     "text": [
      "INFO:tensorflow:global_step = 6800, loss = 68.26161 (110.298 sec)\n"
     ]
    },
    {
     "name": "stderr",
     "output_type": "stream",
     "text": [
      "INFO:tensorflow:global_step = 6800, loss = 68.26161 (110.298 sec)\n"
     ]
    },
    {
     "name": "stdout",
     "output_type": "stream",
     "text": [
      "INFO:tensorflow:Calling checkpoint listeners before saving checkpoint 6836...\n"
     ]
    },
    {
     "name": "stderr",
     "output_type": "stream",
     "text": [
      "INFO:tensorflow:Calling checkpoint listeners before saving checkpoint 6836...\n"
     ]
    },
    {
     "name": "stdout",
     "output_type": "stream",
     "text": [
      "INFO:tensorflow:Saving checkpoints for 6836 into /data/heerak/music_vae/train/model.ckpt.\n"
     ]
    },
    {
     "name": "stderr",
     "output_type": "stream",
     "text": [
      "INFO:tensorflow:Saving checkpoints for 6836 into /data/heerak/music_vae/train/model.ckpt.\n"
     ]
    },
    {
     "name": "stdout",
     "output_type": "stream",
     "text": [
      "INFO:tensorflow:Calling checkpoint listeners after saving checkpoint 6836...\n"
     ]
    },
    {
     "name": "stderr",
     "output_type": "stream",
     "text": [
      "INFO:tensorflow:Calling checkpoint listeners after saving checkpoint 6836...\n"
     ]
    },
    {
     "name": "stdout",
     "output_type": "stream",
     "text": [
      "INFO:tensorflow:Calling checkpoint listeners before saving checkpoint 6891...\n"
     ]
    },
    {
     "name": "stderr",
     "output_type": "stream",
     "text": [
      "INFO:tensorflow:Calling checkpoint listeners before saving checkpoint 6891...\n"
     ]
    },
    {
     "name": "stdout",
     "output_type": "stream",
     "text": [
      "INFO:tensorflow:Saving checkpoints for 6891 into /data/heerak/music_vae/train/model.ckpt.\n"
     ]
    },
    {
     "name": "stderr",
     "output_type": "stream",
     "text": [
      "INFO:tensorflow:Saving checkpoints for 6891 into /data/heerak/music_vae/train/model.ckpt.\n"
     ]
    },
    {
     "name": "stdout",
     "output_type": "stream",
     "text": [
      "INFO:tensorflow:Calling checkpoint listeners after saving checkpoint 6891...\n"
     ]
    },
    {
     "name": "stderr",
     "output_type": "stream",
     "text": [
      "INFO:tensorflow:Calling checkpoint listeners after saving checkpoint 6891...\n"
     ]
    },
    {
     "name": "stdout",
     "output_type": "stream",
     "text": [
      "INFO:tensorflow:global_step/sec: 0.906399\n"
     ]
    },
    {
     "name": "stderr",
     "output_type": "stream",
     "text": [
      "INFO:tensorflow:global_step/sec: 0.906399\n"
     ]
    },
    {
     "name": "stdout",
     "output_type": "stream",
     "text": [
      "INFO:tensorflow:global_step = 6900, loss = 70.88776 (110.328 sec)\n"
     ]
    },
    {
     "name": "stderr",
     "output_type": "stream",
     "text": [
      "INFO:tensorflow:global_step = 6900, loss = 70.88776 (110.328 sec)\n"
     ]
    },
    {
     "name": "stdout",
     "output_type": "stream",
     "text": [
      "INFO:tensorflow:Calling checkpoint listeners before saving checkpoint 6946...\n"
     ]
    },
    {
     "name": "stderr",
     "output_type": "stream",
     "text": [
      "INFO:tensorflow:Calling checkpoint listeners before saving checkpoint 6946...\n"
     ]
    },
    {
     "name": "stdout",
     "output_type": "stream",
     "text": [
      "INFO:tensorflow:Saving checkpoints for 6946 into /data/heerak/music_vae/train/model.ckpt.\n"
     ]
    },
    {
     "name": "stderr",
     "output_type": "stream",
     "text": [
      "INFO:tensorflow:Saving checkpoints for 6946 into /data/heerak/music_vae/train/model.ckpt.\n"
     ]
    },
    {
     "name": "stdout",
     "output_type": "stream",
     "text": [
      "INFO:tensorflow:Calling checkpoint listeners after saving checkpoint 6946...\n"
     ]
    },
    {
     "name": "stderr",
     "output_type": "stream",
     "text": [
      "INFO:tensorflow:Calling checkpoint listeners after saving checkpoint 6946...\n"
     ]
    },
    {
     "name": "stdout",
     "output_type": "stream",
     "text": [
      "INFO:tensorflow:global_step/sec: 0.917426\n"
     ]
    },
    {
     "name": "stderr",
     "output_type": "stream",
     "text": [
      "INFO:tensorflow:global_step/sec: 0.917426\n"
     ]
    },
    {
     "name": "stdout",
     "output_type": "stream",
     "text": [
      "INFO:tensorflow:Calling checkpoint listeners before saving checkpoint 7001...\n"
     ]
    },
    {
     "name": "stderr",
     "output_type": "stream",
     "text": [
      "INFO:tensorflow:Calling checkpoint listeners before saving checkpoint 7001...\n"
     ]
    },
    {
     "name": "stdout",
     "output_type": "stream",
     "text": [
      "INFO:tensorflow:Saving checkpoints for 7001 into /data/heerak/music_vae/train/model.ckpt.\n"
     ]
    },
    {
     "name": "stderr",
     "output_type": "stream",
     "text": [
      "INFO:tensorflow:Saving checkpoints for 7001 into /data/heerak/music_vae/train/model.ckpt.\n"
     ]
    },
    {
     "name": "stdout",
     "output_type": "stream",
     "text": [
      "INFO:tensorflow:Calling checkpoint listeners after saving checkpoint 7001...\n"
     ]
    },
    {
     "name": "stderr",
     "output_type": "stream",
     "text": [
      "INFO:tensorflow:Calling checkpoint listeners after saving checkpoint 7001...\n"
     ]
    },
    {
     "name": "stdout",
     "output_type": "stream",
     "text": [
      "INFO:tensorflow:global_step = 7000, loss = 67.29952 (110.398 sec)\n"
     ]
    },
    {
     "name": "stderr",
     "output_type": "stream",
     "text": [
      "INFO:tensorflow:global_step = 7000, loss = 67.29952 (110.398 sec)\n"
     ]
    },
    {
     "name": "stdout",
     "output_type": "stream",
     "text": [
      "INFO:tensorflow:Calling checkpoint listeners before saving checkpoint 7056...\n"
     ]
    },
    {
     "name": "stderr",
     "output_type": "stream",
     "text": [
      "INFO:tensorflow:Calling checkpoint listeners before saving checkpoint 7056...\n"
     ]
    },
    {
     "name": "stdout",
     "output_type": "stream",
     "text": [
      "INFO:tensorflow:Saving checkpoints for 7056 into /data/heerak/music_vae/train/model.ckpt.\n"
     ]
    },
    {
     "name": "stderr",
     "output_type": "stream",
     "text": [
      "INFO:tensorflow:Saving checkpoints for 7056 into /data/heerak/music_vae/train/model.ckpt.\n"
     ]
    },
    {
     "name": "stdout",
     "output_type": "stream",
     "text": [
      "INFO:tensorflow:Calling checkpoint listeners after saving checkpoint 7056...\n"
     ]
    },
    {
     "name": "stderr",
     "output_type": "stream",
     "text": [
      "INFO:tensorflow:Calling checkpoint listeners after saving checkpoint 7056...\n"
     ]
    },
    {
     "name": "stdout",
     "output_type": "stream",
     "text": [
      "INFO:tensorflow:global_step/sec: 0.90597\n"
     ]
    },
    {
     "name": "stderr",
     "output_type": "stream",
     "text": [
      "INFO:tensorflow:global_step/sec: 0.90597\n"
     ]
    },
    {
     "name": "stdout",
     "output_type": "stream",
     "text": [
      "INFO:tensorflow:global_step = 7100, loss = 73.73115 (108.981 sec)\n"
     ]
    },
    {
     "name": "stderr",
     "output_type": "stream",
     "text": [
      "INFO:tensorflow:global_step = 7100, loss = 73.73115 (108.981 sec)\n"
     ]
    },
    {
     "name": "stdout",
     "output_type": "stream",
     "text": [
      "INFO:tensorflow:Calling checkpoint listeners before saving checkpoint 7111...\n"
     ]
    },
    {
     "name": "stderr",
     "output_type": "stream",
     "text": [
      "INFO:tensorflow:Calling checkpoint listeners before saving checkpoint 7111...\n"
     ]
    },
    {
     "name": "stdout",
     "output_type": "stream",
     "text": [
      "INFO:tensorflow:Saving checkpoints for 7111 into /data/heerak/music_vae/train/model.ckpt.\n"
     ]
    },
    {
     "name": "stderr",
     "output_type": "stream",
     "text": [
      "INFO:tensorflow:Saving checkpoints for 7111 into /data/heerak/music_vae/train/model.ckpt.\n"
     ]
    },
    {
     "name": "stdout",
     "output_type": "stream",
     "text": [
      "INFO:tensorflow:Calling checkpoint listeners after saving checkpoint 7111...\n"
     ]
    },
    {
     "name": "stderr",
     "output_type": "stream",
     "text": [
      "INFO:tensorflow:Calling checkpoint listeners after saving checkpoint 7111...\n"
     ]
    },
    {
     "name": "stdout",
     "output_type": "stream",
     "text": [
      "INFO:tensorflow:Calling checkpoint listeners before saving checkpoint 7166...\n"
     ]
    },
    {
     "name": "stderr",
     "output_type": "stream",
     "text": [
      "INFO:tensorflow:Calling checkpoint listeners before saving checkpoint 7166...\n"
     ]
    },
    {
     "name": "stdout",
     "output_type": "stream",
     "text": [
      "INFO:tensorflow:Saving checkpoints for 7166 into /data/heerak/music_vae/train/model.ckpt.\n"
     ]
    },
    {
     "name": "stderr",
     "output_type": "stream",
     "text": [
      "INFO:tensorflow:Saving checkpoints for 7166 into /data/heerak/music_vae/train/model.ckpt.\n"
     ]
    },
    {
     "name": "stdout",
     "output_type": "stream",
     "text": [
      "INFO:tensorflow:Calling checkpoint listeners after saving checkpoint 7166...\n"
     ]
    },
    {
     "name": "stderr",
     "output_type": "stream",
     "text": [
      "INFO:tensorflow:Calling checkpoint listeners after saving checkpoint 7166...\n"
     ]
    },
    {
     "name": "stdout",
     "output_type": "stream",
     "text": [
      "INFO:tensorflow:global_step/sec: 0.905135\n"
     ]
    },
    {
     "name": "stderr",
     "output_type": "stream",
     "text": [
      "INFO:tensorflow:global_step/sec: 0.905135\n"
     ]
    },
    {
     "name": "stdout",
     "output_type": "stream",
     "text": [
      "INFO:tensorflow:global_step = 7200, loss = 66.698586 (110.481 sec)\n"
     ]
    },
    {
     "name": "stderr",
     "output_type": "stream",
     "text": [
      "INFO:tensorflow:global_step = 7200, loss = 66.698586 (110.481 sec)\n"
     ]
    },
    {
     "name": "stdout",
     "output_type": "stream",
     "text": [
      "INFO:tensorflow:Calling checkpoint listeners before saving checkpoint 7221...\n"
     ]
    },
    {
     "name": "stderr",
     "output_type": "stream",
     "text": [
      "INFO:tensorflow:Calling checkpoint listeners before saving checkpoint 7221...\n"
     ]
    },
    {
     "name": "stdout",
     "output_type": "stream",
     "text": [
      "INFO:tensorflow:Saving checkpoints for 7221 into /data/heerak/music_vae/train/model.ckpt.\n"
     ]
    },
    {
     "name": "stderr",
     "output_type": "stream",
     "text": [
      "INFO:tensorflow:Saving checkpoints for 7221 into /data/heerak/music_vae/train/model.ckpt.\n"
     ]
    },
    {
     "name": "stdout",
     "output_type": "stream",
     "text": [
      "INFO:tensorflow:Calling checkpoint listeners after saving checkpoint 7221...\n"
     ]
    },
    {
     "name": "stderr",
     "output_type": "stream",
     "text": [
      "INFO:tensorflow:Calling checkpoint listeners after saving checkpoint 7221...\n"
     ]
    },
    {
     "name": "stdout",
     "output_type": "stream",
     "text": [
      "INFO:tensorflow:Calling checkpoint listeners before saving checkpoint 7276...\n"
     ]
    },
    {
     "name": "stderr",
     "output_type": "stream",
     "text": [
      "INFO:tensorflow:Calling checkpoint listeners before saving checkpoint 7276...\n"
     ]
    },
    {
     "name": "stdout",
     "output_type": "stream",
     "text": [
      "INFO:tensorflow:Saving checkpoints for 7276 into /data/heerak/music_vae/train/model.ckpt.\n"
     ]
    },
    {
     "name": "stderr",
     "output_type": "stream",
     "text": [
      "INFO:tensorflow:Saving checkpoints for 7276 into /data/heerak/music_vae/train/model.ckpt.\n"
     ]
    },
    {
     "name": "stdout",
     "output_type": "stream",
     "text": [
      "INFO:tensorflow:Calling checkpoint listeners after saving checkpoint 7276...\n"
     ]
    },
    {
     "name": "stderr",
     "output_type": "stream",
     "text": [
      "INFO:tensorflow:Calling checkpoint listeners after saving checkpoint 7276...\n"
     ]
    },
    {
     "name": "stdout",
     "output_type": "stream",
     "text": [
      "INFO:tensorflow:global_step/sec: 0.905584\n"
     ]
    },
    {
     "name": "stderr",
     "output_type": "stream",
     "text": [
      "INFO:tensorflow:global_step/sec: 0.905584\n"
     ]
    },
    {
     "name": "stdout",
     "output_type": "stream",
     "text": [
      "INFO:tensorflow:global_step = 7300, loss = 72.811325 (110.426 sec)\n"
     ]
    },
    {
     "name": "stderr",
     "output_type": "stream",
     "text": [
      "INFO:tensorflow:global_step = 7300, loss = 72.811325 (110.426 sec)\n"
     ]
    },
    {
     "name": "stdout",
     "output_type": "stream",
     "text": [
      "INFO:tensorflow:Calling checkpoint listeners before saving checkpoint 7331...\n"
     ]
    },
    {
     "name": "stderr",
     "output_type": "stream",
     "text": [
      "INFO:tensorflow:Calling checkpoint listeners before saving checkpoint 7331...\n"
     ]
    },
    {
     "name": "stdout",
     "output_type": "stream",
     "text": [
      "INFO:tensorflow:Saving checkpoints for 7331 into /data/heerak/music_vae/train/model.ckpt.\n"
     ]
    },
    {
     "name": "stderr",
     "output_type": "stream",
     "text": [
      "INFO:tensorflow:Saving checkpoints for 7331 into /data/heerak/music_vae/train/model.ckpt.\n"
     ]
    },
    {
     "name": "stdout",
     "output_type": "stream",
     "text": [
      "INFO:tensorflow:Calling checkpoint listeners after saving checkpoint 7331...\n"
     ]
    },
    {
     "name": "stderr",
     "output_type": "stream",
     "text": [
      "INFO:tensorflow:Calling checkpoint listeners after saving checkpoint 7331...\n"
     ]
    },
    {
     "name": "stdout",
     "output_type": "stream",
     "text": [
      "INFO:tensorflow:Calling checkpoint listeners before saving checkpoint 7386...\n"
     ]
    },
    {
     "name": "stderr",
     "output_type": "stream",
     "text": [
      "INFO:tensorflow:Calling checkpoint listeners before saving checkpoint 7386...\n"
     ]
    },
    {
     "name": "stdout",
     "output_type": "stream",
     "text": [
      "INFO:tensorflow:Saving checkpoints for 7386 into /data/heerak/music_vae/train/model.ckpt.\n"
     ]
    },
    {
     "name": "stderr",
     "output_type": "stream",
     "text": [
      "INFO:tensorflow:Saving checkpoints for 7386 into /data/heerak/music_vae/train/model.ckpt.\n"
     ]
    },
    {
     "name": "stdout",
     "output_type": "stream",
     "text": [
      "INFO:tensorflow:Calling checkpoint listeners after saving checkpoint 7386...\n"
     ]
    },
    {
     "name": "stderr",
     "output_type": "stream",
     "text": [
      "INFO:tensorflow:Calling checkpoint listeners after saving checkpoint 7386...\n"
     ]
    },
    {
     "name": "stdout",
     "output_type": "stream",
     "text": [
      "INFO:tensorflow:global_step/sec: 0.907008\n"
     ]
    },
    {
     "name": "stderr",
     "output_type": "stream",
     "text": [
      "INFO:tensorflow:global_step/sec: 0.907008\n"
     ]
    },
    {
     "name": "stdout",
     "output_type": "stream",
     "text": [
      "INFO:tensorflow:global_step = 7400, loss = 70.09126 (110.252 sec)\n"
     ]
    },
    {
     "name": "stderr",
     "output_type": "stream",
     "text": [
      "INFO:tensorflow:global_step = 7400, loss = 70.09126 (110.252 sec)\n"
     ]
    },
    {
     "name": "stdout",
     "output_type": "stream",
     "text": [
      "INFO:tensorflow:Calling checkpoint listeners before saving checkpoint 7441...\n"
     ]
    },
    {
     "name": "stderr",
     "output_type": "stream",
     "text": [
      "INFO:tensorflow:Calling checkpoint listeners before saving checkpoint 7441...\n"
     ]
    },
    {
     "name": "stdout",
     "output_type": "stream",
     "text": [
      "INFO:tensorflow:Saving checkpoints for 7441 into /data/heerak/music_vae/train/model.ckpt.\n"
     ]
    },
    {
     "name": "stderr",
     "output_type": "stream",
     "text": [
      "INFO:tensorflow:Saving checkpoints for 7441 into /data/heerak/music_vae/train/model.ckpt.\n"
     ]
    },
    {
     "name": "stdout",
     "output_type": "stream",
     "text": [
      "INFO:tensorflow:Calling checkpoint listeners after saving checkpoint 7441...\n"
     ]
    },
    {
     "name": "stderr",
     "output_type": "stream",
     "text": [
      "INFO:tensorflow:Calling checkpoint listeners after saving checkpoint 7441...\n"
     ]
    },
    {
     "name": "stdout",
     "output_type": "stream",
     "text": [
      "INFO:tensorflow:Calling checkpoint listeners before saving checkpoint 7496...\n"
     ]
    },
    {
     "name": "stderr",
     "output_type": "stream",
     "text": [
      "INFO:tensorflow:Calling checkpoint listeners before saving checkpoint 7496...\n"
     ]
    },
    {
     "name": "stdout",
     "output_type": "stream",
     "text": [
      "INFO:tensorflow:Saving checkpoints for 7496 into /data/heerak/music_vae/train/model.ckpt.\n"
     ]
    },
    {
     "name": "stderr",
     "output_type": "stream",
     "text": [
      "INFO:tensorflow:Saving checkpoints for 7496 into /data/heerak/music_vae/train/model.ckpt.\n"
     ]
    },
    {
     "name": "stdout",
     "output_type": "stream",
     "text": [
      "INFO:tensorflow:Calling checkpoint listeners after saving checkpoint 7496...\n"
     ]
    },
    {
     "name": "stderr",
     "output_type": "stream",
     "text": [
      "INFO:tensorflow:Calling checkpoint listeners after saving checkpoint 7496...\n"
     ]
    },
    {
     "name": "stdout",
     "output_type": "stream",
     "text": [
      "INFO:tensorflow:global_step/sec: 0.906132\n"
     ]
    },
    {
     "name": "stderr",
     "output_type": "stream",
     "text": [
      "INFO:tensorflow:global_step/sec: 0.906132\n"
     ]
    },
    {
     "name": "stdout",
     "output_type": "stream",
     "text": [
      "INFO:tensorflow:global_step = 7500, loss = 72.38796 (110.360 sec)\n"
     ]
    },
    {
     "name": "stderr",
     "output_type": "stream",
     "text": [
      "INFO:tensorflow:global_step = 7500, loss = 72.38796 (110.360 sec)\n"
     ]
    },
    {
     "name": "stdout",
     "output_type": "stream",
     "text": [
      "INFO:tensorflow:Calling checkpoint listeners before saving checkpoint 7551...\n"
     ]
    },
    {
     "name": "stderr",
     "output_type": "stream",
     "text": [
      "INFO:tensorflow:Calling checkpoint listeners before saving checkpoint 7551...\n"
     ]
    },
    {
     "name": "stdout",
     "output_type": "stream",
     "text": [
      "INFO:tensorflow:Saving checkpoints for 7551 into /data/heerak/music_vae/train/model.ckpt.\n"
     ]
    },
    {
     "name": "stderr",
     "output_type": "stream",
     "text": [
      "INFO:tensorflow:Saving checkpoints for 7551 into /data/heerak/music_vae/train/model.ckpt.\n"
     ]
    },
    {
     "name": "stdout",
     "output_type": "stream",
     "text": [
      "INFO:tensorflow:Calling checkpoint listeners after saving checkpoint 7551...\n"
     ]
    },
    {
     "name": "stderr",
     "output_type": "stream",
     "text": [
      "INFO:tensorflow:Calling checkpoint listeners after saving checkpoint 7551...\n"
     ]
    },
    {
     "name": "stdout",
     "output_type": "stream",
     "text": [
      "INFO:tensorflow:global_step/sec: 0.918682\n"
     ]
    },
    {
     "name": "stderr",
     "output_type": "stream",
     "text": [
      "INFO:tensorflow:global_step/sec: 0.918682\n"
     ]
    },
    {
     "name": "stdout",
     "output_type": "stream",
     "text": [
      "INFO:tensorflow:global_step = 7600, loss = 63.97148 (108.851 sec)\n"
     ]
    },
    {
     "name": "stderr",
     "output_type": "stream",
     "text": [
      "INFO:tensorflow:global_step = 7600, loss = 63.97148 (108.851 sec)\n"
     ]
    },
    {
     "name": "stdout",
     "output_type": "stream",
     "text": [
      "INFO:tensorflow:Calling checkpoint listeners before saving checkpoint 7606...\n"
     ]
    },
    {
     "name": "stderr",
     "output_type": "stream",
     "text": [
      "INFO:tensorflow:Calling checkpoint listeners before saving checkpoint 7606...\n"
     ]
    },
    {
     "name": "stdout",
     "output_type": "stream",
     "text": [
      "INFO:tensorflow:Saving checkpoints for 7606 into /data/heerak/music_vae/train/model.ckpt.\n"
     ]
    },
    {
     "name": "stderr",
     "output_type": "stream",
     "text": [
      "INFO:tensorflow:Saving checkpoints for 7606 into /data/heerak/music_vae/train/model.ckpt.\n"
     ]
    },
    {
     "name": "stdout",
     "output_type": "stream",
     "text": [
      "INFO:tensorflow:Calling checkpoint listeners after saving checkpoint 7606...\n"
     ]
    },
    {
     "name": "stderr",
     "output_type": "stream",
     "text": [
      "INFO:tensorflow:Calling checkpoint listeners after saving checkpoint 7606...\n"
     ]
    },
    {
     "name": "stdout",
     "output_type": "stream",
     "text": [
      "INFO:tensorflow:Calling checkpoint listeners before saving checkpoint 7661...\n"
     ]
    },
    {
     "name": "stderr",
     "output_type": "stream",
     "text": [
      "INFO:tensorflow:Calling checkpoint listeners before saving checkpoint 7661...\n"
     ]
    },
    {
     "name": "stdout",
     "output_type": "stream",
     "text": [
      "INFO:tensorflow:Saving checkpoints for 7661 into /data/heerak/music_vae/train/model.ckpt.\n"
     ]
    },
    {
     "name": "stderr",
     "output_type": "stream",
     "text": [
      "INFO:tensorflow:Saving checkpoints for 7661 into /data/heerak/music_vae/train/model.ckpt.\n"
     ]
    },
    {
     "name": "stdout",
     "output_type": "stream",
     "text": [
      "INFO:tensorflow:Calling checkpoint listeners after saving checkpoint 7661...\n"
     ]
    },
    {
     "name": "stderr",
     "output_type": "stream",
     "text": [
      "INFO:tensorflow:Calling checkpoint listeners after saving checkpoint 7661...\n"
     ]
    },
    {
     "name": "stdout",
     "output_type": "stream",
     "text": [
      "INFO:tensorflow:global_step/sec: 0.906264\n"
     ]
    },
    {
     "name": "stderr",
     "output_type": "stream",
     "text": [
      "INFO:tensorflow:global_step/sec: 0.906264\n"
     ]
    },
    {
     "name": "stdout",
     "output_type": "stream",
     "text": [
      "INFO:tensorflow:global_step = 7700, loss = 68.80499 (110.344 sec)\n"
     ]
    },
    {
     "name": "stderr",
     "output_type": "stream",
     "text": [
      "INFO:tensorflow:global_step = 7700, loss = 68.80499 (110.344 sec)\n"
     ]
    },
    {
     "name": "stdout",
     "output_type": "stream",
     "text": [
      "INFO:tensorflow:Calling checkpoint listeners before saving checkpoint 7716...\n"
     ]
    },
    {
     "name": "stderr",
     "output_type": "stream",
     "text": [
      "INFO:tensorflow:Calling checkpoint listeners before saving checkpoint 7716...\n"
     ]
    },
    {
     "name": "stdout",
     "output_type": "stream",
     "text": [
      "INFO:tensorflow:Saving checkpoints for 7716 into /data/heerak/music_vae/train/model.ckpt.\n"
     ]
    },
    {
     "name": "stderr",
     "output_type": "stream",
     "text": [
      "INFO:tensorflow:Saving checkpoints for 7716 into /data/heerak/music_vae/train/model.ckpt.\n"
     ]
    },
    {
     "name": "stdout",
     "output_type": "stream",
     "text": [
      "INFO:tensorflow:Calling checkpoint listeners after saving checkpoint 7716...\n"
     ]
    },
    {
     "name": "stderr",
     "output_type": "stream",
     "text": [
      "INFO:tensorflow:Calling checkpoint listeners after saving checkpoint 7716...\n"
     ]
    },
    {
     "name": "stdout",
     "output_type": "stream",
     "text": [
      "INFO:tensorflow:Calling checkpoint listeners before saving checkpoint 7771...\n"
     ]
    },
    {
     "name": "stderr",
     "output_type": "stream",
     "text": [
      "INFO:tensorflow:Calling checkpoint listeners before saving checkpoint 7771...\n"
     ]
    },
    {
     "name": "stdout",
     "output_type": "stream",
     "text": [
      "INFO:tensorflow:Saving checkpoints for 7771 into /data/heerak/music_vae/train/model.ckpt.\n"
     ]
    },
    {
     "name": "stderr",
     "output_type": "stream",
     "text": [
      "INFO:tensorflow:Saving checkpoints for 7771 into /data/heerak/music_vae/train/model.ckpt.\n"
     ]
    },
    {
     "name": "stdout",
     "output_type": "stream",
     "text": [
      "INFO:tensorflow:Calling checkpoint listeners after saving checkpoint 7771...\n"
     ]
    },
    {
     "name": "stderr",
     "output_type": "stream",
     "text": [
      "INFO:tensorflow:Calling checkpoint listeners after saving checkpoint 7771...\n"
     ]
    },
    {
     "name": "stdout",
     "output_type": "stream",
     "text": [
      "INFO:tensorflow:global_step/sec: 0.90582\n"
     ]
    },
    {
     "name": "stderr",
     "output_type": "stream",
     "text": [
      "INFO:tensorflow:global_step/sec: 0.90582\n"
     ]
    },
    {
     "name": "stdout",
     "output_type": "stream",
     "text": [
      "INFO:tensorflow:global_step = 7800, loss = 64.11248 (110.397 sec)\n"
     ]
    },
    {
     "name": "stderr",
     "output_type": "stream",
     "text": [
      "INFO:tensorflow:global_step = 7800, loss = 64.11248 (110.397 sec)\n"
     ]
    },
    {
     "name": "stdout",
     "output_type": "stream",
     "text": [
      "INFO:tensorflow:Calling checkpoint listeners before saving checkpoint 7826...\n"
     ]
    },
    {
     "name": "stderr",
     "output_type": "stream",
     "text": [
      "INFO:tensorflow:Calling checkpoint listeners before saving checkpoint 7826...\n"
     ]
    },
    {
     "name": "stdout",
     "output_type": "stream",
     "text": [
      "INFO:tensorflow:Saving checkpoints for 7826 into /data/heerak/music_vae/train/model.ckpt.\n"
     ]
    },
    {
     "name": "stderr",
     "output_type": "stream",
     "text": [
      "INFO:tensorflow:Saving checkpoints for 7826 into /data/heerak/music_vae/train/model.ckpt.\n"
     ]
    },
    {
     "name": "stdout",
     "output_type": "stream",
     "text": [
      "INFO:tensorflow:Calling checkpoint listeners after saving checkpoint 7826...\n"
     ]
    },
    {
     "name": "stderr",
     "output_type": "stream",
     "text": [
      "INFO:tensorflow:Calling checkpoint listeners after saving checkpoint 7826...\n"
     ]
    },
    {
     "name": "stdout",
     "output_type": "stream",
     "text": [
      "INFO:tensorflow:Calling checkpoint listeners before saving checkpoint 7881...\n"
     ]
    },
    {
     "name": "stderr",
     "output_type": "stream",
     "text": [
      "INFO:tensorflow:Calling checkpoint listeners before saving checkpoint 7881...\n"
     ]
    },
    {
     "name": "stdout",
     "output_type": "stream",
     "text": [
      "INFO:tensorflow:Saving checkpoints for 7881 into /data/heerak/music_vae/train/model.ckpt.\n"
     ]
    },
    {
     "name": "stderr",
     "output_type": "stream",
     "text": [
      "INFO:tensorflow:Saving checkpoints for 7881 into /data/heerak/music_vae/train/model.ckpt.\n"
     ]
    },
    {
     "name": "stdout",
     "output_type": "stream",
     "text": [
      "INFO:tensorflow:Calling checkpoint listeners after saving checkpoint 7881...\n"
     ]
    },
    {
     "name": "stderr",
     "output_type": "stream",
     "text": [
      "INFO:tensorflow:Calling checkpoint listeners after saving checkpoint 7881...\n"
     ]
    },
    {
     "name": "stdout",
     "output_type": "stream",
     "text": [
      "INFO:tensorflow:global_step/sec: 0.905584\n"
     ]
    },
    {
     "name": "stderr",
     "output_type": "stream",
     "text": [
      "INFO:tensorflow:global_step/sec: 0.905584\n"
     ]
    },
    {
     "name": "stdout",
     "output_type": "stream",
     "text": [
      "INFO:tensorflow:global_step = 7900, loss = 63.96913 (110.426 sec)\n"
     ]
    },
    {
     "name": "stderr",
     "output_type": "stream",
     "text": [
      "INFO:tensorflow:global_step = 7900, loss = 63.96913 (110.426 sec)\n"
     ]
    },
    {
     "name": "stdout",
     "output_type": "stream",
     "text": [
      "INFO:tensorflow:Calling checkpoint listeners before saving checkpoint 7936...\n"
     ]
    },
    {
     "name": "stderr",
     "output_type": "stream",
     "text": [
      "INFO:tensorflow:Calling checkpoint listeners before saving checkpoint 7936...\n"
     ]
    },
    {
     "name": "stdout",
     "output_type": "stream",
     "text": [
      "INFO:tensorflow:Saving checkpoints for 7936 into /data/heerak/music_vae/train/model.ckpt.\n"
     ]
    },
    {
     "name": "stderr",
     "output_type": "stream",
     "text": [
      "INFO:tensorflow:Saving checkpoints for 7936 into /data/heerak/music_vae/train/model.ckpt.\n"
     ]
    },
    {
     "name": "stdout",
     "output_type": "stream",
     "text": [
      "INFO:tensorflow:Calling checkpoint listeners after saving checkpoint 7936...\n"
     ]
    },
    {
     "name": "stderr",
     "output_type": "stream",
     "text": [
      "INFO:tensorflow:Calling checkpoint listeners after saving checkpoint 7936...\n"
     ]
    },
    {
     "name": "stdout",
     "output_type": "stream",
     "text": [
      "INFO:tensorflow:Calling checkpoint listeners before saving checkpoint 7991...\n"
     ]
    },
    {
     "name": "stderr",
     "output_type": "stream",
     "text": [
      "INFO:tensorflow:Calling checkpoint listeners before saving checkpoint 7991...\n"
     ]
    },
    {
     "name": "stdout",
     "output_type": "stream",
     "text": [
      "INFO:tensorflow:Saving checkpoints for 7991 into /data/heerak/music_vae/train/model.ckpt.\n"
     ]
    },
    {
     "name": "stderr",
     "output_type": "stream",
     "text": [
      "INFO:tensorflow:Saving checkpoints for 7991 into /data/heerak/music_vae/train/model.ckpt.\n"
     ]
    },
    {
     "name": "stdout",
     "output_type": "stream",
     "text": [
      "INFO:tensorflow:Calling checkpoint listeners after saving checkpoint 7991...\n"
     ]
    },
    {
     "name": "stderr",
     "output_type": "stream",
     "text": [
      "INFO:tensorflow:Calling checkpoint listeners after saving checkpoint 7991...\n"
     ]
    },
    {
     "name": "stdout",
     "output_type": "stream",
     "text": [
      "INFO:tensorflow:global_step/sec: 0.907083\n"
     ]
    },
    {
     "name": "stderr",
     "output_type": "stream",
     "text": [
      "INFO:tensorflow:global_step/sec: 0.907083\n"
     ]
    },
    {
     "name": "stdout",
     "output_type": "stream",
     "text": [
      "INFO:tensorflow:global_step = 8000, loss = 61.39756 (110.244 sec)\n"
     ]
    },
    {
     "name": "stderr",
     "output_type": "stream",
     "text": [
      "INFO:tensorflow:global_step = 8000, loss = 61.39756 (110.244 sec)\n"
     ]
    },
    {
     "name": "stdout",
     "output_type": "stream",
     "text": [
      "INFO:tensorflow:Calling checkpoint listeners before saving checkpoint 8046...\n"
     ]
    },
    {
     "name": "stderr",
     "output_type": "stream",
     "text": [
      "INFO:tensorflow:Calling checkpoint listeners before saving checkpoint 8046...\n"
     ]
    },
    {
     "name": "stdout",
     "output_type": "stream",
     "text": [
      "INFO:tensorflow:Saving checkpoints for 8046 into /data/heerak/music_vae/train/model.ckpt.\n"
     ]
    },
    {
     "name": "stderr",
     "output_type": "stream",
     "text": [
      "INFO:tensorflow:Saving checkpoints for 8046 into /data/heerak/music_vae/train/model.ckpt.\n"
     ]
    },
    {
     "name": "stdout",
     "output_type": "stream",
     "text": [
      "INFO:tensorflow:Calling checkpoint listeners after saving checkpoint 8046...\n"
     ]
    },
    {
     "name": "stderr",
     "output_type": "stream",
     "text": [
      "INFO:tensorflow:Calling checkpoint listeners after saving checkpoint 8046...\n"
     ]
    },
    {
     "name": "stdout",
     "output_type": "stream",
     "text": [
      "INFO:tensorflow:global_step/sec: 0.917969\n"
     ]
    },
    {
     "name": "stderr",
     "output_type": "stream",
     "text": [
      "INFO:tensorflow:global_step/sec: 0.917969\n"
     ]
    },
    {
     "name": "stdout",
     "output_type": "stream",
     "text": [
      "INFO:tensorflow:Calling checkpoint listeners before saving checkpoint 8101...\n"
     ]
    },
    {
     "name": "stderr",
     "output_type": "stream",
     "text": [
      "INFO:tensorflow:Calling checkpoint listeners before saving checkpoint 8101...\n"
     ]
    },
    {
     "name": "stdout",
     "output_type": "stream",
     "text": [
      "INFO:tensorflow:Saving checkpoints for 8101 into /data/heerak/music_vae/train/model.ckpt.\n"
     ]
    },
    {
     "name": "stderr",
     "output_type": "stream",
     "text": [
      "INFO:tensorflow:Saving checkpoints for 8101 into /data/heerak/music_vae/train/model.ckpt.\n"
     ]
    },
    {
     "name": "stdout",
     "output_type": "stream",
     "text": [
      "INFO:tensorflow:Calling checkpoint listeners after saving checkpoint 8101...\n"
     ]
    },
    {
     "name": "stderr",
     "output_type": "stream",
     "text": [
      "INFO:tensorflow:Calling checkpoint listeners after saving checkpoint 8101...\n"
     ]
    },
    {
     "name": "stdout",
     "output_type": "stream",
     "text": [
      "INFO:tensorflow:global_step = 8100, loss = 68.267845 (110.333 sec)\n"
     ]
    },
    {
     "name": "stderr",
     "output_type": "stream",
     "text": [
      "INFO:tensorflow:global_step = 8100, loss = 68.267845 (110.333 sec)\n"
     ]
    },
    {
     "name": "stdout",
     "output_type": "stream",
     "text": [
      "INFO:tensorflow:Calling checkpoint listeners before saving checkpoint 8156...\n"
     ]
    },
    {
     "name": "stderr",
     "output_type": "stream",
     "text": [
      "INFO:tensorflow:Calling checkpoint listeners before saving checkpoint 8156...\n"
     ]
    },
    {
     "name": "stdout",
     "output_type": "stream",
     "text": [
      "INFO:tensorflow:Saving checkpoints for 8156 into /data/heerak/music_vae/train/model.ckpt.\n"
     ]
    },
    {
     "name": "stderr",
     "output_type": "stream",
     "text": [
      "INFO:tensorflow:Saving checkpoints for 8156 into /data/heerak/music_vae/train/model.ckpt.\n"
     ]
    },
    {
     "name": "stdout",
     "output_type": "stream",
     "text": [
      "INFO:tensorflow:Calling checkpoint listeners after saving checkpoint 8156...\n"
     ]
    },
    {
     "name": "stderr",
     "output_type": "stream",
     "text": [
      "INFO:tensorflow:Calling checkpoint listeners after saving checkpoint 8156...\n"
     ]
    },
    {
     "name": "stdout",
     "output_type": "stream",
     "text": [
      "INFO:tensorflow:global_step/sec: 0.907182\n"
     ]
    },
    {
     "name": "stderr",
     "output_type": "stream",
     "text": [
      "INFO:tensorflow:global_step/sec: 0.907182\n"
     ]
    },
    {
     "name": "stdout",
     "output_type": "stream",
     "text": [
      "INFO:tensorflow:global_step = 8200, loss = 64.72043 (108.834 sec)\n"
     ]
    },
    {
     "name": "stderr",
     "output_type": "stream",
     "text": [
      "INFO:tensorflow:global_step = 8200, loss = 64.72043 (108.834 sec)\n"
     ]
    },
    {
     "name": "stdout",
     "output_type": "stream",
     "text": [
      "INFO:tensorflow:Calling checkpoint listeners before saving checkpoint 8211...\n"
     ]
    },
    {
     "name": "stderr",
     "output_type": "stream",
     "text": [
      "INFO:tensorflow:Calling checkpoint listeners before saving checkpoint 8211...\n"
     ]
    },
    {
     "name": "stdout",
     "output_type": "stream",
     "text": [
      "INFO:tensorflow:Saving checkpoints for 8211 into /data/heerak/music_vae/train/model.ckpt.\n"
     ]
    },
    {
     "name": "stderr",
     "output_type": "stream",
     "text": [
      "INFO:tensorflow:Saving checkpoints for 8211 into /data/heerak/music_vae/train/model.ckpt.\n"
     ]
    },
    {
     "name": "stdout",
     "output_type": "stream",
     "text": [
      "INFO:tensorflow:Calling checkpoint listeners after saving checkpoint 8211...\n"
     ]
    },
    {
     "name": "stderr",
     "output_type": "stream",
     "text": [
      "INFO:tensorflow:Calling checkpoint listeners after saving checkpoint 8211...\n"
     ]
    },
    {
     "name": "stdout",
     "output_type": "stream",
     "text": [
      "INFO:tensorflow:Calling checkpoint listeners before saving checkpoint 8266...\n"
     ]
    },
    {
     "name": "stderr",
     "output_type": "stream",
     "text": [
      "INFO:tensorflow:Calling checkpoint listeners before saving checkpoint 8266...\n"
     ]
    },
    {
     "name": "stdout",
     "output_type": "stream",
     "text": [
      "INFO:tensorflow:Saving checkpoints for 8266 into /data/heerak/music_vae/train/model.ckpt.\n"
     ]
    },
    {
     "name": "stderr",
     "output_type": "stream",
     "text": [
      "INFO:tensorflow:Saving checkpoints for 8266 into /data/heerak/music_vae/train/model.ckpt.\n"
     ]
    },
    {
     "name": "stdout",
     "output_type": "stream",
     "text": [
      "INFO:tensorflow:Calling checkpoint listeners after saving checkpoint 8266...\n"
     ]
    },
    {
     "name": "stderr",
     "output_type": "stream",
     "text": [
      "INFO:tensorflow:Calling checkpoint listeners after saving checkpoint 8266...\n"
     ]
    },
    {
     "name": "stdout",
     "output_type": "stream",
     "text": [
      "INFO:tensorflow:global_step/sec: 0.906377\n"
     ]
    },
    {
     "name": "stderr",
     "output_type": "stream",
     "text": [
      "INFO:tensorflow:global_step/sec: 0.906377\n"
     ]
    },
    {
     "name": "stdout",
     "output_type": "stream",
     "text": [
      "INFO:tensorflow:global_step = 8300, loss = 63.59583 (110.330 sec)\n"
     ]
    },
    {
     "name": "stderr",
     "output_type": "stream",
     "text": [
      "INFO:tensorflow:global_step = 8300, loss = 63.59583 (110.330 sec)\n"
     ]
    },
    {
     "name": "stdout",
     "output_type": "stream",
     "text": [
      "INFO:tensorflow:Calling checkpoint listeners before saving checkpoint 8321...\n"
     ]
    },
    {
     "name": "stderr",
     "output_type": "stream",
     "text": [
      "INFO:tensorflow:Calling checkpoint listeners before saving checkpoint 8321...\n"
     ]
    },
    {
     "name": "stdout",
     "output_type": "stream",
     "text": [
      "INFO:tensorflow:Saving checkpoints for 8321 into /data/heerak/music_vae/train/model.ckpt.\n"
     ]
    },
    {
     "name": "stderr",
     "output_type": "stream",
     "text": [
      "INFO:tensorflow:Saving checkpoints for 8321 into /data/heerak/music_vae/train/model.ckpt.\n"
     ]
    },
    {
     "name": "stdout",
     "output_type": "stream",
     "text": [
      "INFO:tensorflow:Calling checkpoint listeners after saving checkpoint 8321...\n"
     ]
    },
    {
     "name": "stderr",
     "output_type": "stream",
     "text": [
      "INFO:tensorflow:Calling checkpoint listeners after saving checkpoint 8321...\n"
     ]
    },
    {
     "name": "stdout",
     "output_type": "stream",
     "text": [
      "INFO:tensorflow:Calling checkpoint listeners before saving checkpoint 8376...\n"
     ]
    },
    {
     "name": "stderr",
     "output_type": "stream",
     "text": [
      "INFO:tensorflow:Calling checkpoint listeners before saving checkpoint 8376...\n"
     ]
    },
    {
     "name": "stdout",
     "output_type": "stream",
     "text": [
      "INFO:tensorflow:Saving checkpoints for 8376 into /data/heerak/music_vae/train/model.ckpt.\n"
     ]
    },
    {
     "name": "stderr",
     "output_type": "stream",
     "text": [
      "INFO:tensorflow:Saving checkpoints for 8376 into /data/heerak/music_vae/train/model.ckpt.\n"
     ]
    },
    {
     "name": "stdout",
     "output_type": "stream",
     "text": [
      "INFO:tensorflow:Calling checkpoint listeners after saving checkpoint 8376...\n"
     ]
    },
    {
     "name": "stderr",
     "output_type": "stream",
     "text": [
      "INFO:tensorflow:Calling checkpoint listeners after saving checkpoint 8376...\n"
     ]
    },
    {
     "name": "stdout",
     "output_type": "stream",
     "text": [
      "INFO:tensorflow:global_step/sec: 0.90549\n"
     ]
    },
    {
     "name": "stderr",
     "output_type": "stream",
     "text": [
      "INFO:tensorflow:global_step/sec: 0.90549\n"
     ]
    },
    {
     "name": "stdout",
     "output_type": "stream",
     "text": [
      "INFO:tensorflow:global_step = 8400, loss = 59.79289 (110.437 sec)\n"
     ]
    },
    {
     "name": "stderr",
     "output_type": "stream",
     "text": [
      "INFO:tensorflow:global_step = 8400, loss = 59.79289 (110.437 sec)\n"
     ]
    },
    {
     "name": "stdout",
     "output_type": "stream",
     "text": [
      "INFO:tensorflow:Calling checkpoint listeners before saving checkpoint 8431...\n"
     ]
    },
    {
     "name": "stderr",
     "output_type": "stream",
     "text": [
      "INFO:tensorflow:Calling checkpoint listeners before saving checkpoint 8431...\n"
     ]
    },
    {
     "name": "stdout",
     "output_type": "stream",
     "text": [
      "INFO:tensorflow:Saving checkpoints for 8431 into /data/heerak/music_vae/train/model.ckpt.\n"
     ]
    },
    {
     "name": "stderr",
     "output_type": "stream",
     "text": [
      "INFO:tensorflow:Saving checkpoints for 8431 into /data/heerak/music_vae/train/model.ckpt.\n"
     ]
    },
    {
     "name": "stdout",
     "output_type": "stream",
     "text": [
      "INFO:tensorflow:Calling checkpoint listeners after saving checkpoint 8431...\n"
     ]
    },
    {
     "name": "stderr",
     "output_type": "stream",
     "text": [
      "INFO:tensorflow:Calling checkpoint listeners after saving checkpoint 8431...\n"
     ]
    },
    {
     "name": "stdout",
     "output_type": "stream",
     "text": [
      "INFO:tensorflow:Calling checkpoint listeners before saving checkpoint 8486...\n"
     ]
    },
    {
     "name": "stderr",
     "output_type": "stream",
     "text": [
      "INFO:tensorflow:Calling checkpoint listeners before saving checkpoint 8486...\n"
     ]
    },
    {
     "name": "stdout",
     "output_type": "stream",
     "text": [
      "INFO:tensorflow:Saving checkpoints for 8486 into /data/heerak/music_vae/train/model.ckpt.\n"
     ]
    },
    {
     "name": "stderr",
     "output_type": "stream",
     "text": [
      "INFO:tensorflow:Saving checkpoints for 8486 into /data/heerak/music_vae/train/model.ckpt.\n"
     ]
    },
    {
     "name": "stdout",
     "output_type": "stream",
     "text": [
      "INFO:tensorflow:Calling checkpoint listeners after saving checkpoint 8486...\n"
     ]
    },
    {
     "name": "stderr",
     "output_type": "stream",
     "text": [
      "INFO:tensorflow:Calling checkpoint listeners after saving checkpoint 8486...\n"
     ]
    },
    {
     "name": "stdout",
     "output_type": "stream",
     "text": [
      "INFO:tensorflow:global_step/sec: 0.906529\n"
     ]
    },
    {
     "name": "stderr",
     "output_type": "stream",
     "text": [
      "INFO:tensorflow:global_step/sec: 0.906529\n"
     ]
    },
    {
     "name": "stdout",
     "output_type": "stream",
     "text": [
      "INFO:tensorflow:global_step = 8500, loss = 62.328873 (110.311 sec)\n"
     ]
    },
    {
     "name": "stderr",
     "output_type": "stream",
     "text": [
      "INFO:tensorflow:global_step = 8500, loss = 62.328873 (110.311 sec)\n"
     ]
    },
    {
     "name": "stdout",
     "output_type": "stream",
     "text": [
      "INFO:tensorflow:Calling checkpoint listeners before saving checkpoint 8541...\n"
     ]
    },
    {
     "name": "stderr",
     "output_type": "stream",
     "text": [
      "INFO:tensorflow:Calling checkpoint listeners before saving checkpoint 8541...\n"
     ]
    },
    {
     "name": "stdout",
     "output_type": "stream",
     "text": [
      "INFO:tensorflow:Saving checkpoints for 8541 into /data/heerak/music_vae/train/model.ckpt.\n"
     ]
    },
    {
     "name": "stderr",
     "output_type": "stream",
     "text": [
      "INFO:tensorflow:Saving checkpoints for 8541 into /data/heerak/music_vae/train/model.ckpt.\n"
     ]
    },
    {
     "name": "stdout",
     "output_type": "stream",
     "text": [
      "INFO:tensorflow:Calling checkpoint listeners after saving checkpoint 8541...\n"
     ]
    },
    {
     "name": "stderr",
     "output_type": "stream",
     "text": [
      "INFO:tensorflow:Calling checkpoint listeners after saving checkpoint 8541...\n"
     ]
    },
    {
     "name": "stdout",
     "output_type": "stream",
     "text": [
      "INFO:tensorflow:Calling checkpoint listeners before saving checkpoint 8596...\n"
     ]
    },
    {
     "name": "stderr",
     "output_type": "stream",
     "text": [
      "INFO:tensorflow:Calling checkpoint listeners before saving checkpoint 8596...\n"
     ]
    },
    {
     "name": "stdout",
     "output_type": "stream",
     "text": [
      "INFO:tensorflow:Saving checkpoints for 8596 into /data/heerak/music_vae/train/model.ckpt.\n"
     ]
    },
    {
     "name": "stderr",
     "output_type": "stream",
     "text": [
      "INFO:tensorflow:Saving checkpoints for 8596 into /data/heerak/music_vae/train/model.ckpt.\n"
     ]
    },
    {
     "name": "stdout",
     "output_type": "stream",
     "text": [
      "INFO:tensorflow:Calling checkpoint listeners after saving checkpoint 8596...\n"
     ]
    },
    {
     "name": "stderr",
     "output_type": "stream",
     "text": [
      "INFO:tensorflow:Calling checkpoint listeners after saving checkpoint 8596...\n"
     ]
    },
    {
     "name": "stdout",
     "output_type": "stream",
     "text": [
      "INFO:tensorflow:global_step/sec: 0.905637\n"
     ]
    },
    {
     "name": "stderr",
     "output_type": "stream",
     "text": [
      "INFO:tensorflow:global_step/sec: 0.905637\n"
     ]
    },
    {
     "name": "stdout",
     "output_type": "stream",
     "text": [
      "INFO:tensorflow:global_step = 8600, loss = 63.510628 (110.419 sec)\n"
     ]
    },
    {
     "name": "stderr",
     "output_type": "stream",
     "text": [
      "INFO:tensorflow:global_step = 8600, loss = 63.510628 (110.419 sec)\n"
     ]
    },
    {
     "name": "stdout",
     "output_type": "stream",
     "text": [
      "INFO:tensorflow:Calling checkpoint listeners before saving checkpoint 8651...\n"
     ]
    },
    {
     "name": "stderr",
     "output_type": "stream",
     "text": [
      "INFO:tensorflow:Calling checkpoint listeners before saving checkpoint 8651...\n"
     ]
    },
    {
     "name": "stdout",
     "output_type": "stream",
     "text": [
      "INFO:tensorflow:Saving checkpoints for 8651 into /data/heerak/music_vae/train/model.ckpt.\n"
     ]
    },
    {
     "name": "stderr",
     "output_type": "stream",
     "text": [
      "INFO:tensorflow:Saving checkpoints for 8651 into /data/heerak/music_vae/train/model.ckpt.\n"
     ]
    },
    {
     "name": "stdout",
     "output_type": "stream",
     "text": [
      "INFO:tensorflow:Calling checkpoint listeners after saving checkpoint 8651...\n"
     ]
    },
    {
     "name": "stderr",
     "output_type": "stream",
     "text": [
      "INFO:tensorflow:Calling checkpoint listeners after saving checkpoint 8651...\n"
     ]
    },
    {
     "name": "stdout",
     "output_type": "stream",
     "text": [
      "INFO:tensorflow:global_step/sec: 0.918538\n"
     ]
    },
    {
     "name": "stderr",
     "output_type": "stream",
     "text": [
      "INFO:tensorflow:global_step/sec: 0.918538\n"
     ]
    },
    {
     "name": "stdout",
     "output_type": "stream",
     "text": [
      "INFO:tensorflow:global_step = 8700, loss = 56.421295 (108.869 sec)\n"
     ]
    },
    {
     "name": "stderr",
     "output_type": "stream",
     "text": [
      "INFO:tensorflow:global_step = 8700, loss = 56.421295 (108.869 sec)\n"
     ]
    },
    {
     "name": "stdout",
     "output_type": "stream",
     "text": [
      "INFO:tensorflow:Calling checkpoint listeners before saving checkpoint 8706...\n"
     ]
    },
    {
     "name": "stderr",
     "output_type": "stream",
     "text": [
      "INFO:tensorflow:Calling checkpoint listeners before saving checkpoint 8706...\n"
     ]
    },
    {
     "name": "stdout",
     "output_type": "stream",
     "text": [
      "INFO:tensorflow:Saving checkpoints for 8706 into /data/heerak/music_vae/train/model.ckpt.\n"
     ]
    },
    {
     "name": "stderr",
     "output_type": "stream",
     "text": [
      "INFO:tensorflow:Saving checkpoints for 8706 into /data/heerak/music_vae/train/model.ckpt.\n"
     ]
    },
    {
     "name": "stdout",
     "output_type": "stream",
     "text": [
      "INFO:tensorflow:Calling checkpoint listeners after saving checkpoint 8706...\n"
     ]
    },
    {
     "name": "stderr",
     "output_type": "stream",
     "text": [
      "INFO:tensorflow:Calling checkpoint listeners after saving checkpoint 8706...\n"
     ]
    },
    {
     "name": "stdout",
     "output_type": "stream",
     "text": [
      "INFO:tensorflow:Calling checkpoint listeners before saving checkpoint 8761...\n"
     ]
    },
    {
     "name": "stderr",
     "output_type": "stream",
     "text": [
      "INFO:tensorflow:Calling checkpoint listeners before saving checkpoint 8761...\n"
     ]
    },
    {
     "name": "stdout",
     "output_type": "stream",
     "text": [
      "INFO:tensorflow:Saving checkpoints for 8761 into /data/heerak/music_vae/train/model.ckpt.\n"
     ]
    },
    {
     "name": "stderr",
     "output_type": "stream",
     "text": [
      "INFO:tensorflow:Saving checkpoints for 8761 into /data/heerak/music_vae/train/model.ckpt.\n"
     ]
    },
    {
     "name": "stdout",
     "output_type": "stream",
     "text": [
      "INFO:tensorflow:Calling checkpoint listeners after saving checkpoint 8761...\n"
     ]
    },
    {
     "name": "stderr",
     "output_type": "stream",
     "text": [
      "INFO:tensorflow:Calling checkpoint listeners after saving checkpoint 8761...\n"
     ]
    },
    {
     "name": "stdout",
     "output_type": "stream",
     "text": [
      "INFO:tensorflow:global_step/sec: 0.907508\n"
     ]
    },
    {
     "name": "stderr",
     "output_type": "stream",
     "text": [
      "INFO:tensorflow:global_step/sec: 0.907508\n"
     ]
    },
    {
     "name": "stdout",
     "output_type": "stream",
     "text": [
      "INFO:tensorflow:global_step = 8800, loss = 63.36905 (110.193 sec)\n"
     ]
    },
    {
     "name": "stderr",
     "output_type": "stream",
     "text": [
      "INFO:tensorflow:global_step = 8800, loss = 63.36905 (110.193 sec)\n"
     ]
    },
    {
     "name": "stdout",
     "output_type": "stream",
     "text": [
      "INFO:tensorflow:Calling checkpoint listeners before saving checkpoint 8816...\n"
     ]
    },
    {
     "name": "stderr",
     "output_type": "stream",
     "text": [
      "INFO:tensorflow:Calling checkpoint listeners before saving checkpoint 8816...\n"
     ]
    },
    {
     "name": "stdout",
     "output_type": "stream",
     "text": [
      "INFO:tensorflow:Saving checkpoints for 8816 into /data/heerak/music_vae/train/model.ckpt.\n"
     ]
    },
    {
     "name": "stderr",
     "output_type": "stream",
     "text": [
      "INFO:tensorflow:Saving checkpoints for 8816 into /data/heerak/music_vae/train/model.ckpt.\n"
     ]
    },
    {
     "name": "stdout",
     "output_type": "stream",
     "text": [
      "INFO:tensorflow:Calling checkpoint listeners after saving checkpoint 8816...\n"
     ]
    },
    {
     "name": "stderr",
     "output_type": "stream",
     "text": [
      "INFO:tensorflow:Calling checkpoint listeners after saving checkpoint 8816...\n"
     ]
    },
    {
     "name": "stdout",
     "output_type": "stream",
     "text": [
      "INFO:tensorflow:Calling checkpoint listeners before saving checkpoint 8871...\n"
     ]
    },
    {
     "name": "stderr",
     "output_type": "stream",
     "text": [
      "INFO:tensorflow:Calling checkpoint listeners before saving checkpoint 8871...\n"
     ]
    },
    {
     "name": "stdout",
     "output_type": "stream",
     "text": [
      "INFO:tensorflow:Saving checkpoints for 8871 into /data/heerak/music_vae/train/model.ckpt.\n"
     ]
    },
    {
     "name": "stderr",
     "output_type": "stream",
     "text": [
      "INFO:tensorflow:Saving checkpoints for 8871 into /data/heerak/music_vae/train/model.ckpt.\n"
     ]
    },
    {
     "name": "stdout",
     "output_type": "stream",
     "text": [
      "INFO:tensorflow:Calling checkpoint listeners after saving checkpoint 8871...\n"
     ]
    },
    {
     "name": "stderr",
     "output_type": "stream",
     "text": [
      "INFO:tensorflow:Calling checkpoint listeners after saving checkpoint 8871...\n"
     ]
    },
    {
     "name": "stdout",
     "output_type": "stream",
     "text": [
      "INFO:tensorflow:global_step/sec: 0.905739\n"
     ]
    },
    {
     "name": "stderr",
     "output_type": "stream",
     "text": [
      "INFO:tensorflow:global_step/sec: 0.905739\n"
     ]
    },
    {
     "name": "stdout",
     "output_type": "stream",
     "text": [
      "INFO:tensorflow:global_step = 8900, loss = 59.46913 (110.406 sec)\n"
     ]
    },
    {
     "name": "stderr",
     "output_type": "stream",
     "text": [
      "INFO:tensorflow:global_step = 8900, loss = 59.46913 (110.406 sec)\n"
     ]
    },
    {
     "name": "stdout",
     "output_type": "stream",
     "text": [
      "INFO:tensorflow:Calling checkpoint listeners before saving checkpoint 8926...\n"
     ]
    },
    {
     "name": "stderr",
     "output_type": "stream",
     "text": [
      "INFO:tensorflow:Calling checkpoint listeners before saving checkpoint 8926...\n"
     ]
    },
    {
     "name": "stdout",
     "output_type": "stream",
     "text": [
      "INFO:tensorflow:Saving checkpoints for 8926 into /data/heerak/music_vae/train/model.ckpt.\n"
     ]
    },
    {
     "name": "stderr",
     "output_type": "stream",
     "text": [
      "INFO:tensorflow:Saving checkpoints for 8926 into /data/heerak/music_vae/train/model.ckpt.\n"
     ]
    },
    {
     "name": "stdout",
     "output_type": "stream",
     "text": [
      "INFO:tensorflow:Calling checkpoint listeners after saving checkpoint 8926...\n"
     ]
    },
    {
     "name": "stderr",
     "output_type": "stream",
     "text": [
      "INFO:tensorflow:Calling checkpoint listeners after saving checkpoint 8926...\n"
     ]
    },
    {
     "name": "stdout",
     "output_type": "stream",
     "text": [
      "INFO:tensorflow:Calling checkpoint listeners before saving checkpoint 8981...\n"
     ]
    },
    {
     "name": "stderr",
     "output_type": "stream",
     "text": [
      "INFO:tensorflow:Calling checkpoint listeners before saving checkpoint 8981...\n"
     ]
    },
    {
     "name": "stdout",
     "output_type": "stream",
     "text": [
      "INFO:tensorflow:Saving checkpoints for 8981 into /data/heerak/music_vae/train/model.ckpt.\n"
     ]
    },
    {
     "name": "stderr",
     "output_type": "stream",
     "text": [
      "INFO:tensorflow:Saving checkpoints for 8981 into /data/heerak/music_vae/train/model.ckpt.\n"
     ]
    },
    {
     "name": "stdout",
     "output_type": "stream",
     "text": [
      "INFO:tensorflow:Calling checkpoint listeners after saving checkpoint 8981...\n"
     ]
    },
    {
     "name": "stderr",
     "output_type": "stream",
     "text": [
      "INFO:tensorflow:Calling checkpoint listeners after saving checkpoint 8981...\n"
     ]
    },
    {
     "name": "stdout",
     "output_type": "stream",
     "text": [
      "INFO:tensorflow:global_step/sec: 0.906135\n"
     ]
    },
    {
     "name": "stderr",
     "output_type": "stream",
     "text": [
      "INFO:tensorflow:global_step/sec: 0.906135\n"
     ]
    },
    {
     "name": "stdout",
     "output_type": "stream",
     "text": [
      "INFO:tensorflow:global_step = 9000, loss = 65.35722 (110.359 sec)\n"
     ]
    },
    {
     "name": "stderr",
     "output_type": "stream",
     "text": [
      "INFO:tensorflow:global_step = 9000, loss = 65.35722 (110.359 sec)\n"
     ]
    },
    {
     "name": "stdout",
     "output_type": "stream",
     "text": [
      "INFO:tensorflow:Calling checkpoint listeners before saving checkpoint 9036...\n"
     ]
    },
    {
     "name": "stderr",
     "output_type": "stream",
     "text": [
      "INFO:tensorflow:Calling checkpoint listeners before saving checkpoint 9036...\n"
     ]
    },
    {
     "name": "stdout",
     "output_type": "stream",
     "text": [
      "INFO:tensorflow:Saving checkpoints for 9036 into /data/heerak/music_vae/train/model.ckpt.\n"
     ]
    },
    {
     "name": "stderr",
     "output_type": "stream",
     "text": [
      "INFO:tensorflow:Saving checkpoints for 9036 into /data/heerak/music_vae/train/model.ckpt.\n"
     ]
    },
    {
     "name": "stdout",
     "output_type": "stream",
     "text": [
      "INFO:tensorflow:Calling checkpoint listeners after saving checkpoint 9036...\n"
     ]
    },
    {
     "name": "stderr",
     "output_type": "stream",
     "text": [
      "INFO:tensorflow:Calling checkpoint listeners after saving checkpoint 9036...\n"
     ]
    },
    {
     "name": "stdout",
     "output_type": "stream",
     "text": [
      "INFO:tensorflow:Calling checkpoint listeners before saving checkpoint 9091...\n"
     ]
    },
    {
     "name": "stderr",
     "output_type": "stream",
     "text": [
      "INFO:tensorflow:Calling checkpoint listeners before saving checkpoint 9091...\n"
     ]
    },
    {
     "name": "stdout",
     "output_type": "stream",
     "text": [
      "INFO:tensorflow:Saving checkpoints for 9091 into /data/heerak/music_vae/train/model.ckpt.\n"
     ]
    },
    {
     "name": "stderr",
     "output_type": "stream",
     "text": [
      "INFO:tensorflow:Saving checkpoints for 9091 into /data/heerak/music_vae/train/model.ckpt.\n"
     ]
    },
    {
     "name": "stdout",
     "output_type": "stream",
     "text": [
      "INFO:tensorflow:Calling checkpoint listeners after saving checkpoint 9091...\n"
     ]
    },
    {
     "name": "stderr",
     "output_type": "stream",
     "text": [
      "INFO:tensorflow:Calling checkpoint listeners after saving checkpoint 9091...\n"
     ]
    },
    {
     "name": "stdout",
     "output_type": "stream",
     "text": [
      "INFO:tensorflow:global_step/sec: 0.907015\n"
     ]
    },
    {
     "name": "stderr",
     "output_type": "stream",
     "text": [
      "INFO:tensorflow:global_step/sec: 0.907015\n"
     ]
    },
    {
     "name": "stdout",
     "output_type": "stream",
     "text": [
      "INFO:tensorflow:global_step = 9100, loss = 59.065617 (110.253 sec)\n"
     ]
    },
    {
     "name": "stderr",
     "output_type": "stream",
     "text": [
      "INFO:tensorflow:global_step = 9100, loss = 59.065617 (110.253 sec)\n"
     ]
    },
    {
     "name": "stdout",
     "output_type": "stream",
     "text": [
      "INFO:tensorflow:Calling checkpoint listeners before saving checkpoint 9146...\n"
     ]
    },
    {
     "name": "stderr",
     "output_type": "stream",
     "text": [
      "INFO:tensorflow:Calling checkpoint listeners before saving checkpoint 9146...\n"
     ]
    },
    {
     "name": "stdout",
     "output_type": "stream",
     "text": [
      "INFO:tensorflow:Saving checkpoints for 9146 into /data/heerak/music_vae/train/model.ckpt.\n"
     ]
    },
    {
     "name": "stderr",
     "output_type": "stream",
     "text": [
      "INFO:tensorflow:Saving checkpoints for 9146 into /data/heerak/music_vae/train/model.ckpt.\n"
     ]
    },
    {
     "name": "stdout",
     "output_type": "stream",
     "text": [
      "INFO:tensorflow:Calling checkpoint listeners after saving checkpoint 9146...\n"
     ]
    },
    {
     "name": "stderr",
     "output_type": "stream",
     "text": [
      "INFO:tensorflow:Calling checkpoint listeners after saving checkpoint 9146...\n"
     ]
    },
    {
     "name": "stdout",
     "output_type": "stream",
     "text": [
      "INFO:tensorflow:global_step/sec: 0.920282\n"
     ]
    },
    {
     "name": "stderr",
     "output_type": "stream",
     "text": [
      "INFO:tensorflow:global_step/sec: 0.920282\n"
     ]
    },
    {
     "name": "stdout",
     "output_type": "stream",
     "text": [
      "INFO:tensorflow:Calling checkpoint listeners before saving checkpoint 9201...\n"
     ]
    },
    {
     "name": "stderr",
     "output_type": "stream",
     "text": [
      "INFO:tensorflow:Calling checkpoint listeners before saving checkpoint 9201...\n"
     ]
    },
    {
     "name": "stdout",
     "output_type": "stream",
     "text": [
      "INFO:tensorflow:Saving checkpoints for 9201 into /data/heerak/music_vae/train/model.ckpt.\n"
     ]
    },
    {
     "name": "stderr",
     "output_type": "stream",
     "text": [
      "INFO:tensorflow:Saving checkpoints for 9201 into /data/heerak/music_vae/train/model.ckpt.\n"
     ]
    },
    {
     "name": "stdout",
     "output_type": "stream",
     "text": [
      "INFO:tensorflow:Calling checkpoint listeners after saving checkpoint 9201...\n"
     ]
    },
    {
     "name": "stderr",
     "output_type": "stream",
     "text": [
      "INFO:tensorflow:Calling checkpoint listeners after saving checkpoint 9201...\n"
     ]
    },
    {
     "name": "stdout",
     "output_type": "stream",
     "text": [
      "INFO:tensorflow:global_step = 9200, loss = 60.24961 (110.110 sec)\n"
     ]
    },
    {
     "name": "stderr",
     "output_type": "stream",
     "text": [
      "INFO:tensorflow:global_step = 9200, loss = 60.24961 (110.110 sec)\n"
     ]
    },
    {
     "name": "stdout",
     "output_type": "stream",
     "text": [
      "INFO:tensorflow:Calling checkpoint listeners before saving checkpoint 9256...\n"
     ]
    },
    {
     "name": "stderr",
     "output_type": "stream",
     "text": [
      "INFO:tensorflow:Calling checkpoint listeners before saving checkpoint 9256...\n"
     ]
    },
    {
     "name": "stdout",
     "output_type": "stream",
     "text": [
      "INFO:tensorflow:Saving checkpoints for 9256 into /data/heerak/music_vae/train/model.ckpt.\n"
     ]
    },
    {
     "name": "stderr",
     "output_type": "stream",
     "text": [
      "INFO:tensorflow:Saving checkpoints for 9256 into /data/heerak/music_vae/train/model.ckpt.\n"
     ]
    },
    {
     "name": "stdout",
     "output_type": "stream",
     "text": [
      "INFO:tensorflow:Calling checkpoint listeners after saving checkpoint 9256...\n"
     ]
    },
    {
     "name": "stderr",
     "output_type": "stream",
     "text": [
      "INFO:tensorflow:Calling checkpoint listeners after saving checkpoint 9256...\n"
     ]
    },
    {
     "name": "stdout",
     "output_type": "stream",
     "text": [
      "INFO:tensorflow:global_step/sec: 0.907316\n"
     ]
    },
    {
     "name": "stderr",
     "output_type": "stream",
     "text": [
      "INFO:tensorflow:global_step/sec: 0.907316\n"
     ]
    },
    {
     "name": "stdout",
     "output_type": "stream",
     "text": [
      "INFO:tensorflow:global_step = 9300, loss = 61.543 (108.767 sec)\n"
     ]
    },
    {
     "name": "stderr",
     "output_type": "stream",
     "text": [
      "INFO:tensorflow:global_step = 9300, loss = 61.543 (108.767 sec)\n"
     ]
    },
    {
     "name": "stdout",
     "output_type": "stream",
     "text": [
      "INFO:tensorflow:Calling checkpoint listeners before saving checkpoint 9311...\n"
     ]
    },
    {
     "name": "stderr",
     "output_type": "stream",
     "text": [
      "INFO:tensorflow:Calling checkpoint listeners before saving checkpoint 9311...\n"
     ]
    },
    {
     "name": "stdout",
     "output_type": "stream",
     "text": [
      "INFO:tensorflow:Saving checkpoints for 9311 into /data/heerak/music_vae/train/model.ckpt.\n"
     ]
    },
    {
     "name": "stderr",
     "output_type": "stream",
     "text": [
      "INFO:tensorflow:Saving checkpoints for 9311 into /data/heerak/music_vae/train/model.ckpt.\n"
     ]
    },
    {
     "name": "stdout",
     "output_type": "stream",
     "text": [
      "INFO:tensorflow:Calling checkpoint listeners after saving checkpoint 9311...\n"
     ]
    },
    {
     "name": "stderr",
     "output_type": "stream",
     "text": [
      "INFO:tensorflow:Calling checkpoint listeners after saving checkpoint 9311...\n"
     ]
    },
    {
     "name": "stdout",
     "output_type": "stream",
     "text": [
      "INFO:tensorflow:Calling checkpoint listeners before saving checkpoint 9366...\n"
     ]
    },
    {
     "name": "stderr",
     "output_type": "stream",
     "text": [
      "INFO:tensorflow:Calling checkpoint listeners before saving checkpoint 9366...\n"
     ]
    },
    {
     "name": "stdout",
     "output_type": "stream",
     "text": [
      "INFO:tensorflow:Saving checkpoints for 9366 into /data/heerak/music_vae/train/model.ckpt.\n"
     ]
    },
    {
     "name": "stderr",
     "output_type": "stream",
     "text": [
      "INFO:tensorflow:Saving checkpoints for 9366 into /data/heerak/music_vae/train/model.ckpt.\n"
     ]
    },
    {
     "name": "stdout",
     "output_type": "stream",
     "text": [
      "INFO:tensorflow:Calling checkpoint listeners after saving checkpoint 9366...\n"
     ]
    },
    {
     "name": "stderr",
     "output_type": "stream",
     "text": [
      "INFO:tensorflow:Calling checkpoint listeners after saving checkpoint 9366...\n"
     ]
    },
    {
     "name": "stdout",
     "output_type": "stream",
     "text": [
      "INFO:tensorflow:global_step/sec: 0.907854\n"
     ]
    },
    {
     "name": "stderr",
     "output_type": "stream",
     "text": [
      "INFO:tensorflow:global_step/sec: 0.907854\n"
     ]
    },
    {
     "name": "stdout",
     "output_type": "stream",
     "text": [
      "INFO:tensorflow:global_step = 9400, loss = 57.85187 (110.150 sec)\n"
     ]
    },
    {
     "name": "stderr",
     "output_type": "stream",
     "text": [
      "INFO:tensorflow:global_step = 9400, loss = 57.85187 (110.150 sec)\n"
     ]
    },
    {
     "name": "stdout",
     "output_type": "stream",
     "text": [
      "INFO:tensorflow:Calling checkpoint listeners before saving checkpoint 9421...\n"
     ]
    },
    {
     "name": "stderr",
     "output_type": "stream",
     "text": [
      "INFO:tensorflow:Calling checkpoint listeners before saving checkpoint 9421...\n"
     ]
    },
    {
     "name": "stdout",
     "output_type": "stream",
     "text": [
      "INFO:tensorflow:Saving checkpoints for 9421 into /data/heerak/music_vae/train/model.ckpt.\n"
     ]
    },
    {
     "name": "stderr",
     "output_type": "stream",
     "text": [
      "INFO:tensorflow:Saving checkpoints for 9421 into /data/heerak/music_vae/train/model.ckpt.\n"
     ]
    },
    {
     "name": "stdout",
     "output_type": "stream",
     "text": [
      "INFO:tensorflow:Calling checkpoint listeners after saving checkpoint 9421...\n"
     ]
    },
    {
     "name": "stderr",
     "output_type": "stream",
     "text": [
      "INFO:tensorflow:Calling checkpoint listeners after saving checkpoint 9421...\n"
     ]
    },
    {
     "name": "stdout",
     "output_type": "stream",
     "text": [
      "INFO:tensorflow:Calling checkpoint listeners before saving checkpoint 9476...\n"
     ]
    },
    {
     "name": "stderr",
     "output_type": "stream",
     "text": [
      "INFO:tensorflow:Calling checkpoint listeners before saving checkpoint 9476...\n"
     ]
    },
    {
     "name": "stdout",
     "output_type": "stream",
     "text": [
      "INFO:tensorflow:Saving checkpoints for 9476 into /data/heerak/music_vae/train/model.ckpt.\n"
     ]
    },
    {
     "name": "stderr",
     "output_type": "stream",
     "text": [
      "INFO:tensorflow:Saving checkpoints for 9476 into /data/heerak/music_vae/train/model.ckpt.\n"
     ]
    },
    {
     "name": "stdout",
     "output_type": "stream",
     "text": [
      "INFO:tensorflow:Calling checkpoint listeners after saving checkpoint 9476...\n"
     ]
    },
    {
     "name": "stderr",
     "output_type": "stream",
     "text": [
      "INFO:tensorflow:Calling checkpoint listeners after saving checkpoint 9476...\n"
     ]
    },
    {
     "name": "stdout",
     "output_type": "stream",
     "text": [
      "INFO:tensorflow:global_step/sec: 0.907987\n"
     ]
    },
    {
     "name": "stderr",
     "output_type": "stream",
     "text": [
      "INFO:tensorflow:global_step/sec: 0.907987\n"
     ]
    },
    {
     "name": "stdout",
     "output_type": "stream",
     "text": [
      "INFO:tensorflow:global_step = 9500, loss = 59.838604 (110.134 sec)\n"
     ]
    },
    {
     "name": "stderr",
     "output_type": "stream",
     "text": [
      "INFO:tensorflow:global_step = 9500, loss = 59.838604 (110.134 sec)\n"
     ]
    },
    {
     "name": "stdout",
     "output_type": "stream",
     "text": [
      "INFO:tensorflow:Calling checkpoint listeners before saving checkpoint 9531...\n"
     ]
    },
    {
     "name": "stderr",
     "output_type": "stream",
     "text": [
      "INFO:tensorflow:Calling checkpoint listeners before saving checkpoint 9531...\n"
     ]
    },
    {
     "name": "stdout",
     "output_type": "stream",
     "text": [
      "INFO:tensorflow:Saving checkpoints for 9531 into /data/heerak/music_vae/train/model.ckpt.\n"
     ]
    },
    {
     "name": "stderr",
     "output_type": "stream",
     "text": [
      "INFO:tensorflow:Saving checkpoints for 9531 into /data/heerak/music_vae/train/model.ckpt.\n"
     ]
    },
    {
     "name": "stdout",
     "output_type": "stream",
     "text": [
      "INFO:tensorflow:Calling checkpoint listeners after saving checkpoint 9531...\n"
     ]
    },
    {
     "name": "stderr",
     "output_type": "stream",
     "text": [
      "INFO:tensorflow:Calling checkpoint listeners after saving checkpoint 9531...\n"
     ]
    },
    {
     "name": "stdout",
     "output_type": "stream",
     "text": [
      "INFO:tensorflow:Calling checkpoint listeners before saving checkpoint 9586...\n"
     ]
    },
    {
     "name": "stderr",
     "output_type": "stream",
     "text": [
      "INFO:tensorflow:Calling checkpoint listeners before saving checkpoint 9586...\n"
     ]
    },
    {
     "name": "stdout",
     "output_type": "stream",
     "text": [
      "INFO:tensorflow:Saving checkpoints for 9586 into /data/heerak/music_vae/train/model.ckpt.\n"
     ]
    },
    {
     "name": "stderr",
     "output_type": "stream",
     "text": [
      "INFO:tensorflow:Saving checkpoints for 9586 into /data/heerak/music_vae/train/model.ckpt.\n"
     ]
    },
    {
     "name": "stdout",
     "output_type": "stream",
     "text": [
      "INFO:tensorflow:Calling checkpoint listeners after saving checkpoint 9586...\n"
     ]
    },
    {
     "name": "stderr",
     "output_type": "stream",
     "text": [
      "INFO:tensorflow:Calling checkpoint listeners after saving checkpoint 9586...\n"
     ]
    },
    {
     "name": "stdout",
     "output_type": "stream",
     "text": [
      "INFO:tensorflow:global_step/sec: 0.90734\n"
     ]
    },
    {
     "name": "stderr",
     "output_type": "stream",
     "text": [
      "INFO:tensorflow:global_step/sec: 0.90734\n"
     ]
    },
    {
     "name": "stdout",
     "output_type": "stream",
     "text": [
      "INFO:tensorflow:global_step = 9600, loss = 58.45702 (110.212 sec)\n"
     ]
    },
    {
     "name": "stderr",
     "output_type": "stream",
     "text": [
      "INFO:tensorflow:global_step = 9600, loss = 58.45702 (110.212 sec)\n"
     ]
    },
    {
     "name": "stdout",
     "output_type": "stream",
     "text": [
      "INFO:tensorflow:Calling checkpoint listeners before saving checkpoint 9641...\n"
     ]
    },
    {
     "name": "stderr",
     "output_type": "stream",
     "text": [
      "INFO:tensorflow:Calling checkpoint listeners before saving checkpoint 9641...\n"
     ]
    },
    {
     "name": "stdout",
     "output_type": "stream",
     "text": [
      "INFO:tensorflow:Saving checkpoints for 9641 into /data/heerak/music_vae/train/model.ckpt.\n"
     ]
    },
    {
     "name": "stderr",
     "output_type": "stream",
     "text": [
      "INFO:tensorflow:Saving checkpoints for 9641 into /data/heerak/music_vae/train/model.ckpt.\n"
     ]
    },
    {
     "name": "stdout",
     "output_type": "stream",
     "text": [
      "INFO:tensorflow:Calling checkpoint listeners after saving checkpoint 9641...\n"
     ]
    },
    {
     "name": "stderr",
     "output_type": "stream",
     "text": [
      "INFO:tensorflow:Calling checkpoint listeners after saving checkpoint 9641...\n"
     ]
    },
    {
     "name": "stdout",
     "output_type": "stream",
     "text": [
      "INFO:tensorflow:Calling checkpoint listeners before saving checkpoint 9696...\n"
     ]
    },
    {
     "name": "stderr",
     "output_type": "stream",
     "text": [
      "INFO:tensorflow:Calling checkpoint listeners before saving checkpoint 9696...\n"
     ]
    },
    {
     "name": "stdout",
     "output_type": "stream",
     "text": [
      "INFO:tensorflow:Saving checkpoints for 9696 into /data/heerak/music_vae/train/model.ckpt.\n"
     ]
    },
    {
     "name": "stderr",
     "output_type": "stream",
     "text": [
      "INFO:tensorflow:Saving checkpoints for 9696 into /data/heerak/music_vae/train/model.ckpt.\n"
     ]
    },
    {
     "name": "stdout",
     "output_type": "stream",
     "text": [
      "INFO:tensorflow:Calling checkpoint listeners after saving checkpoint 9696...\n"
     ]
    },
    {
     "name": "stderr",
     "output_type": "stream",
     "text": [
      "INFO:tensorflow:Calling checkpoint listeners after saving checkpoint 9696...\n"
     ]
    },
    {
     "name": "stdout",
     "output_type": "stream",
     "text": [
      "INFO:tensorflow:global_step/sec: 0.905105\n"
     ]
    },
    {
     "name": "stderr",
     "output_type": "stream",
     "text": [
      "INFO:tensorflow:global_step/sec: 0.905105\n"
     ]
    },
    {
     "name": "stdout",
     "output_type": "stream",
     "text": [
      "INFO:tensorflow:global_step = 9700, loss = 58.95878 (110.485 sec)\n"
     ]
    },
    {
     "name": "stderr",
     "output_type": "stream",
     "text": [
      "INFO:tensorflow:global_step = 9700, loss = 58.95878 (110.485 sec)\n"
     ]
    },
    {
     "name": "stdout",
     "output_type": "stream",
     "text": [
      "INFO:tensorflow:Calling checkpoint listeners before saving checkpoint 9751...\n"
     ]
    },
    {
     "name": "stderr",
     "output_type": "stream",
     "text": [
      "INFO:tensorflow:Calling checkpoint listeners before saving checkpoint 9751...\n"
     ]
    },
    {
     "name": "stdout",
     "output_type": "stream",
     "text": [
      "INFO:tensorflow:Saving checkpoints for 9751 into /data/heerak/music_vae/train/model.ckpt.\n"
     ]
    },
    {
     "name": "stderr",
     "output_type": "stream",
     "text": [
      "INFO:tensorflow:Saving checkpoints for 9751 into /data/heerak/music_vae/train/model.ckpt.\n"
     ]
    },
    {
     "name": "stdout",
     "output_type": "stream",
     "text": [
      "INFO:tensorflow:Calling checkpoint listeners after saving checkpoint 9751...\n"
     ]
    },
    {
     "name": "stderr",
     "output_type": "stream",
     "text": [
      "INFO:tensorflow:Calling checkpoint listeners after saving checkpoint 9751...\n"
     ]
    },
    {
     "name": "stdout",
     "output_type": "stream",
     "text": [
      "INFO:tensorflow:global_step/sec: 0.918883\n"
     ]
    },
    {
     "name": "stderr",
     "output_type": "stream",
     "text": [
      "INFO:tensorflow:global_step/sec: 0.918883\n"
     ]
    },
    {
     "name": "stdout",
     "output_type": "stream",
     "text": [
      "INFO:tensorflow:global_step = 9800, loss = 60.264008 (108.827 sec)\n"
     ]
    },
    {
     "name": "stderr",
     "output_type": "stream",
     "text": [
      "INFO:tensorflow:global_step = 9800, loss = 60.264008 (108.827 sec)\n"
     ]
    },
    {
     "name": "stdout",
     "output_type": "stream",
     "text": [
      "INFO:tensorflow:Calling checkpoint listeners before saving checkpoint 9806...\n"
     ]
    },
    {
     "name": "stderr",
     "output_type": "stream",
     "text": [
      "INFO:tensorflow:Calling checkpoint listeners before saving checkpoint 9806...\n"
     ]
    },
    {
     "name": "stdout",
     "output_type": "stream",
     "text": [
      "INFO:tensorflow:Saving checkpoints for 9806 into /data/heerak/music_vae/train/model.ckpt.\n"
     ]
    },
    {
     "name": "stderr",
     "output_type": "stream",
     "text": [
      "INFO:tensorflow:Saving checkpoints for 9806 into /data/heerak/music_vae/train/model.ckpt.\n"
     ]
    },
    {
     "name": "stdout",
     "output_type": "stream",
     "text": [
      "INFO:tensorflow:Calling checkpoint listeners after saving checkpoint 9806...\n"
     ]
    },
    {
     "name": "stderr",
     "output_type": "stream",
     "text": [
      "INFO:tensorflow:Calling checkpoint listeners after saving checkpoint 9806...\n"
     ]
    },
    {
     "name": "stdout",
     "output_type": "stream",
     "text": [
      "INFO:tensorflow:Calling checkpoint listeners before saving checkpoint 9861...\n"
     ]
    },
    {
     "name": "stderr",
     "output_type": "stream",
     "text": [
      "INFO:tensorflow:Calling checkpoint listeners before saving checkpoint 9861...\n"
     ]
    },
    {
     "name": "stdout",
     "output_type": "stream",
     "text": [
      "INFO:tensorflow:Saving checkpoints for 9861 into /data/heerak/music_vae/train/model.ckpt.\n"
     ]
    },
    {
     "name": "stderr",
     "output_type": "stream",
     "text": [
      "INFO:tensorflow:Saving checkpoints for 9861 into /data/heerak/music_vae/train/model.ckpt.\n"
     ]
    },
    {
     "name": "stdout",
     "output_type": "stream",
     "text": [
      "INFO:tensorflow:Calling checkpoint listeners after saving checkpoint 9861...\n"
     ]
    },
    {
     "name": "stderr",
     "output_type": "stream",
     "text": [
      "INFO:tensorflow:Calling checkpoint listeners after saving checkpoint 9861...\n"
     ]
    },
    {
     "name": "stdout",
     "output_type": "stream",
     "text": [
      "INFO:tensorflow:global_step/sec: 0.906035\n"
     ]
    },
    {
     "name": "stderr",
     "output_type": "stream",
     "text": [
      "INFO:tensorflow:global_step/sec: 0.906035\n"
     ]
    },
    {
     "name": "stdout",
     "output_type": "stream",
     "text": [
      "INFO:tensorflow:global_step = 9900, loss = 54.582916 (110.371 sec)\n"
     ]
    },
    {
     "name": "stderr",
     "output_type": "stream",
     "text": [
      "INFO:tensorflow:global_step = 9900, loss = 54.582916 (110.371 sec)\n"
     ]
    },
    {
     "name": "stdout",
     "output_type": "stream",
     "text": [
      "INFO:tensorflow:Calling checkpoint listeners before saving checkpoint 9916...\n"
     ]
    },
    {
     "name": "stderr",
     "output_type": "stream",
     "text": [
      "INFO:tensorflow:Calling checkpoint listeners before saving checkpoint 9916...\n"
     ]
    },
    {
     "name": "stdout",
     "output_type": "stream",
     "text": [
      "INFO:tensorflow:Saving checkpoints for 9916 into /data/heerak/music_vae/train/model.ckpt.\n"
     ]
    },
    {
     "name": "stderr",
     "output_type": "stream",
     "text": [
      "INFO:tensorflow:Saving checkpoints for 9916 into /data/heerak/music_vae/train/model.ckpt.\n"
     ]
    },
    {
     "name": "stdout",
     "output_type": "stream",
     "text": [
      "INFO:tensorflow:Calling checkpoint listeners after saving checkpoint 9916...\n"
     ]
    },
    {
     "name": "stderr",
     "output_type": "stream",
     "text": [
      "INFO:tensorflow:Calling checkpoint listeners after saving checkpoint 9916...\n"
     ]
    },
    {
     "name": "stdout",
     "output_type": "stream",
     "text": [
      "INFO:tensorflow:Calling checkpoint listeners before saving checkpoint 9971...\n"
     ]
    },
    {
     "name": "stderr",
     "output_type": "stream",
     "text": [
      "INFO:tensorflow:Calling checkpoint listeners before saving checkpoint 9971...\n"
     ]
    },
    {
     "name": "stdout",
     "output_type": "stream",
     "text": [
      "INFO:tensorflow:Saving checkpoints for 9971 into /data/heerak/music_vae/train/model.ckpt.\n"
     ]
    },
    {
     "name": "stderr",
     "output_type": "stream",
     "text": [
      "INFO:tensorflow:Saving checkpoints for 9971 into /data/heerak/music_vae/train/model.ckpt.\n"
     ]
    },
    {
     "name": "stdout",
     "output_type": "stream",
     "text": [
      "INFO:tensorflow:Calling checkpoint listeners after saving checkpoint 9971...\n"
     ]
    },
    {
     "name": "stderr",
     "output_type": "stream",
     "text": [
      "INFO:tensorflow:Calling checkpoint listeners after saving checkpoint 9971...\n"
     ]
    },
    {
     "name": "stdout",
     "output_type": "stream",
     "text": [
      "INFO:tensorflow:Calling checkpoint listeners before saving checkpoint 10000...\n"
     ]
    },
    {
     "name": "stderr",
     "output_type": "stream",
     "text": [
      "INFO:tensorflow:Calling checkpoint listeners before saving checkpoint 10000...\n"
     ]
    },
    {
     "name": "stdout",
     "output_type": "stream",
     "text": [
      "INFO:tensorflow:Saving checkpoints for 10000 into /data/heerak/music_vae/train/model.ckpt.\n"
     ]
    },
    {
     "name": "stderr",
     "output_type": "stream",
     "text": [
      "INFO:tensorflow:Saving checkpoints for 10000 into /data/heerak/music_vae/train/model.ckpt.\n"
     ]
    },
    {
     "name": "stdout",
     "output_type": "stream",
     "text": [
      "INFO:tensorflow:Calling checkpoint listeners after saving checkpoint 10000...\n"
     ]
    },
    {
     "name": "stderr",
     "output_type": "stream",
     "text": [
      "INFO:tensorflow:Calling checkpoint listeners after saving checkpoint 10000...\n"
     ]
    }
   ],
   "source": [
    "run(CONFIG_MAP)"
   ]
  },
  {
   "cell_type": "markdown",
   "id": "78e42917-a751-46c5-a1ab-9dd8fc6c5cf3",
   "metadata": {},
   "source": [
    "# Generate\n",
    "\n",
    "music_vae_generate.py 에서 필요한 부분만 정의하여 사용"
   ]
  },
  {
   "cell_type": "code",
   "execution_count": 17,
   "id": "1800d266-dc98-40b8-a875-c33af71d8adb",
   "metadata": {},
   "outputs": [],
   "source": [
    "def generate(\n",
    "    config_map, \n",
    "    output_dir,\n",
    "    \n",
    "):\n",
    "    tf.gfile.MakeDirs(os.path.join(root_path, output_dir))\n",
    "    \n",
    "    config = config_map['groovae_4bar']\n",
    "  \n",
    "    config.data_converter.max_tensors_per_item = None\n",
    "\n",
    "    print('Loading model...')\n",
    "    checkpoint_dir_or_path = os.path.join(root_path, 'train')\n",
    "\n",
    "    model = TrainedModel(\n",
    "        config, \n",
    "        batch_size=1,\n",
    "        checkpoint_dir_or_path=checkpoint_dir_or_path\n",
    "    )\n",
    "\n",
    "    print('Sampling...')\n",
    "    results = model.sample(\n",
    "        n=1,\n",
    "        length=16*4,\n",
    "        temperature=0.5\n",
    "    )\n",
    "\n",
    "    note_seq.sequence_proto_to_midi_file(results[0], os.path.join(root_path, output_dir, 'drum_4bar.mid'))\n",
    "\n",
    "    print('Done.')"
   ]
  },
  {
   "cell_type": "code",
   "execution_count": 19,
   "id": "1e26facf-d05a-4f93-bab2-8a245a9d5b31",
   "metadata": {},
   "outputs": [
    {
     "data": {
      "text/plain": [
       "'/data/heerak/music_vae/train/model.ckpt-10000'"
      ]
     },
     "execution_count": 19,
     "metadata": {},
     "output_type": "execute_result"
    }
   ],
   "source": [
    "# 사용하는 최신 checkpoint\n",
    "tf.train.latest_checkpoint(os.path.join(root_path, 'train'))"
   ]
  },
  {
   "cell_type": "code",
   "execution_count": 20,
   "id": "b416d654-b200-4ddd-8b90-3567849bdf91",
   "metadata": {},
   "outputs": [
    {
     "name": "stdout",
     "output_type": "stream",
     "text": [
      "Loading model...\n",
      "INFO:tensorflow:Building MusicVAE model with BidirectionalLstmEncoder, GrooveLstmDecoder, and hparams:\n",
      "{'max_seq_len': 64, 'z_size': 512, 'free_bits': 48, 'max_beta': 0.2, 'beta_rate': 0.0, 'batch_size': 1, 'grad_clip': 1.0, 'clip_mode': 'global_norm', 'grad_norm_clip_to_zero': 10000, 'learning_rate': 0.001, 'decay_rate': 0.9999, 'min_learning_rate': 1e-05, 'conditional': True, 'dec_rnn_size': [1024, 1024], 'enc_rnn_size': [2048, 2048], 'dropout_keep_prob': 0.3, 'sampling_schedule': 'constant', 'sampling_rate': 0.0, 'use_cudnn': False, 'residual_encoder': False, 'residual_decoder': False, 'control_preprocessing_rnn_size': [256]}\n"
     ]
    },
    {
     "name": "stderr",
     "output_type": "stream",
     "text": [
      "INFO:tensorflow:Building MusicVAE model with BidirectionalLstmEncoder, GrooveLstmDecoder, and hparams:\n",
      "{'max_seq_len': 64, 'z_size': 512, 'free_bits': 48, 'max_beta': 0.2, 'beta_rate': 0.0, 'batch_size': 1, 'grad_clip': 1.0, 'clip_mode': 'global_norm', 'grad_norm_clip_to_zero': 10000, 'learning_rate': 0.001, 'decay_rate': 0.9999, 'min_learning_rate': 1e-05, 'conditional': True, 'dec_rnn_size': [1024, 1024], 'enc_rnn_size': [2048, 2048], 'dropout_keep_prob': 0.3, 'sampling_schedule': 'constant', 'sampling_rate': 0.0, 'use_cudnn': False, 'residual_encoder': False, 'residual_decoder': False, 'control_preprocessing_rnn_size': [256]}\n"
     ]
    },
    {
     "name": "stdout",
     "output_type": "stream",
     "text": [
      "INFO:tensorflow:\n",
      "Encoder Cells (bidirectional):\n",
      "  units: [2048, 2048]\n",
      "\n"
     ]
    },
    {
     "name": "stderr",
     "output_type": "stream",
     "text": [
      "INFO:tensorflow:\n",
      "Encoder Cells (bidirectional):\n",
      "  units: [2048, 2048]\n",
      "\n"
     ]
    },
    {
     "name": "stdout",
     "output_type": "stream",
     "text": [
      "WARNING:tensorflow:`tf.nn.rnn_cell.MultiRNNCell` is deprecated. This class is equivalent as `tf.keras.layers.StackedRNNCells`, and will be replaced by that in Tensorflow 2.0.\n"
     ]
    },
    {
     "name": "stderr",
     "output_type": "stream",
     "text": [
      "WARNING:tensorflow:`tf.nn.rnn_cell.MultiRNNCell` is deprecated. This class is equivalent as `tf.keras.layers.StackedRNNCells`, and will be replaced by that in Tensorflow 2.0.\n"
     ]
    },
    {
     "name": "stdout",
     "output_type": "stream",
     "text": [
      "WARNING:tensorflow:`tf.nn.rnn_cell.MultiRNNCell` is deprecated. This class is equivalent as `tf.keras.layers.StackedRNNCells`, and will be replaced by that in Tensorflow 2.0.\n"
     ]
    },
    {
     "name": "stderr",
     "output_type": "stream",
     "text": [
      "WARNING:tensorflow:`tf.nn.rnn_cell.MultiRNNCell` is deprecated. This class is equivalent as `tf.keras.layers.StackedRNNCells`, and will be replaced by that in Tensorflow 2.0.\n"
     ]
    },
    {
     "name": "stdout",
     "output_type": "stream",
     "text": [
      "WARNING:tensorflow:`tf.nn.rnn_cell.MultiRNNCell` is deprecated. This class is equivalent as `tf.keras.layers.StackedRNNCells`, and will be replaced by that in Tensorflow 2.0.\n"
     ]
    },
    {
     "name": "stderr",
     "output_type": "stream",
     "text": [
      "WARNING:tensorflow:`tf.nn.rnn_cell.MultiRNNCell` is deprecated. This class is equivalent as `tf.keras.layers.StackedRNNCells`, and will be replaced by that in Tensorflow 2.0.\n"
     ]
    },
    {
     "name": "stdout",
     "output_type": "stream",
     "text": [
      "WARNING:tensorflow:`tf.nn.rnn_cell.MultiRNNCell` is deprecated. This class is equivalent as `tf.keras.layers.StackedRNNCells`, and will be replaced by that in Tensorflow 2.0.\n"
     ]
    },
    {
     "name": "stderr",
     "output_type": "stream",
     "text": [
      "WARNING:tensorflow:`tf.nn.rnn_cell.MultiRNNCell` is deprecated. This class is equivalent as `tf.keras.layers.StackedRNNCells`, and will be replaced by that in Tensorflow 2.0.\n"
     ]
    },
    {
     "name": "stdout",
     "output_type": "stream",
     "text": [
      "INFO:tensorflow:\n",
      "Decoder Cells:\n",
      "  units: [1024, 1024]\n",
      "\n"
     ]
    },
    {
     "name": "stderr",
     "output_type": "stream",
     "text": [
      "INFO:tensorflow:\n",
      "Decoder Cells:\n",
      "  units: [1024, 1024]\n",
      "\n"
     ]
    },
    {
     "name": "stdout",
     "output_type": "stream",
     "text": [
      "WARNING:tensorflow:`tf.nn.rnn_cell.MultiRNNCell` is deprecated. This class is equivalent as `tf.keras.layers.StackedRNNCells`, and will be replaced by that in Tensorflow 2.0.\n"
     ]
    },
    {
     "name": "stderr",
     "output_type": "stream",
     "text": [
      "WARNING:tensorflow:`tf.nn.rnn_cell.MultiRNNCell` is deprecated. This class is equivalent as `tf.keras.layers.StackedRNNCells`, and will be replaced by that in Tensorflow 2.0.\n",
      "/data/heerak/music_vae/venv/lib/python3.8/site-packages/magenta/models/music_vae/lstm_utils.py:94: UserWarning: `tf.layers.dense` is deprecated and will be removed in a future version. Please use `tf.keras.layers.Dense` instead.\n",
      "  tf.layers.dense(\n",
      "/data/heerak/music_vae/venv/lib/python3.8/site-packages/magenta/contrib/rnn.py:750: UserWarning: `layer.add_variable` is deprecated and will be removed in a future version. Please use the `layer.add_weight()` method instead.\n",
      "  self._kernel = self.add_variable(\n",
      "/data/heerak/music_vae/venv/lib/python3.8/site-packages/magenta/contrib/rnn.py:752: UserWarning: `layer.add_variable` is deprecated and will be removed in a future version. Please use the `layer.add_weight()` method instead.\n",
      "  self._bias = self.add_variable(\n"
     ]
    },
    {
     "name": "stdout",
     "output_type": "stream",
     "text": [
      "INFO:tensorflow:Restoring parameters from /data/heerak/music_vae/train/model.ckpt-10000\n"
     ]
    },
    {
     "name": "stderr",
     "output_type": "stream",
     "text": [
      "/data/heerak/music_vae/venv/lib/python3.8/site-packages/magenta/models/music_vae/base_model.py:195: UserWarning: `tf.layers.dense` is deprecated and will be removed in a future version. Please use `tf.keras.layers.Dense` instead.\n",
      "  mu = tf.layers.dense(\n",
      "/data/heerak/music_vae/venv/lib/python3.8/site-packages/magenta/models/music_vae/base_model.py:200: UserWarning: `tf.layers.dense` is deprecated and will be removed in a future version. Please use `tf.keras.layers.Dense` instead.\n",
      "  sigma = tf.layers.dense(\n",
      "INFO:tensorflow:Restoring parameters from /data/heerak/music_vae/train/model.ckpt-10000\n"
     ]
    },
    {
     "name": "stdout",
     "output_type": "stream",
     "text": [
      "Sampling...\n",
      "Done.\n"
     ]
    }
   ],
   "source": [
    "generate(CONFIG_MAP, 'output')"
   ]
  },
  {
   "cell_type": "code",
   "execution_count": null,
   "id": "aa42e835-dcb7-4128-a0a9-929281b83f33",
   "metadata": {},
   "outputs": [],
   "source": []
  }
 ],
 "metadata": {
  "kernelspec": {
   "display_name": "music_vae",
   "language": "python",
   "name": "music_vae"
  },
  "language_info": {
   "codemirror_mode": {
    "name": "ipython",
    "version": 3
   },
   "file_extension": ".py",
   "mimetype": "text/x-python",
   "name": "python",
   "nbconvert_exporter": "python",
   "pygments_lexer": "ipython3",
   "version": "3.8.16"
  }
 },
 "nbformat": 4,
 "nbformat_minor": 5
}
